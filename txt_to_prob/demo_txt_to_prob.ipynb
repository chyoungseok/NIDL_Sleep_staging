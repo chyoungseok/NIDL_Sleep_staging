{
 "cells": [
  {
   "cell_type": "markdown",
   "metadata": {},
   "source": [
    "- input: 6 ch EEG (F3, F4, C3, C4, O1, O2) + 2 ch ground (A1, A2)\n",
    "- output: probabilistic hypnogram\n",
    "\n",
    "step1. Load txt  \n",
    "step2. Re-referencing  \n",
    "step3. Create instances of mne.raw  \n",
    "step4. Cropping to make the length of time 5h 30m  \n",
    "step5. Automatic sleep staging using YASA for all six EEG channels  \n",
    "step6. Ensamble and get the probabilistic hypnogram after ensamble  "
   ]
  },
  {
   "cell_type": "code",
   "execution_count": 12,
   "metadata": {},
   "outputs": [
    {
     "name": "stdout",
     "output_type": "stream",
     "text": [
      "Load subject's ID\n"
     ]
    }
   ],
   "source": [
    "import os\n",
    "import pandas as pd\n",
    "import txt_to_prob as tp\n",
    "\n",
    "# 각 class 별, subject ID read\n",
    "print(\"Load subject's ID\")\n",
    "# print('-- Read PSG_list2.xlsx')\n",
    "df_subject_ID = pd.read_csv('D:\\\\USC\\\\code_mine\\\\txt_to_prob\\\\subject_info\\\\PSG_list_by_CYS.csv', index_col=0)\n",
    "\n",
    "pd_healthy = df_subject_ID.iloc[:,0].dropna()\n",
    "pd_OSA = df_subject_ID.iloc[:,1].dropna()\n",
    "pd_INS = df_subject_ID.iloc[:,2].dropna()\n",
    "pd_COMISA = df_subject_ID.iloc[:,3].dropna()\n",
    "\n",
    "# pd_total = pd.concat([pd_healthy, pd_OSA, pd_INS, pd_COMISA])\n",
    "# print(\"-- Number of subjects: Healthy({}), OSA({}), Insomnia({}), COMISA({})\"\n",
    "#       .format(len(pd_healthy), len(pd_OSA), len(pd_INS), len(pd_COMISA)))\n",
    "# print(\"-- Total: {}\".format(len(pd_total)))\n",
    "\n",
    "# path_txt = 'E:\\\\samsung_original\\\\ensamble_test' # txt 파일이 저장되어 있는 경로\n",
    "# txt_subjects = pd.Series(os.listdir(path_txt)) # 모든 txt 파일의 filename이 담겨 있는 pd.Series\n"
   ]
  },
  {
   "cell_type": "code",
   "execution_count": 16,
   "metadata": {},
   "outputs": [
    {
     "data": {
      "text/plain": [
       "0      PE141014\n",
       "1      PE141019\n",
       "2      PE141020\n",
       "3      PE141038\n",
       "4      PE141039\n",
       "         ...   \n",
       "780    PE191608\n",
       "781    PE191614\n",
       "782    PE191617\n",
       "783     ST17013\n",
       "784     ST17020\n",
       "Name: COMISA(n=785), Length: 785, dtype: object"
      ]
     },
     "execution_count": 16,
     "metadata": {},
     "output_type": "execute_result"
    }
   ],
   "source": [
    "pd_COMISA"
   ]
  },
  {
   "cell_type": "code",
   "execution_count": null,
   "metadata": {},
   "outputs": [],
   "source": [
    "QNAN = []\n",
    "for sub_ID in pd_total:\n",
    "    # Read txt files and extract eeg data for all channels\n",
    "    txt2np = tp.txt2np(path_txt, txt_subjects, sub_ID)\n",
    "    txt2np.txt_filenames()\n",
    "    if len(txt2np.temp_txt_subjects) == 0:\n",
    "          continue\n",
    "    np_all_eeg = txt2np.read_txt()\n",
    "    QNAN.append(txt2np.QNAN_dic)\n",
    "    # Create mne.raw instance \n",
    "    # - data: np_all_eeg\n",
    "    # - raw.info['subject_info']['his_id']: subject ID\n",
    "    # - preprocessing: re_referencing + cropping\n",
    "    # - raw.ch_names: ['F3-A2', 'F4-A1', 'C3-A2', 'C4-A1', 'O1-A2', 'O2-A1']\n",
    "    np2raw = tp.np2raw(sub_ID)\n",
    "    np2raw.np2raw(np_all_eeg)\n",
    "    np2raw.re_ref()\n",
    "    raw_re_ref_cropped = np2raw.raw_cropping()\n",
    "\n",
    "    # Automatic Sleep Staging\n",
    "    # - apply ensamble using all six eeg channels\n",
    "    # - automatiaclly saved\n",
    "    #   current directory\n",
    "    #   -- hypnograms\n",
    "    #   -- -- subject_1\n",
    "    #   -- -- subject_2\n",
    "    #   -- -- ...\n",
    "    #   -- -- subject_n\n",
    "    #   -- -- -- predicted_hypnogram.csv\n",
    "    #   -- -- -- probabilistic_hypnogram.csv\n",
    "    automatic_staging = tp.automatic_staging()\n",
    "    automatic_staging.get_hypnos_and_probs(raw_re_ref_cropped)\n",
    "    automatic_staging.ensamble_stagig()\n"
   ]
  },
  {
   "cell_type": "code",
   "execution_count": null,
   "metadata": {},
   "outputs": [],
   "source": [
    "QNAN"
   ]
  }
 ],
 "metadata": {
  "interpreter": {
   "hash": "131b61df41b7a9e44a731ca87c7f9c007eef4be7463370e4edb7a9f329aa519d"
  },
  "kernelspec": {
   "display_name": "Python 3.9.7 ('env_yasa')",
   "language": "python",
   "name": "python3"
  },
  "language_info": {
   "codemirror_mode": {
    "name": "ipython",
    "version": 3
   },
   "file_extension": ".py",
   "mimetype": "text/x-python",
   "name": "python",
   "nbconvert_exporter": "python",
   "pygments_lexer": "ipython3",
   "version": "3.9.7"
  },
  "orig_nbformat": 4
 },
 "nbformat": 4,
 "nbformat_minor": 2
}
