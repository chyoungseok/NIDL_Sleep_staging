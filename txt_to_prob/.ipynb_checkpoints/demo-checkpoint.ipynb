{
 "cells": [
  {
   "cell_type": "markdown",
   "id": "466ad515",
   "metadata": {},
   "source": [
    "- input: 6 ch EEG (F3, F4, C3, C4, O1, O2) + 2 ch ground (A1, A2)\n",
    "- output: probabilistic hypnogram\n",
    "\n",
    "step1. Load txt  \n",
    "step2. Re-referencing  \n",
    "step3. Create instances of mne.raw  \n",
    "step4. Cropping to make the length of time 5h 30m  \n",
    "step5. Automatic sleep staging using YASA for all six EEG channels  \n",
    "step6. Ensamble and get the probabilistic hypnogram after ensamble  "
   ]
  },
  {
   "cell_type": "code",
   "execution_count": 1,
   "id": "36777906",
   "metadata": {},
   "outputs": [],
   "source": [
    "import os\n",
    "import numpy as np\n",
    "import pandas as pd"
   ]
  },
  {
   "cell_type": "code",
   "execution_count": 2,
   "id": "5fe5b3ff",
   "metadata": {
    "scrolled": true
   },
   "outputs": [
    {
     "name": "stdout",
     "output_type": "stream",
     "text": [
      "Number of subjects: Healthy(1186), OSA(1715), Insomnia(649), COMISA(672)\n",
      "Total: 4222\n"
     ]
    }
   ],
   "source": [
    "# 각 class 별, subject ID read\n",
    "df_subject_ID = pd.read_excel('PSG_list2.xlsx')\n",
    "\n",
    "np_healthy = np.char.strip(np.array(df_subject_ID.iloc[:,0].dropna().values, dtype='<U11'), chars='.h5')\n",
    "np_OSA = np.char.strip(np.array(df_subject_ID.iloc[:,1].dropna().values, dtype='<U11'), chars='.h5')\n",
    "np_INS = np.char.strip(np.array(df_subject_ID.iloc[:,2].dropna().values, dtype='<U11'), chars='.h5')\n",
    "np_COMISA = np.char.strip(np.array(df_subject_ID.iloc[:,3].dropna().values, dtype='<U11'), chars='.h5')\n",
    "\n",
    "print(\"Number of subjects: Healthy({}), OSA({}), Insomnia({}), COMISA({})\"\n",
    "      .format(len(np_healthy), len(np_OSA), len(np_INS), len(np_COMISA)))\n",
    "print(\"Total: {}\".format(sum([len(np_healthy), len(np_OSA), len(np_INS), len(np_COMISA)])))"
   ]
  }
 ],
 "metadata": {
  "kernelspec": {
   "display_name": "Python 3 (ipykernel)",
   "language": "python",
   "name": "python3"
  },
  "language_info": {
   "codemirror_mode": {
    "name": "ipython",
    "version": 3
   },
   "file_extension": ".py",
   "mimetype": "text/x-python",
   "name": "python",
   "nbconvert_exporter": "python",
   "pygments_lexer": "ipython3",
   "version": "3.9.7"
  }
 },
 "nbformat": 4,
 "nbformat_minor": 5
}
