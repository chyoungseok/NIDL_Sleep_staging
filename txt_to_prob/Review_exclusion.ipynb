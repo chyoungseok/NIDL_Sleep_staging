{
 "cells": [
  {
   "cell_type": "markdown",
   "metadata": {},
   "source": [
    "1. probabilistic hypnogram의 sub_ID를 모두 읽어 온다\n",
    "2. df_origin에서 각 sub_ID의 정보를 가져온다 (['환자번호', '이름', 'age', \n",
    "'PSG study Number#', 'TIB - Total Recording time (min)', 'Sleep latency (min)', 'AHI - Total index A+H', 'ISI  Total-2'])"
   ]
  },
  {
   "cell_type": "code",
   "execution_count": 1,
   "metadata": {},
   "outputs": [],
   "source": [
    "import os\n",
    "import glob\n",
    "import pandas as pd\n",
    "import numpy as np"
   ]
  },
  {
   "cell_type": "code",
   "execution_count": 4,
   "metadata": {},
   "outputs": [
    {
     "name": "stdout",
     "output_type": "stream",
     "text": [
      "['E:\\\\samsung_original\\\\whole_data_txt\\\\data1_prob', 'E:\\\\samsung_original\\\\whole_data_txt\\\\data2_prob', 'E:\\\\samsung_original\\\\whole_data_txt\\\\data3_prob', 'E:\\\\samsung_original\\\\whole_data_txt\\\\data4_prob', 'E:\\\\samsung_original\\\\whole_data_txt\\\\data5_prob']\n"
     ]
    }
   ],
   "source": [
    "# original info\n",
    "df = pd.read_excel('subject_info\\\\Brain age_PSG_raw_Total_201216(whole_data).xlsx')#, index_col=0)#, encoding='ISO-8859-1')\n",
    "df = df.iloc[2:, :]\n",
    "df.columns = df.iloc[0,:]\n",
    "df.drop(index=[2], inplace=True)\n",
    "df['age'] = df['age'].copy()*(-1)\n",
    "df_origin = df.copy()\n",
    "\n",
    "# excluded info\n",
    "df_subject_ID = pd.read_csv('D:\\\\USC\\\\code_mine\\\\txt_to_prob\\\\subject_info\\\\PSG_list_by_CYS.csv')\n",
    "pd_healthy = df_subject_ID.iloc[:,0].dropna()\n",
    "pd_OSA = df_subject_ID.iloc[:,1].dropna()\n",
    "pd_INS = df_subject_ID.iloc[:,2].dropna()\n",
    "pd_COMISA = df_subject_ID.iloc[:,3].dropna()\n",
    "\n",
    "# info after conversion\n",
    "path_prob = 'E:\\\\samsung_original\\\\whole_data_txt'\n",
    "list_prob_dir = glob.glob(os.path.join(path_prob, '*prob'))\n",
    "print(list_prob_dir)"
   ]
  },
  {
   "cell_type": "code",
   "execution_count": 8,
   "metadata": {},
   "outputs": [
    {
     "data": {
      "text/html": [
       "<div>\n",
       "<style scoped>\n",
       "    .dataframe tbody tr th:only-of-type {\n",
       "        vertical-align: middle;\n",
       "    }\n",
       "\n",
       "    .dataframe tbody tr th {\n",
       "        vertical-align: top;\n",
       "    }\n",
       "\n",
       "    .dataframe thead th {\n",
       "        text-align: right;\n",
       "    }\n",
       "</style>\n",
       "<table border=\"1\" class=\"dataframe\">\n",
       "  <thead>\n",
       "    <tr style=\"text-align: right;\">\n",
       "      <th></th>\n",
       "      <th>Healthy(n=1283)</th>\n",
       "      <th>OSA(n=1933)</th>\n",
       "      <th>Insomnia(n=727)</th>\n",
       "      <th>COMISA(n=785)</th>\n",
       "    </tr>\n",
       "  </thead>\n",
       "  <tbody>\n",
       "    <tr>\n",
       "      <th>0</th>\n",
       "      <td>LE001</td>\n",
       "      <td>LE026</td>\n",
       "      <td>PE160128</td>\n",
       "      <td>PE141014</td>\n",
       "    </tr>\n",
       "    <tr>\n",
       "      <th>1</th>\n",
       "      <td>LE002</td>\n",
       "      <td>LE036</td>\n",
       "      <td>N15003</td>\n",
       "      <td>PE141019</td>\n",
       "    </tr>\n",
       "    <tr>\n",
       "      <th>2</th>\n",
       "      <td>LE003</td>\n",
       "      <td>N15006</td>\n",
       "      <td>N15009</td>\n",
       "      <td>PE141020</td>\n",
       "    </tr>\n",
       "    <tr>\n",
       "      <th>3</th>\n",
       "      <td>LE006</td>\n",
       "      <td>N15007</td>\n",
       "      <td>PE141015</td>\n",
       "      <td>PE141038</td>\n",
       "    </tr>\n",
       "    <tr>\n",
       "      <th>4</th>\n",
       "      <td>LE007</td>\n",
       "      <td>PE141017</td>\n",
       "      <td>PE141022</td>\n",
       "      <td>PE141039</td>\n",
       "    </tr>\n",
       "    <tr>\n",
       "      <th>...</th>\n",
       "      <td>...</td>\n",
       "      <td>...</td>\n",
       "      <td>...</td>\n",
       "      <td>...</td>\n",
       "    </tr>\n",
       "    <tr>\n",
       "      <th>1928</th>\n",
       "      <td>NaN</td>\n",
       "      <td>ST17015</td>\n",
       "      <td>NaN</td>\n",
       "      <td>NaN</td>\n",
       "    </tr>\n",
       "    <tr>\n",
       "      <th>1929</th>\n",
       "      <td>NaN</td>\n",
       "      <td>ST17019</td>\n",
       "      <td>NaN</td>\n",
       "      <td>NaN</td>\n",
       "    </tr>\n",
       "    <tr>\n",
       "      <th>1930</th>\n",
       "      <td>NaN</td>\n",
       "      <td>ST17027</td>\n",
       "      <td>NaN</td>\n",
       "      <td>NaN</td>\n",
       "    </tr>\n",
       "    <tr>\n",
       "      <th>1931</th>\n",
       "      <td>NaN</td>\n",
       "      <td>ST17030</td>\n",
       "      <td>NaN</td>\n",
       "      <td>NaN</td>\n",
       "    </tr>\n",
       "    <tr>\n",
       "      <th>1932</th>\n",
       "      <td>NaN</td>\n",
       "      <td>ST17031</td>\n",
       "      <td>NaN</td>\n",
       "      <td>NaN</td>\n",
       "    </tr>\n",
       "  </tbody>\n",
       "</table>\n",
       "<p>1933 rows × 4 columns</p>\n",
       "</div>"
      ],
      "text/plain": [
       "     Healthy(n=1283) OSA(n=1933) Insomnia(n=727) COMISA(n=785)\n",
       "0              LE001       LE026        PE160128      PE141014\n",
       "1              LE002       LE036          N15003      PE141019\n",
       "2              LE003      N15006          N15009      PE141020\n",
       "3              LE006      N15007        PE141015      PE141038\n",
       "4              LE007    PE141017        PE141022      PE141039\n",
       "...              ...         ...             ...           ...\n",
       "1928             NaN     ST17015             NaN           NaN\n",
       "1929             NaN     ST17019             NaN           NaN\n",
       "1930             NaN     ST17027             NaN           NaN\n",
       "1931             NaN     ST17030             NaN           NaN\n",
       "1932             NaN     ST17031             NaN           NaN\n",
       "\n",
       "[1933 rows x 4 columns]"
      ]
     },
     "execution_count": 8,
     "metadata": {},
     "output_type": "execute_result"
    }
   ],
   "source": [
    "df_subject_ID"
   ]
  },
  {
   "cell_type": "code",
   "execution_count": 6,
   "metadata": {},
   "outputs": [],
   "source": [
    "df_origin = df_origin[['환자번호', '이름', 'age', \n",
    "'PSG study Number#', 'TIB - Total Recording time (min)', 'Sleep latency (min)', 'AHI - Total index A+H', 'ISI  Total-2']]"
   ]
  },
  {
   "cell_type": "code",
   "execution_count": 11,
   "metadata": {},
   "outputs": [
    {
     "data": {
      "text/plain": [
       "3       False\n",
       "4       False\n",
       "5        True\n",
       "6       False\n",
       "7       False\n",
       "        ...  \n",
       "5280    False\n",
       "5281    False\n",
       "5282    False\n",
       "5283    False\n",
       "5284    False\n",
       "Name: PSG study Number#, Length: 5282, dtype: bool"
      ]
     },
     "execution_count": 11,
     "metadata": {},
     "output_type": "execute_result"
    }
   ],
   "source": [
    "df_origin['PSG study Number#'].str.contains('LE002')"
   ]
  }
 ],
 "metadata": {
  "interpreter": {
   "hash": "131b61df41b7a9e44a731ca87c7f9c007eef4be7463370e4edb7a9f329aa519d"
  },
  "kernelspec": {
   "display_name": "Python 3.9.7 ('env_yasa')",
   "language": "python",
   "name": "python3"
  },
  "language_info": {
   "codemirror_mode": {
    "name": "ipython",
    "version": 3
   },
   "file_extension": ".py",
   "mimetype": "text/x-python",
   "name": "python",
   "nbconvert_exporter": "python",
   "pygments_lexer": "ipython3",
   "version": "3.9.7"
  },
  "orig_nbformat": 4
 },
 "nbformat": 4,
 "nbformat_minor": 2
}
