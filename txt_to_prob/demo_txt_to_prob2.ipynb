{
 "cells": [
  {
   "cell_type": "code",
   "execution_count": 2,
   "metadata": {},
   "outputs": [
    {
     "name": "stdout",
     "output_type": "stream",
     "text": [
      "Load subject's ID\n",
      "-- Number of subjects: Healthy(1283), OSA(1933), Insomnia(727), COMISA(785)\n",
      "-- Total: 4728\n",
      "Number of txt files: 690\n"
     ]
    }
   ],
   "source": [
    "import os\n",
    "from tqdm import tqdm\n",
    "import pandas as pd\n",
    "import txt_to_prob as tp\n",
    "\n",
    "# 각 class 별, subject ID read\n",
    "print(\"Load subject's ID\")\n",
    "# print('-- Read PSG_list2.xlsx')\n",
    "df_subject_ID = pd.read_csv('D:\\\\USC\\\\code_mine\\\\txt_to_prob\\\\subject_info\\\\PSG_list_by_CYS.csv')\n",
    "\n",
    "pd_healthy = df_subject_ID.iloc[:,0].dropna()\n",
    "pd_OSA = df_subject_ID.iloc[:,1].dropna()\n",
    "pd_INS = df_subject_ID.iloc[:,2].dropna()\n",
    "pd_COMISA = df_subject_ID.iloc[:,3].dropna()\n",
    "\n",
    "pd_total = pd.concat([pd_healthy, pd_OSA, pd_INS, pd_COMISA])\n",
    "print(\"-- Number of subjects: Healthy({}), OSA({}), Insomnia({}), COMISA({})\"\n",
    "      .format(len(pd_healthy), len(pd_OSA), len(pd_INS), len(pd_COMISA)))\n",
    "print(\"-- Total: {}\".format(len(pd_total)))\n",
    "\n",
    "# path_txt = 'E:\\\\samsung_original\\\\ensamble_test' # txt 파일이 저장되어 있는 경로/\n",
    "path_txt = 'E:\\\\samsung_original\\\\whole_data_txt\\\\data3' # txt 파일이 저장되어 있는 경로\n",
    "txt_subjects = pd.Series(os.listdir(path_txt)) # 모든 txt 파일의 filename이 담겨 있는 pd.Series\n",
    "\n",
    "df_SOL = pd.read_csv('subject_info\\\\all_class.csv', index_col=0)\n",
    "\n",
    "print('Number of txt files: {}'.format(txt_subjects.size))\n",
    "\n",
    "# 이미 probabilistic hypnogram이 생성된 subject list\n",
    "# path_prob_hyp = 'E:\\\\probabilistic_hypnogram'\n",
    "path_prob_hyp = 'E:\\\\samsung_original\\\\whole_data_txt\\\\data3_prob'\n",
    "list_hyp_exist = os.listdir(path_prob_hyp)\n",
    "\n",
    "path_save = 'E:\\\\samsung_original\\\\whole_data_txt\\\\data3_prob'"
   ]
  },
  {
   "cell_type": "code",
   "execution_count": 3,
   "metadata": {},
   "outputs": [
    {
     "name": "stderr",
     "output_type": "stream",
     "text": [
      "Processing data1 (n=1499) ... : 100%|██████████| 4728/4728 [1:17:25<00:00,  1.02it/s]  \n"
     ]
    }
   ],
   "source": [
    "QNAN = []\n",
    "for sub_ID in tqdm(pd_total,desc='Processing data1 (n=1499) ... '):\n",
    "      sub_ID = sub_ID.upper()\n",
    "      if sub_ID in list_hyp_exist:\n",
    "            # 이미 probabilistic hypnogram이 있는 경우, pass !\n",
    "      #     print('Already processed subject ... ')\n",
    "            continue \n",
    "      \n",
    "      # Read txt files and extract eeg data for all channels\n",
    "      txt2np = tp.txt2np(path_txt, txt_subjects, sub_ID)\n",
    "      txt2np.txt_filenames()\n",
    "\n",
    "      if len(txt2np.temp_txt_subjects) < 2:\n",
    "            continue\n",
    "      np_all_eeg = txt2np.read_txt()\n",
    "\n",
    "      if np_all_eeg.shape[0] == 0:\n",
    "            # txt 파일이 비어 있는 경우 pass\n",
    "            continue\n",
    "\n",
    "      QNAN.append(txt2np.QNAN_dic)\n",
    "\n",
    "      # Create mne.raw instance \n",
    "      # - data: np_all_eeg\n",
    "      # - raw.info['subject_info']['his_id']: subject ID\n",
    "      # - preprocessing: re_referencing + cropping\n",
    "      # - raw.ch_names: ['F3-A2', 'F4-A1', 'C3-A2', 'C4-A1', 'O1-A2', 'O2-A1']\n",
    "\n",
    "      SOL = df_SOL.loc[sub_ID, 'Sleep latency (min)']\n",
    "      np2raw = tp.np2raw(sub_ID, SOL)\n",
    "      np2raw.np2raw(np_all_eeg)\n",
    "      # len_np - SOL < 330 인 경우, pass\n",
    "      if (np_all_eeg.shape[1]/np2raw.temp_sfreq/60 - SOL) < 330:\n",
    "            continue\n",
    "      np2raw.re_ref()\n",
    "      raw_re_ref_cropped = np2raw.raw_cropping()\n",
    "\n",
    "      # Automatic Sleep Staging\n",
    "      # - apply ensamble using all six eeg channels\n",
    "      # - automatiaclly saved\n",
    "      #   current directory\n",
    "      #   -- hypnograms\n",
    "      #   -- -- subject_1\n",
    "      #   -- -- subject_2\n",
    "      #   -- -- ...\n",
    "      #   -- -- subject_n\n",
    "      #   -- -- -- predicted_hypnogram.csv\n",
    "      #   -- -- -- probabilistic_hypnogram.csv\n",
    "      automatic_staging = tp.automatic_staging()\n",
    "      automatic_staging.get_hypnos_and_probs(raw_re_ref_cropped.copy())\n",
    "      automatic_staging.ensamble_stagig(path_save)"
   ]
  },
  {
   "cell_type": "code",
   "execution_count": 4,
   "metadata": {},
   "outputs": [],
   "source": [
    "df_final_dic = pd.DataFrame(columns = ['A1', 'C4'])\n",
    "for temp_dic in QNAN:\n",
    "    if len(temp_dic.keys()) != 0:\n",
    "        temp_sub_ID = list(temp_dic.keys())[0]\n",
    "        df_final_dic.loc[temp_sub_ID] = [0, 0]\n",
    "        if list(temp_dic.values())[0] == 'A1':\n",
    "            df_final_dic.loc[temp_sub_ID, 'A1'] = 1\n",
    "        elif list(temp_dic.values())[0] == 'C4':\n",
    "            df_final_dic.loc[temp_sub_ID, 'C4'] = 1\n"
   ]
  },
  {
   "cell_type": "code",
   "execution_count": 5,
   "metadata": {},
   "outputs": [
    {
     "name": "stdout",
     "output_type": "stream",
     "text": [
      "Number of QNAN in A1 \n",
      "1    138\n",
      "Name: A1, dtype: int64\n",
      "\n",
      "Number of QNAN in C4 \n",
      "0    138\n",
      "Name: C4, dtype: int64\n"
     ]
    },
    {
     "data": {
      "text/html": [
       "<div>\n",
       "<style scoped>\n",
       "    .dataframe tbody tr th:only-of-type {\n",
       "        vertical-align: middle;\n",
       "    }\n",
       "\n",
       "    .dataframe tbody tr th {\n",
       "        vertical-align: top;\n",
       "    }\n",
       "\n",
       "    .dataframe thead th {\n",
       "        text-align: right;\n",
       "    }\n",
       "</style>\n",
       "<table border=\"1\" class=\"dataframe\">\n",
       "  <thead>\n",
       "    <tr style=\"text-align: right;\">\n",
       "      <th></th>\n",
       "      <th>A1</th>\n",
       "      <th>C4</th>\n",
       "    </tr>\n",
       "  </thead>\n",
       "  <tbody>\n",
       "    <tr>\n",
       "      <th>PE150319</th>\n",
       "      <td>1</td>\n",
       "      <td>0</td>\n",
       "    </tr>\n",
       "    <tr>\n",
       "      <th>PE150332</th>\n",
       "      <td>1</td>\n",
       "      <td>0</td>\n",
       "    </tr>\n",
       "    <tr>\n",
       "      <th>PE150352</th>\n",
       "      <td>1</td>\n",
       "      <td>0</td>\n",
       "    </tr>\n",
       "    <tr>\n",
       "      <th>PE150400</th>\n",
       "      <td>1</td>\n",
       "      <td>0</td>\n",
       "    </tr>\n",
       "    <tr>\n",
       "      <th>PE150416</th>\n",
       "      <td>1</td>\n",
       "      <td>0</td>\n",
       "    </tr>\n",
       "    <tr>\n",
       "      <th>...</th>\n",
       "      <td>...</td>\n",
       "      <td>...</td>\n",
       "    </tr>\n",
       "    <tr>\n",
       "      <th>PE150682</th>\n",
       "      <td>1</td>\n",
       "      <td>0</td>\n",
       "    </tr>\n",
       "    <tr>\n",
       "      <th>PE150687</th>\n",
       "      <td>1</td>\n",
       "      <td>0</td>\n",
       "    </tr>\n",
       "    <tr>\n",
       "      <th>PE150692</th>\n",
       "      <td>1</td>\n",
       "      <td>0</td>\n",
       "    </tr>\n",
       "    <tr>\n",
       "      <th>PE150695</th>\n",
       "      <td>1</td>\n",
       "      <td>0</td>\n",
       "    </tr>\n",
       "    <tr>\n",
       "      <th>PE150696</th>\n",
       "      <td>1</td>\n",
       "      <td>0</td>\n",
       "    </tr>\n",
       "  </tbody>\n",
       "</table>\n",
       "<p>138 rows × 2 columns</p>\n",
       "</div>"
      ],
      "text/plain": [
       "          A1  C4\n",
       "PE150319   1   0\n",
       "PE150332   1   0\n",
       "PE150352   1   0\n",
       "PE150400   1   0\n",
       "PE150416   1   0\n",
       "...       ..  ..\n",
       "PE150682   1   0\n",
       "PE150687   1   0\n",
       "PE150692   1   0\n",
       "PE150695   1   0\n",
       "PE150696   1   0\n",
       "\n",
       "[138 rows x 2 columns]"
      ]
     },
     "execution_count": 5,
     "metadata": {},
     "output_type": "execute_result"
    }
   ],
   "source": [
    "print(\"Number of QNAN in A1 \\n{}\".format(df_final_dic['A1'].value_counts()))\n",
    "print(\"\\nNumber of QNAN in C4 \\n{}\".format(df_final_dic['C4'].value_counts()))\n",
    "df_final_dic"
   ]
  },
  {
   "cell_type": "code",
   "execution_count": 6,
   "metadata": {},
   "outputs": [],
   "source": [
    "\n",
    "df_final_dic.to_csv('D:\\\\USC\\\\code_mine\\\\txt_to_prob\\\\QNaN_inspection\\\\data3_QNaN.csv')"
   ]
  },
  {
   "cell_type": "code",
   "execution_count": null,
   "metadata": {},
   "outputs": [],
   "source": []
  }
 ],
 "metadata": {
  "interpreter": {
   "hash": "131b61df41b7a9e44a731ca87c7f9c007eef4be7463370e4edb7a9f329aa519d"
  },
  "kernelspec": {
   "display_name": "Python 3.9.7 ('env_yasa')",
   "language": "python",
   "name": "python3"
  },
  "language_info": {
   "codemirror_mode": {
    "name": "ipython",
    "version": 3
   },
   "file_extension": ".py",
   "mimetype": "text/x-python",
   "name": "python",
   "nbconvert_exporter": "python",
   "pygments_lexer": "ipython3",
   "version": "3.9.7"
  },
  "orig_nbformat": 4
 },
 "nbformat": 4,
 "nbformat_minor": 2
}
