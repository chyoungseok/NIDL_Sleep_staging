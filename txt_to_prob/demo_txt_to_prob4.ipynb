{
 "cells": [
  {
   "cell_type": "code",
   "execution_count": 3,
   "metadata": {},
   "outputs": [
    {
     "name": "stdout",
     "output_type": "stream",
     "text": [
      "Load subject's ID\n",
      "-- Total: 4946\n",
      "Number of txt files: 1130\n"
     ]
    },
    {
     "name": "stderr",
     "output_type": "stream",
     "text": [
      "C:\\Users\\CYS\\AppData\\Local\\Temp\\ipykernel_6984\\3713641121.py:8: FutureWarning: Inferring datetime64[ns] from data containing strings is deprecated and will be removed in a future version. To retain the old behavior explicitly pass Series(data, dtype=datetime64[ns])\n",
      "  df_PSG = pd.read_excel('subject_info\\\\Assigned_class_Excluded_on_age_nan_dot.xlsx')\n"
     ]
    }
   ],
   "source": [
    "import os\n",
    "from tqdm import tqdm\n",
    "import pandas as pd\n",
    "import txt_to_prob as tp\n",
    "\n",
    "# df_sub_ID, df_sub_ID_SOL 생성\n",
    "print(\"Load subject's ID\")\n",
    "df_PSG = pd.read_excel('subject_info\\\\Assigned_class_Excluded_on_age_nan_dot.xlsx')\n",
    "\n",
    "df_sub_ID = df_PSG.copy()['PSG study Number#']\n",
    "\n",
    "df_sub_ID_SOL = df_PSG.copy()[['PSG study Number#', 'Sleep latency (min)']]\n",
    "df_sub_ID_SOL.index = df_sub_ID_SOL['PSG study Number#']\n",
    "df_sub_ID_SOL.drop(columns=['PSG study Number#'], inplace=True)\n",
    "print(\"-- Total: {}\".format(len(df_sub_ID)))\n",
    "\n",
    "# txt 파일 관련 setting\n",
    "path_txt = 'E:\\\\samsung_original\\\\whole_data_txt\\\\data4' # txt 파일이 저장되어 있는 경로\n",
    "filenames_txt = pd.Series(os.listdir(path_txt)) # 모든 txt 파일의 filename이 담겨 있는 pd.Series\n",
    "print('Number of txt files: {}'.format(filenames_txt.size))\n",
    "\n",
    "# 이미 probabilistic hypnogram이 생성된 subject list\n",
    "# path_prob_hyp = 'E:\\\\probabilistic_hypnogram'\n",
    "path_save = 'E:\\\\samsung_original\\\\whole_data_txt\\\\data4_prob'\n",
    "list_existing_hyp = os.listdir(path_save)"
   ]
  },
  {
   "cell_type": "code",
   "execution_count": 4,
   "metadata": {},
   "outputs": [
    {
     "name": "stderr",
     "output_type": "stream",
     "text": [
      "Processing data4 ... : 100%|██████████| 4946/4946 [1:25:35<00:00,  1.04s/it]   \n"
     ]
    }
   ],
   "source": [
    "# QNAN = []\n",
    "# QNAN_with_conversion = []\n",
    "# list_excluded_1 = []\n",
    "# list_excluded_2 = []\n",
    "# list_excluded_3 = []\n",
    "for sub_ID in tqdm(df_sub_ID, desc='Processing data4 ... '):      \n",
    "      # exclusion\n",
    "      #     1. A1과 C4가 모두 존재 하지 않는 경우 (sub_ID가 포함된 파일 이름을 읽은 list의 요소 개수 검사)\n",
    "      #     2. txt 파일이 비어 있는 경우 (txt2np class에서 txt 파일이 비어 있는 경우, empty array를 반환하도록 설정)\n",
    "      #     3. TIB-SOL < 330 인 경우 (np2raw class에서 array의 길이와 sub_ID에 따른 sampling rate를 이용하여 직접 TIB 계산)\n",
    "\n",
    "      sub_ID = sub_ID.upper()\n",
    "      if sub_ID in list_existing_hyp:\n",
    "            # 이미 probabilistic hypnogram이 있는 경우, pass !\n",
    "            # print('Already processed subject ... ')\n",
    "            continue \n",
    "      \n",
    "      # Read txt files and extract eeg data for all channels\n",
    "      txt2np = tp.txt2np(path_txt, filenames_txt, sub_ID) # initialize txt2np class\n",
    "      txt2np.txt_filename_with_sub_ID() # get filenames containing sub_ID\n",
    "\n",
    "      if len(txt2np.temp_txt_subjects) < 2:\n",
    "            # exclusion !\n",
    "            # A1과 C4가 모두 존재 하지 않는 경우\n",
    "            list_excluded_1.append(sub_ID)\n",
    "            continue\n",
    "\n",
    "      np_all_eeg = txt2np.read_txt() # read EEG data into np.array\n",
    "\n",
    "      if np_all_eeg.shape[0] == 0:\n",
    "            # exclusion !\n",
    "            # txt 파일이 비어 있는 경우 pass\n",
    "            list_excluded_2.append(sub_ID)\n",
    "            continue\n",
    "      QNAN.append(txt2np.QNAN_dic) # SOL을 고려하기 직전까지 배제되지 않은 subject에 대한 QNAN 정보\n",
    "\n",
    "      # Create mne.raw instance \n",
    "      # - data: np_all_eeg\n",
    "      # - raw.info['subject_info']['his_id']: subject ID\n",
    "      # - preprocessing: re_referencing + cropping\n",
    "      # - raw.ch_names: ['F3-A2', 'F4-A1', 'C3-A2', 'C4-A1', 'O1-A2', 'O2-A1']\n",
    "\n",
    "      SOL = df_sub_ID_SOL.loc[sub_ID, 'Sleep latency (min)']\n",
    "      np2raw = tp.np2raw(sub_ID, SOL)\n",
    "      np2raw.np2raw(np_all_eeg)\n",
    "\n",
    "      # exclusion !\n",
    "      # len_np - SOL < 330 인 경우, pass\n",
    "      if (np_all_eeg.shape[1]/np2raw.temp_sfreq/60 - SOL) < 330:\n",
    "            list_excluded_3.append(sub_ID)\n",
    "            continue\n",
    "\n",
    "      np2raw.re_ref()\n",
    "      raw_re_ref_cropped = np2raw.raw_cropping()\n",
    "      \n",
    "      QNAN_with_conversion.append(txt2np.QNAN_dic) # 실제 conversion까지 완료된 subjec들에 대한 QNAN 정보\n",
    "\n",
    "      # Automatic Sleep Staging\n",
    "      # - apply ensamble using all six eeg channels\n",
    "      # - automatiaclly saved\n",
    "      #   current directory\n",
    "      #   -- hypnograms\n",
    "      #   -- -- subject_1\n",
    "      #   -- -- subject_2\n",
    "      #   -- -- ...\n",
    "      #   -- -- subject_n\n",
    "      #   -- -- -- predicted_hypnogram.csv\n",
    "      #   -- -- -- probabilistic_hypnogram.csv\n",
    "      automatic_staging = tp.automatic_staging()\n",
    "      automatic_staging.get_hypnos_and_probs(raw_re_ref_cropped.copy())\n",
    "      automatic_staging.ensamble_stagig(path_save)"
   ]
  },
  {
   "cell_type": "code",
   "execution_count": 5,
   "metadata": {},
   "outputs": [
    {
     "name": "stdout",
     "output_type": "stream",
     "text": [
      "520\n",
      "502\n"
     ]
    }
   ],
   "source": [
    "print(len(QNAN))\n",
    "print(len(QNAN_with_conversion))"
   ]
  },
  {
   "cell_type": "code",
   "execution_count": 6,
   "metadata": {},
   "outputs": [],
   "source": [
    "df_QNAN = pd.DataFrame(columns = ['A1', 'C4'])\n",
    "for temp_dic in QNAN:\n",
    "    if len(temp_dic.keys()) != 0:\n",
    "        temp_sub_ID = list(temp_dic.keys())[0]\n",
    "        df_QNAN.loc[temp_sub_ID] = [0, 0]\n",
    "        if list(temp_dic.values())[0] == 'A1':\n",
    "            df_QNAN.loc[temp_sub_ID, 'A1'] = 1\n",
    "        elif list(temp_dic.values())[0] == 'C4':\n",
    "            df_QNAN.loc[temp_sub_ID, 'C4'] = 1\n",
    "\n",
    "df_QNAN_conversion = pd.DataFrame(columns = ['A1', 'C4'])\n",
    "for temp_dic in QNAN_with_conversion:\n",
    "    if len(temp_dic.keys()) != 0:\n",
    "        temp_sub_ID = list(temp_dic.keys())[0]\n",
    "        df_QNAN_conversion.loc[temp_sub_ID] = [0, 0]\n",
    "        if list(temp_dic.values())[0] == 'A1':\n",
    "            df_QNAN_conversion.loc[temp_sub_ID, 'A1'] = 1\n",
    "        elif list(temp_dic.values())[0] == 'C4':\n",
    "            df_QNAN_conversion.loc[temp_sub_ID, 'C4'] = 1\n"
   ]
  },
  {
   "cell_type": "code",
   "execution_count": 7,
   "metadata": {},
   "outputs": [
    {
     "name": "stdout",
     "output_type": "stream",
     "text": [
      "Number of QNAN in A1 \n",
      "1    272\n",
      "Name: A1, dtype: int64\n",
      "\n",
      "Number of QNAN in C4 \n",
      "0    272\n",
      "Name: C4, dtype: int64\n"
     ]
    },
    {
     "data": {
      "text/html": [
       "<div>\n",
       "<style scoped>\n",
       "    .dataframe tbody tr th:only-of-type {\n",
       "        vertical-align: middle;\n",
       "    }\n",
       "\n",
       "    .dataframe tbody tr th {\n",
       "        vertical-align: top;\n",
       "    }\n",
       "\n",
       "    .dataframe thead th {\n",
       "        text-align: right;\n",
       "    }\n",
       "</style>\n",
       "<table border=\"1\" class=\"dataframe\">\n",
       "  <thead>\n",
       "    <tr style=\"text-align: right;\">\n",
       "      <th></th>\n",
       "      <th>A1</th>\n",
       "      <th>C4</th>\n",
       "    </tr>\n",
       "  </thead>\n",
       "  <tbody>\n",
       "    <tr>\n",
       "      <th>PE150707</th>\n",
       "      <td>1</td>\n",
       "      <td>0</td>\n",
       "    </tr>\n",
       "    <tr>\n",
       "      <th>PE150708</th>\n",
       "      <td>1</td>\n",
       "      <td>0</td>\n",
       "    </tr>\n",
       "    <tr>\n",
       "      <th>PE150710</th>\n",
       "      <td>1</td>\n",
       "      <td>0</td>\n",
       "    </tr>\n",
       "    <tr>\n",
       "      <th>PE150727</th>\n",
       "      <td>1</td>\n",
       "      <td>0</td>\n",
       "    </tr>\n",
       "    <tr>\n",
       "      <th>PE150728</th>\n",
       "      <td>1</td>\n",
       "      <td>0</td>\n",
       "    </tr>\n",
       "    <tr>\n",
       "      <th>...</th>\n",
       "      <td>...</td>\n",
       "      <td>...</td>\n",
       "    </tr>\n",
       "    <tr>\n",
       "      <th>PE170942</th>\n",
       "      <td>1</td>\n",
       "      <td>0</td>\n",
       "    </tr>\n",
       "    <tr>\n",
       "      <th>PE170943</th>\n",
       "      <td>1</td>\n",
       "      <td>0</td>\n",
       "    </tr>\n",
       "    <tr>\n",
       "      <th>PE170947</th>\n",
       "      <td>1</td>\n",
       "      <td>0</td>\n",
       "    </tr>\n",
       "    <tr>\n",
       "      <th>PE170949</th>\n",
       "      <td>1</td>\n",
       "      <td>0</td>\n",
       "    </tr>\n",
       "    <tr>\n",
       "      <th>PE170950</th>\n",
       "      <td>1</td>\n",
       "      <td>0</td>\n",
       "    </tr>\n",
       "  </tbody>\n",
       "</table>\n",
       "<p>272 rows × 2 columns</p>\n",
       "</div>"
      ],
      "text/plain": [
       "          A1  C4\n",
       "PE150707   1   0\n",
       "PE150708   1   0\n",
       "PE150710   1   0\n",
       "PE150727   1   0\n",
       "PE150728   1   0\n",
       "...       ..  ..\n",
       "PE170942   1   0\n",
       "PE170943   1   0\n",
       "PE170947   1   0\n",
       "PE170949   1   0\n",
       "PE170950   1   0\n",
       "\n",
       "[272 rows x 2 columns]"
      ]
     },
     "execution_count": 7,
     "metadata": {},
     "output_type": "execute_result"
    }
   ],
   "source": [
    "print(\"Number of QNAN in A1 \\n{}\".format(df_QNAN['A1'].value_counts()))\n",
    "print(\"\\nNumber of QNAN in C4 \\n{}\".format(df_QNAN['C4'].value_counts()))\n",
    "df_QNAN"
   ]
  },
  {
   "cell_type": "code",
   "execution_count": 8,
   "metadata": {},
   "outputs": [
    {
     "name": "stdout",
     "output_type": "stream",
     "text": [
      "Number of QNAN in A1 \n",
      "1    263\n",
      "Name: A1, dtype: int64\n",
      "\n",
      "Number of QNAN in C4 \n",
      "0    263\n",
      "Name: C4, dtype: int64\n"
     ]
    },
    {
     "data": {
      "text/html": [
       "<div>\n",
       "<style scoped>\n",
       "    .dataframe tbody tr th:only-of-type {\n",
       "        vertical-align: middle;\n",
       "    }\n",
       "\n",
       "    .dataframe tbody tr th {\n",
       "        vertical-align: top;\n",
       "    }\n",
       "\n",
       "    .dataframe thead th {\n",
       "        text-align: right;\n",
       "    }\n",
       "</style>\n",
       "<table border=\"1\" class=\"dataframe\">\n",
       "  <thead>\n",
       "    <tr style=\"text-align: right;\">\n",
       "      <th></th>\n",
       "      <th>A1</th>\n",
       "      <th>C4</th>\n",
       "    </tr>\n",
       "  </thead>\n",
       "  <tbody>\n",
       "    <tr>\n",
       "      <th>PE150707</th>\n",
       "      <td>1</td>\n",
       "      <td>0</td>\n",
       "    </tr>\n",
       "    <tr>\n",
       "      <th>PE150708</th>\n",
       "      <td>1</td>\n",
       "      <td>0</td>\n",
       "    </tr>\n",
       "    <tr>\n",
       "      <th>PE150710</th>\n",
       "      <td>1</td>\n",
       "      <td>0</td>\n",
       "    </tr>\n",
       "    <tr>\n",
       "      <th>PE150727</th>\n",
       "      <td>1</td>\n",
       "      <td>0</td>\n",
       "    </tr>\n",
       "    <tr>\n",
       "      <th>PE150728</th>\n",
       "      <td>1</td>\n",
       "      <td>0</td>\n",
       "    </tr>\n",
       "    <tr>\n",
       "      <th>...</th>\n",
       "      <td>...</td>\n",
       "      <td>...</td>\n",
       "    </tr>\n",
       "    <tr>\n",
       "      <th>PE170942</th>\n",
       "      <td>1</td>\n",
       "      <td>0</td>\n",
       "    </tr>\n",
       "    <tr>\n",
       "      <th>PE170943</th>\n",
       "      <td>1</td>\n",
       "      <td>0</td>\n",
       "    </tr>\n",
       "    <tr>\n",
       "      <th>PE170947</th>\n",
       "      <td>1</td>\n",
       "      <td>0</td>\n",
       "    </tr>\n",
       "    <tr>\n",
       "      <th>PE170949</th>\n",
       "      <td>1</td>\n",
       "      <td>0</td>\n",
       "    </tr>\n",
       "    <tr>\n",
       "      <th>PE170950</th>\n",
       "      <td>1</td>\n",
       "      <td>0</td>\n",
       "    </tr>\n",
       "  </tbody>\n",
       "</table>\n",
       "<p>263 rows × 2 columns</p>\n",
       "</div>"
      ],
      "text/plain": [
       "          A1  C4\n",
       "PE150707   1   0\n",
       "PE150708   1   0\n",
       "PE150710   1   0\n",
       "PE150727   1   0\n",
       "PE150728   1   0\n",
       "...       ..  ..\n",
       "PE170942   1   0\n",
       "PE170943   1   0\n",
       "PE170947   1   0\n",
       "PE170949   1   0\n",
       "PE170950   1   0\n",
       "\n",
       "[263 rows x 2 columns]"
      ]
     },
     "execution_count": 8,
     "metadata": {},
     "output_type": "execute_result"
    }
   ],
   "source": [
    "print(\"Number of QNAN in A1 \\n{}\".format(df_QNAN_conversion['A1'].value_counts()))\n",
    "print(\"\\nNumber of QNAN in C4 \\n{}\".format(df_QNAN_conversion['C4'].value_counts()))\n",
    "df_QNAN_conversion"
   ]
  },
  {
   "cell_type": "code",
   "execution_count": 9,
   "metadata": {},
   "outputs": [],
   "source": [
    "df_QNAN.to_csv('QNaN_inspection\\\\data4_QNaN.csv')\n",
    "df_QNAN_conversion.to_csv('QNaN_inspection\\\\data4_QNaN_conversion.csv')"
   ]
  },
  {
   "cell_type": "code",
   "execution_count": 10,
   "metadata": {},
   "outputs": [
    {
     "name": "stderr",
     "output_type": "stream",
     "text": [
      "C:\\Users\\CYS\\AppData\\Local\\Temp\\ipykernel_6984\\731642772.py:2: FutureWarning: The default dtype for empty Series will be 'object' instead of 'float64' in a future version. Specify a dtype explicitly to silence this warning.\n",
      "  pd.Series(list_excluded_2).to_csv('excluded\\\\data4_excluded_2.csv')\n"
     ]
    }
   ],
   "source": [
    "pd.Series(list_excluded_1).to_csv('excluded\\\\data4_excluded_1.csv')\n",
    "pd.Series(list_excluded_2).to_csv('excluded\\\\data4_excluded_2.csv')\n",
    "pd.Series(list_excluded_3).to_csv('excluded\\\\data4_excluded_3.csv')"
   ]
  },
  {
   "cell_type": "code",
   "execution_count": null,
   "metadata": {},
   "outputs": [],
   "source": []
  }
 ],
 "metadata": {
  "interpreter": {
   "hash": "131b61df41b7a9e44a731ca87c7f9c007eef4be7463370e4edb7a9f329aa519d"
  },
  "kernelspec": {
   "display_name": "Python 3.9.7 ('env_yasa')",
   "language": "python",
   "name": "python3"
  },
  "language_info": {
   "codemirror_mode": {
    "name": "ipython",
    "version": 3
   },
   "file_extension": ".py",
   "mimetype": "text/x-python",
   "name": "python",
   "nbconvert_exporter": "python",
   "pygments_lexer": "ipython3",
   "version": "3.9.7"
  },
  "orig_nbformat": 4
 },
 "nbformat": 4,
 "nbformat_minor": 2
}
