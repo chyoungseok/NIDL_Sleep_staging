{
 "cells": [
  {
   "cell_type": "code",
   "execution_count": 3,
   "metadata": {},
   "outputs": [],
   "source": [
    "import os\n",
    "\n",
    "path_txt = 'E:\\\\samsung_original\\\\whole_data_txt\\\\data2'\n",
    "temp_eeg_txt = 'LE003-2_A1_.txt'\n",
    "# f = open(os.path.join(path_txt, temp_eeg_txt), encoding='ANSI')#'ISO-8859-1')\n",
    "f = open(os.path.join(path_txt, temp_eeg_txt), encoding='ISO-8859-1')\n",
    "lines = f.readlines()\n",
    "f.close()\n",
    "lines = lines[5:]"
   ]
  },
  {
   "cell_type": "code",
   "execution_count": 8,
   "metadata": {},
   "outputs": [
    {
     "data": {
      "text/plain": [
       "'-1.#QNAN'"
      ]
     },
     "execution_count": 8,
     "metadata": {},
     "output_type": "execute_result"
    }
   ],
   "source": [
    "lines[2341765].strip().split()[-1]"
   ]
  },
  {
   "cell_type": "code",
   "execution_count": 9,
   "metadata": {},
   "outputs": [],
   "source": [
    "temp_eeg = []\n",
    "for line in lines:\n",
    "    temp_value = line.strip().split()[-1]\n",
    "    if temp_value == '-1.#QNAN':\n",
    "        # self.QNAN_dic[self.sub_ID] = now_eeg\n",
    "        temp_value = 0\n",
    "    temp_eeg.append(temp_value)"
   ]
  },
  {
   "cell_type": "code",
   "execution_count": 11,
   "metadata": {},
   "outputs": [
    {
     "ename": "ValueError",
     "evalue": "could not convert string to float: '¿ÀÀ'",
     "output_type": "error",
     "traceback": [
      "\u001b[1;31m---------------------------------------------------------------------------\u001b[0m",
      "\u001b[1;31mValueError\u001b[0m                                Traceback (most recent call last)",
      "\u001b[1;32mUntitled-1.ipynb Cell 4'\u001b[0m in \u001b[0;36m<cell line: 2>\u001b[1;34m()\u001b[0m\n\u001b[0;32m      <a href='vscode-notebook-cell:Untitled-1.ipynb?jupyter-notebook#ch0000004untitled?line=0'>1</a>\u001b[0m \u001b[39mimport\u001b[39;00m \u001b[39mnumpy\u001b[39;00m \u001b[39mas\u001b[39;00m \u001b[39mnp\u001b[39;00m\n\u001b[1;32m----> <a href='vscode-notebook-cell:Untitled-1.ipynb?jupyter-notebook#ch0000004untitled?line=1'>2</a>\u001b[0m temp_eeg \u001b[39m=\u001b[39m np\u001b[39m.\u001b[39;49marray(temp_eeg, dtype\u001b[39m=\u001b[39;49m\u001b[39mfloat\u001b[39;49m)\n",
      "\u001b[1;31mValueError\u001b[0m: could not convert string to float: '¿ÀÀ'"
     ]
    }
   ],
   "source": [
    "import numpy as np\n",
    "temp_eeg = np.array(temp_eeg, dtype=float)"
   ]
  },
  {
   "cell_type": "code",
   "execution_count": 16,
   "metadata": {},
   "outputs": [
    {
     "data": {
      "text/plain": [
       "True"
      ]
     },
     "execution_count": 16,
     "metadata": {},
     "output_type": "execute_result"
    }
   ],
   "source": [
    "'¿ÀÀ' in temp_eeg"
   ]
  },
  {
   "cell_type": "code",
   "execution_count": 17,
   "metadata": {},
   "outputs": [],
   "source": [
    "np_test = np.array([temp_eeg])"
   ]
  },
  {
   "cell_type": "code",
   "execution_count": 19,
   "metadata": {},
   "outputs": [
    {
     "data": {
      "text/plain": [
       "array(['¿ÀÀ'], dtype='<U12')"
      ]
     },
     "execution_count": 19,
     "metadata": {},
     "output_type": "execute_result"
    }
   ],
   "source": [
    "np_test[np_test == '¿ÀÀ']"
   ]
  }
 ],
 "metadata": {
  "interpreter": {
   "hash": "131b61df41b7a9e44a731ca87c7f9c007eef4be7463370e4edb7a9f329aa519d"
  },
  "kernelspec": {
   "display_name": "Python 3.9.7 ('env_yasa')",
   "language": "python",
   "name": "python3"
  },
  "language_info": {
   "codemirror_mode": {
    "name": "ipython",
    "version": 3
   },
   "file_extension": ".py",
   "mimetype": "text/x-python",
   "name": "python",
   "nbconvert_exporter": "python",
   "pygments_lexer": "ipython3",
   "version": "3.9.7"
  },
  "orig_nbformat": 4
 },
 "nbformat": 4,
 "nbformat_minor": 2
}
