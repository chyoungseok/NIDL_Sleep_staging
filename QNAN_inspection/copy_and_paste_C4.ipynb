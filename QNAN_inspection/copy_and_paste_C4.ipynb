{
 "cells": [
  {
   "cell_type": "code",
   "execution_count": 9,
   "id": "33685117",
   "metadata": {},
   "outputs": [],
   "source": [
    "def return_upper(str_list):\n",
    "    for i in range(len(str_list)):\n",
    "        str_list[i] = str_list[i].upper()\n",
    "    return str_list        "
   ]
  },
  {
   "cell_type": "code",
   "execution_count": 2,
   "id": "729de896",
   "metadata": {
    "scrolled": false
   },
   "outputs": [
    {
     "name": "stdout",
     "output_type": "stream",
     "text": [
      "-- number of subjects: 50\n",
      "   --> ['vd001 CSI', 'vd002 LJC', 'vd003 KES', 'vd004 HGC', 'vd005 LSM', 'vd006 KJY', 'vd007 JSO', 'vd008 KDI', 'vd009 PHK', 'vd010 KSH', 'vd011 LTG', 'vd012 KIJ', 'vd013 KMS', 'vd014 OYC', 'vd015 RDS', 'vd016 KKR', 'vd017 HW', 'vd018 BKH', 'vd019 BJY', 'vd020 LDW', 'vd022 KMS', 'vd023 KNG', 'vd024 YJG', 'vd025 RHS', 'vd026 JKS', 'vd028 SSW', 'vd029 KDH', 'vd030 AJH', 'vd031 SWK', 'vd033 JJW', 'vd034 CJY', 'vd039 SWY', 'VD041_KSH', 'VD042_HSC', 'VD043_KDY', 'VD044_KNY', 'VD045_CSH', 'VD046_KBW', 'VD047_CJS', 'VD048_PJH', 'VD049_CSJ', 'VD050_PKR', 'VD051_CYC', 'VD052_CYM', 'VD053_KHC', 'VD054_PCA', 'VD055_KWT', 'VD056_JSH', 'VD057_HC', 'VD058_YHJ']\n"
     ]
    }
   ],
   "source": [
    "import shutil\n",
    "import os\n",
    "from tqdm.notebook import tqdm, trange\n",
    "\n",
    "dir_from = 'D:\\\\Samsung_2nd_original_data\\\\VD_eeg_origin'\n",
    "dir_to = 'D:\\\\USC\\\\Sleep dataset\\\\Samsung_2nd\\\\VD_EEG_C4'\n",
    "\n",
    "# dir_from + subject_name --> access to each folder --> copy C4 txt file\n",
    "# paste the C4 txt file into the dir_to\n",
    "\n",
    "subjects_txt = os.listdir(dir_from)\n",
    "# subjects_txt = return_upper(subjects_txt)\n",
    "# subjects_txt.sort()\n",
    "\n",
    "print(f\"-- number of subjects: {len(subjects_txt)}\")\n",
    "print(f\"   --> {subjects_txt}\")"
   ]
  },
  {
   "cell_type": "code",
   "execution_count": 3,
   "id": "99c27d69",
   "metadata": {},
   "outputs": [
    {
     "data": {
      "application/vnd.jupyter.widget-view+json": {
       "model_id": "bb9e3b01812a4994a5f2889dcf259d48",
       "version_major": 2,
       "version_minor": 0
      },
      "text/plain": [
       "Copy and Paste ... :   0%|          | 0/50 [00:00<?, ?it/s]"
      ]
     },
     "metadata": {},
     "output_type": "display_data"
    }
   ],
   "source": [
    "for subject_txt in tqdm(subjects_txt, desc='Copy and Paste ... '):\n",
    "    txts = os.listdir(os.path.join(dir_from, subject_txt))\n",
    "    temp_txt = []\n",
    "    \n",
    "    for txt in txts:\n",
    "        if 'C4' in txt:\n",
    "            temp_txt = txt\n",
    "\n",
    "    if len(temp_txt) == 0:\n",
    "        print(f\"{subject_txt} doesn't have C4 channel\")\n",
    "        continue\n",
    "    new_name = subject_txt[0:5].upper() + '_C4.txt'\n",
    "    shutil.copy2(os.path.join(dir_from, subject_txt, temp_txt), os.path.join(dir_to, new_name))"
   ]
  },
  {
   "cell_type": "code",
   "execution_count": null,
   "id": "8201e240",
   "metadata": {},
   "outputs": [],
   "source": []
  }
 ],
 "metadata": {
  "kernelspec": {
   "display_name": "Python 3 (ipykernel)",
   "language": "python",
   "name": "python3"
  },
  "language_info": {
   "codemirror_mode": {
    "name": "ipython",
    "version": 3
   },
   "file_extension": ".py",
   "mimetype": "text/x-python",
   "name": "python",
   "nbconvert_exporter": "python",
   "pygments_lexer": "ipython3",
   "version": "3.9.7"
  }
 },
 "nbformat": 4,
 "nbformat_minor": 5
}
