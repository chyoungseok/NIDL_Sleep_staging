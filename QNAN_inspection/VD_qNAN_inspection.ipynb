{
 "cells": [
  {
   "cell_type": "code",
   "execution_count": 1,
   "id": "b14bdae8",
   "metadata": {},
   "outputs": [],
   "source": [
    "import os\n",
    "import QNAN_inspection\n",
    "import pandas as pd\n",
    "%matplotlib inline\n",
    "from tqdm.notebook import tqdm, trange"
   ]
  },
  {
   "cell_type": "code",
   "execution_count": 2,
   "id": "4e241643",
   "metadata": {},
   "outputs": [
    {
     "name": "stdout",
     "output_type": "stream",
     "text": [
      "['VD001_C4.txt', 'VD002_C4.txt', 'VD003_C4.txt', 'VD004_C4.txt', 'VD005_C4.txt', 'VD006_C4.txt', 'VD007_C4.txt', 'VD008_C4.txt', 'VD009_C4.txt', 'VD010_C4.txt', 'VD011_C4.txt', 'VD012_C4.txt', 'VD013_C4.txt', 'VD014_C4.txt', 'VD015_C4.txt', 'VD016_C4.txt', 'VD017_C4.txt', 'VD018_C4.txt', 'VD019_C4.txt', 'VD020_C4.txt', 'VD022_C4.txt', 'VD023_C4.txt', 'VD024_C4.txt', 'VD025_C4.txt', 'VD026_C4.txt', 'VD028_C4.txt', 'VD029_C4.txt', 'VD030_C4.txt', 'VD031_C4.txt', 'VD033_C4.txt', 'VD034_C4.txt', 'VD039_C4.txt', 'VD041_C4.txt', 'VD042_C4.txt', 'VD043_C4.txt', 'VD044_C4.txt', 'VD045_C4.txt', 'VD046_C4.txt', 'VD047_C4.txt', 'VD048_C4.txt', 'VD049_C4.txt', 'VD050_C4.txt', 'VD051_C4.txt', 'VD052_C4.txt', 'VD053_C4.txt', 'VD054_C4.txt', 'VD055_C4.txt', 'VD056_C4.txt', 'VD057_C4.txt', 'VD058_C4.txt']\n"
     ]
    }
   ],
   "source": [
    "path_C4_txts = 'D:\\\\USC\\\\Sleep dataset\\\\Samsung_2nd\\\\VD_EEG_C4'\n",
    "\n",
    "C4_txts = os.listdir(path_C4_txts)\n",
    "print(C4_txts)\n",
    "\n",
    "path_meas = 'D:\\\\USC\\\\code_mine\\\\Exploration_for_VD_dataset\\\\meas_time_edf_hypno.csv'\n",
    "df_meas = pd.read_csv(path_meas, index_col=0)"
   ]
  },
  {
   "cell_type": "markdown",
   "id": "45b796d8",
   "metadata": {},
   "source": [
    "# 전체 VD에 대해 조사"
   ]
  },
  {
   "cell_type": "code",
   "execution_count": 3,
   "id": "c17c9446",
   "metadata": {},
   "outputs": [
    {
     "data": {
      "text/html": [
       "<div>\n",
       "<style scoped>\n",
       "    .dataframe tbody tr th:only-of-type {\n",
       "        vertical-align: middle;\n",
       "    }\n",
       "\n",
       "    .dataframe tbody tr th {\n",
       "        vertical-align: top;\n",
       "    }\n",
       "\n",
       "    .dataframe thead th {\n",
       "        text-align: right;\n",
       "    }\n",
       "</style>\n",
       "<table border=\"1\" class=\"dataframe\">\n",
       "  <thead>\n",
       "    <tr style=\"text-align: right;\">\n",
       "      <th></th>\n",
       "      <th>hypno_start</th>\n",
       "      <th>nan_start</th>\n",
       "      <th>nan_end</th>\n",
       "      <th>duration of QNAN</th>\n",
       "    </tr>\n",
       "  </thead>\n",
       "  <tbody>\n",
       "  </tbody>\n",
       "</table>\n",
       "</div>"
      ],
      "text/plain": [
       "Empty DataFrame\n",
       "Columns: [hypno_start, nan_start, nan_end, duration of QNAN]\n",
       "Index: []"
      ]
     },
     "execution_count": 3,
     "metadata": {},
     "output_type": "execute_result"
    }
   ],
   "source": [
    "df_nan_sum = pd.DataFrame(columns=['hypno_start', 'nan_start', 'nan_end', 'duration of QNAN'])\n",
    "df_nan_sum"
   ]
  },
  {
   "cell_type": "code",
   "execution_count": 4,
   "id": "b7cdbe2e",
   "metadata": {
    "scrolled": true
   },
   "outputs": [
    {
     "data": {
      "application/vnd.jupyter.widget-view+json": {
       "model_id": "9936c202a7914bfd9bb6a8cb44933214",
       "version_major": 2,
       "version_minor": 0
      },
      "text/plain": [
       "Total Inspection:   0%|          | 0/50 [00:00<?, ?it/s]"
      ]
     },
     "metadata": {},
     "output_type": "display_data"
    },
    {
     "name": "stdout",
     "output_type": "stream",
     "text": [
      "VD001_C4.txt=============================================\n"
     ]
    },
    {
     "data": {
      "application/vnd.jupyter.widget-view+json": {
       "model_id": "87211587d8ae43fe925235162c923a0d",
       "version_major": 2,
       "version_minor": 0
      },
      "text/plain": [
       "    -- Extract eeg values ... :   0%|          | 0/14500730 [00:00<?, ?it/s]"
      ]
     },
     "metadata": {},
     "output_type": "display_data"
    },
    {
     "name": "stdout",
     "output_type": "stream",
     "text": [
      "    -- Conversion to pd.DataFrame ...\n",
      "    -- Extract QNAN part ...\n",
      "    -- 83580 of QNAN were detected !\n",
      "    -- 1 segments of QNAN detected !\n",
      "\n",
      "    -- hypno start        nan_start           nan_end\n",
      "    -- -                  -                   -\n",
      "VD002_C4.txt=============================================\n"
     ]
    },
    {
     "data": {
      "application/vnd.jupyter.widget-view+json": {
       "model_id": "cd54eacb878443bc87b6128517c0836e",
       "version_major": 2,
       "version_minor": 0
      },
      "text/plain": [
       "    -- Extract eeg values ... :   0%|          | 0/11181269 [00:00<?, ?it/s]"
      ]
     },
     "metadata": {},
     "output_type": "display_data"
    },
    {
     "name": "stdout",
     "output_type": "stream",
     "text": [
      "    -- Conversion to pd.DataFrame ...\n",
      "    -- Extract QNAN part ...\n",
      "    -- 138751 of QNAN were detected !\n",
      "    -- 2 segments of QNAN detected !\n",
      "\n",
      "    -- hypno start        nan_start           nan_end\n",
      "    -- -                  -                   -\n",
      "    -- -                  -                   -\n",
      "VD003_C4.txt=============================================\n",
      "No time information --> pass\n",
      "VD004_C4.txt=============================================\n"
     ]
    },
    {
     "data": {
      "application/vnd.jupyter.widget-view+json": {
       "model_id": "4249a429b36f4c4180801d1fe8c35e0e",
       "version_major": 2,
       "version_minor": 0
      },
      "text/plain": [
       "    -- Extract eeg values ... :   0%|          | 0/13527862 [00:00<?, ?it/s]"
      ]
     },
     "metadata": {},
     "output_type": "display_data"
    },
    {
     "name": "stdout",
     "output_type": "stream",
     "text": [
      "    -- Conversion to pd.DataFrame ...\n",
      "    -- Extract QNAN part ...\n",
      "    -- 108773 of QNAN were detected !\n",
      "    -- 1 segments of QNAN detected !\n",
      "\n",
      "    -- hypno start        nan_start           nan_end\n",
      "    -- -                  -                   -\n",
      "VD005_C4.txt=============================================\n"
     ]
    },
    {
     "data": {
      "application/vnd.jupyter.widget-view+json": {
       "model_id": "726010a7a6a54876b72167fa2aaff19b",
       "version_major": 2,
       "version_minor": 0
      },
      "text/plain": [
       "    -- Extract eeg values ... :   0%|          | 0/12164336 [00:00<?, ?it/s]"
      ]
     },
     "metadata": {},
     "output_type": "display_data"
    },
    {
     "name": "stdout",
     "output_type": "stream",
     "text": [
      "    -- Conversion to pd.DataFrame ...\n",
      "    -- Extract QNAN part ...\n",
      "    -- 72126 of QNAN were detected !\n",
      "    -- 1 segments of QNAN detected !\n",
      "\n",
      "    -- hypno start        nan_start           nan_end\n",
      "    -- -                  -                   -\n",
      "VD006_C4.txt=============================================\n"
     ]
    },
    {
     "data": {
      "application/vnd.jupyter.widget-view+json": {
       "model_id": "a4b60cfc111046c18be017248b774ba2",
       "version_major": 2,
       "version_minor": 0
      },
      "text/plain": [
       "    -- Extract eeg values ... :   0%|          | 0/11961182 [00:00<?, ?it/s]"
      ]
     },
     "metadata": {},
     "output_type": "display_data"
    },
    {
     "name": "stdout",
     "output_type": "stream",
     "text": [
      "    -- Conversion to pd.DataFrame ...\n",
      "    -- Extract QNAN part ...\n",
      "    -- 144680 of QNAN were detected !\n",
      "    -- 2 segments of QNAN detected !\n",
      "\n",
      "    -- hypno start        nan_start           nan_end\n",
      "    -- -                  -                   -\n",
      "    -- -                  -                   -\n",
      "VD007_C4.txt=============================================\n"
     ]
    },
    {
     "data": {
      "application/vnd.jupyter.widget-view+json": {
       "model_id": "9ea722ed343e472cb0644296ab2e9cd9",
       "version_major": 2,
       "version_minor": 0
      },
      "text/plain": [
       "    -- Extract eeg values ... :   0%|          | 0/13434166 [00:00<?, ?it/s]"
      ]
     },
     "metadata": {},
     "output_type": "display_data"
    },
    {
     "name": "stdout",
     "output_type": "stream",
     "text": [
      "    -- Conversion to pd.DataFrame ...\n",
      "    -- Extract QNAN part ...\n",
      "    -- 102165 of QNAN were detected !\n",
      "    -- 1 segments of QNAN detected !\n",
      "\n",
      "    -- hypno start        nan_start           nan_end\n",
      "    -- -                  -                   -\n",
      "VD008_C4.txt=============================================\n"
     ]
    },
    {
     "data": {
      "application/vnd.jupyter.widget-view+json": {
       "model_id": "a3f70ad8a68949f19ff9319ff8b9ff8e",
       "version_major": 2,
       "version_minor": 0
      },
      "text/plain": [
       "    -- Extract eeg values ... :   0%|          | 0/13841051 [00:00<?, ?it/s]"
      ]
     },
     "metadata": {},
     "output_type": "display_data"
    },
    {
     "name": "stdout",
     "output_type": "stream",
     "text": [
      "    -- Conversion to pd.DataFrame ...\n",
      "    -- Extract QNAN part ...\n",
      "    -- 60135 of QNAN were detected !\n",
      "    -- 1 segments of QNAN detected !\n",
      "\n",
      "    -- hypno start        nan_start           nan_end\n",
      "    -- -                  -                   -\n",
      "VD009_C4.txt=============================================\n",
      "there is no edf and scoring for VD009\n",
      "VD010_C4.txt=============================================\n",
      "there is no edf and scoring for VD010\n",
      "VD011_C4.txt=============================================\n"
     ]
    },
    {
     "data": {
      "application/vnd.jupyter.widget-view+json": {
       "model_id": "d45d6e15b8614537b93b5c913d0413f2",
       "version_major": 2,
       "version_minor": 0
      },
      "text/plain": [
       "    -- Extract eeg values ... :   0%|          | 0/12340098 [00:00<?, ?it/s]"
      ]
     },
     "metadata": {},
     "output_type": "display_data"
    },
    {
     "name": "stdout",
     "output_type": "stream",
     "text": [
      "    -- Conversion to pd.DataFrame ...\n",
      "    -- Extract QNAN part ...\n",
      "    -- 68204 of QNAN were detected !\n",
      "    -- 1 segments of QNAN detected !\n",
      "\n",
      "    -- hypno start        nan_start           nan_end\n",
      "    -- -                  -                   -\n",
      "VD012_C4.txt=============================================\n"
     ]
    },
    {
     "data": {
      "application/vnd.jupyter.widget-view+json": {
       "model_id": "1de4150d0e05476cae7673b4b6975a75",
       "version_major": 2,
       "version_minor": 0
      },
      "text/plain": [
       "    -- Extract eeg values ... :   0%|          | 0/11815623 [00:00<?, ?it/s]"
      ]
     },
     "metadata": {},
     "output_type": "display_data"
    },
    {
     "name": "stdout",
     "output_type": "stream",
     "text": [
      "    -- Conversion to pd.DataFrame ...\n",
      "    -- Extract QNAN part ...\n",
      "    -- 0 of QNAN were detected !\n",
      "    -- No QNAN detected !\n",
      "VD013_C4.txt=============================================\n"
     ]
    },
    {
     "data": {
      "application/vnd.jupyter.widget-view+json": {
       "model_id": "2cc19a3d65eb4bb7bbd37c443d0692fd",
       "version_major": 2,
       "version_minor": 0
      },
      "text/plain": [
       "    -- Extract eeg values ... :   0%|          | 0/13103770 [00:00<?, ?it/s]"
      ]
     },
     "metadata": {},
     "output_type": "display_data"
    },
    {
     "name": "stdout",
     "output_type": "stream",
     "text": [
      "    -- Conversion to pd.DataFrame ...\n",
      "    -- Extract QNAN part ...\n",
      "    -- 75192 of QNAN were detected !\n",
      "    -- 1 segments of QNAN detected !\n",
      "\n",
      "    -- hypno start        nan_start           nan_end\n",
      "    -- -                  -                   -\n",
      "VD014_C4.txt=============================================\n",
      "there is no edf and scoring for VD014\n",
      "VD015_C4.txt=============================================\n",
      "there is no edf and scoring for VD015\n",
      "VD016_C4.txt=============================================\n",
      "there is no edf and scoring for VD016\n",
      "VD017_C4.txt=============================================\n"
     ]
    },
    {
     "data": {
      "application/vnd.jupyter.widget-view+json": {
       "model_id": "369963a68a34407f8f95496a48274bc2",
       "version_major": 2,
       "version_minor": 0
      },
      "text/plain": [
       "    -- Extract eeg values ... :   0%|          | 0/10913097 [00:00<?, ?it/s]"
      ]
     },
     "metadata": {},
     "output_type": "display_data"
    },
    {
     "name": "stdout",
     "output_type": "stream",
     "text": [
      "    -- Conversion to pd.DataFrame ...\n",
      "    -- Extract QNAN part ...\n",
      "    -- 63577 of QNAN were detected !\n",
      "    -- 1 segments of QNAN detected !\n",
      "\n",
      "    -- hypno start        nan_start           nan_end\n",
      "    -- -                  -                   -\n",
      "VD018_C4.txt=============================================\n",
      "there is no edf and scoring for VD018\n",
      "VD019_C4.txt=============================================\n"
     ]
    },
    {
     "data": {
      "application/vnd.jupyter.widget-view+json": {
       "model_id": "7c819de2914649d28b7d2f9a97012857",
       "version_major": 2,
       "version_minor": 0
      },
      "text/plain": [
       "    -- Extract eeg values ... :   0%|          | 0/12864961 [00:00<?, ?it/s]"
      ]
     },
     "metadata": {},
     "output_type": "display_data"
    },
    {
     "name": "stdout",
     "output_type": "stream",
     "text": [
      "    -- Conversion to pd.DataFrame ...\n",
      "    -- Extract QNAN part ...\n",
      "    -- 0 of QNAN were detected !\n",
      "    -- No QNAN detected !\n",
      "VD020_C4.txt=============================================\n",
      "there is no edf and scoring for VD020\n",
      "VD022_C4.txt=============================================\n"
     ]
    },
    {
     "data": {
      "application/vnd.jupyter.widget-view+json": {
       "model_id": "9ceac094a71d4678954ec5688dc3df3e",
       "version_major": 2,
       "version_minor": 0
      },
      "text/plain": [
       "    -- Extract eeg values ... :   0%|          | 0/12823264 [00:00<?, ?it/s]"
      ]
     },
     "metadata": {},
     "output_type": "display_data"
    },
    {
     "name": "stdout",
     "output_type": "stream",
     "text": [
      "    -- Conversion to pd.DataFrame ...\n",
      "    -- Extract QNAN part ...\n",
      "    -- 74406 of QNAN were detected !\n",
      "    -- 1 segments of QNAN detected !\n",
      "\n",
      "    -- hypno start        nan_start           nan_end\n",
      "    -- -                  -                   -\n",
      "VD023_C4.txt=============================================\n"
     ]
    },
    {
     "data": {
      "application/vnd.jupyter.widget-view+json": {
       "model_id": "f26a70be9c0b4b6a9cfe2f466085613f",
       "version_major": 2,
       "version_minor": 0
      },
      "text/plain": [
       "    -- Extract eeg values ... :   0%|          | 0/12334734 [00:00<?, ?it/s]"
      ]
     },
     "metadata": {},
     "output_type": "display_data"
    },
    {
     "name": "stdout",
     "output_type": "stream",
     "text": [
      "    -- Conversion to pd.DataFrame ...\n",
      "    -- Extract QNAN part ...\n",
      "    -- 107025 of QNAN were detected !\n",
      "    -- 1 segments of QNAN detected !\n",
      "\n",
      "    -- hypno start        nan_start           nan_end\n",
      "    -- -                  -                   -\n",
      "VD024_C4.txt=============================================\n"
     ]
    },
    {
     "data": {
      "application/vnd.jupyter.widget-view+json": {
       "model_id": "50b280a57ea14065869cddb984cfec1b",
       "version_major": 2,
       "version_minor": 0
      },
      "text/plain": [
       "    -- Extract eeg values ... :   0%|          | 0/13113902 [00:00<?, ?it/s]"
      ]
     },
     "metadata": {},
     "output_type": "display_data"
    },
    {
     "name": "stderr",
     "output_type": "stream",
     "text": [
      "\n",
      "KeyboardInterrupt\n",
      "\n"
     ]
    }
   ],
   "source": [
    "for C4_txt in tqdm(C4_txts, desc='Total Inspection'):\n",
    "    print(f'{C4_txt}=============================================')\n",
    "    df_nan_sum = QNAN_inspection.update_df(path_C4_txts, C4_txt, df_meas, df_nan_sum)\n",
    "df_nan_sum"
   ]
  },
  {
   "cell_type": "code",
   "execution_count": 3,
   "id": "684ba3cc",
   "metadata": {
    "scrolled": false
   },
   "outputs": [
    {
     "ename": "NameError",
     "evalue": "name 'df_nan_sum' is not defined",
     "output_type": "error",
     "traceback": [
      "\u001b[1;31m---------------------------------------------------------------------------\u001b[0m",
      "\u001b[1;31mNameError\u001b[0m                                 Traceback (most recent call last)",
      "Input \u001b[1;32mIn [3]\u001b[0m, in \u001b[0;36m<cell line: 1>\u001b[1;34m()\u001b[0m\n\u001b[1;32m----> 1\u001b[0m \u001b[43mdf_nan_sum\u001b[49m\n",
      "\u001b[1;31mNameError\u001b[0m: name 'df_nan_sum' is not defined"
     ]
    }
   ],
   "source": [
    "df_nan_sum"
   ]
  },
  {
   "cell_type": "code",
   "execution_count": 6,
   "id": "cd03ec89",
   "metadata": {},
   "outputs": [
    {
     "name": "stdout",
     "output_type": "stream",
     "text": [
      "there is no edf and scoring for VD009\n"
     ]
    }
   ],
   "source": [
    "df_meas_indexes = df_meas.index\n",
    "if not C4_txt[8][0:5] in df_meas_indexes:\n",
    "    print(\"there is no edf and scoring for {}\".format(C4_txt[0:5]))"
   ]
  },
  {
   "cell_type": "markdown",
   "id": "eefdb7de",
   "metadata": {},
   "source": [
    "# VD001 먼저 살펴 보자"
   ]
  },
  {
   "cell_type": "code",
   "execution_count": 1,
   "id": "624e70dc",
   "metadata": {},
   "outputs": [],
   "source": [
    "def time_to_seconds(time):\n",
    "    time = time.split(':')\n",
    "    seconds = int(time[0])*3600 + int(time[1])*60 + int(time[2])\n",
    "    return seconds"
   ]
  },
  {
   "cell_type": "code",
   "execution_count": 5,
   "id": "1e17645e",
   "metadata": {},
   "outputs": [
    {
     "data": {
      "text/plain": [
       "['VD001_C4.txt', 'VD002_C4.txt']"
      ]
     },
     "execution_count": 5,
     "metadata": {},
     "output_type": "execute_result"
    }
   ],
   "source": [
    "C4_txts = C4_txts[0:2]\n",
    "C4_txts"
   ]
  },
  {
   "cell_type": "code",
   "execution_count": 7,
   "id": "23a5f8f2",
   "metadata": {
    "scrolled": false
   },
   "outputs": [
    {
     "data": {
      "application/vnd.jupyter.widget-view+json": {
       "model_id": "88c725838f404181a448c762b4f88bfd",
       "version_major": 2,
       "version_minor": 0
      },
      "text/plain": [
       "    Extract eeg values ... :   0%|          | 0/11181269 [00:00<?, ?it/s]"
      ]
     },
     "metadata": {},
     "output_type": "display_data"
    },
    {
     "name": "stdout",
     "output_type": "stream",
     "text": [
      "Conversion to pd.DataFrame ...\n",
      "Extract QNAN part ...\n",
      "138751 of QNAN were detected !\n",
      "2 of QNAN segments detected !\n",
      "\n",
      "hypno start        nan_start           nan_end\n",
      "0:11:00            00:02:57:570    00:05:26:747\n",
      "0:11:00            05:13:06:385    05:15:14:707\n"
     ]
    },
    {
     "data": {
      "image/png": "[encoded data removed]",
      "text/plain": [
       "<Figure size 432x288 with 1 Axes>"
      ]
     },
     "metadata": {
      "needs_background": "light"
     },
     "output_type": "display_data"
    }
   ],
   "source": [
    "import os\n",
    "import datetime\n",
    "import pandas as pd\n",
    "import numpy as np\n",
    "import matplotlib.pyplot as plt\n",
    "from tqdm.notebook import tqdm\n",
    "\n",
    "\n",
    "temp_df_meas = df_meas.loc[C4_txts[1][0:5],:]\n",
    "hypno_start = temp_df_meas['hypno_start']\n",
    "edf_start = temp_df_meas['edf_start']\n",
    "sample_num_to_crop = (23 - int(edf_start[0:2]))*3600*500\n",
    "\n",
    "temp_txt = os.path.join(path_C4_txts, C4_txts[1])\n",
    "with open(temp_txt, 'r') as f:\n",
    "    lines = f.readlines() # Read txt file\n",
    "    lines = lines[sample_num_to_crop:] # include only valid information which contains the signal values\n",
    "\n",
    "times = []    \n",
    "data = []\n",
    "for line in tqdm(lines, desc='    Extract eeg values ... '):\n",
    "    temp_time = line.strip().split()[0]\n",
    "    temp_data = line.strip().split()[1]\n",
    "    times.append(temp_time)\n",
    "    data.append(temp_data)\n",
    "\n",
    "print(\"Conversion to pd.DataFrame ...\")\n",
    "times_df = pd.DataFrame(times)\n",
    "data_df = pd.DataFrame(data)\n",
    "\n",
    "print(\"Extract QNAN part ...\")\n",
    "nan_condition = data_df[0] == '-1.#QNAN'\n",
    "print(f\"{nan_condition.sum()} of QNAN were detected !\")\n",
    "\n",
    "nan_df = data_df[nan_condition].index\n",
    "\n",
    "idx_transition_start = [0]\n",
    "idx_transition_end = []\n",
    "for iter in range(len(nan_df)-1):\n",
    "    if (nan_df[iter+1] - nan_df[iter]) > 10:\n",
    "        idx_transition_end.append(iter)\n",
    "        idx_transition_start.append(iter+1)\n",
    "if len(nan_df) > 0:\n",
    "    idx_transition_end.append(len(nan_df)-1)        \n",
    "print(f\"{len(idx_transition_start)} of QNAN segments detected !\")\n",
    "\n",
    "nan_start_times = times_df[0][nan_df[idx_transition_start]].values\n",
    "nan_end_times = times_df[0][nan_df[idx_transition_end]].values\n",
    "nan_times = np.append(nan_start_times, nan_end_times)\n",
    "\n",
    "plt.plot(nan_df)\n",
    "plt.xticks(idx_transition_start+idx_transition_end, nan_times, rotation=30)\n",
    "\n",
    "hypno_start_seconds = time_to_seconds(hypno_start)\n",
    "print(f\"\\nhypno start        nan_start           nan_end\")\n",
    "for idx in range(len(idx_transition_start)):\n",
    "    temp_nan_start = times_df[0][nan_df[idx_transition_start[idx]]]\n",
    "    temp_nan_end = times_df[0][nan_df[idx_transition_end[idx]]]\n",
    "    temp_nan_start_seconds = time_to_seconds(temp_nan_start)\n",
    "    temp_nan_end_seconds = time_to_seconds(temp_nan_end)\n",
    "    \n",
    "    print(f\"{hypno_start}            {temp_nan_start}    {temp_nan_end}\")\n",
    "#     if temp_nan_start_seconds < hypno_start_seconds < temp_nan_end_seconds:\n",
    "#         print(f\"{hypno_start}            {temp_nan_start}    {temp_nan_end}\")\n",
    "#     else:\n",
    "#         print(\"-                  -                   -\")\n",
    "        "
   ]
  }
 ],
 "metadata": {
  "kernelspec": {
   "display_name": "Python 3 (ipykernel)",
   "language": "python",
   "name": "python3"
  },
  "language_info": {
   "codemirror_mode": {
    "name": "ipython",
    "version": 3
   },
   "file_extension": ".py",
   "mimetype": "text/x-python",
   "name": "python",
   "nbconvert_exporter": "python",
   "pygments_lexer": "ipython3",
   "version": "3.9.7"
  }
 },
 "nbformat": 4,
 "nbformat_minor": 5
}
