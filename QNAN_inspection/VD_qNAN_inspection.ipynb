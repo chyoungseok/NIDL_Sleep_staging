{
 "cells": [
  {
   "cell_type": "code",
   "execution_count": 1,
   "id": "b14bdae8",
   "metadata": {},
   "outputs": [],
   "source": [
    "import os\n",
    "import QNAN_inspection\n",
    "import pandas as pd\n",
    "%matplotlib inline\n",
    "from tqdm.notebook import tqdm, trange"
   ]
  },
  {
   "cell_type": "code",
   "execution_count": 2,
   "id": "4e241643",
   "metadata": {
    "scrolled": true
   },
   "outputs": [
    {
     "name": "stdout",
     "output_type": "stream",
     "text": [
      "['VD001_C4.txt', 'VD002_C4.txt', 'VD003_C4.txt', 'VD004_C4.txt', 'VD005_C4.txt', 'VD006_C4.txt', 'VD007_C4.txt', 'VD008_C4.txt', 'VD009_C4.txt', 'VD010_C4.txt', 'VD011_C4.txt', 'VD012_C4.txt', 'VD013_C4.txt', 'VD014_C4.txt', 'VD015_C4.txt', 'VD016_C4.txt', 'VD017_C4.txt', 'VD018_C4.txt', 'VD019_C4.txt', 'VD020_C4.txt', 'VD022_C4.txt', 'VD023_C4.txt', 'VD024_C4.txt', 'VD025_C4.txt', 'VD026_C4.txt', 'VD028_C4.txt', 'VD029_C4.txt', 'VD030_C4.txt', 'VD031_C4.txt', 'VD033_C4.txt', 'VD034_C4.txt', 'VD039_C4.txt', 'VD041_C4.txt', 'VD042_C4.txt', 'VD043_C4.txt', 'VD044_C4.txt', 'VD045_C4.txt', 'VD046_C4.txt', 'VD047_C4.txt', 'VD048_C4.txt', 'VD049_C4.txt', 'VD050_C4.txt', 'VD051_C4.txt', 'VD052_C4.txt', 'VD053_C4.txt', 'VD054_C4.txt', 'VD055_C4.txt', 'VD056_C4.txt', 'VD057_C4.txt', 'VD058_C4.txt']\n"
     ]
    }
   ],
   "source": [
    "path_C4_txts = 'D:\\\\Google Drive\\\\2022\\\\temp_eeg\\\\VD_EEG_C4'\n",
    "\n",
    "C4_txts = os.listdir(path_C4_txts)\n",
    "print(C4_txts)\n",
    "\n",
    "path_meas = 'D:\\\\Google Drive\\\\2022\\\\temp_eeg\\\\NIDL_Sleep_staging\\\\Exploration_for_VD_dataset\\\\meas_time_edf_hypno.csv'\n",
    "df_meas = pd.read_csv(path_meas, index_col=0)"
   ]
  },
  {
   "cell_type": "markdown",
   "id": "45b796d8",
   "metadata": {},
   "source": [
    "# 전체 VD에 대해 조사"
   ]
  },
  {
   "cell_type": "code",
   "execution_count": 3,
   "id": "c17c9446",
   "metadata": {},
   "outputs": [
    {
     "data": {
      "text/html": [
       "<div>\n",
       "<style scoped>\n",
       "    .dataframe tbody tr th:only-of-type {\n",
       "        vertical-align: middle;\n",
       "    }\n",
       "\n",
       "    .dataframe tbody tr th {\n",
       "        vertical-align: top;\n",
       "    }\n",
       "\n",
       "    .dataframe thead th {\n",
       "        text-align: right;\n",
       "    }\n",
       "</style>\n",
       "<table border=\"1\" class=\"dataframe\">\n",
       "  <thead>\n",
       "    <tr style=\"text-align: right;\">\n",
       "      <th></th>\n",
       "      <th>hypno_start</th>\n",
       "      <th>nan_start</th>\n",
       "      <th>nan_end</th>\n",
       "      <th>duration of QNAN</th>\n",
       "    </tr>\n",
       "  </thead>\n",
       "  <tbody>\n",
       "  </tbody>\n",
       "</table>\n",
       "</div>"
      ],
      "text/plain": [
       "Empty DataFrame\n",
       "Columns: [hypno_start, nan_start, nan_end, duration of QNAN]\n",
       "Index: []"
      ]
     },
     "execution_count": 3,
     "metadata": {},
     "output_type": "execute_result"
    }
   ],
   "source": [
    "df_nan_sum = pd.DataFrame(columns=['hypno_start', 'nan_start', 'nan_end', 'duration of QNAN'])\n",
    "df_nan_sum"
   ]
  },
  {
   "cell_type": "code",
   "execution_count": 3,
   "id": "fd2b9029",
   "metadata": {},
   "outputs": [
    {
     "data": {
      "text/html": [
       "<div>\n",
       "<style scoped>\n",
       "    .dataframe tbody tr th:only-of-type {\n",
       "        vertical-align: middle;\n",
       "    }\n",
       "\n",
       "    .dataframe tbody tr th {\n",
       "        vertical-align: top;\n",
       "    }\n",
       "\n",
       "    .dataframe thead th {\n",
       "        text-align: right;\n",
       "    }\n",
       "</style>\n",
       "<table border=\"1\" class=\"dataframe\">\n",
       "  <thead>\n",
       "    <tr style=\"text-align: right;\">\n",
       "      <th></th>\n",
       "      <th>hypno_start</th>\n",
       "      <th>nan_start</th>\n",
       "      <th>nan_end</th>\n",
       "      <th>duration of QNAN</th>\n",
       "    </tr>\n",
       "  </thead>\n",
       "  <tbody>\n",
       "    <tr>\n",
       "      <th>VD003</th>\n",
       "      <td>NaN</td>\n",
       "      <td>no time infromation</td>\n",
       "      <td>NaN</td>\n",
       "      <td>NaN</td>\n",
       "    </tr>\n",
       "    <tr>\n",
       "      <th>VD009</th>\n",
       "      <td>no edf and ground_truth</td>\n",
       "      <td>NaN</td>\n",
       "      <td>NaN</td>\n",
       "      <td>NaN</td>\n",
       "    </tr>\n",
       "    <tr>\n",
       "      <th>VD010</th>\n",
       "      <td>no edf and ground_truth</td>\n",
       "      <td>NaN</td>\n",
       "      <td>NaN</td>\n",
       "      <td>NaN</td>\n",
       "    </tr>\n",
       "    <tr>\n",
       "      <th>VD014</th>\n",
       "      <td>no edf and ground_truth</td>\n",
       "      <td>NaN</td>\n",
       "      <td>NaN</td>\n",
       "      <td>NaN</td>\n",
       "    </tr>\n",
       "    <tr>\n",
       "      <th>VD015</th>\n",
       "      <td>no edf and ground_truth</td>\n",
       "      <td>NaN</td>\n",
       "      <td>NaN</td>\n",
       "      <td>NaN</td>\n",
       "    </tr>\n",
       "    <tr>\n",
       "      <th>VD016</th>\n",
       "      <td>no edf and ground_truth</td>\n",
       "      <td>NaN</td>\n",
       "      <td>NaN</td>\n",
       "      <td>NaN</td>\n",
       "    </tr>\n",
       "    <tr>\n",
       "      <th>VD018</th>\n",
       "      <td>no edf and ground_truth</td>\n",
       "      <td>NaN</td>\n",
       "      <td>NaN</td>\n",
       "      <td>NaN</td>\n",
       "    </tr>\n",
       "    <tr>\n",
       "      <th>VD020</th>\n",
       "      <td>no edf and ground_truth</td>\n",
       "      <td>NaN</td>\n",
       "      <td>NaN</td>\n",
       "      <td>NaN</td>\n",
       "    </tr>\n",
       "    <tr>\n",
       "      <th>VD026</th>\n",
       "      <td>no edf and ground_truth</td>\n",
       "      <td>NaN</td>\n",
       "      <td>NaN</td>\n",
       "      <td>NaN</td>\n",
       "    </tr>\n",
       "  </tbody>\n",
       "</table>\n",
       "</div>"
      ],
      "text/plain": [
       "                   hypno_start            nan_start  nan_end  duration of QNAN\n",
       "VD003                      NaN  no time infromation      NaN               NaN\n",
       "VD009  no edf and ground_truth                  NaN      NaN               NaN\n",
       "VD010  no edf and ground_truth                  NaN      NaN               NaN\n",
       "VD014  no edf and ground_truth                  NaN      NaN               NaN\n",
       "VD015  no edf and ground_truth                  NaN      NaN               NaN\n",
       "VD016  no edf and ground_truth                  NaN      NaN               NaN\n",
       "VD018  no edf and ground_truth                  NaN      NaN               NaN\n",
       "VD020  no edf and ground_truth                  NaN      NaN               NaN\n",
       "VD026  no edf and ground_truth                  NaN      NaN               NaN"
      ]
     },
     "execution_count": 3,
     "metadata": {},
     "output_type": "execute_result"
    }
   ],
   "source": [
    "df_nan_sum = pd.read_csv('31.csv', index_col=0)\n",
    "df_nan_sum"
   ]
  },
  {
   "cell_type": "code",
   "execution_count": 4,
   "id": "b7cdbe2e",
   "metadata": {
    "scrolled": true
   },
   "outputs": [
    {
     "data": {
      "application/vnd.jupyter.widget-view+json": {
       "model_id": "3139eb113da643c9b3397904da01df3d",
       "version_major": 2,
       "version_minor": 0
      },
      "text/plain": [
       "Total Inspection:   0%|          | 0/22 [00:00<?, ?it/s]"
      ]
     },
     "metadata": {},
     "output_type": "display_data"
    },
    {
     "name": "stdout",
     "output_type": "stream",
     "text": [
      "VD031_C4.txt=============================================\n"
     ]
    },
    {
     "data": {
      "application/vnd.jupyter.widget-view+json": {
       "model_id": "807525b4a4e64f9c96cd0b31846c89b4",
       "version_major": 2,
       "version_minor": 0
      },
      "text/plain": [
       "    -- Extract eeg values ... :   0%|          | 0/11130332 [00:00<?, ?it/s]"
      ]
     },
     "metadata": {},
     "output_type": "display_data"
    },
    {
     "name": "stdout",
     "output_type": "stream",
     "text": [
      "    -- Conversion to pd.DataFrame ...\n",
      "    -- Extract QNAN part ...\n",
      "    -- 96158 of QNAN were detected !\n",
      "    -- 2 segments of QNAN detected !\n",
      "\n",
      "    -- hypno start        nan_start           nan_end\n",
      "    -- -                  -                   -\n",
      "    -- -                  -                   -\n",
      "VD033_C4.txt=============================================\n"
     ]
    },
    {
     "data": {
      "application/vnd.jupyter.widget-view+json": {
       "model_id": "1f5efc07b0a44e5fa398b3788c4ded0c",
       "version_major": 2,
       "version_minor": 0
      },
      "text/plain": [
       "    -- Extract eeg values ... :   0%|          | 0/5005223 [00:00<?, ?it/s]"
      ]
     },
     "metadata": {},
     "output_type": "display_data"
    },
    {
     "name": "stdout",
     "output_type": "stream",
     "text": [
      "    -- Conversion to pd.DataFrame ...\n",
      "    -- Extract QNAN part ...\n",
      "    -- 707417 of QNAN were detected !\n",
      "    -- 4 segments of QNAN detected !\n",
      "\n",
      "    -- hypno start        nan_start           nan_end\n",
      "    -- -                  -                   -\n",
      "    -- -                  -                   -\n",
      "    -- -                  -                   -\n",
      "    -- -                  -                   -\n",
      "VD034_C4.txt=============================================\n"
     ]
    },
    {
     "data": {
      "application/vnd.jupyter.widget-view+json": {
       "model_id": "f436e04f726f47b590dc40f657703a31",
       "version_major": 2,
       "version_minor": 0
      },
      "text/plain": [
       "    -- Extract eeg values ... :   0%|          | 0/14915264 [00:00<?, ?it/s]"
      ]
     },
     "metadata": {},
     "output_type": "display_data"
    },
    {
     "name": "stdout",
     "output_type": "stream",
     "text": [
      "    -- Conversion to pd.DataFrame ...\n",
      "    -- Extract QNAN part ...\n",
      "    -- 69439 of QNAN were detected !\n",
      "    -- 1 segments of QNAN detected !\n",
      "\n",
      "    -- hypno start        nan_start           nan_end\n",
      "    -- -                  -                   -\n",
      "VD039_C4.txt=============================================\n"
     ]
    },
    {
     "data": {
      "application/vnd.jupyter.widget-view+json": {
       "model_id": "228b77541d2f4ae0bfe64805f759ac4a",
       "version_major": 2,
       "version_minor": 0
      },
      "text/plain": [
       "    -- Extract eeg values ... :   0%|          | 0/5515481 [00:00<?, ?it/s]"
      ]
     },
     "metadata": {},
     "output_type": "display_data"
    },
    {
     "name": "stdout",
     "output_type": "stream",
     "text": [
      "    -- Conversion to pd.DataFrame ...\n",
      "    -- Extract QNAN part ...\n",
      "    -- 72705 of QNAN were detected !\n",
      "    -- 1 segments of QNAN detected !\n",
      "\n",
      "    -- hypno start        nan_start           nan_end\n",
      "    -- -                  -                   -\n",
      "VD041_C4.txt=============================================\n"
     ]
    },
    {
     "data": {
      "application/vnd.jupyter.widget-view+json": {
       "model_id": "92c778102e6540a18699c181c030e206",
       "version_major": 2,
       "version_minor": 0
      },
      "text/plain": [
       "    -- Extract eeg values ... :   0%|          | 0/5966326 [00:00<?, ?it/s]"
      ]
     },
     "metadata": {},
     "output_type": "display_data"
    },
    {
     "name": "stdout",
     "output_type": "stream",
     "text": [
      "    -- Conversion to pd.DataFrame ...\n",
      "    -- Extract QNAN part ...\n",
      "    -- 68558 of QNAN were detected !\n",
      "    -- 2 segments of QNAN detected !\n",
      "\n",
      "    -- hypno start        nan_start           nan_end\n",
      "    -- -                  -                   -\n",
      "    -- -                  -                   -\n",
      "VD042_C4.txt=============================================\n"
     ]
    },
    {
     "data": {
      "application/vnd.jupyter.widget-view+json": {
       "model_id": "ab8e9177b6784e6c8a4987f977a640db",
       "version_major": 2,
       "version_minor": 0
      },
      "text/plain": [
       "    -- Extract eeg values ... :   0%|          | 0/4896667 [00:00<?, ?it/s]"
      ]
     },
     "metadata": {},
     "output_type": "display_data"
    },
    {
     "name": "stdout",
     "output_type": "stream",
     "text": [
      "    -- Conversion to pd.DataFrame ...\n",
      "    -- Extract QNAN part ...\n",
      "    -- 26206 of QNAN were detected !\n",
      "    -- 1 segments of QNAN detected !\n",
      "\n",
      "    -- hypno start        nan_start           nan_end\n",
      "    -- -                  -                   -\n",
      "VD043_C4.txt=============================================\n"
     ]
    },
    {
     "data": {
      "application/vnd.jupyter.widget-view+json": {
       "model_id": "a9af8882a40b45278f29041a33968d77",
       "version_major": 2,
       "version_minor": 0
      },
      "text/plain": [
       "    -- Extract eeg values ... :   0%|          | 0/4909501 [00:00<?, ?it/s]"
      ]
     },
     "metadata": {},
     "output_type": "display_data"
    },
    {
     "name": "stdout",
     "output_type": "stream",
     "text": [
      "    -- Conversion to pd.DataFrame ...\n",
      "    -- Extract QNAN part ...\n",
      "    -- 119431 of QNAN were detected !\n",
      "    -- 1 segments of QNAN detected !\n",
      "\n",
      "    -- hypno start        nan_start           nan_end\n",
      "    -- -                  -                   -\n",
      "VD044_C4.txt=============================================\n"
     ]
    },
    {
     "data": {
      "application/vnd.jupyter.widget-view+json": {
       "model_id": "4292ea119a43405da3cc3c77ec38acba",
       "version_major": 2,
       "version_minor": 0
      },
      "text/plain": [
       "    -- Extract eeg values ... :   0%|          | 0/4900234 [00:00<?, ?it/s]"
      ]
     },
     "metadata": {},
     "output_type": "display_data"
    },
    {
     "name": "stdout",
     "output_type": "stream",
     "text": [
      "    -- Conversion to pd.DataFrame ...\n",
      "    -- Extract QNAN part ...\n",
      "    -- 182001 of QNAN were detected !\n",
      "    -- 2 segments of QNAN detected !\n",
      "\n",
      "    -- hypno start        nan_start           nan_end\n",
      "    -- -                  -                   -\n",
      "    -- -                  -                   -\n",
      "VD045_C4.txt=============================================\n"
     ]
    },
    {
     "data": {
      "application/vnd.jupyter.widget-view+json": {
       "model_id": "c08e3a3cf80f4e1999c3b898a6942752",
       "version_major": 2,
       "version_minor": 0
      },
      "text/plain": [
       "    -- Extract eeg values ... :   0%|          | 0/6445570 [00:00<?, ?it/s]"
      ]
     },
     "metadata": {},
     "output_type": "display_data"
    },
    {
     "name": "stdout",
     "output_type": "stream",
     "text": [
      "    -- Conversion to pd.DataFrame ...\n",
      "    -- Extract QNAN part ...\n",
      "    -- 55676 of QNAN were detected !\n",
      "    -- 2 segments of QNAN detected !\n",
      "\n",
      "    -- hypno start        nan_start           nan_end\n",
      "    -- -                  -                   -\n",
      "    -- -                  -                   -\n",
      "VD046_C4.txt=============================================\n"
     ]
    },
    {
     "data": {
      "application/vnd.jupyter.widget-view+json": {
       "model_id": "8e554ddc65034b6d891cbf6381dc3e2a",
       "version_major": 2,
       "version_minor": 0
      },
      "text/plain": [
       "    -- Extract eeg values ... :   0%|          | 0/3978266 [00:00<?, ?it/s]"
      ]
     },
     "metadata": {},
     "output_type": "display_data"
    },
    {
     "name": "stdout",
     "output_type": "stream",
     "text": [
      "    -- Conversion to pd.DataFrame ...\n",
      "    -- Extract QNAN part ...\n",
      "    -- 74467 of QNAN were detected !\n",
      "    -- 2 segments of QNAN detected !\n",
      "\n",
      "    -- hypno start        nan_start           nan_end\n",
      "    -- -                  -                   -\n",
      "    -- -                  -                   -\n",
      "VD047_C4.txt=============================================\n"
     ]
    },
    {
     "data": {
      "application/vnd.jupyter.widget-view+json": {
       "model_id": "7290a221a7f8451b9cb9c642143d3efc",
       "version_major": 2,
       "version_minor": 0
      },
      "text/plain": [
       "    -- Extract eeg values ... :   0%|          | 0/6320040 [00:00<?, ?it/s]"
      ]
     },
     "metadata": {},
     "output_type": "display_data"
    },
    {
     "name": "stdout",
     "output_type": "stream",
     "text": [
      "    -- Conversion to pd.DataFrame ...\n",
      "    -- Extract QNAN part ...\n",
      "    -- 35201 of QNAN were detected !\n",
      "    -- 1 segments of QNAN detected !\n",
      "\n",
      "    -- hypno start        nan_start           nan_end\n",
      "    -- -                  -                   -\n",
      "VD048_C4.txt=============================================\n",
      "there is no edf and scoring for VD048\n",
      "VD049_C4.txt=============================================\n"
     ]
    },
    {
     "data": {
      "application/vnd.jupyter.widget-view+json": {
       "model_id": "0d77bcfa7f264ad193ff90f0bf327b29",
       "version_major": 2,
       "version_minor": 0
      },
      "text/plain": [
       "    -- Extract eeg values ... :   0%|          | 0/5055188 [00:00<?, ?it/s]"
      ]
     },
     "metadata": {},
     "output_type": "display_data"
    },
    {
     "name": "stdout",
     "output_type": "stream",
     "text": [
      "    -- Conversion to pd.DataFrame ...\n",
      "    -- Extract QNAN part ...\n",
      "    -- 29987 of QNAN were detected !\n",
      "    -- 1 segments of QNAN detected !\n",
      "\n",
      "    -- hypno start        nan_start           nan_end\n",
      "    -- -                  -                   -\n",
      "VD050_C4.txt=============================================\n"
     ]
    },
    {
     "data": {
      "application/vnd.jupyter.widget-view+json": {
       "model_id": "68a7f4510d874b109a28b26eb2e881ba",
       "version_major": 2,
       "version_minor": 0
      },
      "text/plain": [
       "    -- Extract eeg values ... :   0%|          | 0/5328533 [00:00<?, ?it/s]"
      ]
     },
     "metadata": {},
     "output_type": "display_data"
    },
    {
     "name": "stdout",
     "output_type": "stream",
     "text": [
      "    -- Conversion to pd.DataFrame ...\n",
      "    -- Extract QNAN part ...\n",
      "    -- 0 of QNAN were detected !\n",
      "    -- No QNAN detected !\n",
      "VD051_C4.txt=============================================\n",
      "No time information --> pass\n",
      "VD052_C4.txt=============================================\n"
     ]
    },
    {
     "data": {
      "application/vnd.jupyter.widget-view+json": {
       "model_id": "9bbfa8c03eb14b11a1bb8a35743db4e6",
       "version_major": 2,
       "version_minor": 0
      },
      "text/plain": [
       "    -- Extract eeg values ... :   0%|          | 0/5191463 [00:00<?, ?it/s]"
      ]
     },
     "metadata": {},
     "output_type": "display_data"
    },
    {
     "name": "stdout",
     "output_type": "stream",
     "text": [
      "    -- Conversion to pd.DataFrame ...\n",
      "    -- Extract QNAN part ...\n",
      "    -- 44087 of QNAN were detected !\n",
      "    -- 1 segments of QNAN detected !\n",
      "\n",
      "    -- hypno start        nan_start           nan_end\n",
      "    -- -                  -                   -\n",
      "VD053_C4.txt=============================================\n"
     ]
    },
    {
     "data": {
      "application/vnd.jupyter.widget-view+json": {
       "model_id": "952fe238ba43408ba07e23389cd0b6dd",
       "version_major": 2,
       "version_minor": 0
      },
      "text/plain": [
       "    -- Extract eeg values ... :   0%|          | 0/4505438 [00:00<?, ?it/s]"
      ]
     },
     "metadata": {},
     "output_type": "display_data"
    },
    {
     "name": "stdout",
     "output_type": "stream",
     "text": [
      "    -- Conversion to pd.DataFrame ...\n",
      "    -- Extract QNAN part ...\n",
      "    -- 56879 of QNAN were detected !\n",
      "    -- 2 segments of QNAN detected !\n",
      "\n",
      "    -- hypno start        nan_start           nan_end\n",
      "    -- -                  -                   -\n",
      "    -- -                  -                   -\n",
      "VD054_C4.txt=============================================\n"
     ]
    },
    {
     "data": {
      "application/vnd.jupyter.widget-view+json": {
       "model_id": "f31ec281a8cd404ca1ef78a83c67d9c8",
       "version_major": 2,
       "version_minor": 0
      },
      "text/plain": [
       "    -- Extract eeg values ... :   0%|          | 0/4337008 [00:00<?, ?it/s]"
      ]
     },
     "metadata": {},
     "output_type": "display_data"
    },
    {
     "name": "stdout",
     "output_type": "stream",
     "text": [
      "    -- Conversion to pd.DataFrame ...\n",
      "    -- Extract QNAN part ...\n",
      "    -- 0 of QNAN were detected !\n",
      "    -- No QNAN detected !\n",
      "VD055_C4.txt=============================================\n",
      "No time information --> pass\n",
      "VD056_C4.txt=============================================\n"
     ]
    },
    {
     "data": {
      "application/vnd.jupyter.widget-view+json": {
       "model_id": "f887c602cabc44a797c0b0d8af66564c",
       "version_major": 2,
       "version_minor": 0
      },
      "text/plain": [
       "    -- Extract eeg values ... :   0%|          | 0/4397289 [00:00<?, ?it/s]"
      ]
     },
     "metadata": {},
     "output_type": "display_data"
    },
    {
     "name": "stdout",
     "output_type": "stream",
     "text": [
      "    -- Conversion to pd.DataFrame ...\n",
      "    -- Extract QNAN part ...\n",
      "    -- 0 of QNAN were detected !\n",
      "    -- No QNAN detected !\n",
      "VD057_C4.txt=============================================\n"
     ]
    },
    {
     "data": {
      "application/vnd.jupyter.widget-view+json": {
       "model_id": "13114ef9cebf4020841cd53923dde4eb",
       "version_major": 2,
       "version_minor": 0
      },
      "text/plain": [
       "    -- Extract eeg values ... :   0%|          | 0/4624992 [00:00<?, ?it/s]"
      ]
     },
     "metadata": {},
     "output_type": "display_data"
    },
    {
     "name": "stdout",
     "output_type": "stream",
     "text": [
      "    -- Conversion to pd.DataFrame ...\n",
      "    -- Extract QNAN part ...\n",
      "    -- 49062 of QNAN were detected !\n",
      "    -- 1 segments of QNAN detected !\n",
      "\n",
      "    -- hypno start        nan_start           nan_end\n",
      "    -- -                  -                   -\n",
      "VD058_C4.txt=============================================\n",
      "No time information --> pass\n"
     ]
    },
    {
     "data": {
      "text/html": [
       "<div>\n",
       "<style scoped>\n",
       "    .dataframe tbody tr th:only-of-type {\n",
       "        vertical-align: middle;\n",
       "    }\n",
       "\n",
       "    .dataframe tbody tr th {\n",
       "        vertical-align: top;\n",
       "    }\n",
       "\n",
       "    .dataframe thead th {\n",
       "        text-align: right;\n",
       "    }\n",
       "</style>\n",
       "<table border=\"1\" class=\"dataframe\">\n",
       "  <thead>\n",
       "    <tr style=\"text-align: right;\">\n",
       "      <th></th>\n",
       "      <th>hypno_start</th>\n",
       "      <th>nan_start</th>\n",
       "      <th>nan_end</th>\n",
       "      <th>duration of QNAN</th>\n",
       "    </tr>\n",
       "  </thead>\n",
       "  <tbody>\n",
       "    <tr>\n",
       "      <th>VD003</th>\n",
       "      <td>NaN</td>\n",
       "      <td>no time infromation</td>\n",
       "      <td>NaN</td>\n",
       "      <td>NaN</td>\n",
       "    </tr>\n",
       "    <tr>\n",
       "      <th>VD009</th>\n",
       "      <td>no edf and ground_truth</td>\n",
       "      <td>NaN</td>\n",
       "      <td>NaN</td>\n",
       "      <td>NaN</td>\n",
       "    </tr>\n",
       "    <tr>\n",
       "      <th>VD010</th>\n",
       "      <td>no edf and ground_truth</td>\n",
       "      <td>NaN</td>\n",
       "      <td>NaN</td>\n",
       "      <td>NaN</td>\n",
       "    </tr>\n",
       "    <tr>\n",
       "      <th>VD014</th>\n",
       "      <td>no edf and ground_truth</td>\n",
       "      <td>NaN</td>\n",
       "      <td>NaN</td>\n",
       "      <td>NaN</td>\n",
       "    </tr>\n",
       "    <tr>\n",
       "      <th>VD015</th>\n",
       "      <td>no edf and ground_truth</td>\n",
       "      <td>NaN</td>\n",
       "      <td>NaN</td>\n",
       "      <td>NaN</td>\n",
       "    </tr>\n",
       "    <tr>\n",
       "      <th>VD016</th>\n",
       "      <td>no edf and ground_truth</td>\n",
       "      <td>NaN</td>\n",
       "      <td>NaN</td>\n",
       "      <td>NaN</td>\n",
       "    </tr>\n",
       "    <tr>\n",
       "      <th>VD018</th>\n",
       "      <td>no edf and ground_truth</td>\n",
       "      <td>NaN</td>\n",
       "      <td>NaN</td>\n",
       "      <td>NaN</td>\n",
       "    </tr>\n",
       "    <tr>\n",
       "      <th>VD020</th>\n",
       "      <td>no edf and ground_truth</td>\n",
       "      <td>NaN</td>\n",
       "      <td>NaN</td>\n",
       "      <td>NaN</td>\n",
       "    </tr>\n",
       "    <tr>\n",
       "      <th>VD026</th>\n",
       "      <td>no edf and ground_truth</td>\n",
       "      <td>NaN</td>\n",
       "      <td>NaN</td>\n",
       "      <td>NaN</td>\n",
       "    </tr>\n",
       "    <tr>\n",
       "      <th>VD048</th>\n",
       "      <td>no edf and ground_truth</td>\n",
       "      <td>NaN</td>\n",
       "      <td>NaN</td>\n",
       "      <td>NaN</td>\n",
       "    </tr>\n",
       "    <tr>\n",
       "      <th>VD051</th>\n",
       "      <td>NaN</td>\n",
       "      <td>no time infromation</td>\n",
       "      <td>NaN</td>\n",
       "      <td>NaN</td>\n",
       "    </tr>\n",
       "    <tr>\n",
       "      <th>VD055</th>\n",
       "      <td>NaN</td>\n",
       "      <td>no time infromation</td>\n",
       "      <td>NaN</td>\n",
       "      <td>NaN</td>\n",
       "    </tr>\n",
       "    <tr>\n",
       "      <th>VD058</th>\n",
       "      <td>NaN</td>\n",
       "      <td>no time infromation</td>\n",
       "      <td>NaN</td>\n",
       "      <td>NaN</td>\n",
       "    </tr>\n",
       "  </tbody>\n",
       "</table>\n",
       "</div>"
      ],
      "text/plain": [
       "                   hypno_start            nan_start  nan_end  duration of QNAN\n",
       "VD003                      NaN  no time infromation      NaN               NaN\n",
       "VD009  no edf and ground_truth                  NaN      NaN               NaN\n",
       "VD010  no edf and ground_truth                  NaN      NaN               NaN\n",
       "VD014  no edf and ground_truth                  NaN      NaN               NaN\n",
       "VD015  no edf and ground_truth                  NaN      NaN               NaN\n",
       "VD016  no edf and ground_truth                  NaN      NaN               NaN\n",
       "VD018  no edf and ground_truth                  NaN      NaN               NaN\n",
       "VD020  no edf and ground_truth                  NaN      NaN               NaN\n",
       "VD026  no edf and ground_truth                  NaN      NaN               NaN\n",
       "VD048  no edf and ground_truth                  NaN      NaN               NaN\n",
       "VD051                      NaN  no time infromation      NaN               NaN\n",
       "VD055                      NaN  no time infromation      NaN               NaN\n",
       "VD058                      NaN  no time infromation      NaN               NaN"
      ]
     },
     "execution_count": 4,
     "metadata": {},
     "output_type": "execute_result"
    }
   ],
   "source": [
    "for C4_txt in tqdm(C4_txts[28:], desc='Total Inspection'):\n",
    "    print(f'{C4_txt}=============================================')\n",
    "    df_nan_sum = QNAN_inspection.update_df(path_C4_txts, C4_txt, df_meas, df_nan_sum)\n",
    "df_nan_sum"
   ]
  },
  {
   "cell_type": "code",
   "execution_count": 5,
   "id": "67df9edc",
   "metadata": {},
   "outputs": [],
   "source": [
    "df_nan_sum.to_csv('nan_test_result.csv')"
   ]
  },
  {
   "cell_type": "code",
   "execution_count": 9,
   "id": "684ba3cc",
   "metadata": {
    "scrolled": false
   },
   "outputs": [],
   "source": [
    "#df_nan_sum.to_csv('31.csv')"
   ]
  },
  {
   "cell_type": "markdown",
   "id": "eefdb7de",
   "metadata": {},
   "source": [
    "# VD001 먼저 살펴 보자"
   ]
  },
  {
   "cell_type": "code",
   "execution_count": 7,
   "id": "624e70dc",
   "metadata": {},
   "outputs": [],
   "source": [
    "def time_to_seconds(time):\n",
    "    time = time.split(':')\n",
    "    seconds = int(time[0])*3600 + int(time[1])*60 + int(time[2])\n",
    "    return seconds"
   ]
  },
  {
   "cell_type": "code",
   "execution_count": 6,
   "id": "1e17645e",
   "metadata": {},
   "outputs": [
    {
     "data": {
      "text/plain": [
       "['VD042_C4.txt', 'VD043_C4.txt']"
      ]
     },
     "execution_count": 6,
     "metadata": {},
     "output_type": "execute_result"
    }
   ],
   "source": [
    "C4_txts = C4_txts[33:35]\n",
    "C4_txts"
   ]
  },
  {
   "cell_type": "code",
   "execution_count": 9,
   "id": "23a5f8f2",
   "metadata": {
    "scrolled": false
   },
   "outputs": [
    {
     "data": {
      "application/vnd.jupyter.widget-view+json": {
       "model_id": "e02a7e8e38964aeab63ba88b5090ad9c",
       "version_major": 2,
       "version_minor": 0
      },
      "text/plain": [
       "    Extract eeg values ... : 0it [00:00, ?it/s]"
      ]
     },
     "metadata": {},
     "output_type": "display_data"
    },
    {
     "name": "stdout",
     "output_type": "stream",
     "text": [
      "Conversion to pd.DataFrame ...\n",
      "Extract QNAN part ...\n"
     ]
    },
    {
     "ename": "KeyError",
     "evalue": "0",
     "output_type": "error",
     "traceback": [
      "\u001b[1;31m---------------------------------------------------------------------------\u001b[0m",
      "\u001b[1;31mKeyError\u001b[0m                                  Traceback (most recent call last)",
      "\u001b[1;32m~\\anaconda3\\lib\\site-packages\\pandas\\core\\indexes\\base.py\u001b[0m in \u001b[0;36mget_loc\u001b[1;34m(self, key, method, tolerance)\u001b[0m\n\u001b[0;32m   3360\u001b[0m             \u001b[1;32mtry\u001b[0m\u001b[1;33m:\u001b[0m\u001b[1;33m\u001b[0m\u001b[1;33m\u001b[0m\u001b[0m\n\u001b[1;32m-> 3361\u001b[1;33m                 \u001b[1;32mreturn\u001b[0m \u001b[0mself\u001b[0m\u001b[1;33m.\u001b[0m\u001b[0m_engine\u001b[0m\u001b[1;33m.\u001b[0m\u001b[0mget_loc\u001b[0m\u001b[1;33m(\u001b[0m\u001b[0mcasted_key\u001b[0m\u001b[1;33m)\u001b[0m\u001b[1;33m\u001b[0m\u001b[1;33m\u001b[0m\u001b[0m\n\u001b[0m\u001b[0;32m   3362\u001b[0m             \u001b[1;32mexcept\u001b[0m \u001b[0mKeyError\u001b[0m \u001b[1;32mas\u001b[0m \u001b[0merr\u001b[0m\u001b[1;33m:\u001b[0m\u001b[1;33m\u001b[0m\u001b[1;33m\u001b[0m\u001b[0m\n",
      "\u001b[1;32m~\\anaconda3\\lib\\site-packages\\pandas\\_libs\\index.pyx\u001b[0m in \u001b[0;36mpandas._libs.index.IndexEngine.get_loc\u001b[1;34m()\u001b[0m\n",
      "\u001b[1;32m~\\anaconda3\\lib\\site-packages\\pandas\\_libs\\index.pyx\u001b[0m in \u001b[0;36mpandas._libs.index.IndexEngine.get_loc\u001b[1;34m()\u001b[0m\n",
      "\u001b[1;32mpandas\\_libs\\hashtable_class_helper.pxi\u001b[0m in \u001b[0;36mpandas._libs.hashtable.PyObjectHashTable.get_item\u001b[1;34m()\u001b[0m\n",
      "\u001b[1;32mpandas\\_libs\\hashtable_class_helper.pxi\u001b[0m in \u001b[0;36mpandas._libs.hashtable.PyObjectHashTable.get_item\u001b[1;34m()\u001b[0m\n",
      "\u001b[1;31mKeyError\u001b[0m: 0",
      "\nThe above exception was the direct cause of the following exception:\n",
      "\u001b[1;31mKeyError\u001b[0m                                  Traceback (most recent call last)",
      "\u001b[1;32m~\\AppData\\Local\\Temp/ipykernel_11840/461993497.py\u001b[0m in \u001b[0;36m<module>\u001b[1;34m\u001b[0m\n\u001b[0;32m     30\u001b[0m \u001b[1;33m\u001b[0m\u001b[0m\n\u001b[0;32m     31\u001b[0m \u001b[0mprint\u001b[0m\u001b[1;33m(\u001b[0m\u001b[1;34m\"Extract QNAN part ...\"\u001b[0m\u001b[1;33m)\u001b[0m\u001b[1;33m\u001b[0m\u001b[1;33m\u001b[0m\u001b[0m\n\u001b[1;32m---> 32\u001b[1;33m \u001b[0mnan_condition\u001b[0m \u001b[1;33m=\u001b[0m \u001b[0mdata_df\u001b[0m\u001b[1;33m[\u001b[0m\u001b[1;36m0\u001b[0m\u001b[1;33m]\u001b[0m \u001b[1;33m==\u001b[0m \u001b[1;34m'-1.#QNAN'\u001b[0m\u001b[1;33m\u001b[0m\u001b[1;33m\u001b[0m\u001b[0m\n\u001b[0m\u001b[0;32m     33\u001b[0m \u001b[0mprint\u001b[0m\u001b[1;33m(\u001b[0m\u001b[1;34mf\"{nan_condition.sum()} of QNAN were detected !\"\u001b[0m\u001b[1;33m)\u001b[0m\u001b[1;33m\u001b[0m\u001b[1;33m\u001b[0m\u001b[0m\n\u001b[0;32m     34\u001b[0m \u001b[1;33m\u001b[0m\u001b[0m\n",
      "\u001b[1;32m~\\anaconda3\\lib\\site-packages\\pandas\\core\\frame.py\u001b[0m in \u001b[0;36m__getitem__\u001b[1;34m(self, key)\u001b[0m\n\u001b[0;32m   3456\u001b[0m             \u001b[1;32mif\u001b[0m \u001b[0mself\u001b[0m\u001b[1;33m.\u001b[0m\u001b[0mcolumns\u001b[0m\u001b[1;33m.\u001b[0m\u001b[0mnlevels\u001b[0m \u001b[1;33m>\u001b[0m \u001b[1;36m1\u001b[0m\u001b[1;33m:\u001b[0m\u001b[1;33m\u001b[0m\u001b[1;33m\u001b[0m\u001b[0m\n\u001b[0;32m   3457\u001b[0m                 \u001b[1;32mreturn\u001b[0m \u001b[0mself\u001b[0m\u001b[1;33m.\u001b[0m\u001b[0m_getitem_multilevel\u001b[0m\u001b[1;33m(\u001b[0m\u001b[0mkey\u001b[0m\u001b[1;33m)\u001b[0m\u001b[1;33m\u001b[0m\u001b[1;33m\u001b[0m\u001b[0m\n\u001b[1;32m-> 3458\u001b[1;33m             \u001b[0mindexer\u001b[0m \u001b[1;33m=\u001b[0m \u001b[0mself\u001b[0m\u001b[1;33m.\u001b[0m\u001b[0mcolumns\u001b[0m\u001b[1;33m.\u001b[0m\u001b[0mget_loc\u001b[0m\u001b[1;33m(\u001b[0m\u001b[0mkey\u001b[0m\u001b[1;33m)\u001b[0m\u001b[1;33m\u001b[0m\u001b[1;33m\u001b[0m\u001b[0m\n\u001b[0m\u001b[0;32m   3459\u001b[0m             \u001b[1;32mif\u001b[0m \u001b[0mis_integer\u001b[0m\u001b[1;33m(\u001b[0m\u001b[0mindexer\u001b[0m\u001b[1;33m)\u001b[0m\u001b[1;33m:\u001b[0m\u001b[1;33m\u001b[0m\u001b[1;33m\u001b[0m\u001b[0m\n\u001b[0;32m   3460\u001b[0m                 \u001b[0mindexer\u001b[0m \u001b[1;33m=\u001b[0m \u001b[1;33m[\u001b[0m\u001b[0mindexer\u001b[0m\u001b[1;33m]\u001b[0m\u001b[1;33m\u001b[0m\u001b[1;33m\u001b[0m\u001b[0m\n",
      "\u001b[1;32m~\\anaconda3\\lib\\site-packages\\pandas\\core\\indexes\\base.py\u001b[0m in \u001b[0;36mget_loc\u001b[1;34m(self, key, method, tolerance)\u001b[0m\n\u001b[0;32m   3361\u001b[0m                 \u001b[1;32mreturn\u001b[0m \u001b[0mself\u001b[0m\u001b[1;33m.\u001b[0m\u001b[0m_engine\u001b[0m\u001b[1;33m.\u001b[0m\u001b[0mget_loc\u001b[0m\u001b[1;33m(\u001b[0m\u001b[0mcasted_key\u001b[0m\u001b[1;33m)\u001b[0m\u001b[1;33m\u001b[0m\u001b[1;33m\u001b[0m\u001b[0m\n\u001b[0;32m   3362\u001b[0m             \u001b[1;32mexcept\u001b[0m \u001b[0mKeyError\u001b[0m \u001b[1;32mas\u001b[0m \u001b[0merr\u001b[0m\u001b[1;33m:\u001b[0m\u001b[1;33m\u001b[0m\u001b[1;33m\u001b[0m\u001b[0m\n\u001b[1;32m-> 3363\u001b[1;33m                 \u001b[1;32mraise\u001b[0m \u001b[0mKeyError\u001b[0m\u001b[1;33m(\u001b[0m\u001b[0mkey\u001b[0m\u001b[1;33m)\u001b[0m \u001b[1;32mfrom\u001b[0m \u001b[0merr\u001b[0m\u001b[1;33m\u001b[0m\u001b[1;33m\u001b[0m\u001b[0m\n\u001b[0m\u001b[0;32m   3364\u001b[0m \u001b[1;33m\u001b[0m\u001b[0m\n\u001b[0;32m   3365\u001b[0m         \u001b[1;32mif\u001b[0m \u001b[0mis_scalar\u001b[0m\u001b[1;33m(\u001b[0m\u001b[0mkey\u001b[0m\u001b[1;33m)\u001b[0m \u001b[1;32mand\u001b[0m \u001b[0misna\u001b[0m\u001b[1;33m(\u001b[0m\u001b[0mkey\u001b[0m\u001b[1;33m)\u001b[0m \u001b[1;32mand\u001b[0m \u001b[1;32mnot\u001b[0m \u001b[0mself\u001b[0m\u001b[1;33m.\u001b[0m\u001b[0mhasnans\u001b[0m\u001b[1;33m:\u001b[0m\u001b[1;33m\u001b[0m\u001b[1;33m\u001b[0m\u001b[0m\n",
      "\u001b[1;31mKeyError\u001b[0m: 0"
     ]
    }
   ],
   "source": [
    "import os\n",
    "import datetime\n",
    "import pandas as pd\n",
    "import numpy as np\n",
    "import matplotlib.pyplot as plt\n",
    "from tqdm.notebook import tqdm\n",
    "\n",
    "\n",
    "temp_df_meas = df_meas.loc[C4_txts[0][0:5],:]\n",
    "hypno_start = temp_df_meas['hypno_start']\n",
    "edf_start = temp_df_meas['edf_start']\n",
    "sample_num_to_crop = (23 - int(edf_start[0:2]))*3600*500\n",
    "\n",
    "temp_txt = os.path.join(path_C4_txts, C4_txts[0])\n",
    "with open(temp_txt, 'r') as f:\n",
    "    lines = f.readlines() # Read txt file\n",
    "    lines = lines[sample_num_to_crop:] # include only valid information which contains the signal values\n",
    "\n",
    "times = []    \n",
    "data = []\n",
    "for line in tqdm(lines, desc='    Extract eeg values ... '):\n",
    "    temp_time = line.strip().split()[0]\n",
    "    temp_data = line.strip().split()[1]\n",
    "    times.append(temp_time)\n",
    "    data.append(temp_data)\n",
    "\n",
    "print(\"Conversion to pd.DataFrame ...\")\n",
    "times_df = pd.DataFrame(times)\n",
    "data_df = pd.DataFrame(data)\n",
    "\n",
    "print(\"Extract QNAN part ...\")\n",
    "nan_condition = data_df[0] == '-1.#QNAN'\n",
    "print(f\"{nan_condition.sum()} of QNAN were detected !\")\n",
    "\n",
    "nan_df = data_df[nan_condition].index\n",
    "\n",
    "idx_transition_start = [0]\n",
    "idx_transition_end = []\n",
    "for iter in range(len(nan_df)-1):\n",
    "    if (nan_df[iter+1] - nan_df[iter]) > 10:\n",
    "        idx_transition_end.append(iter)\n",
    "        idx_transition_start.append(iter+1)\n",
    "if len(nan_df) > 0:\n",
    "    idx_transition_end.append(len(nan_df)-1)        \n",
    "print(f\"{len(idx_transition_start)} of QNAN segments detected !\")\n",
    "\n",
    "nan_start_times = times_df[0][nan_df[idx_transition_start]].values\n",
    "nan_end_times = times_df[0][nan_df[idx_transition_end]].values\n",
    "nan_times = np.append(nan_start_times, nan_end_times)\n",
    "\n",
    "plt.plot(nan_df)\n",
    "plt.xticks(idx_transition_start+idx_transition_end, nan_times, rotation=30)\n",
    "\n",
    "hypno_start_seconds = time_to_seconds(hypno_start)\n",
    "print(f\"\\nhypno start        nan_start           nan_end\")\n",
    "for idx in range(len(idx_transition_start)):\n",
    "    temp_nan_start = times_df[0][nan_df[idx_transition_start[idx]]]\n",
    "    temp_nan_end = times_df[0][nan_df[idx_transition_end[idx]]]\n",
    "    temp_nan_start_seconds = time_to_seconds(temp_nan_start)\n",
    "    temp_nan_end_seconds = time_to_seconds(temp_nan_end)\n",
    "    \n",
    "    print(f\"{hypno_start}            {temp_nan_start}    {temp_nan_end}\")\n",
    "#     if temp_nan_start_seconds < hypno_start_seconds < temp_nan_end_seconds:\n",
    "#         print(f\"{hypno_start}            {temp_nan_start}    {temp_nan_end}\")\n",
    "#     else:\n",
    "#         print(\"-                  -                   -\")\n",
    "        "
   ]
  },
  {
   "cell_type": "code",
   "execution_count": 10,
   "id": "c9764b5a",
   "metadata": {},
   "outputs": [
    {
     "data": {
      "text/plain": [
       "[]"
      ]
     },
     "execution_count": 10,
     "metadata": {},
     "output_type": "execute_result"
    }
   ],
   "source": [
    "lines"
   ]
  }
 ],
 "metadata": {
  "kernelspec": {
   "display_name": "Python 3 (ipykernel)",
   "language": "python",
   "name": "python3"
  },
  "language_info": {
   "codemirror_mode": {
    "name": "ipython",
    "version": 3
   },
   "file_extension": ".py",
   "mimetype": "text/x-python",
   "name": "python",
   "nbconvert_exporter": "python",
   "pygments_lexer": "ipython3",
   "version": "3.9.7"
  }
 },
 "nbformat": 4,
 "nbformat_minor": 5
}
