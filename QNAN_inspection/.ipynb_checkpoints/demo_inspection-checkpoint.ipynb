{
 "cells": [
  {
   "cell_type": "code",
   "execution_count": 5,
   "id": "d817f90a",
   "metadata": {},
   "outputs": [],
   "source": [
    "import matplotlib.pyplot as plt\n",
    "import pandas as pd\n",
    "import numpy as np\n",
    "from tqdm.notebook import tqdm, trange"
   ]
  },
  {
   "cell_type": "code",
   "execution_count": 3,
   "id": "98665d2a",
   "metadata": {},
   "outputs": [
    {
     "data": {
      "application/vnd.jupyter.widget-view+json": {
       "model_id": "74f6777418a6489eac3e3ecdf4d9dd1a",
       "version_major": 2,
       "version_minor": 0
      },
      "text/plain": [
       "Extract eeg values ... :   0%|          | 0/22615618 [00:00<?, ?it/s]"
      ]
     },
     "metadata": {},
     "output_type": "display_data"
    }
   ],
   "source": [
    "path_test_eeg = 'test_VD012_C3.txt'\n",
    "with open(path_test_eeg, 'r') as f:\n",
    "    lines = f.readlines() # Read txt file\n",
    "    lines = lines[5:] # include only valid information which contains the signal values\n",
    "    \n",
    "new_lines = []\n",
    "for line in tqdm(lines, desc='Extract eeg values ... '):\n",
    "    temp_value = line.strip().split()[1]\n",
    "    new_lines.append(temp_value)"
   ]
  },
  {
   "cell_type": "code",
   "execution_count": 6,
   "id": "e3915dc0",
   "metadata": {},
   "outputs": [
    {
     "data": {
      "text/html": [
       "<div>\n",
       "<style scoped>\n",
       "    .dataframe tbody tr th:only-of-type {\n",
       "        vertical-align: middle;\n",
       "    }\n",
       "\n",
       "    .dataframe tbody tr th {\n",
       "        vertical-align: top;\n",
       "    }\n",
       "\n",
       "    .dataframe thead th {\n",
       "        text-align: right;\n",
       "    }\n",
       "</style>\n",
       "<table border=\"1\" class=\"dataframe\">\n",
       "  <thead>\n",
       "    <tr style=\"text-align: right;\">\n",
       "      <th></th>\n",
       "      <th>0</th>\n",
       "    </tr>\n",
       "  </thead>\n",
       "  <tbody>\n",
       "    <tr>\n",
       "      <th>0</th>\n",
       "      <td>0</td>\n",
       "    </tr>\n",
       "    <tr>\n",
       "      <th>1</th>\n",
       "      <td>-9.2e-008</td>\n",
       "    </tr>\n",
       "    <tr>\n",
       "      <th>2</th>\n",
       "      <td>3.22e-006</td>\n",
       "    </tr>\n",
       "    <tr>\n",
       "      <th>3</th>\n",
       "      <td>2.76e-007</td>\n",
       "    </tr>\n",
       "    <tr>\n",
       "      <th>4</th>\n",
       "      <td>2.76e-006</td>\n",
       "    </tr>\n",
       "    <tr>\n",
       "      <th>...</th>\n",
       "      <td>...</td>\n",
       "    </tr>\n",
       "    <tr>\n",
       "      <th>22615613</th>\n",
       "      <td>-0.000240856</td>\n",
       "    </tr>\n",
       "    <tr>\n",
       "      <th>22615614</th>\n",
       "      <td>-0.000238648</td>\n",
       "    </tr>\n",
       "    <tr>\n",
       "      <th>22615615</th>\n",
       "      <td>-0.000232024</td>\n",
       "    </tr>\n",
       "    <tr>\n",
       "      <th>22615616</th>\n",
       "      <td>-0.000232576</td>\n",
       "    </tr>\n",
       "    <tr>\n",
       "      <th>22615617</th>\n",
       "      <td>-0.000240764</td>\n",
       "    </tr>\n",
       "  </tbody>\n",
       "</table>\n",
       "<p>22615618 rows × 1 columns</p>\n",
       "</div>"
      ],
      "text/plain": [
       "                     0\n",
       "0                    0\n",
       "1            -9.2e-008\n",
       "2            3.22e-006\n",
       "3            2.76e-007\n",
       "4            2.76e-006\n",
       "...                ...\n",
       "22615613  -0.000240856\n",
       "22615614  -0.000238648\n",
       "22615615  -0.000232024\n",
       "22615616  -0.000232576\n",
       "22615617  -0.000240764\n",
       "\n",
       "[22615618 rows x 1 columns]"
      ]
     },
     "execution_count": 6,
     "metadata": {},
     "output_type": "execute_result"
    }
   ],
   "source": [
    "test_np = np.array(new_lines)\n",
    "test_pd = pd.DataFrame(test_np)\n",
    "test_pd"
   ]
  },
  {
   "cell_type": "code",
   "execution_count": 7,
   "id": "e62c31bf",
   "metadata": {},
   "outputs": [
    {
     "data": {
      "text/html": [
       "<div>\n",
       "<style scoped>\n",
       "    .dataframe tbody tr th:only-of-type {\n",
       "        vertical-align: middle;\n",
       "    }\n",
       "\n",
       "    .dataframe tbody tr th {\n",
       "        vertical-align: top;\n",
       "    }\n",
       "\n",
       "    .dataframe thead th {\n",
       "        text-align: right;\n",
       "    }\n",
       "</style>\n",
       "<table border=\"1\" class=\"dataframe\">\n",
       "  <thead>\n",
       "    <tr style=\"text-align: right;\">\n",
       "      <th></th>\n",
       "      <th>0</th>\n",
       "    </tr>\n",
       "  </thead>\n",
       "  <tbody>\n",
       "    <tr>\n",
       "      <th>2125</th>\n",
       "      <td>-1.#QNAN</td>\n",
       "    </tr>\n",
       "    <tr>\n",
       "      <th>2126</th>\n",
       "      <td>-1.#QNAN</td>\n",
       "    </tr>\n",
       "    <tr>\n",
       "      <th>2127</th>\n",
       "      <td>-1.#QNAN</td>\n",
       "    </tr>\n",
       "    <tr>\n",
       "      <th>2128</th>\n",
       "      <td>-1.#QNAN</td>\n",
       "    </tr>\n",
       "    <tr>\n",
       "      <th>2129</th>\n",
       "      <td>-1.#QNAN</td>\n",
       "    </tr>\n",
       "    <tr>\n",
       "      <th>...</th>\n",
       "      <td>...</td>\n",
       "    </tr>\n",
       "    <tr>\n",
       "      <th>5394439</th>\n",
       "      <td>-1.#QNAN</td>\n",
       "    </tr>\n",
       "    <tr>\n",
       "      <th>5394440</th>\n",
       "      <td>-1.#QNAN</td>\n",
       "    </tr>\n",
       "    <tr>\n",
       "      <th>5394441</th>\n",
       "      <td>-1.#QNAN</td>\n",
       "    </tr>\n",
       "    <tr>\n",
       "      <th>5394442</th>\n",
       "      <td>-1.#QNAN</td>\n",
       "    </tr>\n",
       "    <tr>\n",
       "      <th>5394443</th>\n",
       "      <td>-1.#QNAN</td>\n",
       "    </tr>\n",
       "  </tbody>\n",
       "</table>\n",
       "<p>710969 rows × 1 columns</p>\n",
       "</div>"
      ],
      "text/plain": [
       "                0\n",
       "2125     -1.#QNAN\n",
       "2126     -1.#QNAN\n",
       "2127     -1.#QNAN\n",
       "2128     -1.#QNAN\n",
       "2129     -1.#QNAN\n",
       "...           ...\n",
       "5394439  -1.#QNAN\n",
       "5394440  -1.#QNAN\n",
       "5394441  -1.#QNAN\n",
       "5394442  -1.#QNAN\n",
       "5394443  -1.#QNAN\n",
       "\n",
       "[710969 rows x 1 columns]"
      ]
     },
     "execution_count": 7,
     "metadata": {},
     "output_type": "execute_result"
    }
   ],
   "source": [
    "nan_pd = test_pd[test_pd[0] == '-1.#QNAN']\n",
    "nan_pd"
   ]
  },
  {
   "cell_type": "code",
   "execution_count": 8,
   "id": "f28819d9",
   "metadata": {},
   "outputs": [
    {
     "name": "stdout",
     "output_type": "stream",
     "text": [
      "Int64Index([   2125,    2126,    2127,    2128,    2129,    2130,    2131,\n",
      "               2132,    2133,    2134,\n",
      "            ...\n",
      "            5394434, 5394435, 5394436, 5394437, 5394438, 5394439, 5394440,\n",
      "            5394441, 5394442, 5394443],\n",
      "           dtype='int64', length=710969)\n"
     ]
    },
    {
     "data": {
      "text/plain": [
       "[<matplotlib.lines.Line2D at 0x232ad4389a0>]"
      ]
     },
     "execution_count": 8,
     "metadata": {},
     "output_type": "execute_result"
    },
    {
     "data": {
      "image/png": "[encoded data removed]",
      "text/plain": [
       "<Figure size 432x288 with 1 Axes>"
      ]
     },
     "metadata": {
      "needs_background": "light"
     },
     "output_type": "display_data"
    }
   ],
   "source": [
    "nan_idex = nan_pd.index\n",
    "print(nan_idex)\n",
    "plt.plot(nan_idex)"
   ]
  },
  {
   "cell_type": "code",
   "execution_count": 9,
   "id": "53e3a619",
   "metadata": {},
   "outputs": [
    {
     "name": "stdout",
     "output_type": "stream",
     "text": [
      "Int64Index([ 2125,  2126,  2127,  2128,  2129,  2130,  2131,  2132,  2133,\n",
      "             2134,\n",
      "            ...\n",
      "            32690, 32691, 32692, 32693, 32694, 32695, 32696, 32697, 32698,\n",
      "            32699],\n",
      "           dtype='int64', length=30575)\n",
      "61.15 seconds --> 1.0191666666666666 minutes --> 0.01698611111111111 hours\n"
     ]
    },
    {
     "data": {
      "text/plain": [
       "[<matplotlib.lines.Line2D at 0x2342791a550>]"
      ]
     },
     "execution_count": 9,
     "metadata": {},
     "output_type": "execute_result"
    },
    {
     "data": {
      "image/png": "[encoded data removed]",
      "text/plain": [
       "<Figure size 432x288 with 1 Axes>"
      ]
     },
     "metadata": {
      "needs_background": "light"
     },
     "output_type": "display_data"
    }
   ],
   "source": [
    "nan_idex1 = nan_idex[nan_idex<3000000]\n",
    "print(nan_idex1)\n",
    "print(f\"{len(nan_idex1)/500} seconds --> {len(nan_idex1)/500/60} minutes --> {len(nan_idex1)/500/3600} hours\")\n",
    "plt.plot(nan_idex1)"
   ]
  },
  {
   "cell_type": "code",
   "execution_count": 10,
   "id": "f5375e77",
   "metadata": {},
   "outputs": [
    {
     "name": "stdout",
     "output_type": "stream",
     "text": [
      "Int64Index([3664500, 3664501, 3664502, 3664503, 3664504, 3664505, 3664506,\n",
      "            3664507, 3664508, 3664509,\n",
      "            ...\n",
      "            3719637, 3719638, 3719639, 3719640, 3719641, 3719642, 3719643,\n",
      "            3719644, 3719645, 3719646],\n",
      "           dtype='int64', length=55147)\n",
      "110.294 seconds --> 1.8382333333333334 minutes --> 0.030637222222222222 hours\n"
     ]
    },
    {
     "data": {
      "text/plain": [
       "[<matplotlib.lines.Line2D at 0x2330fa35130>]"
      ]
     },
     "execution_count": 10,
     "metadata": {},
     "output_type": "execute_result"
    },
    {
     "data": {
      "image/png": "[encoded data removed]",
      "text/plain": [
       "<Figure size 432x288 with 1 Axes>"
      ]
     },
     "metadata": {
      "needs_background": "light"
     },
     "output_type": "display_data"
    }
   ],
   "source": [
    "nan_idex2 = nan_idex[nan_idex>3000000]\n",
    "nan_idex3 = nan_idex2[nan_idex2<4000000]\n",
    "print(nan_idex3)\n",
    "print(f\"{len(nan_idex3)/500} seconds --> {len(nan_idex3)/500/60} minutes --> {len(nan_idex3)/500/3600} hours\")\n",
    "plt.plot(nan_idex3)"
   ]
  },
  {
   "cell_type": "code",
   "execution_count": 11,
   "id": "431507a6",
   "metadata": {},
   "outputs": [
    {
     "name": "stdout",
     "output_type": "stream",
     "text": [
      "Int64Index([4766997, 4766998, 4766999, 4767000, 4767001, 4767002, 4767003,\n",
      "            4767004, 4767005, 4767006,\n",
      "            ...\n",
      "            5394434, 5394435, 5394436, 5394437, 5394438, 5394439, 5394440,\n",
      "            5394441, 5394442, 5394443],\n",
      "           dtype='int64', length=625247)\n",
      "1250.494 seconds --> 20.841566666666665 minutes --> 0.34735944444444444 hours\n"
     ]
    },
    {
     "data": {
      "text/plain": [
       "[<matplotlib.lines.Line2D at 0x23427873eb0>]"
      ]
     },
     "execution_count": 11,
     "metadata": {},
     "output_type": "execute_result"
    },
    {
     "data": {
      "image/png": "[encoded data removed]",
      "text/plain": [
       "<Figure size 432x288 with 1 Axes>"
      ]
     },
     "metadata": {
      "needs_background": "light"
     },
     "output_type": "display_data"
    }
   ],
   "source": [
    "nan_idex4 = nan_idex[nan_idex>4000000]\n",
    "print(nan_idex4)\n",
    "print(f\"{len(nan_idex4)/500} seconds --> {len(nan_idex4)/500/60} minutes --> {len(nan_idex4)/500/3600} hours\")\n",
    "plt.plot(nan_idex4)"
   ]
  },
  {
   "cell_type": "code",
   "execution_count": 12,
   "id": "23e23e4c",
   "metadata": {},
   "outputs": [
    {
     "data": {
      "text/plain": [
       "2.9969127777777778"
      ]
     },
     "execution_count": 12,
     "metadata": {},
     "output_type": "execute_result"
    }
   ],
   "source": [
    "5394443/500/3600"
   ]
  },
  {
   "cell_type": "code",
   "execution_count": null,
   "id": "38f0be9c",
   "metadata": {},
   "outputs": [],
   "source": []
  }
 ],
 "metadata": {
  "kernelspec": {
   "display_name": "Python 3 (ipykernel)",
   "language": "python",
   "name": "python3"
  },
  "language_info": {
   "codemirror_mode": {
    "name": "ipython",
    "version": 3
   },
   "file_extension": ".py",
   "mimetype": "text/x-python",
   "name": "python",
   "nbconvert_exporter": "python",
   "pygments_lexer": "ipython3",
   "version": "3.9.7"
  }
 },
 "nbformat": 4,
 "nbformat_minor": 5
}
