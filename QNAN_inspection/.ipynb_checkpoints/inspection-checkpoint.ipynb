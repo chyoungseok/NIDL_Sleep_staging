{
 "cells": [
  {
   "cell_type": "code",
   "execution_count": 1,
   "id": "d817f90a",
   "metadata": {},
   "outputs": [],
   "source": [
    "import matplotlib.pyplot as plt\n",
    "import pandas as pd"
   ]
  },
  {
   "cell_type": "code",
   "execution_count": 2,
   "id": "98665d2a",
   "metadata": {},
   "outputs": [
    {
     "ename": "FileNotFoundError",
     "evalue": "[Errno 2] No such file or directory: 'test_VD012_C3.txt'",
     "output_type": "error",
     "traceback": [
      "\u001b[1;31m---------------------------------------------------------------------------\u001b[0m",
      "\u001b[1;31mFileNotFoundError\u001b[0m                         Traceback (most recent call last)",
      "Input \u001b[1;32mIn [2]\u001b[0m, in \u001b[0;36m<cell line: 2>\u001b[1;34m()\u001b[0m\n\u001b[0;32m      1\u001b[0m path_test_eeg \u001b[38;5;241m=\u001b[39m \u001b[38;5;124m'\u001b[39m\u001b[38;5;124mtest_VD012_C3.txt\u001b[39m\u001b[38;5;124m'\u001b[39m\n\u001b[1;32m----> 2\u001b[0m \u001b[38;5;28;01mwith\u001b[39;00m \u001b[38;5;28;43mopen\u001b[39;49m\u001b[43m(\u001b[49m\u001b[43mpath_test_eeg\u001b[49m\u001b[43m,\u001b[49m\u001b[43m \u001b[49m\u001b[38;5;124;43m'\u001b[39;49m\u001b[38;5;124;43mr\u001b[39;49m\u001b[38;5;124;43m'\u001b[39;49m\u001b[43m)\u001b[49m \u001b[38;5;28;01mas\u001b[39;00m f:\n\u001b[0;32m      3\u001b[0m     lines \u001b[38;5;241m=\u001b[39m f\u001b[38;5;241m.\u001b[39mreadlines() \u001b[38;5;66;03m# Read txt file\u001b[39;00m\n\u001b[0;32m      4\u001b[0m     lines \u001b[38;5;241m=\u001b[39m lines[\u001b[38;5;241m5\u001b[39m:] \u001b[38;5;66;03m# include only valid information which contains the signal values\u001b[39;00m\n",
      "\u001b[1;31mFileNotFoundError\u001b[0m: [Errno 2] No such file or directory: 'test_VD012_C3.txt'"
     ]
    }
   ],
   "source": [
    "path_test_eeg = 'test_VD012_C3.txt'\n",
    "with open(path_test_eeg, 'r') as f:\n",
    "    lines = f.readlines() # Read txt file\n",
    "    lines = lines[5:] # include only valid information which contains the signal values\n",
    "    \n",
    "new_lines = []\n",
    "for line in tqdm(lines, desc='Extract eeg values ... '):\n",
    "    temp_value = line.strip().split()[1]\n",
    "    new_lines.append(temp_value)"
   ]
  },
  {
   "cell_type": "code",
   "execution_count": null,
   "id": "e3915dc0",
   "metadata": {},
   "outputs": [],
   "source": [
    "test_np = np.array(new_lines)\n",
    "test_pd = pd.DataFrame(test_np)\n",
    "test_pd"
   ]
  },
  {
   "cell_type": "code",
   "execution_count": null,
   "id": "e62c31bf",
   "metadata": {},
   "outputs": [],
   "source": [
    "nan_pd = test_pd[test_pd[0] == '-1.#QNAN']\n",
    "nan_pd"
   ]
  },
  {
   "cell_type": "code",
   "execution_count": null,
   "id": "f28819d9",
   "metadata": {},
   "outputs": [],
   "source": [
    "nan_idex = nan_pd.index\n",
    "print(nan_idex)\n",
    "plt.plot(nan_idex)"
   ]
  },
  {
   "cell_type": "code",
   "execution_count": null,
   "id": "53e3a619",
   "metadata": {},
   "outputs": [],
   "source": [
    "nan_idex1 = nan_idex[nan_idex<3000000]\n",
    "print(nan_idex1)\n",
    "print(f\"{len(nan_idex1)/500} seconds --> {len(nan_idex1)/500/60} minutes --> {len(nan_idex1)/500/3600} hours\")\n",
    "plt.plot(nan_idex1)"
   ]
  },
  {
   "cell_type": "code",
   "execution_count": null,
   "id": "f5375e77",
   "metadata": {},
   "outputs": [],
   "source": [
    "nan_idex2 = nan_idex[nan_idex>3000000]\n",
    "nan_idex3 = nan_idex2[nan_idex2<4000000]\n",
    "print(nan_idex3)\n",
    "print(f\"{len(nan_idex3)/500} seconds --> {len(nan_idex3)/500/60} minutes --> {len(nan_idex3)/500/3600} hours\")\n",
    "plt.plot(nan_idex3)"
   ]
  },
  {
   "cell_type": "code",
   "execution_count": null,
   "id": "431507a6",
   "metadata": {},
   "outputs": [],
   "source": [
    "nan_idex4 = nan_idex[nan_idex>4000000]\n",
    "print(nan_idex4)\n",
    "print(f\"{len(nan_idex4)/500} seconds --> {len(nan_idex4)/500/60} minutes --> {len(nan_idex4)/500/3600} hours\")\n",
    "plt.plot(nan_idex4)"
   ]
  }
 ],
 "metadata": {
  "kernelspec": {
   "display_name": "Python 3 (ipykernel)",
   "language": "python",
   "name": "python3"
  },
  "language_info": {
   "codemirror_mode": {
    "name": "ipython",
    "version": 3
   },
   "file_extension": ".py",
   "mimetype": "text/x-python",
   "name": "python",
   "nbconvert_exporter": "python",
   "pygments_lexer": "ipython3",
   "version": "3.9.7"
  }
 },
 "nbformat": 4,
 "nbformat_minor": 5
}
