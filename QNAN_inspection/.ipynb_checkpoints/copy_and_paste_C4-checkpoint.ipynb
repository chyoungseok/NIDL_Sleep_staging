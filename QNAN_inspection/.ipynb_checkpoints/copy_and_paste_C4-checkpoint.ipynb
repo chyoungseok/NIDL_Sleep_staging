{
 "cells": [
  {
   "cell_type": "code",
   "execution_count": 1,
   "id": "04a3ffc5",
   "metadata": {},
   "outputs": [
    {
     "name": "stdout",
     "output_type": "stream",
     "text": [
      "-- number of subjects: 18\n",
      "   --> ['VD041_KSH', 'VD042_HSC', 'VD043_KDY', 'VD044_KNY', 'VD045_CSH', 'VD046_KBW', 'VD047_CJS', 'VD048_PJH', 'VD049_CSJ', 'VD050_PKR', 'VD051_CYC', 'VD052_CYM', 'VD053_KHC', 'VD054_PCA', 'VD055_KWT', 'VD056_JSH', 'VD057_HC', 'VD058_YHJ']\n"
     ]
    }
   ],
   "source": [
    "import shutil\n",
    "import os\n",
    "from tqdm.notebook import tqdm, trange\n",
    "\n",
    "dir_from = 'D:\\\\USC\\\\Sleep dataset\\\\Samsung_2nd\\\\VD_eeg_origin'\n",
    "dir_to = 'D:\\\\USC\\\\Sleep dataset\\\\Samsung_2nd\\\\VD_EEG_C4'\n",
    "\n",
    "# dir_from + subject_name --> access to each folder --> copy C4 txt file\n",
    "# paste the C4 txt file into the dir_to\n",
    "\n",
    "subjects_txt = os.listdir(dir_from)\n",
    "subjects_txt.sort()\n",
    "\n",
    "print(f\"-- number of subjects: {len(subjects_txt)}\")\n",
    "print(f\"   --> {subjects_txt}\")"
   ]
  },
  {
   "cell_type": "code",
   "execution_count": 2,
   "id": "4b0bf669",
   "metadata": {},
   "outputs": [
    {
     "data": {
      "application/vnd.jupyter.widget-view+json": {
       "model_id": "4df46e5bf1d64e9dbd89778f64613489",
       "version_major": 2,
       "version_minor": 0
      },
      "text/plain": [
       "Copy and Paste ... :   0%|          | 0/18 [00:00<?, ?it/s]"
      ]
     },
     "metadata": {},
     "output_type": "display_data"
    }
   ],
   "source": [
    "for subject_txt in tqdm(subjects_txt, desc='Copy and Paste ... '):\n",
    "    txts = os.listdir(os.path.join(dir_from, subject_txt))\n",
    "    temp_txt = []\n",
    "    \n",
    "    for txt in txts:\n",
    "        if 'C4' in txt:\n",
    "            temp_txt = txt\n",
    "\n",
    "    if len(temp_txt) == 0:\n",
    "        print(f\"{subject_txt} doesn't have C4 channel\")\n",
    "        continue\n",
    "    new_name = subject_txt[0:5] + '_C4.txt'\n",
    "    shutil.copy2(os.path.join(dir_from, subject_txt, temp_txt), os.path.join(dir_to, new_name))"
   ]
  },
  {
   "cell_type": "code",
   "execution_count": null,
   "id": "dc081137",
   "metadata": {},
   "outputs": [],
   "source": []
  }
 ],
 "metadata": {
  "kernelspec": {
   "display_name": "Python 3 (ipykernel)",
   "language": "python",
   "name": "python3"
  },
  "language_info": {
   "codemirror_mode": {
    "name": "ipython",
    "version": 3
   },
   "file_extension": ".py",
   "mimetype": "text/x-python",
   "name": "python",
   "nbconvert_exporter": "python",
   "pygments_lexer": "ipython3",
   "version": "3.9.7"
  }
 },
 "nbformat": 4,
 "nbformat_minor": 5
}
