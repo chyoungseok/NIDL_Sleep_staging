{
 "cells": [
  {
   "cell_type": "code",
   "execution_count": 1,
   "id": "9da27d01",
   "metadata": {
    "scrolled": true
   },
   "outputs": [
    {
     "name": "stdout",
     "output_type": "stream",
     "text": [
      "['VD-EEG-20220414T025300Z-053.zip', 'VD-EEG-20220414T025300Z-054.zip', 'VD-EEG-20220414T025300Z-056.zip', 'VD-EEG-20220414T025300Z-057.zip', 'VD-EEG-20220414T025300Z-059.zip', 'VD-EEG-20220414T025300Z-060.zip', 'VD-EEG-20220414T025300Z-061.zip', 'VD-EEG-20220414T025300Z-062.zip', 'VD-EEG-20220414T025300Z-063.zip', 'VD-EEG-20220414T025300Z-069.zip', 'VD-EEG-20220414T025300Z-070.zip', 'VD-EEG-20220414T025300Z-071.zip', 'VD-EEG-20220414T025300Z-074.zip', 'VD-EEG-20220414T025300Z-075.zip', 'VD-EEG-20220414T025300Z-076.zip', 'VD-EEG-20220414T025300Z-078.zip', 'VD-EEG-20220414T025300Z-083.zip', 'VD-EEG-20220414T025300Z-084.zip', 'VD-EEG-20220414T025300Z-085.zip', 'VD-EEG-20220414T025300Z-086.zip', 'VD-EEG-20220414T025300Z-088.zip', 'VD-EEG-20220414T025300Z-090.zip', 'VD-EEG-20220414T025300Z-092.zip', 'VD-EEG-20220414T025300Z-093.zip', 'VD-EEG-20220414T025300Z-094.zip', 'VD-EEG-20220414T025300Z-097.zip', 'VD-EEG-20220414T025300Z-098.zip', 'VD-EEG-20220414T025300Z-099.zip', 'VD-EEG-20220414T025300Z-100.zip', 'VD-EEG-20220414T025300Z-102.zip', 'VD-EEG-20220414T025300Z-103.zip', 'VD-EEG-20220414T025300Z-104.zip', 'VD-EEG-20220414T025300Z-106.zip', 'VD-EEG-20220414T025300Z-109.zip', 'VD-EEG-20220414T025300Z-110.zip', 'VD-EEG-20220414T025300Z-111.zip', 'VD-EEG-20220414T025300Z-112.zip', 'VD-EEG-20220414T025300Z-114.zip', 'VD-EEG-20220414T025300Z-115.zip', 'VD-EEG-20220414T025300Z-116.zip', 'VD-EEG-20220414T025300Z-118.zip', 'VD-EEG-20220414T025300Z-122.zip', 'VD-EEG-20220414T025300Z-123.zip', 'VD-EEG-20220414T025300Z-125.zip', 'VD-EEG-20220414T025300Z-126.zip', 'VD-EEG-20220414T025300Z-127.zip', 'VD-EEG-20220414T025300Z-128.zip', 'VD-EEG-20220414T025300Z-129.zip', 'VD-EEG-20220414T025300Z-131.zip', 'VD-EEG-20220414T025300Z-133.zip', 'VD-EEG-20220414T025300Z-135.zip', 'VD-EEG-20220414T025300Z-136.zip', 'VD-EEG-20220414T025300Z-137.zip']\n"
     ]
    }
   ],
   "source": [
    "import zipfile\n",
    "import os\n",
    "from tqdm.notebook import tqdm, trange\n",
    "\n",
    "path_read = 'C:\\\\Users\\\\CYS\\\\Downloads'\n",
    "path_save = 'D:\\\\USC\\\\Sleep dataset\\\\Samsung_2nd\\\\VD_eeg_origin'\n",
    "\n",
    "f_list = os.listdir(path_read)\n",
    "f_list = f_list[28:]\n",
    "print(f_list)"
   ]
  },
  {
   "cell_type": "code",
   "execution_count": 2,
   "id": "02524d64",
   "metadata": {},
   "outputs": [
    {
     "data": {
      "application/vnd.jupyter.widget-view+json": {
       "model_id": "4f8093fe188a475781d8498b843870e7",
       "version_major": 2,
       "version_minor": 0
      },
      "text/plain": [
       "Converting ...:   0%|          | 0/53 [00:00<?, ?it/s]"
      ]
     },
     "metadata": {},
     "output_type": "display_data"
    }
   ],
   "source": [
    "for f in tqdm(f_list, desc='Converting ...'):\n",
    "    now_zip = os.path.join(path_read, f)\n",
    "    zip_file = zipfile.ZipFile(now_zip)\n",
    "    zip_file.extractall(path_save)"
   ]
  },
  {
   "cell_type": "code",
   "execution_count": null,
   "id": "49a41076",
   "metadata": {},
   "outputs": [],
   "source": []
  },
  {
   "cell_type": "code",
   "execution_count": null,
   "id": "a5c6af46",
   "metadata": {},
   "outputs": [],
   "source": []
  }
 ],
 "metadata": {
  "kernelspec": {
   "display_name": "Python 3 (ipykernel)",
   "language": "python",
   "name": "python3"
  },
  "language_info": {
   "codemirror_mode": {
    "name": "ipython",
    "version": 3
   },
   "file_extension": ".py",
   "mimetype": "text/x-python",
   "name": "python",
   "nbconvert_exporter": "python",
   "pygments_lexer": "ipython3",
   "version": "3.9.7"
  }
 },
 "nbformat": 4,
 "nbformat_minor": 5
}
