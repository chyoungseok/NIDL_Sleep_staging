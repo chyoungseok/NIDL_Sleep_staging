{
 "cells": [
  {
   "cell_type": "markdown",
   "id": "a0058df5",
   "metadata": {},
   "source": [
    "# txt 파일에 string으로 기록되어 있는 ground truth stage를 숫자로 변환\n",
    "- Wake --> S0 --> 5\n",
    "- REM --> REM --> 4\n",
    "- N1 --> S1 --> 3\n",
    "- N2 --> S2 --> 2\n",
    "- N3 --> S3 --> 1"
   ]
  },
  {
   "cell_type": "code",
   "execution_count": 1,
   "id": "1be93a91",
   "metadata": {},
   "outputs": [],
   "source": [
    "import os \n",
    "import numpy as np\n",
    "from tqdm.notebook import tqdm, trange\n",
    "import matplotlib.pyplot as plt\n",
    "%matplotlib inline"
   ]
  },
  {
   "cell_type": "code",
   "execution_count": 2,
   "id": "71e18691",
   "metadata": {},
   "outputs": [],
   "source": [
    "stage_path = 'D:\\\\USC\\\\Sleep dataset\\\\Samsung_data\\\\GROUND_TRUTH_STAGING'\n",
    "edf_path = 'D:\\\\USC\\\\Sleep dataset\\\\Samsung_data\\\\REGULAR_EDF'"
   ]
  },
  {
   "cell_type": "markdown",
   "id": "a6cc6cf1",
   "metadata": {},
   "source": [
    "# Choose the prepared data\n",
    "\n",
    "## 1. Check subjects whether or not they really have edf files\n",
    "- Some subjects do not have edf file. So we need to exclude them\n",
    "\n",
    "## 2. Select subjects who have both ground_truth_hypnogram and edf \n",
    "- stage와 edf가 동시에 존재하는 파일만 선택해야 함\n",
    "- 모든 stage file과 모든 edf 폴더의 이름을 비교\n",
    "- 일치하는 개수가 5이상은 것만 선택\n"
   ]
  },
  {
   "cell_type": "code",
   "execution_count": 3,
   "id": "cb12d88b",
   "metadata": {},
   "outputs": [],
   "source": [
    "def choose_prepared_data(stage_names, edf_names):\n",
    "    choose_sub = []\n",
    "    \n",
    "    # 1. Check subjects whether or not they really have edf files\n",
    "    choose_edf = []\n",
    "    edf_subjects = os.listdir(edf_path)\n",
    "    for edf_subject in edf_subjects:\n",
    "        temp_dir = os.path.join(edf_path, edf_subject)\n",
    "        temp_dir_list = os.listdir(temp_dir)\n",
    "        for name in temp_dir_list:\n",
    "            if 'edf' in name:\n",
    "                choose_edf.append(edf_subject[0:6])\n",
    "    \n",
    "    # 2. Select subjects listed on both hypnogram and edf\n",
    "    #    - use choose_edf to be compared with the stage_names\n",
    "    for stage_name in stage_names:\n",
    "        for edf_name in choose_edf:\n",
    "            # get the first six characters from each name\n",
    "            temp_stage = stage_name[0:6]\n",
    "            temp_edf = edf_name\n",
    "            \n",
    "            # compare the two six-length-characters\n",
    "            how_many_correspond = 0\n",
    "            for i in range(0,6): \n",
    "                if temp_stage[i] == temp_edf[i]:\n",
    "                    how_many_correspond += 1\n",
    "            \n",
    "            # choose the subject if corresponds at least five times\n",
    "            if how_many_correspond >= 5:\n",
    "                choose_sub.append(stage_name)    \n",
    "    \n",
    "    \n",
    "    return choose_sub"
   ]
  },
  {
   "cell_type": "code",
   "execution_count": 4,
   "id": "9f54e587",
   "metadata": {
    "scrolled": true
   },
   "outputs": [
    {
     "name": "stdout",
     "output_type": "stream",
     "text": [
      "['LE004-Events.txt', 'LE010-Events.txt', 'LE011-Events.txt', 'LE014-Events.txt', 'LE019-Events.txt', 'LE020-Events.txt', 'LE021-Events.txt', 'LE022-Events.txt', 'LE023-Events.txt']\n"
     ]
    }
   ],
   "source": [
    "stage_names = os.listdir(stage_path)\n",
    "edf_names = os.listdir(edf_path)\n",
    "\n",
    "# print(stage_names)\n",
    "# print(edf_names)\n",
    "\n",
    "choose_sub = choose_prepared_data(stage_names, edf_names)\n",
    "print(choose_sub)"
   ]
  },
  {
   "cell_type": "markdown",
   "id": "b68eccfa",
   "metadata": {},
   "source": [
    "# Read the staging files in txt and extract only staging results"
   ]
  },
  {
   "cell_type": "markdown",
   "id": "41965b5a",
   "metadata": {},
   "source": [
    "- Read txt files based on the 'choos_sub', which means the prepared data"
   ]
  },
  {
   "cell_type": "code",
   "execution_count": 5,
   "id": "81b87362",
   "metadata": {},
   "outputs": [],
   "source": [
    "def ReadTxtFiles(choose_sub, stage_path):\n",
    "    datas = []\n",
    "    for stage_name in choose_sub:\n",
    "        with open(os.path.join(stage_path, stage_name), 'r') as f:\n",
    "            # Read txt file\n",
    "            lines = f.readlines()\n",
    "            # include only valid information which contains the stages\n",
    "            lines = lines[18:]\n",
    "            new_lines = []\n",
    "            \n",
    "            # From long strings, pick only 'stage' up\n",
    "            for line in lines:\n",
    "                temp_line = line.strip().split('\\t')\n",
    "                temp_line = temp_line[0].split('-')\n",
    "                new_lines.append(temp_line[1]) # get the stages as string  \n",
    "                \n",
    "            datas.append(new_lines)\n",
    "    return datas"
   ]
  },
  {
   "cell_type": "code",
   "execution_count": 6,
   "id": "21c7d18f",
   "metadata": {
    "scrolled": true
   },
   "outputs": [
    {
     "name": "stdout",
     "output_type": "stream",
     "text": [
      "[['S0', 'S0', 'S0', 'S0', 'S0', 'S0', 'S0', 'S0', 'S0', 'S0', 'S0', 'S0', 'S0', 'S0', 'S0', 'S0', 'S1', 'S1', 'S1', 'S1', 'S1', 'S1', 'S2', 'S2', 'S2', 'S2', 'S2', 'S2', 'S2', 'S2', 'S2', 'S2', 'S2', 'S2', 'S2', 'S2', 'S2', 'S2', 'S2', 'S2', 'S2', 'S2', 'S2', 'S2', 'S2', 'S2', 'S2', 'S2', 'S2', 'S2', 'S2', 'S2', 'S3', 'S2', 'S2', 'S3', 'S2', 'S2', 'S3', 'S3', 'S2', 'S2', 'S3', 'S3', 'S3', 'S3', 'S3', 'S2', 'S1', 'S1', 'S3', 'S2', 'S3', 'S2', 'S1', 'S3', 'S2', 'S3', 'S3', 'S3', 'S3', 'S3', 'S3', 'S3', 'S3', 'S3', 'S3', 'S3', 'S3', 'S3', 'S3', 'S3', 'S3', 'S3', 'S3', 'S3', 'S3', 'S3', 'S3', 'S3', 'S3', 'S3', 'S3', 'S3', 'S3', 'S3', 'S3', 'S2', 'REM', 'REM', 'REM', 'REM', 'REM', 'REM', 'REM', 'REM', 'REM', 'REM', 'REM', 'REM', 'REM', 'REM', 'REM', 'REM', 'REM', 'REM', 'REM', 'REM', 'REM', 'REM', 'REM', 'REM', 'REM', 'REM', 'REM', 'REM', 'REM', 'REM', 'REM', 'REM', 'REM', 'REM', 'REM', 'REM', 'REM', 'REM', 'REM', 'REM', 'REM', 'REM', 'REM', 'REM', 'REM', 'REM', 'REM', 'REM', 'REM', 'REM', 'REM', 'REM', 'REM', 'REM', 'REM', 'REM', 'REM', 'REM', 'S2', 'S2', 'S2', 'S2', 'S2', 'S2', 'S2', 'S2', 'S2', 'S2', 'S2', 'S2', 'S2', 'S2', 'S2', 'S2', 'S3', 'S2', 'S3', 'S3', 'S2', 'S3', 'S2', 'S3', 'S2', 'S3', 'S2', 'S3', 'S2', 'S2', 'S2', 'S3', 'S2', 'S3', 'S3', 'S3', 'S3', 'S3', 'S3', 'S3', 'S3', 'S3', 'S3', 'S3', 'S3', 'S3', 'S3', 'S3', 'S3', 'S3', 'S3', 'S3', 'S3', 'S3', 'S3', 'S3', 'S3', 'S3', 'S3', 'S3', 'S3', 'S3', 'S3', 'S3', 'S3', 'S3', 'S3', 'S3', 'S3', 'S3', 'S3', 'S3', 'S3', 'S3', 'S3', 'S3', 'S3', 'S3', 'S3', 'S3', 'S3', 'S3', 'S3', 'S3', 'S3', 'S3', 'S3', 'S3', 'S3', 'S3', 'S3', 'S1', 'S2', 'S2', 'S2', 'S2', 'S1', 'S0', 'S1', 'S2', 'S2', 'S2', 'S2', 'S2', 'S2', 'S2', 'S2', 'S2', 'S2', 'S2', 'S2', 'S2', 'S2', 'S2', 'S2', 'S2', 'S0', 'S2', 'S2', 'S2', 'S2', 'S2', 'S2', 'S2', 'S2', 'S2', 'S2', 'S2', 'S2', 'S2', 'S2', 'S2', 'S2', 'S2', 'S2', 'S2', 'S2', 'S2', 'S2', 'S2', 'S2', 'S2', 'S2', 'S2', 'S2', 'S2', 'S2', 'S2', 'S2', 'S2', 'S2', 'S2', 'S2', 'S2', 'S3', 'S2', 'S2', 'S2', 'S2', 'S2', 'S2', 'S2', 'S3', 'S2', 'S2', 'S2', 'S1', 'S1', 'S2', 'S2', 'S2', 'S2', 'S2', 'S2', 'REM', 'REM', 'REM', 'REM', 'REM', 'REM', 'REM', 'REM', 'REM', 'REM', 'REM', 'REM', 'REM', 'REM', 'REM', 'REM', 'REM', 'REM', 'REM', 'REM', 'REM', 'REM', 'REM', 'REM', 'REM', 'REM', 'REM', 'REM', 'REM', 'REM', 'REM', 'REM', 'REM', 'REM', 'REM', 'REM', 'REM', 'REM', 'REM', 'REM', 'REM', 'REM', 'REM', 'REM', 'REM', 'REM', 'REM', 'REM', 'REM', 'REM', 'REM', 'REM', 'REM', 'REM', 'REM', 'REM', 'REM', 'REM', 'REM', 'REM', 'REM', 'REM', 'REM', 'REM', 'REM', 'REM', 'REM', 'REM', 'REM', 'REM', 'REM', 'REM', 'REM', 'REM', 'REM', 'REM', 'REM', 'S1', 'S1', 'S1', 'S2', 'S2', 'S2', 'S2', 'S2', 'S2', 'S2', 'S2', 'S2', 'S2', 'S2', 'S2', 'S2', 'S2', 'S2', 'S2', 'S2', 'S2', 'S2', 'S2', 'S2', 'S2', 'S2', 'S2', 'S2', 'S2', 'S2', 'S2', 'S2', 'S2', 'S2', 'S2', 'S2', 'S2', 'S2', 'S2', 'S2', 'S2', 'S2', 'S2', 'S2', 'S2', 'S2', 'S2', 'S2', 'S2', 'S2', 'S2', 'S0', 'S1', 'S2', 'S1', 'S2', 'S1', 'S2', 'S2', 'S2', 'S2', 'S2', 'S2', 'S2', 'S2', 'S2', 'S2', 'S2', 'S2', 'S2', 'S2', 'S2', 'S2', 'S2', 'S2', 'S2', 'S2', 'S2', 'S2', 'S2', 'S2', 'S2', 'S2', 'S2', 'S2', 'S2', 'S2', 'S2', 'S2', 'S2', 'S2', 'S3', 'S3', 'S2', 'S3', 'S2', 'S2', 'S2', 'S3', 'S1', 'S2', 'S2', 'S2', 'S2', 'S2', 'S2', 'S2', 'S2', 'S2', 'S2', 'S2', 'S2', 'S2', 'S2', 'S2', 'S2', 'S1', 'S1', 'S2', 'S2', 'S2', 'S2', 'REM', 'REM', 'REM', 'REM', 'REM', 'REM', 'REM', 'REM', 'REM', 'REM', 'REM', 'REM', 'REM', 'REM', 'REM', 'REM', 'REM', 'REM', 'REM', 'REM', 'REM', 'REM', 'REM', 'S0', 'REM', 'REM', 'REM', 'REM', 'REM', 'REM', 'REM', 'REM', 'REM', 'REM', 'REM', 'REM', 'REM', 'REM', 'REM', 'REM', 'REM', 'REM', 'REM', 'REM', 'REM', 'REM', 'REM', 'REM', 'REM', 'REM', 'REM', 'REM', 'REM', 'REM', 'REM', 'REM', 'REM', 'REM', 'REM', 'REM', 'REM', 'REM', 'REM', 'S2', 'S2', 'S2', 'S2', 'S2', 'S2', 'S2', 'S2', 'S2', 'S0', 'S0', 'S0', 'S0', 'S0', 'S0', 'S0', 'S0', 'S1', 'S0', 'S1', 'S1', 'S1', 'S2', 'S2', 'S2', 'S2', 'S2', 'S2', 'S2', 'S2', 'S2', 'S2', 'S2', 'S1', 'S1', 'S0', 'S0', 'S0', 'S0', 'S0', 'S0'], ['S0', 'S0', 'S0', 'S0', 'S0', 'S0', 'S0', 'S0', 'S1', 'S1', 'S1', 'S1', 'S1', 'S1', 'S1', 'S1', 'S2', 'S2', 'S1', 'S1', 'S2', 'S2', 'S2', 'S2', 'S2', 'S2', 'S1', 'S1', 'S2', 'S2', 'S2', 'S2', 'S2', 'S2', 'S2', 'S2', 'S2', 'S1', 'S2', 'S2', 'S2', 'S2', 'S2', 'S2', 'S2', 'S3', 'S2', 'S2', 'S2', 'S3', 'S3', 'S2', 'S3', 'S2', 'S3', 'S3', 'S2', 'S3', 'S3', 'S3', 'S3', 'S3', 'S1', 'S1', 'S1', 'S2', 'S2', 'S2', 'S2', 'S2', 'S2', 'S2', 'S2', 'S0', 'S1', 'S1', 'S1', 'S2', 'S2', 'S2', 'S2', 'S2', 'S2', 'S2', 'S2', 'S2', 'S1', 'S2', 'S2', 'S2', 'S2', 'S2', 'S2', 'S2', 'S2', 'S2', 'S2', 'S3', 'S2', 'S2', 'S2', 'S2', 'S2', 'S2', 'S2', 'S2', 'S1', 'S2', 'S2', 'S2', 'S2', 'S2', 'S2', 'S2', 'S0', 'S0', 'S1', 'S2', 'S2', 'S2', 'S2', 'S2', 'S2', 'S2', 'S2', 'S2', 'S2', 'S2', 'S2', 'S3', 'S3', 'S2', 'S3', 'S3', 'S3', 'S3', 'S3', 'S3', 'S3', 'S3', 'S0', 'S1', 'S1', 'S2', 'S2', 'S2', 'S2', 'S2', 'S2', 'S2', 'S2', 'S2', 'S2', 'S2', 'S2', 'S2', 'S2', 'S2', 'S2', 'S2', 'S2', 'S2', 'S2', 'S2', 'REM', 'REM', 'REM', 'REM', 'REM', 'REM', 'REM', 'REM', 'REM', 'REM', 'REM', 'REM', 'REM', 'REM', 'REM', 'REM', 'REM', 'REM', 'REM', 'REM', 'REM', 'REM', 'REM', 'REM', 'REM', 'REM', 'REM', 'REM', 'REM', 'REM', 'REM', 'REM', 'REM', 'REM', 'REM', 'REM', 'REM', 'REM', 'REM', 'REM', 'REM', 'REM', 'REM', 'REM', 'REM', 'REM', 'REM', 'REM', 'REM', 'REM', 'REM', 'REM', 'REM', 'REM', 'REM', 'REM', 'REM', 'REM', 'REM', 'REM', 'REM', 'REM', 'REM', 'REM', 'REM', 'REM', 'REM', 'REM', 'REM', 'REM', 'REM', 'REM', 'REM', 'REM', 'REM', 'REM', 'REM', 'REM', 'REM', 'REM', 'REM', 'REM', 'S0', 'S1', 'S0', 'S0', 'S1', 'S1', 'S1', 'S2', 'S2', 'S2', 'S2', 'S2', 'S2', 'S2', 'S2', 'S2', 'S2', 'S1', 'S2', 'S2', 'S2', 'S2', 'S2', 'S2', 'S2', 'S2', 'S2', 'S2', 'S2', 'S2', 'S2', 'S2', 'S2', 'S2', 'S3', 'S2', 'S2', 'S2', 'S2', 'S2', 'S2', 'S2', 'S2', 'S2', 'S2', 'S2', 'S2', 'S2', 'S2', 'S3', 'S2', 'S3', 'S3', 'S3', 'S3', 'S2', 'S2', 'S3', 'S2', 'S3', 'S3', 'S3', 'S2', 'S2', 'S3', 'S3', 'S3', 'S3', 'S2', 'S3', 'S3', 'S2', 'S3', 'S2', 'S3', 'S3', 'S3', 'S2', 'S3', 'S3', 'S0', 'S2', 'S2', 'S2', 'S2', 'S2', 'S2', 'S2', 'S2', 'S2', 'S2', 'S2', 'S2', 'S2', 'S2', 'S2', 'S3', 'S2', 'S3', 'S2', 'S3', 'S2', 'S2', 'S2', 'S2', 'S2', 'S3', 'S2', 'S3', 'S3', 'S2', 'S2', 'S3', 'S3', 'S2', 'S3', 'S2', 'S2', 'S2', 'S3', 'S2', 'S1', 'S2', 'S2', 'S2', 'S1', 'S2', 'S2', 'S2', 'S2', 'S2', 'S2', 'S2', 'REM', 'REM', 'REM', 'REM', 'REM', 'S2', 'S2', 'REM', 'REM', 'REM', 'REM', 'REM', 'REM', 'REM', 'REM', 'REM', 'REM', 'REM', 'REM', 'REM', 'REM', 'S1', 'S2', 'S2', 'S2', 'S2', 'S2', 'S2', 'S2', 'S2', 'S2', 'S2', 'S1', 'S2', 'S2', 'S2', 'S2', 'S2', 'S2', 'S2', 'S2', 'S2', 'S1', 'S2', 'S2', 'S2', 'S2', 'S2', 'S1', 'S2', 'S2', 'S2', 'S2', 'S0', 'S2', 'S2', 'S2', 'S1', 'S2', 'S2', 'S0', 'S0', 'S2', 'S2', 'S2', 'S1', 'S2', 'S2', 'S2', 'S2', 'S2', 'S2', 'S2', 'S2', 'S1', 'S2', 'S2', 'S2', 'S2', 'S2', 'S2', 'S2', 'S2', 'S2', 'S2', 'S2', 'S2', 'S2', 'S2', 'S2', 'S2', 'S2', 'S2', 'S2', 'S2', 'S2', 'S2', 'S2', 'S2', 'S2', 'S2', 'S2', 'S2', 'S2', 'S2', 'S2', 'S0', 'S2', 'S2', 'S2', 'S2', 'S2', 'S2', 'S2', 'S1', 'S2', 'S2', 'S2', 'S1', 'S2', 'S1', 'S2', 'S2', 'REM', 'REM', 'REM', 'REM', 'REM', 'REM', 'REM', 'REM', 'REM', 'REM', 'REM', 'S0', 'REM', 'REM', 'REM', 'REM', 'REM', 'REM', 'REM', 'REM', 'REM', 'REM', 'REM', 'REM', 'REM', 'REM', 'REM', 'REM', 'REM', 'REM', 'REM', 'REM', 'REM', 'REM', 'REM', 'REM', 'REM', 'REM', 'REM', 'REM', 'REM', 'REM', 'S0', 'REM', 'S1', 'REM', 'REM', 'REM', 'REM', 'REM', 'REM', 'REM', 'REM', 'REM', 'REM', 'REM', 'REM', 'REM', 'REM', 'REM', 'REM', 'REM', 'REM', 'REM', 'S1', 'S1', 'REM', 'REM', 'REM', 'REM', 'REM', 'REM', 'REM', 'REM', 'REM', 'REM', 'S2', 'S2', 'S2', 'S2', 'S2', 'S2', 'S2', 'S2', 'S2', 'S2', 'S2', 'S2', 'S2', 'S2', 'S2', 'S2', 'S2', 'S2', 'S2', 'S2', 'S2', 'S2', 'S2', 'S2', 'S2', 'S2', 'S2', 'S2', 'S2', 'S2', 'S2', 'S2', 'S2', 'S2', 'S2', 'S2', 'S2', 'S2', 'S2', 'S2', 'S2', 'S2', 'S2', 'S2', 'S2', 'S2', 'S2', 'S2', 'S2', 'S2', 'S2', 'S2', 'S2', 'S2', 'S2', 'S2', 'S0', 'S2', 'S2', 'S2', 'S2', 'S2', 'S2', 'S2', 'S2', 'S2', 'S2', 'S2', 'S2', 'S2', 'S2', 'S2', 'S2', 'S2', 'S2', 'S2', 'S2', 'S2', 'S2', 'S2', 'S2', 'S2', 'S2', 'S2', 'S2', 'S2', 'S2', 'S2', 'S2', 'S2', 'S3', 'S2', 'S2', 'S2', 'S2', 'S2', 'S2', 'S2', 'S2', 'S2', 'S2', 'S2', 'S2', 'S2', 'S0', 'S1', 'S2', 'S2', 'S2', 'S2', 'S2', 'REM', 'S1', 'REM', 'REM', 'S1', 'REM', 'REM', 'S0', 'S0', 'S1', 'S1', 'S1', 'REM', 'REM', 'REM', 'REM', 'REM', 'REM', 'REM', 'REM', 'REM', 'REM', 'REM', 'REM', 'REM', 'REM', 'REM', 'REM', 'REM', 'REM', 'REM', 'REM', 'REM', 'REM', 'REM', 'REM', 'REM', 'REM', 'REM', 'REM', 'REM', 'REM', 'REM', 'REM', 'REM', 'REM', 'REM', 'REM', 'REM', 'REM', 'REM', 'REM', 'REM', 'REM', 'S0', 'S0'], ['S0', 'S0', 'S0', 'S0', 'S0', 'S0', 'S0', 'S1', 'S1', 'S1', 'S0', 'S0', 'S1', 'S1', 'S1', 'S2', 'S2', 'S2', 'S2', 'S2', 'S2', 'S2', 'S2', 'S2', 'S2', 'S2', 'S2', 'S2', 'S2', 'S2', 'S2', 'S2', 'S2', 'S2', 'S2', 'S2', 'S3', 'S3', 'S2', 'S3', 'S0', 'S2', 'S2', 'S2', 'S2', 'S2', 'S2', 'S2', 'S2', 'S3', 'S2', 'S3', 'S3', 'S2', 'S3', 'S3', 'S2', 'S3', 'S3', 'S3', 'S3', 'S3', 'S3', 'S3', 'S3', 'S3', 'S3', 'S3', 'S2', 'S1', 'S2', 'S2', 'S2', 'S2', 'S2', 'S2', 'S1', 'S2', 'S2', 'S2', 'S2', 'S2', 'S2', 'S2', 'S1', 'S2', 'S2', 'S2', 'S2', 'S1', 'S2', 'S2', 'S2', 'S2', 'S2', 'S2', 'S1', 'S2', 'S2', 'S2', 'S2', 'S2', 'S2', 'S2', 'S2', 'S2', 'S2', 'S1', 'S2', 'S2', 'S0', 'S1', 'S1', 'S0', 'S1', 'S2', 'S2', 'S2', 'S2', 'S2', 'S2', 'S2', 'S2', 'S2', 'S2', 'S2', 'S2', 'S2', 'S2', 'S2', 'S2', 'S3', 'S2', 'S2', 'S2', 'S2', 'S2', 'S2', 'S2', 'S2', 'S3', 'S3', 'S2', 'S3', 'S3', 'S3', 'S3', 'S3', 'S0', 'S0', 'S0', 'S0', 'S1', 'S1', 'S2', 'S2', 'S2', 'S1', 'S2', 'S2', 'S2', 'S2', 'S2', 'S1', 'S1', 'S2', 'S0', 'S1', 'S1', 'S1', 'S2', 'S1', 'S2', 'S2', 'S2', 'S2', 'S2', 'S2', 'S2', 'S2', 'S2', 'S2', 'S2', 'S2', 'S0', 'S2', 'S2', 'S2', 'S2', 'S2', 'S2', 'S2', 'S2', 'S0', 'S1', 'S2', 'S2', 'S2', 'S2', 'S2', 'S2', 'S2', 'S2', 'S2', 'S2', 'S2', 'S2', 'S2', 'S2', 'S2', 'S2', 'S2', 'S2', 'S2', 'S2', 'S2', 'S3', 'S3', 'S2', 'S2', 'S3', 'S3', 'S3', 'S3', 'S0', 'S2', 'S2', 'S2', 'S2', 'S2', 'S2', 'S2', 'S2', 'S2', 'S2', 'S2', 'S2', 'S2', 'S2', 'S2', 'S2', 'S2', 'S2', 'S2', 'S2', 'S2', 'S2', 'S2', 'S3', 'S2', 'S2', 'S2', 'S2', 'S3', 'S3', 'S2', 'S3', 'S3', 'S3', 'S3', 'S3', 'S2', 'S3', 'S2', 'S2', 'S3', 'S3', 'S3', 'S3', 'S3', 'S2', 'S3', 'S3', 'S3', 'S2', 'S3', 'S2', 'S3', 'S3', 'S3', 'S3', 'S3', 'S3', 'S3', 'S3', 'S3', 'S3', 'S3', 'S3', 'S3', 'S0', 'S1', 'S2', 'S2', 'S2', 'S2', 'S2', 'S2', 'S2', 'REM', 'REM', 'S0', 'S0', 'REM', 'REM', 'REM', 'REM', 'REM', 'REM', 'REM', 'REM', 'REM', 'REM', 'REM', 'REM', 'REM', 'REM', 'REM', 'REM', 'REM', 'REM', 'REM', 'REM', 'REM', 'REM', 'REM', 'REM', 'REM', 'REM', 'REM', 'REM', 'REM', 'REM', 'REM', 'REM', 'REM', 'REM', 'REM', 'REM', 'REM', 'REM', 'REM', 'REM', 'REM', 'REM', 'REM', 'REM', 'REM', 'REM', 'S2', 'S2', 'S1', 'S2', 'S2', 'S2', 'S2', 'S2', 'S2', 'S2', 'S2', 'S1', 'S1', 'REM', 'REM', 'REM', 'REM', 'REM', 'REM', 'REM', 'REM', 'REM', 'S0', 'S1', 'S1', 'S2', 'S2', 'S2', 'S2', 'S1', 'S2', 'S2', 'S2', 'S2', 'S2', 'S2', 'S0', 'S2', 'S2', 'S2', 'S2', 'S2', 'S2', 'S2', 'S2', 'S2', 'S2', 'S2', 'S2', 'S2', 'S2', 'S2', 'S2', 'S2', 'S0', 'S2', 'S2', 'S2', 'S2', 'S2', 'S2', 'S2', 'S2', 'S2', 'S2', 'S2', 'S2', 'S2', 'S2', 'S2', 'S2', 'S0', 'S2', 'S2', 'S2', 'S2', 'S2', 'S2', 'S2', 'S2', 'S2', 'S2', 'S2', 'S2', 'S2', 'S2', 'S2', 'S2', 'S2', 'S3', 'S3', 'S2', 'S2', 'S2', 'S2', 'S2', 'S2', 'S3', 'S3', 'S2', 'S2', 'S2', 'S2', 'S2', 'S3', 'S2', 'S3', 'S3', 'S0', 'S0', 'S1', 'S2', 'S2', 'S2', 'S2', 'S2', 'S2', 'S2', 'S2', 'S2', 'S0', 'S0', 'S0', 'S0', 'S0', 'S0', 'S0', 'S0', 'S0', 'S1', 'S1', 'S1', 'S0', 'S1', 'S2', 'S2', 'S2', 'S2', 'S2', 'S2', 'S2', 'S2', 'S2', 'S2', 'S2', 'S2', 'S2', 'S2', 'S2', 'S2', 'S2', 'S2', 'S2', 'S2', 'S2', 'S2', 'S2', 'S2', 'S2', 'S2', 'S2', 'S2', 'S2', 'S2', 'S2', 'S2', 'S2', 'S2', 'S2', 'S1', 'S2', 'S2', 'S2', 'S2', 'S2', 'S2', 'S2', 'S2', 'S2', 'S2', 'S2', 'S2', 'S2', 'S2', 'S2', 'S2', 'S1', 'S2', 'S2', 'S2', 'S2', 'S2', 'S2', 'S2', 'S2', 'S2', 'S2', 'S0', 'S2', 'S2', 'S2', 'S1', 'S2', 'S1', 'S2', 'S2', 'S2', 'S2', 'S2', 'S2', 'REM', 'REM', 'REM', 'REM', 'REM', 'REM', 'REM', 'REM', 'REM', 'REM', 'REM', 'REM', 'REM', 'REM', 'REM', 'S0', 'S0', 'S0', 'S0', 'S0', 'S0', 'S0', 'S0', 'REM', 'REM', 'REM', 'REM', 'REM', 'REM', 'S1', 'S1', 'S1', 'REM', 'REM', 'REM', 'REM', 'REM', 'REM', 'REM', 'REM', 'REM', 'REM', 'REM', 'REM', 'REM', 'REM', 'REM', 'REM', 'REM', 'REM', 'REM', 'REM', 'REM', 'REM', 'REM', 'REM', 'REM', 'REM', 'REM', 'REM', 'REM', 'REM', 'REM', 'REM', 'REM', 'REM', 'REM', 'REM', 'REM', 'S0', 'S1', 'S1', 'S1', 'S1', 'S1', 'REM', 'REM', 'REM', 'REM', 'REM', 'S2', 'S2', 'S2', 'S2', 'S2', 'S2', 'S2', 'S2', 'S2', 'S2', 'S2', 'S2', 'S2', 'S2', 'S2', 'S2', 'S2', 'S2', 'S2', 'S0', 'S1', 'S2', 'S2', 'S2', 'S2', 'S2', 'S2', 'S2', 'S2', 'S2', 'S2', 'S2', 'S2', 'S2', 'S2', 'S2', 'S2', 'S2', 'S2', 'S2', 'S2', 'S2', 'S2', 'S2', 'S2', 'S0', 'S0', 'S0', 'S0', 'S0', 'S0', 'S0', 'S0', 'S0', 'S0', 'S0', 'S0', 'S0', 'S1', 'S1', 'S1', 'S1', 'S1', 'S1', 'S0', 'S1', 'S1', 'S2', 'S2', 'S2', 'S2', 'S2', 'S2', 'S1', 'S2', 'S2', 'S2', 'S2', 'S1', 'S1', 'S1', 'S2', 'S2', 'S2', 'S2', 'S2', 'S2', 'S2', 'S2', 'S2', 'S2', 'S2', 'S2', 'S2', 'S2', 'S2', 'S2', 'S2', 'S2', 'S2', 'S2', 'S2', 'S2', 'S2', 'S2', 'S1', 'S2', 'S2', 'S2', 'S2', 'S2', 'S2', 'S2', 'S2', 'S2', 'S2', 'S2', 'S2', 'S2', 'S2', 'S2', 'S2', 'S2', 'S2', 'S2', 'S2', 'S2', 'S2', 'S2', 'S2', 'S2', 'S1', 'S0', 'S0'], ['S0', 'S0', 'S0', 'S0', 'S0', 'S0', 'S0', 'S0', 'S0', 'S0', 'S0', 'S0', 'S0', 'S1', 'S1', 'S0', 'S1', 'S1', 'S1', 'S1', 'S1', 'S1', 'S1', 'S2', 'S2', 'S2', 'S2', 'S2', 'S2', 'S2', 'S2', 'S2', 'S2', 'S2', 'S2', 'S2', 'S2', 'S1', 'S1', 'S2', 'S2', 'S2', 'S2', 'S2', 'S3', 'S3', 'S3', 'S3', 'S2', 'S2', 'S3', 'S3', 'S3', 'S3', 'S3', 'S3', 'S3', 'S3', 'S3', 'S3', 'S3', 'S3', 'S3', 'S3', 'S3', 'S3', 'S3', 'S3', 'S3', 'S3', 'S3', 'S3', 'S3', 'S3', 'S3', 'S3', 'S3', 'S3', 'S3', 'S3', 'S3', 'S3', 'S3', 'S3', 'S3', 'S3', 'S3', 'S3', 'S3', 'S3', 'S3', 'S3', 'S3', 'S3', 'S3', 'S3', 'S3', 'S3', 'S3', 'S3', 'S3', 'S3', 'S3', 'S3', 'S3', 'S3', 'S3', 'S3', 'S3', 'S3', 'S3', 'S3', 'S3', 'S1', 'S1', 'S1', 'S2', 'S2', 'S2', 'S1', 'S2', 'S2', 'S2', 'S2', 'S2', 'S2', 'S2', 'S2', 'S2', 'S2', 'S2', 'S2', 'S2', 'S2', 'S2', 'S2', 'S1', 'S1', 'S1', 'S1', 'S2', 'S2', 'S1', 'S2', 'S1', 'S1', 'S2', 'S2', 'S2', 'S2', 'S2', 'S2', 'S2', 'S2', 'S2', 'S2', 'S1', 'S2', 'S1', 'S1', 'S2', 'S1', 'S1', 'S1', 'S1', 'S2', 'S1', 'S1', 'S2', 'S2', 'S1', 'S2', 'S2', 'S1', 'S2', 'S2', 'S1', 'S2', 'S2', 'S1', 'S2', 'S2', 'S1', 'S1', 'S1', 'S1', 'S1', 'S1', 'S1', 'S0', 'S0', 'S1', 'S1', 'S1', 'S2', 'S2', 'S2', 'S2', 'REM', 'REM', 'REM', 'REM', 'REM', 'REM', 'REM', 'REM', 'REM', 'REM', 'REM', 'REM', 'REM', 'REM', 'REM', 'S0', 'S0', 'S0', 'S0', 'S1', 'S1', 'S1', 'REM', 'REM', 'REM', 'REM', 'REM', 'REM', 'REM', 'REM', 'REM', 'REM', 'REM', 'REM', 'REM', 'REM', 'REM', 'REM', 'REM', 'REM', 'REM', 'REM', 'REM', 'REM', 'REM', 'REM', 'REM', 'REM', 'REM', 'REM', 'REM', 'REM', 'REM', 'REM', 'REM', 'REM', 'REM', 'REM', 'REM', 'REM', 'REM', 'REM', 'REM', 'REM', 'REM', 'REM', 'REM', 'REM', 'REM', 'REM', 'REM', 'REM', 'REM', 'REM', 'REM', 'REM', 'REM', 'REM', 'REM', 'REM', 'REM', 'REM', 'REM', 'REM', 'REM', 'REM', 'REM', 'REM', 'REM', 'REM', 'REM', 'REM', 'REM', 'REM', 'REM', 'REM', 'REM', 'REM', 'REM', 'REM', 'REM', 'REM', 'REM', 'REM', 'REM', 'REM', 'REM', 'REM', 'REM', 'REM', 'REM', 'REM', 'REM', 'REM', 'REM', 'REM', 'REM', 'REM', 'REM', 'REM', 'REM', 'REM', 'REM', 'REM', 'REM', 'REM', 'REM', 'REM', 'REM', 'REM', 'REM', 'REM', 'REM', 'REM', 'REM', 'REM', 'REM', 'REM', 'REM', 'REM', 'REM', 'REM', 'REM', 'REM', 'REM', 'REM', 'REM', 'REM', 'REM', 'REM', 'REM', 'REM', 'REM', 'REM', 'REM', 'REM', 'REM', 'REM', 'REM', 'REM', 'REM', 'REM', 'REM', 'REM', 'REM', 'REM', 'S2', 'S2', 'S2', 'S2', 'S2', 'S2', 'S2', 'S2', 'S2', 'S2', 'S2', 'S2', 'S2', 'S2', 'S2', 'S2', 'S2', 'S2', 'S2', 'S2', 'S2', 'S2', 'S2', 'S2', 'S2', 'S2', 'S2', 'S2', 'S2', 'S3', 'S2', 'S2', 'S2', 'S2', 'S3', 'S3', 'S3', 'S3', 'S3', 'S2', 'S3', 'S3', 'S3', 'S3', 'S3', 'S3', 'S3', 'S3', 'S3', 'S3', 'S3', 'S3', 'S3', 'S3', 'S3', 'S3', 'S3', 'S3', 'S3', 'S3', 'S3', 'S3', 'S3', 'S3', 'S3', 'S3', 'S3', 'S3', 'S3', 'S3', 'S3', 'S3', 'S3', 'S3', 'S3', 'S3', 'S3', 'S3', 'S3', 'S3', 'S3', 'S3', 'S3', 'S3', 'S3', 'S3', 'S3', 'S3', 'S3', 'S3', 'S3', 'S3', 'S3', 'S3', 'S3', 'S3', 'S3', 'S3', 'S3', 'S3', 'S3', 'S3', 'S3', 'S3', 'S3', 'S3', 'S3', 'S3', 'S3', 'S3', 'S3', 'S3', 'S3', 'S3', 'S3', 'S3', 'S3', 'S3', 'S3', 'S3', 'S3', 'S3', 'S3', 'S3', 'S3', 'S3', 'S3', 'S3', 'S3', 'S3', 'S3', 'S3', 'S3', 'S3', 'S2', 'S2', 'S2', 'S2', 'S2', 'S2', 'S2', 'S2', 'S2', 'S2', 'S2', 'S2', 'S2', 'S2', 'S2', 'S2', 'S2', 'S2', 'S0', 'S1', 'S2', 'S2', 'S2', 'REM', 'REM', 'REM', 'REM', 'REM', 'REM', 'REM', 'REM', 'REM', 'S2', 'S2', 'S2', 'S2', 'S1', 'S1', 'S2', 'S2', 'S2', 'S2', 'S2', 'S2', 'S1', 'S2', 'S2', 'S2', 'S2', 'S2', 'S2', 'S2', 'S2', 'S2', 'S2', 'S2', 'S2', 'S2', 'S2', 'S2', 'S2', 'S2', 'S2', 'S2', 'S2', 'S2', 'S2', 'S2', 'S2', 'S2', 'S2', 'S2', 'S2', 'S2', 'S2', 'S2', 'S2', 'S2', 'S2', 'S2', 'S2', 'S2', 'S2', 'S2', 'S2', 'S2', 'S2', 'S2', 'S2', 'S2', 'S2', 'S2', 'S2', 'S2', 'S2', 'S2', 'S2', 'S2', 'S2', 'S2', 'S2', 'S2', 'S2', 'S2', 'S1', 'S1', 'S2', 'S2', 'S2', 'S2', 'S2', 'S2', 'S2', 'S2', 'S2', 'S1', 'S2', 'S1', 'S2', 'S2', 'S2', 'S2', 'S2', 'S2', 'S2', 'S2', 'S2', 'S2', 'S2', 'S2', 'S2', 'S1', 'S2', 'S2', 'S2', 'S2', 'S2', 'S2', 'S2', 'S2', 'S2', 'S2', 'REM', 'REM', 'REM', 'REM', 'REM', 'REM', 'REM', 'REM', 'REM', 'REM', 'REM', 'S0', 'S1', 'S1', 'S1', 'S1', 'S1', 'S1', 'S2', 'S2', 'S2', 'S2', 'S2', 'S2', 'S2', 'REM', 'REM', 'REM', 'REM', 'REM', 'REM', 'REM', 'REM', 'REM', 'REM', 'REM', 'REM', 'REM', 'REM', 'REM', 'REM', 'REM', 'REM', 'REM', 'REM', 'S0', 'S0', 'S0'], ['S0', 'S0', 'S0', 'S1', 'S0', 'S0', 'S1', 'S2', 'S2', 'S3', 'S2', 'S2', 'S2', 'S2', 'S2', 'S2', 'S2', 'S2', 'S2', 'S2', 'S0', 'S0', 'S1', 'S0', 'S0', 'S0', 'S1', 'S1', 'S1', 'S2', 'S2', 'S3', 'S2', 'S2', 'S2', 'S2', 'S2', 'S2', 'S2', 'S2', 'S2', 'S3', 'S3', 'S2', 'S3', 'S3', 'S3', 'S3', 'S3', 'S3', 'S3', 'S3', 'S2', 'S3', 'S3', 'S2', 'S3', 'S3', 'S3', 'S3', 'S2', 'S3', 'S2', 'S3', 'S3', 'S2', 'S3', 'S3', 'S2', 'S3', 'S3', 'S3', 'S3', 'S3', 'S3', 'S3', 'S3', 'S1', 'S0', 'S0', 'S1', 'S2', 'S2', 'S2', 'S2', 'S2', 'S2', 'S2', 'S2', 'S2', 'S2', 'S2', 'S3', 'S3', 'S2', 'S2', 'S2', 'S2', 'S2', 'S2', 'S3', 'S2', 'S2', 'S2', 'S2', 'S2', 'S2', 'S2', 'S2', 'S2', 'S3', 'S2', 'S2', 'S2', 'S2', 'S3', 'S2', 'S2', 'S3', 'S3', 'S2', 'S2', 'S2', 'S2', 'S2', 'S2', 'S2', 'S2', 'S2', 'S2', 'S2', 'S2', 'S2', 'S2', 'S2', 'S3', 'S3', 'S2', 'S2', 'S2', 'S3', 'S2', 'S2', 'S0', 'S0', 'S1', 'S2', 'S1', 'S2', 'S2', 'S2', 'S2', 'S2', 'S2', 'S1', 'REM', 'REM', 'REM', 'REM', 'REM', 'REM', 'REM', 'REM', 'REM', 'REM', 'REM', 'REM', 'REM', 'REM', 'REM', 'REM', 'REM', 'REM', 'REM', 'REM', 'REM', 'REM', 'REM', 'REM', 'REM', 'REM', 'REM', 'REM', 'REM', 'REM', 'REM', 'REM', 'S1', 'S2', 'S2', 'S2', 'S2', 'S2', 'S2', 'S2', 'S2', 'S2', 'S2', 'S0', 'S0', 'S0', 'S1', 'S2', 'S2', 'S2', 'S2', 'S2', 'S2', 'S2', 'S2', 'S2', 'S2', 'S2', 'S2', 'S2', 'S2', 'S2', 'S2', 'S2', 'S2', 'S2', 'S2', 'S2', 'S2', 'S2', 'S2', 'S2', 'S2', 'S2', 'S2', 'S2', 'S0', 'S0', 'S0', 'S0', 'S0', 'S0', 'S0', 'S1', 'S2', 'S2', 'S2', 'S2', 'S2', 'S2', 'S2', 'S2', 'S2', 'S2', 'S2', 'S2', 'S2', 'S2', 'S2', 'S2', 'S2', 'S2', 'S2', 'S2', 'S2', 'S2', 'S2', 'S2', 'S2', 'S2', 'S2', 'S2', 'S3', 'S2', 'S2', 'S2', 'S2', 'S2', 'S2', 'S2', 'S2', 'S2', 'S2', 'S3', 'S2', 'S2', 'S2', 'S3', 'S2', 'S2', 'S2', 'S3', 'S3', 'S3', 'S2', 'S2', 'S2', 'S2', 'S2', 'S2', 'S3', 'S2', 'S2', 'S2', 'S3', 'S2', 'S2', 'S2', 'S2', 'S2', 'S2', 'S3', 'S2', 'S2', 'S2', 'S2', 'S2', 'S3', 'S3', 'S2', 'S2', 'S2', 'S2', 'S3', 'S2', 'S2', 'S2', 'S2', 'S3', 'S2', 'S2', 'S2', 'S2', 'S2', 'S2', 'S2', 'REM', 'REM', 'REM', 'REM', 'REM', 'REM', 'REM', 'REM', 'REM', 'REM', 'REM', 'REM', 'REM', 'REM', 'REM', 'REM', 'REM', 'REM', 'REM', 'REM', 'REM', 'REM', 'REM', 'REM', 'REM', 'REM', 'REM', 'REM', 'REM', 'REM', 'REM', 'REM', 'REM', 'REM', 'REM', 'REM', 'REM', 'REM', 'REM', 'REM', 'REM', 'REM', 'REM', 'REM', 'REM', 'REM', 'REM', 'REM', 'REM', 'REM', 'REM', 'REM', 'REM', 'REM', 'REM', 'REM', 'REM', 'REM', 'REM', 'REM', 'REM', 'REM', 'REM', 'S2', 'S2', 'S2', 'S2', 'S2', 'S2', 'S2', 'S2', 'S2', 'S2', 'S2', 'S2', 'S2', 'S2', 'S2', 'S0', 'S2', 'S2', 'S2', 'S2', 'S2', 'S2', 'S2', 'S2', 'S2', 'S2', 'S2', 'S2', 'S2', 'S2', 'S2', 'S1', 'S2', 'S2', 'S2', 'S2', 'S2', 'S2', 'S1', 'S2', 'S2', 'S2', 'S2', 'S2', 'S2', 'S2', 'S2', 'S2', 'S2', 'S2', 'S2', 'S2', 'S2', 'S2', 'S2', 'S2', 'S2', 'S2', 'S2', 'S2', 'S2', 'S2', 'S2', 'S2', 'S2', 'S2', 'S2', 'S2', 'S2', 'S2', 'S2', 'S2', 'S2', 'S1', 'S2', 'S2', 'S2', 'S2', 'S2', 'S2', 'S2', 'S2', 'S2', 'S2', 'S2', 'S2', 'S2', 'S2', 'S2', 'S2', 'S2', 'S2', 'S2', 'S2', 'S2', 'S2', 'S2', 'S2', 'S2', 'S2', 'S2', 'S2', 'S2', 'S2', 'S2', 'S2', 'S2', 'S2', 'S2', 'S2', 'S2', 'S2', 'S2', 'S1', 'S1', 'S2', 'S2', 'S2', 'S2', 'S2', 'S2', 'S2', 'S2', 'S1', 'REM', 'REM', 'REM', 'REM', 'REM', 'REM', 'REM', 'REM', 'REM', 'REM', 'REM', 'REM', 'REM', 'REM', 'REM', 'REM', 'REM', 'REM', 'REM', 'REM', 'REM', 'REM', 'REM', 'REM', 'REM', 'REM', 'REM', 'REM', 'REM', 'REM', 'REM', 'REM', 'REM', 'REM', 'REM', 'REM', 'REM', 'REM', 'REM', 'REM', 'REM', 'REM', 'REM', 'REM', 'REM', 'REM', 'REM', 'REM', 'REM', 'REM', 'REM', 'REM', 'REM', 'REM', 'S0', 'S0', 'S0', 'S1', 'S2', 'S1', 'S2', 'S1', 'S1', 'S2', 'S2', 'S2', 'S2', 'S2', 'S2', 'S2', 'S2', 'S2', 'S2', 'S2', 'S2', 'S2', 'S2', 'S2', 'S2', 'S2', 'S2', 'S2', 'S2', 'S2', 'S2', 'S2', 'S2', 'S2', 'S2', 'S2', 'S2', 'S2', 'S2', 'S2', 'S2', 'S2', 'S2', 'S2', 'S2', 'S2', 'S2', 'S2', 'S2', 'S2', 'S2', 'S2', 'S2', 'S2', 'S2', 'S2', 'S2', 'S2', 'S2', 'S2', 'S2', 'S2', 'S2', 'S1', 'S2', 'S2', 'S1', 'S2', 'S1', 'S1', 'S2', 'S2', 'S2', 'S2', 'S2', 'S2', 'S2', 'S2', 'S2', 'S2', 'S2', 'S2', 'S2', 'S2', 'S2', 'S2', 'S2', 'S2', 'S2', 'S2', 'S2', 'S2', 'S2', 'S2', 'S2', 'S2', 'S2', 'S2', 'S2', 'S2', 'S2', 'S2', 'S2', 'S2', 'S2', 'S2', 'S2', 'S2', 'S2', 'S2', 'S2', 'S2', 'S2', 'S2', 'S2', 'S2', 'S2', 'S2', 'S2', 'S2', 'S0', 'S0'], ['S0', 'S0', 'S0', 'S0', 'S0', 'S0', 'S0', 'S0', 'S0', 'S0', 'S0', 'S0', 'S1', 'S1', 'S1', 'S2', 'S2', 'S1', 'S2', 'S2', 'S2', 'S2', 'S2', 'S2', 'S2', 'S2', 'S2', 'S1', 'S2', 'S2', 'S2', 'S2', 'S2', 'S2', 'S1', 'S2', 'S2', 'S2', 'S2', 'S2', 'S3', 'S2', 'S2', 'S1', 'S3', 'S3', 'S2', 'S3', 'S3', 'S3', 'S3', 'S3', 'S2', 'S3', 'S3', 'S3', 'S3', 'S1', 'S2', 'S3', 'S3', 'S3', 'S3', 'S2', 'S2', 'S3', 'S3', 'S3', 'S2', 'S3', 'S3', 'S2', 'S2', 'S3', 'S2', 'S2', 'S3', 'S3', 'S3', 'S1', 'S3', 'S1', 'S2', 'S1', 'S2', 'S2', 'S1', 'S3', 'S3', 'S3', 'S2', 'S2', 'S2', 'S2', 'S3', 'S0', 'S2', 'S1', 'S1', 'S1', 'S2', 'S0', 'S0', 'S0', 'S0', 'S1', 'S1', 'S1', 'S2', 'S2', 'S2', 'S0', 'S0', 'S0', 'S1', 'S2', 'S1', 'S1', 'S1', 'S2', 'S2', 'S2', 'S2', 'S2', 'S2', 'S2', 'S1', 'S1', 'S2', 'S2', 'S2', 'S2', 'S2', 'S2', 'S2', 'S2', 'S2', 'S2', 'S2', 'S2', 'S0', 'S2', 'S2', 'S3', 'S2', 'S2', 'S2', 'S2', 'S2', 'S3', 'S2', 'S3', 'S3', 'S3', 'S3', 'S3', 'S3', 'S3', 'S3', 'S3', 'S3', 'S3', 'S3', 'S3', 'S3', 'S3', 'S3', 'S3', 'S3', 'S2', 'S3', 'S2', 'S3', 'S1', 'S3', 'S3', 'S2', 'S3', 'S2', 'S2', 'S2', 'S2', 'S3', 'S2', 'S2', 'S2', 'S3', 'S2', 'S3', 'S3', 'S3', 'S3', 'S3', 'S3', 'S3', 'S3', 'S3', 'S3', 'S3', 'S3', 'S3', 'S2', 'S3', 'S3', 'S3', 'S3', 'S3', 'S3', 'S1', 'S2', 'S1', 'S1', 'S2', 'S2', 'S1', 'S2', 'S2', 'S2', 'S2', 'S2', 'S2', 'S2', 'S2', 'S3', 'S2', 'S2', 'S2', 'S2', 'S2', 'REM', 'REM', 'REM', 'REM', 'REM', 'REM', 'REM', 'REM', 'REM', 'REM', 'REM', 'REM', 'REM', 'REM', 'REM', 'REM', 'REM', 'REM', 'REM', 'REM', 'REM', 'REM', 'REM', 'REM', 'REM', 'REM', 'REM', 'REM', 'REM', 'REM', 'REM', 'REM', 'REM', 'REM', 'REM', 'REM', 'REM', 'REM', 'REM', 'REM', 'REM', 'REM', 'REM', 'REM', 'REM', 'REM', 'REM', 'REM', 'REM', 'REM', 'REM', 'REM', 'REM', 'REM', 'REM', 'REM', 'REM', 'REM', 'REM', 'REM', 'REM', 'REM', 'REM', 'REM', 'S2', 'S2', 'S2', 'S1', 'S2', 'S2', 'S2', 'S2', 'S2', 'S2', 'S2', 'S2', 'S2', 'S3', 'S3', 'S3', 'S2', 'S3', 'S3', 'S3', 'S3', 'S3', 'S3', 'S3', 'S3', 'S3', 'S3', 'S3', 'S3', 'S3', 'S3', 'S3', 'S3', 'S3', 'S3', 'S3', 'S3', 'S3', 'S3', 'S3', 'S3', 'S3', 'S3', 'S3', 'S3', 'S3', 'S3', 'S3', 'S3', 'S3', 'S3', 'S3', 'S3', 'S3', 'S3', 'S3', 'S3', 'S3', 'S3', 'S3', 'S3', 'S3', 'S3', 'S3', 'S3', 'S3', 'S3', 'S3', 'S3', 'S3', 'S3', 'S3', 'S3', 'S3', 'S3', 'S3', 'S3', 'S3', 'S3', 'S3', 'S3', 'S3', 'S3', 'S3', 'S3', 'S3', 'S3', 'S3', 'S3', 'S3', 'S3', 'S3', 'S3', 'S3', 'S3', 'S3', 'S3', 'S0', 'S0', 'S0', 'S0', 'S0', 'S0', 'S1', 'S2', 'S2', 'S2', 'S1', 'S2', 'S1', 'S2', 'S2', 'S2', 'S2', 'S2', 'S1', 'S1', 'S2', 'S2', 'S2', 'S2', 'S2', 'S2', 'S2', 'S2', 'S0', 'S0', 'S1', 'S1', 'S2', 'S2', 'S2', 'S1', 'S2', 'S2', 'S2', 'S2', 'S1', 'S2', 'S2', 'S0', 'S1', 'S2', 'S2', 'S1', 'S2', 'S2', 'S2', 'S2', 'S2', 'S0', 'S0', 'S0', 'S2', 'S1', 'S2', 'S0', 'S2', 'S2', 'S1', 'S2', 'S2', 'S1', 'S2', 'S0', 'S1', 'S1', 'S1', 'S2', 'S1', 'S1', 'S1', 'S2', 'S2', 'S2', 'S2', 'S2', 'S2', 'S2', 'S1', 'S2', 'S2', 'S2', 'S1', 'S2', 'S2', 'S2', 'S2', 'S2', 'S2', 'S2', 'S2', 'S2', 'S2', 'S2', 'S2', 'S2', 'S2', 'S0', 'S0', 'S0', 'REM', 'REM', 'REM', 'REM', 'REM', 'REM', 'REM', 'REM', 'REM', 'REM', 'REM', 'REM', 'REM', 'REM', 'REM', 'REM', 'REM', 'REM', 'REM', 'REM', 'REM', 'REM', 'REM', 'REM', 'REM', 'REM', 'REM', 'REM', 'REM', 'REM', 'REM', 'REM', 'REM', 'REM', 'REM', 'REM', 'REM', 'REM', 'REM', 'REM', 'REM', 'REM', 'REM', 'REM', 'REM', 'REM', 'S0', 'S1', 'S2', 'S2', 'S2', 'S2', 'S2', 'S2', 'S2', 'S2', 'S2', 'S2', 'S2', 'S2', 'S2', 'S1', 'S2', 'S2', 'S1', 'S2', 'S2', 'S2', 'S1', 'S2', 'S2', 'S2', 'S2', 'S2', 'S2', 'S2', 'S2', 'S2', 'S2', 'S2', 'S2', 'S2', 'S2', 'S2', 'S3', 'S3', 'S2', 'S3', 'S3', 'S3', 'S3', 'S3', 'S3', 'S3', 'S3', 'S3', 'S3', 'S3', 'S3', 'S3', 'S3', 'S3', 'S3', 'S3', 'S3', 'S3', 'S3', 'S3', 'S3', 'S3', 'S3', 'S2', 'S2', 'S0', 'S1', 'S2', 'S2', 'S2', 'S2', 'S2', 'S2', 'S2', 'S1', 'S2', 'S2', 'S0', 'S1', 'S2', 'S2', 'S2', 'S2', 'S2', 'S2', 'S2', 'S2', 'S2', 'S2', 'S1', 'S1', 'S2', 'S2', 'S2', 'S2', 'S2', 'S2', 'S2', 'S2', 'S2', 'S2', 'S0', 'S0', 'S1', 'S2', 'S0', 'S1', 'S2', 'S2', 'S2', 'S2', 'S1', 'S2', 'REM', 'REM', 'REM', 'REM', 'REM', 'REM', 'REM', 'REM', 'REM', 'REM', 'REM', 'REM', 'REM', 'REM', 'REM', 'REM', 'REM', 'REM', 'REM', 'REM', 'REM', 'REM', 'REM', 'REM', 'REM', 'REM', 'REM', 'REM', 'REM', 'REM', 'REM', 'REM', 'REM', 'REM', 'REM', 'REM', 'REM', 'REM', 'REM', 'REM', 'REM', 'S0', 'S0'], ['S0', 'S0', 'S0', 'S0', 'S1', 'S1', 'S1', 'S1', 'S1', 'S2', 'S2', 'S2', 'S2', 'S0', 'S0', 'S0', 'S0', 'S0', 'S0', 'S1', 'S1', 'S1', 'S1', 'S2', 'S2', 'S2', 'S2', 'S2', 'S2', 'S2', 'S2', 'S2', 'S2', 'S3', 'S2', 'S3', 'S2', 'S3', 'S3', 'S3', 'S3', 'S3', 'S3', 'S3', 'S3', 'S3', 'S3', 'S3', 'S3', 'S3', 'S3', 'S3', 'S3', 'S3', 'S3', 'S3', 'S3', 'S3', 'S3', 'S3', 'S3', 'S3', 'S3', 'S3', 'S3', 'S2', 'S2', 'S3', 'S2', 'S3', 'S2', 'S3', 'S3', 'S3', 'S3', 'S3', 'S3', 'S3', 'S3', 'S3', 'S3', 'S3', 'S3', 'S3', 'S3', 'S3', 'S3', 'S3', 'S3', 'S3', 'S3', 'S3', 'S3', 'S3', 'S3', 'S3', 'S3', 'S3', 'S3', 'S3', 'S3', 'S3', 'S3', 'S3', 'S3', 'S3', 'S3', 'S3', 'S3', 'S3', 'S3', 'S3', 'S3', 'S3', 'S2', 'S0', 'S1', 'S1', 'S2', 'S2', 'S2', 'S2', 'S2', 'S2', 'S2', 'S2', 'S3', 'S3', 'S3', 'S2', 'S2', 'S2', 'S1', 'S2', 'S2', 'S2', 'S2', 'S2', 'S2', 'REM', 'REM', 'REM', 'REM', 'REM', 'REM', 'REM', 'REM', 'REM', 'REM', 'REM', 'REM', 'REM', 'REM', 'REM', 'REM', 'REM', 'REM', 'REM', 'REM', 'REM', 'REM', 'REM', 'REM', 'REM', 'REM', 'REM', 'REM', 'REM', 'REM', 'REM', 'S2', 'S1', 'S1', 'S1', 'S2', 'S2', 'S2', 'S2', 'S2', 'S2', 'S2', 'S2', 'S2', 'S2', 'S2', 'S1', 'S2', 'S2', 'S0', 'S0', 'S2', 'S2', 'S2', 'S2', 'S2', 'S2', 'S2', 'S2', 'S2', 'S2', 'S2', 'S2', 'S2', 'S2', 'S2', 'S2', 'S2', 'S2', 'S2', 'S2', 'S2', 'S2', 'S2', 'S2', 'S2', 'S2', 'S2', 'S2', 'S2', 'S2', 'S3', 'S2', 'S2', 'S2', 'S3', 'S3', 'S3', 'S3', 'S3', 'S3', 'S2', 'S2', 'S2', 'S3', 'S2', 'S2', 'S2', 'S2', 'S2', 'S3', 'S2', 'S3', 'S3', 'S3', 'S3', 'S3', 'S3', 'S3', 'S3', 'S3', 'S3', 'S3', 'S3', 'S3', 'S3', 'S3', 'S3', 'S3', 'S3', 'S3', 'S3', 'S3', 'S3', 'S0', 'S1', 'S2', 'S2', 'S2', 'S2', 'S2', 'S0', 'S0', 'S2', 'S2', 'S0', 'S2', 'S2', 'S2', 'S2', 'S2', 'S0', 'S0', 'S0', 'S2', 'S2', 'S2', 'S2', 'S2', 'S2', 'S2', 'S2', 'S2', 'S0', 'S2', 'S2', 'S2', 'S2', 'S2', 'S2', 'S2', 'S2', 'S2', 'S2', 'S2', 'S2', 'S2', 'S2', 'S0', 'S2', 'S2', 'S2', 'S2', 'S2', 'S2', 'S2', 'S2', 'S2', 'S2', 'S2', 'S2', 'S2', 'S2', 'S2', 'S2', 'S2', 'S2', 'S2', 'S2', 'S2', 'S2', 'S2', 'S0', 'S0', 'S2', 'S0', 'S1', 'S2', 'S2', 'S2', 'S2', 'S2', 'S2', 'S2', 'S2', 'S0', 'S0', 'S1', 'S2', 'S2', 'S2', 'S2', 'S2', 'S2', 'S2', 'S2', 'S3', 'S2', 'REM', 'REM', 'REM', 'REM', 'REM', 'REM', 'REM', 'REM', 'REM', 'REM', 'REM', 'REM', 'REM', 'REM', 'REM', 'REM', 'REM', 'REM', 'REM', 'REM', 'REM', 'REM', 'REM', 'REM', 'REM', 'REM', 'REM', 'REM', 'S1', 'REM', 'REM', 'REM', 'REM', 'REM', 'REM', 'REM', 'REM', 'REM', 'REM', 'REM', 'REM', 'REM', 'REM', 'REM', 'REM', 'REM', 'REM', 'REM', 'REM', 'REM', 'REM', 'REM', 'REM', 'REM', 'REM', 'REM', 'REM', 'REM', 'REM', 'REM', 'REM', 'REM', 'REM', 'REM', 'REM', 'REM', 'REM', 'REM', 'REM', 'S2', 'S2', 'S2', 'S2', 'S2', 'S2', 'S2', 'S2', 'S2', 'S2', 'S2', 'S2', 'S2', 'S2', 'S2', 'S2', 'S2', 'S2', 'S2', 'S2', 'S2', 'S2', 'S2', 'S2', 'S2', 'S2', 'S2', 'S2', 'S2', 'S2', 'S2', 'S2', 'S2', 'S2', 'S2', 'S2', 'S3', 'S2', 'S3', 'S2', 'S2', 'S2', 'S2', 'S2', 'S2', 'S2', 'S3', 'S2', 'S2', 'S2', 'S2', 'S2', 'S3', 'S3', 'S2', 'S3', 'S3', 'S2', 'S2', 'S2', 'S3', 'S2', 'S2', 'S2', 'S2', 'S3', 'S3', 'S3', 'S3', 'S3', 'S3', 'S3', 'S3', 'S3', 'S3', 'S3', 'S3', 'S3', 'S3', 'S3', 'S3', 'S3', 'S0', 'S1', 'S2', 'S0', 'S1', 'S1', 'S2', 'S2', 'S2', 'S2', 'S2', 'S2', 'S2', 'S2', 'S2', 'S2', 'S2', 'S1', 'S2', 'S2', 'S2', 'S2', 'S2', 'S1', 'S2', 'S2', 'S2', 'S2', 'S2', 'S2', 'S2', 'S2', 'REM', 'REM', 'REM', 'REM', 'REM', 'REM', 'REM', 'REM', 'REM', 'S0', 'S1', 'S0', 'S1', 'S2', 'S2', 'S2', 'S2', 'S2', 'S2', 'S2', 'S2', 'REM', 'REM', 'REM', 'REM', 'REM', 'REM', 'REM', 'REM', 'REM', 'REM', 'REM', 'S0', 'S1', 'S1', 'S2', 'REM', 'REM', 'REM', 'REM', 'REM', 'REM', 'REM', 'REM', 'REM', 'REM', 'REM', 'REM', 'REM', 'REM', 'REM', 'REM', 'REM', 'REM', 'REM', 'REM', 'REM', 'REM', 'REM', 'REM', 'REM', 'REM', 'REM', 'REM', 'REM', 'REM', 'REM', 'REM', 'REM', 'REM', 'REM', 'REM', 'REM', 'REM', 'REM', 'REM', 'REM', 'REM', 'REM', 'REM', 'REM', 'REM', 'REM', 'REM', 'REM', 'REM', 'REM', 'REM', 'REM', 'REM', 'S2', 'S1', 'S1', 'S2', 'S1', 'S2', 'S2', 'S2', 'S2', 'S2', 'S2', 'S2', 'S2', 'S2', 'S2', 'S2', 'S2', 'S2', 'S2', 'S2', 'S2', 'S2', 'S2', 'S2', 'S2', 'S2', 'S2', 'S2', 'S2', 'S2', 'S2', 'S2', 'S2', 'S2', 'S0', 'S0', 'S0'], [], ['S0', 'S0', 'S0', 'S0', 'S0', 'S0', 'S0', 'S0', 'S1', 'S1', 'S1', 'S1', 'S1', 'S1', 'S1', 'S2', 'S2', 'S1', 'S2', 'S2', 'S2', 'S2', 'S2', 'S2', 'S1', 'S2', 'S2', 'S2', 'S2', 'S2', 'S2', 'S2', 'S2', 'S2', 'S3', 'S3', 'S1', 'S2', 'S2', 'S2', 'S3', 'S3', 'S3', 'S3', 'S0', 'S1', 'S1', 'S1', 'S2', 'S2', 'S2', 'S2', 'S2', 'S2', 'S3', 'S3', 'S3', 'S3', 'S3', 'S3', 'S3', 'S3', 'S3', 'S3', 'S3', 'S3', 'S3', 'S3', 'S3', 'S3', 'S3', 'S3', 'S3', 'S3', 'S3', 'S3', 'S3', 'S3', 'S3', 'S3', 'S3', 'S3', 'S3', 'S3', 'S3', 'S3', 'S3', 'S3', 'S3', 'S3', 'S3', 'S3', 'S3', 'S3', 'S3', 'S3', 'S3', 'S3', 'S3', 'S3', 'S3', 'S3', 'S3', 'S3', 'S3', 'S3', 'S3', 'S3', 'S3', 'S3', 'S3', 'S3', 'S3', 'S3', 'S3', 'S3', 'S3', 'S3', 'S3', 'S3', 'S3', 'S3', 'S3', 'S3', 'S3', 'S3', 'S3', 'S3', 'S3', 'S3', 'S3', 'S3', 'S3', 'S1', 'S2', 'S2', 'S2', 'S2', 'S2', 'S0', 'S0', 'S1', 'S2', 'S2', 'S2', 'S1', 'S2', 'S2', 'S1', 'S2', 'S2', 'S2', 'S2', 'S1', 'S1', 'S2', 'S2', 'S2', 'S2', 'S2', 'S2', 'S2', 'REM', 'REM', 'REM', 'REM', 'REM', 'REM', 'REM', 'REM', 'REM', 'REM', 'REM', 'S2', 'S2', 'S2', 'S2', 'S2', 'S2', 'S1', 'S1', 'S2', 'S2', 'S2', 'S1', 'S2', 'S2', 'S2', 'S2', 'S2', 'S2', 'S1', 'S1', 'S1', 'S2', 'S2', 'S2', 'S2', 'S2', 'S2', 'S2', 'S2', 'S2', 'S1', 'S2', 'S1', 'S2', 'S2', 'S2', 'S2', 'S1', 'S1', 'S2', 'S2', 'S1', 'S2', 'S2', 'S0', 'S1', 'S2', 'S2', 'S2', 'S2', 'S1', 'S1', 'S2', 'S2', 'S2', 'S2', 'S2', 'S2', 'S2', 'S2', 'S3', 'S2', 'S2', 'S3', 'S1', 'S2', 'S2', 'S2', 'S2', 'S2', 'S3', 'S3', 'S3', 'S3', 'S3', 'S1', 'S2', 'S2', 'S2', 'S1', 'S2', 'S2', 'S0', 'S1', 'S2', 'S2', 'S2', 'S2', 'S2', 'S1', 'S2', 'S2', 'S2', 'S2', 'S2', 'S2', 'S2', 'S2', 'S2', 'S2', 'S3', 'S3', 'S2', 'S3', 'S2', 'S3', 'S3', 'S3', 'S2', 'S3', 'S3', 'S3', 'S3', 'S2', 'S2', 'S3', 'S2', 'S3', 'S1', 'S2', 'S1', 'S2', 'S2', 'S1', 'S2', 'S2', 'S2', 'S2', 'S2', 'S2', 'S0', 'S1', 'S2', 'S2', 'S2', 'S2', 'S1', 'S1', 'S2', 'S2', 'S1', 'S2', 'REM', 'REM', 'REM', 'REM', 'REM', 'REM', 'REM', 'REM', 'REM', 'REM', 'REM', 'REM', 'REM', 'REM', 'REM', 'REM', 'REM', 'REM', 'REM', 'REM', 'REM', 'REM', 'REM', 'REM', 'REM', 'REM', 'REM', 'REM', 'REM', 'REM', 'REM', 'REM', 'REM', 'REM', 'REM', 'REM', 'REM', 'REM', 'REM', 'REM', 'REM', 'REM', 'REM', 'REM', 'REM', 'REM', 'REM', 'REM', 'REM', 'REM', 'REM', 'REM', 'REM', 'REM', 'REM', 'REM', 'REM', 'REM', 'REM', 'REM', 'REM', 'REM', 'REM', 'REM', 'S0', 'S1', 'S1', 'S1', 'S1', 'S1', 'S1', 'S1', 'S2', 'S0', 'S1', 'S1', 'S1', 'S1', 'S2', 'S2', 'S2', 'S1', 'S2', 'S2', 'S1', 'S2', 'S2', 'S2', 'S2', 'S1', 'S2', 'S2', 'S1', 'S2', 'S2', 'S1', 'S2', 'S2', 'S2', 'S2', 'S2', 'S2', 'S2', 'S2', 'S3', 'S3', 'S3', 'S2', 'S2', 'S3', 'S3', 'S3', 'S3', 'S0', 'S1', 'S1', 'S2', 'S1', 'S2', 'S2', 'S2', 'S2', 'S2', 'S2', 'S1', 'S2', 'S2', 'S2', 'S2', 'S2', 'S2', 'S2', 'S2', 'S2', 'S3', 'S3', 'S3', 'S3', 'S3', 'S3', 'S3', 'S3', 'S3', 'S3', 'S3', 'S1', 'S1', 'S1', 'S2', 'S2', 'S2', 'S2', 'S2', 'S2', 'S2', 'S2', 'S2', 'S2', 'S2', 'S2', 'S2', 'S2', 'S1', 'S2', 'S2', 'S0', 'S1', 'S2', 'S2', 'S2', 'S2', 'S2', 'S2', 'S2', 'S2', 'S2', 'S1', 'S2', 'S2', 'S2', 'S2', 'S1', 'S2', 'S1', 'S2', 'S2', 'S2', 'S2', 'S2', 'S2', 'S2', 'S2', 'S2', 'S2', 'S1', 'S2', 'S2', 'S2', 'S2', 'S2', 'S1', 'S2', 'S2', 'S2', 'S2', 'S2', 'S2', 'S2', 'S2', 'S2', 'S1', 'S2', 'S2', 'REM', 'REM', 'REM', 'REM', 'REM', 'REM', 'REM', 'S0', 'S1', 'S1', 'S1', 'S1', 'S1', 'S1', 'REM', 'REM', 'REM', 'REM', 'REM', 'REM', 'REM', 'REM', 'REM', 'S0', 'S0', 'S0', 'S0', 'S0', 'S0', 'S0', 'S0', 'S0', 'S1', 'S1', 'S1', 'S1', 'S1', 'S1', 'S2', 'S2', 'S2', 'S2', 'REM', 'REM', 'REM', 'REM', 'REM', 'REM', 'REM', 'REM', 'REM', 'REM', 'REM', 'REM', 'REM', 'REM', 'REM', 'REM', 'REM', 'S0', 'S1', 'REM', 'REM', 'REM', 'REM', 'REM', 'REM', 'REM', 'REM', 'REM', 'S0', 'S0', 'S0', 'S0', 'S0', 'S0', 'S0', 'S0', 'S0', 'S0', 'S0', 'S0', 'S0', 'S0', 'S0', 'S0', 'S0', 'S0', 'S0', 'S0', 'S0', 'S0', 'S0', 'S0', 'S0', 'S0']]\n"
     ]
    }
   ],
   "source": [
    "hypnos_string = ReadTxtFiles(choose_sub, stage_path)\n",
    "print(hypnos_string)"
   ]
  },
  {
   "cell_type": "code",
   "execution_count": 7,
   "id": "98a0e80c",
   "metadata": {},
   "outputs": [],
   "source": [
    "def string2num(hypno_string):\n",
    "    # input: single hypnogram\n",
    "    hypno_as_num = []\n",
    "    # dictionary to convert string to num\n",
    "    stage_dic = {\"S0\": 0, \"REM\": 4, \"S1\": 1, \"S2\": 2, \"S3\": 3}\n",
    "    for stage in hypno_string:\n",
    "        hypno_as_num.append(stage_dic[stage])\n",
    "    return hypno_as_num\n",
    "\n",
    "def S2N(hypno_string):\n",
    "    hypno_N = []\n",
    "    convert_dic = {'S0':'W', 'REM':'R', 'S1':'N1', 'S2':'N2', 'S3':'N3'}\n",
    "    for stage in hypno_string:\n",
    "        hypno_N.append(convert_dic[stage])\n",
    "        \n",
    "    return hypno_N        "
   ]
  },
  {
   "cell_type": "code",
   "execution_count": 8,
   "id": "1e3cc756",
   "metadata": {},
   "outputs": [
    {
     "name": "stdout",
     "output_type": "stream",
     "text": [
      "9 hypnograms are included\n"
     ]
    }
   ],
   "source": [
    "# Convert prepared hypnograms in string into num\n",
    "hypnos_num = []\n",
    "for hypno_string in hypnos_string:\n",
    "    hypnos_num.append(string2num(hypno_string))\n",
    "    \n",
    "print(\"{} hypnograms are included\".format(len(hypnos_num)))"
   ]
  },
  {
   "cell_type": "code",
   "execution_count": 9,
   "id": "1237749d",
   "metadata": {},
   "outputs": [],
   "source": [
    "# Convert each hypnogram into pd.DataFrame and save it as csv file\n",
    "import pandas as pd\n",
    "\n",
    "i = 0 # choose_sub 인뎃싱을 위한 변수\n",
    "for hypno_num in hypnos_num:\n",
    "    temp_df = pd.DataFrame(hypno_num, columns=['stages'])\n",
    "    path_csv = 'D:\\\\USC\\\\test_data\\\\Prepared_InNum_Hypnos\\\\' + choose_sub[i][0:5] + '.csv'\n",
    "    temp_df.to_csv(path_or_buf=path_csv, index=None)\n",
    "    i += 1"
   ]
  }
 ],
 "metadata": {
  "kernelspec": {
   "display_name": "Python 3 (ipykernel)",
   "language": "python",
   "name": "python3"
  },
  "language_info": {
   "codemirror_mode": {
    "name": "ipython",
    "version": 3
   },
   "file_extension": ".py",
   "mimetype": "text/x-python",
   "name": "python",
   "nbconvert_exporter": "python",
   "pygments_lexer": "ipython3",
   "version": "3.9.7"
  }
 },
 "nbformat": 4,
 "nbformat_minor": 5
}
