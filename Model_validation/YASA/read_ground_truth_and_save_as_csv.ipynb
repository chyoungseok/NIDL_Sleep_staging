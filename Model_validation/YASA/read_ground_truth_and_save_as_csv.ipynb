{
 "cells": [
  {
   "cell_type": "markdown",
   "id": "88c5bcb2",
   "metadata": {},
   "source": [
    "# ground_truth_hypnogram을 읽어서 csv파일로 저장하자\n",
    "\n",
    "- 필요 없는 기타 정보 제거\n",
    "- stage 정보만 추출\n",
    "- 저장 경로: D:\\USC\\code_mine\\Model_validation\\YASA\\hypnograms\\ground_truth"
   ]
  },
  {
   "cell_type": "markdown",
   "id": "b56c84b2",
   "metadata": {},
   "source": [
    "# 1. LE dataset\n",
    "- 경로: D:\\USC\\Sleep dataset\\Samsung_data\\Staging_label_for_new_edf"
   ]
  },
  {
   "cell_type": "code",
   "execution_count": 1,
   "id": "e1ba9bb2",
   "metadata": {},
   "outputs": [],
   "source": [
    "import os\n",
    "import pandas as pd"
   ]
  },
  {
   "cell_type": "code",
   "execution_count": 2,
   "id": "1973efa1",
   "metadata": {},
   "outputs": [
    {
     "name": "stdout",
     "output_type": "stream",
     "text": [
      "-- Available ground-truth-hypnograms ... \n",
      "   ['LE004-Events.txt', 'LE010-Events.txt', 'LE011-Events.txt', 'LE014-Events.txt', 'LE019-Events.txt', 'LE020-Events.txt', 'LE021-Events.txt', 'LE023-Events.txt']\n"
     ]
    }
   ],
   "source": [
    "path_subjects_hypno = 'D:\\\\USC\\\\Sleep dataset\\\\Samsung_data\\\\Staging_label_for_new_edf'\n",
    "subjects_hypno = os.listdir(path_subjects_hypno)\n",
    "subjects_hypno.sort()\n",
    "print(f\"-- Available ground-truth-hypnograms ... \\n   {subjects_hypno}\")"
   ]
  },
  {
   "cell_type": "code",
   "execution_count": 3,
   "id": "05b6b1cb",
   "metadata": {},
   "outputs": [],
   "source": [
    "def str2num(stages_str):\n",
    "    # input: single hypnogram\n",
    "    stages_int = []\n",
    "    # dictionary to convert string to num\n",
    "    stage_dic = {\"S0\": 0, \"REM\": 4, \"S1\": 1, \"S2\": 2, \"S3\": 3}\n",
    "    for stage in stages_str:\n",
    "        stages_int.append(stage_dic[stage])\n",
    "    return stages_int\n",
    "\n",
    "def ReadTxtFiles(subject, path_subjects):\n",
    "    # subject 한 명의 hypnogram을 읽어옴\n",
    "    stages = []\n",
    "    with open(os.path.join(path_subjects, subject), 'r') as f:\n",
    "        lines = f.readlines() # Read txt file\n",
    "        lines = lines[18:] # include only valid information which contains the stages\n",
    "\n",
    "        # From long strings, pick only 'stage' up\n",
    "        for line in lines:\n",
    "            temp_line = line.strip().split() # get the stages as string  \n",
    "            stages.append(temp_line[0][6:])\n",
    "    return stages"
   ]
  },
  {
   "cell_type": "code",
   "execution_count": 6,
   "id": "e16fa347",
   "metadata": {},
   "outputs": [],
   "source": [
    "for subject in subjects_hypno:\n",
    "    stages_str = ReadTxtFiles(subject, path_subjects_hypno)\n",
    "    stages_int = str2num(stages_str)\n",
    "    temp_df = pd.DataFrame(stages_int, columns=['stages'])\n",
    "    \n",
    "    path_save = os.path.join('D:\\\\USC\\\\code_mine\\\\Model_validation\\\\YASA\\\\hypnograms\\\\ground_truth', subject[0:5]+'.csv')\n",
    "    temp_df.to_csv(path_or_buf=path_save, index=None)    "
   ]
  },
  {
   "cell_type": "markdown",
   "id": "b26a9ea7",
   "metadata": {},
   "source": [
    "# 2. VD dataset\n",
    "- read 경로 : D:\\USC\\Sleep dataset\\Samsung_2nd\\VD_sleep_scoring\n",
    "- save 경로 : D:\\USC\\code_mine\\Model_validation\\YASA\\hypnograms\\ground_truth"
   ]
  },
  {
   "cell_type": "code",
   "execution_count": 1,
   "id": "86603491",
   "metadata": {},
   "outputs": [],
   "source": [
    "import os\n",
    "import pandas as pd"
   ]
  },
  {
   "cell_type": "code",
   "execution_count": 2,
   "id": "6e4f3e7e",
   "metadata": {},
   "outputs": [
    {
     "name": "stdout",
     "output_type": "stream",
     "text": [
      "-- Available ground-truth-hypnograms ... \n",
      "   ['VD001-Events.txt', 'VD002-Events.txt', 'VD003-Events.txt', 'VD004-Events.txt', 'VD005-Events.txt', 'VD006-Events.txt', 'VD008-Events.txt', 'VD011-Events.txt', 'VD012-Events.txt', 'VD017-Events.txt', 'VD019-Events.txt', 'VD022-Events.txt', 'VD023-Events.txt', 'VD025-Events.txt', 'VD028-Events.txt', 'VD029-Events.txt', 'VD030-Events.txt', 'VD031-Events.txt', 'VD033-Events.txt', 'VD034-Events.txt', 'VD039-Events.txt', 'VD041-Events.txt', 'VD042-Events.txt', 'VD043-Events.txt', 'VD044-Events.txt', 'VD045-Events.txt', 'VD046-Events.txt', 'VD047-Events.txt', 'VD049-Events.txt', 'VD050-Events.txt', 'VD051-Events.txt', 'VD052-Events.txt', 'VD053-Events.txt', 'VD054-Events.txt', 'VD055-Events.txt', 'VD056-Events.txt', 'VD057-Events.txt', 'VD058-Events.txt']\n"
     ]
    }
   ],
   "source": [
    "path_subjects_hypno = 'D:\\\\USC\\\\Sleep dataset\\\\Samsung_2nd\\\\VD_sleep_scoring'\n",
    "subjects_hypno = os.listdir(path_subjects_hypno)\n",
    "subjects_hypno.sort()\n",
    "print(f\"-- Available ground-truth-hypnograms ... \\n   {subjects_hypno}\")"
   ]
  },
  {
   "cell_type": "code",
   "execution_count": 9,
   "id": "681a8695",
   "metadata": {},
   "outputs": [],
   "source": [
    "def str2num(stages_str):\n",
    "    # input: single hypnogram\n",
    "    stages_int = []\n",
    "    # dictionary to convert string to num\n",
    "    stage_dic = {\"W\": 0, \"R\": 4, \"N1\": 1, \"N2\": 2, \"N3\": 3,\n",
    "                 'SLEEP-S0': 0, 'SLEEP-REM': 4, 'SLEEP-S1': 1, 'SLEEP-S2': 2, 'SLEEP-S3': 3}\n",
    "    for stage in stages_str:\n",
    "        stages_int.append(stage_dic[stage])\n",
    "    return stages_int\n",
    "\n",
    "def ReadTxtFiles(subject, path_subjects):\n",
    "    # subject 한 명의 hypnogram을 읽어옴\n",
    "    stages = []\n",
    "    with open(os.path.join(path_subjects, subject), 'r') as f:\n",
    "        lines = f.readlines() # Read txt file\n",
    "        lines = lines[17:] # include only valid information which contains the stages\n",
    "\n",
    "        # From long strings, pick only 'stage' up\n",
    "        for line in lines:\n",
    "            temp_line = line.strip().split() # get the stages as string  \n",
    "            if (temp_line[1] == '오전') | ('POSITION' in temp_line[1]):\n",
    "                stages.append(temp_line[3])\n",
    "            else:\n",
    "                stages.append(temp_line[2])\n",
    "    return stages"
   ]
  },
  {
   "cell_type": "code",
   "execution_count": 10,
   "id": "2ce9afa0",
   "metadata": {},
   "outputs": [],
   "source": [
    "for subject in subjects_hypno:\n",
    "    stages_str = ReadTxtFiles(subject, path_subjects_hypno)\n",
    "    stages_int = str2num(stages_str)\n",
    "    temp_df = pd.DataFrame(stages_int, columns=['stages'])\n",
    "    \n",
    "    path_save = os.path.join('D:\\\\USC\\\\code_mine\\\\Model_validation\\\\YASA\\\\hypnograms\\\\ground_truth', subject[0:5]+'.csv')\n",
    "    temp_df.to_csv(path_or_buf=path_save, index=None)    "
   ]
  },
  {
   "cell_type": "code",
   "execution_count": 12,
   "id": "89174a3c",
   "metadata": {},
   "outputs": [],
   "source": [
    "# create dir for each subject folder in VD Dataset\n",
    "# dir_path = 'D:\\\\USC\\\\code_mine\\\\Model_validation\\\\YASA\\\\hypnograms\\\\predicted'\n",
    "# for subject_txt in subjects_hypno:\n",
    "#     subject = subject_txt[0:5]\n",
    "#     os.mkdir(os.path.join(dir_path, subject))"
   ]
  },
  {
   "cell_type": "code",
   "execution_count": null,
   "id": "8ee6ae9a",
   "metadata": {},
   "outputs": [],
   "source": []
  }
 ],
 "metadata": {
  "kernelspec": {
   "display_name": "Python 3 (ipykernel)",
   "language": "python",
   "name": "python3"
  },
  "language_info": {
   "codemirror_mode": {
    "name": "ipython",
    "version": 3
   },
   "file_extension": ".py",
   "mimetype": "text/x-python",
   "name": "python",
   "nbconvert_exporter": "python",
   "pygments_lexer": "ipython3",
   "version": "3.9.7"
  }
 },
 "nbformat": 4,
 "nbformat_minor": 5
}
