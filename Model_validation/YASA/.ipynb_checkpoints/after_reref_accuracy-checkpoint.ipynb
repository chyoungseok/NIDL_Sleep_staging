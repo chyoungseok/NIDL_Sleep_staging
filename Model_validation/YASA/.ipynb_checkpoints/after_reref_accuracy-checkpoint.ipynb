{
 "cells": [
  {
   "cell_type": "markdown",
   "id": "8df1737a",
   "metadata": {},
   "source": [
    "# LE dataset"
   ]
  },
  {
   "cell_type": "code",
   "execution_count": 1,
   "id": "6bfa323f",
   "metadata": {},
   "outputs": [],
   "source": [
    "import os\n",
    "import yasa\n",
    "import pandas as pd\n",
    "import get_acc_matrix"
   ]
  },
  {
   "cell_type": "code",
   "execution_count": 2,
   "id": "fc903ea1",
   "metadata": {},
   "outputs": [
    {
     "name": "stdout",
     "output_type": "stream",
     "text": [
      "[Ground-truth]\n",
      "   -- path of ground_truth: D:\\USC\\code_mine\\Model_validation\\YASA\\hypnograms\\ground_truth\n",
      "   -- csv files: ['LE004.csv', 'LE010.csv', 'LE011.csv', 'LE014.csv', 'LE019.csv', 'LE020.csv', 'LE021.csv', 'LE023.csv']\n",
      "\n",
      "[Predicted]\n",
      "   -- path of predicted: D:\\USC\\code_mine\\Model_validation\\YASA\\hypnograms\\pred_filt_reref\n",
      "   -- folders for the each subject: ['LE004', 'LE010', 'LE011', 'LE014', 'LE019', 'LE020', 'LE021', 'LE023']\n"
     ]
    }
   ],
   "source": [
    "path_subejcts_g_hpyno = 'D:\\\\USC\\\\code_mine\\\\Model_validation\\\\YASA\\\\hypnograms\\\\ground_truth' \n",
    "subjects_g_hypno = os.listdir(path_subejcts_g_hpyno)\n",
    "subjects_g_hypno.sort()\n",
    "subjects_g_hypno = subjects_g_hypno[0:8]\n",
    "print(\"[Ground-truth]\")\n",
    "print(\"   -- path of ground_truth: {}\".format(path_subejcts_g_hpyno))\n",
    "print(\"   -- csv files: {}\".format(subjects_g_hypno))\n",
    "\n",
    "path_subejcts_p_hpyno = 'D:\\\\USC\\\\code_mine\\\\Model_validation\\\\YASA\\\\hypnograms\\\\pred_filt_reref' \n",
    "subjects_p_hypno = os.listdir(path_subejcts_p_hpyno)\n",
    "subjects_p_hypno.sort()\n",
    "subjects_p_hypno = subjects_p_hypno[0:8]\n",
    "print(\"\\n[Predicted]\")\n",
    "print(\"   -- path of predicted: {}\".format(path_subejcts_p_hpyno))\n",
    "print(\"   -- folders for the each subject: {}\".format(subjects_p_hypno))"
   ]
  },
  {
   "cell_type": "code",
   "execution_count": 3,
   "id": "871c3e0b",
   "metadata": {},
   "outputs": [
    {
     "name": "stdout",
     "output_type": "stream",
     "text": [
      "========================================\n",
      "-- now ground_truth:\n",
      "   D:\\USC\\code_mine\\Model_validation\\YASA\\hypnograms\\ground_truth\\LE004.csv\n",
      "\n",
      "-- pridicted hypnograms: LE004 --> ['pred_hypno_C4.csv']\n",
      "========================================\n",
      "-- now ground_truth:\n",
      "   D:\\USC\\code_mine\\Model_validation\\YASA\\hypnograms\\ground_truth\\LE010.csv\n",
      "\n",
      "-- pridicted hypnograms: LE010 --> ['pred_hypno_C4.csv']\n",
      "========================================\n",
      "-- now ground_truth:\n",
      "   D:\\USC\\code_mine\\Model_validation\\YASA\\hypnograms\\ground_truth\\LE011.csv\n",
      "\n",
      "-- pridicted hypnograms: LE011 --> ['pred_hypno_C4.csv']\n",
      "========================================\n",
      "-- now ground_truth:\n",
      "   D:\\USC\\code_mine\\Model_validation\\YASA\\hypnograms\\ground_truth\\LE014.csv\n",
      "\n",
      "-- pridicted hypnograms: LE014 --> ['pred_hypno_C4.csv']\n",
      "========================================\n",
      "-- now ground_truth:\n",
      "   D:\\USC\\code_mine\\Model_validation\\YASA\\hypnograms\\ground_truth\\LE019.csv\n",
      "\n",
      "-- pridicted hypnograms: LE019 --> ['pred_hypno_C4.csv']\n",
      "========================================\n",
      "-- now ground_truth:\n",
      "   D:\\USC\\code_mine\\Model_validation\\YASA\\hypnograms\\ground_truth\\LE020.csv\n",
      "\n",
      "-- pridicted hypnograms: LE020 --> ['pred_hypno_C4.csv']\n",
      "========================================\n",
      "-- now ground_truth:\n",
      "   D:\\USC\\code_mine\\Model_validation\\YASA\\hypnograms\\ground_truth\\LE021.csv\n",
      "\n",
      "-- pridicted hypnograms: LE021 --> ['pred_hypno_C4.csv']\n",
      "========================================\n",
      "-- now ground_truth:\n",
      "   D:\\USC\\code_mine\\Model_validation\\YASA\\hypnograms\\ground_truth\\LE023.csv\n",
      "\n",
      "-- pridicted hypnograms: LE023 --> ['pred_hypno_C4.csv']\n"
     ]
    }
   ],
   "source": [
    "dic_acc_total = {} # subect 별로 chan_comb에 따른 overall accuracy가 저장됨\n",
    "dic_matrix_total = {} # subject 별로 6개의 matrix가 저장됨\n",
    "key_total = [] # subject name이 key로써 저장됨\n",
    "sub_num = 0\n",
    "\n",
    "for subject in subjects_p_hypno:\n",
    "    print('========================================')\n",
    "    path_g_hypno = os.path.join(path_subejcts_g_hpyno, subjects_g_hypno[sub_num])\n",
    "    print(f\"-- now ground_truth:\\n   {path_g_hypno}\")\n",
    "    g_hypno = pd.read_csv(path_g_hypno).squeeze()\n",
    "\n",
    "    csv_p_hypnos = os.listdir(os.path.join(path_subejcts_p_hpyno, subjects_p_hypno[sub_num], 'pred_hypno'))\n",
    "    print(f\"\\n-- pridicted hypnograms: {subject} --> {csv_p_hypnos}\")\n",
    "\n",
    "    dic_acc_sub = {} # 한 명의 subject 내에서, 채널 조합 별 acc를 저장하는 dictionary\n",
    "    dic_matrix_sub = {} # 한 명의 subject 내에서, 채널 조합 별 matrix를 저장하는 dictionary\n",
    "\n",
    "    path_p_hypno = os.path.join(path_subejcts_p_hpyno, subject, 'pred_hypno', 'pred_hypno_C4.csv')\n",
    "#         print(path_p_hypno)\n",
    "    p_hypno = pd.read_csv(path_p_hypno).squeeze()\n",
    "\n",
    "    # overall accuracy\n",
    "    accuracy = (g_hypno == p_hypno).sum() / p_hypno.size * 100 # 현재 channel combination에 대한 overall accuracy 계산\n",
    "#     dic_acc_sub[] = accuracy # dictionary에 추가  \n",
    "\n",
    "#     # accuracy matrix\n",
    "    matrix = get_acc_matrix.get_acc_matrix(g_hypno, p_hypno)\n",
    "#     dic_matrix_sub[dic_acc_sub_key[ch_comb_num]] = matrix \n",
    " \n",
    "\n",
    "    key_total.append(subject)\n",
    "    dic_acc_total[key_total[sub_num]] = accuracy\n",
    "    dic_matrix_total[key_total[sub_num]] = matrix\n",
    "    sub_num += 1"
   ]
  },
  {
   "cell_type": "code",
   "execution_count": 5,
   "id": "0552c106",
   "metadata": {},
   "outputs": [
    {
     "data": {
      "text/html": [
       "<div>\n",
       "<style scoped>\n",
       "    .dataframe tbody tr th:only-of-type {\n",
       "        vertical-align: middle;\n",
       "    }\n",
       "\n",
       "    .dataframe tbody tr th {\n",
       "        vertical-align: top;\n",
       "    }\n",
       "\n",
       "    .dataframe thead th {\n",
       "        text-align: right;\n",
       "    }\n",
       "</style>\n",
       "<table border=\"1\" class=\"dataframe\">\n",
       "  <thead>\n",
       "    <tr style=\"text-align: right;\">\n",
       "      <th></th>\n",
       "      <th>LE004</th>\n",
       "      <th>LE010</th>\n",
       "      <th>LE011</th>\n",
       "      <th>LE014</th>\n",
       "      <th>LE019</th>\n",
       "      <th>LE020</th>\n",
       "      <th>LE021</th>\n",
       "      <th>LE023</th>\n",
       "      <th>mean</th>\n",
       "    </tr>\n",
       "  </thead>\n",
       "  <tbody>\n",
       "    <tr>\n",
       "      <th>Accuracy</th>\n",
       "      <td>39.191291</td>\n",
       "      <td>77.718121</td>\n",
       "      <td>73.09185</td>\n",
       "      <td>78.488372</td>\n",
       "      <td>72.334294</td>\n",
       "      <td>77.363897</td>\n",
       "      <td>77.361319</td>\n",
       "      <td>59.615385</td>\n",
       "      <td>69.395566</td>\n",
       "    </tr>\n",
       "  </tbody>\n",
       "</table>\n",
       "</div>"
      ],
      "text/plain": [
       "              LE004      LE010     LE011      LE014      LE019      LE020  \\\n",
       "Accuracy  39.191291  77.718121  73.09185  78.488372  72.334294  77.363897   \n",
       "\n",
       "              LE021      LE023       mean  \n",
       "Accuracy  77.361319  59.615385  69.395566  "
      ]
     },
     "execution_count": 5,
     "metadata": {},
     "output_type": "execute_result"
    }
   ],
   "source": [
    "df_acc = pd.DataFrame(dic_acc_total, index=['Accuracy'])\n",
    "df_acc['mean'] = df_acc.mean(axis=1)\n",
    "df_acc"
   ]
  },
  {
   "cell_type": "code",
   "execution_count": null,
   "id": "ac92fb1e",
   "metadata": {},
   "outputs": [],
   "source": []
  },
  {
   "cell_type": "markdown",
   "id": "562ddefc",
   "metadata": {},
   "source": [
    "# VD dataset"
   ]
  },
  {
   "cell_type": "code",
   "execution_count": null,
   "id": "351447df",
   "metadata": {},
   "outputs": [],
   "source": []
  },
  {
   "cell_type": "code",
   "execution_count": null,
   "id": "b35743c7",
   "metadata": {},
   "outputs": [],
   "source": []
  },
  {
   "cell_type": "code",
   "execution_count": null,
   "id": "4ea249db",
   "metadata": {},
   "outputs": [],
   "source": []
  },
  {
   "cell_type": "code",
   "execution_count": null,
   "id": "a27096b5",
   "metadata": {},
   "outputs": [],
   "source": []
  },
  {
   "cell_type": "markdown",
   "id": "41729bbd",
   "metadata": {},
   "source": [
    "# PE dataset"
   ]
  },
  {
   "cell_type": "code",
   "execution_count": 1,
   "id": "547ba843",
   "metadata": {},
   "outputs": [],
   "source": [
    "import os\n",
    "import yasa\n",
    "import pandas as pd\n",
    "import get_acc_matrix"
   ]
  },
  {
   "cell_type": "code",
   "execution_count": 2,
   "id": "5456c579",
   "metadata": {},
   "outputs": [
    {
     "name": "stdout",
     "output_type": "stream",
     "text": [
      "[Ground-truth]\n",
      "   -- path of ground_truth: D:\\USC\\code_mine\\Model_validation\\YASA\\hypnograms\\ground_truth\n",
      "   -- csv files: ['PE150386.csv', 'PE180205.csv', 'PE180682.csv', 'PE180955.csv', 'PE181067.csv', 'PE190065.csv', 'PE190925.csv']\n",
      "\n",
      "[Predicted]\n",
      "   -- path of predicted: D:\\USC\\code_mine\\Model_validation\\YASA\\hypnograms\\pred_filt_reref\n",
      "   -- folders for the each subject: ['PE150386', 'PE180205', 'PE180682', 'PE180955', 'PE181067', 'PE190065', 'PE190925']\n"
     ]
    }
   ],
   "source": [
    "path_subejcts_g_hpyno = 'D:\\\\USC\\\\code_mine\\\\Model_validation\\\\YASA\\\\hypnograms\\\\ground_truth' \n",
    "subjects_g_hypno = os.listdir(path_subejcts_g_hpyno)\n",
    "subjects_g_hypno.sort()\n",
    "subjects_g_hypno = subjects_g_hypno[8:15]\n",
    "print(\"[Ground-truth]\")\n",
    "print(\"   -- path of ground_truth: {}\".format(path_subejcts_g_hpyno))\n",
    "print(\"   -- csv files: {}\".format(subjects_g_hypno))\n",
    "\n",
    "path_subejcts_p_hpyno = 'D:\\\\USC\\\\code_mine\\\\Model_validation\\\\YASA\\\\hypnograms\\\\pred_filt_reref' \n",
    "subjects_p_hypno = os.listdir(path_subejcts_p_hpyno)\n",
    "subjects_p_hypno.sort()\n",
    "subjects_p_hypno = subjects_p_hypno[8:15]\n",
    "print(\"\\n[Predicted]\")\n",
    "print(\"   -- path of predicted: {}\".format(path_subejcts_p_hpyno))\n",
    "print(\"   -- folders for the each subject: {}\".format(subjects_p_hypno))"
   ]
  },
  {
   "cell_type": "code",
   "execution_count": 3,
   "id": "4e5aa462",
   "metadata": {
    "scrolled": true
   },
   "outputs": [
    {
     "name": "stdout",
     "output_type": "stream",
     "text": [
      "========================================\n",
      "-- now ground_truth:\n",
      "   D:\\USC\\code_mine\\Model_validation\\YASA\\hypnograms\\ground_truth\\PE150386.csv\n",
      "\n",
      "-- pridicted hypnograms: PE150386 --> ['pred_hypno_C4.csv']\n",
      "========================================\n",
      "-- now ground_truth:\n",
      "   D:\\USC\\code_mine\\Model_validation\\YASA\\hypnograms\\ground_truth\\PE180205.csv\n",
      "\n",
      "-- pridicted hypnograms: PE180205 --> ['pred_hypno_C4.csv']\n",
      "========================================\n",
      "-- now ground_truth:\n",
      "   D:\\USC\\code_mine\\Model_validation\\YASA\\hypnograms\\ground_truth\\PE180682.csv\n",
      "\n",
      "-- pridicted hypnograms: PE180682 --> ['pred_hypno_C4.csv']\n",
      "========================================\n",
      "-- now ground_truth:\n",
      "   D:\\USC\\code_mine\\Model_validation\\YASA\\hypnograms\\ground_truth\\PE180955.csv\n",
      "\n",
      "-- pridicted hypnograms: PE180955 --> ['pred_hypno_C4.csv']\n",
      "========================================\n",
      "-- now ground_truth:\n",
      "   D:\\USC\\code_mine\\Model_validation\\YASA\\hypnograms\\ground_truth\\PE181067.csv\n",
      "\n",
      "-- pridicted hypnograms: PE181067 --> ['pred_hypno_C4.csv']\n",
      "========================================\n",
      "-- now ground_truth:\n",
      "   D:\\USC\\code_mine\\Model_validation\\YASA\\hypnograms\\ground_truth\\PE190065.csv\n",
      "\n",
      "-- pridicted hypnograms: PE190065 --> ['pred_hypno_C4.csv']\n",
      "========================================\n",
      "-- now ground_truth:\n",
      "   D:\\USC\\code_mine\\Model_validation\\YASA\\hypnograms\\ground_truth\\PE190925.csv\n",
      "\n",
      "-- pridicted hypnograms: PE190925 --> ['pred_hypno_C4.csv']\n"
     ]
    }
   ],
   "source": [
    "dic_acc_total = {} # subect 별로 chan_comb에 따른 overall accuracy가 저장됨\n",
    "dic_matrix_total = {} # subject 별로 6개의 matrix가 저장됨\n",
    "key_total = [] # subject name이 key로써 저장됨\n",
    "sub_num = 0\n",
    "\n",
    "for subject in subjects_p_hypno:\n",
    "    print('========================================')\n",
    "    path_g_hypno = os.path.join(path_subejcts_g_hpyno, subjects_g_hypno[sub_num])\n",
    "    print(f\"-- now ground_truth:\\n   {path_g_hypno}\")\n",
    "    g_hypno = pd.read_csv(path_g_hypno).squeeze()\n",
    "\n",
    "    csv_p_hypnos = os.listdir(os.path.join(path_subejcts_p_hpyno, subjects_p_hypno[sub_num], 'pred_hypno'))\n",
    "    print(f\"\\n-- pridicted hypnograms: {subject} --> {csv_p_hypnos}\")\n",
    "\n",
    "    dic_acc_sub = {} # 한 명의 subject 내에서, 채널 조합 별 acc를 저장하는 dictionary\n",
    "    dic_matrix_sub = {} # 한 명의 subject 내에서, 채널 조합 별 matrix를 저장하는 dictionary\n",
    "\n",
    "    path_p_hypno = os.path.join(path_subejcts_p_hpyno, subject, 'pred_hypno', 'pred_hypno_C4.csv')\n",
    "#         print(path_p_hypno)\n",
    "    p_hypno = pd.read_csv(path_p_hypno).squeeze()\n",
    "\n",
    "    # overall accuracy\n",
    "    accuracy = (g_hypno == p_hypno).sum() / p_hypno.size * 100 # 현재 channel combination에 대한 overall accuracy 계산\n",
    "#     dic_acc_sub[] = accuracy # dictionary에 추가  \n",
    "\n",
    "#     # accuracy matrix\n",
    "    matrix = get_acc_matrix.get_acc_matrix(g_hypno, p_hypno)\n",
    "#     dic_matrix_sub[dic_acc_sub_key[ch_comb_num]] = matrix \n",
    " \n",
    "\n",
    "    key_total.append(subject)\n",
    "    dic_acc_total[key_total[sub_num]] = accuracy\n",
    "    dic_matrix_total[key_total[sub_num]] = matrix\n",
    "    sub_num += 1"
   ]
  },
  {
   "cell_type": "code",
   "execution_count": 4,
   "id": "43ed325d",
   "metadata": {},
   "outputs": [
    {
     "data": {
      "text/plain": [
       "{'PE150386': 60.26845637583893,\n",
       " 'PE180205': 59.04139433551199,\n",
       " 'PE180682': 75.29976019184652,\n",
       " 'PE180955': 60.37735849056604,\n",
       " 'PE181067': 58.36477987421384,\n",
       " 'PE190065': 87.39416745061148,\n",
       " 'PE190925': 61.59003831417624}"
      ]
     },
     "execution_count": 4,
     "metadata": {},
     "output_type": "execute_result"
    }
   ],
   "source": [
    "dic_acc_total"
   ]
  },
  {
   "cell_type": "code",
   "execution_count": 15,
   "id": "c161c864",
   "metadata": {},
   "outputs": [
    {
     "data": {
      "text/html": [
       "<div>\n",
       "<style scoped>\n",
       "    .dataframe tbody tr th:only-of-type {\n",
       "        vertical-align: middle;\n",
       "    }\n",
       "\n",
       "    .dataframe tbody tr th {\n",
       "        vertical-align: top;\n",
       "    }\n",
       "\n",
       "    .dataframe thead th {\n",
       "        text-align: right;\n",
       "    }\n",
       "</style>\n",
       "<table border=\"1\" class=\"dataframe\">\n",
       "  <thead>\n",
       "    <tr style=\"text-align: right;\">\n",
       "      <th></th>\n",
       "      <th>PE150386</th>\n",
       "      <th>PE180205</th>\n",
       "      <th>PE180682</th>\n",
       "      <th>PE180955</th>\n",
       "      <th>PE181067</th>\n",
       "      <th>PE190065</th>\n",
       "      <th>PE190925</th>\n",
       "    </tr>\n",
       "  </thead>\n",
       "  <tbody>\n",
       "    <tr>\n",
       "      <th>Accuracy</th>\n",
       "      <td>60.268456</td>\n",
       "      <td>59.041394</td>\n",
       "      <td>75.29976</td>\n",
       "      <td>60.377358</td>\n",
       "      <td>58.36478</td>\n",
       "      <td>87.394167</td>\n",
       "      <td>61.590038</td>\n",
       "    </tr>\n",
       "  </tbody>\n",
       "</table>\n",
       "</div>"
      ],
      "text/plain": [
       "           PE150386   PE180205  PE180682   PE180955  PE181067   PE190065  \\\n",
       "Accuracy  60.268456  59.041394  75.29976  60.377358  58.36478  87.394167   \n",
       "\n",
       "           PE190925  \n",
       "Accuracy  61.590038  "
      ]
     },
     "execution_count": 15,
     "metadata": {},
     "output_type": "execute_result"
    }
   ],
   "source": [
    "df_acc = pd.DataFrame(dic_acc_total, index=['Accuracy'])\n",
    "df_acc"
   ]
  },
  {
   "cell_type": "code",
   "execution_count": 17,
   "id": "35af1c0d",
   "metadata": {},
   "outputs": [
    {
     "data": {
      "text/html": [
       "<div>\n",
       "<style scoped>\n",
       "    .dataframe tbody tr th:only-of-type {\n",
       "        vertical-align: middle;\n",
       "    }\n",
       "\n",
       "    .dataframe tbody tr th {\n",
       "        vertical-align: top;\n",
       "    }\n",
       "\n",
       "    .dataframe thead th {\n",
       "        text-align: right;\n",
       "    }\n",
       "</style>\n",
       "<table border=\"1\" class=\"dataframe\">\n",
       "  <thead>\n",
       "    <tr style=\"text-align: right;\">\n",
       "      <th></th>\n",
       "      <th>PE190065</th>\n",
       "      <th>PE190925</th>\n",
       "      <th>PE181067</th>\n",
       "      <th>PE150386</th>\n",
       "      <th>PE180205</th>\n",
       "      <th>PE180682</th>\n",
       "      <th>PE180955</th>\n",
       "      <th>mean</th>\n",
       "    </tr>\n",
       "  </thead>\n",
       "  <tbody>\n",
       "    <tr>\n",
       "      <th>Accuracy</th>\n",
       "      <td>87.394167</td>\n",
       "      <td>61.590038</td>\n",
       "      <td>58.36478</td>\n",
       "      <td>60.268456</td>\n",
       "      <td>59.041394</td>\n",
       "      <td>75.29976</td>\n",
       "      <td>60.377358</td>\n",
       "      <td>66.047994</td>\n",
       "    </tr>\n",
       "    <tr>\n",
       "      <th>type</th>\n",
       "      <td>normal</td>\n",
       "      <td>OSA_1</td>\n",
       "      <td>OSA_2</td>\n",
       "      <td>Insomnia_1</td>\n",
       "      <td>Insomnia_2</td>\n",
       "      <td>COMISA_1</td>\n",
       "      <td>COMISA_2</td>\n",
       "      <td>-</td>\n",
       "    </tr>\n",
       "  </tbody>\n",
       "</table>\n",
       "</div>"
      ],
      "text/plain": [
       "           PE190065   PE190925  PE181067    PE150386    PE180205  PE180682  \\\n",
       "Accuracy  87.394167  61.590038  58.36478   60.268456   59.041394  75.29976   \n",
       "type         normal      OSA_1     OSA_2  Insomnia_1  Insomnia_2  COMISA_1   \n",
       "\n",
       "           PE180955       mean  \n",
       "Accuracy  60.377358  66.047994  \n",
       "type       COMISA_2          -  "
      ]
     },
     "execution_count": 17,
     "metadata": {},
     "output_type": "execute_result"
    }
   ],
   "source": [
    "subject_num_by_disorder = ['PE190065', 'PE190925', 'PE181067', 'PE150386', 'PE180205', 'PE180682', 'PE180955']\n",
    "disorder_types = ['normal', 'OSA_1', 'OSA_2', 'Insomnia_1', 'Insomnia_2', 'COMISA_1', 'COMISA_2', '-']\n",
    "# new_index = key_total\n",
    "# new_index.insert(0, 'type')\n",
    "# new_index\n",
    "\n",
    "df_acc = df_acc[subject_num_by_disorder] # column 재배치\n",
    "df_acc.loc[:,'mean'] = df_acc.loc[:, :].mean(axis=1) # mean column 추가\n",
    "df_acc.loc['type',:] = disorder_types\n",
    "\n",
    "df_acc"
   ]
  },
  {
   "cell_type": "code",
   "execution_count": 18,
   "id": "beddfaa8",
   "metadata": {
    "scrolled": true
   },
   "outputs": [
    {
     "data": {
      "text/html": [
       "<div>\n",
       "<style scoped>\n",
       "    .dataframe tbody tr th:only-of-type {\n",
       "        vertical-align: middle;\n",
       "    }\n",
       "\n",
       "    .dataframe tbody tr th {\n",
       "        vertical-align: top;\n",
       "    }\n",
       "\n",
       "    .dataframe thead th {\n",
       "        text-align: right;\n",
       "    }\n",
       "</style>\n",
       "<table border=\"1\" class=\"dataframe\">\n",
       "  <thead>\n",
       "    <tr style=\"text-align: right;\">\n",
       "      <th></th>\n",
       "      <th>PE190065</th>\n",
       "      <th>PE190925</th>\n",
       "      <th>PE181067</th>\n",
       "      <th>PE150386</th>\n",
       "      <th>PE180205</th>\n",
       "      <th>PE180682</th>\n",
       "      <th>PE180955</th>\n",
       "      <th>mean</th>\n",
       "    </tr>\n",
       "  </thead>\n",
       "  <tbody>\n",
       "    <tr>\n",
       "      <th>type</th>\n",
       "      <td>normal</td>\n",
       "      <td>OSA_1</td>\n",
       "      <td>OSA_2</td>\n",
       "      <td>Insomnia_1</td>\n",
       "      <td>Insomnia_2</td>\n",
       "      <td>COMISA_1</td>\n",
       "      <td>COMISA_2</td>\n",
       "      <td>-</td>\n",
       "    </tr>\n",
       "    <tr>\n",
       "      <th>Accuracy</th>\n",
       "      <td>87.394167</td>\n",
       "      <td>61.590038</td>\n",
       "      <td>58.36478</td>\n",
       "      <td>60.268456</td>\n",
       "      <td>59.041394</td>\n",
       "      <td>75.29976</td>\n",
       "      <td>60.377358</td>\n",
       "      <td>66.047994</td>\n",
       "    </tr>\n",
       "  </tbody>\n",
       "</table>\n",
       "</div>"
      ],
      "text/plain": [
       "           PE190065   PE190925  PE181067    PE150386    PE180205  PE180682  \\\n",
       "type         normal      OSA_1     OSA_2  Insomnia_1  Insomnia_2  COMISA_1   \n",
       "Accuracy  87.394167  61.590038  58.36478   60.268456   59.041394  75.29976   \n",
       "\n",
       "           PE180955       mean  \n",
       "type       COMISA_2          -  \n",
       "Accuracy  60.377358  66.047994  "
      ]
     },
     "execution_count": 18,
     "metadata": {},
     "output_type": "execute_result"
    }
   ],
   "source": [
    "df_acc.loc[['type', 'Accuracy'], :]"
   ]
  },
  {
   "cell_type": "code",
   "execution_count": null,
   "id": "df993a5b",
   "metadata": {},
   "outputs": [],
   "source": []
  },
  {
   "cell_type": "code",
   "execution_count": null,
   "id": "d05bcd08",
   "metadata": {},
   "outputs": [],
   "source": []
  },
  {
   "cell_type": "code",
   "execution_count": null,
   "id": "a545046f",
   "metadata": {},
   "outputs": [],
   "source": []
  },
  {
   "cell_type": "code",
   "execution_count": null,
   "id": "52e9239c",
   "metadata": {},
   "outputs": [],
   "source": []
  },
  {
   "cell_type": "markdown",
   "id": "8451945f",
   "metadata": {},
   "source": [
    "# matrix 와 heatmap은 따로 노트북 만들자"
   ]
  },
  {
   "cell_type": "code",
   "execution_count": 26,
   "id": "dee085b9",
   "metadata": {
    "scrolled": true
   },
   "outputs": [
    {
     "data": {
      "text/plain": [
       "([<matplotlib.axis.XTick at 0x1cb832add90>,\n",
       "  <matplotlib.axis.XTick at 0x1cb832add60>,\n",
       "  <matplotlib.axis.XTick at 0x1cb832ad490>,\n",
       "  <matplotlib.axis.XTick at 0x1cb832cfbb0>,\n",
       "  <matplotlib.axis.XTick at 0x1cb832d8340>,\n",
       "  <matplotlib.axis.XTick at 0x1cb832d8a90>,\n",
       "  <matplotlib.axis.XTick at 0x1cb832de220>],\n",
       " [Text(0, 0, 'normal'),\n",
       "  Text(1, 0, 'OSA_1'),\n",
       "  Text(2, 0, 'OSA_2'),\n",
       "  Text(3, 0, 'Insomnia_1'),\n",
       "  Text(4, 0, 'Insomnia_2'),\n",
       "  Text(5, 0, 'COMISA_1'),\n",
       "  Text(6, 0, 'COMISA_2')])"
      ]
     },
     "execution_count": 26,
     "metadata": {},
     "output_type": "execute_result"
    },
    {
     "data": {
      "image/png": "[encoded data removed]",
      "text/plain": [
       "<Figure size 432x288 with 1 Axes>"
      ]
     },
     "metadata": {
      "needs_background": "light"
     },
     "output_type": "display_data"
    }
   ],
   "source": [
    "import seaborn as sns\n",
    "import matplotlib.pyplot as plt\n",
    "plt.scatter(range(7), df_acc_C4)\n",
    "plt.xticks(range(7),df_acc.loc['type', :'PE180955'].values)"
   ]
  },
  {
   "cell_type": "code",
   "execution_count": null,
   "id": "c29169ea",
   "metadata": {},
   "outputs": [],
   "source": []
  },
  {
   "cell_type": "markdown",
   "id": "25156e8f",
   "metadata": {},
   "source": [
    "# matrix"
   ]
  },
  {
   "cell_type": "code",
   "execution_count": 34,
   "id": "4d6f3264",
   "metadata": {},
   "outputs": [
    {
     "data": {
      "text/html": [
       "<div>\n",
       "<style scoped>\n",
       "    .dataframe tbody tr th:only-of-type {\n",
       "        vertical-align: middle;\n",
       "    }\n",
       "\n",
       "    .dataframe tbody tr th {\n",
       "        vertical-align: top;\n",
       "    }\n",
       "\n",
       "    .dataframe thead th {\n",
       "        text-align: right;\n",
       "    }\n",
       "</style>\n",
       "<table border=\"1\" class=\"dataframe\">\n",
       "  <thead>\n",
       "    <tr style=\"text-align: right;\">\n",
       "      <th></th>\n",
       "      <th>PE190065</th>\n",
       "      <th>PE190925</th>\n",
       "      <th>PE181067</th>\n",
       "      <th>PE150386</th>\n",
       "      <th>PE180205</th>\n",
       "      <th>PE180682</th>\n",
       "      <th>PE180955</th>\n",
       "    </tr>\n",
       "  </thead>\n",
       "  <tbody>\n",
       "    <tr>\n",
       "      <th>IO_C3</th>\n",
       "      <td>Wake     R    N1    N2    N3\n",
       "Wake  96.7 ...</td>\n",
       "      <td>Wake     R    N1    N2   N3\n",
       "Wake  77.4  ...</td>\n",
       "      <td>Wake     R   N1    N2    N3\n",
       "Wake  78.0  ...</td>\n",
       "      <td>Wake     R    N1    N2    N3\n",
       "Wake  81.3 ...</td>\n",
       "      <td>Wake     R   N1    N2    N3\n",
       "Wake  71.6  ...</td>\n",
       "      <td>Wake     R    N1    N2    N3\n",
       "Wake  79.8 ...</td>\n",
       "      <td>Wake     R   N1    N2    N3\n",
       "Wake  57.9  ...</td>\n",
       "    </tr>\n",
       "    <tr>\n",
       "      <th>IO_C4</th>\n",
       "      <td>Wake     R    N1    N2    N3\n",
       "Wake  97.5 ...</td>\n",
       "      <td>Wake     R    N1    N2   N3\n",
       "Wake  75.7  ...</td>\n",
       "      <td>Wake     R   N1    N2    N3\n",
       "Wake  75.2  ...</td>\n",
       "      <td>Wake     R    N1    N2    N3\n",
       "Wake  81.3 ...</td>\n",
       "      <td>Wake     R   N1    N2    N3\n",
       "Wake  67.2  ...</td>\n",
       "      <td>Wake     R    N1    N2    N3\n",
       "Wake  76.6 ...</td>\n",
       "      <td>Wake     R   N1    N2    N3\n",
       "Wake  57.9  ...</td>\n",
       "    </tr>\n",
       "    <tr>\n",
       "      <th>no_eog_C3</th>\n",
       "      <td>Wake     R    N1    N2    N3\n",
       "Wake  97.9 ...</td>\n",
       "      <td>Wake     R    N1    N2   N3\n",
       "Wake  75.0  ...</td>\n",
       "      <td>Wake     R   N1    N2    N3\n",
       "Wake  60.3  ...</td>\n",
       "      <td>Wake     R    N1    N2    N3\n",
       "Wake  79.1 ...</td>\n",
       "      <td>Wake     R   N1    N2    N3\n",
       "Wake  71.0  ...</td>\n",
       "      <td>Wake     R   N1    N2    N3\n",
       "Wake  78.7  ...</td>\n",
       "      <td>Wake     R   N1    N2    N3\n",
       "Wake  51.9  ...</td>\n",
       "    </tr>\n",
       "    <tr>\n",
       "      <th>no_eog_C4</th>\n",
       "      <td>Wake     R   N1    N2    N3\n",
       "Wake  98.3  ...</td>\n",
       "      <td>Wake     R    N1    N2   N3\n",
       "Wake  75.0  ...</td>\n",
       "      <td>Wake     R   N1    N2    N3\n",
       "Wake  66.0  ...</td>\n",
       "      <td>Wake     R    N1    N2    N3\n",
       "Wake  80.2 ...</td>\n",
       "      <td>Wake     R   N1    N2    N3\n",
       "Wake  66.1  ...</td>\n",
       "      <td>Wake     R   N1    N2    N3\n",
       "Wake  76.6  ...</td>\n",
       "      <td>Wake     R   N1    N2    N3\n",
       "Wake  54.9  ...</td>\n",
       "    </tr>\n",
       "    <tr>\n",
       "      <th>SO_C3</th>\n",
       "      <td>Wake     R    N1    N2    N3\n",
       "Wake  94.6 ...</td>\n",
       "      <td>Wake     R    N1    N2   N3\n",
       "Wake  76.7  ...</td>\n",
       "      <td>Wake     R   N1    N2    N3\n",
       "Wake  71.6  ...</td>\n",
       "      <td>Wake     R   N1    N2    N3\n",
       "Wake  83.5  ...</td>\n",
       "      <td>Wake     R   N1    N2    N3\n",
       "Wake  73.8  ...</td>\n",
       "      <td>Wake     R    N1    N2    N3\n",
       "Wake  78.7 ...</td>\n",
       "      <td>Wake     R   N1    N2    N3\n",
       "Wake  55.6  ...</td>\n",
       "    </tr>\n",
       "    <tr>\n",
       "      <th>SO_C4</th>\n",
       "      <td>Wake     R   N1    N2    N3\n",
       "Wake  95.4  ...</td>\n",
       "      <td>Wake     R    N1    N2   N3\n",
       "Wake  77.8  ...</td>\n",
       "      <td>Wake    R   N1    N2    N3\n",
       "Wake  70.2  1...</td>\n",
       "      <td>Wake     R   N1    N2    N3\n",
       "Wake  82.4  ...</td>\n",
       "      <td>Wake     R   N1    N2    N3\n",
       "Wake  71.0  ...</td>\n",
       "      <td>Wake     R    N1    N2    N3\n",
       "Wake  76.6 ...</td>\n",
       "      <td>Wake     R   N1    N2    N3\n",
       "Wake  55.6  ...</td>\n",
       "    </tr>\n",
       "  </tbody>\n",
       "</table>\n",
       "</div>"
      ],
      "text/plain": [
       "                                                    PE190065  \\\n",
       "IO_C3            Wake     R    N1    N2    N3\n",
       "Wake  96.7 ...   \n",
       "IO_C4            Wake     R    N1    N2    N3\n",
       "Wake  97.5 ...   \n",
       "no_eog_C3        Wake     R    N1    N2    N3\n",
       "Wake  97.9 ...   \n",
       "no_eog_C4        Wake     R   N1    N2    N3\n",
       "Wake  98.3  ...   \n",
       "SO_C3            Wake     R    N1    N2    N3\n",
       "Wake  94.6 ...   \n",
       "SO_C4            Wake     R   N1    N2    N3\n",
       "Wake  95.4  ...   \n",
       "\n",
       "                                                    PE190925  \\\n",
       "IO_C3            Wake     R    N1    N2   N3\n",
       "Wake  77.4  ...   \n",
       "IO_C4            Wake     R    N1    N2   N3\n",
       "Wake  75.7  ...   \n",
       "no_eog_C3        Wake     R    N1    N2   N3\n",
       "Wake  75.0  ...   \n",
       "no_eog_C4        Wake     R    N1    N2   N3\n",
       "Wake  75.0  ...   \n",
       "SO_C3            Wake     R    N1    N2   N3\n",
       "Wake  76.7  ...   \n",
       "SO_C4            Wake     R    N1    N2   N3\n",
       "Wake  77.8  ...   \n",
       "\n",
       "                                                    PE181067  \\\n",
       "IO_C3            Wake     R   N1    N2    N3\n",
       "Wake  78.0  ...   \n",
       "IO_C4            Wake     R   N1    N2    N3\n",
       "Wake  75.2  ...   \n",
       "no_eog_C3        Wake     R   N1    N2    N3\n",
       "Wake  60.3  ...   \n",
       "no_eog_C4        Wake     R   N1    N2    N3\n",
       "Wake  66.0  ...   \n",
       "SO_C3            Wake     R   N1    N2    N3\n",
       "Wake  71.6  ...   \n",
       "SO_C4            Wake    R   N1    N2    N3\n",
       "Wake  70.2  1...   \n",
       "\n",
       "                                                    PE150386  \\\n",
       "IO_C3            Wake     R    N1    N2    N3\n",
       "Wake  81.3 ...   \n",
       "IO_C4            Wake     R    N1    N2    N3\n",
       "Wake  81.3 ...   \n",
       "no_eog_C3        Wake     R    N1    N2    N3\n",
       "Wake  79.1 ...   \n",
       "no_eog_C4        Wake     R    N1    N2    N3\n",
       "Wake  80.2 ...   \n",
       "SO_C3            Wake     R   N1    N2    N3\n",
       "Wake  83.5  ...   \n",
       "SO_C4            Wake     R   N1    N2    N3\n",
       "Wake  82.4  ...   \n",
       "\n",
       "                                                    PE180205  \\\n",
       "IO_C3            Wake     R   N1    N2    N3\n",
       "Wake  71.6  ...   \n",
       "IO_C4            Wake     R   N1    N2    N3\n",
       "Wake  67.2  ...   \n",
       "no_eog_C3        Wake     R   N1    N2    N3\n",
       "Wake  71.0  ...   \n",
       "no_eog_C4        Wake     R   N1    N2    N3\n",
       "Wake  66.1  ...   \n",
       "SO_C3            Wake     R   N1    N2    N3\n",
       "Wake  73.8  ...   \n",
       "SO_C4            Wake     R   N1    N2    N3\n",
       "Wake  71.0  ...   \n",
       "\n",
       "                                                    PE180682  \\\n",
       "IO_C3            Wake     R    N1    N2    N3\n",
       "Wake  79.8 ...   \n",
       "IO_C4            Wake     R    N1    N2    N3\n",
       "Wake  76.6 ...   \n",
       "no_eog_C3        Wake     R   N1    N2    N3\n",
       "Wake  78.7  ...   \n",
       "no_eog_C4        Wake     R   N1    N2    N3\n",
       "Wake  76.6  ...   \n",
       "SO_C3            Wake     R    N1    N2    N3\n",
       "Wake  78.7 ...   \n",
       "SO_C4            Wake     R    N1    N2    N3\n",
       "Wake  76.6 ...   \n",
       "\n",
       "                                                    PE180955  \n",
       "IO_C3            Wake     R   N1    N2    N3\n",
       "Wake  57.9  ...  \n",
       "IO_C4            Wake     R   N1    N2    N3\n",
       "Wake  57.9  ...  \n",
       "no_eog_C3        Wake     R   N1    N2    N3\n",
       "Wake  51.9  ...  \n",
       "no_eog_C4        Wake     R   N1    N2    N3\n",
       "Wake  54.9  ...  \n",
       "SO_C3            Wake     R   N1    N2    N3\n",
       "Wake  55.6  ...  \n",
       "SO_C4            Wake     R   N1    N2    N3\n",
       "Wake  55.6  ...  "
      ]
     },
     "execution_count": 34,
     "metadata": {},
     "output_type": "execute_result"
    }
   ],
   "source": [
    "df_matrix = pd.DataFrame(dic_matrix_total)\n",
    "df_matrix = df_matrix[subject_num_by_disorder]\n",
    "df_matrix"
   ]
  },
  {
   "cell_type": "code",
   "execution_count": 36,
   "id": "9122c39c",
   "metadata": {},
   "outputs": [
    {
     "data": {
      "text/plain": [
       "PE190065          Wake     R   N1    N2    N3\n",
       "Wake  98.3  ...\n",
       "PE190925          Wake     R    N1    N2   N3\n",
       "Wake  75.0  ...\n",
       "PE181067          Wake     R   N1    N2    N3\n",
       "Wake  66.0  ...\n",
       "PE150386          Wake     R    N1    N2    N3\n",
       "Wake  80.2 ...\n",
       "PE180205          Wake     R   N1    N2    N3\n",
       "Wake  66.1  ...\n",
       "PE180682          Wake     R   N1    N2    N3\n",
       "Wake  76.6  ...\n",
       "PE180955          Wake     R   N1    N2    N3\n",
       "Wake  54.9  ...\n",
       "Name: no_eog_C4, dtype: object"
      ]
     },
     "execution_count": 36,
     "metadata": {},
     "output_type": "execute_result"
    }
   ],
   "source": [
    "df_matrix_C4 = df_matrix.loc['no_eog_C4', :]\n",
    "df_matrix_C4"
   ]
  },
  {
   "cell_type": "code",
   "execution_count": 37,
   "id": "4ac9d5cf",
   "metadata": {},
   "outputs": [
    {
     "data": {
      "text/html": [
       "<div>\n",
       "<style scoped>\n",
       "    .dataframe tbody tr th:only-of-type {\n",
       "        vertical-align: middle;\n",
       "    }\n",
       "\n",
       "    .dataframe tbody tr th {\n",
       "        vertical-align: top;\n",
       "    }\n",
       "\n",
       "    .dataframe thead th {\n",
       "        text-align: right;\n",
       "    }\n",
       "</style>\n",
       "<table border=\"1\" class=\"dataframe\">\n",
       "  <thead>\n",
       "    <tr style=\"text-align: right;\">\n",
       "      <th></th>\n",
       "      <th>Wake</th>\n",
       "      <th>R</th>\n",
       "      <th>N1</th>\n",
       "      <th>N2</th>\n",
       "      <th>N3</th>\n",
       "    </tr>\n",
       "  </thead>\n",
       "  <tbody>\n",
       "    <tr>\n",
       "      <th>Wake</th>\n",
       "      <td>98.3</td>\n",
       "      <td>0.4</td>\n",
       "      <td>0.2</td>\n",
       "      <td>0.8</td>\n",
       "      <td>0.2</td>\n",
       "    </tr>\n",
       "    <tr>\n",
       "      <th>R</th>\n",
       "      <td>2.2</td>\n",
       "      <td>79.1</td>\n",
       "      <td>0.0</td>\n",
       "      <td>13.2</td>\n",
       "      <td>4.4</td>\n",
       "    </tr>\n",
       "    <tr>\n",
       "      <th>N1</th>\n",
       "      <td>25.0</td>\n",
       "      <td>44.1</td>\n",
       "      <td>7.4</td>\n",
       "      <td>20.6</td>\n",
       "      <td>1.5</td>\n",
       "    </tr>\n",
       "    <tr>\n",
       "      <th>N2</th>\n",
       "      <td>0.4</td>\n",
       "      <td>3.3</td>\n",
       "      <td>0.4</td>\n",
       "      <td>83.5</td>\n",
       "      <td>12.1</td>\n",
       "    </tr>\n",
       "    <tr>\n",
       "      <th>N3</th>\n",
       "      <td>0.0</td>\n",
       "      <td>0.0</td>\n",
       "      <td>0.0</td>\n",
       "      <td>0.8</td>\n",
       "      <td>98.3</td>\n",
       "    </tr>\n",
       "  </tbody>\n",
       "</table>\n",
       "</div>"
      ],
      "text/plain": [
       "      Wake     R   N1    N2    N3\n",
       "Wake  98.3   0.4  0.2   0.8   0.2\n",
       "R      2.2  79.1  0.0  13.2   4.4\n",
       "N1    25.0  44.1  7.4  20.6   1.5\n",
       "N2     0.4   3.3  0.4  83.5  12.1\n",
       "N3     0.0   0.0  0.0   0.8  98.3"
      ]
     },
     "execution_count": 37,
     "metadata": {},
     "output_type": "execute_result"
    }
   ],
   "source": [
    "df_matrix_C4[0]"
   ]
  },
  {
   "cell_type": "code",
   "execution_count": 44,
   "id": "14cee25b",
   "metadata": {
    "scrolled": true
   },
   "outputs": [
    {
     "data": {
      "text/html": [
       "<div>\n",
       "<style scoped>\n",
       "    .dataframe tbody tr th:only-of-type {\n",
       "        vertical-align: middle;\n",
       "    }\n",
       "\n",
       "    .dataframe tbody tr th {\n",
       "        vertical-align: top;\n",
       "    }\n",
       "\n",
       "    .dataframe thead th {\n",
       "        text-align: right;\n",
       "    }\n",
       "</style>\n",
       "<table border=\"1\" class=\"dataframe\">\n",
       "  <thead>\n",
       "    <tr style=\"text-align: right;\">\n",
       "      <th></th>\n",
       "      <th>Wake</th>\n",
       "      <th>R</th>\n",
       "      <th>N1</th>\n",
       "      <th>N2</th>\n",
       "      <th>N3</th>\n",
       "    </tr>\n",
       "  </thead>\n",
       "  <tbody>\n",
       "    <tr>\n",
       "      <th>Wake</th>\n",
       "      <td>54.9</td>\n",
       "      <td>10.5</td>\n",
       "      <td>2.3</td>\n",
       "      <td>31.6</td>\n",
       "      <td>0.0</td>\n",
       "    </tr>\n",
       "    <tr>\n",
       "      <th>R</th>\n",
       "      <td>2.9</td>\n",
       "      <td>94.8</td>\n",
       "      <td>0.0</td>\n",
       "      <td>1.7</td>\n",
       "      <td>0.0</td>\n",
       "    </tr>\n",
       "    <tr>\n",
       "      <th>N1</th>\n",
       "      <td>45.8</td>\n",
       "      <td>3.0</td>\n",
       "      <td>9.6</td>\n",
       "      <td>40.4</td>\n",
       "      <td>0.6</td>\n",
       "    </tr>\n",
       "    <tr>\n",
       "      <th>N2</th>\n",
       "      <td>8.3</td>\n",
       "      <td>3.2</td>\n",
       "      <td>4.1</td>\n",
       "      <td>69.1</td>\n",
       "      <td>15.0</td>\n",
       "    </tr>\n",
       "    <tr>\n",
       "      <th>N3</th>\n",
       "      <td>0.0</td>\n",
       "      <td>0.0</td>\n",
       "      <td>0.0</td>\n",
       "      <td>20.0</td>\n",
       "      <td>73.3</td>\n",
       "    </tr>\n",
       "  </tbody>\n",
       "</table>\n",
       "</div>"
      ],
      "text/plain": [
       "      Wake     R   N1    N2    N3\n",
       "Wake  54.9  10.5  2.3  31.6   0.0\n",
       "R      2.9  94.8  0.0   1.7   0.0\n",
       "N1    45.8   3.0  9.6  40.4   0.6\n",
       "N2     8.3   3.2  4.1  69.1  15.0\n",
       "N3     0.0   0.0  0.0  20.0  73.3"
      ]
     },
     "execution_count": 44,
     "metadata": {},
     "output_type": "execute_result"
    }
   ],
   "source": [
    "df_matrix_C4[6]"
   ]
  },
  {
   "cell_type": "markdown",
   "id": "d060e300",
   "metadata": {},
   "source": [
    "# prob_matrix"
   ]
  },
  {
   "cell_type": "code",
   "execution_count": 58,
   "id": "58266ec7",
   "metadata": {
    "scrolled": true
   },
   "outputs": [
    {
     "name": "stdout",
     "output_type": "stream",
     "text": [
      "['PE150386', 'PE180205', 'PE180682', 'PE180955', 'PE181067', 'PE190065', 'PE190925']\n"
     ]
    },
    {
     "data": {
      "image/png": "[encoded data removed]",
      "text/plain": [
       "<Figure size 432x288 with 2 Axes>"
      ]
     },
     "metadata": {
      "needs_background": "light"
     },
     "output_type": "display_data"
    },
    {
     "data": {
      "image/png": "[encoded data removed]",
      "text/plain": [
       "<Figure size 432x288 with 2 Axes>"
      ]
     },
     "metadata": {
      "needs_background": "light"
     },
     "output_type": "display_data"
    },
    {
     "data": {
      "image/png": "[encoded data removed]",
      "text/plain": [
       "<Figure size 432x288 with 2 Axes>"
      ]
     },
     "metadata": {
      "needs_background": "light"
     },
     "output_type": "display_data"
    },
    {
     "data": {
      "image/png": "[encoded data removed]",
      "text/plain": [
       "<Figure size 432x288 with 2 Axes>"
      ]
     },
     "metadata": {
      "needs_background": "light"
     },
     "output_type": "display_data"
    },
    {
     "data": {
      "image/png": "[encoded data removed]",
      "text/plain": [
       "<Figure size 432x288 with 2 Axes>"
      ]
     },
     "metadata": {
      "needs_background": "light"
     },
     "output_type": "display_data"
    },
    {
     "data": {
      "image/png": "[encoded data removed]",
      "text/plain": [
       "<Figure size 432x288 with 2 Axes>"
      ]
     },
     "metadata": {
      "needs_background": "light"
     },
     "output_type": "display_data"
    },
    {
     "data": {
      "image/png": "[encoded data removed]",
      "text/plain": [
       "<Figure size 432x288 with 2 Axes>"
      ]
     },
     "metadata": {
      "needs_background": "light"
     },
     "output_type": "display_data"
    }
   ],
   "source": [
    "# C4에 해당하는 prob_matrix만 가져오자\n",
    "\n",
    "path_subjects_prob = 'D:\\\\USC\\\\code_mine\\\\PE_test\\\\hypnogram\\\\predicted_with_filt'\n",
    "subjects_prob = os.listdir(path_subjects_prob)\n",
    "print(subjects_prob)\n",
    "\n",
    "for subject in subjects_prob:\n",
    "    path_matrix = os.path.join(path_subjects_prob, subject, 'prob', '_no_eog_C4_prob.csv')\n",
    "    df_prob = pd.read_csv(path_matrix, index_col=0)\n",
    "    plt.figure()\n",
    "    sns.heatmap(df_prob.transpose())"
   ]
  },
  {
   "cell_type": "markdown",
   "id": "5aff4c42",
   "metadata": {},
   "source": [
    "# hypnogram"
   ]
  },
  {
   "cell_type": "code",
   "execution_count": null,
   "id": "d1664e91",
   "metadata": {},
   "outputs": [],
   "source": [
    "import yasa\n",
    "\n",
    "path_subjects_g_hypno = 'D:\\\\USC\\\\code_mine\\\\PE_test\\\\hypnogram\\\\ground_truth'\n",
    "subjects_g_hypno= os.listdir(path_subjects_g_hypno)\n",
    "print(subjects_g_hypno)\n",
    "\n",
    "path_subjects_p_hypno = 'D:\\\\USC\\\\code_mine\\\\PE_test\\\\hypnogram\\\\predicted_with_filt'\n",
    "subjects_p_hypno= os.listdir(path_subjects_p_hypno)\n",
    "print(subjects_p_hypno)\n",
    "\n",
    "for subject in subjects_p_hypno:\n",
    "    path_p_hypno = os.path.join(path_subjects_p_hypno, subject, 'pred_hypno', '_no_eog_C4.csv')\n",
    "    hypno = pd.read_csv(path_p_hypno, index_col=0).squeeze()\n",
    "    plt.figure()\n",
    "    yasa.plot_hypnogram(hypno)"
   ]
  },
  {
   "cell_type": "code",
   "execution_count": null,
   "id": "8f92aa6f",
   "metadata": {},
   "outputs": [],
   "source": []
  },
  {
   "cell_type": "code",
   "execution_count": null,
   "id": "cc590a9f",
   "metadata": {},
   "outputs": [],
   "source": []
  },
  {
   "cell_type": "markdown",
   "id": "ef5afd0a",
   "metadata": {},
   "source": [
    "# after reref"
   ]
  },
  {
   "cell_type": "code",
   "execution_count": null,
   "id": "f3749089",
   "metadata": {},
   "outputs": [],
   "source": []
  }
 ],
 "metadata": {
  "kernelspec": {
   "display_name": "Python 3 (ipykernel)",
   "language": "python",
   "name": "python3"
  },
  "language_info": {
   "codemirror_mode": {
    "name": "ipython",
    "version": 3
   },
   "file_extension": ".py",
   "mimetype": "text/x-python",
   "name": "python",
   "nbconvert_exporter": "python",
   "pygments_lexer": "ipython3",
   "version": "3.9.7"
  }
 },
 "nbformat": 4,
 "nbformat_minor": 5
}
