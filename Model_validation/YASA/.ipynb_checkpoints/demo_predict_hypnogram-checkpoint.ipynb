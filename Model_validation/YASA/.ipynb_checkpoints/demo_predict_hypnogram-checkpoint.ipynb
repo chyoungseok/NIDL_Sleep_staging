{
 "cells": [
  {
   "cell_type": "markdown",
   "id": "25eabe83",
   "metadata": {},
   "source": [
    "# edf를 이용하여 predicted hypnogram을 추출하자"
   ]
  },
  {
   "cell_type": "markdown",
   "id": "58a0a21d",
   "metadata": {},
   "source": [
    "# 1. LE dataset"
   ]
  },
  {
   "cell_type": "code",
   "execution_count": null,
   "id": "e38e6326",
   "metadata": {},
   "outputs": [],
   "source": [
    "import os\n",
    "import pandas as pd\n",
    "import yasa"
   ]
  },
  {
   "cell_type": "code",
   "execution_count": null,
   "id": "0b7da08e",
   "metadata": {},
   "outputs": [],
   "source": []
  },
  {
   "cell_type": "code",
   "execution_count": null,
   "id": "865b9bc3",
   "metadata": {},
   "outputs": [],
   "source": []
  },
  {
   "cell_type": "code",
   "execution_count": null,
   "id": "0c599498",
   "metadata": {},
   "outputs": [],
   "source": []
  },
  {
   "cell_type": "code",
   "execution_count": null,
   "id": "d4984f2a",
   "metadata": {},
   "outputs": [],
   "source": []
  },
  {
   "cell_type": "code",
   "execution_count": null,
   "id": "a1e51ba5",
   "metadata": {},
   "outputs": [],
   "source": []
  },
  {
   "cell_type": "markdown",
   "id": "b23d600b",
   "metadata": {},
   "source": [
    "# 2. VD dataset"
   ]
  },
  {
   "cell_type": "code",
   "execution_count": null,
   "id": "5afc9e0e",
   "metadata": {},
   "outputs": [],
   "source": []
  }
 ],
 "metadata": {
  "kernelspec": {
   "display_name": "Python 3 (ipykernel)",
   "language": "python",
   "name": "python3"
  },
  "language_info": {
   "codemirror_mode": {
    "name": "ipython",
    "version": 3
   },
   "file_extension": ".py",
   "mimetype": "text/x-python",
   "name": "python",
   "nbconvert_exporter": "python",
   "pygments_lexer": "ipython3",
   "version": "3.9.7"
  }
 },
 "nbformat": 4,
 "nbformat_minor": 5
}
