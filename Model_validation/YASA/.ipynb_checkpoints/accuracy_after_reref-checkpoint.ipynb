{
 "cells": [
  {
   "cell_type": "markdown",
   "id": "8df1737a",
   "metadata": {},
   "source": [
    "# LE dataset"
   ]
  },
  {
   "cell_type": "code",
   "execution_count": 1,
   "id": "6bfa323f",
   "metadata": {},
   "outputs": [],
   "source": [
    "import os\n",
    "import yasa\n",
    "import pandas as pd\n",
    "import get_acc_matrix\n",
    "import matplotlib.pyplot as plt"
   ]
  },
  {
   "cell_type": "code",
   "execution_count": 2,
   "id": "fc903ea1",
   "metadata": {},
   "outputs": [
    {
     "name": "stdout",
     "output_type": "stream",
     "text": [
      "[Ground-truth]\n",
      "   -- path of ground_truth: D:\\USC\\code_mine\\Model_validation\\YASA\\hypnograms\\ground_truth\n",
      "   -- csv files: ['LE004.csv', 'LE010.csv', 'LE011.csv', 'LE014.csv', 'LE019.csv', 'LE020.csv', 'LE021.csv', 'LE023.csv']\n",
      "\n",
      "[Predicted]\n",
      "   -- path of predicted: D:\\USC\\code_mine\\Model_validation\\YASA\\hypnograms\\pred_filt_reref\n",
      "   -- folders for the each subject: ['LE004', 'LE010', 'LE011', 'LE014', 'LE019', 'LE020', 'LE021', 'LE023']\n"
     ]
    }
   ],
   "source": [
    "path_subejcts_g_hpyno = 'D:\\\\USC\\\\code_mine\\\\Model_validation\\\\YASA\\\\hypnograms\\\\ground_truth' \n",
    "subjects_g_hypno = os.listdir(path_subejcts_g_hpyno)\n",
    "subjects_g_hypno.sort()\n",
    "subjects_g_hypno = subjects_g_hypno[0:8]\n",
    "print(\"[Ground-truth]\")\n",
    "print(\"   -- path of ground_truth: {}\".format(path_subejcts_g_hpyno))\n",
    "print(\"   -- csv files: {}\".format(subjects_g_hypno))\n",
    "\n",
    "path_subejcts_p_hpyno = 'D:\\\\USC\\\\code_mine\\\\Model_validation\\\\YASA\\\\hypnograms\\\\pred_filt_reref' \n",
    "subjects_p_hypno = os.listdir(path_subejcts_p_hpyno)\n",
    "subjects_p_hypno.sort()\n",
    "subjects_p_hypno = subjects_p_hypno[0:8]\n",
    "print(\"\\n[Predicted]\")\n",
    "print(\"   -- path of predicted: {}\".format(path_subejcts_p_hpyno))\n",
    "print(\"   -- folders for the each subject: {}\".format(subjects_p_hypno))"
   ]
  },
  {
   "cell_type": "code",
   "execution_count": 3,
   "id": "871c3e0b",
   "metadata": {
    "scrolled": true
   },
   "outputs": [
    {
     "name": "stdout",
     "output_type": "stream",
     "text": [
      "========================================\n",
      "-- now ground_truth:\n",
      "   D:\\USC\\code_mine\\Model_validation\\YASA\\hypnograms\\ground_truth\\LE004.csv\n",
      "\n",
      "-- pridicted hypnograms: LE004 --> ['pred_hypno_C4.csv']\n",
      "========================================\n",
      "-- now ground_truth:\n",
      "   D:\\USC\\code_mine\\Model_validation\\YASA\\hypnograms\\ground_truth\\LE010.csv\n",
      "\n",
      "-- pridicted hypnograms: LE010 --> ['pred_hypno_C4.csv']\n",
      "========================================\n",
      "-- now ground_truth:\n",
      "   D:\\USC\\code_mine\\Model_validation\\YASA\\hypnograms\\ground_truth\\LE011.csv\n",
      "\n",
      "-- pridicted hypnograms: LE011 --> ['pred_hypno_C4.csv']\n",
      "========================================\n",
      "-- now ground_truth:\n",
      "   D:\\USC\\code_mine\\Model_validation\\YASA\\hypnograms\\ground_truth\\LE014.csv\n",
      "\n",
      "-- pridicted hypnograms: LE014 --> ['pred_hypno_C4.csv']\n",
      "========================================\n",
      "-- now ground_truth:\n",
      "   D:\\USC\\code_mine\\Model_validation\\YASA\\hypnograms\\ground_truth\\LE019.csv\n",
      "\n",
      "-- pridicted hypnograms: LE019 --> ['pred_hypno_C4.csv']\n",
      "========================================\n",
      "-- now ground_truth:\n",
      "   D:\\USC\\code_mine\\Model_validation\\YASA\\hypnograms\\ground_truth\\LE020.csv\n",
      "\n",
      "-- pridicted hypnograms: LE020 --> ['pred_hypno_C4.csv']\n",
      "========================================\n",
      "-- now ground_truth:\n",
      "   D:\\USC\\code_mine\\Model_validation\\YASA\\hypnograms\\ground_truth\\LE021.csv\n",
      "\n",
      "-- pridicted hypnograms: LE021 --> ['pred_hypno_C4.csv']\n",
      "========================================\n",
      "-- now ground_truth:\n",
      "   D:\\USC\\code_mine\\Model_validation\\YASA\\hypnograms\\ground_truth\\LE023.csv\n",
      "\n",
      "-- pridicted hypnograms: LE023 --> ['pred_hypno_C4.csv']\n"
     ]
    }
   ],
   "source": [
    "dic_acc_total = {} # subect 별로 chan_comb에 따른 overall accuracy가 저장됨\n",
    "dic_matrix_total = {} # subject 별로 6개의 matrix가 저장됨\n",
    "key_total = [] # subject name이 key로써 저장됨\n",
    "sub_num = 0\n",
    "\n",
    "for subject in subjects_p_hypno:\n",
    "    print('========================================')\n",
    "    path_g_hypno = os.path.join(path_subejcts_g_hpyno, subjects_g_hypno[sub_num])\n",
    "    print(f\"-- now ground_truth:\\n   {path_g_hypno}\")\n",
    "    g_hypno = pd.read_csv(path_g_hypno).squeeze()\n",
    "\n",
    "    csv_p_hypnos = os.listdir(os.path.join(path_subejcts_p_hpyno, subjects_p_hypno[sub_num], 'pred_hypno'))\n",
    "    print(f\"\\n-- pridicted hypnograms: {subject} --> {csv_p_hypnos}\")\n",
    "\n",
    "    dic_acc_sub = {} # 한 명의 subject 내에서, 채널 조합 별 acc를 저장하는 dictionary\n",
    "    dic_matrix_sub = {} # 한 명의 subject 내에서, 채널 조합 별 matrix를 저장하는 dictionary\n",
    "\n",
    "    path_p_hypno = os.path.join(path_subejcts_p_hpyno, subject, 'pred_hypno', 'pred_hypno_C4.csv')\n",
    "#         print(path_p_hypno)\n",
    "    p_hypno = pd.read_csv(path_p_hypno).squeeze()\n",
    "\n",
    "    # overall accuracy\n",
    "    accuracy = (g_hypno == p_hypno).sum() / p_hypno.size * 100 # 현재 channel combination에 대한 overall accuracy 계산\n",
    "#     dic_acc_sub[] = accuracy # dictionary에 추가  \n",
    "\n",
    "#     # accuracy matrix\n",
    "    matrix = get_acc_matrix.get_acc_matrix(g_hypno, p_hypno)\n",
    "#     dic_matrix_sub[dic_acc_sub_key[ch_comb_num]] = matrix \n",
    " \n",
    "\n",
    "    key_total.append(subject)\n",
    "    dic_acc_total[key_total[sub_num]] = accuracy\n",
    "    dic_matrix_total[key_total[sub_num]] = matrix\n",
    "    sub_num += 1"
   ]
  },
  {
   "cell_type": "code",
   "execution_count": 6,
   "id": "0552c106",
   "metadata": {},
   "outputs": [
    {
     "data": {
      "text/html": [
       "<div>\n",
       "<style scoped>\n",
       "    .dataframe tbody tr th:only-of-type {\n",
       "        vertical-align: middle;\n",
       "    }\n",
       "\n",
       "    .dataframe tbody tr th {\n",
       "        vertical-align: top;\n",
       "    }\n",
       "\n",
       "    .dataframe thead th {\n",
       "        text-align: right;\n",
       "    }\n",
       "</style>\n",
       "<table border=\"1\" class=\"dataframe\">\n",
       "  <thead>\n",
       "    <tr style=\"text-align: right;\">\n",
       "      <th></th>\n",
       "      <th>LE004</th>\n",
       "      <th>LE010</th>\n",
       "      <th>LE011</th>\n",
       "      <th>LE014</th>\n",
       "      <th>LE019</th>\n",
       "      <th>LE020</th>\n",
       "      <th>LE021</th>\n",
       "      <th>LE023</th>\n",
       "      <th>mean</th>\n",
       "    </tr>\n",
       "  </thead>\n",
       "  <tbody>\n",
       "    <tr>\n",
       "      <th>Accuracy</th>\n",
       "      <td>39.191291</td>\n",
       "      <td>77.718121</td>\n",
       "      <td>73.09185</td>\n",
       "      <td>78.488372</td>\n",
       "      <td>72.334294</td>\n",
       "      <td>77.363897</td>\n",
       "      <td>77.361319</td>\n",
       "      <td>59.615385</td>\n",
       "      <td>69.395566</td>\n",
       "    </tr>\n",
       "  </tbody>\n",
       "</table>\n",
       "</div>"
      ],
      "text/plain": [
       "              LE004      LE010     LE011      LE014      LE019      LE020  \\\n",
       "Accuracy  39.191291  77.718121  73.09185  78.488372  72.334294  77.363897   \n",
       "\n",
       "              LE021      LE023       mean  \n",
       "Accuracy  77.361319  59.615385  69.395566  "
      ]
     },
     "execution_count": 6,
     "metadata": {},
     "output_type": "execute_result"
    }
   ],
   "source": [
    "df_acc = pd.DataFrame(dic_acc_total, index=['Accuracy'])\n",
    "df_acc['mean'] = df_acc.mean(axis=1)\n",
    "df_acc"
   ]
  },
  {
   "cell_type": "code",
   "execution_count": 8,
   "id": "ac92fb1e",
   "metadata": {
    "scrolled": true
   },
   "outputs": [
    {
     "data": {
      "text/plain": [
       "([<matplotlib.axis.XTick at 0x15ac734a700>,\n",
       "  <matplotlib.axis.XTick at 0x15ac734a6d0>,\n",
       "  <matplotlib.axis.XTick at 0x15ac733b4c0>,\n",
       "  <matplotlib.axis.XTick at 0x15ac93930a0>,\n",
       "  <matplotlib.axis.XTick at 0x15ac93936d0>,\n",
       "  <matplotlib.axis.XTick at 0x15ac9377cd0>,\n",
       "  <matplotlib.axis.XTick at 0x15ac9393370>,\n",
       "  <matplotlib.axis.XTick at 0x15ac93995b0>],\n",
       " [Text(0, 0, 'LE004'),\n",
       "  Text(1, 0, 'LE010'),\n",
       "  Text(2, 0, 'LE011'),\n",
       "  Text(3, 0, 'LE014'),\n",
       "  Text(4, 0, 'LE019'),\n",
       "  Text(5, 0, 'LE020'),\n",
       "  Text(6, 0, 'LE021'),\n",
       "  Text(7, 0, 'LE023')])"
      ]
     },
     "execution_count": 8,
     "metadata": {},
     "output_type": "execute_result"
    },
    {
     "data": {
      "image/png": "[encoded data removed]",
      "text/plain": [
       "<Figure size 432x288 with 1 Axes>"
      ]
     },
     "metadata": {
      "needs_background": "light"
     },
     "output_type": "display_data"
    }
   ],
   "source": [
    "plt.scatter(range(8), df_acc.iloc[:, :8])\n",
    "plt.xticks(range(8),df_acc.columns[:8])"
   ]
  },
  {
   "cell_type": "code",
   "execution_count": 13,
   "id": "0c1bc44c",
   "metadata": {},
   "outputs": [
    {
     "data": {
      "text/html": [
       "<div>\n",
       "<style scoped>\n",
       "    .dataframe tbody tr th:only-of-type {\n",
       "        vertical-align: middle;\n",
       "    }\n",
       "\n",
       "    .dataframe tbody tr th {\n",
       "        vertical-align: top;\n",
       "    }\n",
       "\n",
       "    .dataframe thead th {\n",
       "        text-align: right;\n",
       "    }\n",
       "</style>\n",
       "<table border=\"1\" class=\"dataframe\">\n",
       "  <thead>\n",
       "    <tr style=\"text-align: right;\">\n",
       "      <th></th>\n",
       "      <th>Accuracy</th>\n",
       "    </tr>\n",
       "  </thead>\n",
       "  <tbody>\n",
       "    <tr>\n",
       "      <th>LE004</th>\n",
       "      <td>39.191291</td>\n",
       "    </tr>\n",
       "    <tr>\n",
       "      <th>LE010</th>\n",
       "      <td>77.718121</td>\n",
       "    </tr>\n",
       "    <tr>\n",
       "      <th>LE011</th>\n",
       "      <td>73.091850</td>\n",
       "    </tr>\n",
       "    <tr>\n",
       "      <th>LE014</th>\n",
       "      <td>78.488372</td>\n",
       "    </tr>\n",
       "    <tr>\n",
       "      <th>LE019</th>\n",
       "      <td>72.334294</td>\n",
       "    </tr>\n",
       "    <tr>\n",
       "      <th>LE020</th>\n",
       "      <td>77.363897</td>\n",
       "    </tr>\n",
       "    <tr>\n",
       "      <th>LE021</th>\n",
       "      <td>77.361319</td>\n",
       "    </tr>\n",
       "    <tr>\n",
       "      <th>LE023</th>\n",
       "      <td>59.615385</td>\n",
       "    </tr>\n",
       "  </tbody>\n",
       "</table>\n",
       "</div>"
      ],
      "text/plain": [
       "        Accuracy\n",
       "LE004  39.191291\n",
       "LE010  77.718121\n",
       "LE011  73.091850\n",
       "LE014  78.488372\n",
       "LE019  72.334294\n",
       "LE020  77.363897\n",
       "LE021  77.361319\n",
       "LE023  59.615385"
      ]
     },
     "execution_count": 13,
     "metadata": {},
     "output_type": "execute_result"
    }
   ],
   "source": [
    "df_acc.iloc[:,:8].transpose()"
   ]
  },
  {
   "cell_type": "code",
   "execution_count": 14,
   "id": "1ae6c327",
   "metadata": {},
   "outputs": [
    {
     "data": {
      "text/plain": [
       "<AxesSubplot:xlabel='Accuracy', ylabel='Density'>"
      ]
     },
     "execution_count": 14,
     "metadata": {},
     "output_type": "execute_result"
    },
    {
     "data": {
      "image/png": "[encoded data removed]",
      "text/plain": [
       "<Figure size 432x288 with 1 Axes>"
      ]
     },
     "metadata": {
      "needs_background": "light"
     },
     "output_type": "display_data"
    }
   ],
   "source": [
    "import seaborn as sns\n",
    "sns.kdeplot(df_acc.iloc[:,:8].transpose()['Accuracy'])"
   ]
  },
  {
   "cell_type": "code",
   "execution_count": null,
   "id": "6b527240",
   "metadata": {},
   "outputs": [],
   "source": []
  },
  {
   "cell_type": "markdown",
   "id": "562ddefc",
   "metadata": {},
   "source": [
    "# VD dataset"
   ]
  },
  {
   "cell_type": "code",
   "execution_count": 1,
   "id": "351447df",
   "metadata": {},
   "outputs": [],
   "source": [
    "import os\n",
    "import yasa\n",
    "import pandas as pd\n",
    "import get_acc_matrix"
   ]
  },
  {
   "cell_type": "code",
   "execution_count": 2,
   "id": "b35743c7",
   "metadata": {},
   "outputs": [
    {
     "name": "stdout",
     "output_type": "stream",
     "text": [
      "[Ground-truth]\n",
      "   -- path of ground_truth: D:\\USC\\code_mine\\Model_validation\\YASA\\hypnograms\\ground_truth\n",
      "   -- csv files: ['VD001.csv', 'VD002.csv', 'VD003.csv', 'VD004.csv', 'VD005.csv', 'VD006.csv', 'VD008.csv', 'VD011.csv', 'VD012.csv', 'VD017.csv', 'VD019.csv', 'VD022.csv', 'VD023.csv', 'VD025.csv', 'VD028.csv', 'VD029.csv', 'VD030.csv', 'VD031.csv', 'VD033.csv', 'VD034.csv', 'VD039.csv', 'VD041.csv', 'VD042.csv', 'VD043.csv', 'VD044.csv', 'VD045.csv', 'VD046.csv', 'VD047.csv', 'VD049.csv', 'VD050.csv', 'VD051.csv', 'VD052.csv', 'VD053.csv', 'VD054.csv', 'VD055.csv', 'VD056.csv', 'VD057.csv', 'VD058.csv']\n",
      "\n",
      "[Predicted]\n",
      "   -- path of predicted: D:\\USC\\code_mine\\Model_validation\\YASA\\hypnograms\\pred_filt_reref\n",
      "   -- folders for the each subject: ['VD001', 'VD002', 'VD003', 'VD004', 'VD005', 'VD006', 'VD008', 'VD011', 'VD012', 'VD017', 'VD019', 'VD022', 'VD023', 'VD025', 'VD028', 'VD029', 'VD030', 'VD031', 'VD033', 'VD034', 'VD039', 'VD041', 'VD042', 'VD043', 'VD044', 'VD045', 'VD046', 'VD047', 'VD049', 'VD050', 'VD051', 'VD052', 'VD053', 'VD054', 'VD055', 'VD056', 'VD057', 'VD058']\n"
     ]
    }
   ],
   "source": [
    "path_subejcts_g_hpyno = 'D:\\\\USC\\\\code_mine\\\\Model_validation\\\\YASA\\\\hypnograms\\\\ground_truth' \n",
    "subjects_g_hypno = os.listdir(path_subejcts_g_hpyno)\n",
    "subjects_g_hypno.sort()\n",
    "subjects_g_hypno = subjects_g_hypno[15:]\n",
    "print(\"[Ground-truth]\")\n",
    "print(\"   -- path of ground_truth: {}\".format(path_subejcts_g_hpyno))\n",
    "print(\"   -- csv files: {}\".format(subjects_g_hypno))\n",
    "\n",
    "path_subejcts_p_hpyno = 'D:\\\\USC\\\\code_mine\\\\Model_validation\\\\YASA\\\\hypnograms\\\\pred_filt_reref' \n",
    "subjects_p_hypno = os.listdir(path_subejcts_p_hpyno)\n",
    "subjects_p_hypno.sort()\n",
    "subjects_p_hypno = subjects_p_hypno[15:]\n",
    "print(\"\\n[Predicted]\")\n",
    "print(\"   -- path of predicted: {}\".format(path_subejcts_p_hpyno))\n",
    "print(\"   -- folders for the each subject: {}\".format(subjects_p_hypno))"
   ]
  },
  {
   "cell_type": "code",
   "execution_count": 3,
   "id": "4ea249db",
   "metadata": {},
   "outputs": [
    {
     "name": "stdout",
     "output_type": "stream",
     "text": [
      "========================================\n",
      "-- now ground_truth:\n",
      "   D:\\USC\\code_mine\\Model_validation\\YASA\\hypnograms\\ground_truth\\VD001.csv\n",
      "\n",
      "-- pridicted hypnograms: VD001 --> ['pred_hypno_C4.csv']\n",
      "========================================\n",
      "-- now ground_truth:\n",
      "   D:\\USC\\code_mine\\Model_validation\\YASA\\hypnograms\\ground_truth\\VD002.csv\n",
      "\n",
      "-- pridicted hypnograms: VD002 --> ['pred_hypno_C4.csv']\n",
      "========================================\n",
      "-- now ground_truth:\n",
      "   D:\\USC\\code_mine\\Model_validation\\YASA\\hypnograms\\ground_truth\\VD003.csv\n",
      "\n",
      "-- pridicted hypnograms: VD003 --> ['pred_hypno_C4.csv']\n",
      "========================================\n",
      "-- now ground_truth:\n",
      "   D:\\USC\\code_mine\\Model_validation\\YASA\\hypnograms\\ground_truth\\VD004.csv\n",
      "\n",
      "-- pridicted hypnograms: VD004 --> ['pred_hypno_C4.csv']\n",
      "========================================\n",
      "-- now ground_truth:\n",
      "   D:\\USC\\code_mine\\Model_validation\\YASA\\hypnograms\\ground_truth\\VD005.csv\n",
      "\n",
      "-- pridicted hypnograms: VD005 --> ['pred_hypno_C4.csv']\n",
      "========================================\n",
      "-- now ground_truth:\n",
      "   D:\\USC\\code_mine\\Model_validation\\YASA\\hypnograms\\ground_truth\\VD006.csv\n",
      "\n",
      "-- pridicted hypnograms: VD006 --> ['pred_hypno_C4.csv']\n",
      "========================================\n",
      "-- now ground_truth:\n",
      "   D:\\USC\\code_mine\\Model_validation\\YASA\\hypnograms\\ground_truth\\VD008.csv\n",
      "\n",
      "-- pridicted hypnograms: VD008 --> ['pred_hypno_C4.csv']\n",
      "========================================\n",
      "-- now ground_truth:\n",
      "   D:\\USC\\code_mine\\Model_validation\\YASA\\hypnograms\\ground_truth\\VD011.csv\n",
      "\n",
      "-- pridicted hypnograms: VD011 --> ['pred_hypno_C4.csv']\n",
      "========================================\n",
      "-- now ground_truth:\n",
      "   D:\\USC\\code_mine\\Model_validation\\YASA\\hypnograms\\ground_truth\\VD012.csv\n",
      "\n",
      "-- pridicted hypnograms: VD012 --> ['pred_hypno_C4.csv']\n",
      "========================================\n",
      "-- now ground_truth:\n",
      "   D:\\USC\\code_mine\\Model_validation\\YASA\\hypnograms\\ground_truth\\VD017.csv\n",
      "\n",
      "-- pridicted hypnograms: VD017 --> ['pred_hypno_C4.csv']\n",
      "========================================\n",
      "-- now ground_truth:\n",
      "   D:\\USC\\code_mine\\Model_validation\\YASA\\hypnograms\\ground_truth\\VD019.csv\n",
      "\n",
      "-- pridicted hypnograms: VD019 --> ['pred_hypno_C4.csv']\n",
      "========================================\n",
      "-- now ground_truth:\n",
      "   D:\\USC\\code_mine\\Model_validation\\YASA\\hypnograms\\ground_truth\\VD022.csv\n",
      "\n",
      "-- pridicted hypnograms: VD022 --> ['pred_hypno_C4.csv']\n",
      "========================================\n",
      "-- now ground_truth:\n",
      "   D:\\USC\\code_mine\\Model_validation\\YASA\\hypnograms\\ground_truth\\VD023.csv\n",
      "\n",
      "-- pridicted hypnograms: VD023 --> ['pred_hypno_C4.csv']\n",
      "========================================\n",
      "-- now ground_truth:\n",
      "   D:\\USC\\code_mine\\Model_validation\\YASA\\hypnograms\\ground_truth\\VD025.csv\n",
      "\n",
      "-- pridicted hypnograms: VD025 --> ['pred_hypno_C4.csv']\n",
      "========================================\n",
      "-- now ground_truth:\n",
      "   D:\\USC\\code_mine\\Model_validation\\YASA\\hypnograms\\ground_truth\\VD028.csv\n",
      "\n",
      "-- pridicted hypnograms: VD028 --> ['pred_hypno_C4.csv']\n",
      "========================================\n",
      "-- now ground_truth:\n",
      "   D:\\USC\\code_mine\\Model_validation\\YASA\\hypnograms\\ground_truth\\VD029.csv\n",
      "\n",
      "-- pridicted hypnograms: VD029 --> ['pred_hypno_C4.csv']\n",
      "========================================\n",
      "-- now ground_truth:\n",
      "   D:\\USC\\code_mine\\Model_validation\\YASA\\hypnograms\\ground_truth\\VD030.csv\n",
      "\n",
      "-- pridicted hypnograms: VD030 --> ['pred_hypno_C4.csv']\n",
      "========================================\n",
      "-- now ground_truth:\n",
      "   D:\\USC\\code_mine\\Model_validation\\YASA\\hypnograms\\ground_truth\\VD031.csv\n",
      "\n",
      "-- pridicted hypnograms: VD031 --> ['pred_hypno_C4.csv']\n",
      "========================================\n",
      "-- now ground_truth:\n",
      "   D:\\USC\\code_mine\\Model_validation\\YASA\\hypnograms\\ground_truth\\VD033.csv\n",
      "\n",
      "-- pridicted hypnograms: VD033 --> ['pred_hypno_C4.csv']\n",
      "========================================\n",
      "-- now ground_truth:\n",
      "   D:\\USC\\code_mine\\Model_validation\\YASA\\hypnograms\\ground_truth\\VD034.csv\n",
      "\n",
      "-- pridicted hypnograms: VD034 --> ['pred_hypno_C4.csv']\n",
      "========================================\n",
      "-- now ground_truth:\n",
      "   D:\\USC\\code_mine\\Model_validation\\YASA\\hypnograms\\ground_truth\\VD039.csv\n",
      "\n",
      "-- pridicted hypnograms: VD039 --> ['pred_hypno_C4.csv']\n",
      "========================================\n",
      "-- now ground_truth:\n",
      "   D:\\USC\\code_mine\\Model_validation\\YASA\\hypnograms\\ground_truth\\VD041.csv\n",
      "\n",
      "-- pridicted hypnograms: VD041 --> ['pred_hypno_C4.csv']\n",
      "========================================\n",
      "-- now ground_truth:\n",
      "   D:\\USC\\code_mine\\Model_validation\\YASA\\hypnograms\\ground_truth\\VD042.csv\n",
      "\n",
      "-- pridicted hypnograms: VD042 --> ['pred_hypno_C4.csv']\n",
      "========================================\n",
      "-- now ground_truth:\n",
      "   D:\\USC\\code_mine\\Model_validation\\YASA\\hypnograms\\ground_truth\\VD043.csv\n",
      "\n",
      "-- pridicted hypnograms: VD043 --> ['pred_hypno_C4.csv']\n",
      "========================================\n",
      "-- now ground_truth:\n",
      "   D:\\USC\\code_mine\\Model_validation\\YASA\\hypnograms\\ground_truth\\VD044.csv\n",
      "\n",
      "-- pridicted hypnograms: VD044 --> ['pred_hypno_C4.csv']\n",
      "========================================\n",
      "-- now ground_truth:\n",
      "   D:\\USC\\code_mine\\Model_validation\\YASA\\hypnograms\\ground_truth\\VD045.csv\n",
      "\n",
      "-- pridicted hypnograms: VD045 --> ['pred_hypno_C4.csv']\n",
      "========================================\n",
      "-- now ground_truth:\n",
      "   D:\\USC\\code_mine\\Model_validation\\YASA\\hypnograms\\ground_truth\\VD046.csv\n",
      "\n",
      "-- pridicted hypnograms: VD046 --> ['pred_hypno_C4.csv']\n",
      "========================================\n",
      "-- now ground_truth:\n",
      "   D:\\USC\\code_mine\\Model_validation\\YASA\\hypnograms\\ground_truth\\VD047.csv\n",
      "\n",
      "-- pridicted hypnograms: VD047 --> ['pred_hypno_C4.csv']\n",
      "========================================\n",
      "-- now ground_truth:\n",
      "   D:\\USC\\code_mine\\Model_validation\\YASA\\hypnograms\\ground_truth\\VD049.csv\n",
      "\n",
      "-- pridicted hypnograms: VD049 --> ['pred_hypno_C4.csv']\n",
      "========================================\n",
      "-- now ground_truth:\n",
      "   D:\\USC\\code_mine\\Model_validation\\YASA\\hypnograms\\ground_truth\\VD050.csv\n",
      "\n",
      "-- pridicted hypnograms: VD050 --> ['pred_hypno_C4.csv']\n",
      "========================================\n",
      "-- now ground_truth:\n",
      "   D:\\USC\\code_mine\\Model_validation\\YASA\\hypnograms\\ground_truth\\VD051.csv\n",
      "\n",
      "-- pridicted hypnograms: VD051 --> ['pred_hypno_C4.csv']\n",
      "========================================\n",
      "-- now ground_truth:\n",
      "   D:\\USC\\code_mine\\Model_validation\\YASA\\hypnograms\\ground_truth\\VD052.csv\n",
      "\n",
      "-- pridicted hypnograms: VD052 --> ['pred_hypno_C4.csv']\n",
      "========================================\n",
      "-- now ground_truth:\n",
      "   D:\\USC\\code_mine\\Model_validation\\YASA\\hypnograms\\ground_truth\\VD053.csv\n",
      "\n",
      "-- pridicted hypnograms: VD053 --> ['pred_hypno_C4.csv']\n",
      "========================================\n",
      "-- now ground_truth:\n",
      "   D:\\USC\\code_mine\\Model_validation\\YASA\\hypnograms\\ground_truth\\VD054.csv\n",
      "\n",
      "-- pridicted hypnograms: VD054 --> ['pred_hypno_C4.csv']\n",
      "========================================\n",
      "-- now ground_truth:\n",
      "   D:\\USC\\code_mine\\Model_validation\\YASA\\hypnograms\\ground_truth\\VD055.csv\n",
      "\n",
      "-- pridicted hypnograms: VD055 --> ['pred_hypno_C4.csv']\n",
      "========================================\n",
      "-- now ground_truth:\n",
      "   D:\\USC\\code_mine\\Model_validation\\YASA\\hypnograms\\ground_truth\\VD056.csv\n",
      "\n",
      "-- pridicted hypnograms: VD056 --> ['pred_hypno_C4.csv']\n",
      "========================================\n",
      "-- now ground_truth:\n",
      "   D:\\USC\\code_mine\\Model_validation\\YASA\\hypnograms\\ground_truth\\VD057.csv\n",
      "\n",
      "-- pridicted hypnograms: VD057 --> ['pred_hypno_C4.csv']\n",
      "========================================\n",
      "-- now ground_truth:\n",
      "   D:\\USC\\code_mine\\Model_validation\\YASA\\hypnograms\\ground_truth\\VD058.csv\n",
      "\n",
      "-- pridicted hypnograms: VD058 --> ['pred_hypno_C4.csv']\n"
     ]
    }
   ],
   "source": [
    "dic_acc_total = {} # subect 별로 chan_comb에 따른 overall accuracy가 저장됨\n",
    "dic_matrix_total = {} # subject 별로 6개의 matrix가 저장됨\n",
    "key_total = [] # subject name이 key로써 저장됨\n",
    "sub_num = 0\n",
    "\n",
    "for subject in subjects_p_hypno:\n",
    "    print('========================================')\n",
    "    path_g_hypno = os.path.join(path_subejcts_g_hpyno, subjects_g_hypno[sub_num])\n",
    "    print(f\"-- now ground_truth:\\n   {path_g_hypno}\")\n",
    "    g_hypno = pd.read_csv(path_g_hypno).squeeze()\n",
    "\n",
    "    csv_p_hypnos = os.listdir(os.path.join(path_subejcts_p_hpyno, subjects_p_hypno[sub_num], 'pred_hypno'))\n",
    "    print(f\"\\n-- pridicted hypnograms: {subject} --> {csv_p_hypnos}\")\n",
    "\n",
    "    dic_acc_sub = {} # 한 명의 subject 내에서, 채널 조합 별 acc를 저장하는 dictionary\n",
    "    dic_matrix_sub = {} # 한 명의 subject 내에서, 채널 조합 별 matrix를 저장하는 dictionary\n",
    "\n",
    "    path_p_hypno = os.path.join(path_subejcts_p_hpyno, subject, 'pred_hypno', 'pred_hypno_C4.csv')\n",
    "#         print(path_p_hypno)\n",
    "    p_hypno = pd.read_csv(path_p_hypno).squeeze()\n",
    "\n",
    "    # overall accuracy\n",
    "    accuracy = (g_hypno == p_hypno).sum() / p_hypno.size * 100 # 현재 channel combination에 대한 overall accuracy 계산\n",
    "#     dic_acc_sub[] = accuracy # dictionary에 추가  \n",
    "\n",
    "#     # accuracy matrix\n",
    "    matrix = get_acc_matrix.get_acc_matrix(g_hypno, p_hypno)\n",
    "#     dic_matrix_sub[dic_acc_sub_key[ch_comb_num]] = matrix \n",
    " \n",
    "\n",
    "    key_total.append(subject)\n",
    "    dic_acc_total[key_total[sub_num]] = accuracy\n",
    "    dic_matrix_total[key_total[sub_num]] = matrix\n",
    "    sub_num += 1"
   ]
  },
  {
   "cell_type": "code",
   "execution_count": 4,
   "id": "df9a08d2",
   "metadata": {},
   "outputs": [
    {
     "data": {
      "text/html": [
       "<div>\n",
       "<style scoped>\n",
       "    .dataframe tbody tr th:only-of-type {\n",
       "        vertical-align: middle;\n",
       "    }\n",
       "\n",
       "    .dataframe tbody tr th {\n",
       "        vertical-align: top;\n",
       "    }\n",
       "\n",
       "    .dataframe thead th {\n",
       "        text-align: right;\n",
       "    }\n",
       "</style>\n",
       "<table border=\"1\" class=\"dataframe\">\n",
       "  <thead>\n",
       "    <tr style=\"text-align: right;\">\n",
       "      <th></th>\n",
       "      <th>count</th>\n",
       "      <th>mean</th>\n",
       "      <th>std</th>\n",
       "      <th>min</th>\n",
       "      <th>25%</th>\n",
       "      <th>50%</th>\n",
       "      <th>75%</th>\n",
       "      <th>max</th>\n",
       "    </tr>\n",
       "  </thead>\n",
       "  <tbody>\n",
       "    <tr>\n",
       "      <th>Accuracy</th>\n",
       "      <td>38.0</td>\n",
       "      <td>66.116906</td>\n",
       "      <td>9.147912</td>\n",
       "      <td>42.522757</td>\n",
       "      <td>61.859724</td>\n",
       "      <td>65.885718</td>\n",
       "      <td>71.594416</td>\n",
       "      <td>84.237074</td>\n",
       "    </tr>\n",
       "  </tbody>\n",
       "</table>\n",
       "</div>"
      ],
      "text/plain": [
       "          count       mean       std        min        25%        50%  \\\n",
       "Accuracy   38.0  66.116906  9.147912  42.522757  61.859724  65.885718   \n",
       "\n",
       "                75%        max  \n",
       "Accuracy  71.594416  84.237074  "
      ]
     },
     "execution_count": 4,
     "metadata": {},
     "output_type": "execute_result"
    }
   ],
   "source": [
    "df_acc = pd.DataFrame(dic_acc_total, index=['Accuracy'])\n",
    "df_acc['mean'] = df_acc.mean(axis=1)\n",
    "df_acc.loc[:,'VD001':'VD058'].transpose().describe().transpose()"
   ]
  },
  {
   "cell_type": "code",
   "execution_count": 7,
   "id": "c5c1bdd0",
   "metadata": {
    "scrolled": true
   },
   "outputs": [
    {
     "data": {
      "text/plain": [
       "([<matplotlib.axis.XTick at 0x1b6867e10a0>,\n",
       "  <matplotlib.axis.XTick at 0x1b6867e1070>,\n",
       "  <matplotlib.axis.XTick at 0x1b6867d7760>,\n",
       "  <matplotlib.axis.XTick at 0x1b686b41040>,\n",
       "  <matplotlib.axis.XTick at 0x1b686b41670>,\n",
       "  <matplotlib.axis.XTick at 0x1b6ffd6d0a0>,\n",
       "  <matplotlib.axis.XTick at 0x1b686b41400>,\n",
       "  <matplotlib.axis.XTick at 0x1b686b483a0>,\n",
       "  <matplotlib.axis.XTick at 0x1b686b48af0>,\n",
       "  <matplotlib.axis.XTick at 0x1b686b4e280>,\n",
       "  <matplotlib.axis.XTick at 0x1b686b4e9d0>,\n",
       "  <matplotlib.axis.XTick at 0x1b686b53160>,\n",
       "  <matplotlib.axis.XTick at 0x1b686b4e610>,\n",
       "  <matplotlib.axis.XTick at 0x1b686b41fa0>,\n",
       "  <matplotlib.axis.XTick at 0x1b686b53550>,\n",
       "  <matplotlib.axis.XTick at 0x1b686b53ca0>,\n",
       "  <matplotlib.axis.XTick at 0x1b686b5c430>,\n",
       "  <matplotlib.axis.XTick at 0x1b686b5cb80>,\n",
       "  <matplotlib.axis.XTick at 0x1b686b5ce50>,\n",
       "  <matplotlib.axis.XTick at 0x1b686b53d60>,\n",
       "  <matplotlib.axis.XTick at 0x1b686b4e520>,\n",
       "  <matplotlib.axis.XTick at 0x1b686b62820>,\n",
       "  <matplotlib.axis.XTick at 0x1b686b6a040>,\n",
       "  <matplotlib.axis.XTick at 0x1b686b6a700>,\n",
       "  <matplotlib.axis.XTick at 0x1b686b6ae50>,\n",
       "  <matplotlib.axis.XTick at 0x1b686b6a9d0>,\n",
       "  <matplotlib.axis.XTick at 0x1b686b628e0>,\n",
       "  <matplotlib.axis.XTick at 0x1b686b6f490>,\n",
       "  <matplotlib.axis.XTick at 0x1b686b6faf0>,\n",
       "  <matplotlib.axis.XTick at 0x1b686b792b0>,\n",
       "  <matplotlib.axis.XTick at 0x1b686b79a00>,\n",
       "  <matplotlib.axis.XTick at 0x1b686b7d190>,\n",
       "  <matplotlib.axis.XTick at 0x1b686b79a30>,\n",
       "  <matplotlib.axis.XTick at 0x1b686b6f640>,\n",
       "  <matplotlib.axis.XTick at 0x1b686b7d160>,\n",
       "  <matplotlib.axis.XTick at 0x1b686b7dd60>,\n",
       "  <matplotlib.axis.XTick at 0x1b686b86490>,\n",
       "  <matplotlib.axis.XTick at 0x1b686b86be0>],\n",
       " [Text(0, 0, 'VD001'),\n",
       "  Text(1, 0, 'VD002'),\n",
       "  Text(2, 0, 'VD003'),\n",
       "  Text(3, 0, 'VD004'),\n",
       "  Text(4, 0, 'VD005'),\n",
       "  Text(5, 0, 'VD006'),\n",
       "  Text(6, 0, 'VD008'),\n",
       "  Text(7, 0, 'VD011'),\n",
       "  Text(8, 0, 'VD012'),\n",
       "  Text(9, 0, 'VD017'),\n",
       "  Text(10, 0, 'VD019'),\n",
       "  Text(11, 0, 'VD022'),\n",
       "  Text(12, 0, 'VD023'),\n",
       "  Text(13, 0, 'VD025'),\n",
       "  Text(14, 0, 'VD028'),\n",
       "  Text(15, 0, 'VD029'),\n",
       "  Text(16, 0, 'VD030'),\n",
       "  Text(17, 0, 'VD031'),\n",
       "  Text(18, 0, 'VD033'),\n",
       "  Text(19, 0, 'VD034'),\n",
       "  Text(20, 0, 'VD039'),\n",
       "  Text(21, 0, 'VD041'),\n",
       "  Text(22, 0, 'VD042'),\n",
       "  Text(23, 0, 'VD043'),\n",
       "  Text(24, 0, 'VD044'),\n",
       "  Text(25, 0, 'VD045'),\n",
       "  Text(26, 0, 'VD046'),\n",
       "  Text(27, 0, 'VD047'),\n",
       "  Text(28, 0, 'VD049'),\n",
       "  Text(29, 0, 'VD050'),\n",
       "  Text(30, 0, 'VD051'),\n",
       "  Text(31, 0, 'VD052'),\n",
       "  Text(32, 0, 'VD053'),\n",
       "  Text(33, 0, 'VD054'),\n",
       "  Text(34, 0, 'VD055'),\n",
       "  Text(35, 0, 'VD056'),\n",
       "  Text(36, 0, 'VD057'),\n",
       "  Text(37, 0, 'VD058')])"
      ]
     },
     "execution_count": 7,
     "metadata": {},
     "output_type": "execute_result"
    },
    {
     "data": {
      "image/png": "[encoded data removed]",
      "text/plain": [
       "<Figure size 432x288 with 1 Axes>"
      ]
     },
     "metadata": {
      "needs_background": "light"
     },
     "output_type": "display_data"
    }
   ],
   "source": [
    "import matplotlib.pyplot as plt\n",
    "plt.scatter(range(38), df_acc.loc['Accuracy', :])\n",
    "plt.plot(range(38), df_acc.loc['Accuracy', :])\n",
    "\n",
    "plt.xticks(range(38),df_acc.columns)"
   ]
  },
  {
   "cell_type": "code",
   "execution_count": 9,
   "id": "386bb6f7",
   "metadata": {},
   "outputs": [
    {
     "data": {
      "text/plain": [
       "<AxesSubplot:xlabel='Accuracy', ylabel='Density'>"
      ]
     },
     "execution_count": 9,
     "metadata": {},
     "output_type": "execute_result"
    },
    {
     "data": {
      "image/png": "[encoded data removed]",
      "text/plain": [
       "<Figure size 432x288 with 1 Axes>"
      ]
     },
     "metadata": {
      "needs_background": "light"
     },
     "output_type": "display_data"
    }
   ],
   "source": [
    "import seaborn as sns\n",
    "sns.kdeplot(df_acc.transpose().loc['VD001':'VD058', 'Accuracy'])"
   ]
  },
  {
   "cell_type": "code",
   "execution_count": null,
   "id": "8a69f7cd",
   "metadata": {},
   "outputs": [],
   "source": [
    "import seaborn as sns\n",
    "sns.kdeplot(df_acc.iloc[:,:8].transpose()['Accuracy'])"
   ]
  },
  {
   "cell_type": "code",
   "execution_count": null,
   "id": "a27096b5",
   "metadata": {},
   "outputs": [],
   "source": []
  },
  {
   "cell_type": "markdown",
   "id": "41729bbd",
   "metadata": {},
   "source": [
    "# PE dataset"
   ]
  },
  {
   "cell_type": "code",
   "execution_count": 3,
   "id": "547ba843",
   "metadata": {},
   "outputs": [],
   "source": [
    "import os\n",
    "import yasa\n",
    "import pandas as pd\n",
    "import get_acc_matrix"
   ]
  },
  {
   "cell_type": "code",
   "execution_count": 4,
   "id": "5456c579",
   "metadata": {},
   "outputs": [
    {
     "name": "stdout",
     "output_type": "stream",
     "text": [
      "[Ground-truth]\n",
      "   -- path of ground_truth: D:\\USC\\code_mine\\Model_validation\\YASA\\hypnograms\\ground_truth\n",
      "   -- csv files: ['PE150386.csv', 'PE180205.csv', 'PE180682.csv', 'PE180955.csv', 'PE181067.csv', 'PE190065.csv', 'PE190925.csv']\n",
      "\n",
      "[Predicted]\n",
      "   -- path of predicted: D:\\USC\\code_mine\\Model_validation\\YASA\\hypnograms\\pred_filt_reref\n",
      "   -- folders for the each subject: ['PE150386', 'PE180205', 'PE180682', 'PE180955', 'PE181067', 'PE190065', 'PE190925']\n"
     ]
    }
   ],
   "source": [
    "path_subejcts_g_hpyno = 'D:\\\\USC\\\\code_mine\\\\Model_validation\\\\YASA\\\\hypnograms\\\\ground_truth' \n",
    "subjects_g_hypno = os.listdir(path_subejcts_g_hpyno)\n",
    "subjects_g_hypno.sort()\n",
    "subjects_g_hypno = subjects_g_hypno[8:15]\n",
    "print(\"[Ground-truth]\")\n",
    "print(\"   -- path of ground_truth: {}\".format(path_subejcts_g_hpyno))\n",
    "print(\"   -- csv files: {}\".format(subjects_g_hypno))\n",
    "\n",
    "path_subejcts_p_hpyno = 'D:\\\\USC\\\\code_mine\\\\Model_validation\\\\YASA\\\\hypnograms\\\\pred_filt_reref' \n",
    "subjects_p_hypno = os.listdir(path_subejcts_p_hpyno)\n",
    "subjects_p_hypno.sort()\n",
    "subjects_p_hypno = subjects_p_hypno[8:15]\n",
    "print(\"\\n[Predicted]\")\n",
    "print(\"   -- path of predicted: {}\".format(path_subejcts_p_hpyno))\n",
    "print(\"   -- folders for the each subject: {}\".format(subjects_p_hypno))"
   ]
  },
  {
   "cell_type": "code",
   "execution_count": 5,
   "id": "4e5aa462",
   "metadata": {
    "scrolled": true
   },
   "outputs": [
    {
     "name": "stdout",
     "output_type": "stream",
     "text": [
      "========================================\n",
      "-- now ground_truth:\n",
      "   D:\\USC\\code_mine\\Model_validation\\YASA\\hypnograms\\ground_truth\\PE150386.csv\n",
      "\n",
      "-- pridicted hypnograms: PE150386 --> ['pred_hypno_C4.csv']\n",
      "========================================\n",
      "-- now ground_truth:\n",
      "   D:\\USC\\code_mine\\Model_validation\\YASA\\hypnograms\\ground_truth\\PE180205.csv\n",
      "\n",
      "-- pridicted hypnograms: PE180205 --> ['pred_hypno_C4.csv']\n",
      "========================================\n",
      "-- now ground_truth:\n",
      "   D:\\USC\\code_mine\\Model_validation\\YASA\\hypnograms\\ground_truth\\PE180682.csv\n",
      "\n",
      "-- pridicted hypnograms: PE180682 --> ['pred_hypno_C4.csv']\n",
      "========================================\n",
      "-- now ground_truth:\n",
      "   D:\\USC\\code_mine\\Model_validation\\YASA\\hypnograms\\ground_truth\\PE180955.csv\n",
      "\n",
      "-- pridicted hypnograms: PE180955 --> ['pred_hypno_C4.csv']\n",
      "========================================\n",
      "-- now ground_truth:\n",
      "   D:\\USC\\code_mine\\Model_validation\\YASA\\hypnograms\\ground_truth\\PE181067.csv\n",
      "\n",
      "-- pridicted hypnograms: PE181067 --> ['pred_hypno_C4.csv']\n",
      "========================================\n",
      "-- now ground_truth:\n",
      "   D:\\USC\\code_mine\\Model_validation\\YASA\\hypnograms\\ground_truth\\PE190065.csv\n",
      "\n",
      "-- pridicted hypnograms: PE190065 --> ['pred_hypno_C4.csv']\n",
      "========================================\n",
      "-- now ground_truth:\n",
      "   D:\\USC\\code_mine\\Model_validation\\YASA\\hypnograms\\ground_truth\\PE190925.csv\n",
      "\n",
      "-- pridicted hypnograms: PE190925 --> ['pred_hypno_C4.csv']\n"
     ]
    }
   ],
   "source": [
    "dic_acc_total = {} # subect 별로 chan_comb에 따른 overall accuracy가 저장됨\n",
    "dic_matrix_total = {} # subject 별로 6개의 matrix가 저장됨\n",
    "key_total = [] # subject name이 key로써 저장됨\n",
    "sub_num = 0\n",
    "\n",
    "for subject in subjects_p_hypno:\n",
    "    print('========================================')\n",
    "    path_g_hypno = os.path.join(path_subejcts_g_hpyno, subjects_g_hypno[sub_num])\n",
    "    print(f\"-- now ground_truth:\\n   {path_g_hypno}\")\n",
    "    g_hypno = pd.read_csv(path_g_hypno).squeeze()\n",
    "\n",
    "    csv_p_hypnos = os.listdir(os.path.join(path_subejcts_p_hpyno, subjects_p_hypno[sub_num], 'pred_hypno'))\n",
    "    print(f\"\\n-- pridicted hypnograms: {subject} --> {csv_p_hypnos}\")\n",
    "\n",
    "    dic_acc_sub = {} # 한 명의 subject 내에서, 채널 조합 별 acc를 저장하는 dictionary\n",
    "    dic_matrix_sub = {} # 한 명의 subject 내에서, 채널 조합 별 matrix를 저장하는 dictionary\n",
    "\n",
    "    path_p_hypno = os.path.join(path_subejcts_p_hpyno, subject, 'pred_hypno', 'pred_hypno_C4.csv')\n",
    "#         print(path_p_hypno)\n",
    "    p_hypno = pd.read_csv(path_p_hypno).squeeze()\n",
    "\n",
    "    # overall accuracy\n",
    "    accuracy = (g_hypno == p_hypno).sum() / p_hypno.size * 100 # 현재 channel combination에 대한 overall accuracy 계산\n",
    "#     dic_acc_sub[] = accuracy # dictionary에 추가  \n",
    "\n",
    "#     # accuracy matrix\n",
    "    matrix = get_acc_matrix.get_acc_matrix(g_hypno, p_hypno)\n",
    "#     dic_matrix_sub[dic_acc_sub_key[ch_comb_num]] = matrix \n",
    " \n",
    "\n",
    "    key_total.append(subject)\n",
    "    dic_acc_total[key_total[sub_num]] = accuracy\n",
    "    dic_matrix_total[key_total[sub_num]] = matrix\n",
    "    sub_num += 1"
   ]
  },
  {
   "cell_type": "code",
   "execution_count": 6,
   "id": "c161c864",
   "metadata": {},
   "outputs": [
    {
     "data": {
      "text/html": [
       "<div>\n",
       "<style scoped>\n",
       "    .dataframe tbody tr th:only-of-type {\n",
       "        vertical-align: middle;\n",
       "    }\n",
       "\n",
       "    .dataframe tbody tr th {\n",
       "        vertical-align: top;\n",
       "    }\n",
       "\n",
       "    .dataframe thead th {\n",
       "        text-align: right;\n",
       "    }\n",
       "</style>\n",
       "<table border=\"1\" class=\"dataframe\">\n",
       "  <thead>\n",
       "    <tr style=\"text-align: right;\">\n",
       "      <th></th>\n",
       "      <th>PE150386</th>\n",
       "      <th>PE180205</th>\n",
       "      <th>PE180682</th>\n",
       "      <th>PE180955</th>\n",
       "      <th>PE181067</th>\n",
       "      <th>PE190065</th>\n",
       "      <th>PE190925</th>\n",
       "    </tr>\n",
       "  </thead>\n",
       "  <tbody>\n",
       "    <tr>\n",
       "      <th>Accuracy</th>\n",
       "      <td>60.268456</td>\n",
       "      <td>59.041394</td>\n",
       "      <td>75.29976</td>\n",
       "      <td>60.377358</td>\n",
       "      <td>58.36478</td>\n",
       "      <td>87.394167</td>\n",
       "      <td>61.590038</td>\n",
       "    </tr>\n",
       "  </tbody>\n",
       "</table>\n",
       "</div>"
      ],
      "text/plain": [
       "           PE150386   PE180205  PE180682   PE180955  PE181067   PE190065  \\\n",
       "Accuracy  60.268456  59.041394  75.29976  60.377358  58.36478  87.394167   \n",
       "\n",
       "           PE190925  \n",
       "Accuracy  61.590038  "
      ]
     },
     "execution_count": 6,
     "metadata": {},
     "output_type": "execute_result"
    }
   ],
   "source": [
    "df_acc = pd.DataFrame(dic_acc_total, index=['Accuracy'])\n",
    "df_acc"
   ]
  },
  {
   "cell_type": "code",
   "execution_count": 7,
   "id": "35af1c0d",
   "metadata": {
    "scrolled": true
   },
   "outputs": [
    {
     "name": "stderr",
     "output_type": "stream",
     "text": [
      "C:\\Users\\CYS\\AppData\\Local\\Temp\\ipykernel_19832\\2217376526.py:8: SettingWithCopyWarning: \n",
      "A value is trying to be set on a copy of a slice from a DataFrame.\n",
      "Try using .loc[row_indexer,col_indexer] = value instead\n",
      "\n",
      "See the caveats in the documentation: https://pandas.pydata.org/pandas-docs/stable/user_guide/indexing.html#returning-a-view-versus-a-copy\n",
      "  df_acc.loc[:,'mean'] = df_acc.loc[:, :].mean(axis=1) # mean column 추가\n",
      "C:\\Users\\CYS\\AppData\\Local\\Temp\\ipykernel_19832\\2217376526.py:9: SettingWithCopyWarning: \n",
      "A value is trying to be set on a copy of a slice from a DataFrame\n",
      "\n",
      "See the caveats in the documentation: https://pandas.pydata.org/pandas-docs/stable/user_guide/indexing.html#returning-a-view-versus-a-copy\n",
      "  df_acc.loc['type',:] = disorder_types\n"
     ]
    },
    {
     "data": {
      "text/html": [
       "<div>\n",
       "<style scoped>\n",
       "    .dataframe tbody tr th:only-of-type {\n",
       "        vertical-align: middle;\n",
       "    }\n",
       "\n",
       "    .dataframe tbody tr th {\n",
       "        vertical-align: top;\n",
       "    }\n",
       "\n",
       "    .dataframe thead th {\n",
       "        text-align: right;\n",
       "    }\n",
       "</style>\n",
       "<table border=\"1\" class=\"dataframe\">\n",
       "  <thead>\n",
       "    <tr style=\"text-align: right;\">\n",
       "      <th></th>\n",
       "      <th>PE190065</th>\n",
       "      <th>PE190925</th>\n",
       "      <th>PE181067</th>\n",
       "      <th>PE150386</th>\n",
       "      <th>PE180205</th>\n",
       "      <th>PE180682</th>\n",
       "      <th>PE180955</th>\n",
       "      <th>mean</th>\n",
       "    </tr>\n",
       "  </thead>\n",
       "  <tbody>\n",
       "    <tr>\n",
       "      <th>Accuracy</th>\n",
       "      <td>87.394167</td>\n",
       "      <td>61.590038</td>\n",
       "      <td>58.36478</td>\n",
       "      <td>60.268456</td>\n",
       "      <td>59.041394</td>\n",
       "      <td>75.29976</td>\n",
       "      <td>60.377358</td>\n",
       "      <td>66.047994</td>\n",
       "    </tr>\n",
       "    <tr>\n",
       "      <th>type</th>\n",
       "      <td>normal</td>\n",
       "      <td>OSA_1</td>\n",
       "      <td>OSA_2</td>\n",
       "      <td>Insomnia_1</td>\n",
       "      <td>Insomnia_2</td>\n",
       "      <td>COMISA_1</td>\n",
       "      <td>COMISA_2</td>\n",
       "      <td>-</td>\n",
       "    </tr>\n",
       "  </tbody>\n",
       "</table>\n",
       "</div>"
      ],
      "text/plain": [
       "           PE190065   PE190925  PE181067    PE150386    PE180205  PE180682  \\\n",
       "Accuracy  87.394167  61.590038  58.36478   60.268456   59.041394  75.29976   \n",
       "type         normal      OSA_1     OSA_2  Insomnia_1  Insomnia_2  COMISA_1   \n",
       "\n",
       "           PE180955       mean  \n",
       "Accuracy  60.377358  66.047994  \n",
       "type       COMISA_2          -  "
      ]
     },
     "execution_count": 7,
     "metadata": {},
     "output_type": "execute_result"
    }
   ],
   "source": [
    "subject_num_by_disorder = ['PE190065', 'PE190925', 'PE181067', 'PE150386', 'PE180205', 'PE180682', 'PE180955']\n",
    "disorder_types = ['normal', 'OSA_1', 'OSA_2', 'Insomnia_1', 'Insomnia_2', 'COMISA_1', 'COMISA_2', '-']\n",
    "# new_index = key_total\n",
    "# new_index.insert(0, 'type')\n",
    "# new_index\n",
    "\n",
    "df_acc = df_acc[subject_num_by_disorder] # column 재배치\n",
    "df_acc.loc[:,'mean'] = df_acc.loc[:, :].mean(axis=1) # mean column 추가\n",
    "df_acc.loc['type',:] = disorder_types\n",
    "\n",
    "df_acc"
   ]
  },
  {
   "cell_type": "code",
   "execution_count": null,
   "id": "9eb0379d",
   "metadata": {},
   "outputs": [],
   "source": [
    "OSA_1 19 37.1 234\n",
    "OSA_2 69 53.7 293"
   ]
  },
  {
   "cell_type": "code",
   "execution_count": null,
   "id": "dc616652",
   "metadata": {},
   "outputs": [],
   "source": [
    "        arousal_index     ISI   Sex\n",
    "INS_1   15.2              21    M \n",
    "INS_2   36.4              19    M "
   ]
  },
  {
   "cell_type": "code",
   "execution_count": null,
   "id": "a256f8de",
   "metadata": {},
   "outputs": [],
   "source": [
    "          AHI   arousal_index  ISI  Age   Sex\n",
    "comisa_1  38.5  21.9           25   27.1  M\n",
    "comisa_2  38.7  38.7           21   61.6  M"
   ]
  },
  {
   "cell_type": "code",
   "execution_count": 8,
   "id": "beddfaa8",
   "metadata": {
    "scrolled": true
   },
   "outputs": [
    {
     "data": {
      "text/html": [
       "<div>\n",
       "<style scoped>\n",
       "    .dataframe tbody tr th:only-of-type {\n",
       "        vertical-align: middle;\n",
       "    }\n",
       "\n",
       "    .dataframe tbody tr th {\n",
       "        vertical-align: top;\n",
       "    }\n",
       "\n",
       "    .dataframe thead th {\n",
       "        text-align: right;\n",
       "    }\n",
       "</style>\n",
       "<table border=\"1\" class=\"dataframe\">\n",
       "  <thead>\n",
       "    <tr style=\"text-align: right;\">\n",
       "      <th></th>\n",
       "      <th>PE190065</th>\n",
       "      <th>PE190925</th>\n",
       "      <th>PE181067</th>\n",
       "      <th>PE150386</th>\n",
       "      <th>PE180205</th>\n",
       "      <th>PE180682</th>\n",
       "      <th>PE180955</th>\n",
       "      <th>mean</th>\n",
       "    </tr>\n",
       "  </thead>\n",
       "  <tbody>\n",
       "    <tr>\n",
       "      <th>type</th>\n",
       "      <td>normal</td>\n",
       "      <td>OSA_1</td>\n",
       "      <td>OSA_2</td>\n",
       "      <td>Insomnia_1</td>\n",
       "      <td>Insomnia_2</td>\n",
       "      <td>COMISA_1</td>\n",
       "      <td>COMISA_2</td>\n",
       "      <td>-</td>\n",
       "    </tr>\n",
       "    <tr>\n",
       "      <th>Accuracy</th>\n",
       "      <td>87.394167</td>\n",
       "      <td>61.590038</td>\n",
       "      <td>58.36478</td>\n",
       "      <td>60.268456</td>\n",
       "      <td>59.041394</td>\n",
       "      <td>75.29976</td>\n",
       "      <td>60.377358</td>\n",
       "      <td>66.047994</td>\n",
       "    </tr>\n",
       "  </tbody>\n",
       "</table>\n",
       "</div>"
      ],
      "text/plain": [
       "           PE190065   PE190925  PE181067    PE150386    PE180205  PE180682  \\\n",
       "type         normal      OSA_1     OSA_2  Insomnia_1  Insomnia_2  COMISA_1   \n",
       "Accuracy  87.394167  61.590038  58.36478   60.268456   59.041394  75.29976   \n",
       "\n",
       "           PE180955       mean  \n",
       "type       COMISA_2          -  \n",
       "Accuracy  60.377358  66.047994  "
      ]
     },
     "execution_count": 8,
     "metadata": {},
     "output_type": "execute_result"
    }
   ],
   "source": [
    "df_acc.loc[['type', 'Accuracy'], :]"
   ]
  },
  {
   "cell_type": "code",
   "execution_count": 15,
   "id": "d28d88a5",
   "metadata": {},
   "outputs": [
    {
     "data": {
      "text/html": [
       "<div>\n",
       "<style scoped>\n",
       "    .dataframe tbody tr th:only-of-type {\n",
       "        vertical-align: middle;\n",
       "    }\n",
       "\n",
       "    .dataframe tbody tr th {\n",
       "        vertical-align: top;\n",
       "    }\n",
       "\n",
       "    .dataframe thead th {\n",
       "        text-align: right;\n",
       "    }\n",
       "</style>\n",
       "<table border=\"1\" class=\"dataframe\">\n",
       "  <thead>\n",
       "    <tr style=\"text-align: right;\">\n",
       "      <th></th>\n",
       "      <th>normal</th>\n",
       "      <th>OSA_1</th>\n",
       "      <th>OSA_2</th>\n",
       "      <th>Insomnia_1</th>\n",
       "      <th>Insomnia_2</th>\n",
       "      <th>COMISA_1</th>\n",
       "      <th>COMISA_2</th>\n",
       "      <th>mean</th>\n",
       "    </tr>\n",
       "  </thead>\n",
       "  <tbody>\n",
       "    <tr>\n",
       "      <th>Accuracy</th>\n",
       "      <td>87.394167</td>\n",
       "      <td>61.590038</td>\n",
       "      <td>58.36478</td>\n",
       "      <td>60.268456</td>\n",
       "      <td>59.041394</td>\n",
       "      <td>75.29976</td>\n",
       "      <td>60.377358</td>\n",
       "      <td>66.047994</td>\n",
       "    </tr>\n",
       "  </tbody>\n",
       "</table>\n",
       "</div>"
      ],
      "text/plain": [
       "             normal      OSA_1     OSA_2 Insomnia_1 Insomnia_2  COMISA_1  \\\n",
       "Accuracy  87.394167  61.590038  58.36478  60.268456  59.041394  75.29976   \n",
       "\n",
       "           COMISA_2       mean  \n",
       "Accuracy  60.377358  66.047994  "
      ]
     },
     "execution_count": 15,
     "metadata": {},
     "output_type": "execute_result"
    }
   ],
   "source": [
    "df_acc.columns = ['normal', 'OSA_1', 'OSA_2', 'Insomnia_1', 'Insomnia_2', 'COMISA_1', 'COMISA_2', 'mean']\n",
    "pd.DataFrame(df_acc.loc['Accuracy', :]).transpose()"
   ]
  },
  {
   "cell_type": "code",
   "execution_count": 10,
   "id": "df993a5b",
   "metadata": {},
   "outputs": [
    {
     "data": {
      "text/plain": [
       "([<matplotlib.axis.XTick at 0x24f66816f10>,\n",
       "  <matplotlib.axis.XTick at 0x24f66816ee0>,\n",
       "  <matplotlib.axis.XTick at 0x24f66816610>,\n",
       "  <matplotlib.axis.XTick at 0x24f6683cdf0>,\n",
       "  <matplotlib.axis.XTick at 0x24f66846580>,\n",
       "  <matplotlib.axis.XTick at 0x24f66846cd0>,\n",
       "  <matplotlib.axis.XTick at 0x24f6684e460>],\n",
       " [Text(0, 0, 'normal'),\n",
       "  Text(1, 0, 'OSA_1'),\n",
       "  Text(2, 0, 'OSA_2'),\n",
       "  Text(3, 0, 'Insomnia_1'),\n",
       "  Text(4, 0, 'Insomnia_2'),\n",
       "  Text(5, 0, 'COMISA_1'),\n",
       "  Text(6, 0, 'COMISA_2')])"
      ]
     },
     "execution_count": 10,
     "metadata": {},
     "output_type": "execute_result"
    },
    {
     "data": {
      "image/png": "[encoded data removed]",
      "text/plain": [
       "<Figure size 432x288 with 1 Axes>"
      ]
     },
     "metadata": {
      "needs_background": "light"
     },
     "output_type": "display_data"
    }
   ],
   "source": [
    "import matplotlib.pyplot as plt\n",
    "plt.scatter(range(7), df_acc.loc['Accuracy', :'PE180955'])\n",
    "plt.xticks(range(7),df_acc.loc['type', :'PE180955'])"
   ]
  },
  {
   "cell_type": "code",
   "execution_count": null,
   "id": "d05bcd08",
   "metadata": {},
   "outputs": [],
   "source": []
  },
  {
   "cell_type": "code",
   "execution_count": null,
   "id": "a545046f",
   "metadata": {},
   "outputs": [],
   "source": []
  },
  {
   "cell_type": "code",
   "execution_count": null,
   "id": "52e9239c",
   "metadata": {},
   "outputs": [],
   "source": []
  },
  {
   "cell_type": "markdown",
   "id": "8451945f",
   "metadata": {},
   "source": [
    "# matrix 와 heatmap은 따로 노트북 만들자"
   ]
  },
  {
   "cell_type": "code",
   "execution_count": 26,
   "id": "dee085b9",
   "metadata": {
    "scrolled": true
   },
   "outputs": [
    {
     "data": {
      "text/plain": [
       "([<matplotlib.axis.XTick at 0x1cb832add90>,\n",
       "  <matplotlib.axis.XTick at 0x1cb832add60>,\n",
       "  <matplotlib.axis.XTick at 0x1cb832ad490>,\n",
       "  <matplotlib.axis.XTick at 0x1cb832cfbb0>,\n",
       "  <matplotlib.axis.XTick at 0x1cb832d8340>,\n",
       "  <matplotlib.axis.XTick at 0x1cb832d8a90>,\n",
       "  <matplotlib.axis.XTick at 0x1cb832de220>],\n",
       " [Text(0, 0, 'normal'),\n",
       "  Text(1, 0, 'OSA_1'),\n",
       "  Text(2, 0, 'OSA_2'),\n",
       "  Text(3, 0, 'Insomnia_1'),\n",
       "  Text(4, 0, 'Insomnia_2'),\n",
       "  Text(5, 0, 'COMISA_1'),\n",
       "  Text(6, 0, 'COMISA_2')])"
      ]
     },
     "execution_count": 26,
     "metadata": {},
     "output_type": "execute_result"
    },
    {
     "data": {
      "image/png": "[encoded data removed]",
      "text/plain": [
       "<Figure size 432x288 with 1 Axes>"
      ]
     },
     "metadata": {
      "needs_background": "light"
     },
     "output_type": "display_data"
    }
   ],
   "source": [
    "import seaborn as sns\n",
    "import matplotlib.pyplot as plt\n",
    "plt.scatter(range(7), df_acc_C4)\n",
    "plt.xticks(range(7),df_acc.loc['type', :'PE180955'].values)"
   ]
  },
  {
   "cell_type": "code",
   "execution_count": null,
   "id": "c29169ea",
   "metadata": {},
   "outputs": [],
   "source": []
  },
  {
   "cell_type": "markdown",
   "id": "25156e8f",
   "metadata": {},
   "source": [
    "# matrix"
   ]
  },
  {
   "cell_type": "code",
   "execution_count": 34,
   "id": "4d6f3264",
   "metadata": {},
   "outputs": [
    {
     "data": {
      "text/html": [
       "<div>\n",
       "<style scoped>\n",
       "    .dataframe tbody tr th:only-of-type {\n",
       "        vertical-align: middle;\n",
       "    }\n",
       "\n",
       "    .dataframe tbody tr th {\n",
       "        vertical-align: top;\n",
       "    }\n",
       "\n",
       "    .dataframe thead th {\n",
       "        text-align: right;\n",
       "    }\n",
       "</style>\n",
       "<table border=\"1\" class=\"dataframe\">\n",
       "  <thead>\n",
       "    <tr style=\"text-align: right;\">\n",
       "      <th></th>\n",
       "      <th>PE190065</th>\n",
       "      <th>PE190925</th>\n",
       "      <th>PE181067</th>\n",
       "      <th>PE150386</th>\n",
       "      <th>PE180205</th>\n",
       "      <th>PE180682</th>\n",
       "      <th>PE180955</th>\n",
       "    </tr>\n",
       "  </thead>\n",
       "  <tbody>\n",
       "    <tr>\n",
       "      <th>IO_C3</th>\n",
       "      <td>Wake     R    N1    N2    N3\n",
       "Wake  96.7 ...</td>\n",
       "      <td>Wake     R    N1    N2   N3\n",
       "Wake  77.4  ...</td>\n",
       "      <td>Wake     R   N1    N2    N3\n",
       "Wake  78.0  ...</td>\n",
       "      <td>Wake     R    N1    N2    N3\n",
       "Wake  81.3 ...</td>\n",
       "      <td>Wake     R   N1    N2    N3\n",
       "Wake  71.6  ...</td>\n",
       "      <td>Wake     R    N1    N2    N3\n",
       "Wake  79.8 ...</td>\n",
       "      <td>Wake     R   N1    N2    N3\n",
       "Wake  57.9  ...</td>\n",
       "    </tr>\n",
       "    <tr>\n",
       "      <th>IO_C4</th>\n",
       "      <td>Wake     R    N1    N2    N3\n",
       "Wake  97.5 ...</td>\n",
       "      <td>Wake     R    N1    N2   N3\n",
       "Wake  75.7  ...</td>\n",
       "      <td>Wake     R   N1    N2    N3\n",
       "Wake  75.2  ...</td>\n",
       "      <td>Wake     R    N1    N2    N3\n",
       "Wake  81.3 ...</td>\n",
       "      <td>Wake     R   N1    N2    N3\n",
       "Wake  67.2  ...</td>\n",
       "      <td>Wake     R    N1    N2    N3\n",
       "Wake  76.6 ...</td>\n",
       "      <td>Wake     R   N1    N2    N3\n",
       "Wake  57.9  ...</td>\n",
       "    </tr>\n",
       "    <tr>\n",
       "      <th>no_eog_C3</th>\n",
       "      <td>Wake     R    N1    N2    N3\n",
       "Wake  97.9 ...</td>\n",
       "      <td>Wake     R    N1    N2   N3\n",
       "Wake  75.0  ...</td>\n",
       "      <td>Wake     R   N1    N2    N3\n",
       "Wake  60.3  ...</td>\n",
       "      <td>Wake     R    N1    N2    N3\n",
       "Wake  79.1 ...</td>\n",
       "      <td>Wake     R   N1    N2    N3\n",
       "Wake  71.0  ...</td>\n",
       "      <td>Wake     R   N1    N2    N3\n",
       "Wake  78.7  ...</td>\n",
       "      <td>Wake     R   N1    N2    N3\n",
       "Wake  51.9  ...</td>\n",
       "    </tr>\n",
       "    <tr>\n",
       "      <th>no_eog_C4</th>\n",
       "      <td>Wake     R   N1    N2    N3\n",
       "Wake  98.3  ...</td>\n",
       "      <td>Wake     R    N1    N2   N3\n",
       "Wake  75.0  ...</td>\n",
       "      <td>Wake     R   N1    N2    N3\n",
       "Wake  66.0  ...</td>\n",
       "      <td>Wake     R    N1    N2    N3\n",
       "Wake  80.2 ...</td>\n",
       "      <td>Wake     R   N1    N2    N3\n",
       "Wake  66.1  ...</td>\n",
       "      <td>Wake     R   N1    N2    N3\n",
       "Wake  76.6  ...</td>\n",
       "      <td>Wake     R   N1    N2    N3\n",
       "Wake  54.9  ...</td>\n",
       "    </tr>\n",
       "    <tr>\n",
       "      <th>SO_C3</th>\n",
       "      <td>Wake     R    N1    N2    N3\n",
       "Wake  94.6 ...</td>\n",
       "      <td>Wake     R    N1    N2   N3\n",
       "Wake  76.7  ...</td>\n",
       "      <td>Wake     R   N1    N2    N3\n",
       "Wake  71.6  ...</td>\n",
       "      <td>Wake     R   N1    N2    N3\n",
       "Wake  83.5  ...</td>\n",
       "      <td>Wake     R   N1    N2    N3\n",
       "Wake  73.8  ...</td>\n",
       "      <td>Wake     R    N1    N2    N3\n",
       "Wake  78.7 ...</td>\n",
       "      <td>Wake     R   N1    N2    N3\n",
       "Wake  55.6  ...</td>\n",
       "    </tr>\n",
       "    <tr>\n",
       "      <th>SO_C4</th>\n",
       "      <td>Wake     R   N1    N2    N3\n",
       "Wake  95.4  ...</td>\n",
       "      <td>Wake     R    N1    N2   N3\n",
       "Wake  77.8  ...</td>\n",
       "      <td>Wake    R   N1    N2    N3\n",
       "Wake  70.2  1...</td>\n",
       "      <td>Wake     R   N1    N2    N3\n",
       "Wake  82.4  ...</td>\n",
       "      <td>Wake     R   N1    N2    N3\n",
       "Wake  71.0  ...</td>\n",
       "      <td>Wake     R    N1    N2    N3\n",
       "Wake  76.6 ...</td>\n",
       "      <td>Wake     R   N1    N2    N3\n",
       "Wake  55.6  ...</td>\n",
       "    </tr>\n",
       "  </tbody>\n",
       "</table>\n",
       "</div>"
      ],
      "text/plain": [
       "                                                    PE190065  \\\n",
       "IO_C3            Wake     R    N1    N2    N3\n",
       "Wake  96.7 ...   \n",
       "IO_C4            Wake     R    N1    N2    N3\n",
       "Wake  97.5 ...   \n",
       "no_eog_C3        Wake     R    N1    N2    N3\n",
       "Wake  97.9 ...   \n",
       "no_eog_C4        Wake     R   N1    N2    N3\n",
       "Wake  98.3  ...   \n",
       "SO_C3            Wake     R    N1    N2    N3\n",
       "Wake  94.6 ...   \n",
       "SO_C4            Wake     R   N1    N2    N3\n",
       "Wake  95.4  ...   \n",
       "\n",
       "                                                    PE190925  \\\n",
       "IO_C3            Wake     R    N1    N2   N3\n",
       "Wake  77.4  ...   \n",
       "IO_C4            Wake     R    N1    N2   N3\n",
       "Wake  75.7  ...   \n",
       "no_eog_C3        Wake     R    N1    N2   N3\n",
       "Wake  75.0  ...   \n",
       "no_eog_C4        Wake     R    N1    N2   N3\n",
       "Wake  75.0  ...   \n",
       "SO_C3            Wake     R    N1    N2   N3\n",
       "Wake  76.7  ...   \n",
       "SO_C4            Wake     R    N1    N2   N3\n",
       "Wake  77.8  ...   \n",
       "\n",
       "                                                    PE181067  \\\n",
       "IO_C3            Wake     R   N1    N2    N3\n",
       "Wake  78.0  ...   \n",
       "IO_C4            Wake     R   N1    N2    N3\n",
       "Wake  75.2  ...   \n",
       "no_eog_C3        Wake     R   N1    N2    N3\n",
       "Wake  60.3  ...   \n",
       "no_eog_C4        Wake     R   N1    N2    N3\n",
       "Wake  66.0  ...   \n",
       "SO_C3            Wake     R   N1    N2    N3\n",
       "Wake  71.6  ...   \n",
       "SO_C4            Wake    R   N1    N2    N3\n",
       "Wake  70.2  1...   \n",
       "\n",
       "                                                    PE150386  \\\n",
       "IO_C3            Wake     R    N1    N2    N3\n",
       "Wake  81.3 ...   \n",
       "IO_C4            Wake     R    N1    N2    N3\n",
       "Wake  81.3 ...   \n",
       "no_eog_C3        Wake     R    N1    N2    N3\n",
       "Wake  79.1 ...   \n",
       "no_eog_C4        Wake     R    N1    N2    N3\n",
       "Wake  80.2 ...   \n",
       "SO_C3            Wake     R   N1    N2    N3\n",
       "Wake  83.5  ...   \n",
       "SO_C4            Wake     R   N1    N2    N3\n",
       "Wake  82.4  ...   \n",
       "\n",
       "                                                    PE180205  \\\n",
       "IO_C3            Wake     R   N1    N2    N3\n",
       "Wake  71.6  ...   \n",
       "IO_C4            Wake     R   N1    N2    N3\n",
       "Wake  67.2  ...   \n",
       "no_eog_C3        Wake     R   N1    N2    N3\n",
       "Wake  71.0  ...   \n",
       "no_eog_C4        Wake     R   N1    N2    N3\n",
       "Wake  66.1  ...   \n",
       "SO_C3            Wake     R   N1    N2    N3\n",
       "Wake  73.8  ...   \n",
       "SO_C4            Wake     R   N1    N2    N3\n",
       "Wake  71.0  ...   \n",
       "\n",
       "                                                    PE180682  \\\n",
       "IO_C3            Wake     R    N1    N2    N3\n",
       "Wake  79.8 ...   \n",
       "IO_C4            Wake     R    N1    N2    N3\n",
       "Wake  76.6 ...   \n",
       "no_eog_C3        Wake     R   N1    N2    N3\n",
       "Wake  78.7  ...   \n",
       "no_eog_C4        Wake     R   N1    N2    N3\n",
       "Wake  76.6  ...   \n",
       "SO_C3            Wake     R    N1    N2    N3\n",
       "Wake  78.7 ...   \n",
       "SO_C4            Wake     R    N1    N2    N3\n",
       "Wake  76.6 ...   \n",
       "\n",
       "                                                    PE180955  \n",
       "IO_C3            Wake     R   N1    N2    N3\n",
       "Wake  57.9  ...  \n",
       "IO_C4            Wake     R   N1    N2    N3\n",
       "Wake  57.9  ...  \n",
       "no_eog_C3        Wake     R   N1    N2    N3\n",
       "Wake  51.9  ...  \n",
       "no_eog_C4        Wake     R   N1    N2    N3\n",
       "Wake  54.9  ...  \n",
       "SO_C3            Wake     R   N1    N2    N3\n",
       "Wake  55.6  ...  \n",
       "SO_C4            Wake     R   N1    N2    N3\n",
       "Wake  55.6  ...  "
      ]
     },
     "execution_count": 34,
     "metadata": {},
     "output_type": "execute_result"
    }
   ],
   "source": [
    "df_matrix = pd.DataFrame(dic_matrix_total)\n",
    "df_matrix = df_matrix[subject_num_by_disorder]\n",
    "df_matrix"
   ]
  },
  {
   "cell_type": "code",
   "execution_count": 36,
   "id": "9122c39c",
   "metadata": {},
   "outputs": [
    {
     "data": {
      "text/plain": [
       "PE190065          Wake     R   N1    N2    N3\n",
       "Wake  98.3  ...\n",
       "PE190925          Wake     R    N1    N2   N3\n",
       "Wake  75.0  ...\n",
       "PE181067          Wake     R   N1    N2    N3\n",
       "Wake  66.0  ...\n",
       "PE150386          Wake     R    N1    N2    N3\n",
       "Wake  80.2 ...\n",
       "PE180205          Wake     R   N1    N2    N3\n",
       "Wake  66.1  ...\n",
       "PE180682          Wake     R   N1    N2    N3\n",
       "Wake  76.6  ...\n",
       "PE180955          Wake     R   N1    N2    N3\n",
       "Wake  54.9  ...\n",
       "Name: no_eog_C4, dtype: object"
      ]
     },
     "execution_count": 36,
     "metadata": {},
     "output_type": "execute_result"
    }
   ],
   "source": [
    "df_matrix_C4 = df_matrix.loc['no_eog_C4', :]\n",
    "df_matrix_C4"
   ]
  },
  {
   "cell_type": "code",
   "execution_count": 37,
   "id": "4ac9d5cf",
   "metadata": {},
   "outputs": [
    {
     "data": {
      "text/html": [
       "<div>\n",
       "<style scoped>\n",
       "    .dataframe tbody tr th:only-of-type {\n",
       "        vertical-align: middle;\n",
       "    }\n",
       "\n",
       "    .dataframe tbody tr th {\n",
       "        vertical-align: top;\n",
       "    }\n",
       "\n",
       "    .dataframe thead th {\n",
       "        text-align: right;\n",
       "    }\n",
       "</style>\n",
       "<table border=\"1\" class=\"dataframe\">\n",
       "  <thead>\n",
       "    <tr style=\"text-align: right;\">\n",
       "      <th></th>\n",
       "      <th>Wake</th>\n",
       "      <th>R</th>\n",
       "      <th>N1</th>\n",
       "      <th>N2</th>\n",
       "      <th>N3</th>\n",
       "    </tr>\n",
       "  </thead>\n",
       "  <tbody>\n",
       "    <tr>\n",
       "      <th>Wake</th>\n",
       "      <td>98.3</td>\n",
       "      <td>0.4</td>\n",
       "      <td>0.2</td>\n",
       "      <td>0.8</td>\n",
       "      <td>0.2</td>\n",
       "    </tr>\n",
       "    <tr>\n",
       "      <th>R</th>\n",
       "      <td>2.2</td>\n",
       "      <td>79.1</td>\n",
       "      <td>0.0</td>\n",
       "      <td>13.2</td>\n",
       "      <td>4.4</td>\n",
       "    </tr>\n",
       "    <tr>\n",
       "      <th>N1</th>\n",
       "      <td>25.0</td>\n",
       "      <td>44.1</td>\n",
       "      <td>7.4</td>\n",
       "      <td>20.6</td>\n",
       "      <td>1.5</td>\n",
       "    </tr>\n",
       "    <tr>\n",
       "      <th>N2</th>\n",
       "      <td>0.4</td>\n",
       "      <td>3.3</td>\n",
       "      <td>0.4</td>\n",
       "      <td>83.5</td>\n",
       "      <td>12.1</td>\n",
       "    </tr>\n",
       "    <tr>\n",
       "      <th>N3</th>\n",
       "      <td>0.0</td>\n",
       "      <td>0.0</td>\n",
       "      <td>0.0</td>\n",
       "      <td>0.8</td>\n",
       "      <td>98.3</td>\n",
       "    </tr>\n",
       "  </tbody>\n",
       "</table>\n",
       "</div>"
      ],
      "text/plain": [
       "      Wake     R   N1    N2    N3\n",
       "Wake  98.3   0.4  0.2   0.8   0.2\n",
       "R      2.2  79.1  0.0  13.2   4.4\n",
       "N1    25.0  44.1  7.4  20.6   1.5\n",
       "N2     0.4   3.3  0.4  83.5  12.1\n",
       "N3     0.0   0.0  0.0   0.8  98.3"
      ]
     },
     "execution_count": 37,
     "metadata": {},
     "output_type": "execute_result"
    }
   ],
   "source": [
    "df_matrix_C4[0]"
   ]
  },
  {
   "cell_type": "code",
   "execution_count": 44,
   "id": "14cee25b",
   "metadata": {
    "scrolled": true
   },
   "outputs": [
    {
     "data": {
      "text/html": [
       "<div>\n",
       "<style scoped>\n",
       "    .dataframe tbody tr th:only-of-type {\n",
       "        vertical-align: middle;\n",
       "    }\n",
       "\n",
       "    .dataframe tbody tr th {\n",
       "        vertical-align: top;\n",
       "    }\n",
       "\n",
       "    .dataframe thead th {\n",
       "        text-align: right;\n",
       "    }\n",
       "</style>\n",
       "<table border=\"1\" class=\"dataframe\">\n",
       "  <thead>\n",
       "    <tr style=\"text-align: right;\">\n",
       "      <th></th>\n",
       "      <th>Wake</th>\n",
       "      <th>R</th>\n",
       "      <th>N1</th>\n",
       "      <th>N2</th>\n",
       "      <th>N3</th>\n",
       "    </tr>\n",
       "  </thead>\n",
       "  <tbody>\n",
       "    <tr>\n",
       "      <th>Wake</th>\n",
       "      <td>54.9</td>\n",
       "      <td>10.5</td>\n",
       "      <td>2.3</td>\n",
       "      <td>31.6</td>\n",
       "      <td>0.0</td>\n",
       "    </tr>\n",
       "    <tr>\n",
       "      <th>R</th>\n",
       "      <td>2.9</td>\n",
       "      <td>94.8</td>\n",
       "      <td>0.0</td>\n",
       "      <td>1.7</td>\n",
       "      <td>0.0</td>\n",
       "    </tr>\n",
       "    <tr>\n",
       "      <th>N1</th>\n",
       "      <td>45.8</td>\n",
       "      <td>3.0</td>\n",
       "      <td>9.6</td>\n",
       "      <td>40.4</td>\n",
       "      <td>0.6</td>\n",
       "    </tr>\n",
       "    <tr>\n",
       "      <th>N2</th>\n",
       "      <td>8.3</td>\n",
       "      <td>3.2</td>\n",
       "      <td>4.1</td>\n",
       "      <td>69.1</td>\n",
       "      <td>15.0</td>\n",
       "    </tr>\n",
       "    <tr>\n",
       "      <th>N3</th>\n",
       "      <td>0.0</td>\n",
       "      <td>0.0</td>\n",
       "      <td>0.0</td>\n",
       "      <td>20.0</td>\n",
       "      <td>73.3</td>\n",
       "    </tr>\n",
       "  </tbody>\n",
       "</table>\n",
       "</div>"
      ],
      "text/plain": [
       "      Wake     R   N1    N2    N3\n",
       "Wake  54.9  10.5  2.3  31.6   0.0\n",
       "R      2.9  94.8  0.0   1.7   0.0\n",
       "N1    45.8   3.0  9.6  40.4   0.6\n",
       "N2     8.3   3.2  4.1  69.1  15.0\n",
       "N3     0.0   0.0  0.0  20.0  73.3"
      ]
     },
     "execution_count": 44,
     "metadata": {},
     "output_type": "execute_result"
    }
   ],
   "source": [
    "df_matrix_C4[6]"
   ]
  },
  {
   "cell_type": "markdown",
   "id": "d060e300",
   "metadata": {},
   "source": [
    "# prob_matrix"
   ]
  },
  {
   "cell_type": "code",
   "execution_count": 58,
   "id": "58266ec7",
   "metadata": {
    "scrolled": true
   },
   "outputs": [
    {
     "name": "stdout",
     "output_type": "stream",
     "text": [
      "['PE150386', 'PE180205', 'PE180682', 'PE180955', 'PE181067', 'PE190065', 'PE190925']\n"
     ]
    },
    {
     "data": {
      "image/png": "[encoded data removed]",
      "text/plain": [
       "<Figure size 432x288 with 2 Axes>"
      ]
     },
     "metadata": {
      "needs_background": "light"
     },
     "output_type": "display_data"
    },
    {
     "data": {
      "image/png": "[encoded data removed]",
      "text/plain": [
       "<Figure size 432x288 with 2 Axes>"
      ]
     },
     "metadata": {
      "needs_background": "light"
     },
     "output_type": "display_data"
    },
    {
     "data": {
      "image/png": "[encoded data removed]",
      "text/plain": [
       "<Figure size 432x288 with 2 Axes>"
      ]
     },
     "metadata": {
      "needs_background": "light"
     },
     "output_type": "display_data"
    },
    {
     "data": {
      "image/png": "[encoded data removed]",
      "text/plain": [
       "<Figure size 432x288 with 2 Axes>"
      ]
     },
     "metadata": {
      "needs_background": "light"
     },
     "output_type": "display_data"
    },
    {
     "data": {
      "image/png": "[encoded data removed]",
      "text/plain": [
       "<Figure size 432x288 with 2 Axes>"
      ]
     },
     "metadata": {
      "needs_background": "light"
     },
     "output_type": "display_data"
    },
    {
     "data": {
      "image/png": "[encoded data removed]",
      "text/plain": [
       "<Figure size 432x288 with 2 Axes>"
      ]
     },
     "metadata": {
      "needs_background": "light"
     },
     "output_type": "display_data"
    },
    {
     "data": {
      "image/png": "[encoded data removed]",
      "text/plain": [
       "<Figure size 432x288 with 2 Axes>"
      ]
     },
     "metadata": {
      "needs_background": "light"
     },
     "output_type": "display_data"
    }
   ],
   "source": [
    "# C4에 해당하는 prob_matrix만 가져오자\n",
    "\n",
    "path_subjects_prob = 'D:\\\\USC\\\\code_mine\\\\PE_test\\\\hypnogram\\\\predicted_with_filt'\n",
    "subjects_prob = os.listdir(path_subjects_prob)\n",
    "print(subjects_prob)\n",
    "\n",
    "for subject in subjects_prob:\n",
    "    path_matrix = os.path.join(path_subjects_prob, subject, 'prob', '_no_eog_C4_prob.csv')\n",
    "    df_prob = pd.read_csv(path_matrix, index_col=0)\n",
    "    plt.figure()\n",
    "    sns.heatmap(df_prob.transpose())"
   ]
  },
  {
   "cell_type": "markdown",
   "id": "5aff4c42",
   "metadata": {},
   "source": [
    "# hypnogram"
   ]
  },
  {
   "cell_type": "code",
   "execution_count": null,
   "id": "d1664e91",
   "metadata": {},
   "outputs": [],
   "source": [
    "import yasa\n",
    "\n",
    "path_subjects_g_hypno = 'D:\\\\USC\\\\code_mine\\\\PE_test\\\\hypnogram\\\\ground_truth'\n",
    "subjects_g_hypno= os.listdir(path_subjects_g_hypno)\n",
    "print(subjects_g_hypno)\n",
    "\n",
    "path_subjects_p_hypno = 'D:\\\\USC\\\\code_mine\\\\PE_test\\\\hypnogram\\\\predicted_with_filt'\n",
    "subjects_p_hypno= os.listdir(path_subjects_p_hypno)\n",
    "print(subjects_p_hypno)\n",
    "\n",
    "for subject in subjects_p_hypno:\n",
    "    path_p_hypno = os.path.join(path_subjects_p_hypno, subject, 'pred_hypno', '_no_eog_C4.csv')\n",
    "    hypno = pd.read_csv(path_p_hypno, index_col=0).squeeze()\n",
    "    plt.figure()\n",
    "    yasa.plot_hypnogram(hypno)"
   ]
  },
  {
   "cell_type": "code",
   "execution_count": null,
   "id": "8f92aa6f",
   "metadata": {},
   "outputs": [],
   "source": []
  },
  {
   "cell_type": "code",
   "execution_count": null,
   "id": "cc590a9f",
   "metadata": {},
   "outputs": [],
   "source": []
  },
  {
   "cell_type": "markdown",
   "id": "ef5afd0a",
   "metadata": {},
   "source": [
    "# after reref"
   ]
  },
  {
   "cell_type": "code",
   "execution_count": null,
   "id": "f3749089",
   "metadata": {},
   "outputs": [],
   "source": []
  }
 ],
 "metadata": {
  "kernelspec": {
   "display_name": "Python 3 (ipykernel)",
   "language": "python",
   "name": "python3"
  },
  "language_info": {
   "codemirror_mode": {
    "name": "ipython",
    "version": 3
   },
   "file_extension": ".py",
   "mimetype": "text/x-python",
   "name": "python",
   "nbconvert_exporter": "python",
   "pygments_lexer": "ipython3",
   "version": "3.9.7"
  }
 },
 "nbformat": 4,
 "nbformat_minor": 5
}
