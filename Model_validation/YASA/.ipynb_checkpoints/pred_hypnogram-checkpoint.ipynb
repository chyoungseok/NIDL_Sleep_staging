{
 "cells": [
  {
   "cell_type": "markdown",
   "id": "88c1353e",
   "metadata": {},
   "source": [
    "# EDF file을 이용하여, YASA 모델을 이용하여 hypnogram을 predict하고 csv로 저장"
   ]
  },
  {
   "cell_type": "markdown",
   "id": "7fae8ef0",
   "metadata": {},
   "source": [
    "# 1. LE dataset"
   ]
  },
  {
   "cell_type": "code",
   "execution_count": 1,
   "id": "06371042",
   "metadata": {},
   "outputs": [
    {
     "name": "stdout",
     "output_type": "stream",
     "text": [
      "['LE004-1_edf', 'LE010-3_edf', 'LE011-1_edf', 'LE014-3_edf', 'LE019-1_edf', 'LE020-3_edf', 'LE021-2_edf', 'LE023-3_edf']\n"
     ]
    },
    {
     "data": {
      "text/html": [
       "<div>\n",
       "<style scoped>\n",
       "    .dataframe tbody tr th:only-of-type {\n",
       "        vertical-align: middle;\n",
       "    }\n",
       "\n",
       "    .dataframe tbody tr th {\n",
       "        vertical-align: top;\n",
       "    }\n",
       "\n",
       "    .dataframe thead th {\n",
       "        text-align: right;\n",
       "    }\n",
       "</style>\n",
       "<table border=\"1\" class=\"dataframe\">\n",
       "  <thead>\n",
       "    <tr style=\"text-align: right;\">\n",
       "      <th></th>\n",
       "      <th>hypno_start</th>\n",
       "      <th>hypno_end</th>\n",
       "      <th>edf_start</th>\n",
       "      <th>edf_duration</th>\n",
       "      <th>edf_end</th>\n",
       "      <th>start_mismatch</th>\n",
       "      <th>end_mismatch</th>\n",
       "    </tr>\n",
       "  </thead>\n",
       "  <tbody>\n",
       "    <tr>\n",
       "      <th>LE004</th>\n",
       "      <td>0:31:00</td>\n",
       "      <td>5:52:00</td>\n",
       "      <td>0:17:47</td>\n",
       "      <td>5:34:26</td>\n",
       "      <td>5:52:13</td>\n",
       "      <td>0</td>\n",
       "      <td>0</td>\n",
       "    </tr>\n",
       "    <tr>\n",
       "      <th>LE010</th>\n",
       "      <td>0:24:30</td>\n",
       "      <td>6:36:30</td>\n",
       "      <td>0:16:31</td>\n",
       "      <td>6:20:54</td>\n",
       "      <td>6:37:25</td>\n",
       "      <td>0</td>\n",
       "      <td>0</td>\n",
       "    </tr>\n",
       "    <tr>\n",
       "      <th>LE011</th>\n",
       "      <td>0:13:00</td>\n",
       "      <td>6:39:00</td>\n",
       "      <td>0:10:39</td>\n",
       "      <td>6:36:12</td>\n",
       "      <td>6:46:51</td>\n",
       "      <td>0</td>\n",
       "      <td>0</td>\n",
       "    </tr>\n",
       "    <tr>\n",
       "      <th>LE014</th>\n",
       "      <td>0:24:30</td>\n",
       "      <td>6:08:00</td>\n",
       "      <td>0:18:44</td>\n",
       "      <td>5:49:56</td>\n",
       "      <td>6:08:40</td>\n",
       "      <td>0</td>\n",
       "      <td>0</td>\n",
       "    </tr>\n",
       "    <tr>\n",
       "      <th>LE019</th>\n",
       "      <td>0:32:00</td>\n",
       "      <td>6:18:30</td>\n",
       "      <td>0:12:15</td>\n",
       "      <td>6:07:08</td>\n",
       "      <td>6:19:23</td>\n",
       "      <td>0</td>\n",
       "      <td>0</td>\n",
       "    </tr>\n",
       "    <tr>\n",
       "      <th>LE020</th>\n",
       "      <td>0:24:30</td>\n",
       "      <td>6:13:00</td>\n",
       "      <td>0:19:18</td>\n",
       "      <td>5:54:02</td>\n",
       "      <td>6:13:20</td>\n",
       "      <td>0</td>\n",
       "      <td>0</td>\n",
       "    </tr>\n",
       "    <tr>\n",
       "      <th>LE021</th>\n",
       "      <td>0:35:00</td>\n",
       "      <td>6:08:00</td>\n",
       "      <td>0:32:14</td>\n",
       "      <td>5:36:08</td>\n",
       "      <td>6:08:22</td>\n",
       "      <td>0</td>\n",
       "      <td>0</td>\n",
       "    </tr>\n",
       "    <tr>\n",
       "      <th>LE023</th>\n",
       "      <td>0:33:30</td>\n",
       "      <td>5:45:00</td>\n",
       "      <td>0:32:55</td>\n",
       "      <td>5:13:18</td>\n",
       "      <td>5:46:13</td>\n",
       "      <td>0</td>\n",
       "      <td>0</td>\n",
       "    </tr>\n",
       "  </tbody>\n",
       "</table>\n",
       "</div>"
      ],
      "text/plain": [
       "      hypno_start hypno_end edf_start edf_duration  edf_end  start_mismatch  \\\n",
       "LE004     0:31:00   5:52:00   0:17:47      5:34:26  5:52:13               0   \n",
       "LE010     0:24:30   6:36:30   0:16:31      6:20:54  6:37:25               0   \n",
       "LE011     0:13:00   6:39:00   0:10:39      6:36:12  6:46:51               0   \n",
       "LE014     0:24:30   6:08:00   0:18:44      5:49:56  6:08:40               0   \n",
       "LE019     0:32:00   6:18:30   0:12:15      6:07:08  6:19:23               0   \n",
       "LE020     0:24:30   6:13:00   0:19:18      5:54:02  6:13:20               0   \n",
       "LE021     0:35:00   6:08:00   0:32:14      5:36:08  6:08:22               0   \n",
       "LE023     0:33:30   5:45:00   0:32:55      5:13:18  5:46:13               0   \n",
       "\n",
       "       end_mismatch  \n",
       "LE004             0  \n",
       "LE010             0  \n",
       "LE011             0  \n",
       "LE014             0  \n",
       "LE019             0  \n",
       "LE020             0  \n",
       "LE021             0  \n",
       "LE023             0  "
      ]
     },
     "execution_count": 1,
     "metadata": {},
     "output_type": "execute_result"
    }
   ],
   "source": [
    "import os\n",
    "import pandas as pd\n",
    "import staging_yasa\n",
    "\n",
    "path_subjects_edf = 'D:\\\\USC\\\\Sleep dataset\\\\Samsung_data\\\\NEW_EDF'\n",
    "subjects_edf = os.listdir(path_subjects_edf)\n",
    "subjects_edf.sort()\n",
    "print(subjects_edf)\n",
    "\n",
    "meas_time_df = pd.read_csv('D:\\\\USC\\\\code_mine\\\\Exploration_for_VD_dataset\\\\meas_time_edf_hypno.csv', index_col=0)\n",
    "meas_time_df = meas_time_df.loc['LE004':'LE023']\n",
    "meas_time_df"
   ]
  },
  {
   "cell_type": "code",
   "execution_count": null,
   "id": "466c9757",
   "metadata": {},
   "outputs": [],
   "source": []
  },
  {
   "cell_type": "code",
   "execution_count": null,
   "id": "77902942",
   "metadata": {},
   "outputs": [],
   "source": []
  },
  {
   "cell_type": "markdown",
   "id": "724a29bf",
   "metadata": {},
   "source": [
    "# 2. VD dataset"
   ]
  },
  {
   "cell_type": "code",
   "execution_count": null,
   "id": "45147087",
   "metadata": {},
   "outputs": [],
   "source": []
  }
 ],
 "metadata": {
  "kernelspec": {
   "display_name": "Python 3 (ipykernel)",
   "language": "python",
   "name": "python3"
  },
  "language_info": {
   "codemirror_mode": {
    "name": "ipython",
    "version": 3
   },
   "file_extension": ".py",
   "mimetype": "text/x-python",
   "name": "python",
   "nbconvert_exporter": "python",
   "pygments_lexer": "ipython3",
   "version": "3.9.7"
  }
 },
 "nbformat": 4,
 "nbformat_minor": 5
}
