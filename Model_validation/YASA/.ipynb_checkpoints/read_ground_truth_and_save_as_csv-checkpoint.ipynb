{
 "cells": [
  {
   "cell_type": "markdown",
   "id": "88c5bcb2",
   "metadata": {},
   "source": [
    "# ground_truth_hypnogram을 읽어서 csv파일로 저장하자\n",
    "\n",
    "- 필요 없는 기타 정보 제거\n",
    "- stage 정보만 추출\n",
    "- 저장 경로: D:\\USC\\code_mine\\Model_validation\\YASA\\hypnograms\\ground_truth"
   ]
  },
  {
   "cell_type": "markdown",
   "id": "b56c84b2",
   "metadata": {},
   "source": [
    "# 1. LE dataset\n",
    "- 경로: D:\\USC\\Sleep dataset\\Samsung_data\\Staging_label_for_new_edf"
   ]
  },
  {
   "cell_type": "code",
   "execution_count": 1,
   "id": "e1ba9bb2",
   "metadata": {},
   "outputs": [],
   "source": [
    "import os\n",
    "import pandas as pd"
   ]
  },
  {
   "cell_type": "code",
   "execution_count": 2,
   "id": "1973efa1",
   "metadata": {},
   "outputs": [
    {
     "name": "stdout",
     "output_type": "stream",
     "text": [
      "-- Available ground-truth-hypnograms ... \n",
      "   ['LE004-Events.txt', 'LE010-Events.txt', 'LE011-Events.txt', 'LE014-Events.txt', 'LE019-Events.txt', 'LE020-Events.txt', 'LE021-Events.txt', 'LE023-Events.txt']\n"
     ]
    }
   ],
   "source": [
    "path_subjects_hypno = 'D:\\\\USC\\\\Sleep dataset\\\\Samsung_data\\\\Staging_label_for_new_edf'\n",
    "subjects_hypno = os.listdir(path_subjects_hypno)\n",
    "subjects_hypno.sort()\n",
    "print(f\"-- Available ground-truth-hypnograms ... \\n   {subjects_hypno}\")"
   ]
  },
  {
   "cell_type": "code",
   "execution_count": 3,
   "id": "05b6b1cb",
   "metadata": {},
   "outputs": [],
   "source": [
    "def str2num(stages_str):\n",
    "    # input: single hypnogram\n",
    "    stages_int = []\n",
    "    # dictionary to convert string to num\n",
    "    stage_dic = {\"S0\": 0, \"REM\": 4, \"S1\": 1, \"S2\": 2, \"S3\": 3}\n",
    "    for stage in stages_str:\n",
    "        stages_int.append(stage_dic[stage])\n",
    "    return stages_int\n",
    "\n",
    "def ReadTxtFiles(subject, path_subjects):\n",
    "    # subject 한 명의 hypnogram을 읽어옴\n",
    "    stages = []\n",
    "    with open(os.path.join(path_subjects, subject), 'r') as f:\n",
    "        lines = f.readlines() # Read txt file\n",
    "        lines = lines[18:] # include only valid information which contains the stages\n",
    "\n",
    "        # From long strings, pick only 'stage' up\n",
    "        for line in lines:\n",
    "            temp_line = line.strip().split() # get the stages as string  \n",
    "            stages.append(temp_line[0][6:])\n",
    "    return stages"
   ]
  },
  {
   "cell_type": "code",
   "execution_count": 6,
   "id": "e16fa347",
   "metadata": {},
   "outputs": [],
   "source": [
    "for subject in subjects_hypno:\n",
    "    stages_str = ReadTxtFiles(subject, path_subjects_hypno)\n",
    "    stages_int = str2num(stages_str)\n",
    "    temp_df = pd.DataFrame(stages_int, columns=['stages'])\n",
    "    \n",
    "    path_save = os.path.join('D:\\\\USC\\\\code_mine\\\\Model_validation\\\\YASA\\\\hypnograms\\\\ground_truth', subject[0:5]+'.csv')\n",
    "    temp_df.to_csv(path_or_buf=path_save, index=None)    "
   ]
  },
  {
   "cell_type": "markdown",
   "id": "b26a9ea7",
   "metadata": {},
   "source": [
    "# 2. VD dataset\n",
    "- read 경로 : D:\\USC\\Sleep dataset\\Samsung_2nd\\VD_sleep_scoring\n",
    "- save 경로 : D:\\USC\\code_mine\\Model_validation\\YASA\\hypnograms\\ground_truth"
   ]
  },
  {
   "cell_type": "code",
   "execution_count": 1,
   "id": "86603491",
   "metadata": {},
   "outputs": [],
   "source": [
    "import os\n",
    "import pandas as pd"
   ]
  },
  {
   "cell_type": "code",
   "execution_count": 2,
   "id": "4f036e0f",
   "metadata": {},
   "outputs": [
    {
     "name": "stdout",
     "output_type": "stream",
     "text": [
      "-- Available ground-truth-hypnograms ... \n",
      "   ['VD001-Events.txt', 'VD002-Events.txt', 'VD003-Events.txt', 'VD004-Events.txt', 'VD005-Events.txt', 'VD006-Events.txt', 'VD008-Events.txt', 'VD011-Events.txt', 'VD012-Events.txt', 'VD017-Events.txt', 'VD019-Events.txt', 'VD022-Events.txt', 'VD023-Events.txt', 'VD025-Events.txt', 'VD028-Events.txt', 'VD029-Events.txt', 'VD030-Events.txt', 'VD031-Events.txt', 'VD033-Events.txt', 'VD034-Events.txt', 'VD039-Events.txt', 'VD041-Events.txt', 'VD042-Events.txt', 'VD043-Events.txt', 'VD044-Events.txt', 'VD045-Events.txt', 'VD046-Events.txt', 'VD047-Events.txt', 'VD049-Events.txt', 'VD050-Events.txt', 'VD051-Events.txt', 'VD052-Events.txt', 'VD053-Events.txt', 'VD054-Events.txt', 'VD055-Events.txt', 'VD056-Events.txt', 'VD057-Events.txt', 'VD058-Events.txt']\n"
     ]
    }
   ],
   "source": [
    "path_subjects_hypno = 'D:\\\\USC\\\\Sleep dataset\\\\Samsung_2nd\\\\VD_sleep_scoring'\n",
    "subjects_hypno = os.listdir(path_subjects_hypno)\n",
    "subjects_hypno.sort()\n",
    "print(f\"-- Available ground-truth-hypnograms ... \\n   {subjects_hypno}\")"
   ]
  },
  {
   "cell_type": "code",
   "execution_count": 5,
   "id": "e4e7e6a5",
   "metadata": {},
   "outputs": [],
   "source": [
    "def str2num(stages_str):\n",
    "    # input: single hypnogram\n",
    "    stages_int = []\n",
    "    # dictionary to convert string to num\n",
    "    stage_dic = {\"W\": 0, \"R\": 4, \"N1\": 1, \"N2\": 2, \"N3\": 3,\n",
    "                 'SLEEP-S0': 0, 'SLEEP-REM': 4, 'SLEEP-S1': 1, 'SLEEP-S2': 2, 'SLEEP-S3': 3}\n",
    "    for stage in stages_str:\n",
    "        stages_int.append(stage_dic[stage])\n",
    "    return stages_int\n",
    "\n",
    "def ReadTxtFiles(subject, path_subjects):\n",
    "    # subject 한 명의 hypnogram을 읽어옴\n",
    "    stages = []\n",
    "    with open(os.path.join(path_subjects, subject), 'r') as f:\n",
    "        lines = f.readlines() # Read txt file\n",
    "        lines = lines[17:] # include only valid information which contains the stages\n",
    "\n",
    "        # From long strings, pick only 'stage' up\n",
    "        for line in lines:\n",
    "            temp_line = line.strip().split() # get the stages as string  \n",
    "            if temp_line[1] == '오전':\n",
    "                stages.append(temp_line[3])\n",
    "            else:\n",
    "                stages.append(temp_line[2])\n",
    "    return stages"
   ]
  },
  {
   "cell_type": "code",
   "execution_count": 6,
   "id": "e1f96b6f",
   "metadata": {},
   "outputs": [
    {
     "ename": "KeyError",
     "evalue": "'1:16:00'",
     "output_type": "error",
     "traceback": [
      "\u001b[1;31m---------------------------------------------------------------------------\u001b[0m",
      "\u001b[1;31mKeyError\u001b[0m                                  Traceback (most recent call last)",
      "Input \u001b[1;32mIn [6]\u001b[0m, in \u001b[0;36m<cell line: 1>\u001b[1;34m()\u001b[0m\n\u001b[0;32m      1\u001b[0m \u001b[38;5;28;01mfor\u001b[39;00m subject \u001b[38;5;129;01min\u001b[39;00m subjects_hypno:\n\u001b[0;32m      2\u001b[0m     stages_str \u001b[38;5;241m=\u001b[39m ReadTxtFiles(subject, path_subjects_hypno)\n\u001b[1;32m----> 3\u001b[0m     stages_int \u001b[38;5;241m=\u001b[39m \u001b[43mstr2num\u001b[49m\u001b[43m(\u001b[49m\u001b[43mstages_str\u001b[49m\u001b[43m)\u001b[49m\n\u001b[0;32m      4\u001b[0m     temp_df \u001b[38;5;241m=\u001b[39m pd\u001b[38;5;241m.\u001b[39mDataFrame(stages_int, columns\u001b[38;5;241m=\u001b[39m[\u001b[38;5;124m'\u001b[39m\u001b[38;5;124mstages\u001b[39m\u001b[38;5;124m'\u001b[39m])\n\u001b[0;32m      6\u001b[0m     path_save \u001b[38;5;241m=\u001b[39m os\u001b[38;5;241m.\u001b[39mpath\u001b[38;5;241m.\u001b[39mjoin(\u001b[38;5;124m'\u001b[39m\u001b[38;5;124mD:\u001b[39m\u001b[38;5;130;01m\\\\\u001b[39;00m\u001b[38;5;124mUSC\u001b[39m\u001b[38;5;130;01m\\\\\u001b[39;00m\u001b[38;5;124mcode_mine\u001b[39m\u001b[38;5;130;01m\\\\\u001b[39;00m\u001b[38;5;124mModel_validation\u001b[39m\u001b[38;5;130;01m\\\\\u001b[39;00m\u001b[38;5;124mYASA\u001b[39m\u001b[38;5;130;01m\\\\\u001b[39;00m\u001b[38;5;124mhypnograms\u001b[39m\u001b[38;5;130;01m\\\\\u001b[39;00m\u001b[38;5;124mground_truth\u001b[39m\u001b[38;5;124m'\u001b[39m, subject[\u001b[38;5;241m0\u001b[39m:\u001b[38;5;241m5\u001b[39m]\u001b[38;5;241m+\u001b[39m\u001b[38;5;124m'\u001b[39m\u001b[38;5;124m.csv\u001b[39m\u001b[38;5;124m'\u001b[39m)\n",
      "Input \u001b[1;32mIn [5]\u001b[0m, in \u001b[0;36mstr2num\u001b[1;34m(stages_str)\u001b[0m\n\u001b[0;32m      5\u001b[0m stage_dic \u001b[38;5;241m=\u001b[39m {\u001b[38;5;124m\"\u001b[39m\u001b[38;5;124mW\u001b[39m\u001b[38;5;124m\"\u001b[39m: \u001b[38;5;241m0\u001b[39m, \u001b[38;5;124m\"\u001b[39m\u001b[38;5;124mR\u001b[39m\u001b[38;5;124m\"\u001b[39m: \u001b[38;5;241m4\u001b[39m, \u001b[38;5;124m\"\u001b[39m\u001b[38;5;124mN1\u001b[39m\u001b[38;5;124m\"\u001b[39m: \u001b[38;5;241m1\u001b[39m, \u001b[38;5;124m\"\u001b[39m\u001b[38;5;124mN2\u001b[39m\u001b[38;5;124m\"\u001b[39m: \u001b[38;5;241m2\u001b[39m, \u001b[38;5;124m\"\u001b[39m\u001b[38;5;124mN3\u001b[39m\u001b[38;5;124m\"\u001b[39m: \u001b[38;5;241m3\u001b[39m,\n\u001b[0;32m      6\u001b[0m              \u001b[38;5;124m'\u001b[39m\u001b[38;5;124mSLEEP-S0\u001b[39m\u001b[38;5;124m'\u001b[39m: \u001b[38;5;241m0\u001b[39m, \u001b[38;5;124m'\u001b[39m\u001b[38;5;124mSLEEP-REM\u001b[39m\u001b[38;5;124m'\u001b[39m: \u001b[38;5;241m4\u001b[39m, \u001b[38;5;124m'\u001b[39m\u001b[38;5;124mSLEEP-S1\u001b[39m\u001b[38;5;124m'\u001b[39m: \u001b[38;5;241m1\u001b[39m, \u001b[38;5;124m'\u001b[39m\u001b[38;5;124mSLEEP-S2\u001b[39m\u001b[38;5;124m'\u001b[39m: \u001b[38;5;241m2\u001b[39m, \u001b[38;5;124m'\u001b[39m\u001b[38;5;124mSLEEP-S3\u001b[39m\u001b[38;5;124m'\u001b[39m: \u001b[38;5;241m3\u001b[39m}\n\u001b[0;32m      7\u001b[0m \u001b[38;5;28;01mfor\u001b[39;00m stage \u001b[38;5;129;01min\u001b[39;00m stages_str:\n\u001b[1;32m----> 8\u001b[0m     stages_int\u001b[38;5;241m.\u001b[39mappend(\u001b[43mstage_dic\u001b[49m\u001b[43m[\u001b[49m\u001b[43mstage\u001b[49m\u001b[43m]\u001b[49m)\n\u001b[0;32m      9\u001b[0m \u001b[38;5;28;01mreturn\u001b[39;00m stages_int\n",
      "\u001b[1;31mKeyError\u001b[0m: '1:16:00'"
     ]
    }
   ],
   "source": [
    "for subject in subjects_hypno:\n",
    "    stages_str = ReadTxtFiles(subject, path_subjects_hypno)\n",
    "    stages_int = str2num(stages_str)\n",
    "    temp_df = pd.DataFrame(stages_int, columns=['stages'])\n",
    "    \n",
    "    path_save = os.path.join('D:\\\\USC\\\\code_mine\\\\Model_validation\\\\YASA\\\\hypnograms\\\\ground_truth', subject[0:5]+'.csv')\n",
    "    temp_df.to_csv(path_or_buf=path_save, index=None)    "
   ]
  },
  {
   "cell_type": "code",
   "execution_count": null,
   "id": "d905c7c2",
   "metadata": {},
   "outputs": [],
   "source": []
  }
 ],
 "metadata": {
  "kernelspec": {
   "display_name": "Python 3 (ipykernel)",
   "language": "python",
   "name": "python3"
  },
  "language_info": {
   "codemirror_mode": {
    "name": "ipython",
    "version": 3
   },
   "file_extension": ".py",
   "mimetype": "text/x-python",
   "name": "python",
   "nbconvert_exporter": "python",
   "pygments_lexer": "ipython3",
   "version": "3.9.7"
  }
 },
 "nbformat": 4,
 "nbformat_minor": 5
}
