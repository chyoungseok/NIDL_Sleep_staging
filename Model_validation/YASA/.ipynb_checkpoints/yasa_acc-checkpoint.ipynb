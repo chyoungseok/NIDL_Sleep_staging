{
 "cells": [
  {
   "cell_type": "markdown",
   "id": "d6549a74",
   "metadata": {},
   "source": [
    "# yasa 기반으로 구한 hypnogram을 ground_truth와 비교하여 accuracy 계산"
   ]
  },
  {
   "cell_type": "code",
   "execution_count": 1,
   "id": "ae1aca37",
   "metadata": {},
   "outputs": [],
   "source": [
    "import os\n",
    "import yasa\n",
    "import pandas as pd\n",
    "import get_acc_matrix"
   ]
  },
  {
   "cell_type": "code",
   "execution_count": 2,
   "id": "eb9bc498",
   "metadata": {},
   "outputs": [
    {
     "name": "stdout",
     "output_type": "stream",
     "text": [
      "['LE004.csv', 'LE010.csv', 'LE011.csv', 'LE014.csv', 'LE019.csv', 'LE020.csv', 'LE021.csv', 'LE023.csv']\n",
      "['LE004', 'LE010', 'LE011', 'LE014', 'LE019', 'LE020', 'LE021', 'LE023']\n"
     ]
    }
   ],
   "source": [
    "path_subejcts_g_hpyno = 'D:\\\\USC\\\\code_mine\\\\Model_validation\\\\YASA\\\\hypnograms\\\\ground_truth' \n",
    "subjects_g_hypno = os.listdir(path_subejcts_g_hpyno)\n",
    "subjects_g_hypno.sort()\n",
    "print(subjects_g_hypno)\n",
    "\n",
    "path_subejcts_p_hpyno = 'D:\\\\USC\\\\code_mine\\\\Model_validation\\\\YASA\\\\hypnograms\\\\predicted' \n",
    "subjects_p_hypno = os.listdir(path_subejcts_p_hpyno)\n",
    "subjects_p_hypno.sort()\n",
    "print(subjects_p_hypno)"
   ]
  },
  {
   "cell_type": "markdown",
   "id": "bac39857",
   "metadata": {},
   "source": [
    "## LE004"
   ]
  },
  {
   "cell_type": "code",
   "execution_count": 19,
   "id": "6e301445",
   "metadata": {},
   "outputs": [
    {
     "name": "stdout",
     "output_type": "stream",
     "text": [
      "-- now ground_truth:\n",
      "   D:\\USC\\code_mine\\Model_validation\\YASA\\hypnograms\\ground_truth\\LE004.csv\n",
      "\n",
      "-- pridicted hypnograms: ['_IO_C3.csv', '_IO_C4.csv', '_SO_C3.csv', '_SO_C4.csv']\n"
     ]
    }
   ],
   "source": [
    "sub_num = 0\n",
    "\n",
    "path_g_hypno = os.path.join(path_subejcts_g_hpyno, subjects_g_hypno[0])\n",
    "print(f\"-- now ground_truth:\\n   {path_g_hypno}\")\n",
    "g_hypno = pd.read_csv(path_g_hypno).squeeze()\n",
    "\n",
    "p_hypnos = os.listdir(os.path.join(path_subejcts_p_hpyno, subjects_p_hypno[0]))\n",
    "print(f\"\\n-- pridicted hypnograms: {p_hypnos}\")"
   ]
  },
  {
   "cell_type": "code",
   "execution_count": null,
   "id": "d06ce1b6",
   "metadata": {},
   "outputs": [],
   "source": []
  }
 ],
 "metadata": {
  "kernelspec": {
   "display_name": "Python 3 (ipykernel)",
   "language": "python",
   "name": "python3"
  },
  "language_info": {
   "codemirror_mode": {
    "name": "ipython",
    "version": 3
   },
   "file_extension": ".py",
   "mimetype": "text/x-python",
   "name": "python",
   "nbconvert_exporter": "python",
   "pygments_lexer": "ipython3",
   "version": "3.9.7"
  }
 },
 "nbformat": 4,
 "nbformat_minor": 5
}
