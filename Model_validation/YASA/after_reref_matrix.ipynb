{
 "cells": [
  {
   "cell_type": "markdown",
   "id": "5d0eeb25",
   "metadata": {},
   "source": [
    "# LE dataset"
   ]
  },
  {
   "cell_type": "code",
   "execution_count": 1,
   "id": "e9ca3550",
   "metadata": {},
   "outputs": [],
   "source": [
    "import os\n",
    "import yasa\n",
    "import pandas as pd\n",
    "import get_acc_matrix\n",
    "import matplotlib.pyplot as plt"
   ]
  },
  {
   "cell_type": "code",
   "execution_count": 2,
   "id": "dc7ffd07",
   "metadata": {},
   "outputs": [
    {
     "name": "stdout",
     "output_type": "stream",
     "text": [
      "[Ground-truth]\n",
      "   -- path of ground_truth: D:\\USC\\code_mine\\Model_validation\\YASA\\hypnograms\\ground_truth\n",
      "   -- csv files: ['LE004.csv', 'LE010.csv', 'LE011.csv', 'LE014.csv', 'LE019.csv', 'LE020.csv', 'LE021.csv', 'LE023.csv']\n",
      "\n",
      "[Predicted]\n",
      "   -- path of predicted: D:\\USC\\code_mine\\Model_validation\\YASA\\hypnograms\\pred_filt_reref\n",
      "   -- folders for the each subject: ['LE004', 'LE010', 'LE011', 'LE014', 'LE019', 'LE020', 'LE021', 'LE023']\n"
     ]
    }
   ],
   "source": [
    "path_subejcts_g_hpyno = 'D:\\\\USC\\\\code_mine\\\\Model_validation\\\\YASA\\\\hypnograms\\\\ground_truth' \n",
    "subjects_g_hypno = os.listdir(path_subejcts_g_hpyno)\n",
    "subjects_g_hypno.sort()\n",
    "subjects_g_hypno = subjects_g_hypno[0:8]\n",
    "print(\"[Ground-truth]\")\n",
    "print(\"   -- path of ground_truth: {}\".format(path_subejcts_g_hpyno))\n",
    "print(\"   -- csv files: {}\".format(subjects_g_hypno))\n",
    "\n",
    "path_subejcts_p_hpyno = 'D:\\\\USC\\\\code_mine\\\\Model_validation\\\\YASA\\\\hypnograms\\\\pred_filt_reref' \n",
    "subjects_p_hypno = os.listdir(path_subejcts_p_hpyno)\n",
    "subjects_p_hypno.sort()\n",
    "subjects_p_hypno = subjects_p_hypno[0:8]\n",
    "print(\"\\n[Predicted]\")\n",
    "print(\"   -- path of predicted: {}\".format(path_subejcts_p_hpyno))\n",
    "print(\"   -- folders for the each subject: {}\".format(subjects_p_hypno))"
   ]
  },
  {
   "cell_type": "code",
   "execution_count": 3,
   "id": "80c1dfbd",
   "metadata": {
    "scrolled": true
   },
   "outputs": [
    {
     "name": "stdout",
     "output_type": "stream",
     "text": [
      "========================================\n",
      "-- now ground_truth:\n",
      "   D:\\USC\\code_mine\\Model_validation\\YASA\\hypnograms\\ground_truth\\LE004.csv\n",
      "\n",
      "-- pridicted hypnograms: LE004 --> ['pred_hypno_C4.csv']\n",
      "========================================\n",
      "-- now ground_truth:\n",
      "   D:\\USC\\code_mine\\Model_validation\\YASA\\hypnograms\\ground_truth\\LE010.csv\n",
      "\n",
      "-- pridicted hypnograms: LE010 --> ['pred_hypno_C4.csv']\n",
      "========================================\n",
      "-- now ground_truth:\n",
      "   D:\\USC\\code_mine\\Model_validation\\YASA\\hypnograms\\ground_truth\\LE011.csv\n",
      "\n",
      "-- pridicted hypnograms: LE011 --> ['pred_hypno_C4.csv']\n",
      "========================================\n",
      "-- now ground_truth:\n",
      "   D:\\USC\\code_mine\\Model_validation\\YASA\\hypnograms\\ground_truth\\LE014.csv\n",
      "\n",
      "-- pridicted hypnograms: LE014 --> ['pred_hypno_C4.csv']\n",
      "========================================\n",
      "-- now ground_truth:\n",
      "   D:\\USC\\code_mine\\Model_validation\\YASA\\hypnograms\\ground_truth\\LE019.csv\n",
      "\n",
      "-- pridicted hypnograms: LE019 --> ['pred_hypno_C4.csv']\n",
      "========================================\n",
      "-- now ground_truth:\n",
      "   D:\\USC\\code_mine\\Model_validation\\YASA\\hypnograms\\ground_truth\\LE020.csv\n",
      "\n",
      "-- pridicted hypnograms: LE020 --> ['pred_hypno_C4.csv']\n",
      "========================================\n",
      "-- now ground_truth:\n",
      "   D:\\USC\\code_mine\\Model_validation\\YASA\\hypnograms\\ground_truth\\LE021.csv\n",
      "\n",
      "-- pridicted hypnograms: LE021 --> ['pred_hypno_C4.csv']\n",
      "========================================\n",
      "-- now ground_truth:\n",
      "   D:\\USC\\code_mine\\Model_validation\\YASA\\hypnograms\\ground_truth\\LE023.csv\n",
      "\n",
      "-- pridicted hypnograms: LE023 --> ['pred_hypno_C4.csv']\n"
     ]
    }
   ],
   "source": [
    "dic_acc_total = {} # subect 별로 chan_comb에 따른 overall accuracy가 저장됨\n",
    "dic_matrix_total = {} # subject 별로 6개의 matrix가 저장됨\n",
    "key_total = [] # subject name이 key로써 저장됨\n",
    "sub_num = 0\n",
    "\n",
    "for subject in subjects_p_hypno:\n",
    "    print('========================================')\n",
    "    path_g_hypno = os.path.join(path_subejcts_g_hpyno, subjects_g_hypno[sub_num])\n",
    "    print(f\"-- now ground_truth:\\n   {path_g_hypno}\")\n",
    "    g_hypno = pd.read_csv(path_g_hypno).squeeze()\n",
    "\n",
    "    csv_p_hypnos = os.listdir(os.path.join(path_subejcts_p_hpyno, subjects_p_hypno[sub_num], 'pred_hypno'))\n",
    "    print(f\"\\n-- pridicted hypnograms: {subject} --> {csv_p_hypnos}\")\n",
    "\n",
    "    dic_acc_sub = {} # 한 명의 subject 내에서, 채널 조합 별 acc를 저장하는 dictionary\n",
    "    dic_matrix_sub = {} # 한 명의 subject 내에서, 채널 조합 별 matrix를 저장하는 dictionary\n",
    "\n",
    "    path_p_hypno = os.path.join(path_subejcts_p_hpyno, subject, 'pred_hypno', 'pred_hypno_C4.csv')\n",
    "#         print(path_p_hypno)\n",
    "    p_hypno = pd.read_csv(path_p_hypno).squeeze()\n",
    "\n",
    "    # overall accuracy\n",
    "    accuracy = (g_hypno == p_hypno).sum() / p_hypno.size * 100 # 현재 channel combination에 대한 overall accuracy 계산\n",
    "#     dic_acc_sub[] = accuracy # dictionary에 추가  \n",
    "\n",
    "#     # accuracy matrix\n",
    "    matrix = get_acc_matrix.get_acc_matrix(g_hypno, p_hypno)\n",
    "    dic_matrix_sub['matrix'] = matrix \n",
    " \n",
    "\n",
    "    key_total.append(subject)\n",
    "    dic_acc_total[key_total[sub_num]] = accuracy\n",
    "    dic_matrix_total[key_total[sub_num]] = dic_matrix_sub\n",
    "    sub_num += 1"
   ]
  },
  {
   "cell_type": "code",
   "execution_count": 4,
   "id": "c418e796",
   "metadata": {
    "scrolled": true
   },
   "outputs": [
    {
     "data": {
      "text/plain": [
       "{'LE004': {'matrix':       Wake     R   N1    N2    N3\n",
       "  Wake  83.3   0.0  0.0  13.9   0.0\n",
       "  R     55.6  27.8  9.6   6.1   0.5\n",
       "  N1    50.0   6.7  0.0  26.7  13.3\n",
       "  N2    10.8   6.3  1.9  60.6  20.1\n",
       "  N3     0.9   0.0  0.0  94.8   3.5},\n",
       " 'LE010': {'matrix':       Wake     R    N1    N2    N3\n",
       "  Wake  51.7  13.8   3.4  13.8  13.8\n",
       "  R      0.5  95.9   0.5   2.7   0.0\n",
       "  N1    19.6  11.8  21.6  39.2   5.9\n",
       "  N2     1.0   1.3   0.5  73.4  23.6\n",
       "  N3     0.0   0.0   0.0   3.6  94.6},\n",
       " 'LE011': {'matrix':       Wake     R   N1    N2    N3\n",
       "  Wake  59.7  10.4  1.5  19.4   7.5\n",
       "  R      0.8  95.9  0.8   1.7   0.0\n",
       "  N1    27.7  36.9  7.7  23.1   3.1\n",
       "  N2     2.0   5.1  0.2  73.5  19.0\n",
       "  N3     0.0   0.0  0.0   0.0  98.6},\n",
       " 'LE014': {'matrix':       Wake     R    N1    N2    N3\n",
       "  Wake  80.8   3.8   3.8   3.8   3.8\n",
       "  R      9.0  68.0  11.5  11.0   0.0\n",
       "  N1    20.3   6.2  20.3  50.0   1.6\n",
       "  N2     0.4   2.1   0.9  86.8   9.4\n",
       "  N3     0.0   0.0   0.0   0.6  98.8},\n",
       " 'LE019': {'matrix':       Wake     R   N1    N2    N3\n",
       "  Wake  74.2   0.0  0.0  19.4   3.2\n",
       "  R      4.7  88.7  4.0   2.0   0.0\n",
       "  N1    41.4  10.3  6.9  34.5   3.4\n",
       "  N2     3.9   3.7  0.5  68.9  22.8\n",
       "  N3     0.0   0.0  0.0  16.4  81.8},\n",
       " 'LE020': {'matrix':       Wake     R   N1    N2    N3\n",
       "  Wake  51.1   2.1  0.0  42.6   2.1\n",
       "  R      0.7  93.4  1.3   3.9   0.0\n",
       "  N1    16.9   0.0  4.6  69.2   7.7\n",
       "  N2     2.0   0.0  2.0  90.1   5.6\n",
       "  N3     0.0   0.0  0.0  22.5  77.0},\n",
       " 'LE021': {'matrix':       Wake     R    N1    N2    N3\n",
       "  Wake  52.8   0.0   0.0  36.1   8.3\n",
       "  R      5.7  82.8   2.3   6.3   2.3\n",
       "  N1    42.4  15.2  15.2  15.2   9.1\n",
       "  N2     1.4   0.7   2.4  73.4  21.8\n",
       "  N3     0.0   0.0   0.0   1.5  97.8},\n",
       " 'LE023': {'matrix':       Wake     R   N1    N2    N3\n",
       "  Wake  80.4   1.8  1.8  12.5   1.8\n",
       "  R      6.8  80.5  1.7  10.2   0.0\n",
       "  N1    32.2   4.4  6.7  52.2   3.3\n",
       "  N2     5.4   5.4  2.5  82.2   4.1\n",
       "  N3     0.0   0.0  0.0  77.2  22.0}}"
      ]
     },
     "execution_count": 4,
     "metadata": {},
     "output_type": "execute_result"
    }
   ],
   "source": [
    "dic_matrix_total"
   ]
  },
  {
   "cell_type": "code",
   "execution_count": 5,
   "id": "eea85858",
   "metadata": {},
   "outputs": [],
   "source": [
    "df_acc = pd.DataFrame(dic_acc_total, index=['acc'])\n",
    "overall_mean = df_acc.mean(axis=1).values[0]"
   ]
  },
  {
   "cell_type": "code",
   "execution_count": 6,
   "id": "c777d2c0",
   "metadata": {},
   "outputs": [
    {
     "data": {
      "text/html": [
       "<div>\n",
       "<style scoped>\n",
       "    .dataframe tbody tr th:only-of-type {\n",
       "        vertical-align: middle;\n",
       "    }\n",
       "\n",
       "    .dataframe tbody tr th {\n",
       "        vertical-align: top;\n",
       "    }\n",
       "\n",
       "    .dataframe thead th {\n",
       "        text-align: right;\n",
       "    }\n",
       "</style>\n",
       "<table border=\"1\" class=\"dataframe\">\n",
       "  <thead>\n",
       "    <tr style=\"text-align: right;\">\n",
       "      <th></th>\n",
       "      <th>Wake</th>\n",
       "      <th>R</th>\n",
       "      <th>N1</th>\n",
       "      <th>N2</th>\n",
       "      <th>N3</th>\n",
       "    </tr>\n",
       "  </thead>\n",
       "  <tbody>\n",
       "    <tr>\n",
       "      <th>Wake</th>\n",
       "      <td>66.7500</td>\n",
       "      <td>3.9875</td>\n",
       "      <td>1.3125</td>\n",
       "      <td>20.1875</td>\n",
       "      <td>5.0625</td>\n",
       "    </tr>\n",
       "    <tr>\n",
       "      <th>R</th>\n",
       "      <td>10.4750</td>\n",
       "      <td>79.1250</td>\n",
       "      <td>3.9625</td>\n",
       "      <td>5.4875</td>\n",
       "      <td>0.3500</td>\n",
       "    </tr>\n",
       "    <tr>\n",
       "      <th>N1</th>\n",
       "      <td>31.3125</td>\n",
       "      <td>11.4375</td>\n",
       "      <td>10.3750</td>\n",
       "      <td>38.7625</td>\n",
       "      <td>5.9250</td>\n",
       "    </tr>\n",
       "    <tr>\n",
       "      <th>N2</th>\n",
       "      <td>3.3625</td>\n",
       "      <td>3.0750</td>\n",
       "      <td>1.3625</td>\n",
       "      <td>76.1125</td>\n",
       "      <td>15.8000</td>\n",
       "    </tr>\n",
       "    <tr>\n",
       "      <th>N3</th>\n",
       "      <td>0.1125</td>\n",
       "      <td>0.0000</td>\n",
       "      <td>0.0000</td>\n",
       "      <td>27.0750</td>\n",
       "      <td>71.7625</td>\n",
       "    </tr>\n",
       "  </tbody>\n",
       "</table>\n",
       "</div>"
      ],
      "text/plain": [
       "         Wake        R       N1       N2       N3\n",
       "Wake  66.7500   3.9875   1.3125  20.1875   5.0625\n",
       "R     10.4750  79.1250   3.9625   5.4875   0.3500\n",
       "N1    31.3125  11.4375  10.3750  38.7625   5.9250\n",
       "N2     3.3625   3.0750   1.3625  76.1125  15.8000\n",
       "N3     0.1125   0.0000   0.0000  27.0750  71.7625"
      ]
     },
     "execution_count": 6,
     "metadata": {},
     "output_type": "execute_result"
    }
   ],
   "source": [
    "df_matrix = pd.DataFrame(dic_matrix_total)\n",
    "df_matrix = df_matrix.loc['matrix'].sum()/8\n",
    "df_matrix"
   ]
  },
  {
   "cell_type": "code",
   "execution_count": 8,
   "id": "ae79cf4a",
   "metadata": {},
   "outputs": [
    {
     "data": {
      "text/html": [
       "<div>\n",
       "<style scoped>\n",
       "    .dataframe tbody tr th:only-of-type {\n",
       "        vertical-align: middle;\n",
       "    }\n",
       "\n",
       "    .dataframe tbody tr th {\n",
       "        vertical-align: top;\n",
       "    }\n",
       "\n",
       "    .dataframe thead th {\n",
       "        text-align: right;\n",
       "    }\n",
       "</style>\n",
       "<table border=\"1\" class=\"dataframe\">\n",
       "  <thead>\n",
       "    <tr style=\"text-align: right;\">\n",
       "      <th></th>\n",
       "      <th>Wake</th>\n",
       "      <th>REM</th>\n",
       "      <th>N1</th>\n",
       "      <th>N2</th>\n",
       "      <th>N3</th>\n",
       "      <th>mean</th>\n",
       "    </tr>\n",
       "  </thead>\n",
       "  <tbody>\n",
       "    <tr>\n",
       "      <th>LE</th>\n",
       "      <td>66.75</td>\n",
       "      <td>79.125</td>\n",
       "      <td>10.375</td>\n",
       "      <td>76.1125</td>\n",
       "      <td>71.7625</td>\n",
       "      <td>69.395566</td>\n",
       "    </tr>\n",
       "  </tbody>\n",
       "</table>\n",
       "</div>"
      ],
      "text/plain": [
       "     Wake     REM      N1       N2       N3       mean\n",
       "LE  66.75  79.125  10.375  76.1125  71.7625  69.395566"
      ]
     },
     "execution_count": 8,
     "metadata": {},
     "output_type": "execute_result"
    }
   ],
   "source": [
    "acc_w = df_matrix.iloc[0, 0]\n",
    "acc_R = df_matrix.iloc[1, 1]\n",
    "acc_N1 = df_matrix.iloc[2, 2]\n",
    "acc_N2 = df_matrix.iloc[3, 3]\n",
    "acc_N3 = df_matrix.iloc[4, 4]\n",
    "\n",
    "diagonal = [acc_w, acc_R, acc_N1, acc_N2, acc_N3]\n",
    "df_diagonal = pd.DataFrame(diagonal, index=['Wake', 'REM', 'N1', 'N2', 'N3'], columns=['LE'])\n",
    "df_diagonal = df_diagonal.transpose()\n",
    "df_diagonal['mean'] = overall_mean\n",
    "df_diagonal"
   ]
  },
  {
   "cell_type": "code",
   "execution_count": null,
   "id": "7925ccca",
   "metadata": {},
   "outputs": [],
   "source": []
  },
  {
   "cell_type": "code",
   "execution_count": null,
   "id": "2c3b68c3",
   "metadata": {},
   "outputs": [],
   "source": []
  },
  {
   "cell_type": "code",
   "execution_count": null,
   "id": "d47fe7a9",
   "metadata": {},
   "outputs": [],
   "source": []
  },
  {
   "cell_type": "markdown",
   "id": "a0c8d886",
   "metadata": {},
   "source": [
    "# PE dataset"
   ]
  },
  {
   "cell_type": "code",
   "execution_count": 9,
   "id": "649f7438",
   "metadata": {},
   "outputs": [
    {
     "name": "stdout",
     "output_type": "stream",
     "text": [
      "[Ground-truth]\n",
      "   -- path of ground_truth: D:\\USC\\code_mine\\Model_validation\\YASA\\hypnograms\\ground_truth\n",
      "   -- csv files: ['PE150386.csv', 'PE180205.csv', 'PE180682.csv', 'PE180955.csv', 'PE181067.csv', 'PE190065.csv', 'PE190925.csv']\n",
      "\n",
      "[Predicted]\n",
      "   -- path of predicted: D:\\USC\\code_mine\\Model_validation\\YASA\\hypnograms\\pred_filt_reref\n",
      "   -- folders for the each subject: ['PE150386', 'PE180205', 'PE180682', 'PE180955', 'PE181067', 'PE190065', 'PE190925']\n"
     ]
    }
   ],
   "source": [
    "path_subejcts_g_hpyno = 'D:\\\\USC\\\\code_mine\\\\Model_validation\\\\YASA\\\\hypnograms\\\\ground_truth' \n",
    "subjects_g_hypno = os.listdir(path_subejcts_g_hpyno)\n",
    "subjects_g_hypno.sort()\n",
    "subjects_g_hypno = subjects_g_hypno[8:15]\n",
    "print(\"[Ground-truth]\")\n",
    "print(\"   -- path of ground_truth: {}\".format(path_subejcts_g_hpyno))\n",
    "print(\"   -- csv files: {}\".format(subjects_g_hypno))\n",
    "\n",
    "path_subejcts_p_hpyno = 'D:\\\\USC\\\\code_mine\\\\Model_validation\\\\YASA\\\\hypnograms\\\\pred_filt_reref' \n",
    "subjects_p_hypno = os.listdir(path_subejcts_p_hpyno)\n",
    "subjects_p_hypno.sort()\n",
    "subjects_p_hypno = subjects_p_hypno[8:15]\n",
    "print(\"\\n[Predicted]\")\n",
    "print(\"   -- path of predicted: {}\".format(path_subejcts_p_hpyno))\n",
    "print(\"   -- folders for the each subject: {}\".format(subjects_p_hypno))"
   ]
  },
  {
   "cell_type": "code",
   "execution_count": 13,
   "id": "abe50371",
   "metadata": {
    "scrolled": true
   },
   "outputs": [
    {
     "name": "stdout",
     "output_type": "stream",
     "text": [
      "========================================\n",
      "-- now ground_truth:\n",
      "   D:\\USC\\code_mine\\Model_validation\\YASA\\hypnograms\\ground_truth\\PE150386.csv\n",
      "\n",
      "-- pridicted hypnograms: PE150386 --> ['pred_hypno_C4.csv']\n",
      "========================================\n",
      "-- now ground_truth:\n",
      "   D:\\USC\\code_mine\\Model_validation\\YASA\\hypnograms\\ground_truth\\PE180205.csv\n",
      "\n",
      "-- pridicted hypnograms: PE180205 --> ['pred_hypno_C4.csv']\n",
      "========================================\n",
      "-- now ground_truth:\n",
      "   D:\\USC\\code_mine\\Model_validation\\YASA\\hypnograms\\ground_truth\\PE180682.csv\n",
      "\n",
      "-- pridicted hypnograms: PE180682 --> ['pred_hypno_C4.csv']\n",
      "========================================\n",
      "-- now ground_truth:\n",
      "   D:\\USC\\code_mine\\Model_validation\\YASA\\hypnograms\\ground_truth\\PE180955.csv\n",
      "\n",
      "-- pridicted hypnograms: PE180955 --> ['pred_hypno_C4.csv']\n",
      "========================================\n",
      "-- now ground_truth:\n",
      "   D:\\USC\\code_mine\\Model_validation\\YASA\\hypnograms\\ground_truth\\PE181067.csv\n",
      "\n",
      "-- pridicted hypnograms: PE181067 --> ['pred_hypno_C4.csv']\n",
      "========================================\n",
      "-- now ground_truth:\n",
      "   D:\\USC\\code_mine\\Model_validation\\YASA\\hypnograms\\ground_truth\\PE190065.csv\n",
      "\n",
      "-- pridicted hypnograms: PE190065 --> ['pred_hypno_C4.csv']\n",
      "========================================\n",
      "-- now ground_truth:\n",
      "   D:\\USC\\code_mine\\Model_validation\\YASA\\hypnograms\\ground_truth\\PE190925.csv\n",
      "\n",
      "-- pridicted hypnograms: PE190925 --> ['pred_hypno_C4.csv']\n"
     ]
    }
   ],
   "source": [
    "dic_acc_total = {} # subect 별로 chan_comb에 따른 overall accuracy가 저장됨\n",
    "dic_matrix_total = {} # subject 별로 6개의 matrix가 저장됨\n",
    "key_total = [] # subject name이 key로써 저장됨\n",
    "sub_num = 0\n",
    "\n",
    "for subject in subjects_p_hypno:\n",
    "    print('========================================')\n",
    "    path_g_hypno = os.path.join(path_subejcts_g_hpyno, subjects_g_hypno[sub_num])\n",
    "    print(f\"-- now ground_truth:\\n   {path_g_hypno}\")\n",
    "    g_hypno = pd.read_csv(path_g_hypno).squeeze()\n",
    "\n",
    "    csv_p_hypnos = os.listdir(os.path.join(path_subejcts_p_hpyno, subjects_p_hypno[sub_num], 'pred_hypno'))\n",
    "    print(f\"\\n-- pridicted hypnograms: {subject} --> {csv_p_hypnos}\")\n",
    "\n",
    "    dic_acc_sub = {} # 한 명의 subject 내에서, 채널 조합 별 acc를 저장하는 dictionary\n",
    "    dic_matrix_sub = {} # 한 명의 subject 내에서, 채널 조합 별 matrix를 저장하는 dictionary\n",
    "\n",
    "    path_p_hypno = os.path.join(path_subejcts_p_hpyno, subject, 'pred_hypno', 'pred_hypno_C4.csv')\n",
    "#         print(path_p_hypno)\n",
    "    p_hypno = pd.read_csv(path_p_hypno).squeeze()\n",
    "\n",
    "    # overall accuracy\n",
    "    accuracy = (g_hypno == p_hypno).sum() / p_hypno.size * 100 # 현재 channel combination에 대한 overall accuracy 계산\n",
    "#     dic_acc_sub[] = accuracy # dictionary에 추가  \n",
    "\n",
    "#     # accuracy matrix\n",
    "    matrix = get_acc_matrix.get_acc_matrix(g_hypno, p_hypno)\n",
    "    dic_matrix_sub['matrix'] = matrix \n",
    " \n",
    "\n",
    "    key_total.append(subject)\n",
    "    dic_acc_total[key_total[sub_num]] = accuracy\n",
    "    dic_matrix_total[key_total[sub_num]] = dic_matrix_sub\n",
    "    sub_num += 1"
   ]
  },
  {
   "cell_type": "code",
   "execution_count": 14,
   "id": "e2573eb1",
   "metadata": {},
   "outputs": [],
   "source": [
    "df_acc = pd.DataFrame(dic_acc_total, index=['acc'])\n",
    "overall_mean = df_acc.mean(axis=1).values[0]"
   ]
  },
  {
   "cell_type": "code",
   "execution_count": 15,
   "id": "5f68ccc2",
   "metadata": {},
   "outputs": [
    {
     "data": {
      "text/html": [
       "<div>\n",
       "<style scoped>\n",
       "    .dataframe tbody tr th:only-of-type {\n",
       "        vertical-align: middle;\n",
       "    }\n",
       "\n",
       "    .dataframe tbody tr th {\n",
       "        vertical-align: top;\n",
       "    }\n",
       "\n",
       "    .dataframe thead th {\n",
       "        text-align: right;\n",
       "    }\n",
       "</style>\n",
       "<table border=\"1\" class=\"dataframe\">\n",
       "  <thead>\n",
       "    <tr style=\"text-align: right;\">\n",
       "      <th></th>\n",
       "      <th>Wake</th>\n",
       "      <th>R</th>\n",
       "      <th>N1</th>\n",
       "      <th>N2</th>\n",
       "      <th>N3</th>\n",
       "    </tr>\n",
       "  </thead>\n",
       "  <tbody>\n",
       "    <tr>\n",
       "      <th>Wake</th>\n",
       "      <td>64.6500</td>\n",
       "      <td>5.3625</td>\n",
       "      <td>1.7375</td>\n",
       "      <td>14.5750</td>\n",
       "      <td>0.6000</td>\n",
       "    </tr>\n",
       "    <tr>\n",
       "      <th>R</th>\n",
       "      <td>11.5250</td>\n",
       "      <td>68.4000</td>\n",
       "      <td>0.9000</td>\n",
       "      <td>5.3625</td>\n",
       "      <td>0.6875</td>\n",
       "    </tr>\n",
       "    <tr>\n",
       "      <th>N1</th>\n",
       "      <td>33.9125</td>\n",
       "      <td>11.5250</td>\n",
       "      <td>6.5000</td>\n",
       "      <td>33.1375</td>\n",
       "      <td>1.6375</td>\n",
       "    </tr>\n",
       "    <tr>\n",
       "      <th>N2</th>\n",
       "      <td>3.0875</td>\n",
       "      <td>1.4500</td>\n",
       "      <td>2.1250</td>\n",
       "      <td>64.8750</td>\n",
       "      <td>15.7000</td>\n",
       "    </tr>\n",
       "    <tr>\n",
       "      <th>N3</th>\n",
       "      <td>0.0000</td>\n",
       "      <td>0.0000</td>\n",
       "      <td>0.0000</td>\n",
       "      <td>5.2625</td>\n",
       "      <td>55.7125</td>\n",
       "    </tr>\n",
       "  </tbody>\n",
       "</table>\n",
       "</div>"
      ],
      "text/plain": [
       "         Wake        R      N1       N2       N3\n",
       "Wake  64.6500   5.3625  1.7375  14.5750   0.6000\n",
       "R     11.5250  68.4000  0.9000   5.3625   0.6875\n",
       "N1    33.9125  11.5250  6.5000  33.1375   1.6375\n",
       "N2     3.0875   1.4500  2.1250  64.8750  15.7000\n",
       "N3     0.0000   0.0000  0.0000   5.2625  55.7125"
      ]
     },
     "execution_count": 15,
     "metadata": {},
     "output_type": "execute_result"
    }
   ],
   "source": [
    "df_matrix = pd.DataFrame(dic_matrix_total)\n",
    "df_matrix = df_matrix.loc['matrix'].sum()/8\n",
    "df_matrix"
   ]
  },
  {
   "cell_type": "code",
   "execution_count": 22,
   "id": "0b37b93c",
   "metadata": {},
   "outputs": [
    {
     "data": {
      "text/plain": [
       "[64.64999999999999, 68.4, 6.5, 64.875, 55.7125, 66.04799357610929]"
      ]
     },
     "execution_count": 22,
     "metadata": {},
     "output_type": "execute_result"
    }
   ],
   "source": [
    "acc_w = df_matrix.iloc[0, 0]\n",
    "acc_R = df_matrix.iloc[1, 1]\n",
    "acc_N1 = df_matrix.iloc[2, 2]\n",
    "acc_N2 = df_matrix.iloc[3, 3]\n",
    "acc_N3 = df_matrix.iloc[4, 4]\n",
    "\n",
    "diagonal = [acc_w, acc_R, acc_N1, acc_N2, acc_N3]\n",
    "diagonal.insert(5, overall_mean)\n",
    "diagonal"
   ]
  },
  {
   "cell_type": "code",
   "execution_count": 24,
   "id": "cfa31615",
   "metadata": {
    "scrolled": true
   },
   "outputs": [
    {
     "data": {
      "text/html": [
       "<div>\n",
       "<style scoped>\n",
       "    .dataframe tbody tr th:only-of-type {\n",
       "        vertical-align: middle;\n",
       "    }\n",
       "\n",
       "    .dataframe tbody tr th {\n",
       "        vertical-align: top;\n",
       "    }\n",
       "\n",
       "    .dataframe thead th {\n",
       "        text-align: right;\n",
       "    }\n",
       "</style>\n",
       "<table border=\"1\" class=\"dataframe\">\n",
       "  <thead>\n",
       "    <tr style=\"text-align: right;\">\n",
       "      <th></th>\n",
       "      <th>Wake</th>\n",
       "      <th>REM</th>\n",
       "      <th>N1</th>\n",
       "      <th>N2</th>\n",
       "      <th>N3</th>\n",
       "      <th>mean</th>\n",
       "    </tr>\n",
       "  </thead>\n",
       "  <tbody>\n",
       "    <tr>\n",
       "      <th>LE</th>\n",
       "      <td>66.75</td>\n",
       "      <td>79.125</td>\n",
       "      <td>10.375</td>\n",
       "      <td>76.1125</td>\n",
       "      <td>71.7625</td>\n",
       "      <td>69.395566</td>\n",
       "    </tr>\n",
       "    <tr>\n",
       "      <th>PE</th>\n",
       "      <td>64.65</td>\n",
       "      <td>68.400</td>\n",
       "      <td>6.500</td>\n",
       "      <td>64.8750</td>\n",
       "      <td>55.7125</td>\n",
       "      <td>66.047994</td>\n",
       "    </tr>\n",
       "  </tbody>\n",
       "</table>\n",
       "</div>"
      ],
      "text/plain": [
       "     Wake     REM      N1       N2       N3       mean\n",
       "LE  66.75  79.125  10.375  76.1125  71.7625  69.395566\n",
       "PE  64.65  68.400   6.500  64.8750  55.7125  66.047994"
      ]
     },
     "execution_count": 24,
     "metadata": {},
     "output_type": "execute_result"
    }
   ],
   "source": [
    "df_diagonal.loc['PE'] = diagonal\n",
    "df_diagonal"
   ]
  }
 ],
 "metadata": {
  "kernelspec": {
   "display_name": "Python 3 (ipykernel)",
   "language": "python",
   "name": "python3"
  },
  "language_info": {
   "codemirror_mode": {
    "name": "ipython",
    "version": 3
   },
   "file_extension": ".py",
   "mimetype": "text/x-python",
   "name": "python",
   "nbconvert_exporter": "python",
   "pygments_lexer": "ipython3",
   "version": "3.9.7"
  }
 },
 "nbformat": 4,
 "nbformat_minor": 5
}
