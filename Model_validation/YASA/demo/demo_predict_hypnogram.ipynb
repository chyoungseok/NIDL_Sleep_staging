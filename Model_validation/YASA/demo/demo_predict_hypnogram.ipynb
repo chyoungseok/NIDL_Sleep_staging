{
 "cells": [
  {
   "cell_type": "markdown",
   "id": "717c72a5",
   "metadata": {},
   "source": [
    "# edf를 이용하여 predicted hypnogram을 추출하자\n",
    "- ground_truth에서 00:31:00에서 REM이라는 것은, 00:30:30~00:31:00의 epoch이 REM이라는 것!\n",
    "- meas_time_edf_hypno.csv에 있는 시간 정보를 기반으로, ground_truth와 절대 시간을 일치 시킨 후, prediction을 진행함"
   ]
  },
  {
   "cell_type": "markdown",
   "id": "66cf457e",
   "metadata": {},
   "source": [
    "# 1. LE dataset"
   ]
  },
  {
   "cell_type": "code",
   "execution_count": 1,
   "id": "7db1bdbd",
   "metadata": {},
   "outputs": [],
   "source": [
    "import os\n",
    "import pandas as pd\n",
    "import mne\n",
    "import yasa\n",
    "import datetime"
   ]
  },
  {
   "cell_type": "code",
   "execution_count": 2,
   "id": "3c5733c9",
   "metadata": {},
   "outputs": [
    {
     "name": "stdout",
     "output_type": "stream",
     "text": [
      "['LE004-1_edf', 'LE010-3_edf', 'LE011-1_edf', 'LE014-3_edf', 'LE019-1_edf', 'LE020-3_edf', 'LE021-2_edf', 'LE023-3_edf']\n"
     ]
    },
    {
     "data": {
      "text/html": [
       "<div>\n",
       "<style scoped>\n",
       "    .dataframe tbody tr th:only-of-type {\n",
       "        vertical-align: middle;\n",
       "    }\n",
       "\n",
       "    .dataframe tbody tr th {\n",
       "        vertical-align: top;\n",
       "    }\n",
       "\n",
       "    .dataframe thead th {\n",
       "        text-align: right;\n",
       "    }\n",
       "</style>\n",
       "<table border=\"1\" class=\"dataframe\">\n",
       "  <thead>\n",
       "    <tr style=\"text-align: right;\">\n",
       "      <th></th>\n",
       "      <th>hypno_start</th>\n",
       "      <th>hypno_end</th>\n",
       "      <th>edf_start</th>\n",
       "      <th>edf_duration</th>\n",
       "      <th>edf_end</th>\n",
       "      <th>start_mismatch</th>\n",
       "      <th>end_mismatch</th>\n",
       "    </tr>\n",
       "  </thead>\n",
       "  <tbody>\n",
       "    <tr>\n",
       "      <th>LE004</th>\n",
       "      <td>0:31:00</td>\n",
       "      <td>5:52:00</td>\n",
       "      <td>0:17:47</td>\n",
       "      <td>5:34:26</td>\n",
       "      <td>5:52:13</td>\n",
       "      <td>0</td>\n",
       "      <td>0</td>\n",
       "    </tr>\n",
       "    <tr>\n",
       "      <th>LE010</th>\n",
       "      <td>0:24:30</td>\n",
       "      <td>6:36:30</td>\n",
       "      <td>0:16:31</td>\n",
       "      <td>6:20:54</td>\n",
       "      <td>6:37:25</td>\n",
       "      <td>0</td>\n",
       "      <td>0</td>\n",
       "    </tr>\n",
       "    <tr>\n",
       "      <th>LE011</th>\n",
       "      <td>0:13:00</td>\n",
       "      <td>6:39:00</td>\n",
       "      <td>0:10:39</td>\n",
       "      <td>6:36:12</td>\n",
       "      <td>6:46:51</td>\n",
       "      <td>0</td>\n",
       "      <td>0</td>\n",
       "    </tr>\n",
       "    <tr>\n",
       "      <th>LE014</th>\n",
       "      <td>0:24:30</td>\n",
       "      <td>6:08:00</td>\n",
       "      <td>0:18:44</td>\n",
       "      <td>5:49:56</td>\n",
       "      <td>6:08:40</td>\n",
       "      <td>0</td>\n",
       "      <td>0</td>\n",
       "    </tr>\n",
       "    <tr>\n",
       "      <th>LE019</th>\n",
       "      <td>0:32:00</td>\n",
       "      <td>6:18:30</td>\n",
       "      <td>0:12:15</td>\n",
       "      <td>6:07:08</td>\n",
       "      <td>6:19:23</td>\n",
       "      <td>0</td>\n",
       "      <td>0</td>\n",
       "    </tr>\n",
       "    <tr>\n",
       "      <th>LE020</th>\n",
       "      <td>0:24:30</td>\n",
       "      <td>6:13:00</td>\n",
       "      <td>0:19:18</td>\n",
       "      <td>5:54:02</td>\n",
       "      <td>6:13:20</td>\n",
       "      <td>0</td>\n",
       "      <td>0</td>\n",
       "    </tr>\n",
       "    <tr>\n",
       "      <th>LE021</th>\n",
       "      <td>0:35:00</td>\n",
       "      <td>6:08:00</td>\n",
       "      <td>0:32:14</td>\n",
       "      <td>5:36:08</td>\n",
       "      <td>6:08:22</td>\n",
       "      <td>0</td>\n",
       "      <td>0</td>\n",
       "    </tr>\n",
       "    <tr>\n",
       "      <th>LE023</th>\n",
       "      <td>0:33:30</td>\n",
       "      <td>5:45:00</td>\n",
       "      <td>0:32:55</td>\n",
       "      <td>5:13:18</td>\n",
       "      <td>5:46:13</td>\n",
       "      <td>0</td>\n",
       "      <td>0</td>\n",
       "    </tr>\n",
       "  </tbody>\n",
       "</table>\n",
       "</div>"
      ],
      "text/plain": [
       "      hypno_start hypno_end edf_start edf_duration  edf_end  start_mismatch  \\\n",
       "LE004     0:31:00   5:52:00   0:17:47      5:34:26  5:52:13               0   \n",
       "LE010     0:24:30   6:36:30   0:16:31      6:20:54  6:37:25               0   \n",
       "LE011     0:13:00   6:39:00   0:10:39      6:36:12  6:46:51               0   \n",
       "LE014     0:24:30   6:08:00   0:18:44      5:49:56  6:08:40               0   \n",
       "LE019     0:32:00   6:18:30   0:12:15      6:07:08  6:19:23               0   \n",
       "LE020     0:24:30   6:13:00   0:19:18      5:54:02  6:13:20               0   \n",
       "LE021     0:35:00   6:08:00   0:32:14      5:36:08  6:08:22               0   \n",
       "LE023     0:33:30   5:45:00   0:32:55      5:13:18  5:46:13               0   \n",
       "\n",
       "       end_mismatch  \n",
       "LE004             0  \n",
       "LE010             0  \n",
       "LE011             0  \n",
       "LE014             0  \n",
       "LE019             0  \n",
       "LE020             0  \n",
       "LE021             0  \n",
       "LE023             0  "
      ]
     },
     "execution_count": 2,
     "metadata": {},
     "output_type": "execute_result"
    }
   ],
   "source": [
    "path_subjects_edf = 'D:\\\\USC\\\\Sleep dataset\\\\Samsung_data\\\\NEW_EDF'\n",
    "subjects_edf = os.listdir(path_subjects_edf)\n",
    "subjects_edf.sort()\n",
    "print(subjects_edf)\n",
    "\n",
    "meas_time_df = pd.read_csv('D:\\\\USC\\\\code_mine\\\\Exploration_for_VD_dataset\\\\meas_time_edf_hypno.csv', index_col=0)\n",
    "meas_time_df = meas_time_df.loc['LE004':'LE023']\n",
    "meas_time_df"
   ]
  },
  {
   "cell_type": "code",
   "execution_count": 3,
   "id": "e09273be",
   "metadata": {},
   "outputs": [
    {
     "name": "stdout",
     "output_type": "stream",
     "text": [
      "D:\\USC\\Sleep dataset\\Samsung_data\\NEW_EDF\\LE011-1_edf\\Traces.edf\n"
     ]
    }
   ],
   "source": [
    "subject = subjects_edf[2]\n",
    "now_edf = os.path.join(path_subjects_edf, subject, 'Traces.edf')\n",
    "print(now_edf)\n",
    "# raw = mne.io.read_raw_edf(now_edf, preload=True, verbose=False)"
   ]
  },
  {
   "cell_type": "code",
   "execution_count": 4,
   "id": "21a9fe09",
   "metadata": {},
   "outputs": [
    {
     "name": "stdout",
     "output_type": "stream",
     "text": [
      "-- D:\\USC\\Sleep dataset\\Samsung_data\\NEW_EDF\\LE011-1_edf\\Traces.edf\n",
      "[]\n",
      "-- Available Channels: ['SO', 'C3', 'C4', 'IO']\n",
      "-- Edf time before matching: 0:10:39  6:46:51\n",
      "-- Edf time after mathcing: 0:12:30  6:39:00\n",
      "-- ground_truth time: 0:13:00  6:39:00\n"
     ]
    },
    {
     "data": {
      "image/png": "[encoded data removed]",
      "text/plain": [
       "<Figure size 648x216 with 1 Axes>"
      ]
     },
     "metadata": {
      "needs_background": "light"
     },
     "output_type": "display_data"
    },
    {
     "data": {
      "image/png": "[encoded data removed]",
      "text/plain": [
       "<Figure size 648x216 with 1 Axes>"
      ]
     },
     "metadata": {
      "needs_background": "light"
     },
     "output_type": "display_data"
    },
    {
     "data": {
      "image/png": "[encoded data removed]",
      "text/plain": [
       "<Figure size 648x216 with 1 Axes>"
      ]
     },
     "metadata": {
      "needs_background": "light"
     },
     "output_type": "display_data"
    },
    {
     "data": {
      "image/png": "[encoded data removed]",
      "text/plain": [
       "<Figure size 648x216 with 1 Axes>"
      ]
     },
     "metadata": {
      "needs_background": "light"
     },
     "output_type": "display_data"
    }
   ],
   "source": [
    "import staging_yasa\n",
    "staging_yasa.get_yasa_hypnogram(path_subjects_edf, subject, meas_time_df)"
   ]
  },
  {
   "cell_type": "code",
   "execution_count": 42,
   "id": "89b7202b",
   "metadata": {},
   "outputs": [
    {
     "name": "stdout",
     "output_type": "stream",
     "text": [
      "-- Available Channels: ['SO', 'C3', 'C4', 'IO']\n"
     ]
    }
   ],
   "source": [
    "# Channel Select\n",
    "eogs = ['no_eeg', 'SO', 'SO-0', 'SO-1', 'IO']\n",
    "eegs = ['C3', 'C4', 'C3-A2', 'C4-A1']\n",
    "pick_chs = eogs+eegs\n",
    "raw.pick_channels(pick_chs)\n",
    "chs = raw.ch_names\n",
    "print(\"-- Available Channels: {}\".format(chs))"
   ]
  },
  {
   "cell_type": "code",
   "execution_count": 9,
   "id": "44f7a720",
   "metadata": {},
   "outputs": [
    {
     "name": "stdout",
     "output_type": "stream",
     "text": [
      "1\n"
     ]
    }
   ],
   "source": [
    "for i in range(3):\n",
    "    if not(i == 1):\n",
    "        continue\n",
    "    print(i)"
   ]
  },
  {
   "cell_type": "code",
   "execution_count": 63,
   "id": "7eb2462a",
   "metadata": {},
   "outputs": [
    {
     "name": "stdout",
     "output_type": "stream",
     "text": [
      "0:13:00\n",
      "0:10:39\n",
      "6:39:00\n"
     ]
    }
   ],
   "source": [
    "hypno_start = meas_time_df.loc[subject[0:5], 'hypno_start']\n",
    "print(hypno_start)\n",
    "edf_start = meas_time_df.loc[subject[0:5], 'edf_start']\n",
    "print(edf_start)\n",
    "hypno_end = meas_time_df.loc[subject[0:5], 'hypno_end']\n",
    "print(hypno_end)"
   ]
  },
  {
   "cell_type": "code",
   "execution_count": 67,
   "id": "b66448bd",
   "metadata": {},
   "outputs": [],
   "source": [
    "def str_time_to_seconds(time_str):\n",
    "    time = time_str.split(':')\n",
    "    seconds = int(time[0])*3600 + int(time[1])*60 + int(time[2])\n",
    "    \n",
    "    return seconds\n",
    "\n",
    "def seconds_to_str_time(seconds):\n",
    "    time = datetime.timedelta(seconds=seconds)\n",
    "    return time"
   ]
  },
  {
   "cell_type": "code",
   "execution_count": 66,
   "id": "b4c7ab88",
   "metadata": {},
   "outputs": [
    {
     "name": "stdout",
     "output_type": "stream",
     "text": [
      "111\n",
      "6.4725\n"
     ]
    }
   ],
   "source": [
    "# hypno_start-30에 edf_start를 매치 시켜야 한다\n",
    "hypno_start_sec = str_time_to_seconds(hypno_start)\n",
    "hypno_end_sec = str_time_to_seconds(hypno_end)\n",
    "edf_start_sec = str_time_to_seconds(edf_start)\n",
    "\n",
    "new_edf_start_sec = hypno_start_sec-30-edf_start_sec\n",
    "\n",
    "# hypno_end에 edf_end를 매치 시켜야 한다\n",
    "new_edf_end_sec = hypno_end_sec - edf_start_sec"
   ]
  },
  {
   "cell_type": "code",
   "execution_count": 73,
   "id": "b75fc02c",
   "metadata": {},
   "outputs": [
    {
     "name": "stdout",
     "output_type": "stream",
     "text": [
      "0:12:30\n",
      "6:39:00\n"
     ]
    }
   ],
   "source": [
    "print(str(seconds_to_str_time(edf_start_sec+new_edf_start_sec)))\n",
    "print(str(seconds_to_str_time(edf_start_sec+new_edf_end_sec)))"
   ]
  },
  {
   "cell_type": "code",
   "execution_count": 74,
   "id": "e2171461",
   "metadata": {
    "scrolled": true
   },
   "outputs": [
    {
     "data": {
      "text/html": [
       "<table class=\"table table-hover table-striped table-sm table-responsive small\">\n",
       "    <tr>\n",
       "        <th>Measurement date</th>\n",
       "        \n",
       "        <td>March 20, 2018  00:10:39 GMT</td>\n",
       "        \n",
       "    </tr>\n",
       "    <tr>\n",
       "        <th>Experimenter</th>\n",
       "        \n",
       "        <td>Unknown</td>\n",
       "        \n",
       "    </tr>\n",
       "        <th>Participant</th>\n",
       "        \n",
       "        <td>Unknown</td>\n",
       "        \n",
       "    </tr>\n",
       "    <tr>\n",
       "        <th>Digitized points</th>\n",
       "        \n",
       "        <td>0 points</td>\n",
       "        \n",
       "    </tr>\n",
       "    <tr>\n",
       "        <th>Good channels</th>\n",
       "        <td>4 EEG</td>\n",
       "    </tr>\n",
       "    <tr>\n",
       "        <th>Bad channels</th>\n",
       "        <td>None</td>\n",
       "    </tr>\n",
       "    <tr>\n",
       "        <th>EOG channels</th>\n",
       "        <td>Not available</td>\n",
       "    </tr>\n",
       "    <tr>\n",
       "        <th>ECG channels</th>\n",
       "        <td>Not available</td>\n",
       "    \n",
       "    <tr>\n",
       "        <th>Sampling frequency</th>\n",
       "        <td>500.00 Hz</td>\n",
       "    </tr>\n",
       "    \n",
       "    \n",
       "    <tr>\n",
       "        <th>Highpass</th>\n",
       "        <td>0.00 Hz</td>\n",
       "    </tr>\n",
       "    \n",
       "    \n",
       "    <tr>\n",
       "        <th>Lowpass</th>\n",
       "        <td>250.00 Hz</td>\n",
       "    </tr>\n",
       "    \n",
       "    \n",
       "    \n",
       "    <tr>\n",
       "        <th>Filenames</th>\n",
       "        <td>Traces.edf</td>\n",
       "    </tr>\n",
       "    \n",
       "    <tr>\n",
       "        <th>Duration</th>\n",
       "        <td>06:26:30 (HH:MM:SS)</td>\n",
       "    </tr>\n",
       "</table>"
      ],
      "text/plain": [
       "<RawEDF | Traces.edf, 4 x 11595001 (23190.0 s), ~353.9 MB, data loaded>"
      ]
     },
     "execution_count": 74,
     "metadata": {},
     "output_type": "execute_result"
    }
   ],
   "source": [
    "raw.crop(tmin= new_edf_start_sec, tmax=new_edf_end_sec)"
   ]
  },
  {
   "cell_type": "code",
   "execution_count": 75,
   "id": "0be5f6b8",
   "metadata": {},
   "outputs": [],
   "source": [
    "eog='SO'\n",
    "eeg='C3'\n",
    "sls = yasa.SleepStaging(raw, eeg_name=eeg, eog_name=eog)"
   ]
  },
  {
   "cell_type": "code",
   "execution_count": 76,
   "id": "1d314c36",
   "metadata": {},
   "outputs": [],
   "source": [
    "hypno_pred = sls.predict()"
   ]
  },
  {
   "cell_type": "code",
   "execution_count": 77,
   "id": "af369796",
   "metadata": {},
   "outputs": [],
   "source": [
    "hypno_pred = yasa.hypno_str_to_int(hypno_pred) "
   ]
  },
  {
   "cell_type": "code",
   "execution_count": 78,
   "id": "ca4e65c8",
   "metadata": {},
   "outputs": [
    {
     "data": {
      "text/plain": [
       "array([0, 0, 0, 0, 0, 0, 0, 0, 0, 0, 1, 0, 0, 1, 1, 4, 2, 2, 2, 2, 2, 2,\n",
       "       2, 2, 2, 2, 2, 2, 2, 2, 2, 2, 2, 3, 2, 3, 3, 3, 3, 3, 3, 0, 2, 2,\n",
       "       2, 3, 2, 3, 3, 3, 3, 3, 3, 3, 3, 3, 3, 3, 3, 3, 3, 3, 3, 3, 3, 3,\n",
       "       3, 3, 3, 3, 0, 2, 2, 0, 2, 2, 2, 2, 2, 2, 2, 2, 2, 2, 2, 2, 2, 2,\n",
       "       2, 2, 3, 2, 2, 3, 2, 2, 0, 2, 2, 2, 2, 2, 2, 2, 2, 2, 2, 0, 2, 2,\n",
       "       2, 0, 0, 2, 0, 2, 2, 2, 2, 2, 2, 2, 2, 2, 2, 3, 3, 3, 2, 3, 3, 3,\n",
       "       3, 3, 3, 3, 3, 3, 3, 3, 3, 3, 3, 3, 3, 3, 3, 3, 3, 0, 0, 0, 0, 1,\n",
       "       0, 2, 2, 2, 2, 2, 2, 2, 2, 2, 2, 2, 2, 0, 0, 1, 1, 2, 1, 2, 2, 2,\n",
       "       2, 2, 2, 2, 2, 2, 2, 2, 2, 0, 2, 2, 2, 2, 2, 2, 3, 2, 2, 0, 2, 2,\n",
       "       2, 2, 2, 3, 2, 2, 3, 2, 3, 2, 3, 3, 3, 3, 3, 3, 3, 3, 3, 3, 3, 3,\n",
       "       3, 3, 3, 3, 3, 0, 2, 2, 2, 2, 3, 3, 2, 2, 0, 2, 0, 2, 2, 2, 2, 2,\n",
       "       2, 3, 3, 3, 3, 3, 3, 3, 3, 3, 3, 3, 3, 3, 3, 3, 3, 3, 3, 3, 3, 3,\n",
       "       3, 3, 3, 3, 3, 3, 3, 3, 3, 3, 3, 3, 3, 3, 3, 3, 3, 3, 3, 3, 3, 3,\n",
       "       3, 3, 3, 3, 3, 0, 2, 2, 2, 2, 3, 2, 2, 4, 4, 4, 4, 4, 4, 4, 4, 4,\n",
       "       4, 4, 4, 4, 4, 4, 4, 4, 4, 4, 4, 4, 4, 4, 4, 4, 4, 4, 4, 4, 4, 4,\n",
       "       4, 4, 4, 4, 4, 4, 4, 4, 4, 4, 4, 4, 4, 4, 4, 4, 4, 4, 4, 4, 4, 4,\n",
       "       4, 4, 4, 4, 4, 4, 4, 4, 4, 4, 4, 4, 4, 4, 4, 4, 4, 4, 4, 4, 4, 4,\n",
       "       4, 4, 4, 2, 4, 2, 2, 2, 2, 2, 2, 2, 0, 2, 2, 2, 2, 2, 2, 2, 2, 2,\n",
       "       2, 2, 2, 2, 2, 2, 2, 2, 0, 2, 2, 2, 2, 2, 2, 2, 2, 2, 2, 2, 2, 2,\n",
       "       2, 2, 2, 0, 2, 2, 2, 2, 2, 2, 2, 2, 2, 2, 2, 3, 2, 3, 2, 3, 3, 3,\n",
       "       3, 3, 3, 3, 3, 3, 3, 3, 3, 3, 3, 3, 3, 3, 3, 3, 3, 3, 0, 0, 2, 2,\n",
       "       2, 2, 2, 2, 2, 2, 2, 2, 0, 0, 0, 0, 0, 0, 0, 4, 4, 4, 4, 4, 0, 4,\n",
       "       4, 2, 2, 2, 2, 2, 2, 2, 2, 2, 2, 2, 2, 2, 2, 2, 2, 2, 2, 2, 2, 2,\n",
       "       2, 2, 2, 2, 2, 2, 2, 2, 2, 2, 2, 2, 2, 2, 2, 2, 2, 2, 2, 2, 2, 2,\n",
       "       2, 2, 2, 2, 2, 2, 2, 2, 2, 2, 2, 2, 2, 2, 2, 2, 2, 2, 2, 0, 2, 2,\n",
       "       2, 2, 2, 0, 2, 2, 2, 2, 2, 2, 2, 4, 2, 1, 1, 4, 4, 4, 4, 4, 1, 4,\n",
       "       4, 4, 0, 0, 0, 0, 0, 0, 0, 0, 0, 1, 1, 4, 4, 4, 4, 4, 4, 4, 4, 4,\n",
       "       4, 4, 4, 4, 4, 4, 4, 4, 4, 4, 4, 4, 4, 4, 4, 4, 4, 4, 4, 4, 4, 4,\n",
       "       4, 4, 4, 4, 4, 4, 4, 4, 4, 4, 4, 4, 4, 0, 4, 4, 4, 4, 4, 4, 4, 4,\n",
       "       4, 4, 4, 4, 4, 4, 4, 4, 2, 2, 2, 2, 2, 2, 2, 2, 2, 2, 2, 2, 2, 0,\n",
       "       2, 2, 2, 2, 2, 2, 2, 2, 2, 2, 2, 2, 2, 2, 2, 2, 2, 2, 2, 2, 2, 2,\n",
       "       2, 2, 2, 0, 0, 0, 0, 0, 0, 0, 0, 0, 0, 0, 1, 1, 1, 1, 1, 4, 4, 4,\n",
       "       0, 4, 1, 2, 2, 2, 2, 2, 2, 2, 2, 2, 2, 2, 1, 1, 2, 2, 2, 2, 2, 2,\n",
       "       2, 2, 2, 2, 2, 2, 2, 2, 2, 2, 2, 2, 2, 2, 2, 2, 2, 2, 2, 2, 2, 2,\n",
       "       2, 2, 2, 2, 2, 2, 2, 2, 2, 2, 2, 2, 2, 2, 2, 2, 2, 2, 2, 2, 2, 2,\n",
       "       2, 2, 0], dtype=int64)"
      ]
     },
     "execution_count": 78,
     "metadata": {},
     "output_type": "execute_result"
    }
   ],
   "source": [
    "hypno_pred"
   ]
  },
  {
   "cell_type": "code",
   "execution_count": 79,
   "id": "439a5831",
   "metadata": {},
   "outputs": [
    {
     "data": {
      "text/plain": [
       "<AxesSubplot:xlabel='Time [hrs]', ylabel='Stage'>"
      ]
     },
     "execution_count": 79,
     "metadata": {},
     "output_type": "execute_result"
    },
    {
     "data": {
      "image/png": "[encoded data removed]",
      "text/plain": [
       "<Figure size 648x216 with 1 Axes>"
      ]
     },
     "metadata": {
      "needs_background": "light"
     },
     "output_type": "display_data"
    }
   ],
   "source": [
    "yasa.plot_hypnogram(hypno_pred)"
   ]
  },
  {
   "cell_type": "code",
   "execution_count": null,
   "id": "346b935b",
   "metadata": {},
   "outputs": [],
   "source": []
  },
  {
   "cell_type": "code",
   "execution_count": 56,
   "id": "1885288d",
   "metadata": {},
   "outputs": [
    {
     "data": {
      "text/plain": [
       "639"
      ]
     },
     "execution_count": 56,
     "metadata": {},
     "output_type": "execute_result"
    }
   ],
   "source": [
    "str_time_to_seconds(edf_start)"
   ]
  },
  {
   "cell_type": "code",
   "execution_count": 53,
   "id": "c19f9bdf",
   "metadata": {},
   "outputs": [
    {
     "data": {
      "text/plain": [
       "['0', '10', '39']"
      ]
     },
     "execution_count": 53,
     "metadata": {},
     "output_type": "execute_result"
    }
   ],
   "source": [
    "edf_start.split(':')"
   ]
  },
  {
   "cell_type": "code",
   "execution_count": 43,
   "id": "a69f30bd",
   "metadata": {},
   "outputs": [],
   "source": [
    "t = raw.times"
   ]
  },
  {
   "cell_type": "code",
   "execution_count": 45,
   "id": "a451bb16",
   "metadata": {},
   "outputs": [
    {
     "data": {
      "text/plain": [
       "6.603332777777778"
      ]
     },
     "execution_count": 45,
     "metadata": {},
     "output_type": "execute_result"
    }
   ],
   "source": [
    "t[-1]/60/60"
   ]
  },
  {
   "cell_type": "code",
   "execution_count": null,
   "id": "6f5c38d4",
   "metadata": {},
   "outputs": [],
   "source": []
  },
  {
   "cell_type": "code",
   "execution_count": 36,
   "id": "38a8bce9",
   "metadata": {
    "scrolled": true
   },
   "outputs": [
    {
     "data": {
      "text/plain": [
       "['SO', 'C3', 'C4', 'IO']"
      ]
     },
     "execution_count": 36,
     "metadata": {},
     "output_type": "execute_result"
    }
   ],
   "source": [
    "raw.ch_names"
   ]
  },
  {
   "cell_type": "markdown",
   "id": "2b0ea208",
   "metadata": {},
   "source": [
    "# 2. VD dataset"
   ]
  },
  {
   "cell_type": "code",
   "execution_count": null,
   "id": "dad9154a",
   "metadata": {},
   "outputs": [],
   "source": []
  }
 ],
 "metadata": {
  "kernelspec": {
   "display_name": "Python 3 (ipykernel)",
   "language": "python",
   "name": "python3"
  },
  "language_info": {
   "codemirror_mode": {
    "name": "ipython",
    "version": 3
   },
   "file_extension": ".py",
   "mimetype": "text/x-python",
   "name": "python",
   "nbconvert_exporter": "python",
   "pygments_lexer": "ipython3",
   "version": "3.9.7"
  }
 },
 "nbformat": 4,
 "nbformat_minor": 5
}
