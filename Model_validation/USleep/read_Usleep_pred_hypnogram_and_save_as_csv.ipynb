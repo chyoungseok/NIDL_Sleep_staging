{
 "cells": [
  {
   "cell_type": "markdown",
   "id": "88c5bcb2",
   "metadata": {},
   "source": [
    "# Usleep_hypnogram을 읽어서 csv파일로 저장하자\n",
    "\n",
    "- 필요 없는 기타 정보 제거\n",
    "- stage 정보만 추출\n",
    "- 저장 경로: D:\\USC\\code_mine\\Model_validation\\USleep\\hypnograms\\predicted"
   ]
  },
  {
   "cell_type": "markdown",
   "id": "b56c84b2",
   "metadata": {},
   "source": [
    "# 1. LE dataset\n",
    "- 경로: D:\\USC\\Sleep dataset\\Samsung_data\\Staging_label_for_new_edf"
   ]
  },
  {
   "cell_type": "code",
   "execution_count": 1,
   "id": "e1ba9bb2",
   "metadata": {},
   "outputs": [],
   "source": [
    "import os\n",
    "import pandas as pd"
   ]
  },
  {
   "cell_type": "code",
   "execution_count": 2,
   "id": "1973efa1",
   "metadata": {},
   "outputs": [
    {
     "name": "stdout",
     "output_type": "stream",
     "text": [
      "-- Available ground-truth-hypnograms ... \n",
      "   ['LE004', 'LE010', 'LE011', 'LE014', 'LE019', 'LE020', 'LE021', 'LE023']\n"
     ]
    }
   ],
   "source": [
    "path_subjects_hypno = 'D:\\\\USC\\\\code_mine\\\\Model_validation\\\\USleep\\\\hypnograms\\\\predicted'\n",
    "subjects_hypno = os.listdir(path_subjects_hypno)\n",
    "subjects_hypno.sort()\n",
    "print(f\"-- Available ground-truth-hypnograms ... \\n   {subjects_hypno}\")"
   ]
  },
  {
   "cell_type": "code",
   "execution_count": 16,
   "id": "05b6b1cb",
   "metadata": {},
   "outputs": [],
   "source": [
    "def str2num(stages_str):\n",
    "    # input: single hypnogram\n",
    "    stages_int = []\n",
    "    # dictionary to convert string to num\n",
    "    stage_dic = {\"Wake\": 0, \"REM\": 4, \"N1\": 1, \"N2\": 2, \"N3\": 3}\n",
    "    for stage in stages_str:\n",
    "        stages_int.append(stage_dic[stage])\n",
    "    return stages_int\n",
    "\n",
    "def ReadTxtFiles(subject, path_subjects):\n",
    "    # subject 한 명의 hypnogram을 읽어옴\n",
    "    stages = []\n",
    "    with open(os.path.join(path_subjects, subject, subject+'_hypnogram.txt'), 'r') as f:\n",
    "        lines = f.readlines() # Read txt file\n",
    "        lines = lines[2:] # include only valid information which contains the stages\n",
    "        \n",
    "        for line in lines:\n",
    "            stages.append(line.strip())\n",
    "    return stages"
   ]
  },
  {
   "cell_type": "code",
   "execution_count": 17,
   "id": "e16fa347",
   "metadata": {},
   "outputs": [],
   "source": [
    "for subject in subjects_hypno:\n",
    "    stages_str = ReadTxtFiles(subject, path_subjects_hypno)\n",
    "    stages_int = str2num(stages_str)\n",
    "    temp_df = pd.DataFrame(stages_int, columns=['stages'])\n",
    "    \n",
    "    path_save = os.path.join(path_subjects_hypno, subject, subject+'.csv')\n",
    "    temp_df.to_csv(path_or_buf=path_save, index=None)    "
   ]
  },
  {
   "cell_type": "markdown",
   "id": "b26a9ea7",
   "metadata": {},
   "source": [
    "# 2. VD dataset"
   ]
  },
  {
   "cell_type": "code",
   "execution_count": 2,
   "id": "69d38b50",
   "metadata": {},
   "outputs": [
    {
     "name": "stdout",
     "output_type": "stream",
     "text": [
      "-- Available ground-truth-hypnograms ... \n",
      "   ['VD001', 'VD002', 'VD003', 'VD004', 'VD005', 'VD006', 'VD008', 'VD011', 'VD012', 'VD017', 'VD019', 'VD022', 'VD023', 'VD025', 'VD028', 'VD029', 'VD030', 'VD031', 'VD033', 'VD034', 'VD039', 'VD041', 'VD042', 'VD043', 'VD044', 'VD045', 'VD046', 'VD047', 'VD049', 'VD050', 'VD051', 'VD052', 'VD053', 'VD054', 'VD055', 'VD056', 'VD057', 'VD058']\n"
     ]
    }
   ],
   "source": [
    "import os\n",
    "import pandas as pd\n",
    "\n",
    "path_subjects_hypno = 'D:\\\\USC\\\\code_mine\\\\Model_validation\\\\USleep\\\\hypnograms\\\\predicted'\n",
    "subjects_hypno = os.listdir(path_subjects_hypno)\n",
    "subjects_hypno.sort()\n",
    "subjects_hypno = subjects_hypno[8:]\n",
    "print(f\"-- Available ground-truth-hypnograms ... \\n   {subjects_hypno}\")"
   ]
  },
  {
   "cell_type": "code",
   "execution_count": 3,
   "id": "6b62f7ce",
   "metadata": {},
   "outputs": [],
   "source": [
    "def str2num(stages_str):\n",
    "    # input: single hypnogram\n",
    "    stages_int = []\n",
    "    # dictionary to convert string to num\n",
    "    stage_dic = {\"Wake\": 0, \"REM\": 4, \"N1\": 1, \"N2\": 2, \"N3\": 3}\n",
    "    for stage in stages_str:\n",
    "        stages_int.append(stage_dic[stage])\n",
    "    return stages_int\n",
    "\n",
    "def ReadTxtFiles(subject, path_subjects):\n",
    "    # subject 한 명의 hypnogram을 읽어옴\n",
    "    stages = []\n",
    "    with open(os.path.join(path_subjects, subject, subject+'_hypnogram.txt'), 'r') as f:\n",
    "        lines = f.readlines() # Read txt file\n",
    "        lines = lines[2:] # include only valid information which contains the stages\n",
    "        \n",
    "        for line in lines:\n",
    "            stages.append(line.strip())\n",
    "    return stages"
   ]
  },
  {
   "cell_type": "code",
   "execution_count": 4,
   "id": "6c35b7a8",
   "metadata": {},
   "outputs": [],
   "source": [
    "for subject in subjects_hypno:\n",
    "    stages_str = ReadTxtFiles(subject, path_subjects_hypno)\n",
    "    stages_int = str2num(stages_str)\n",
    "    temp_df = pd.DataFrame(stages_int, columns=['stages'])\n",
    "    \n",
    "    path_save = os.path.join(path_subjects_hypno, subject, subject+'.csv')\n",
    "    temp_df.to_csv(path_or_buf=path_save, index=None)    "
   ]
  },
  {
   "cell_type": "code",
   "execution_count": null,
   "id": "4e8d92f3",
   "metadata": {},
   "outputs": [],
   "source": []
  }
 ],
 "metadata": {
  "kernelspec": {
   "display_name": "Python 3 (ipykernel)",
   "language": "python",
   "name": "python3"
  },
  "language_info": {
   "codemirror_mode": {
    "name": "ipython",
    "version": 3
   },
   "file_extension": ".py",
   "mimetype": "text/x-python",
   "name": "python",
   "nbconvert_exporter": "python",
   "pygments_lexer": "ipython3",
   "version": "3.9.7"
  }
 },
 "nbformat": 4,
 "nbformat_minor": 5
}
