{
 "cells": [
  {
   "cell_type": "markdown",
   "id": "55394570",
   "metadata": {},
   "source": [
    "# USleep 기반으로 구한 hypnogram을 ground_truth와 비교하여 accuracy 계산"
   ]
  },
  {
   "cell_type": "code",
   "execution_count": 1,
   "id": "6442916c",
   "metadata": {},
   "outputs": [],
   "source": [
    "import os\n",
    "import yasa\n",
    "import pandas as pd\n",
    "import get_acc_matrix"
   ]
  },
  {
   "cell_type": "code",
   "execution_count": 2,
   "id": "b259108e",
   "metadata": {},
   "outputs": [
    {
     "name": "stdout",
     "output_type": "stream",
     "text": [
      "['LE004.csv', 'LE010.csv', 'LE011.csv', 'LE014.csv', 'LE019.csv', 'LE020.csv', 'LE021.csv', 'LE023.csv']\n",
      "['LE004', 'LE010', 'LE011', 'LE014', 'LE019', 'LE020', 'LE021', 'LE023']\n"
     ]
    }
   ],
   "source": [
    "path_subejcts_g_hpyno = 'D:\\\\USC\\\\code_mine\\\\Model_validation\\\\USleep\\\\hypnograms\\\\ground_truth' \n",
    "subjects_g_hypno = os.listdir(path_subejcts_g_hpyno)\n",
    "subjects_g_hypno.sort()\n",
    "print(subjects_g_hypno)\n",
    "\n",
    "path_subejcts_p_hpyno = 'D:\\\\USC\\\\code_mine\\\\Model_validation\\\\USleep\\\\hypnograms\\\\predicted' \n",
    "subjects_p_hypno = os.listdir(path_subejcts_p_hpyno)\n",
    "subjects_p_hypno.sort()\n",
    "print(subjects_p_hypno)"
   ]
  },
  {
   "cell_type": "markdown",
   "id": "9f66618d",
   "metadata": {},
   "source": [
    "## LE004"
   ]
  },
  {
   "cell_type": "code",
   "execution_count": 3,
   "id": "2303d350",
   "metadata": {
    "scrolled": true
   },
   "outputs": [
    {
     "name": "stdout",
     "output_type": "stream",
     "text": [
      "-- now ground_truth:\n",
      "   D:\\USC\\code_mine\\Model_validation\\USleep\\hypnograms\\ground_truth\\LE004.csv\n",
      "\n",
      "-- pridicted hypnograms: LE004.csv\n",
      "==================================\n",
      "      Wake     R    N1    N2    N3\n",
      "Wake  74.3   5.7   8.6  11.4   0.0\n",
      "R      2.0  33.0   9.1  55.8   0.0\n",
      "N1    20.7   0.0  27.6  44.8   6.9\n",
      "N2     3.0   3.4   1.1  85.1   7.5\n",
      "N3     0.0   0.0   0.0  62.3  37.7\n"
     ]
    },
    {
     "data": {
      "text/html": [
       "<div>\n",
       "<style scoped>\n",
       "    .dataframe tbody tr th:only-of-type {\n",
       "        vertical-align: middle;\n",
       "    }\n",
       "\n",
       "    .dataframe tbody tr th {\n",
       "        vertical-align: top;\n",
       "    }\n",
       "\n",
       "    .dataframe thead th {\n",
       "        text-align: right;\n",
       "    }\n",
       "</style>\n",
       "<table border=\"1\" class=\"dataframe\">\n",
       "  <thead>\n",
       "    <tr style=\"text-align: right;\">\n",
       "      <th></th>\n",
       "      <th>acc</th>\n",
       "    </tr>\n",
       "  </thead>\n",
       "  <tbody>\n",
       "    <tr>\n",
       "      <th>LE004.csv</th>\n",
       "      <td>57.542768</td>\n",
       "    </tr>\n",
       "    <tr>\n",
       "      <th>LE004_hypnogram.txt</th>\n",
       "      <td>57.542768</td>\n",
       "    </tr>\n",
       "    <tr>\n",
       "      <th>LE004_prediction.log</th>\n",
       "      <td>57.542768</td>\n",
       "    </tr>\n",
       "  </tbody>\n",
       "</table>\n",
       "</div>"
      ],
      "text/plain": [
       "                            acc\n",
       "LE004.csv             57.542768\n",
       "LE004_hypnogram.txt   57.542768\n",
       "LE004_prediction.log  57.542768"
      ]
     },
     "execution_count": 3,
     "metadata": {},
     "output_type": "execute_result"
    }
   ],
   "source": [
    "sub_num = 0\n",
    "\n",
    "path_g_hypno = os.path.join(path_subejcts_g_hpyno, subjects_g_hypno[sub_num])\n",
    "print(f\"-- now ground_truth:\\n   {path_g_hypno}\")\n",
    "g_hypno = pd.read_csv(path_g_hypno).squeeze()\n",
    "\n",
    "csv_p_hypnos = os.listdir(os.path.join(path_subejcts_p_hpyno, subjects_p_hypno[sub_num]))\n",
    "print(f\"\\n-- pridicted hypnograms: {csv_p_hypnos[0]}\")\n",
    "\n",
    "total_acc_1 = []\n",
    "\n",
    "path_p_hypno = os.path.join(path_subejcts_p_hpyno, subjects_p_hypno[sub_num], csv_p_hypnos[0])\n",
    "p_hypno = pd.read_csv(path_p_hypno).squeeze()\n",
    "\n",
    "accuracy = (g_hypno == p_hypno).sum() / p_hypno.size * 100\n",
    "total_acc_1.append(accuracy)\n",
    "matrix = get_acc_matrix.get_acc_matrix(g_hypno, p_hypno)\n",
    "print('==================================')\n",
    "print(matrix)\n",
    "\n",
    "dic_acc = {\n",
    "    'acc': total_acc_1\n",
    "}\n",
    "\n",
    "df_acc = pd.DataFrame(dic_acc, index=csv_p_hypnos)\n",
    "df_acc\n",
    "#     print('   -- {} --> %.2f %%'.format(csv_p_hypno[1:]) % accuracy)"
   ]
  },
  {
   "cell_type": "markdown",
   "id": "861e3eda",
   "metadata": {},
   "source": [
    "# LE010"
   ]
  },
  {
   "cell_type": "code",
   "execution_count": 4,
   "id": "6df1e5b0",
   "metadata": {},
   "outputs": [
    {
     "name": "stdout",
     "output_type": "stream",
     "text": [
      "-- now ground_truth:\n",
      "   D:\\USC\\code_mine\\Model_validation\\USleep\\hypnograms\\ground_truth\\LE010.csv\n",
      "\n",
      "-- pridicted hypnograms: LE010.csv\n",
      "==================================\n",
      "      Wake     R    N1    N2    N3\n",
      "Wake  50.0  17.9   0.0  25.0   7.1\n",
      "R      0.0  95.0   0.5   4.6   0.0\n",
      "N1     4.0  14.0  28.0  46.0   8.0\n",
      "N2     0.3   0.0   0.5  84.2  15.0\n",
      "N3     0.0   0.0   0.0   9.1  90.9\n"
     ]
    },
    {
     "data": {
      "text/html": [
       "<div>\n",
       "<style scoped>\n",
       "    .dataframe tbody tr th:only-of-type {\n",
       "        vertical-align: middle;\n",
       "    }\n",
       "\n",
       "    .dataframe tbody tr th {\n",
       "        vertical-align: top;\n",
       "    }\n",
       "\n",
       "    .dataframe thead th {\n",
       "        text-align: right;\n",
       "    }\n",
       "</style>\n",
       "<table border=\"1\" class=\"dataframe\">\n",
       "  <thead>\n",
       "    <tr style=\"text-align: right;\">\n",
       "      <th></th>\n",
       "      <th>acc</th>\n",
       "    </tr>\n",
       "  </thead>\n",
       "  <tbody>\n",
       "    <tr>\n",
       "      <th>LE010.csv</th>\n",
       "      <td>82.818792</td>\n",
       "    </tr>\n",
       "    <tr>\n",
       "      <th>LE010_hypnogram.txt</th>\n",
       "      <td>82.818792</td>\n",
       "    </tr>\n",
       "    <tr>\n",
       "      <th>LE010_prediction.log</th>\n",
       "      <td>82.818792</td>\n",
       "    </tr>\n",
       "  </tbody>\n",
       "</table>\n",
       "</div>"
      ],
      "text/plain": [
       "                            acc\n",
       "LE010.csv             82.818792\n",
       "LE010_hypnogram.txt   82.818792\n",
       "LE010_prediction.log  82.818792"
      ]
     },
     "execution_count": 4,
     "metadata": {},
     "output_type": "execute_result"
    }
   ],
   "source": [
    "sub_num += 1\n",
    "\n",
    "path_g_hypno = os.path.join(path_subejcts_g_hpyno, subjects_g_hypno[sub_num])\n",
    "print(f\"-- now ground_truth:\\n   {path_g_hypno}\")\n",
    "g_hypno = pd.read_csv(path_g_hypno).squeeze()\n",
    "\n",
    "csv_p_hypnos = os.listdir(os.path.join(path_subejcts_p_hpyno, subjects_p_hypno[sub_num]))\n",
    "print(f\"\\n-- pridicted hypnograms: {csv_p_hypnos[0]}\")\n",
    "\n",
    "total_acc_2 = []\n",
    "\n",
    "path_p_hypno = os.path.join(path_subejcts_p_hpyno, subjects_p_hypno[sub_num], csv_p_hypnos[0])\n",
    "p_hypno = pd.read_csv(path_p_hypno).squeeze()\n",
    "\n",
    "accuracy = (g_hypno == p_hypno).sum() / p_hypno.size * 100\n",
    "total_acc_2.append(accuracy)\n",
    "matrix = get_acc_matrix.get_acc_matrix(g_hypno, p_hypno)\n",
    "print('==================================')\n",
    "print(matrix)\n",
    "\n",
    "dic_acc = {\n",
    "    'acc': total_acc_2\n",
    "}\n",
    "\n",
    "df_acc = pd.DataFrame(dic_acc, index=csv_p_hypnos)\n",
    "df_acc\n",
    "#     print('   -- {} --> %.2f %%'.format(csv_p_hypno[1:]) % accuracy)"
   ]
  },
  {
   "cell_type": "markdown",
   "id": "0bccfbb5",
   "metadata": {},
   "source": [
    "# LE011"
   ]
  },
  {
   "cell_type": "code",
   "execution_count": 5,
   "id": "6ca65471",
   "metadata": {},
   "outputs": [
    {
     "name": "stdout",
     "output_type": "stream",
     "text": [
      "-- now ground_truth:\n",
      "   D:\\USC\\code_mine\\Model_validation\\USleep\\hypnograms\\ground_truth\\LE011.csv\n",
      "\n",
      "-- pridicted hypnograms: LE011.csv\n",
      "==================================\n",
      "      Wake     R    N1    N2    N3\n",
      "Wake  54.5   7.6   6.1  25.8   6.1\n",
      "R      0.8  86.7   7.5   5.0   0.0\n",
      "N1    15.6   4.7  40.6  37.5   1.6\n",
      "N2     1.5   1.5   2.7  84.7   9.5\n",
      "N3     0.0   0.0   0.0  12.7  87.3\n"
     ]
    },
    {
     "data": {
      "text/html": [
       "<div>\n",
       "<style scoped>\n",
       "    .dataframe tbody tr th:only-of-type {\n",
       "        vertical-align: middle;\n",
       "    }\n",
       "\n",
       "    .dataframe tbody tr th {\n",
       "        vertical-align: top;\n",
       "    }\n",
       "\n",
       "    .dataframe thead th {\n",
       "        text-align: right;\n",
       "    }\n",
       "</style>\n",
       "<table border=\"1\" class=\"dataframe\">\n",
       "  <thead>\n",
       "    <tr style=\"text-align: right;\">\n",
       "      <th></th>\n",
       "      <th>acc</th>\n",
       "    </tr>\n",
       "  </thead>\n",
       "  <tbody>\n",
       "    <tr>\n",
       "      <th>LE011.csv</th>\n",
       "      <td>79.042691</td>\n",
       "    </tr>\n",
       "    <tr>\n",
       "      <th>LE011_hypnogram.txt</th>\n",
       "      <td>79.042691</td>\n",
       "    </tr>\n",
       "    <tr>\n",
       "      <th>LE011_prediction.log</th>\n",
       "      <td>79.042691</td>\n",
       "    </tr>\n",
       "  </tbody>\n",
       "</table>\n",
       "</div>"
      ],
      "text/plain": [
       "                            acc\n",
       "LE011.csv             79.042691\n",
       "LE011_hypnogram.txt   79.042691\n",
       "LE011_prediction.log  79.042691"
      ]
     },
     "execution_count": 5,
     "metadata": {},
     "output_type": "execute_result"
    }
   ],
   "source": [
    "sub_num += 1\n",
    "\n",
    "path_g_hypno = os.path.join(path_subejcts_g_hpyno, subjects_g_hypno[sub_num])\n",
    "print(f\"-- now ground_truth:\\n   {path_g_hypno}\")\n",
    "g_hypno = pd.read_csv(path_g_hypno).squeeze()\n",
    "\n",
    "csv_p_hypnos = os.listdir(os.path.join(path_subejcts_p_hpyno, subjects_p_hypno[sub_num]))\n",
    "print(f\"\\n-- pridicted hypnograms: {csv_p_hypnos[0]}\")\n",
    "\n",
    "total_acc_3 = []\n",
    "\n",
    "path_p_hypno = os.path.join(path_subejcts_p_hpyno, subjects_p_hypno[sub_num], csv_p_hypnos[0])\n",
    "p_hypno = pd.read_csv(path_p_hypno).squeeze()\n",
    "\n",
    "accuracy = (g_hypno == p_hypno).sum() / p_hypno.size * 100\n",
    "total_acc_3.append(accuracy)\n",
    "matrix = get_acc_matrix.get_acc_matrix(g_hypno, p_hypno)\n",
    "print('==================================')\n",
    "print(matrix)\n",
    "\n",
    "dic_acc = {\n",
    "    'acc': total_acc_3\n",
    "}\n",
    "\n",
    "df_acc = pd.DataFrame(dic_acc, index=csv_p_hypnos)\n",
    "df_acc\n",
    "#     print('   -- {} --> %.2f %%'.format(csv_p_hypno[1:]) % accuracy)"
   ]
  },
  {
   "cell_type": "markdown",
   "id": "ce181fe4",
   "metadata": {},
   "source": [
    "# LE014"
   ]
  },
  {
   "cell_type": "code",
   "execution_count": 6,
   "id": "3c552c34",
   "metadata": {},
   "outputs": [
    {
     "name": "stdout",
     "output_type": "stream",
     "text": [
      "-- now ground_truth:\n",
      "   D:\\USC\\code_mine\\Model_validation\\USleep\\hypnograms\\ground_truth\\LE014.csv\n",
      "\n",
      "-- pridicted hypnograms: LE014.csv\n",
      "==================================\n",
      "      Wake     R    N1    N2    N3\n",
      "Wake  76.0  12.0   4.0   8.0   0.0\n",
      "R      3.0  77.4   9.0  10.6   0.0\n",
      "N1     9.5   0.0  33.3  55.6   1.6\n",
      "N2     0.0   0.0   0.9  92.3   6.8\n",
      "N3     0.0   0.0   0.0   0.6  99.4\n"
     ]
    },
    {
     "data": {
      "text/html": [
       "<div>\n",
       "<style scoped>\n",
       "    .dataframe tbody tr th:only-of-type {\n",
       "        vertical-align: middle;\n",
       "    }\n",
       "\n",
       "    .dataframe tbody tr th {\n",
       "        vertical-align: top;\n",
       "    }\n",
       "\n",
       "    .dataframe thead th {\n",
       "        text-align: right;\n",
       "    }\n",
       "</style>\n",
       "<table border=\"1\" class=\"dataframe\">\n",
       "  <thead>\n",
       "    <tr style=\"text-align: right;\">\n",
       "      <th></th>\n",
       "      <th>acc</th>\n",
       "    </tr>\n",
       "  </thead>\n",
       "  <tbody>\n",
       "    <tr>\n",
       "      <th>LE014.csv</th>\n",
       "      <td>83.72093</td>\n",
       "    </tr>\n",
       "    <tr>\n",
       "      <th>LE014_hypnogram.txt</th>\n",
       "      <td>83.72093</td>\n",
       "    </tr>\n",
       "    <tr>\n",
       "      <th>LE014_prediction.log</th>\n",
       "      <td>83.72093</td>\n",
       "    </tr>\n",
       "  </tbody>\n",
       "</table>\n",
       "</div>"
      ],
      "text/plain": [
       "                           acc\n",
       "LE014.csv             83.72093\n",
       "LE014_hypnogram.txt   83.72093\n",
       "LE014_prediction.log  83.72093"
      ]
     },
     "execution_count": 6,
     "metadata": {},
     "output_type": "execute_result"
    }
   ],
   "source": [
    "sub_num += 1\n",
    "\n",
    "path_g_hypno = os.path.join(path_subejcts_g_hpyno, subjects_g_hypno[sub_num])\n",
    "print(f\"-- now ground_truth:\\n   {path_g_hypno}\")\n",
    "g_hypno = pd.read_csv(path_g_hypno).squeeze()\n",
    "\n",
    "csv_p_hypnos = os.listdir(os.path.join(path_subejcts_p_hpyno, subjects_p_hypno[sub_num]))\n",
    "print(f\"\\n-- pridicted hypnograms: {csv_p_hypnos[0]}\")\n",
    "\n",
    "total_acc_4 = []\n",
    "\n",
    "path_p_hypno = os.path.join(path_subejcts_p_hpyno, subjects_p_hypno[sub_num], csv_p_hypnos[0])\n",
    "p_hypno = pd.read_csv(path_p_hypno).squeeze()\n",
    "\n",
    "accuracy = (g_hypno == p_hypno).sum() / p_hypno.size * 100\n",
    "total_acc_4.append(accuracy)\n",
    "matrix = get_acc_matrix.get_acc_matrix(g_hypno, p_hypno)\n",
    "print('==================================')\n",
    "print(matrix)\n",
    "\n",
    "dic_acc = {\n",
    "    'acc': total_acc_4\n",
    "}\n",
    "\n",
    "df_acc = pd.DataFrame(dic_acc, index=csv_p_hypnos)\n",
    "df_acc\n",
    "#     print('   -- {} --> %.2f %%'.format(csv_p_hypno[1:]) % accuracy)"
   ]
  },
  {
   "cell_type": "markdown",
   "id": "df815ddb",
   "metadata": {},
   "source": [
    "# LE019"
   ]
  },
  {
   "cell_type": "code",
   "execution_count": 7,
   "id": "fab2e43a",
   "metadata": {},
   "outputs": [
    {
     "name": "stdout",
     "output_type": "stream",
     "text": [
      "-- now ground_truth:\n",
      "   D:\\USC\\code_mine\\Model_validation\\USleep\\hypnograms\\ground_truth\\LE019.csv\n",
      "\n",
      "-- pridicted hypnograms: LE019.csv\n",
      "==================================\n",
      "      Wake     R    N1    N2    N3\n",
      "Wake  50.0   3.3  13.3  33.3   0.0\n",
      "R      0.0  96.0   0.7   3.4   0.0\n",
      "N1    14.3  10.7  17.9  53.6   3.6\n",
      "N2     0.2   0.7   1.6  84.1  13.4\n",
      "N3     0.0   0.0   0.0  48.1  51.9\n"
     ]
    },
    {
     "data": {
      "text/html": [
       "<div>\n",
       "<style scoped>\n",
       "    .dataframe tbody tr th:only-of-type {\n",
       "        vertical-align: middle;\n",
       "    }\n",
       "\n",
       "    .dataframe tbody tr th {\n",
       "        vertical-align: top;\n",
       "    }\n",
       "\n",
       "    .dataframe thead th {\n",
       "        text-align: right;\n",
       "    }\n",
       "</style>\n",
       "<table border=\"1\" class=\"dataframe\">\n",
       "  <thead>\n",
       "    <tr style=\"text-align: right;\">\n",
       "      <th></th>\n",
       "      <th>acc</th>\n",
       "    </tr>\n",
       "  </thead>\n",
       "  <tbody>\n",
       "    <tr>\n",
       "      <th>LE019.csv</th>\n",
       "      <td>79.971182</td>\n",
       "    </tr>\n",
       "    <tr>\n",
       "      <th>LE019_hypnogram.txt</th>\n",
       "      <td>79.971182</td>\n",
       "    </tr>\n",
       "    <tr>\n",
       "      <th>LE019_prediction.log</th>\n",
       "      <td>79.971182</td>\n",
       "    </tr>\n",
       "  </tbody>\n",
       "</table>\n",
       "</div>"
      ],
      "text/plain": [
       "                            acc\n",
       "LE019.csv             79.971182\n",
       "LE019_hypnogram.txt   79.971182\n",
       "LE019_prediction.log  79.971182"
      ]
     },
     "execution_count": 7,
     "metadata": {},
     "output_type": "execute_result"
    }
   ],
   "source": [
    "sub_num += 1\n",
    "\n",
    "path_g_hypno = os.path.join(path_subejcts_g_hpyno, subjects_g_hypno[sub_num])\n",
    "print(f\"-- now ground_truth:\\n   {path_g_hypno}\")\n",
    "g_hypno = pd.read_csv(path_g_hypno).squeeze()\n",
    "\n",
    "csv_p_hypnos = os.listdir(os.path.join(path_subejcts_p_hpyno, subjects_p_hypno[sub_num]))\n",
    "print(f\"\\n-- pridicted hypnograms: {csv_p_hypnos[0]}\")\n",
    "\n",
    "total_acc_5 = []\n",
    "\n",
    "path_p_hypno = os.path.join(path_subejcts_p_hpyno, subjects_p_hypno[sub_num], csv_p_hypnos[0])\n",
    "p_hypno = pd.read_csv(path_p_hypno).squeeze()\n",
    "\n",
    "accuracy = (g_hypno == p_hypno).sum() / p_hypno.size * 100\n",
    "total_acc_5.append(accuracy)\n",
    "matrix = get_acc_matrix.get_acc_matrix(g_hypno, p_hypno)\n",
    "print('==================================')\n",
    "print(matrix)\n",
    "\n",
    "dic_acc = {\n",
    "    'acc': total_acc_5\n",
    "}\n",
    "\n",
    "df_acc = pd.DataFrame(dic_acc, index=csv_p_hypnos)\n",
    "df_acc\n",
    "#     print('   -- {} --> %.2f %%'.format(csv_p_hypno[1:]) % accuracy)"
   ]
  },
  {
   "cell_type": "markdown",
   "id": "d3a78f37",
   "metadata": {},
   "source": [
    "# LE020"
   ]
  },
  {
   "cell_type": "code",
   "execution_count": 8,
   "id": "a2ee3f9f",
   "metadata": {},
   "outputs": [
    {
     "name": "stdout",
     "output_type": "stream",
     "text": [
      "-- now ground_truth:\n",
      "   D:\\USC\\code_mine\\Model_validation\\USleep\\hypnograms\\ground_truth\\LE020.csv\n",
      "\n",
      "-- pridicted hypnograms: LE020.csv\n",
      "==================================\n",
      "      Wake     R    N1    N2    N3\n",
      "Wake  47.8   4.3   4.3  39.1   4.3\n",
      "R      0.0  97.4   0.0   2.6   0.0\n",
      "N1    10.9   0.0  15.6  65.6   7.8\n",
      "N2     0.4   0.0   3.6  91.2   4.8\n",
      "N3     0.0   0.0   0.0  25.3  74.7\n"
     ]
    },
    {
     "data": {
      "text/html": [
       "<div>\n",
       "<style scoped>\n",
       "    .dataframe tbody tr th:only-of-type {\n",
       "        vertical-align: middle;\n",
       "    }\n",
       "\n",
       "    .dataframe tbody tr th {\n",
       "        vertical-align: top;\n",
       "    }\n",
       "\n",
       "    .dataframe thead th {\n",
       "        text-align: right;\n",
       "    }\n",
       "</style>\n",
       "<table border=\"1\" class=\"dataframe\">\n",
       "  <thead>\n",
       "    <tr style=\"text-align: right;\">\n",
       "      <th></th>\n",
       "      <th>acc</th>\n",
       "    </tr>\n",
       "  </thead>\n",
       "  <tbody>\n",
       "    <tr>\n",
       "      <th>LE020.csv</th>\n",
       "      <td>78.366762</td>\n",
       "    </tr>\n",
       "    <tr>\n",
       "      <th>LE020_hypnogram.txt</th>\n",
       "      <td>78.366762</td>\n",
       "    </tr>\n",
       "    <tr>\n",
       "      <th>LE020_prediction.log</th>\n",
       "      <td>78.366762</td>\n",
       "    </tr>\n",
       "  </tbody>\n",
       "</table>\n",
       "</div>"
      ],
      "text/plain": [
       "                            acc\n",
       "LE020.csv             78.366762\n",
       "LE020_hypnogram.txt   78.366762\n",
       "LE020_prediction.log  78.366762"
      ]
     },
     "execution_count": 8,
     "metadata": {},
     "output_type": "execute_result"
    }
   ],
   "source": [
    "sub_num += 1\n",
    "\n",
    "path_g_hypno = os.path.join(path_subejcts_g_hpyno, subjects_g_hypno[sub_num])\n",
    "print(f\"-- now ground_truth:\\n   {path_g_hypno}\")\n",
    "g_hypno = pd.read_csv(path_g_hypno).squeeze()\n",
    "\n",
    "csv_p_hypnos = os.listdir(os.path.join(path_subejcts_p_hpyno, subjects_p_hypno[sub_num]))\n",
    "print(f\"\\n-- pridicted hypnograms: {csv_p_hypnos[0]}\")\n",
    "\n",
    "total_acc_6 = []\n",
    "\n",
    "path_p_hypno = os.path.join(path_subejcts_p_hpyno, subjects_p_hypno[sub_num], csv_p_hypnos[0])\n",
    "p_hypno = pd.read_csv(path_p_hypno).squeeze()\n",
    "\n",
    "accuracy = (g_hypno == p_hypno).sum() / p_hypno.size * 100\n",
    "total_acc_6.append(accuracy)\n",
    "matrix = get_acc_matrix.get_acc_matrix(g_hypno, p_hypno)\n",
    "print('==================================')\n",
    "print(matrix)\n",
    "\n",
    "dic_acc = {\n",
    "    'acc': total_acc_6\n",
    "}\n",
    "\n",
    "df_acc = pd.DataFrame(dic_acc, index=csv_p_hypnos)\n",
    "df_acc\n",
    "#     print('   -- {} --> %.2f %%'.format(csv_p_hypno[1:]) % accuracy)"
   ]
  },
  {
   "cell_type": "markdown",
   "id": "e2061aab",
   "metadata": {},
   "source": [
    "# LE021"
   ]
  },
  {
   "cell_type": "code",
   "execution_count": 9,
   "id": "e0cc6311",
   "metadata": {},
   "outputs": [
    {
     "name": "stdout",
     "output_type": "stream",
     "text": [
      "-- now ground_truth:\n",
      "   D:\\USC\\code_mine\\Model_validation\\USleep\\hypnograms\\ground_truth\\LE021.csv\n",
      "\n",
      "-- pridicted hypnograms: LE021.csv\n",
      "==================================\n",
      "      Wake     R    N1    N2    N3\n",
      "Wake  34.3   2.9   0.0  57.1   5.7\n",
      "R      0.0  83.8   1.7  14.5   0.0\n",
      "N1    18.8   9.4  28.1  43.8   0.0\n",
      "N2     0.7   0.3   0.3  88.0  10.6\n",
      "N3     0.0   0.0   0.0   8.1  91.9\n"
     ]
    },
    {
     "data": {
      "text/html": [
       "<div>\n",
       "<style scoped>\n",
       "    .dataframe tbody tr th:only-of-type {\n",
       "        vertical-align: middle;\n",
       "    }\n",
       "\n",
       "    .dataframe tbody tr th {\n",
       "        vertical-align: top;\n",
       "    }\n",
       "\n",
       "    .dataframe thead th {\n",
       "        text-align: right;\n",
       "    }\n",
       "</style>\n",
       "<table border=\"1\" class=\"dataframe\">\n",
       "  <thead>\n",
       "    <tr style=\"text-align: right;\">\n",
       "      <th></th>\n",
       "      <th>acc</th>\n",
       "    </tr>\n",
       "  </thead>\n",
       "  <tbody>\n",
       "    <tr>\n",
       "      <th>LE021.csv</th>\n",
       "      <td>82.008996</td>\n",
       "    </tr>\n",
       "    <tr>\n",
       "      <th>LE021_hypnogram.txt</th>\n",
       "      <td>82.008996</td>\n",
       "    </tr>\n",
       "    <tr>\n",
       "      <th>LE021_prediction.log</th>\n",
       "      <td>82.008996</td>\n",
       "    </tr>\n",
       "  </tbody>\n",
       "</table>\n",
       "</div>"
      ],
      "text/plain": [
       "                            acc\n",
       "LE021.csv             82.008996\n",
       "LE021_hypnogram.txt   82.008996\n",
       "LE021_prediction.log  82.008996"
      ]
     },
     "execution_count": 9,
     "metadata": {},
     "output_type": "execute_result"
    }
   ],
   "source": [
    "sub_num += 1\n",
    "\n",
    "path_g_hypno = os.path.join(path_subejcts_g_hpyno, subjects_g_hypno[sub_num])\n",
    "print(f\"-- now ground_truth:\\n   {path_g_hypno}\")\n",
    "g_hypno = pd.read_csv(path_g_hypno).squeeze()\n",
    "\n",
    "csv_p_hypnos = os.listdir(os.path.join(path_subejcts_p_hpyno, subjects_p_hypno[sub_num]))\n",
    "print(f\"\\n-- pridicted hypnograms: {csv_p_hypnos[0]}\")\n",
    "\n",
    "total_acc_7 = []\n",
    "\n",
    "path_p_hypno = os.path.join(path_subejcts_p_hpyno, subjects_p_hypno[sub_num], csv_p_hypnos[0])\n",
    "p_hypno = pd.read_csv(path_p_hypno).squeeze()\n",
    "\n",
    "accuracy = (g_hypno == p_hypno).sum() / p_hypno.size * 100\n",
    "total_acc_7.append(accuracy)\n",
    "matrix = get_acc_matrix.get_acc_matrix(g_hypno, p_hypno)\n",
    "print('==================================')\n",
    "print(matrix)\n",
    "\n",
    "dic_acc = {\n",
    "    'acc': total_acc_7\n",
    "}\n",
    "\n",
    "df_acc = pd.DataFrame(dic_acc, index=csv_p_hypnos)\n",
    "df_acc\n",
    "#     print('   -- {} --> %.2f %%'.format(csv_p_hypno[1:]) % accuracy)"
   ]
  },
  {
   "cell_type": "markdown",
   "id": "a2bd2213",
   "metadata": {},
   "source": [
    "# LE023"
   ]
  },
  {
   "cell_type": "code",
   "execution_count": 10,
   "id": "df0582bb",
   "metadata": {},
   "outputs": [
    {
     "name": "stdout",
     "output_type": "stream",
     "text": [
      "-- now ground_truth:\n",
      "   D:\\USC\\code_mine\\Model_validation\\USleep\\hypnograms\\ground_truth\\LE023.csv\n",
      "\n",
      "-- pridicted hypnograms: LE023.csv\n",
      "==================================\n",
      "      Wake     R    N1    N2    N3\n",
      "Wake  69.1  12.7   1.8  16.4   0.0\n",
      "R      0.0  72.6   0.9  26.5   0.0\n",
      "N1     6.7   5.6  25.8  59.6   2.2\n",
      "N2     0.0   3.7   4.6  90.5   1.2\n",
      "N3     0.0   0.0   0.0  36.9  63.1\n"
     ]
    },
    {
     "data": {
      "text/html": [
       "<div>\n",
       "<style scoped>\n",
       "    .dataframe tbody tr th:only-of-type {\n",
       "        vertical-align: middle;\n",
       "    }\n",
       "\n",
       "    .dataframe tbody tr th {\n",
       "        vertical-align: top;\n",
       "    }\n",
       "\n",
       "    .dataframe thead th {\n",
       "        text-align: right;\n",
       "    }\n",
       "</style>\n",
       "<table border=\"1\" class=\"dataframe\">\n",
       "  <thead>\n",
       "    <tr style=\"text-align: right;\">\n",
       "      <th></th>\n",
       "      <th>acc</th>\n",
       "    </tr>\n",
       "  </thead>\n",
       "  <tbody>\n",
       "    <tr>\n",
       "      <th>LE023.csv</th>\n",
       "      <td>70.673077</td>\n",
       "    </tr>\n",
       "    <tr>\n",
       "      <th>LE023_hypnogram.txt</th>\n",
       "      <td>70.673077</td>\n",
       "    </tr>\n",
       "    <tr>\n",
       "      <th>LE023_prediction.log</th>\n",
       "      <td>70.673077</td>\n",
       "    </tr>\n",
       "  </tbody>\n",
       "</table>\n",
       "</div>"
      ],
      "text/plain": [
       "                            acc\n",
       "LE023.csv             70.673077\n",
       "LE023_hypnogram.txt   70.673077\n",
       "LE023_prediction.log  70.673077"
      ]
     },
     "execution_count": 10,
     "metadata": {},
     "output_type": "execute_result"
    }
   ],
   "source": [
    "sub_num += 1\n",
    "\n",
    "path_g_hypno = os.path.join(path_subejcts_g_hpyno, subjects_g_hypno[sub_num])\n",
    "print(f\"-- now ground_truth:\\n   {path_g_hypno}\")\n",
    "g_hypno = pd.read_csv(path_g_hypno).squeeze()\n",
    "\n",
    "csv_p_hypnos = os.listdir(os.path.join(path_subejcts_p_hpyno, subjects_p_hypno[sub_num]))\n",
    "print(f\"\\n-- pridicted hypnograms: {csv_p_hypnos[0]}\")\n",
    "\n",
    "total_acc_8 = []\n",
    "\n",
    "path_p_hypno = os.path.join(path_subejcts_p_hpyno, subjects_p_hypno[sub_num], csv_p_hypnos[0])\n",
    "p_hypno = pd.read_csv(path_p_hypno).squeeze()\n",
    "\n",
    "accuracy = (g_hypno == p_hypno).sum() / p_hypno.size * 100\n",
    "total_acc_8.append(accuracy)\n",
    "matrix = get_acc_matrix.get_acc_matrix(g_hypno, p_hypno)\n",
    "print('==================================')\n",
    "print(matrix)\n",
    "\n",
    "dic_acc = {\n",
    "    'acc': total_acc_8\n",
    "}\n",
    "\n",
    "df_acc = pd.DataFrame(dic_acc, index=csv_p_hypnos)\n",
    "df_acc\n",
    "#     print('   -- {} --> %.2f %%'.format(csv_p_hypno[1:]) % accuracy)"
   ]
  },
  {
   "cell_type": "code",
   "execution_count": 11,
   "id": "4c407f74",
   "metadata": {},
   "outputs": [
    {
     "data": {
      "text/plain": [
       "['LE004', 'LE010', 'LE011', 'LE014', 'LE019', 'LE020', 'LE021', 'LE023']"
      ]
     },
     "execution_count": 11,
     "metadata": {},
     "output_type": "execute_result"
    }
   ],
   "source": [
    "subjects_p_hypno"
   ]
  },
  {
   "cell_type": "code",
   "execution_count": 15,
   "id": "d7364c65",
   "metadata": {
    "scrolled": true
   },
   "outputs": [
    {
     "data": {
      "text/html": [
       "<div>\n",
       "<style scoped>\n",
       "    .dataframe tbody tr th:only-of-type {\n",
       "        vertical-align: middle;\n",
       "    }\n",
       "\n",
       "    .dataframe tbody tr th {\n",
       "        vertical-align: top;\n",
       "    }\n",
       "\n",
       "    .dataframe thead th {\n",
       "        text-align: right;\n",
       "    }\n",
       "</style>\n",
       "<table border=\"1\" class=\"dataframe\">\n",
       "  <thead>\n",
       "    <tr style=\"text-align: right;\">\n",
       "      <th></th>\n",
       "      <th>LE004</th>\n",
       "      <th>LE010</th>\n",
       "      <th>LE011</th>\n",
       "      <th>LE014</th>\n",
       "      <th>LE019</th>\n",
       "      <th>LE020</th>\n",
       "      <th>LE021</th>\n",
       "      <th>LE023</th>\n",
       "    </tr>\n",
       "  </thead>\n",
       "  <tbody>\n",
       "    <tr>\n",
       "      <th>accuracy</th>\n",
       "      <td>57.542768</td>\n",
       "      <td>82.818792</td>\n",
       "      <td>79.042691</td>\n",
       "      <td>83.72093</td>\n",
       "      <td>79.971182</td>\n",
       "      <td>78.366762</td>\n",
       "      <td>82.008996</td>\n",
       "      <td>70.673077</td>\n",
       "    </tr>\n",
       "  </tbody>\n",
       "</table>\n",
       "</div>"
      ],
      "text/plain": [
       "              LE004      LE010      LE011     LE014      LE019      LE020  \\\n",
       "accuracy  57.542768  82.818792  79.042691  83.72093  79.971182  78.366762   \n",
       "\n",
       "              LE021      LE023  \n",
       "accuracy  82.008996  70.673077  "
      ]
     },
     "execution_count": 15,
     "metadata": {},
     "output_type": "execute_result"
    }
   ],
   "source": [
    "dic_total_acc = {\n",
    "    subjects_p_hypno[0]: total_acc_1,\n",
    "    subjects_p_hypno[1]: total_acc_2,\n",
    "    subjects_p_hypno[2]: total_acc_3,\n",
    "    subjects_p_hypno[3]: total_acc_4,\n",
    "    subjects_p_hypno[4]: total_acc_5,\n",
    "    subjects_p_hypno[5]: total_acc_6,\n",
    "    subjects_p_hypno[6]: total_acc_7,\n",
    "    subjects_p_hypno[7]: total_acc_8    \n",
    "}\n",
    "\n",
    "df_total_acc = pd.DataFrame(dic_total_acc, index=['accuracy'])\n",
    "df_total_acc"
   ]
  },
  {
   "cell_type": "code",
   "execution_count": null,
   "id": "765fcfa8",
   "metadata": {},
   "outputs": [],
   "source": []
  }
 ],
 "metadata": {
  "kernelspec": {
   "display_name": "Python 3 (ipykernel)",
   "language": "python",
   "name": "python3"
  },
  "language_info": {
   "codemirror_mode": {
    "name": "ipython",
    "version": 3
   },
   "file_extension": ".py",
   "mimetype": "text/x-python",
   "name": "python",
   "nbconvert_exporter": "python",
   "pygments_lexer": "ipython3",
   "version": "3.9.7"
  }
 },
 "nbformat": 4,
 "nbformat_minor": 5
}
