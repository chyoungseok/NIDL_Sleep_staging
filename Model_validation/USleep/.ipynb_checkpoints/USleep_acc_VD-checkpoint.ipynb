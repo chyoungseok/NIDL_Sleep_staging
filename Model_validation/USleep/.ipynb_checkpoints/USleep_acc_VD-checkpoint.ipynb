{
 "cells": [
  {
   "cell_type": "markdown",
   "id": "55394570",
   "metadata": {},
   "source": [
    "# USleep 기반으로 구한 hypnogram을 ground_truth와 비교하여 accuracy 계산"
   ]
  },
  {
   "cell_type": "code",
   "execution_count": 1,
   "id": "6442916c",
   "metadata": {},
   "outputs": [],
   "source": [
    "import os\n",
    "import yasa\n",
    "import numpy as np\n",
    "import pandas as pd\n",
    "import matplotlib.pyplot as plt\n",
    "import get_acc_matrix"
   ]
  },
  {
   "cell_type": "code",
   "execution_count": 2,
   "id": "b259108e",
   "metadata": {},
   "outputs": [
    {
     "name": "stdout",
     "output_type": "stream",
     "text": [
      "['VD001.csv', 'VD002.csv', 'VD003.csv', 'VD004.csv', 'VD005.csv', 'VD006.csv', 'VD008.csv', 'VD011.csv', 'VD012.csv', 'VD017.csv', 'VD019.csv', 'VD022.csv', 'VD023.csv', 'VD025.csv', 'VD028.csv', 'VD029.csv', 'VD030.csv', 'VD031.csv', 'VD033.csv', 'VD034.csv', 'VD039.csv', 'VD041.csv', 'VD042.csv', 'VD043.csv', 'VD044.csv', 'VD045.csv', 'VD046.csv', 'VD047.csv', 'VD049.csv', 'VD050.csv', 'VD051.csv', 'VD052.csv', 'VD053.csv', 'VD054.csv', 'VD055.csv', 'VD056.csv', 'VD057.csv', 'VD058.csv']\n",
      "['VD001', 'VD002', 'VD003', 'VD004', 'VD005', 'VD006', 'VD008', 'VD011', 'VD012', 'VD017', 'VD019', 'VD022', 'VD023', 'VD025', 'VD028', 'VD029', 'VD030', 'VD031', 'VD033', 'VD034', 'VD039', 'VD041', 'VD042', 'VD043', 'VD044', 'VD045', 'VD046', 'VD047', 'VD049', 'VD050', 'VD051', 'VD052', 'VD053', 'VD054', 'VD055', 'VD056', 'VD057', 'VD058']\n"
     ]
    }
   ],
   "source": [
    "path_subejcts_g_hpyno = 'D:\\\\USC\\\\code_mine\\\\Model_validation\\\\USleep\\\\hypnograms\\\\ground_truth' \n",
    "subjects_g_hypno = os.listdir(path_subejcts_g_hpyno)\n",
    "subjects_g_hypno.sort()\n",
    "subjects_g_hypno = subjects_g_hypno[8:]\n",
    "print(subjects_g_hypno)\n",
    "\n",
    "path_subejcts_p_hpyno = 'D:\\\\USC\\\\code_mine\\\\Model_validation\\\\USleep\\\\hypnograms\\\\predicted' \n",
    "subjects_p_hypno = os.listdir(path_subejcts_p_hpyno)\n",
    "subjects_p_hypno.sort()\n",
    "subjects_p_hypno = subjects_p_hypno[8:]\n",
    "print(subjects_p_hypno)"
   ]
  },
  {
   "cell_type": "markdown",
   "id": "9f66618d",
   "metadata": {},
   "source": [
    "## VD"
   ]
  },
  {
   "cell_type": "code",
   "execution_count": 4,
   "id": "2eb52a1f",
   "metadata": {},
   "outputs": [
    {
     "name": "stdout",
     "output_type": "stream",
     "text": [
      "========================================\n",
      "-- now ground_truth:\n",
      "   D:\\USC\\code_mine\\Model_validation\\USleep\\hypnograms\\ground_truth\\VD001.csv\n",
      "\n",
      "-- pridicted hypnograms: VD001 --> ['VD001.csv', 'VD001_hypnogram.txt', 'VD001_prediction.log']\n",
      "========================================\n",
      "-- now ground_truth:\n",
      "   D:\\USC\\code_mine\\Model_validation\\USleep\\hypnograms\\ground_truth\\VD002.csv\n",
      "\n",
      "-- pridicted hypnograms: VD002 --> ['VD002.csv', 'VD002_hypnogram.txt', 'VD002_prediction.log']\n",
      "========================================\n",
      "-- now ground_truth:\n",
      "   D:\\USC\\code_mine\\Model_validation\\USleep\\hypnograms\\ground_truth\\VD003.csv\n",
      "\n",
      "-- pridicted hypnograms: VD003 --> ['VD003.csv', 'VD003_hypnogram.txt', 'VD003_prediction.log']\n",
      "========================================\n",
      "-- now ground_truth:\n",
      "   D:\\USC\\code_mine\\Model_validation\\USleep\\hypnograms\\ground_truth\\VD004.csv\n",
      "\n",
      "-- pridicted hypnograms: VD004 --> ['VD004.csv', 'VD004_hypnogram.txt', 'VD004_prediction.log']\n",
      "========================================\n",
      "-- now ground_truth:\n",
      "   D:\\USC\\code_mine\\Model_validation\\USleep\\hypnograms\\ground_truth\\VD005.csv\n",
      "\n",
      "-- pridicted hypnograms: VD005 --> ['VD005.csv', 'VD005_hypnogram.txt', 'VD005_prediction.log']\n",
      "========================================\n",
      "-- now ground_truth:\n",
      "   D:\\USC\\code_mine\\Model_validation\\USleep\\hypnograms\\ground_truth\\VD006.csv\n",
      "\n",
      "-- pridicted hypnograms: VD006 --> ['VD006.csv', 'VD006_hypnogram.txt', 'VD006_prediction.log']\n",
      "========================================\n",
      "-- now ground_truth:\n",
      "   D:\\USC\\code_mine\\Model_validation\\USleep\\hypnograms\\ground_truth\\VD008.csv\n",
      "\n",
      "-- pridicted hypnograms: VD008 --> ['VD008.csv', 'VD008_hypnogram.txt', 'VD008_prediction.log']\n",
      "========================================\n",
      "-- now ground_truth:\n",
      "   D:\\USC\\code_mine\\Model_validation\\USleep\\hypnograms\\ground_truth\\VD011.csv\n",
      "\n",
      "-- pridicted hypnograms: VD011 --> ['VD011.csv', 'VD011_hypnogram.txt', 'VD011_prediction.log']\n",
      "========================================\n",
      "-- now ground_truth:\n",
      "   D:\\USC\\code_mine\\Model_validation\\USleep\\hypnograms\\ground_truth\\VD012.csv\n",
      "\n",
      "-- pridicted hypnograms: VD012 --> ['VD012.csv', 'VD012_hypnogram.txt', 'VD012_prediction.log']\n",
      "========================================\n",
      "-- now ground_truth:\n",
      "   D:\\USC\\code_mine\\Model_validation\\USleep\\hypnograms\\ground_truth\\VD017.csv\n",
      "\n",
      "-- pridicted hypnograms: VD017 --> ['VD017.csv', 'VD017_hypnogram.txt', 'VD017_prediction.log']\n",
      "========================================\n",
      "-- now ground_truth:\n",
      "   D:\\USC\\code_mine\\Model_validation\\USleep\\hypnograms\\ground_truth\\VD019.csv\n",
      "\n",
      "-- pridicted hypnograms: VD019 --> ['VD019.csv', 'VD019_hypnogram.txt', 'VD019_prediction.log']\n",
      "========================================\n",
      "-- now ground_truth:\n",
      "   D:\\USC\\code_mine\\Model_validation\\USleep\\hypnograms\\ground_truth\\VD022.csv\n",
      "\n",
      "-- pridicted hypnograms: VD022 --> ['VD022.csv', 'VD022_hypnogram.txt', 'VD022_prediction.log']\n",
      "========================================\n",
      "-- now ground_truth:\n",
      "   D:\\USC\\code_mine\\Model_validation\\USleep\\hypnograms\\ground_truth\\VD023.csv\n",
      "\n",
      "-- pridicted hypnograms: VD023 --> ['VD023.csv', 'VD023_hypnogram.txt', 'VD023_prediction.log']\n",
      "========================================\n",
      "-- now ground_truth:\n",
      "   D:\\USC\\code_mine\\Model_validation\\USleep\\hypnograms\\ground_truth\\VD025.csv\n",
      "\n",
      "-- pridicted hypnograms: VD025 --> ['VD025.csv', 'VD025_hypnogram.txt', 'VD025_prediction.log']\n",
      "========================================\n",
      "-- now ground_truth:\n",
      "   D:\\USC\\code_mine\\Model_validation\\USleep\\hypnograms\\ground_truth\\VD028.csv\n",
      "\n",
      "-- pridicted hypnograms: VD028 --> ['VD028.csv', 'VD028_hypnogram.txt', 'VD028_prediction.log']\n",
      "========================================\n",
      "-- now ground_truth:\n",
      "   D:\\USC\\code_mine\\Model_validation\\USleep\\hypnograms\\ground_truth\\VD029.csv\n",
      "\n",
      "-- pridicted hypnograms: VD029 --> ['VD029.csv', 'VD029_hypnogram.txt', 'VD029_prediction.log']\n",
      "========================================\n",
      "-- now ground_truth:\n",
      "   D:\\USC\\code_mine\\Model_validation\\USleep\\hypnograms\\ground_truth\\VD030.csv\n",
      "\n",
      "-- pridicted hypnograms: VD030 --> ['VD030.csv', 'VD030_hypnogram.txt', 'VD030_prediction.log']\n",
      "========================================\n",
      "-- now ground_truth:\n",
      "   D:\\USC\\code_mine\\Model_validation\\USleep\\hypnograms\\ground_truth\\VD031.csv\n",
      "\n",
      "-- pridicted hypnograms: VD031 --> ['VD031.csv', 'VD031_hypnogram.txt', 'VD031_prediction.log']\n",
      "========================================\n",
      "-- now ground_truth:\n",
      "   D:\\USC\\code_mine\\Model_validation\\USleep\\hypnograms\\ground_truth\\VD033.csv\n",
      "\n",
      "-- pridicted hypnograms: VD033 --> ['VD033.csv', 'VD033_hypnogram.txt', 'VD033_prediction.log']\n",
      "========================================\n",
      "-- now ground_truth:\n",
      "   D:\\USC\\code_mine\\Model_validation\\USleep\\hypnograms\\ground_truth\\VD034.csv\n",
      "\n",
      "-- pridicted hypnograms: VD034 --> ['VD034.csv', 'VD034_hypnogram.txt', 'VD034_prediction.log']\n",
      "========================================\n",
      "-- now ground_truth:\n",
      "   D:\\USC\\code_mine\\Model_validation\\USleep\\hypnograms\\ground_truth\\VD039.csv\n",
      "\n",
      "-- pridicted hypnograms: VD039 --> ['VD039.csv', 'VD039_hypnogram.txt', 'VD039_prediction.log']\n",
      "========================================\n",
      "-- now ground_truth:\n",
      "   D:\\USC\\code_mine\\Model_validation\\USleep\\hypnograms\\ground_truth\\VD041.csv\n",
      "\n",
      "-- pridicted hypnograms: VD041 --> ['VD041.csv', 'VD041_hypnogram.txt', 'VD041_prediction.log']\n",
      "========================================\n",
      "-- now ground_truth:\n",
      "   D:\\USC\\code_mine\\Model_validation\\USleep\\hypnograms\\ground_truth\\VD042.csv\n",
      "\n",
      "-- pridicted hypnograms: VD042 --> ['VD042.csv', 'VD042_hypnogram.txt', 'VD042_prediction.log']\n",
      "========================================\n",
      "-- now ground_truth:\n",
      "   D:\\USC\\code_mine\\Model_validation\\USleep\\hypnograms\\ground_truth\\VD043.csv\n",
      "\n",
      "-- pridicted hypnograms: VD043 --> ['VD043.csv', 'VD043_hypnogram.txt', 'VD043_prediction.log']\n",
      "========================================\n",
      "-- now ground_truth:\n",
      "   D:\\USC\\code_mine\\Model_validation\\USleep\\hypnograms\\ground_truth\\VD044.csv\n",
      "\n",
      "-- pridicted hypnograms: VD044 --> ['VD044.csv', 'VD044_hypnogram.txt', 'VD044_prediction.log']\n",
      "========================================\n",
      "-- now ground_truth:\n",
      "   D:\\USC\\code_mine\\Model_validation\\USleep\\hypnograms\\ground_truth\\VD045.csv\n",
      "\n",
      "-- pridicted hypnograms: VD045 --> ['VD045.csv', 'VD045_hypnogram.txt', 'VD045_prediction.log']\n",
      "========================================\n",
      "-- now ground_truth:\n",
      "   D:\\USC\\code_mine\\Model_validation\\USleep\\hypnograms\\ground_truth\\VD046.csv\n",
      "\n",
      "-- pridicted hypnograms: VD046 --> ['VD046.csv', 'VD046_hypnogram.txt', 'VD046_prediction.log']\n",
      "========================================\n",
      "-- now ground_truth:\n",
      "   D:\\USC\\code_mine\\Model_validation\\USleep\\hypnograms\\ground_truth\\VD047.csv\n",
      "\n",
      "-- pridicted hypnograms: VD047 --> ['VD047.csv', 'VD047_hypnogram.txt', 'VD047_prediction.log']\n",
      "========================================\n",
      "-- now ground_truth:\n",
      "   D:\\USC\\code_mine\\Model_validation\\USleep\\hypnograms\\ground_truth\\VD049.csv\n",
      "\n",
      "-- pridicted hypnograms: VD049 --> ['VD049.csv', 'VD049_hypnogram.txt', 'VD049_prediction.log']\n",
      "========================================\n",
      "-- now ground_truth:\n",
      "   D:\\USC\\code_mine\\Model_validation\\USleep\\hypnograms\\ground_truth\\VD050.csv\n",
      "\n",
      "-- pridicted hypnograms: VD050 --> ['VD050.csv', 'VD050_hypnogram.txt', 'VD050_prediction.log']\n",
      "========================================\n",
      "-- now ground_truth:\n",
      "   D:\\USC\\code_mine\\Model_validation\\USleep\\hypnograms\\ground_truth\\VD051.csv\n",
      "\n",
      "-- pridicted hypnograms: VD051 --> ['VD051.csv', 'VD051_hypnogram.txt', 'VD051_prediction.log']\n",
      "========================================\n",
      "-- now ground_truth:\n",
      "   D:\\USC\\code_mine\\Model_validation\\USleep\\hypnograms\\ground_truth\\VD052.csv\n",
      "\n",
      "-- pridicted hypnograms: VD052 --> ['VD052.csv', 'VD052_hypnogram.txt', 'VD052_prediction.log']\n",
      "========================================\n",
      "-- now ground_truth:\n",
      "   D:\\USC\\code_mine\\Model_validation\\USleep\\hypnograms\\ground_truth\\VD053.csv\n",
      "\n",
      "-- pridicted hypnograms: VD053 --> ['VD053.csv', 'VD053_hypnogram.txt', 'VD053_prediction.log']\n",
      "========================================\n",
      "-- now ground_truth:\n",
      "   D:\\USC\\code_mine\\Model_validation\\USleep\\hypnograms\\ground_truth\\VD054.csv\n",
      "\n",
      "-- pridicted hypnograms: VD054 --> ['VD054.csv', 'VD054_hypnogram.txt', 'VD054_prediction.log']\n",
      "========================================\n",
      "-- now ground_truth:\n",
      "   D:\\USC\\code_mine\\Model_validation\\USleep\\hypnograms\\ground_truth\\VD055.csv\n",
      "\n",
      "-- pridicted hypnograms: VD055 --> ['VD055.csv', 'VD055_hypnogram.txt', 'VD055_prediction.log']\n",
      "========================================\n",
      "-- now ground_truth:\n",
      "   D:\\USC\\code_mine\\Model_validation\\USleep\\hypnograms\\ground_truth\\VD056.csv\n",
      "\n",
      "-- pridicted hypnograms: VD056 --> ['VD056.csv', 'VD056_hypnogram.txt', 'VD056_prediction.log']\n",
      "========================================\n",
      "-- now ground_truth:\n",
      "   D:\\USC\\code_mine\\Model_validation\\USleep\\hypnograms\\ground_truth\\VD057.csv\n",
      "\n",
      "-- pridicted hypnograms: VD057 --> ['VD057.csv', 'VD057_hypnogram.txt', 'VD057_prediction.log']\n",
      "========================================\n",
      "-- now ground_truth:\n",
      "   D:\\USC\\code_mine\\Model_validation\\USleep\\hypnograms\\ground_truth\\VD058.csv\n",
      "\n",
      "-- pridicted hypnograms: VD058 --> ['VD058.csv', 'VD058_hypnogram.txt', 'VD058_prediction.log']\n"
     ]
    }
   ],
   "source": [
    "dic_acc_total = {} # subect 별로 chan_comb에 따른 overall accuracy가 저장됨\n",
    "dic_matrix_total = {} # subject 별로 6개의 matrix가 저장됨\n",
    "key_total = [] # subject name이 key로써 저장됨\n",
    "sub_num = 0\n",
    "\n",
    "for subject in subjects_p_hypno:\n",
    "    print('========================================')\n",
    "    path_g_hypno = os.path.join(path_subejcts_g_hpyno, subjects_g_hypno[sub_num])\n",
    "    print(f\"-- now ground_truth:\\n   {path_g_hypno}\")\n",
    "    g_hypno = pd.read_csv(path_g_hypno).squeeze()\n",
    "\n",
    "    csv_p_hypnos = os.listdir(os.path.join(path_subejcts_p_hpyno, subjects_p_hypno[sub_num]))\n",
    "    print(f\"\\n-- pridicted hypnograms: {subject} --> {csv_p_hypnos}\")\n",
    "\n",
    "    dic_acc_sub = {} # 한 명의 subject 내에서, 채널 조합 별 acc를 저장하는 dictionary\n",
    "    dic_matrix_sub = {} # 한 명의 subject 내에서, 채널 조합 별 matrix를 저장하는 dictionary\n",
    "\n",
    "    path_p_hypno = os.path.join(path_subejcts_p_hpyno, subject, subject+'.csv')\n",
    "#         print(path_p_hypno)\n",
    "    p_hypno = pd.read_csv(path_p_hypno).squeeze()\n",
    "\n",
    "    # overall accuracy\n",
    "    accuracy = (g_hypno == p_hypno).sum() / p_hypno.size * 100 # 현재 channel combination에 대한 overall accuracy 계산\n",
    "#     dic_acc_sub[] = accuracy # dictionary에 추가  \n",
    "\n",
    "#     # accuracy matrix\n",
    "    matrix = get_acc_matrix.get_acc_matrix(g_hypno, p_hypno)\n",
    "#     dic_matrix_sub[dic_acc_sub_key[ch_comb_num]] = matrix \n",
    " \n",
    "\n",
    "    key_total.append(subject)\n",
    "    dic_acc_total[key_total[sub_num]] = accuracy\n",
    "    dic_matrix_total[key_total[sub_num]] = matrix\n",
    "    sub_num += 1"
   ]
  },
  {
   "cell_type": "code",
   "execution_count": 9,
   "id": "16d8015d",
   "metadata": {
    "scrolled": true
   },
   "outputs": [
    {
     "data": {
      "text/html": [
       "<div>\n",
       "<style scoped>\n",
       "    .dataframe tbody tr th:only-of-type {\n",
       "        vertical-align: middle;\n",
       "    }\n",
       "\n",
       "    .dataframe tbody tr th {\n",
       "        vertical-align: top;\n",
       "    }\n",
       "\n",
       "    .dataframe thead th {\n",
       "        text-align: right;\n",
       "    }\n",
       "</style>\n",
       "<table border=\"1\" class=\"dataframe\">\n",
       "  <thead>\n",
       "    <tr style=\"text-align: right;\">\n",
       "      <th></th>\n",
       "      <th>VD001</th>\n",
       "      <th>VD002</th>\n",
       "      <th>VD003</th>\n",
       "      <th>VD004</th>\n",
       "      <th>VD005</th>\n",
       "      <th>VD006</th>\n",
       "      <th>VD008</th>\n",
       "      <th>VD011</th>\n",
       "      <th>VD012</th>\n",
       "      <th>VD017</th>\n",
       "      <th>...</th>\n",
       "      <th>VD049</th>\n",
       "      <th>VD050</th>\n",
       "      <th>VD051</th>\n",
       "      <th>VD052</th>\n",
       "      <th>VD053</th>\n",
       "      <th>VD054</th>\n",
       "      <th>VD055</th>\n",
       "      <th>VD056</th>\n",
       "      <th>VD057</th>\n",
       "      <th>VD058</th>\n",
       "    </tr>\n",
       "  </thead>\n",
       "  <tbody>\n",
       "    <tr>\n",
       "      <th>Accuracy</th>\n",
       "      <td>62.132353</td>\n",
       "      <td>71.64592</td>\n",
       "      <td>51.625488</td>\n",
       "      <td>57.068063</td>\n",
       "      <td>74.547804</td>\n",
       "      <td>77.315436</td>\n",
       "      <td>72.492401</td>\n",
       "      <td>77.023499</td>\n",
       "      <td>83.854167</td>\n",
       "      <td>64.438122</td>\n",
       "      <td>...</td>\n",
       "      <td>73.426573</td>\n",
       "      <td>56.891026</td>\n",
       "      <td>70.798898</td>\n",
       "      <td>85.119798</td>\n",
       "      <td>68.144044</td>\n",
       "      <td>60.404624</td>\n",
       "      <td>64.687976</td>\n",
       "      <td>76.144244</td>\n",
       "      <td>73.015873</td>\n",
       "      <td>80.463097</td>\n",
       "    </tr>\n",
       "  </tbody>\n",
       "</table>\n",
       "<p>1 rows × 38 columns</p>\n",
       "</div>"
      ],
      "text/plain": [
       "              VD001     VD002      VD003      VD004      VD005      VD006  \\\n",
       "Accuracy  62.132353  71.64592  51.625488  57.068063  74.547804  77.315436   \n",
       "\n",
       "              VD008      VD011      VD012      VD017  ...      VD049  \\\n",
       "Accuracy  72.492401  77.023499  83.854167  64.438122  ...  73.426573   \n",
       "\n",
       "              VD050      VD051      VD052      VD053      VD054      VD055  \\\n",
       "Accuracy  56.891026  70.798898  85.119798  68.144044  60.404624  64.687976   \n",
       "\n",
       "              VD056      VD057      VD058  \n",
       "Accuracy  76.144244  73.015873  80.463097  \n",
       "\n",
       "[1 rows x 38 columns]"
      ]
     },
     "execution_count": 9,
     "metadata": {},
     "output_type": "execute_result"
    }
   ],
   "source": [
    "df_acc = pd.DataFrame(dic_acc_total, index=['Accuracy'])\n",
    "df_acc"
   ]
  },
  {
   "cell_type": "code",
   "execution_count": 15,
   "id": "e246d390",
   "metadata": {},
   "outputs": [],
   "source": [
    "df_acc_Usleep = df_acc.transpose()['Accuracy']"
   ]
  },
  {
   "cell_type": "markdown",
   "id": "4e58d593",
   "metadata": {},
   "source": [
    "# YASA predicted_hypnogram"
   ]
  },
  {
   "cell_type": "code",
   "execution_count": 13,
   "id": "631d9e4a",
   "metadata": {},
   "outputs": [
    {
     "name": "stdout",
     "output_type": "stream",
     "text": [
      "[Ground-truth]\n",
      "   -- path of ground_truth: D:\\USC\\code_mine\\Model_validation\\YASA\\hypnograms\\ground_truth\n",
      "   -- csv files: ['VD001.csv', 'VD002.csv', 'VD003.csv', 'VD004.csv', 'VD005.csv', 'VD006.csv', 'VD008.csv', 'VD011.csv', 'VD012.csv', 'VD017.csv', 'VD019.csv', 'VD022.csv', 'VD023.csv', 'VD025.csv', 'VD028.csv', 'VD029.csv', 'VD030.csv', 'VD031.csv', 'VD033.csv', 'VD034.csv', 'VD039.csv', 'VD041.csv', 'VD042.csv', 'VD043.csv', 'VD044.csv', 'VD045.csv', 'VD046.csv', 'VD047.csv', 'VD049.csv', 'VD050.csv', 'VD051.csv', 'VD052.csv', 'VD053.csv', 'VD054.csv', 'VD055.csv', 'VD056.csv', 'VD057.csv', 'VD058.csv']\n",
      "\n",
      "[Predicted]\n",
      "   -- path of predicted: D:\\USC\\code_mine\\Model_validation\\YASA\\hypnograms\\pred_filt_reref\n",
      "   -- folders for the each subject: ['VD001', 'VD002', 'VD003', 'VD004', 'VD005', 'VD006', 'VD008', 'VD011', 'VD012', 'VD017', 'VD019', 'VD022', 'VD023', 'VD025', 'VD028', 'VD029', 'VD030', 'VD031', 'VD033', 'VD034', 'VD039', 'VD041', 'VD042', 'VD043', 'VD044', 'VD045', 'VD046', 'VD047', 'VD049', 'VD050', 'VD051', 'VD052', 'VD053', 'VD054', 'VD055', 'VD056', 'VD057', 'VD058']\n"
     ]
    }
   ],
   "source": [
    "path_subejcts_g_hpyno = 'D:\\\\USC\\\\code_mine\\\\Model_validation\\\\YASA\\\\hypnograms\\\\ground_truth' \n",
    "subjects_g_hypno = os.listdir(path_subejcts_g_hpyno)\n",
    "subjects_g_hypno.sort()\n",
    "subjects_g_hypno = subjects_g_hypno[15:]\n",
    "print(\"[Ground-truth]\")\n",
    "print(\"   -- path of ground_truth: {}\".format(path_subejcts_g_hpyno))\n",
    "print(\"   -- csv files: {}\".format(subjects_g_hypno))\n",
    "\n",
    "path_subejcts_p_hpyno = 'D:\\\\USC\\\\code_mine\\\\Model_validation\\\\YASA\\\\hypnograms\\\\pred_filt_reref' \n",
    "subjects_p_hypno = os.listdir(path_subejcts_p_hpyno)\n",
    "subjects_p_hypno.sort()\n",
    "subjects_p_hypno = subjects_p_hypno[15:]\n",
    "print(\"\\n[Predicted]\")\n",
    "print(\"   -- path of predicted: {}\".format(path_subejcts_p_hpyno))\n",
    "print(\"   -- folders for the each subject: {}\".format(subjects_p_hypno))"
   ]
  },
  {
   "cell_type": "code",
   "execution_count": 14,
   "id": "3eff73c8",
   "metadata": {},
   "outputs": [
    {
     "name": "stdout",
     "output_type": "stream",
     "text": [
      "========================================\n",
      "-- now ground_truth:\n",
      "   D:\\USC\\code_mine\\Model_validation\\YASA\\hypnograms\\ground_truth\\VD001.csv\n",
      "\n",
      "-- pridicted hypnograms: VD001 --> ['pred_hypno_C4.csv']\n",
      "========================================\n",
      "-- now ground_truth:\n",
      "   D:\\USC\\code_mine\\Model_validation\\YASA\\hypnograms\\ground_truth\\VD002.csv\n",
      "\n",
      "-- pridicted hypnograms: VD002 --> ['pred_hypno_C4.csv']\n",
      "========================================\n",
      "-- now ground_truth:\n",
      "   D:\\USC\\code_mine\\Model_validation\\YASA\\hypnograms\\ground_truth\\VD003.csv\n",
      "\n",
      "-- pridicted hypnograms: VD003 --> ['pred_hypno_C4.csv']\n",
      "========================================\n",
      "-- now ground_truth:\n",
      "   D:\\USC\\code_mine\\Model_validation\\YASA\\hypnograms\\ground_truth\\VD004.csv\n",
      "\n",
      "-- pridicted hypnograms: VD004 --> ['pred_hypno_C4.csv']\n",
      "========================================\n",
      "-- now ground_truth:\n",
      "   D:\\USC\\code_mine\\Model_validation\\YASA\\hypnograms\\ground_truth\\VD005.csv\n",
      "\n",
      "-- pridicted hypnograms: VD005 --> ['pred_hypno_C4.csv']\n",
      "========================================\n",
      "-- now ground_truth:\n",
      "   D:\\USC\\code_mine\\Model_validation\\YASA\\hypnograms\\ground_truth\\VD006.csv\n",
      "\n",
      "-- pridicted hypnograms: VD006 --> ['pred_hypno_C4.csv']\n",
      "========================================\n",
      "-- now ground_truth:\n",
      "   D:\\USC\\code_mine\\Model_validation\\YASA\\hypnograms\\ground_truth\\VD008.csv\n",
      "\n",
      "-- pridicted hypnograms: VD008 --> ['pred_hypno_C4.csv']\n",
      "========================================\n",
      "-- now ground_truth:\n",
      "   D:\\USC\\code_mine\\Model_validation\\YASA\\hypnograms\\ground_truth\\VD011.csv\n",
      "\n",
      "-- pridicted hypnograms: VD011 --> ['pred_hypno_C4.csv']\n",
      "========================================\n",
      "-- now ground_truth:\n",
      "   D:\\USC\\code_mine\\Model_validation\\YASA\\hypnograms\\ground_truth\\VD012.csv\n",
      "\n",
      "-- pridicted hypnograms: VD012 --> ['pred_hypno_C4.csv']\n",
      "========================================\n",
      "-- now ground_truth:\n",
      "   D:\\USC\\code_mine\\Model_validation\\YASA\\hypnograms\\ground_truth\\VD017.csv\n",
      "\n",
      "-- pridicted hypnograms: VD017 --> ['pred_hypno_C4.csv']\n",
      "========================================\n",
      "-- now ground_truth:\n",
      "   D:\\USC\\code_mine\\Model_validation\\YASA\\hypnograms\\ground_truth\\VD019.csv\n",
      "\n",
      "-- pridicted hypnograms: VD019 --> ['pred_hypno_C4.csv']\n",
      "========================================\n",
      "-- now ground_truth:\n",
      "   D:\\USC\\code_mine\\Model_validation\\YASA\\hypnograms\\ground_truth\\VD022.csv\n",
      "\n",
      "-- pridicted hypnograms: VD022 --> ['pred_hypno_C4.csv']\n",
      "========================================\n",
      "-- now ground_truth:\n",
      "   D:\\USC\\code_mine\\Model_validation\\YASA\\hypnograms\\ground_truth\\VD023.csv\n",
      "\n",
      "-- pridicted hypnograms: VD023 --> ['pred_hypno_C4.csv']\n",
      "========================================\n",
      "-- now ground_truth:\n",
      "   D:\\USC\\code_mine\\Model_validation\\YASA\\hypnograms\\ground_truth\\VD025.csv\n",
      "\n",
      "-- pridicted hypnograms: VD025 --> ['pred_hypno_C4.csv']\n",
      "========================================\n",
      "-- now ground_truth:\n",
      "   D:\\USC\\code_mine\\Model_validation\\YASA\\hypnograms\\ground_truth\\VD028.csv\n",
      "\n",
      "-- pridicted hypnograms: VD028 --> ['pred_hypno_C4.csv']\n",
      "========================================\n",
      "-- now ground_truth:\n",
      "   D:\\USC\\code_mine\\Model_validation\\YASA\\hypnograms\\ground_truth\\VD029.csv\n",
      "\n",
      "-- pridicted hypnograms: VD029 --> ['pred_hypno_C4.csv']\n",
      "========================================\n",
      "-- now ground_truth:\n",
      "   D:\\USC\\code_mine\\Model_validation\\YASA\\hypnograms\\ground_truth\\VD030.csv\n",
      "\n",
      "-- pridicted hypnograms: VD030 --> ['pred_hypno_C4.csv']\n",
      "========================================\n",
      "-- now ground_truth:\n",
      "   D:\\USC\\code_mine\\Model_validation\\YASA\\hypnograms\\ground_truth\\VD031.csv\n",
      "\n",
      "-- pridicted hypnograms: VD031 --> ['pred_hypno_C4.csv']\n",
      "========================================\n",
      "-- now ground_truth:\n",
      "   D:\\USC\\code_mine\\Model_validation\\YASA\\hypnograms\\ground_truth\\VD033.csv\n",
      "\n",
      "-- pridicted hypnograms: VD033 --> ['pred_hypno_C4.csv']\n",
      "========================================\n",
      "-- now ground_truth:\n",
      "   D:\\USC\\code_mine\\Model_validation\\YASA\\hypnograms\\ground_truth\\VD034.csv\n",
      "\n",
      "-- pridicted hypnograms: VD034 --> ['pred_hypno_C4.csv']\n",
      "========================================\n",
      "-- now ground_truth:\n",
      "   D:\\USC\\code_mine\\Model_validation\\YASA\\hypnograms\\ground_truth\\VD039.csv\n",
      "\n",
      "-- pridicted hypnograms: VD039 --> ['pred_hypno_C4.csv']\n",
      "========================================\n",
      "-- now ground_truth:\n",
      "   D:\\USC\\code_mine\\Model_validation\\YASA\\hypnograms\\ground_truth\\VD041.csv\n",
      "\n",
      "-- pridicted hypnograms: VD041 --> ['pred_hypno_C4.csv']\n",
      "========================================\n",
      "-- now ground_truth:\n",
      "   D:\\USC\\code_mine\\Model_validation\\YASA\\hypnograms\\ground_truth\\VD042.csv\n",
      "\n",
      "-- pridicted hypnograms: VD042 --> ['pred_hypno_C4.csv']\n",
      "========================================\n",
      "-- now ground_truth:\n",
      "   D:\\USC\\code_mine\\Model_validation\\YASA\\hypnograms\\ground_truth\\VD043.csv\n",
      "\n",
      "-- pridicted hypnograms: VD043 --> ['pred_hypno_C4.csv']\n",
      "========================================\n",
      "-- now ground_truth:\n",
      "   D:\\USC\\code_mine\\Model_validation\\YASA\\hypnograms\\ground_truth\\VD044.csv\n",
      "\n",
      "-- pridicted hypnograms: VD044 --> ['pred_hypno_C4.csv']\n",
      "========================================\n",
      "-- now ground_truth:\n",
      "   D:\\USC\\code_mine\\Model_validation\\YASA\\hypnograms\\ground_truth\\VD045.csv\n",
      "\n",
      "-- pridicted hypnograms: VD045 --> ['pred_hypno_C4.csv']\n",
      "========================================\n",
      "-- now ground_truth:\n",
      "   D:\\USC\\code_mine\\Model_validation\\YASA\\hypnograms\\ground_truth\\VD046.csv\n",
      "\n",
      "-- pridicted hypnograms: VD046 --> ['pred_hypno_C4.csv']\n",
      "========================================\n",
      "-- now ground_truth:\n",
      "   D:\\USC\\code_mine\\Model_validation\\YASA\\hypnograms\\ground_truth\\VD047.csv\n",
      "\n",
      "-- pridicted hypnograms: VD047 --> ['pred_hypno_C4.csv']\n",
      "========================================\n",
      "-- now ground_truth:\n",
      "   D:\\USC\\code_mine\\Model_validation\\YASA\\hypnograms\\ground_truth\\VD049.csv\n",
      "\n",
      "-- pridicted hypnograms: VD049 --> ['pred_hypno_C4.csv']\n",
      "========================================\n",
      "-- now ground_truth:\n",
      "   D:\\USC\\code_mine\\Model_validation\\YASA\\hypnograms\\ground_truth\\VD050.csv\n",
      "\n",
      "-- pridicted hypnograms: VD050 --> ['pred_hypno_C4.csv']\n",
      "========================================\n",
      "-- now ground_truth:\n",
      "   D:\\USC\\code_mine\\Model_validation\\YASA\\hypnograms\\ground_truth\\VD051.csv\n",
      "\n",
      "-- pridicted hypnograms: VD051 --> ['pred_hypno_C4.csv']\n",
      "========================================\n",
      "-- now ground_truth:\n",
      "   D:\\USC\\code_mine\\Model_validation\\YASA\\hypnograms\\ground_truth\\VD052.csv\n",
      "\n",
      "-- pridicted hypnograms: VD052 --> ['pred_hypno_C4.csv']\n",
      "========================================\n",
      "-- now ground_truth:\n",
      "   D:\\USC\\code_mine\\Model_validation\\YASA\\hypnograms\\ground_truth\\VD053.csv\n",
      "\n",
      "-- pridicted hypnograms: VD053 --> ['pred_hypno_C4.csv']\n",
      "========================================\n",
      "-- now ground_truth:\n",
      "   D:\\USC\\code_mine\\Model_validation\\YASA\\hypnograms\\ground_truth\\VD054.csv\n",
      "\n",
      "-- pridicted hypnograms: VD054 --> ['pred_hypno_C4.csv']\n",
      "========================================\n",
      "-- now ground_truth:\n",
      "   D:\\USC\\code_mine\\Model_validation\\YASA\\hypnograms\\ground_truth\\VD055.csv\n",
      "\n",
      "-- pridicted hypnograms: VD055 --> ['pred_hypno_C4.csv']\n",
      "========================================\n",
      "-- now ground_truth:\n",
      "   D:\\USC\\code_mine\\Model_validation\\YASA\\hypnograms\\ground_truth\\VD056.csv\n",
      "\n",
      "-- pridicted hypnograms: VD056 --> ['pred_hypno_C4.csv']\n",
      "========================================\n",
      "-- now ground_truth:\n",
      "   D:\\USC\\code_mine\\Model_validation\\YASA\\hypnograms\\ground_truth\\VD057.csv\n",
      "\n",
      "-- pridicted hypnograms: VD057 --> ['pred_hypno_C4.csv']\n",
      "========================================\n",
      "-- now ground_truth:\n",
      "   D:\\USC\\code_mine\\Model_validation\\YASA\\hypnograms\\ground_truth\\VD058.csv\n",
      "\n",
      "-- pridicted hypnograms: VD058 --> ['pred_hypno_C4.csv']\n"
     ]
    }
   ],
   "source": [
    "dic_acc_total = {} # subect 별로 chan_comb에 따른 overall accuracy가 저장됨\n",
    "dic_matrix_total = {} # subject 별로 6개의 matrix가 저장됨\n",
    "key_total = [] # subject name이 key로써 저장됨\n",
    "sub_num = 0\n",
    "\n",
    "for subject in subjects_p_hypno:\n",
    "    print('========================================')\n",
    "    path_g_hypno = os.path.join(path_subejcts_g_hpyno, subjects_g_hypno[sub_num])\n",
    "    print(f\"-- now ground_truth:\\n   {path_g_hypno}\")\n",
    "    g_hypno = pd.read_csv(path_g_hypno).squeeze()\n",
    "\n",
    "    csv_p_hypnos = os.listdir(os.path.join(path_subejcts_p_hpyno, subjects_p_hypno[sub_num], 'pred_hypno'))\n",
    "    print(f\"\\n-- pridicted hypnograms: {subject} --> {csv_p_hypnos}\")\n",
    "\n",
    "    dic_acc_sub = {} # 한 명의 subject 내에서, 채널 조합 별 acc를 저장하는 dictionary\n",
    "    dic_matrix_sub = {} # 한 명의 subject 내에서, 채널 조합 별 matrix를 저장하는 dictionary\n",
    "\n",
    "    path_p_hypno = os.path.join(path_subejcts_p_hpyno, subject, 'pred_hypno', 'pred_hypno_C4.csv')\n",
    "#         print(path_p_hypno)\n",
    "    p_hypno = pd.read_csv(path_p_hypno).squeeze()\n",
    "\n",
    "    # overall accuracy\n",
    "    accuracy = (g_hypno == p_hypno).sum() / p_hypno.size * 100 # 현재 channel combination에 대한 overall accuracy 계산\n",
    "#     dic_acc_sub[] = accuracy # dictionary에 추가  \n",
    "\n",
    "#     # accuracy matrix\n",
    "    matrix = get_acc_matrix.get_acc_matrix(g_hypno, p_hypno)\n",
    "#     dic_matrix_sub[dic_acc_sub_key[ch_comb_num]] = matrix \n",
    " \n",
    "\n",
    "    key_total.append(subject)\n",
    "    dic_acc_total[key_total[sub_num]] = accuracy\n",
    "    dic_matrix_total[key_total[sub_num]] = matrix\n",
    "    sub_num += 1"
   ]
  },
  {
   "cell_type": "code",
   "execution_count": 17,
   "id": "95b46bf6",
   "metadata": {},
   "outputs": [
    {
     "data": {
      "text/html": [
       "<div>\n",
       "<style scoped>\n",
       "    .dataframe tbody tr th:only-of-type {\n",
       "        vertical-align: middle;\n",
       "    }\n",
       "\n",
       "    .dataframe tbody tr th {\n",
       "        vertical-align: top;\n",
       "    }\n",
       "\n",
       "    .dataframe thead th {\n",
       "        text-align: right;\n",
       "    }\n",
       "</style>\n",
       "<table border=\"1\" class=\"dataframe\">\n",
       "  <thead>\n",
       "    <tr style=\"text-align: right;\">\n",
       "      <th></th>\n",
       "      <th>VD001</th>\n",
       "      <th>VD002</th>\n",
       "      <th>VD003</th>\n",
       "      <th>VD004</th>\n",
       "      <th>VD005</th>\n",
       "      <th>VD006</th>\n",
       "      <th>VD008</th>\n",
       "      <th>VD011</th>\n",
       "      <th>VD012</th>\n",
       "      <th>VD017</th>\n",
       "      <th>...</th>\n",
       "      <th>VD049</th>\n",
       "      <th>VD050</th>\n",
       "      <th>VD051</th>\n",
       "      <th>VD052</th>\n",
       "      <th>VD053</th>\n",
       "      <th>VD054</th>\n",
       "      <th>VD055</th>\n",
       "      <th>VD056</th>\n",
       "      <th>VD057</th>\n",
       "      <th>VD058</th>\n",
       "    </tr>\n",
       "  </thead>\n",
       "  <tbody>\n",
       "    <tr>\n",
       "      <th>Accuracy</th>\n",
       "      <td>52.818627</td>\n",
       "      <td>73.720609</td>\n",
       "      <td>42.522757</td>\n",
       "      <td>43.979058</td>\n",
       "      <td>71.834625</td>\n",
       "      <td>69.66443</td>\n",
       "      <td>63.981763</td>\n",
       "      <td>64.490862</td>\n",
       "      <td>70.703125</td>\n",
       "      <td>64.295875</td>\n",
       "      <td>...</td>\n",
       "      <td>69.370629</td>\n",
       "      <td>56.570513</td>\n",
       "      <td>68.319559</td>\n",
       "      <td>84.237074</td>\n",
       "      <td>58.725762</td>\n",
       "      <td>57.225434</td>\n",
       "      <td>59.360731</td>\n",
       "      <td>70.873786</td>\n",
       "      <td>69.68254</td>\n",
       "      <td>79.739508</td>\n",
       "    </tr>\n",
       "  </tbody>\n",
       "</table>\n",
       "<p>1 rows × 38 columns</p>\n",
       "</div>"
      ],
      "text/plain": [
       "              VD001      VD002      VD003      VD004      VD005     VD006  \\\n",
       "Accuracy  52.818627  73.720609  42.522757  43.979058  71.834625  69.66443   \n",
       "\n",
       "              VD008      VD011      VD012      VD017  ...      VD049  \\\n",
       "Accuracy  63.981763  64.490862  70.703125  64.295875  ...  69.370629   \n",
       "\n",
       "              VD050      VD051      VD052      VD053      VD054      VD055  \\\n",
       "Accuracy  56.570513  68.319559  84.237074  58.725762  57.225434  59.360731   \n",
       "\n",
       "              VD056     VD057      VD058  \n",
       "Accuracy  70.873786  69.68254  79.739508  \n",
       "\n",
       "[1 rows x 38 columns]"
      ]
     },
     "execution_count": 17,
     "metadata": {},
     "output_type": "execute_result"
    }
   ],
   "source": [
    "df_acc = pd.DataFrame(dic_acc_total, index=['Accuracy'])\n",
    "df_acc"
   ]
  },
  {
   "cell_type": "code",
   "execution_count": 23,
   "id": "a417d595",
   "metadata": {},
   "outputs": [
    {
     "data": {
      "text/plain": [
       "<matplotlib.legend.Legend at 0x1d3c5168700>"
      ]
     },
     "execution_count": 23,
     "metadata": {},
     "output_type": "execute_result"
    },
    {
     "data": {
      "image/png": "[encoded data removed]",
      "text/plain": [
       "<Figure size 432x288 with 1 Axes>"
      ]
     },
     "metadata": {
      "needs_background": "light"
     },
     "output_type": "display_data"
    }
   ],
   "source": [
    "import matplotlib.pyplot as plt\n",
    "df_acc_YASA = df_acc.transpose()['Accuracy']\n",
    "sns.kdeplot(df_acc_YASA)\n",
    "sns.kdeplot(df_acc_Usleep)\n",
    "plt.legend(['YASA', 'Usleep'])\n"
   ]
  },
  {
   "cell_type": "code",
   "execution_count": 12,
   "id": "a5744170",
   "metadata": {
    "scrolled": true
   },
   "outputs": [
    {
     "data": {
      "text/plain": [
       "<AxesSubplot:xlabel='Accuracy', ylabel='Density'>"
      ]
     },
     "execution_count": 12,
     "metadata": {},
     "output_type": "execute_result"
    },
    {
     "data": {
      "image/png": "[encoded data removed]",
      "text/plain": [
       "<Figure size 432x288 with 1 Axes>"
      ]
     },
     "metadata": {
      "needs_background": "light"
     },
     "output_type": "display_data"
    }
   ],
   "source": [
    "import seaborn as sns\n",
    "sns.kdeplot(df_ac"
   ]
  },
  {
   "cell_type": "code",
   "execution_count": 5,
   "id": "ff611de9",
   "metadata": {},
   "outputs": [
    {
     "ename": "NameError",
     "evalue": "name 'dic_acc' is not defined",
     "output_type": "error",
     "traceback": [
      "\u001b[1;31m---------------------------------------------------------------------------\u001b[0m",
      "\u001b[1;31mNameError\u001b[0m                                 Traceback (most recent call last)",
      "Input \u001b[1;32mIn [5]\u001b[0m, in \u001b[0;36m<cell line: 1>\u001b[1;34m()\u001b[0m\n\u001b[1;32m----> 1\u001b[0m df_acc \u001b[38;5;241m=\u001b[39m pd\u001b[38;5;241m.\u001b[39mDataFrame(\u001b[43mdic_acc\u001b[49m, index\u001b[38;5;241m=\u001b[39m[\u001b[38;5;124m'\u001b[39m\u001b[38;5;124mAccuracy\u001b[39m\u001b[38;5;124m'\u001b[39m])\n\u001b[0;32m      2\u001b[0m df_acc \u001b[38;5;241m=\u001b[39m df_acc\u001b[38;5;241m.\u001b[39mtranspose()\n\u001b[0;32m      3\u001b[0m df_acc\u001b[38;5;241m.\u001b[39mhead()\n",
      "\u001b[1;31mNameError\u001b[0m: name 'dic_acc' is not defined"
     ]
    }
   ],
   "source": [
    "df_acc = pd.DataFrame(dic_acc, index=['Accuracy'])\n",
    "df_acc = df_acc.transpose()\n",
    "df_acc.head()"
   ]
  },
  {
   "cell_type": "code",
   "execution_count": 57,
   "id": "622d5de4",
   "metadata": {},
   "outputs": [
    {
     "name": "stdout",
     "output_type": "stream",
     "text": [
      "<class 'pandas.core.frame.DataFrame'>\n",
      "Index: 38 entries, VD001 to VD058\n",
      "Data columns (total 1 columns):\n",
      " #   Column    Non-Null Count  Dtype  \n",
      "---  ------    --------------  -----  \n",
      " 0   Accuracy  6 non-null      float64\n",
      "dtypes: float64(1)\n",
      "memory usage: 608.0+ bytes\n"
     ]
    }
   ],
   "source": [
    "df_acc[df_acc>80].info()"
   ]
  },
  {
   "cell_type": "code",
   "execution_count": 54,
   "id": "1979ac54",
   "metadata": {
    "scrolled": true
   },
   "outputs": [
    {
     "data": {
      "text/html": [
       "<div>\n",
       "<style scoped>\n",
       "    .dataframe tbody tr th:only-of-type {\n",
       "        vertical-align: middle;\n",
       "    }\n",
       "\n",
       "    .dataframe tbody tr th {\n",
       "        vertical-align: top;\n",
       "    }\n",
       "\n",
       "    .dataframe thead th {\n",
       "        text-align: right;\n",
       "    }\n",
       "</style>\n",
       "<table border=\"1\" class=\"dataframe\">\n",
       "  <thead>\n",
       "    <tr style=\"text-align: right;\">\n",
       "      <th></th>\n",
       "      <th>Accuracy</th>\n",
       "    </tr>\n",
       "  </thead>\n",
       "  <tbody>\n",
       "    <tr>\n",
       "      <th>count</th>\n",
       "      <td>38.000000</td>\n",
       "    </tr>\n",
       "    <tr>\n",
       "      <th>mean</th>\n",
       "      <td>70.743975</td>\n",
       "    </tr>\n",
       "    <tr>\n",
       "      <th>std</th>\n",
       "      <td>8.418434</td>\n",
       "    </tr>\n",
       "    <tr>\n",
       "      <th>min</th>\n",
       "      <td>51.625488</td>\n",
       "    </tr>\n",
       "    <tr>\n",
       "      <th>25%</th>\n",
       "      <td>64.459877</td>\n",
       "    </tr>\n",
       "    <tr>\n",
       "      <th>50%</th>\n",
       "      <td>71.633771</td>\n",
       "    </tr>\n",
       "    <tr>\n",
       "      <th>75%</th>\n",
       "      <td>77.242452</td>\n",
       "    </tr>\n",
       "    <tr>\n",
       "      <th>max</th>\n",
       "      <td>85.119798</td>\n",
       "    </tr>\n",
       "  </tbody>\n",
       "</table>\n",
       "</div>"
      ],
      "text/plain": [
       "        Accuracy\n",
       "count  38.000000\n",
       "mean   70.743975\n",
       "std     8.418434\n",
       "min    51.625488\n",
       "25%    64.459877\n",
       "50%    71.633771\n",
       "75%    77.242452\n",
       "max    85.119798"
      ]
     },
     "execution_count": 54,
     "metadata": {},
     "output_type": "execute_result"
    }
   ],
   "source": [
    "df_acc.describe()"
   ]
  },
  {
   "cell_type": "code",
   "execution_count": 25,
   "id": "be885d6f",
   "metadata": {
    "scrolled": true
   },
   "outputs": [
    {
     "data": {
      "text/plain": [
       "<matplotlib.legend.Legend at 0x15fe7122eb0>"
      ]
     },
     "execution_count": 25,
     "metadata": {},
     "output_type": "execute_result"
    },
    {
     "data": {
      "image/png": "[encoded data removed]",
      "text/plain": [
       "<Figure size 432x288 with 1 Axes>"
      ]
     },
     "metadata": {
      "needs_background": "light"
     },
     "output_type": "display_data"
    }
   ],
   "source": [
    "df_acc.iloc[:,:].plot()\n",
    "plt.legend(loc='upper center', bbox_to_anchor=(0.5, -0.1),\n",
    "          fancybox=True, shadow=True, ncol=3)"
   ]
  },
  {
   "cell_type": "code",
   "execution_count": 26,
   "id": "82d3fac4",
   "metadata": {},
   "outputs": [
    {
     "name": "stdout",
     "output_type": "stream",
     "text": [
      "['VD001']\n"
     ]
    }
   ],
   "source": [
    "print(matrix_key[0])"
   ]
  },
  {
   "cell_type": "code",
   "execution_count": 28,
   "id": "f5a146de",
   "metadata": {},
   "outputs": [
    {
     "data": {
      "text/html": [
       "<div>\n",
       "<style scoped>\n",
       "    .dataframe tbody tr th:only-of-type {\n",
       "        vertical-align: middle;\n",
       "    }\n",
       "\n",
       "    .dataframe tbody tr th {\n",
       "        vertical-align: top;\n",
       "    }\n",
       "\n",
       "    .dataframe thead th {\n",
       "        text-align: right;\n",
       "    }\n",
       "</style>\n",
       "<table border=\"1\" class=\"dataframe\">\n",
       "  <thead>\n",
       "    <tr style=\"text-align: right;\">\n",
       "      <th></th>\n",
       "      <th>Accuracy</th>\n",
       "    </tr>\n",
       "  </thead>\n",
       "  <tbody>\n",
       "    <tr>\n",
       "      <th>VD001</th>\n",
       "      <td>80.463097</td>\n",
       "    </tr>\n",
       "    <tr>\n",
       "      <th>VD002</th>\n",
       "      <td>62.132353</td>\n",
       "    </tr>\n",
       "    <tr>\n",
       "      <th>VD003</th>\n",
       "      <td>71.645920</td>\n",
       "    </tr>\n",
       "    <tr>\n",
       "      <th>VD004</th>\n",
       "      <td>51.625488</td>\n",
       "    </tr>\n",
       "    <tr>\n",
       "      <th>VD005</th>\n",
       "      <td>57.068063</td>\n",
       "    </tr>\n",
       "  </tbody>\n",
       "</table>\n",
       "</div>"
      ],
      "text/plain": [
       "        Accuracy\n",
       "VD001  80.463097\n",
       "VD002  62.132353\n",
       "VD003  71.645920\n",
       "VD004  51.625488\n",
       "VD005  57.068063"
      ]
     },
     "execution_count": 28,
     "metadata": {},
     "output_type": "execute_result"
    }
   ],
   "source": [
    "df_acc.head()"
   ]
  },
  {
   "cell_type": "code",
   "execution_count": 43,
   "id": "f06ffb29",
   "metadata": {},
   "outputs": [
    {
     "data": {
      "text/html": [
       "<div>\n",
       "<style scoped>\n",
       "    .dataframe tbody tr th:only-of-type {\n",
       "        vertical-align: middle;\n",
       "    }\n",
       "\n",
       "    .dataframe tbody tr th {\n",
       "        vertical-align: top;\n",
       "    }\n",
       "\n",
       "    .dataframe thead th {\n",
       "        text-align: right;\n",
       "    }\n",
       "</style>\n",
       "<table border=\"1\" class=\"dataframe\">\n",
       "  <thead>\n",
       "    <tr style=\"text-align: right;\">\n",
       "      <th></th>\n",
       "      <th>Wake</th>\n",
       "      <th>R</th>\n",
       "      <th>N1</th>\n",
       "      <th>N2</th>\n",
       "      <th>N3</th>\n",
       "    </tr>\n",
       "  </thead>\n",
       "  <tbody>\n",
       "    <tr>\n",
       "      <th>Wake</th>\n",
       "      <td>55.118421</td>\n",
       "      <td>9.094737</td>\n",
       "      <td>11.402632</td>\n",
       "      <td>19.902632</td>\n",
       "      <td>2.194737</td>\n",
       "    </tr>\n",
       "    <tr>\n",
       "      <th>R</th>\n",
       "      <td>1.992105</td>\n",
       "      <td>85.721053</td>\n",
       "      <td>4.276316</td>\n",
       "      <td>7.231579</td>\n",
       "      <td>0.015789</td>\n",
       "    </tr>\n",
       "    <tr>\n",
       "      <th>N1</th>\n",
       "      <td>16.973684</td>\n",
       "      <td>2.726316</td>\n",
       "      <td>29.815789</td>\n",
       "      <td>46.039474</td>\n",
       "      <td>2.978947</td>\n",
       "    </tr>\n",
       "    <tr>\n",
       "      <th>N2</th>\n",
       "      <td>1.655263</td>\n",
       "      <td>0.478947</td>\n",
       "      <td>3.563158</td>\n",
       "      <td>74.410526</td>\n",
       "      <td>19.589474</td>\n",
       "    </tr>\n",
       "    <tr>\n",
       "      <th>N3</th>\n",
       "      <td>3.131579</td>\n",
       "      <td>0.000000</td>\n",
       "      <td>0.000000</td>\n",
       "      <td>10.913158</td>\n",
       "      <td>62.386842</td>\n",
       "    </tr>\n",
       "  </tbody>\n",
       "</table>\n",
       "</div>"
      ],
      "text/plain": [
       "           Wake          R         N1         N2         N3\n",
       "Wake  55.118421   9.094737  11.402632  19.902632   2.194737\n",
       "R      1.992105  85.721053   4.276316   7.231579   0.015789\n",
       "N1    16.973684   2.726316  29.815789  46.039474   2.978947\n",
       "N2     1.655263   0.478947   3.563158  74.410526  19.589474\n",
       "N3     3.131579   0.000000   0.000000  10.913158  62.386842"
      ]
     },
     "execution_count": 43,
     "metadata": {},
     "output_type": "execute_result"
    }
   ],
   "source": [
    "total_df = dic_matrix[matrix_key[0][0]].mul(0)\n",
    "for sub_num in range(len(matrix_key)):\n",
    "    total_df += dic_matrix[matrix_key[sub_num][0]]\n",
    "total_df = total_df/len(matrix_key)\n",
    "total_df"
   ]
  },
  {
   "cell_type": "code",
   "execution_count": 31,
   "id": "694b106f",
   "metadata": {},
   "outputs": [
    {
     "data": {
      "text/plain": [
       "38"
      ]
     },
     "execution_count": 31,
     "metadata": {},
     "output_type": "execute_result"
    }
   ],
   "source": [
    "len(matrix_key)"
   ]
  },
  {
   "cell_type": "code",
   "execution_count": 39,
   "id": "3b1ddff6",
   "metadata": {},
   "outputs": [
    {
     "data": {
      "text/html": [
       "<div>\n",
       "<style scoped>\n",
       "    .dataframe tbody tr th:only-of-type {\n",
       "        vertical-align: middle;\n",
       "    }\n",
       "\n",
       "    .dataframe tbody tr th {\n",
       "        vertical-align: top;\n",
       "    }\n",
       "\n",
       "    .dataframe thead th {\n",
       "        text-align: right;\n",
       "    }\n",
       "</style>\n",
       "<table border=\"1\" class=\"dataframe\">\n",
       "  <thead>\n",
       "    <tr style=\"text-align: right;\">\n",
       "      <th></th>\n",
       "      <th>Wake</th>\n",
       "      <th>R</th>\n",
       "      <th>N1</th>\n",
       "      <th>N2</th>\n",
       "      <th>N3</th>\n",
       "    </tr>\n",
       "  </thead>\n",
       "  <tbody>\n",
       "    <tr>\n",
       "      <th>Wake</th>\n",
       "      <td>78.8</td>\n",
       "      <td>3.0</td>\n",
       "      <td>8.1</td>\n",
       "      <td>9.1</td>\n",
       "      <td>0.0</td>\n",
       "    </tr>\n",
       "    <tr>\n",
       "      <th>R</th>\n",
       "      <td>6.9</td>\n",
       "      <td>81.2</td>\n",
       "      <td>0.0</td>\n",
       "      <td>11.1</td>\n",
       "      <td>0.0</td>\n",
       "    </tr>\n",
       "    <tr>\n",
       "      <th>N1</th>\n",
       "      <td>33.3</td>\n",
       "      <td>2.8</td>\n",
       "      <td>15.7</td>\n",
       "      <td>45.4</td>\n",
       "      <td>1.9</td>\n",
       "    </tr>\n",
       "    <tr>\n",
       "      <th>N2</th>\n",
       "      <td>23.0</td>\n",
       "      <td>0.7</td>\n",
       "      <td>3.0</td>\n",
       "      <td>70.5</td>\n",
       "      <td>2.5</td>\n",
       "    </tr>\n",
       "    <tr>\n",
       "      <th>N3</th>\n",
       "      <td>6.1</td>\n",
       "      <td>0.0</td>\n",
       "      <td>0.0</td>\n",
       "      <td>77.3</td>\n",
       "      <td>15.2</td>\n",
       "    </tr>\n",
       "  </tbody>\n",
       "</table>\n",
       "</div>"
      ],
      "text/plain": [
       "      Wake     R    N1    N2    N3\n",
       "Wake  78.8   3.0   8.1   9.1   0.0\n",
       "R      6.9  81.2   0.0  11.1   0.0\n",
       "N1    33.3   2.8  15.7  45.4   1.9\n",
       "N2    23.0   0.7   3.0  70.5   2.5\n",
       "N3     6.1   0.0   0.0  77.3  15.2"
      ]
     },
     "execution_count": 39,
     "metadata": {},
     "output_type": "execute_result"
    }
   ],
   "source": [
    "total_df = dic_matrix[matrix_key[0][0]]\n",
    "total_df"
   ]
  },
  {
   "cell_type": "code",
   "execution_count": 27,
   "id": "0d67f22e",
   "metadata": {},
   "outputs": [],
   "source": [
    "def acc_diagonal(matrix):\n",
    "    W = matrix.iloc[0,0]\n",
    "    R = matrix.iloc[1,1]\n",
    "    N1 = matrix.iloc[2,2]\n",
    "    N2 = matrix.iloc[3,3]\n",
    "    N3 = matrix.iloc[4,4]\n",
    "    \n",
    "    diagonal_list = [W, R, N1, N2, N3]\n",
    "    #diagonal_df = pd.DataFrame(diagonal_list, index=['Wake', 'R', 'N1', 'N2', 'N3'], columns=[name])\n",
    "    #diagonal_df = diagonal_df.transpose()\n",
    "    return diagonal_list"
   ]
  },
  {
   "cell_type": "code",
   "execution_count": 53,
   "id": "a4bed48b",
   "metadata": {},
   "outputs": [
    {
     "data": {
      "text/html": [
       "<div>\n",
       "<style scoped>\n",
       "    .dataframe tbody tr th:only-of-type {\n",
       "        vertical-align: middle;\n",
       "    }\n",
       "\n",
       "    .dataframe tbody tr th {\n",
       "        vertical-align: top;\n",
       "    }\n",
       "\n",
       "    .dataframe thead th {\n",
       "        text-align: right;\n",
       "    }\n",
       "</style>\n",
       "<table border=\"1\" class=\"dataframe\">\n",
       "  <thead>\n",
       "    <tr style=\"text-align: right;\">\n",
       "      <th></th>\n",
       "      <th>Wake</th>\n",
       "      <th>R</th>\n",
       "      <th>N1</th>\n",
       "      <th>N2</th>\n",
       "      <th>N3</th>\n",
       "      <th>mean</th>\n",
       "    </tr>\n",
       "  </thead>\n",
       "  <tbody>\n",
       "    <tr>\n",
       "      <th>accuarcy</th>\n",
       "      <td>55.118421</td>\n",
       "      <td>85.721053</td>\n",
       "      <td>29.815789</td>\n",
       "      <td>74.410526</td>\n",
       "      <td>62.386842</td>\n",
       "      <td>61.490526</td>\n",
       "    </tr>\n",
       "  </tbody>\n",
       "</table>\n",
       "</div>"
      ],
      "text/plain": [
       "               Wake          R         N1         N2         N3       mean\n",
       "accuarcy  55.118421  85.721053  29.815789  74.410526  62.386842  61.490526"
      ]
     },
     "execution_count": 53,
     "metadata": {},
     "output_type": "execute_result"
    }
   ],
   "source": [
    "total_diagonal_dic = {\n",
    "    'accuarcy': acc_diagonal(total_df)\n",
    "}\n",
    "\n",
    "total_diagonal_df = pd.DataFrame(total_diagonal_dic, index=['Wake', 'R', 'N1', 'N2', 'N3'])\n",
    "total_diagonal_df = total_diagonal_df.transpose()\n",
    "total_diagonal_df.loc[:, 'mean'] = total_diagonal_df.mean(axis=1)\n",
    "total_diagonal_df"
   ]
  },
  {
   "cell_type": "code",
   "execution_count": null,
   "id": "f0d63db8",
   "metadata": {},
   "outputs": [],
   "source": []
  },
  {
   "cell_type": "code",
   "execution_count": null,
   "id": "a6a9f5c3",
   "metadata": {},
   "outputs": [],
   "source": []
  },
  {
   "cell_type": "code",
   "execution_count": 19,
   "id": "57935e4e",
   "metadata": {},
   "outputs": [
    {
     "data": {
      "text/plain": [
       "<AxesSubplot:xlabel='Time [hrs]', ylabel='Stage'>"
      ]
     },
     "execution_count": 19,
     "metadata": {},
     "output_type": "execute_result"
    },
    {
     "data": {
      "image/png": "[encoded data removed]",
      "text/plain": [
       "<Figure size 432x288 with 1 Axes>"
      ]
     },
     "metadata": {
      "needs_background": "light"
     },
     "output_type": "display_data"
    },
    {
     "data": {
      "image/png": "[encoded data removed]",
      "text/plain": [
       "<Figure size 648x216 with 1 Axes>"
      ]
     },
     "metadata": {
      "needs_background": "light"
     },
     "output_type": "display_data"
    }
   ],
   "source": [
    "import math\n",
    "def NaN_test(stage):\n",
    "    if math.isnan(stage):\n",
    "        return -1 \n",
    "    return stage\n",
    "\n",
    "(g_hypno.apply(NaN_test) == -1).sum()\n",
    "# sub_num=4의 ground truth에는 NaN 값이 없음\n",
    "(g_hypno == 3).sum()\n",
    "g_hypno.plot()\n",
    "yasa.plot_hypnogram(g_hypno)"
   ]
  },
  {
   "cell_type": "code",
   "execution_count": null,
   "id": "c566d478",
   "metadata": {},
   "outputs": [],
   "source": []
  }
 ],
 "metadata": {
  "kernelspec": {
   "display_name": "Python 3 (ipykernel)",
   "language": "python",
   "name": "python3"
  },
  "language_info": {
   "codemirror_mode": {
    "name": "ipython",
    "version": 3
   },
   "file_extension": ".py",
   "mimetype": "text/x-python",
   "name": "python",
   "nbconvert_exporter": "python",
   "pygments_lexer": "ipython3",
   "version": "3.9.7"
  }
 },
 "nbformat": 4,
 "nbformat_minor": 5
}
