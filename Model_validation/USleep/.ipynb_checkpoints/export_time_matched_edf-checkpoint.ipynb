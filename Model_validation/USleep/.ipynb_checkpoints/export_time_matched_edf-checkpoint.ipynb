{
 "cells": [
  {
   "cell_type": "markdown",
   "id": "8757a42d",
   "metadata": {},
   "source": [
    "# 1. LE dataset"
   ]
  },
  {
   "cell_type": "code",
   "execution_count": 1,
   "id": "e666d36d",
   "metadata": {},
   "outputs": [],
   "source": [
    "import os\n",
    "import pandas as pd\n",
    "import load_match_save"
   ]
  },
  {
   "cell_type": "code",
   "execution_count": 3,
   "id": "cf4b23a1",
   "metadata": {},
   "outputs": [
    {
     "name": "stdout",
     "output_type": "stream",
     "text": [
      "['LE004-1_edf', 'LE010-3_edf', 'LE011-1_edf', 'LE014-3_edf', 'LE019-1_edf', 'LE020-3_edf', 'LE021-2_edf', 'LE023-3_edf']\n"
     ]
    },
    {
     "data": {
      "text/html": [
       "<div>\n",
       "<style scoped>\n",
       "    .dataframe tbody tr th:only-of-type {\n",
       "        vertical-align: middle;\n",
       "    }\n",
       "\n",
       "    .dataframe tbody tr th {\n",
       "        vertical-align: top;\n",
       "    }\n",
       "\n",
       "    .dataframe thead th {\n",
       "        text-align: right;\n",
       "    }\n",
       "</style>\n",
       "<table border=\"1\" class=\"dataframe\">\n",
       "  <thead>\n",
       "    <tr style=\"text-align: right;\">\n",
       "      <th></th>\n",
       "      <th>hypno_start</th>\n",
       "      <th>hypno_end</th>\n",
       "      <th>edf_start</th>\n",
       "      <th>edf_duration</th>\n",
       "      <th>edf_end</th>\n",
       "      <th>start_mismatch</th>\n",
       "      <th>end_mismatch</th>\n",
       "    </tr>\n",
       "  </thead>\n",
       "  <tbody>\n",
       "    <tr>\n",
       "      <th>LE004</th>\n",
       "      <td>0:31:00</td>\n",
       "      <td>5:52:00</td>\n",
       "      <td>0:17:47</td>\n",
       "      <td>5:34:26</td>\n",
       "      <td>5:52:13</td>\n",
       "      <td>0</td>\n",
       "      <td>0</td>\n",
       "    </tr>\n",
       "    <tr>\n",
       "      <th>LE010</th>\n",
       "      <td>0:24:30</td>\n",
       "      <td>6:36:30</td>\n",
       "      <td>0:16:31</td>\n",
       "      <td>6:20:54</td>\n",
       "      <td>6:37:25</td>\n",
       "      <td>0</td>\n",
       "      <td>0</td>\n",
       "    </tr>\n",
       "    <tr>\n",
       "      <th>LE011</th>\n",
       "      <td>0:13:00</td>\n",
       "      <td>6:39:00</td>\n",
       "      <td>0:10:39</td>\n",
       "      <td>6:36:12</td>\n",
       "      <td>6:46:51</td>\n",
       "      <td>0</td>\n",
       "      <td>0</td>\n",
       "    </tr>\n",
       "    <tr>\n",
       "      <th>LE014</th>\n",
       "      <td>0:24:30</td>\n",
       "      <td>6:08:00</td>\n",
       "      <td>0:18:44</td>\n",
       "      <td>5:49:56</td>\n",
       "      <td>6:08:40</td>\n",
       "      <td>0</td>\n",
       "      <td>0</td>\n",
       "    </tr>\n",
       "    <tr>\n",
       "      <th>LE019</th>\n",
       "      <td>0:32:00</td>\n",
       "      <td>6:18:30</td>\n",
       "      <td>0:12:15</td>\n",
       "      <td>6:07:08</td>\n",
       "      <td>6:19:23</td>\n",
       "      <td>0</td>\n",
       "      <td>0</td>\n",
       "    </tr>\n",
       "    <tr>\n",
       "      <th>LE020</th>\n",
       "      <td>0:24:30</td>\n",
       "      <td>6:13:00</td>\n",
       "      <td>0:19:18</td>\n",
       "      <td>5:54:02</td>\n",
       "      <td>6:13:20</td>\n",
       "      <td>0</td>\n",
       "      <td>0</td>\n",
       "    </tr>\n",
       "    <tr>\n",
       "      <th>LE021</th>\n",
       "      <td>0:35:00</td>\n",
       "      <td>6:08:00</td>\n",
       "      <td>0:32:14</td>\n",
       "      <td>5:36:08</td>\n",
       "      <td>6:08:22</td>\n",
       "      <td>0</td>\n",
       "      <td>0</td>\n",
       "    </tr>\n",
       "    <tr>\n",
       "      <th>LE023</th>\n",
       "      <td>0:33:30</td>\n",
       "      <td>5:45:00</td>\n",
       "      <td>0:32:55</td>\n",
       "      <td>5:13:18</td>\n",
       "      <td>5:46:13</td>\n",
       "      <td>0</td>\n",
       "      <td>0</td>\n",
       "    </tr>\n",
       "  </tbody>\n",
       "</table>\n",
       "</div>"
      ],
      "text/plain": [
       "      hypno_start hypno_end edf_start edf_duration  edf_end  start_mismatch  \\\n",
       "LE004     0:31:00   5:52:00   0:17:47      5:34:26  5:52:13               0   \n",
       "LE010     0:24:30   6:36:30   0:16:31      6:20:54  6:37:25               0   \n",
       "LE011     0:13:00   6:39:00   0:10:39      6:36:12  6:46:51               0   \n",
       "LE014     0:24:30   6:08:00   0:18:44      5:49:56  6:08:40               0   \n",
       "LE019     0:32:00   6:18:30   0:12:15      6:07:08  6:19:23               0   \n",
       "LE020     0:24:30   6:13:00   0:19:18      5:54:02  6:13:20               0   \n",
       "LE021     0:35:00   6:08:00   0:32:14      5:36:08  6:08:22               0   \n",
       "LE023     0:33:30   5:45:00   0:32:55      5:13:18  5:46:13               0   \n",
       "\n",
       "       end_mismatch  \n",
       "LE004             0  \n",
       "LE010             0  \n",
       "LE011             0  \n",
       "LE014             0  \n",
       "LE019             0  \n",
       "LE020             0  \n",
       "LE021             0  \n",
       "LE023             0  "
      ]
     },
     "execution_count": 3,
     "metadata": {},
     "output_type": "execute_result"
    }
   ],
   "source": [
    "path_subjects_edf = 'D:\\\\USC\\\\Sleep dataset\\\\Samsung_data\\\\NEW_EDF'\n",
    "subjects_edf = os.listdir(path_subjects_edf)\n",
    "subjects_edf.sort()\n",
    "print(subjects_edf)\n",
    "\n",
    "meas_time_df = pd.read_csv('D:\\\\USC\\\\code_mine\\\\Exploration_for_VD_dataset\\\\meas_time_edf_hypno.csv', index_col=0)\n",
    "meas_time_df = meas_time_df.loc['LE004':'LE023']\n",
    "meas_time_df"
   ]
  },
  {
   "cell_type": "code",
   "execution_count": 3,
   "id": "bde98a0e",
   "metadata": {
    "scrolled": true
   },
   "outputs": [
    {
     "name": "stdout",
     "output_type": "stream",
     "text": [
      "-- D:\\USC\\Sleep dataset\\Samsung_data\\NEW_EDF\\LE004-1_edf\\Traces.edf\n",
      "[]\n",
      "-- Available Channels: ['SO', 'C3', 'C4', 'IO']\n",
      "-- Edf time before matching: 0:17:47  5:52:13\n",
      "-- Edf time after mathcing: 0:30:30  5:52:00\n",
      "-- ground_truth time: 0:31:00  5:52:00\n"
     ]
    },
    {
     "name": "stderr",
     "output_type": "stream",
     "text": [
      "D:\\USC\\code_mine\\Model_validation\\USleep\\load_match_save.py:62: RuntimeWarning: EDF format requires equal-length data blocks, so 0.998 seconds of zeros were appended to all channels when writing the final block.\n",
      "  mne.export.export_raw(save_as, raw, fmt='edf')\n"
     ]
    },
    {
     "name": "stdout",
     "output_type": "stream",
     "text": [
      "-- D:\\USC\\Sleep dataset\\Samsung_data\\NEW_EDF\\LE010-3_edf\\Traces.edf\n",
      "[]\n",
      "-- Available Channels: ['SO', 'C3', 'C4', 'IO']\n",
      "-- Edf time before matching: 0:16:31  6:37:25\n",
      "-- Edf time after mathcing: 0:24:00  6:36:30\n",
      "-- ground_truth time: 0:24:30  6:36:30\n"
     ]
    },
    {
     "name": "stderr",
     "output_type": "stream",
     "text": [
      "D:\\USC\\code_mine\\Model_validation\\USleep\\load_match_save.py:62: RuntimeWarning: EDF format requires equal-length data blocks, so 0.998 seconds of zeros were appended to all channels when writing the final block.\n",
      "  mne.export.export_raw(save_as, raw, fmt='edf')\n"
     ]
    },
    {
     "name": "stdout",
     "output_type": "stream",
     "text": [
      "-- D:\\USC\\Sleep dataset\\Samsung_data\\NEW_EDF\\LE011-1_edf\\Traces.edf\n",
      "[]\n",
      "-- Available Channels: ['SO', 'C3', 'C4', 'IO']\n",
      "-- Edf time before matching: 0:10:39  6:46:51\n",
      "-- Edf time after mathcing: 0:12:30  6:39:00\n",
      "-- ground_truth time: 0:13:00  6:39:00\n"
     ]
    },
    {
     "name": "stderr",
     "output_type": "stream",
     "text": [
      "D:\\USC\\code_mine\\Model_validation\\USleep\\load_match_save.py:62: RuntimeWarning: EDF format requires equal-length data blocks, so 0.998 seconds of zeros were appended to all channels when writing the final block.\n",
      "  mne.export.export_raw(save_as, raw, fmt='edf')\n"
     ]
    },
    {
     "name": "stdout",
     "output_type": "stream",
     "text": [
      "-- D:\\USC\\Sleep dataset\\Samsung_data\\NEW_EDF\\LE014-3_edf\\Traces.edf\n",
      "[]\n",
      "-- Available Channels: ['SO', 'C3', 'C4', 'IO']\n",
      "-- Edf time before matching: 0:18:44  6:08:40\n",
      "-- Edf time after mathcing: 0:24:00  6:08:00\n",
      "-- ground_truth time: 0:24:30  6:08:00\n"
     ]
    },
    {
     "name": "stderr",
     "output_type": "stream",
     "text": [
      "D:\\USC\\code_mine\\Model_validation\\USleep\\load_match_save.py:62: RuntimeWarning: EDF format requires equal-length data blocks, so 0.998 seconds of zeros were appended to all channels when writing the final block.\n",
      "  mne.export.export_raw(save_as, raw, fmt='edf')\n"
     ]
    },
    {
     "name": "stdout",
     "output_type": "stream",
     "text": [
      "-- D:\\USC\\Sleep dataset\\Samsung_data\\NEW_EDF\\LE019-1_edf\\Traces.edf\n",
      "[]\n",
      "-- Available Channels: ['SO', 'C3', 'C4', 'IO']\n",
      "-- Edf time before matching: 0:12:15  6:19:23\n",
      "-- Edf time after mathcing: 0:31:30  6:18:30\n",
      "-- ground_truth time: 0:32:00  6:18:30\n"
     ]
    },
    {
     "name": "stderr",
     "output_type": "stream",
     "text": [
      "D:\\USC\\code_mine\\Model_validation\\USleep\\load_match_save.py:62: RuntimeWarning: EDF format requires equal-length data blocks, so 0.998 seconds of zeros were appended to all channels when writing the final block.\n",
      "  mne.export.export_raw(save_as, raw, fmt='edf')\n"
     ]
    },
    {
     "name": "stdout",
     "output_type": "stream",
     "text": [
      "-- D:\\USC\\Sleep dataset\\Samsung_data\\NEW_EDF\\LE020-3_edf\\Traces.edf\n",
      "[]\n",
      "-- Available Channels: ['SO', 'C3', 'C4', 'IO']\n",
      "-- Edf time before matching: 0:19:18  6:13:20\n",
      "-- Edf time after mathcing: 0:24:00  6:13:00\n",
      "-- ground_truth time: 0:24:30  6:13:00\n"
     ]
    },
    {
     "name": "stderr",
     "output_type": "stream",
     "text": [
      "D:\\USC\\code_mine\\Model_validation\\USleep\\load_match_save.py:62: RuntimeWarning: EDF format requires equal-length data blocks, so 0.998 seconds of zeros were appended to all channels when writing the final block.\n",
      "  mne.export.export_raw(save_as, raw, fmt='edf')\n"
     ]
    },
    {
     "name": "stdout",
     "output_type": "stream",
     "text": [
      "-- D:\\USC\\Sleep dataset\\Samsung_data\\NEW_EDF\\LE021-2_edf\\Traces.edf\n",
      "[]\n",
      "-- Available Channels: ['SO', 'C3', 'C4', 'IO']\n",
      "-- Edf time before matching: 0:32:14  6:08:22\n",
      "-- Edf time after mathcing: 0:34:30  6:08:00\n",
      "-- ground_truth time: 0:35:00  6:08:00\n"
     ]
    },
    {
     "name": "stderr",
     "output_type": "stream",
     "text": [
      "D:\\USC\\code_mine\\Model_validation\\USleep\\load_match_save.py:62: RuntimeWarning: EDF format requires equal-length data blocks, so 0.998 seconds of zeros were appended to all channels when writing the final block.\n",
      "  mne.export.export_raw(save_as, raw, fmt='edf')\n"
     ]
    },
    {
     "name": "stdout",
     "output_type": "stream",
     "text": [
      "-- D:\\USC\\Sleep dataset\\Samsung_data\\NEW_EDF\\LE023-3_edf\\Traces.edf\n",
      "[]\n",
      "-- Available Channels: ['SO', 'C3', 'C4', 'IO']\n",
      "-- Edf time before matching: 0:32:55  5:46:13\n",
      "-- Edf time after mathcing: 0:33:00  5:45:00\n",
      "-- ground_truth time: 0:33:30  5:45:00\n"
     ]
    },
    {
     "name": "stderr",
     "output_type": "stream",
     "text": [
      "D:\\USC\\code_mine\\Model_validation\\USleep\\load_match_save.py:62: RuntimeWarning: EDF format requires equal-length data blocks, so 0.998 seconds of zeros were appended to all channels when writing the final block.\n",
      "  mne.export.export_raw(save_as, raw, fmt='edf')\n"
     ]
    }
   ],
   "source": [
    "for subject_edf in subjects_edf:\n",
    "    load_match_save.do_it(path_subjects_edf, subject_edf, meas_time_df)"
   ]
  },
  {
   "cell_type": "markdown",
   "id": "f0a7374f",
   "metadata": {},
   "source": [
    "# 2. VD dataset"
   ]
  },
  {
   "cell_type": "code",
   "execution_count": 7,
   "id": "39904f8f",
   "metadata": {},
   "outputs": [],
   "source": [
    "import os\n",
    "import pandas as pd\n",
    "import load_match_save"
   ]
  },
  {
   "cell_type": "code",
   "execution_count": 8,
   "id": "ecc00294",
   "metadata": {
    "scrolled": true
   },
   "outputs": [
    {
     "name": "stdout",
     "output_type": "stream",
     "text": [
      "['VD001', 'VD002', 'VD003', 'VD004', 'VD005', 'VD006', 'VD007', 'VD008', 'VD011', 'VD012', 'VD013', 'VD017', 'VD019', 'VD022', 'VD023', 'VD025', 'VD028', 'VD029', 'VD030', 'VD031', 'VD033', 'VD034', 'VD039', 'VD041', 'VD042', 'VD043', 'VD044', 'VD045', 'VD046', 'VD047', 'VD049', 'VD050', 'VD051', 'VD052', 'VD053', 'VD054', 'VD055', 'VD056', 'VD057', 'VD058']\n"
     ]
    },
    {
     "data": {
      "text/html": [
       "<div>\n",
       "<style scoped>\n",
       "    .dataframe tbody tr th:only-of-type {\n",
       "        vertical-align: middle;\n",
       "    }\n",
       "\n",
       "    .dataframe tbody tr th {\n",
       "        vertical-align: top;\n",
       "    }\n",
       "\n",
       "    .dataframe thead th {\n",
       "        text-align: right;\n",
       "    }\n",
       "</style>\n",
       "<table border=\"1\" class=\"dataframe\">\n",
       "  <thead>\n",
       "    <tr style=\"text-align: right;\">\n",
       "      <th></th>\n",
       "      <th>hypno_start</th>\n",
       "      <th>hypno_end</th>\n",
       "      <th>edf_start</th>\n",
       "      <th>edf_duration</th>\n",
       "      <th>edf_end</th>\n",
       "      <th>start_mismatch</th>\n",
       "      <th>end_mismatch</th>\n",
       "    </tr>\n",
       "  </thead>\n",
       "  <tbody>\n",
       "    <tr>\n",
       "      <th>LE004</th>\n",
       "      <td>0:31:00</td>\n",
       "      <td>5:52:00</td>\n",
       "      <td>0:17:47</td>\n",
       "      <td>5:34:26</td>\n",
       "      <td>5:52:13</td>\n",
       "      <td>0</td>\n",
       "      <td>0</td>\n",
       "    </tr>\n",
       "    <tr>\n",
       "      <th>LE010</th>\n",
       "      <td>0:24:30</td>\n",
       "      <td>6:36:30</td>\n",
       "      <td>0:16:31</td>\n",
       "      <td>6:20:54</td>\n",
       "      <td>6:37:25</td>\n",
       "      <td>0</td>\n",
       "      <td>0</td>\n",
       "    </tr>\n",
       "    <tr>\n",
       "      <th>LE011</th>\n",
       "      <td>0:13:00</td>\n",
       "      <td>6:39:00</td>\n",
       "      <td>0:10:39</td>\n",
       "      <td>6:36:12</td>\n",
       "      <td>6:46:51</td>\n",
       "      <td>0</td>\n",
       "      <td>0</td>\n",
       "    </tr>\n",
       "    <tr>\n",
       "      <th>LE014</th>\n",
       "      <td>0:24:30</td>\n",
       "      <td>6:08:00</td>\n",
       "      <td>0:18:44</td>\n",
       "      <td>5:49:56</td>\n",
       "      <td>6:08:40</td>\n",
       "      <td>0</td>\n",
       "      <td>0</td>\n",
       "    </tr>\n",
       "    <tr>\n",
       "      <th>LE019</th>\n",
       "      <td>0:32:00</td>\n",
       "      <td>6:18:30</td>\n",
       "      <td>0:12:15</td>\n",
       "      <td>6:07:08</td>\n",
       "      <td>6:19:23</td>\n",
       "      <td>0</td>\n",
       "      <td>0</td>\n",
       "    </tr>\n",
       "    <tr>\n",
       "      <th>LE020</th>\n",
       "      <td>0:24:30</td>\n",
       "      <td>6:13:00</td>\n",
       "      <td>0:19:18</td>\n",
       "      <td>5:54:02</td>\n",
       "      <td>6:13:20</td>\n",
       "      <td>0</td>\n",
       "      <td>0</td>\n",
       "    </tr>\n",
       "    <tr>\n",
       "      <th>LE021</th>\n",
       "      <td>0:35:00</td>\n",
       "      <td>6:08:00</td>\n",
       "      <td>0:32:14</td>\n",
       "      <td>5:36:08</td>\n",
       "      <td>6:08:22</td>\n",
       "      <td>0</td>\n",
       "      <td>0</td>\n",
       "    </tr>\n",
       "    <tr>\n",
       "      <th>LE023</th>\n",
       "      <td>0:33:30</td>\n",
       "      <td>5:45:00</td>\n",
       "      <td>0:32:55</td>\n",
       "      <td>5:13:18</td>\n",
       "      <td>5:46:13</td>\n",
       "      <td>0</td>\n",
       "      <td>0</td>\n",
       "    </tr>\n",
       "    <tr>\n",
       "      <th>VD001</th>\n",
       "      <td>0:09:30</td>\n",
       "      <td>6:57:00</td>\n",
       "      <td>18:00:40</td>\n",
       "      <td>13:03:22</td>\n",
       "      <td>7:04:02</td>\n",
       "      <td>0</td>\n",
       "      <td>0</td>\n",
       "    </tr>\n",
       "    <tr>\n",
       "      <th>VD002</th>\n",
       "      <td>0:11:00</td>\n",
       "      <td>6:12:00</td>\n",
       "      <td>17:59:23</td>\n",
       "      <td>12:12:44</td>\n",
       "      <td>6:12:07</td>\n",
       "      <td>0</td>\n",
       "      <td>0</td>\n",
       "    </tr>\n",
       "    <tr>\n",
       "      <th>VD003</th>\n",
       "      <td>0:26:30</td>\n",
       "      <td>6:50:30</td>\n",
       "      <td>18:12:29</td>\n",
       "      <td>12:38:08</td>\n",
       "      <td>6:50:37</td>\n",
       "      <td>0</td>\n",
       "      <td>0</td>\n",
       "    </tr>\n",
       "    <tr>\n",
       "      <th>VD004</th>\n",
       "      <td>0:16:00</td>\n",
       "      <td>6:37:30</td>\n",
       "      <td>18:06:45</td>\n",
       "      <td>12:30:56</td>\n",
       "      <td>6:37:41</td>\n",
       "      <td>0</td>\n",
       "      <td>0</td>\n",
       "    </tr>\n",
       "    <tr>\n",
       "      <th>VD005</th>\n",
       "      <td>0:14:00</td>\n",
       "      <td>6:40:30</td>\n",
       "      <td>17:55:33</td>\n",
       "      <td>12:45:28</td>\n",
       "      <td>6:41:01</td>\n",
       "      <td>0</td>\n",
       "      <td>0</td>\n",
       "    </tr>\n",
       "    <tr>\n",
       "      <th>VD006</th>\n",
       "      <td>0:12:00</td>\n",
       "      <td>6:24:00</td>\n",
       "      <td>18:45:39</td>\n",
       "      <td>11:38:42</td>\n",
       "      <td>6:24:21</td>\n",
       "      <td>0</td>\n",
       "      <td>0</td>\n",
       "    </tr>\n",
       "    <tr>\n",
       "      <th>VD007</th>\n",
       "      <td>0:15:00</td>\n",
       "      <td>6:33:00</td>\n",
       "      <td>18:05:39</td>\n",
       "      <td>12:27:48</td>\n",
       "      <td>6:33:27</td>\n",
       "      <td>0</td>\n",
       "      <td>0</td>\n",
       "    </tr>\n",
       "    <tr>\n",
       "      <th>VD008</th>\n",
       "      <td>1:14:30</td>\n",
       "      <td>6:43:00</td>\n",
       "      <td>19:02:05</td>\n",
       "      <td>11:41:22</td>\n",
       "      <td>6:43:27</td>\n",
       "      <td>0</td>\n",
       "      <td>0</td>\n",
       "    </tr>\n",
       "    <tr>\n",
       "      <th>VD011</th>\n",
       "      <td>0:08:00</td>\n",
       "      <td>6:30:30</td>\n",
       "      <td>18:39:12</td>\n",
       "      <td>11:51:20</td>\n",
       "      <td>6:30:32</td>\n",
       "      <td>0</td>\n",
       "      <td>0</td>\n",
       "    </tr>\n",
       "    <tr>\n",
       "      <th>VD012</th>\n",
       "      <td>0:06:30</td>\n",
       "      <td>6:30:00</td>\n",
       "      <td>17:56:32</td>\n",
       "      <td>12:33:52</td>\n",
       "      <td>6:30:24</td>\n",
       "      <td>0</td>\n",
       "      <td>0</td>\n",
       "    </tr>\n",
       "    <tr>\n",
       "      <th>VD013</th>\n",
       "      <td>0:20:00</td>\n",
       "      <td>6:45:00</td>\n",
       "      <td>18:28:26</td>\n",
       "      <td>12:16:48</td>\n",
       "      <td>6:45:14</td>\n",
       "      <td>0</td>\n",
       "      <td>0</td>\n",
       "    </tr>\n",
       "    <tr>\n",
       "      <th>VD017</th>\n",
       "      <td>0:10:00</td>\n",
       "      <td>6:01:00</td>\n",
       "      <td>17:57:42</td>\n",
       "      <td>12:03:48</td>\n",
       "      <td>6:01:30</td>\n",
       "      <td>0</td>\n",
       "      <td>0</td>\n",
       "    </tr>\n",
       "    <tr>\n",
       "      <th>VD019</th>\n",
       "      <td>0:10:00</td>\n",
       "      <td>6:34:00</td>\n",
       "      <td>18:25:28</td>\n",
       "      <td>12:08:50</td>\n",
       "      <td>6:34:18</td>\n",
       "      <td>0</td>\n",
       "      <td>0</td>\n",
       "    </tr>\n",
       "    <tr>\n",
       "      <th>VD022</th>\n",
       "      <td>23:58:30</td>\n",
       "      <td>6:30:00</td>\n",
       "      <td>18:22:50</td>\n",
       "      <td>12:07:26</td>\n",
       "      <td>6:30:16</td>\n",
       "      <td>0</td>\n",
       "      <td>0</td>\n",
       "    </tr>\n",
       "    <tr>\n",
       "      <th>VD023</th>\n",
       "      <td>0:13:30</td>\n",
       "      <td>6:32:30</td>\n",
       "      <td>18:41:54</td>\n",
       "      <td>11:51:10</td>\n",
       "      <td>6:33:04</td>\n",
       "      <td>0</td>\n",
       "      <td>0</td>\n",
       "    </tr>\n",
       "    <tr>\n",
       "      <th>VD024</th>\n",
       "      <td>0:14:30</td>\n",
       "      <td>6:34:00</td>\n",
       "      <td>18:16:50</td>\n",
       "      <td>12:17:08</td>\n",
       "      <td>6:33:58</td>\n",
       "      <td>0</td>\n",
       "      <td>0</td>\n",
       "    </tr>\n",
       "    <tr>\n",
       "      <th>VD025</th>\n",
       "      <td>0:28:30</td>\n",
       "      <td>5:27:00</td>\n",
       "      <td>18:41:49</td>\n",
       "      <td>10:45:26</td>\n",
       "      <td>5:27:15</td>\n",
       "      <td>0</td>\n",
       "      <td>0</td>\n",
       "    </tr>\n",
       "    <tr>\n",
       "      <th>VD028</th>\n",
       "      <td>0:10:30</td>\n",
       "      <td>6:41:30</td>\n",
       "      <td>18:00:14</td>\n",
       "      <td>12:42:00</td>\n",
       "      <td>6:42:14</td>\n",
       "      <td>0</td>\n",
       "      <td>0</td>\n",
       "    </tr>\n",
       "    <tr>\n",
       "      <th>VD029</th>\n",
       "      <td>0:07:00</td>\n",
       "      <td>6:38:00</td>\n",
       "      <td>17:54:36</td>\n",
       "      <td>12:43:52</td>\n",
       "      <td>6:38:28</td>\n",
       "      <td>0</td>\n",
       "      <td>0</td>\n",
       "    </tr>\n",
       "    <tr>\n",
       "      <th>VD030</th>\n",
       "      <td>0:42:30</td>\n",
       "      <td>7:06:00</td>\n",
       "      <td>18:22:51</td>\n",
       "      <td>12:45:10</td>\n",
       "      <td>7:08:01</td>\n",
       "      <td>0</td>\n",
       "      <td>0</td>\n",
       "    </tr>\n",
       "    <tr>\n",
       "      <th>VD031</th>\n",
       "      <td>0:11:00</td>\n",
       "      <td>6:08:30</td>\n",
       "      <td>17:59:14</td>\n",
       "      <td>12:11:00</td>\n",
       "      <td>6:10:14</td>\n",
       "      <td>0</td>\n",
       "      <td>0</td>\n",
       "    </tr>\n",
       "    <tr>\n",
       "      <th>VD033</th>\n",
       "      <td>0:33:00</td>\n",
       "      <td>6:30:30</td>\n",
       "      <td>18:33:26</td>\n",
       "      <td>11:57:08</td>\n",
       "      <td>6:30:34</td>\n",
       "      <td>0</td>\n",
       "      <td>0</td>\n",
       "    </tr>\n",
       "    <tr>\n",
       "      <th>VD034</th>\n",
       "      <td>0:17:00</td>\n",
       "      <td>7:27:30</td>\n",
       "      <td>18:11:02</td>\n",
       "      <td>13:17:12</td>\n",
       "      <td>7:28:14</td>\n",
       "      <td>0</td>\n",
       "      <td>0</td>\n",
       "    </tr>\n",
       "    <tr>\n",
       "      <th>VD039</th>\n",
       "      <td>0:27:00</td>\n",
       "      <td>6:59:30</td>\n",
       "      <td>18:21:40</td>\n",
       "      <td>12:39:38</td>\n",
       "      <td>7:01:18</td>\n",
       "      <td>0</td>\n",
       "      <td>0</td>\n",
       "    </tr>\n",
       "    <tr>\n",
       "      <th>VD041</th>\n",
       "      <td>0:52:00</td>\n",
       "      <td>7:52:30</td>\n",
       "      <td>18:36:17</td>\n",
       "      <td>13:17:10</td>\n",
       "      <td>7:53:27</td>\n",
       "      <td>0</td>\n",
       "      <td>0</td>\n",
       "    </tr>\n",
       "    <tr>\n",
       "      <th>VD042</th>\n",
       "      <td>0:52:00</td>\n",
       "      <td>6:37:30</td>\n",
       "      <td>18:51:05</td>\n",
       "      <td>11:48:04</td>\n",
       "      <td>6:39:09</td>\n",
       "      <td>0</td>\n",
       "      <td>0</td>\n",
       "    </tr>\n",
       "    <tr>\n",
       "      <th>VD043</th>\n",
       "      <td>0:10:30</td>\n",
       "      <td>6:04:00</td>\n",
       "      <td>18:15:08</td>\n",
       "      <td>11:49:08</td>\n",
       "      <td>6:04:16</td>\n",
       "      <td>0</td>\n",
       "      <td>0</td>\n",
       "    </tr>\n",
       "    <tr>\n",
       "      <th>VD044</th>\n",
       "      <td>0:32:30</td>\n",
       "      <td>6:05:00</td>\n",
       "      <td>18:17:08</td>\n",
       "      <td>11:48:22</td>\n",
       "      <td>6:05:30</td>\n",
       "      <td>0</td>\n",
       "      <td>0</td>\n",
       "    </tr>\n",
       "    <tr>\n",
       "      <th>VD045</th>\n",
       "      <td>0:54:30</td>\n",
       "      <td>6:00:30</td>\n",
       "      <td>19:03:54</td>\n",
       "      <td>10:57:10</td>\n",
       "      <td>6:01:04</td>\n",
       "      <td>0</td>\n",
       "      <td>0</td>\n",
       "    </tr>\n",
       "    <tr>\n",
       "      <th>VD046</th>\n",
       "      <td>0:20:00</td>\n",
       "      <td>5:30:30</td>\n",
       "      <td>17:59:21</td>\n",
       "      <td>11:31:32</td>\n",
       "      <td>5:30:53</td>\n",
       "      <td>0</td>\n",
       "      <td>0</td>\n",
       "    </tr>\n",
       "    <tr>\n",
       "      <th>VD047</th>\n",
       "      <td>1:13:00</td>\n",
       "      <td>6:31:30</td>\n",
       "      <td>19:46:08</td>\n",
       "      <td>10:46:40</td>\n",
       "      <td>6:32:48</td>\n",
       "      <td>0</td>\n",
       "      <td>0</td>\n",
       "    </tr>\n",
       "    <tr>\n",
       "      <th>VD049</th>\n",
       "      <td>0:23:00</td>\n",
       "      <td>6:20:00</td>\n",
       "      <td>18:19:16</td>\n",
       "      <td>12:01:16</td>\n",
       "      <td>6:20:32</td>\n",
       "      <td>0</td>\n",
       "      <td>0</td>\n",
       "    </tr>\n",
       "    <tr>\n",
       "      <th>VD050</th>\n",
       "      <td>1:16:00</td>\n",
       "      <td>6:27:30</td>\n",
       "      <td>19:05:20</td>\n",
       "      <td>11:24:04</td>\n",
       "      <td>6:29:24</td>\n",
       "      <td>0</td>\n",
       "      <td>0</td>\n",
       "    </tr>\n",
       "    <tr>\n",
       "      <th>VD051</th>\n",
       "      <td>0:49:00</td>\n",
       "      <td>6:51:30</td>\n",
       "      <td>18:49:25</td>\n",
       "      <td>12:03:32</td>\n",
       "      <td>6:52:57</td>\n",
       "      <td>0</td>\n",
       "      <td>0</td>\n",
       "    </tr>\n",
       "    <tr>\n",
       "      <th>VD052</th>\n",
       "      <td>0:35:00</td>\n",
       "      <td>7:11:00</td>\n",
       "      <td>18:58:57</td>\n",
       "      <td>12:12:36</td>\n",
       "      <td>7:11:33</td>\n",
       "      <td>0</td>\n",
       "      <td>0</td>\n",
       "    </tr>\n",
       "    <tr>\n",
       "      <th>VD053</th>\n",
       "      <td>0:04:30</td>\n",
       "      <td>6:05:00</td>\n",
       "      <td>17:55:28</td>\n",
       "      <td>12:09:56</td>\n",
       "      <td>6:05:24</td>\n",
       "      <td>0</td>\n",
       "      <td>0</td>\n",
       "    </tr>\n",
       "    <tr>\n",
       "      <th>VD054</th>\n",
       "      <td>12:08:00</td>\n",
       "      <td>5:53:30</td>\n",
       "      <td>17:53:46</td>\n",
       "      <td>12:01:26</td>\n",
       "      <td>5:55:12</td>\n",
       "      <td>0</td>\n",
       "      <td>0</td>\n",
       "    </tr>\n",
       "    <tr>\n",
       "      <th>VD055</th>\n",
       "      <td>1:01:00</td>\n",
       "      <td>6:29:00</td>\n",
       "      <td>19:33:20</td>\n",
       "      <td>10:58:22</td>\n",
       "      <td>6:31:42</td>\n",
       "      <td>0</td>\n",
       "      <td>0</td>\n",
       "    </tr>\n",
       "    <tr>\n",
       "      <th>VD056</th>\n",
       "      <td>12:00:00</td>\n",
       "      <td>6:00:00</td>\n",
       "      <td>17:58:46</td>\n",
       "      <td>12:01:54</td>\n",
       "      <td>6:00:40</td>\n",
       "      <td>0</td>\n",
       "      <td>0</td>\n",
       "    </tr>\n",
       "    <tr>\n",
       "      <th>VD057</th>\n",
       "      <td>1:08:00</td>\n",
       "      <td>6:22:30</td>\n",
       "      <td>18:58:11</td>\n",
       "      <td>11:25:24</td>\n",
       "      <td>6:23:35</td>\n",
       "      <td>0</td>\n",
       "      <td>0</td>\n",
       "    </tr>\n",
       "    <tr>\n",
       "      <th>VD058</th>\n",
       "      <td>0:19:00</td>\n",
       "      <td>6:04:00</td>\n",
       "      <td>18:12:32</td>\n",
       "      <td>11:52:26</td>\n",
       "      <td>6:04:58</td>\n",
       "      <td>0</td>\n",
       "      <td>0</td>\n",
       "    </tr>\n",
       "  </tbody>\n",
       "</table>\n",
       "</div>"
      ],
      "text/plain": [
       "      hypno_start hypno_end edf_start edf_duration  edf_end  start_mismatch  \\\n",
       "LE004     0:31:00   5:52:00   0:17:47      5:34:26  5:52:13               0   \n",
       "LE010     0:24:30   6:36:30   0:16:31      6:20:54  6:37:25               0   \n",
       "LE011     0:13:00   6:39:00   0:10:39      6:36:12  6:46:51               0   \n",
       "LE014     0:24:30   6:08:00   0:18:44      5:49:56  6:08:40               0   \n",
       "LE019     0:32:00   6:18:30   0:12:15      6:07:08  6:19:23               0   \n",
       "LE020     0:24:30   6:13:00   0:19:18      5:54:02  6:13:20               0   \n",
       "LE021     0:35:00   6:08:00   0:32:14      5:36:08  6:08:22               0   \n",
       "LE023     0:33:30   5:45:00   0:32:55      5:13:18  5:46:13               0   \n",
       "VD001     0:09:30   6:57:00  18:00:40     13:03:22  7:04:02               0   \n",
       "VD002     0:11:00   6:12:00  17:59:23     12:12:44  6:12:07               0   \n",
       "VD003     0:26:30   6:50:30  18:12:29     12:38:08  6:50:37               0   \n",
       "VD004     0:16:00   6:37:30  18:06:45     12:30:56  6:37:41               0   \n",
       "VD005     0:14:00   6:40:30  17:55:33     12:45:28  6:41:01               0   \n",
       "VD006     0:12:00   6:24:00  18:45:39     11:38:42  6:24:21               0   \n",
       "VD007     0:15:00   6:33:00  18:05:39     12:27:48  6:33:27               0   \n",
       "VD008     1:14:30   6:43:00  19:02:05     11:41:22  6:43:27               0   \n",
       "VD011     0:08:00   6:30:30  18:39:12     11:51:20  6:30:32               0   \n",
       "VD012     0:06:30   6:30:00  17:56:32     12:33:52  6:30:24               0   \n",
       "VD013     0:20:00   6:45:00  18:28:26     12:16:48  6:45:14               0   \n",
       "VD017     0:10:00   6:01:00  17:57:42     12:03:48  6:01:30               0   \n",
       "VD019     0:10:00   6:34:00  18:25:28     12:08:50  6:34:18               0   \n",
       "VD022    23:58:30   6:30:00  18:22:50     12:07:26  6:30:16               0   \n",
       "VD023     0:13:30   6:32:30  18:41:54     11:51:10  6:33:04               0   \n",
       "VD024     0:14:30   6:34:00  18:16:50     12:17:08  6:33:58               0   \n",
       "VD025     0:28:30   5:27:00  18:41:49     10:45:26  5:27:15               0   \n",
       "VD028     0:10:30   6:41:30  18:00:14     12:42:00  6:42:14               0   \n",
       "VD029     0:07:00   6:38:00  17:54:36     12:43:52  6:38:28               0   \n",
       "VD030     0:42:30   7:06:00  18:22:51     12:45:10  7:08:01               0   \n",
       "VD031     0:11:00   6:08:30  17:59:14     12:11:00  6:10:14               0   \n",
       "VD033     0:33:00   6:30:30  18:33:26     11:57:08  6:30:34               0   \n",
       "VD034     0:17:00   7:27:30  18:11:02     13:17:12  7:28:14               0   \n",
       "VD039     0:27:00   6:59:30  18:21:40     12:39:38  7:01:18               0   \n",
       "VD041     0:52:00   7:52:30  18:36:17     13:17:10  7:53:27               0   \n",
       "VD042     0:52:00   6:37:30  18:51:05     11:48:04  6:39:09               0   \n",
       "VD043     0:10:30   6:04:00  18:15:08     11:49:08  6:04:16               0   \n",
       "VD044     0:32:30   6:05:00  18:17:08     11:48:22  6:05:30               0   \n",
       "VD045     0:54:30   6:00:30  19:03:54     10:57:10  6:01:04               0   \n",
       "VD046     0:20:00   5:30:30  17:59:21     11:31:32  5:30:53               0   \n",
       "VD047     1:13:00   6:31:30  19:46:08     10:46:40  6:32:48               0   \n",
       "VD049     0:23:00   6:20:00  18:19:16     12:01:16  6:20:32               0   \n",
       "VD050     1:16:00   6:27:30  19:05:20     11:24:04  6:29:24               0   \n",
       "VD051     0:49:00   6:51:30  18:49:25     12:03:32  6:52:57               0   \n",
       "VD052     0:35:00   7:11:00  18:58:57     12:12:36  7:11:33               0   \n",
       "VD053     0:04:30   6:05:00  17:55:28     12:09:56  6:05:24               0   \n",
       "VD054    12:08:00   5:53:30  17:53:46     12:01:26  5:55:12               0   \n",
       "VD055     1:01:00   6:29:00  19:33:20     10:58:22  6:31:42               0   \n",
       "VD056    12:00:00   6:00:00  17:58:46     12:01:54  6:00:40               0   \n",
       "VD057     1:08:00   6:22:30  18:58:11     11:25:24  6:23:35               0   \n",
       "VD058     0:19:00   6:04:00  18:12:32     11:52:26  6:04:58               0   \n",
       "\n",
       "       end_mismatch  \n",
       "LE004             0  \n",
       "LE010             0  \n",
       "LE011             0  \n",
       "LE014             0  \n",
       "LE019             0  \n",
       "LE020             0  \n",
       "LE021             0  \n",
       "LE023             0  \n",
       "VD001             0  \n",
       "VD002             0  \n",
       "VD003             0  \n",
       "VD004             0  \n",
       "VD005             0  \n",
       "VD006             0  \n",
       "VD007             0  \n",
       "VD008             0  \n",
       "VD011             0  \n",
       "VD012             0  \n",
       "VD013             0  \n",
       "VD017             0  \n",
       "VD019             0  \n",
       "VD022             0  \n",
       "VD023             0  \n",
       "VD024             0  \n",
       "VD025             0  \n",
       "VD028             0  \n",
       "VD029             0  \n",
       "VD030             0  \n",
       "VD031             0  \n",
       "VD033             0  \n",
       "VD034             0  \n",
       "VD039             0  \n",
       "VD041             0  \n",
       "VD042             0  \n",
       "VD043             0  \n",
       "VD044             0  \n",
       "VD045             0  \n",
       "VD046             0  \n",
       "VD047             0  \n",
       "VD049             0  \n",
       "VD050             0  \n",
       "VD051             0  \n",
       "VD052             0  \n",
       "VD053             0  \n",
       "VD054             0  \n",
       "VD055             0  \n",
       "VD056             0  \n",
       "VD057             0  \n",
       "VD058             0  "
      ]
     },
     "execution_count": 8,
     "metadata": {},
     "output_type": "execute_result"
    }
   ],
   "source": [
    "# path_subjects_edf = 'D:\\\\USC\\\\Sleep dataset\\\\Samsung_2nd\\\\VD_edf'\n",
    "path_subjects_edf = 'G:\\\\다른 컴퓨터\\\\내 노트북\\\\USC\\\\Sleep dataset\\\\Samsung_2nd\\\\VD_edf'\n",
    "subjects_edf = os.listdir(path_subjects_edf)\n",
    "subjects_edf.sort()\n",
    "print(subjects_edf)\n",
    "\n",
    "# meas_time_df = pd.read_csv('D:\\\\USC\\\\code_mine\\\\Exploration_for_VD_dataset\\\\meas_time_edf_hypno.csv', index_col=0)\n",
    "meas_time_df = pd.read_csv('G:\\\\다른 컴퓨터\\\\내 노트북\\\\USC\\\\code_mine\\\\Exploration_for_VD_dataset\\\\meas_time_edf_hypno.csv', index_col=0)\n",
    "meas_time_df"
   ]
  },
  {
   "cell_type": "code",
   "execution_count": 11,
   "id": "7ed5b6aa",
   "metadata": {
    "scrolled": true
   },
   "outputs": [
    {
     "name": "stdout",
     "output_type": "stream",
     "text": [
      "This is algorithm for VD dataset !\n",
      "-- G:\\다른 컴퓨터\\내 노트북\\USC\\Sleep dataset\\Samsung_2nd\\VD_edf\\VD025\\Traces.edf\n",
      "-- Available Channels: ['SO', 'C3', 'C4', 'O1', 'O2', 'IO', 'F3', 'F4']\n",
      "hypno_start  hypno_end  edf_start  edf_end\n",
      "0:28:30   5:27:00   18:41:49   5:27:15\n",
      "-- Edf time after mathcing: 0:28:00  5:27:01\n",
      "-- ground_truth time: 0:28:30  5:27:00\n"
     ]
    },
    {
     "name": "stderr",
     "output_type": "stream",
     "text": [
      "G:\\다른 컴퓨터\\내 노트북\\USC\\code_mine\\Model_validation\\USleep\\load_match_save.py:124: RuntimeWarning: EDF format requires equal-length data blocks, so 0.998 seconds of zeros were appended to all channels when writing the final block.\n",
      "  mne.export.export_raw(save_as, raw, fmt='edf')\n"
     ]
    },
    {
     "name": "stdout",
     "output_type": "stream",
     "text": [
      "This is algorithm for VD dataset !\n",
      "-- G:\\다른 컴퓨터\\내 노트북\\USC\\Sleep dataset\\Samsung_2nd\\VD_edf\\VD028\\Traces.edf\n",
      "-- Available Channels: ['SO', 'C3', 'C4', 'O1', 'O2', 'IO', 'F3', 'F4']\n",
      "hypno_start  hypno_end  edf_start  edf_end\n",
      "0:10:30   6:41:30   18:00:14   6:42:14\n",
      "-- Edf time after mathcing: 0:10:00  6:41:31\n",
      "-- ground_truth time: 0:10:30  6:41:30\n"
     ]
    },
    {
     "name": "stderr",
     "output_type": "stream",
     "text": [
      "G:\\다른 컴퓨터\\내 노트북\\USC\\code_mine\\Model_validation\\USleep\\load_match_save.py:124: RuntimeWarning: EDF format requires equal-length data blocks, so 0.998 seconds of zeros were appended to all channels when writing the final block.\n",
      "  mne.export.export_raw(save_as, raw, fmt='edf')\n"
     ]
    },
    {
     "name": "stdout",
     "output_type": "stream",
     "text": [
      "This is algorithm for VD dataset !\n",
      "-- G:\\다른 컴퓨터\\내 노트북\\USC\\Sleep dataset\\Samsung_2nd\\VD_edf\\VD029\\Traces.edf\n",
      "-- Available Channels: ['SO', 'C3', 'C4', 'O1', 'O2', 'IO', 'F3', 'F4']\n",
      "hypno_start  hypno_end  edf_start  edf_end\n",
      "0:07:00   6:38:00   17:54:36   6:38:28\n",
      "-- Edf time after mathcing: 0:06:30  6:38:01\n",
      "-- ground_truth time: 0:07:00  6:38:00\n"
     ]
    },
    {
     "name": "stderr",
     "output_type": "stream",
     "text": [
      "G:\\다른 컴퓨터\\내 노트북\\USC\\code_mine\\Model_validation\\USleep\\load_match_save.py:124: RuntimeWarning: EDF format requires equal-length data blocks, so 0.998 seconds of zeros were appended to all channels when writing the final block.\n",
      "  mne.export.export_raw(save_as, raw, fmt='edf')\n"
     ]
    },
    {
     "name": "stdout",
     "output_type": "stream",
     "text": [
      "This is algorithm for VD dataset !\n",
      "-- G:\\다른 컴퓨터\\내 노트북\\USC\\Sleep dataset\\Samsung_2nd\\VD_edf\\VD030\\Traces.edf\n",
      "-- Available Channels: ['SO', 'C3', 'C4', 'O1', 'O2', 'IO', 'F3', 'F4']\n",
      "hypno_start  hypno_end  edf_start  edf_end\n",
      "0:42:30   7:06:00   18:22:51   7:08:01\n",
      "-- Edf time after mathcing: 0:42:00  7:06:01\n",
      "-- ground_truth time: 0:42:30  7:06:00\n"
     ]
    },
    {
     "name": "stderr",
     "output_type": "stream",
     "text": [
      "G:\\다른 컴퓨터\\내 노트북\\USC\\code_mine\\Model_validation\\USleep\\load_match_save.py:124: RuntimeWarning: EDF format requires equal-length data blocks, so 0.998 seconds of zeros were appended to all channels when writing the final block.\n",
      "  mne.export.export_raw(save_as, raw, fmt='edf')\n"
     ]
    },
    {
     "name": "stdout",
     "output_type": "stream",
     "text": [
      "This is algorithm for VD dataset !\n",
      "-- G:\\다른 컴퓨터\\내 노트북\\USC\\Sleep dataset\\Samsung_2nd\\VD_edf\\VD031\\Traces.edf\n",
      "-- Available Channels: ['SO', 'C3', 'C4', 'O1', 'O2', 'IO', 'F3', 'F4']\n",
      "hypno_start  hypno_end  edf_start  edf_end\n",
      "0:11:00   6:08:30   17:59:14   6:10:14\n",
      "-- Edf time after mathcing: 0:10:30  6:08:31\n",
      "-- ground_truth time: 0:11:00  6:08:30\n"
     ]
    },
    {
     "name": "stderr",
     "output_type": "stream",
     "text": [
      "G:\\다른 컴퓨터\\내 노트북\\USC\\code_mine\\Model_validation\\USleep\\load_match_save.py:124: RuntimeWarning: EDF format requires equal-length data blocks, so 0.998 seconds of zeros were appended to all channels when writing the final block.\n",
      "  mne.export.export_raw(save_as, raw, fmt='edf')\n"
     ]
    },
    {
     "name": "stdout",
     "output_type": "stream",
     "text": [
      "This is algorithm for VD dataset !\n",
      "-- G:\\다른 컴퓨터\\내 노트북\\USC\\Sleep dataset\\Samsung_2nd\\VD_edf\\VD033\\Traces.edf\n",
      "-- Available Channels: ['SO', 'C3', 'C4', 'O1', 'O2', 'IO', 'F3', 'F4']\n",
      "hypno_start  hypno_end  edf_start  edf_end\n",
      "0:33:00   6:30:30   18:33:26   6:30:34\n",
      "-- Edf time after mathcing: 0:32:30  6:30:31\n",
      "-- ground_truth time: 0:33:00  6:30:30\n"
     ]
    },
    {
     "name": "stderr",
     "output_type": "stream",
     "text": [
      "G:\\다른 컴퓨터\\내 노트북\\USC\\code_mine\\Model_validation\\USleep\\load_match_save.py:124: RuntimeWarning: EDF format requires equal-length data blocks, so 0.995 seconds of zeros were appended to all channels when writing the final block.\n",
      "  mne.export.export_raw(save_as, raw, fmt='edf')\n"
     ]
    },
    {
     "name": "stdout",
     "output_type": "stream",
     "text": [
      "This is algorithm for VD dataset !\n",
      "-- G:\\다른 컴퓨터\\내 노트북\\USC\\Sleep dataset\\Samsung_2nd\\VD_edf\\VD034\\Traces.edf\n",
      "-- Available Channels: ['SO', 'C3', 'C4', 'O1', 'O2', 'IO', 'F3', 'F4']\n",
      "hypno_start  hypno_end  edf_start  edf_end\n",
      "0:17:00   7:27:30   18:11:02   7:28:14\n",
      "-- Edf time after mathcing: 0:16:30  7:27:31\n",
      "-- ground_truth time: 0:17:00  7:27:30\n"
     ]
    },
    {
     "name": "stderr",
     "output_type": "stream",
     "text": [
      "G:\\다른 컴퓨터\\내 노트북\\USC\\code_mine\\Model_validation\\USleep\\load_match_save.py:124: RuntimeWarning: EDF format requires equal-length data blocks, so 0.998 seconds of zeros were appended to all channels when writing the final block.\n",
      "  mne.export.export_raw(save_as, raw, fmt='edf')\n"
     ]
    },
    {
     "name": "stdout",
     "output_type": "stream",
     "text": [
      "This is algorithm for VD dataset !\n",
      "-- G:\\다른 컴퓨터\\내 노트북\\USC\\Sleep dataset\\Samsung_2nd\\VD_edf\\VD039\\Traces.edf\n",
      "-- Available Channels: ['SO', 'C3', 'C4', 'O1', 'O2', 'IO', 'F3', 'F4']\n",
      "hypno_start  hypno_end  edf_start  edf_end\n",
      "0:27:00   6:59:30   18:21:40   7:01:18\n",
      "-- Edf time after mathcing: 0:26:30  6:59:31\n",
      "-- ground_truth time: 0:27:00  6:59:30\n"
     ]
    },
    {
     "name": "stderr",
     "output_type": "stream",
     "text": [
      "G:\\다른 컴퓨터\\내 노트북\\USC\\code_mine\\Model_validation\\USleep\\load_match_save.py:124: RuntimeWarning: EDF format requires equal-length data blocks, so 0.995 seconds of zeros were appended to all channels when writing the final block.\n",
      "  mne.export.export_raw(save_as, raw, fmt='edf')\n"
     ]
    },
    {
     "name": "stdout",
     "output_type": "stream",
     "text": [
      "This is algorithm for VD dataset !\n",
      "-- G:\\다른 컴퓨터\\내 노트북\\USC\\Sleep dataset\\Samsung_2nd\\VD_edf\\VD041\\Traces.edf\n",
      "-- Available Channels: ['SO', 'C3', 'C4', 'O1', 'O2', 'IO', 'F3', 'F4']\n",
      "hypno_start  hypno_end  edf_start  edf_end\n",
      "0:52:00   7:52:30   18:36:17   7:53:27\n",
      "-- Edf time after mathcing: 0:51:30  7:52:31\n",
      "-- ground_truth time: 0:52:00  7:52:30\n"
     ]
    },
    {
     "name": "stderr",
     "output_type": "stream",
     "text": [
      "G:\\다른 컴퓨터\\내 노트북\\USC\\code_mine\\Model_validation\\USleep\\load_match_save.py:124: RuntimeWarning: EDF format requires equal-length data blocks, so 0.995 seconds of zeros were appended to all channels when writing the final block.\n",
      "  mne.export.export_raw(save_as, raw, fmt='edf')\n"
     ]
    },
    {
     "name": "stdout",
     "output_type": "stream",
     "text": [
      "This is algorithm for VD dataset !\n",
      "-- G:\\다른 컴퓨터\\내 노트북\\USC\\Sleep dataset\\Samsung_2nd\\VD_edf\\VD042\\Traces.edf\n",
      "-- Available Channels: ['SO', 'C3', 'C4', 'O1', 'O2', 'IO', 'F3', 'F4']\n",
      "hypno_start  hypno_end  edf_start  edf_end\n",
      "0:52:00   6:37:30   18:51:05   6:39:09\n",
      "-- Edf time after mathcing: 0:51:30  6:37:31\n",
      "-- ground_truth time: 0:52:00  6:37:30\n"
     ]
    },
    {
     "name": "stderr",
     "output_type": "stream",
     "text": [
      "G:\\다른 컴퓨터\\내 노트북\\USC\\code_mine\\Model_validation\\USleep\\load_match_save.py:124: RuntimeWarning: EDF format requires equal-length data blocks, so 0.995 seconds of zeros were appended to all channels when writing the final block.\n",
      "  mne.export.export_raw(save_as, raw, fmt='edf')\n"
     ]
    },
    {
     "name": "stdout",
     "output_type": "stream",
     "text": [
      "This is algorithm for VD dataset !\n",
      "-- G:\\다른 컴퓨터\\내 노트북\\USC\\Sleep dataset\\Samsung_2nd\\VD_edf\\VD043\\Traces.edf\n",
      "-- Available Channels: ['SO', 'C3', 'C4', 'O1', 'O2', 'IO', 'F3', 'F4']\n",
      "hypno_start  hypno_end  edf_start  edf_end\n",
      "0:10:30   6:04:00   18:15:08   6:04:16\n",
      "-- Edf time after mathcing: 0:10:00  6:04:01\n",
      "-- ground_truth time: 0:10:30  6:04:00\n"
     ]
    },
    {
     "name": "stderr",
     "output_type": "stream",
     "text": [
      "G:\\다른 컴퓨터\\내 노트북\\USC\\code_mine\\Model_validation\\USleep\\load_match_save.py:124: RuntimeWarning: EDF format requires equal-length data blocks, so 0.995 seconds of zeros were appended to all channels when writing the final block.\n",
      "  mne.export.export_raw(save_as, raw, fmt='edf')\n"
     ]
    },
    {
     "name": "stdout",
     "output_type": "stream",
     "text": [
      "This is algorithm for VD dataset !\n",
      "-- G:\\다른 컴퓨터\\내 노트북\\USC\\Sleep dataset\\Samsung_2nd\\VD_edf\\VD044\\Traces.edf\n",
      "-- Available Channels: ['SO', 'C3', 'C4', 'O1', 'O2', 'IO', 'F3', 'F4']\n",
      "hypno_start  hypno_end  edf_start  edf_end\n",
      "0:32:30   6:05:00   18:17:08   6:05:30\n",
      "-- Edf time after mathcing: 0:32:00  6:05:01\n",
      "-- ground_truth time: 0:32:30  6:05:00\n"
     ]
    },
    {
     "name": "stderr",
     "output_type": "stream",
     "text": [
      "G:\\다른 컴퓨터\\내 노트북\\USC\\code_mine\\Model_validation\\USleep\\load_match_save.py:124: RuntimeWarning: EDF format requires equal-length data blocks, so 0.995 seconds of zeros were appended to all channels when writing the final block.\n",
      "  mne.export.export_raw(save_as, raw, fmt='edf')\n"
     ]
    },
    {
     "name": "stdout",
     "output_type": "stream",
     "text": [
      "This is algorithm for VD dataset !\n",
      "-- G:\\다른 컴퓨터\\내 노트북\\USC\\Sleep dataset\\Samsung_2nd\\VD_edf\\VD045\\Traces.edf\n",
      "-- Available Channels: ['SO', 'C3', 'C4', 'O1', 'O2', 'IO', 'F3', 'F4']\n",
      "hypno_start  hypno_end  edf_start  edf_end\n",
      "0:54:30   6:00:30   19:03:54   6:01:04\n",
      "-- Edf time after mathcing: 0:54:00  6:00:31\n",
      "-- ground_truth time: 0:54:30  6:00:30\n"
     ]
    },
    {
     "name": "stderr",
     "output_type": "stream",
     "text": [
      "G:\\다른 컴퓨터\\내 노트북\\USC\\code_mine\\Model_validation\\USleep\\load_match_save.py:124: RuntimeWarning: EDF format requires equal-length data blocks, so 0.995 seconds of zeros were appended to all channels when writing the final block.\n",
      "  mne.export.export_raw(save_as, raw, fmt='edf')\n"
     ]
    },
    {
     "name": "stdout",
     "output_type": "stream",
     "text": [
      "This is algorithm for VD dataset !\n",
      "-- G:\\다른 컴퓨터\\내 노트북\\USC\\Sleep dataset\\Samsung_2nd\\VD_edf\\VD046\\Traces.edf\n",
      "-- Available Channels: ['SO', 'C3', 'C4', 'O1', 'O2', 'IO', 'F3', 'F4']\n",
      "hypno_start  hypno_end  edf_start  edf_end\n",
      "0:20:00   5:30:30   17:59:21   5:30:53\n",
      "-- Edf time after mathcing: 0:19:30  5:30:31\n",
      "-- ground_truth time: 0:20:00  5:30:30\n"
     ]
    },
    {
     "name": "stderr",
     "output_type": "stream",
     "text": [
      "G:\\다른 컴퓨터\\내 노트북\\USC\\code_mine\\Model_validation\\USleep\\load_match_save.py:124: RuntimeWarning: EDF format requires equal-length data blocks, so 0.995 seconds of zeros were appended to all channels when writing the final block.\n",
      "  mne.export.export_raw(save_as, raw, fmt='edf')\n"
     ]
    },
    {
     "name": "stdout",
     "output_type": "stream",
     "text": [
      "This is algorithm for VD dataset !\n",
      "-- G:\\다른 컴퓨터\\내 노트북\\USC\\Sleep dataset\\Samsung_2nd\\VD_edf\\VD047\\Traces.edf\n",
      "-- Available Channels: ['SO', 'C3', 'C4', 'O1', 'O2', 'IO', 'F3', 'F4']\n",
      "hypno_start  hypno_end  edf_start  edf_end\n",
      "1:13:00   6:31:30   19:46:08   6:32:48\n",
      "-- Edf time after mathcing: 1:12:30  6:31:31\n",
      "-- ground_truth time: 1:13:00  6:31:30\n"
     ]
    },
    {
     "name": "stderr",
     "output_type": "stream",
     "text": [
      "G:\\다른 컴퓨터\\내 노트북\\USC\\code_mine\\Model_validation\\USleep\\load_match_save.py:124: RuntimeWarning: EDF format requires equal-length data blocks, so 0.995 seconds of zeros were appended to all channels when writing the final block.\n",
      "  mne.export.export_raw(save_as, raw, fmt='edf')\n"
     ]
    },
    {
     "name": "stdout",
     "output_type": "stream",
     "text": [
      "This is algorithm for VD dataset !\n",
      "-- G:\\다른 컴퓨터\\내 노트북\\USC\\Sleep dataset\\Samsung_2nd\\VD_edf\\VD049\\Traces.edf\n",
      "-- Available Channels: ['SO', 'C3', 'C4', 'O1', 'O2', 'IO', 'F3', 'F4']\n",
      "hypno_start  hypno_end  edf_start  edf_end\n",
      "0:23:00   6:20:00   18:19:16   6:20:32\n",
      "-- Edf time after mathcing: 0:22:30  6:20:01\n",
      "-- ground_truth time: 0:23:00  6:20:00\n"
     ]
    },
    {
     "name": "stderr",
     "output_type": "stream",
     "text": [
      "G:\\다른 컴퓨터\\내 노트북\\USC\\code_mine\\Model_validation\\USleep\\load_match_save.py:124: RuntimeWarning: EDF format requires equal-length data blocks, so 0.995 seconds of zeros were appended to all channels when writing the final block.\n",
      "  mne.export.export_raw(save_as, raw, fmt='edf')\n"
     ]
    },
    {
     "name": "stdout",
     "output_type": "stream",
     "text": [
      "This is algorithm for VD dataset !\n",
      "-- G:\\다른 컴퓨터\\내 노트북\\USC\\Sleep dataset\\Samsung_2nd\\VD_edf\\VD050\\Traces.edf\n",
      "-- Available Channels: ['SO', 'C3', 'C4', 'O1', 'O2', 'IO', 'F3', 'F4']\n",
      "hypno_start  hypno_end  edf_start  edf_end\n",
      "1:16:00   6:27:30   19:05:20   6:29:24\n",
      "-- Edf time after mathcing: 1:15:30  6:27:31\n",
      "-- ground_truth time: 1:16:00  6:27:30\n"
     ]
    },
    {
     "name": "stderr",
     "output_type": "stream",
     "text": [
      "G:\\다른 컴퓨터\\내 노트북\\USC\\code_mine\\Model_validation\\USleep\\load_match_save.py:124: RuntimeWarning: EDF format requires equal-length data blocks, so 0.995 seconds of zeros were appended to all channels when writing the final block.\n",
      "  mne.export.export_raw(save_as, raw, fmt='edf')\n"
     ]
    },
    {
     "name": "stdout",
     "output_type": "stream",
     "text": [
      "This is algorithm for VD dataset !\n",
      "-- G:\\다른 컴퓨터\\내 노트북\\USC\\Sleep dataset\\Samsung_2nd\\VD_edf\\VD051\\Traces.edf\n",
      "-- Available Channels: ['SO', 'C3', 'C4', 'O1', 'O2', 'IO', 'F3', 'F4']\n",
      "hypno_start  hypno_end  edf_start  edf_end\n",
      "0:49:00   6:51:30   18:49:25   6:52:57\n",
      "-- Edf time after mathcing: 0:48:30  6:51:31\n",
      "-- ground_truth time: 0:49:00  6:51:30\n"
     ]
    },
    {
     "name": "stderr",
     "output_type": "stream",
     "text": [
      "G:\\다른 컴퓨터\\내 노트북\\USC\\code_mine\\Model_validation\\USleep\\load_match_save.py:124: RuntimeWarning: EDF format requires equal-length data blocks, so 0.995 seconds of zeros were appended to all channels when writing the final block.\n",
      "  mne.export.export_raw(save_as, raw, fmt='edf')\n"
     ]
    },
    {
     "name": "stdout",
     "output_type": "stream",
     "text": [
      "This is algorithm for VD dataset !\n",
      "-- G:\\다른 컴퓨터\\내 노트북\\USC\\Sleep dataset\\Samsung_2nd\\VD_edf\\VD052\\Traces.edf\n",
      "-- Available Channels: ['SO', 'C3', 'C4', 'O1', 'O2', 'IO', 'F3', 'F4']\n",
      "hypno_start  hypno_end  edf_start  edf_end\n",
      "0:35:00   7:11:00   18:58:57   7:11:33\n",
      "-- Edf time after mathcing: 0:34:30  7:11:01\n",
      "-- ground_truth time: 0:35:00  7:11:00\n"
     ]
    },
    {
     "name": "stderr",
     "output_type": "stream",
     "text": [
      "G:\\다른 컴퓨터\\내 노트북\\USC\\code_mine\\Model_validation\\USleep\\load_match_save.py:124: RuntimeWarning: EDF format requires equal-length data blocks, so 0.995 seconds of zeros were appended to all channels when writing the final block.\n",
      "  mne.export.export_raw(save_as, raw, fmt='edf')\n"
     ]
    },
    {
     "name": "stdout",
     "output_type": "stream",
     "text": [
      "This is algorithm for VD dataset !\n",
      "-- G:\\다른 컴퓨터\\내 노트북\\USC\\Sleep dataset\\Samsung_2nd\\VD_edf\\VD053\\Traces.edf\n",
      "-- Available Channels: ['SO', 'C3', 'C4', 'O1', 'O2', 'IO', 'F3', 'F4']\n",
      "hypno_start  hypno_end  edf_start  edf_end\n",
      "0:04:30   6:05:00   17:55:28   6:05:24\n",
      "-- Edf time after mathcing: 0:04:00  6:05:01\n",
      "-- ground_truth time: 0:04:30  6:05:00\n"
     ]
    },
    {
     "name": "stderr",
     "output_type": "stream",
     "text": [
      "G:\\다른 컴퓨터\\내 노트북\\USC\\code_mine\\Model_validation\\USleep\\load_match_save.py:124: RuntimeWarning: EDF format requires equal-length data blocks, so 0.995 seconds of zeros were appended to all channels when writing the final block.\n",
      "  mne.export.export_raw(save_as, raw, fmt='edf')\n"
     ]
    },
    {
     "name": "stdout",
     "output_type": "stream",
     "text": [
      "This is algorithm for VD dataset !\n",
      "-- G:\\다른 컴퓨터\\내 노트북\\USC\\Sleep dataset\\Samsung_2nd\\VD_edf\\VD054\\Traces.edf\n",
      "-- Available Channels: ['SO', 'C3', 'C4', 'O1', 'O2', 'IO', 'F3', 'F4']\n",
      "hypno_start  hypno_end  edf_start  edf_end\n",
      "12:08:00   5:53:30   17:53:46   5:55:12\n",
      "-- Edf time after mathcing: 0:07:30  5:53:31\n",
      "-- ground_truth time: 12:08:00  5:53:30\n"
     ]
    },
    {
     "name": "stderr",
     "output_type": "stream",
     "text": [
      "G:\\다른 컴퓨터\\내 노트북\\USC\\code_mine\\Model_validation\\USleep\\load_match_save.py:124: RuntimeWarning: EDF format requires equal-length data blocks, so 0.995 seconds of zeros were appended to all channels when writing the final block.\n",
      "  mne.export.export_raw(save_as, raw, fmt='edf')\n"
     ]
    },
    {
     "name": "stdout",
     "output_type": "stream",
     "text": [
      "This is algorithm for VD dataset !\n",
      "-- G:\\다른 컴퓨터\\내 노트북\\USC\\Sleep dataset\\Samsung_2nd\\VD_edf\\VD055\\Traces.edf\n",
      "-- Available Channels: ['SO', 'C3', 'C4', 'O1', 'O2', 'IO', 'F3', 'F4']\n",
      "hypno_start  hypno_end  edf_start  edf_end\n",
      "1:01:00   6:29:00   19:33:20   6:31:42\n",
      "-- Edf time after mathcing: 1:00:30  6:29:01\n",
      "-- ground_truth time: 1:01:00  6:29:00\n"
     ]
    },
    {
     "name": "stderr",
     "output_type": "stream",
     "text": [
      "G:\\다른 컴퓨터\\내 노트북\\USC\\code_mine\\Model_validation\\USleep\\load_match_save.py:124: RuntimeWarning: EDF format requires equal-length data blocks, so 0.995 seconds of zeros were appended to all channels when writing the final block.\n",
      "  mne.export.export_raw(save_as, raw, fmt='edf')\n"
     ]
    },
    {
     "name": "stdout",
     "output_type": "stream",
     "text": [
      "This is algorithm for VD dataset !\n",
      "-- G:\\다른 컴퓨터\\내 노트북\\USC\\Sleep dataset\\Samsung_2nd\\VD_edf\\VD056\\Traces.edf\n",
      "-- Available Channels: ['SO', 'C3', 'C4', 'O1', 'O2', 'IO', 'F3', 'F4']\n",
      "hypno_start  hypno_end  edf_start  edf_end\n",
      "12:00:00   6:00:00   17:58:46   6:00:40\n",
      "-- Edf time after mathcing: -1 day, 23:59:30  6:00:01\n",
      "-- ground_truth time: 12:00:00  6:00:00\n"
     ]
    },
    {
     "name": "stderr",
     "output_type": "stream",
     "text": [
      "G:\\다른 컴퓨터\\내 노트북\\USC\\code_mine\\Model_validation\\USleep\\load_match_save.py:124: RuntimeWarning: EDF format requires equal-length data blocks, so 0.995 seconds of zeros were appended to all channels when writing the final block.\n",
      "  mne.export.export_raw(save_as, raw, fmt='edf')\n"
     ]
    },
    {
     "name": "stdout",
     "output_type": "stream",
     "text": [
      "This is algorithm for VD dataset !\n",
      "-- G:\\다른 컴퓨터\\내 노트북\\USC\\Sleep dataset\\Samsung_2nd\\VD_edf\\VD057\\Traces.edf\n",
      "-- Available Channels: ['SO', 'C3', 'C4', 'O1', 'O2', 'IO', 'F3', 'F4']\n",
      "hypno_start  hypno_end  edf_start  edf_end\n",
      "1:08:00   6:22:30   18:58:11   6:23:35\n",
      "-- Edf time after mathcing: 1:07:30  6:22:31\n",
      "-- ground_truth time: 1:08:00  6:22:30\n"
     ]
    },
    {
     "name": "stderr",
     "output_type": "stream",
     "text": [
      "G:\\다른 컴퓨터\\내 노트북\\USC\\code_mine\\Model_validation\\USleep\\load_match_save.py:124: RuntimeWarning: EDF format requires equal-length data blocks, so 0.995 seconds of zeros were appended to all channels when writing the final block.\n",
      "  mne.export.export_raw(save_as, raw, fmt='edf')\n"
     ]
    },
    {
     "name": "stdout",
     "output_type": "stream",
     "text": [
      "This is algorithm for VD dataset !\n",
      "-- G:\\다른 컴퓨터\\내 노트북\\USC\\Sleep dataset\\Samsung_2nd\\VD_edf\\VD058\\Traces.edf\n",
      "-- Available Channels: ['SO', 'C3', 'C4', 'O1', 'O2', 'IO', 'F3', 'F4']\n",
      "hypno_start  hypno_end  edf_start  edf_end\n",
      "0:19:00   6:04:00   18:12:32   6:04:58\n",
      "-- Edf time after mathcing: 0:18:30  6:04:01\n",
      "-- ground_truth time: 0:19:00  6:04:00\n"
     ]
    },
    {
     "name": "stderr",
     "output_type": "stream",
     "text": [
      "G:\\다른 컴퓨터\\내 노트북\\USC\\code_mine\\Model_validation\\USleep\\load_match_save.py:124: RuntimeWarning: EDF format requires equal-length data blocks, so 0.995 seconds of zeros were appended to all channels when writing the final block.\n",
      "  mne.export.export_raw(save_as, raw, fmt='edf')\n"
     ]
    }
   ],
   "source": [
    "path_save = 'G:\\\\다른 컴퓨터\\\\내 노트북\\\\USC\\\\Sleep dataset\\\\Samsung_2nd\\\\VD_edf_matched'\n",
    "\n",
    "for subject_edf in subjects_edf[15:]:\n",
    "    load_match_save.for_vd(path_subjects_edf, subject_edf, meas_time_df, path_save)"
   ]
  },
  {
   "cell_type": "code",
   "execution_count": 10,
   "id": "d4317f76",
   "metadata": {},
   "outputs": [
    {
     "data": {
      "text/plain": [
       "['VD025',\n",
       " 'VD028',\n",
       " 'VD029',\n",
       " 'VD030',\n",
       " 'VD031',\n",
       " 'VD033',\n",
       " 'VD034',\n",
       " 'VD039',\n",
       " 'VD041',\n",
       " 'VD042',\n",
       " 'VD043',\n",
       " 'VD044',\n",
       " 'VD045',\n",
       " 'VD046',\n",
       " 'VD047',\n",
       " 'VD049',\n",
       " 'VD050',\n",
       " 'VD051',\n",
       " 'VD052',\n",
       " 'VD053',\n",
       " 'VD054',\n",
       " 'VD055',\n",
       " 'VD056',\n",
       " 'VD057',\n",
       " 'VD058']"
      ]
     },
     "execution_count": 10,
     "metadata": {},
     "output_type": "execute_result"
    }
   ],
   "source": [
    "subjects_edf[15:]"
   ]
  },
  {
   "cell_type": "code",
   "execution_count": null,
   "id": "07b8cf35",
   "metadata": {},
   "outputs": [],
   "source": []
  }
 ],
 "metadata": {
  "kernelspec": {
   "display_name": "Python 3 (ipykernel)",
   "language": "python",
   "name": "python3"
  },
  "language_info": {
   "codemirror_mode": {
    "name": "ipython",
    "version": 3
   },
   "file_extension": ".py",
   "mimetype": "text/x-python",
   "name": "python",
   "nbconvert_exporter": "python",
   "pygments_lexer": "ipython3",
   "version": "3.9.7"
  }
 },
 "nbformat": 4,
 "nbformat_minor": 5
}
