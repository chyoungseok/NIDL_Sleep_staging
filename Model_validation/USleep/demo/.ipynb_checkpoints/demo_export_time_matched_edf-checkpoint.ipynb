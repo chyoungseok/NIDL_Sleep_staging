{
 "cells": [
  {
   "cell_type": "markdown",
   "id": "fe4b79e7",
   "metadata": {},
   "source": [
    "# time match 가 끝난 raw를 edf로 export"
   ]
  },
  {
   "cell_type": "code",
   "execution_count": 7,
   "id": "2a5f817f",
   "metadata": {},
   "outputs": [],
   "source": [
    "import os\n",
    "import mne\n",
    "import pandas as pd"
   ]
  },
  {
   "cell_type": "code",
   "execution_count": 8,
   "id": "7af42767",
   "metadata": {},
   "outputs": [
    {
     "name": "stdout",
     "output_type": "stream",
     "text": [
      "['LE004-1_edf', 'LE010-3_edf', 'LE011-1_edf', 'LE014-3_edf', 'LE019-1_edf', 'LE020-3_edf', 'LE021-2_edf', 'LE023-3_edf']\n"
     ]
    },
    {
     "data": {
      "text/html": [
       "<div>\n",
       "<style scoped>\n",
       "    .dataframe tbody tr th:only-of-type {\n",
       "        vertical-align: middle;\n",
       "    }\n",
       "\n",
       "    .dataframe tbody tr th {\n",
       "        vertical-align: top;\n",
       "    }\n",
       "\n",
       "    .dataframe thead th {\n",
       "        text-align: right;\n",
       "    }\n",
       "</style>\n",
       "<table border=\"1\" class=\"dataframe\">\n",
       "  <thead>\n",
       "    <tr style=\"text-align: right;\">\n",
       "      <th></th>\n",
       "      <th>hypno_start</th>\n",
       "      <th>hypno_end</th>\n",
       "      <th>edf_start</th>\n",
       "      <th>edf_duration</th>\n",
       "      <th>edf_end</th>\n",
       "      <th>start_mismatch</th>\n",
       "      <th>end_mismatch</th>\n",
       "    </tr>\n",
       "  </thead>\n",
       "  <tbody>\n",
       "    <tr>\n",
       "      <th>LE004</th>\n",
       "      <td>0:31:00</td>\n",
       "      <td>5:52:00</td>\n",
       "      <td>0:17:47</td>\n",
       "      <td>5:34:26</td>\n",
       "      <td>5:52:13</td>\n",
       "      <td>0</td>\n",
       "      <td>0</td>\n",
       "    </tr>\n",
       "    <tr>\n",
       "      <th>LE010</th>\n",
       "      <td>0:24:30</td>\n",
       "      <td>6:36:30</td>\n",
       "      <td>0:16:31</td>\n",
       "      <td>6:20:54</td>\n",
       "      <td>6:37:25</td>\n",
       "      <td>0</td>\n",
       "      <td>0</td>\n",
       "    </tr>\n",
       "    <tr>\n",
       "      <th>LE011</th>\n",
       "      <td>0:13:00</td>\n",
       "      <td>6:39:00</td>\n",
       "      <td>0:10:39</td>\n",
       "      <td>6:36:12</td>\n",
       "      <td>6:46:51</td>\n",
       "      <td>0</td>\n",
       "      <td>0</td>\n",
       "    </tr>\n",
       "    <tr>\n",
       "      <th>LE014</th>\n",
       "      <td>0:24:30</td>\n",
       "      <td>6:08:00</td>\n",
       "      <td>0:18:44</td>\n",
       "      <td>5:49:56</td>\n",
       "      <td>6:08:40</td>\n",
       "      <td>0</td>\n",
       "      <td>0</td>\n",
       "    </tr>\n",
       "    <tr>\n",
       "      <th>LE019</th>\n",
       "      <td>0:32:00</td>\n",
       "      <td>6:18:30</td>\n",
       "      <td>0:12:15</td>\n",
       "      <td>6:07:08</td>\n",
       "      <td>6:19:23</td>\n",
       "      <td>0</td>\n",
       "      <td>0</td>\n",
       "    </tr>\n",
       "    <tr>\n",
       "      <th>LE020</th>\n",
       "      <td>0:24:30</td>\n",
       "      <td>6:13:00</td>\n",
       "      <td>0:19:18</td>\n",
       "      <td>5:54:02</td>\n",
       "      <td>6:13:20</td>\n",
       "      <td>0</td>\n",
       "      <td>0</td>\n",
       "    </tr>\n",
       "    <tr>\n",
       "      <th>LE021</th>\n",
       "      <td>0:35:00</td>\n",
       "      <td>6:08:00</td>\n",
       "      <td>0:32:14</td>\n",
       "      <td>5:36:08</td>\n",
       "      <td>6:08:22</td>\n",
       "      <td>0</td>\n",
       "      <td>0</td>\n",
       "    </tr>\n",
       "    <tr>\n",
       "      <th>LE023</th>\n",
       "      <td>0:33:30</td>\n",
       "      <td>5:45:00</td>\n",
       "      <td>0:32:55</td>\n",
       "      <td>5:13:18</td>\n",
       "      <td>5:46:13</td>\n",
       "      <td>0</td>\n",
       "      <td>0</td>\n",
       "    </tr>\n",
       "  </tbody>\n",
       "</table>\n",
       "</div>"
      ],
      "text/plain": [
       "      hypno_start hypno_end edf_start edf_duration  edf_end  start_mismatch  \\\n",
       "LE004     0:31:00   5:52:00   0:17:47      5:34:26  5:52:13               0   \n",
       "LE010     0:24:30   6:36:30   0:16:31      6:20:54  6:37:25               0   \n",
       "LE011     0:13:00   6:39:00   0:10:39      6:36:12  6:46:51               0   \n",
       "LE014     0:24:30   6:08:00   0:18:44      5:49:56  6:08:40               0   \n",
       "LE019     0:32:00   6:18:30   0:12:15      6:07:08  6:19:23               0   \n",
       "LE020     0:24:30   6:13:00   0:19:18      5:54:02  6:13:20               0   \n",
       "LE021     0:35:00   6:08:00   0:32:14      5:36:08  6:08:22               0   \n",
       "LE023     0:33:30   5:45:00   0:32:55      5:13:18  5:46:13               0   \n",
       "\n",
       "       end_mismatch  \n",
       "LE004             0  \n",
       "LE010             0  \n",
       "LE011             0  \n",
       "LE014             0  \n",
       "LE019             0  \n",
       "LE020             0  \n",
       "LE021             0  \n",
       "LE023             0  "
      ]
     },
     "execution_count": 8,
     "metadata": {},
     "output_type": "execute_result"
    }
   ],
   "source": [
    "path_subjects_edf = 'D:\\\\USC\\\\Sleep dataset\\\\Samsung_data\\\\NEW_EDF'\n",
    "subjects_edf = os.listdir(path_subjects_edf)\n",
    "subjects_edf.sort()\n",
    "print(subjects_edf)\n",
    "\n",
    "meas_time_df = pd.read_csv('D:\\\\USC\\\\code_mine\\\\Exploration_for_VD_dataset\\\\meas_time_edf_hypno.csv', index_col=0)\n",
    "meas_time_df = meas_time_df.loc['LE004':'LE023']\n",
    "meas_time_df"
   ]
  },
  {
   "cell_type": "code",
   "execution_count": 3,
   "id": "c49b68c5",
   "metadata": {},
   "outputs": [
    {
     "name": "stdout",
     "output_type": "stream",
     "text": [
      "[]\n"
     ]
    }
   ],
   "source": [
    "now_edf = os.path.join(path_subjects_edf, subjects_edf[0], 'Traces.edf')\n",
    "raw = mne.io.read_raw_edf(now_edf, preload=True, verbose=False)"
   ]
  },
  {
   "cell_type": "code",
   "execution_count": 5,
   "id": "fb26d367",
   "metadata": {},
   "outputs": [
    {
     "name": "stdout",
     "output_type": "stream",
     "text": [
      "-- Available Channels: ['SO', 'C3', 'C4', 'IO']\n"
     ]
    }
   ],
   "source": [
    "# Channel Select\n",
    "eogs = ['SO', 'IO']\n",
    "eegs = ['C3', 'C4']\n",
    "pick_chs = eogs+eegs\n",
    "raw.pick_channels(pick_chs)\n",
    "chs = raw.ch_names\n",
    "print(\"-- Available Channels: {}\".format(chs))"
   ]
  },
  {
   "cell_type": "code",
   "execution_count": 10,
   "id": "4c4d5cda",
   "metadata": {},
   "outputs": [
    {
     "data": {
      "text/plain": [
       "'LE004-1_edf'"
      ]
     },
     "execution_count": 10,
     "metadata": {},
     "output_type": "execute_result"
    }
   ],
   "source": [
    "subject = subjects_edf[0]\n",
    "subject"
   ]
  },
  {
   "cell_type": "code",
   "execution_count": 12,
   "id": "db9f36d9",
   "metadata": {},
   "outputs": [],
   "source": [
    "import datetime\n",
    "def str_time_to_seconds(time_str):\n",
    "    time = time_str.split(':')\n",
    "    seconds = int(time[0])*3600 + int(time[1])*60 + int(time[2])\n",
    "    \n",
    "    return seconds\n",
    "\n",
    "def seconds_to_str_time(seconds):\n",
    "    time = datetime.timedelta(seconds=seconds)\n",
    "    return time"
   ]
  },
  {
   "cell_type": "code",
   "execution_count": 13,
   "id": "dd361341",
   "metadata": {},
   "outputs": [
    {
     "name": "stdout",
     "output_type": "stream",
     "text": [
      "-- Edf time before matching: 0:17:47  5:52:13\n",
      "-- Edf time after mathcing: 0:30:30  5:52:00\n",
      "-- ground_truth time: 0:31:00  5:52:00\n"
     ]
    }
   ],
   "source": [
    "# start, end time matching\n",
    "# -- get start, end times\n",
    "hypno_start = meas_time_df.loc[subject[0:5], 'hypno_start']\n",
    "hypno_end = meas_time_df.loc[subject[0:5], 'hypno_end']\n",
    "edf_start = meas_time_df.loc[subject[0:5], 'edf_start']\n",
    "edf_end = meas_time_df.loc[subject[0:5], 'edf_end']\n",
    "\n",
    "hypno_start_sec = str_time_to_seconds(hypno_start)\n",
    "hypno_end_sec = str_time_to_seconds(hypno_end)\n",
    "edf_start_sec = str_time_to_seconds(edf_start)\n",
    "\n",
    "new_edf_start_sec = (hypno_start_sec - 30) - edf_start_sec\n",
    "new_edf_end_sec = hypno_end_sec - edf_start_sec\n",
    "\n",
    "print(f\"-- Edf time before matching: {edf_start}  {edf_end}\")\n",
    "print(\"-- Edf time after mathcing: {}  {}\".format(\n",
    "    str(seconds_to_str_time(edf_start_sec+new_edf_start_sec)),\n",
    "    str(seconds_to_str_time(edf_start_sec+new_edf_end_sec))\n",
    "))\n",
    "print(f\"-- ground_truth time: {hypno_start}  {hypno_end}\")"
   ]
  },
  {
   "cell_type": "code",
   "execution_count": 14,
   "id": "73568015",
   "metadata": {},
   "outputs": [
    {
     "data": {
      "text/html": [
       "<table class=\"table table-hover table-striped table-sm table-responsive small\">\n",
       "    <tr>\n",
       "        <th>Measurement date</th>\n",
       "        \n",
       "        <td>December 28, 2017  00:17:47 GMT</td>\n",
       "        \n",
       "    </tr>\n",
       "    <tr>\n",
       "        <th>Experimenter</th>\n",
       "        \n",
       "        <td>Unknown</td>\n",
       "        \n",
       "    </tr>\n",
       "        <th>Participant</th>\n",
       "        \n",
       "        <td>Unknown</td>\n",
       "        \n",
       "    </tr>\n",
       "    <tr>\n",
       "        <th>Digitized points</th>\n",
       "        \n",
       "        <td>0 points</td>\n",
       "        \n",
       "    </tr>\n",
       "    <tr>\n",
       "        <th>Good channels</th>\n",
       "        <td>4 EEG</td>\n",
       "    </tr>\n",
       "    <tr>\n",
       "        <th>Bad channels</th>\n",
       "        <td>None</td>\n",
       "    </tr>\n",
       "    <tr>\n",
       "        <th>EOG channels</th>\n",
       "        <td>Not available</td>\n",
       "    </tr>\n",
       "    <tr>\n",
       "        <th>ECG channels</th>\n",
       "        <td>Not available</td>\n",
       "    \n",
       "    <tr>\n",
       "        <th>Sampling frequency</th>\n",
       "        <td>500.00 Hz</td>\n",
       "    </tr>\n",
       "    \n",
       "    \n",
       "    <tr>\n",
       "        <th>Highpass</th>\n",
       "        <td>0.00 Hz</td>\n",
       "    </tr>\n",
       "    \n",
       "    \n",
       "    <tr>\n",
       "        <th>Lowpass</th>\n",
       "        <td>250.00 Hz</td>\n",
       "    </tr>\n",
       "    \n",
       "    \n",
       "    \n",
       "    <tr>\n",
       "        <th>Filenames</th>\n",
       "        <td>Traces.edf</td>\n",
       "    </tr>\n",
       "    \n",
       "    <tr>\n",
       "        <th>Duration</th>\n",
       "        <td>05:21:30 (HH:MM:SS)</td>\n",
       "    </tr>\n",
       "</table>"
      ],
      "text/plain": [
       "<RawEDF | Traces.edf, 4 x 9645001 (19290.0 s), ~294.4 MB, data loaded>"
      ]
     },
     "execution_count": 14,
     "metadata": {},
     "output_type": "execute_result"
    }
   ],
   "source": [
    "raw.crop(tmin= new_edf_start_sec, tmax=new_edf_end_sec)"
   ]
  },
  {
   "cell_type": "code",
   "execution_count": 15,
   "id": "d918683d",
   "metadata": {},
   "outputs": [
    {
     "ename": "RuntimeError",
     "evalue": "For exporting to EDF to work, the EDFlib module is needed, but it could not be imported.",
     "output_type": "error",
     "traceback": [
      "\u001b[1;31m---------------------------------------------------------------------------\u001b[0m",
      "\u001b[1;31mModuleNotFoundError\u001b[0m                       Traceback (most recent call last)",
      "File \u001b[1;32m~\\Anaconda3\\envs\\env_yasa\\lib\\site-packages\\mne\\utils\\check.py:335\u001b[0m, in \u001b[0;36m_soft_import\u001b[1;34m(name, purpose, strict)\u001b[0m\n\u001b[0;32m    334\u001b[0m \u001b[38;5;28;01mtry\u001b[39;00m:\n\u001b[1;32m--> 335\u001b[0m     mod \u001b[38;5;241m=\u001b[39m \u001b[43mimport_module\u001b[49m\u001b[43m(\u001b[49m\u001b[43mname\u001b[49m\u001b[43m)\u001b[49m\n\u001b[0;32m    336\u001b[0m     \u001b[38;5;28;01mreturn\u001b[39;00m mod\n",
      "File \u001b[1;32m~\\Anaconda3\\envs\\env_yasa\\lib\\importlib\\__init__.py:127\u001b[0m, in \u001b[0;36mimport_module\u001b[1;34m(name, package)\u001b[0m\n\u001b[0;32m    126\u001b[0m         level \u001b[38;5;241m+\u001b[39m\u001b[38;5;241m=\u001b[39m \u001b[38;5;241m1\u001b[39m\n\u001b[1;32m--> 127\u001b[0m \u001b[38;5;28;01mreturn\u001b[39;00m \u001b[43m_bootstrap\u001b[49m\u001b[38;5;241;43m.\u001b[39;49m\u001b[43m_gcd_import\u001b[49m\u001b[43m(\u001b[49m\u001b[43mname\u001b[49m\u001b[43m[\u001b[49m\u001b[43mlevel\u001b[49m\u001b[43m:\u001b[49m\u001b[43m]\u001b[49m\u001b[43m,\u001b[49m\u001b[43m \u001b[49m\u001b[43mpackage\u001b[49m\u001b[43m,\u001b[49m\u001b[43m \u001b[49m\u001b[43mlevel\u001b[49m\u001b[43m)\u001b[49m\n",
      "File \u001b[1;32m<frozen importlib._bootstrap>:1030\u001b[0m, in \u001b[0;36m_gcd_import\u001b[1;34m(name, package, level)\u001b[0m\n",
      "File \u001b[1;32m<frozen importlib._bootstrap>:1007\u001b[0m, in \u001b[0;36m_find_and_load\u001b[1;34m(name, import_)\u001b[0m\n",
      "File \u001b[1;32m<frozen importlib._bootstrap>:984\u001b[0m, in \u001b[0;36m_find_and_load_unlocked\u001b[1;34m(name, import_)\u001b[0m\n",
      "\u001b[1;31mModuleNotFoundError\u001b[0m: No module named 'EDFlib'",
      "\nDuring handling of the above exception, another exception occurred:\n",
      "\u001b[1;31mRuntimeError\u001b[0m                              Traceback (most recent call last)",
      "Input \u001b[1;32mIn [15]\u001b[0m, in \u001b[0;36m<cell line: 3>\u001b[1;34m()\u001b[0m\n\u001b[0;32m      1\u001b[0m path_save \u001b[38;5;241m=\u001b[39m \u001b[38;5;124m'\u001b[39m\u001b[38;5;124mD:\u001b[39m\u001b[38;5;130;01m\\\\\u001b[39;00m\u001b[38;5;124mUSC\u001b[39m\u001b[38;5;130;01m\\\\\u001b[39;00m\u001b[38;5;124mSleep dataset\u001b[39m\u001b[38;5;130;01m\\\\\u001b[39;00m\u001b[38;5;124mSamsung_data\u001b[39m\u001b[38;5;130;01m\\\\\u001b[39;00m\u001b[38;5;124mNEW_EDF_matched\u001b[39m\u001b[38;5;124m'\u001b[39m\n\u001b[0;32m      2\u001b[0m save_as \u001b[38;5;241m=\u001b[39m os\u001b[38;5;241m.\u001b[39mpath\u001b[38;5;241m.\u001b[39mjoin(path_save, subject[\u001b[38;5;241m0\u001b[39m:\u001b[38;5;241m5\u001b[39m]\u001b[38;5;241m+\u001b[39m\u001b[38;5;124m'\u001b[39m\u001b[38;5;124m.edf\u001b[39m\u001b[38;5;124m'\u001b[39m)\n\u001b[1;32m----> 3\u001b[0m \u001b[43mmne\u001b[49m\u001b[38;5;241;43m.\u001b[39;49m\u001b[43mexport\u001b[49m\u001b[38;5;241;43m.\u001b[39;49m\u001b[43mexport_raw\u001b[49m\u001b[43m(\u001b[49m\u001b[43msave_as\u001b[49m\u001b[43m,\u001b[49m\u001b[43m \u001b[49m\u001b[43mraw\u001b[49m\u001b[43m,\u001b[49m\u001b[43m \u001b[49m\u001b[43mfmt\u001b[49m\u001b[38;5;241;43m=\u001b[39;49m\u001b[38;5;124;43m'\u001b[39;49m\u001b[38;5;124;43medf\u001b[39;49m\u001b[38;5;124;43m'\u001b[39;49m\u001b[43m)\u001b[49m\n",
      "File \u001b[1;32m<decorator-gen-567>:12\u001b[0m, in \u001b[0;36mexport_raw\u001b[1;34m(fname, raw, fmt, physical_range, add_ch_type, overwrite, verbose)\u001b[0m\n",
      "File \u001b[1;32m~\\Anaconda3\\envs\\env_yasa\\lib\\site-packages\\mne\\export\\_export.py:61\u001b[0m, in \u001b[0;36mexport_raw\u001b[1;34m(fname, raw, fmt, physical_range, add_ch_type, overwrite, verbose)\u001b[0m\n\u001b[0;32m     59\u001b[0m     _export_raw(fname, raw)\n\u001b[0;32m     60\u001b[0m \u001b[38;5;28;01melif\u001b[39;00m fmt \u001b[38;5;241m==\u001b[39m \u001b[38;5;124m'\u001b[39m\u001b[38;5;124medf\u001b[39m\u001b[38;5;124m'\u001b[39m:\n\u001b[1;32m---> 61\u001b[0m     \u001b[38;5;28;01mfrom\u001b[39;00m \u001b[38;5;21;01m.\u001b[39;00m\u001b[38;5;21;01m_edf\u001b[39;00m \u001b[38;5;28;01mimport\u001b[39;00m _export_raw\n\u001b[0;32m     62\u001b[0m     _export_raw(fname, raw, physical_range, add_ch_type)\n\u001b[0;32m     63\u001b[0m \u001b[38;5;28;01melif\u001b[39;00m fmt \u001b[38;5;241m==\u001b[39m \u001b[38;5;124m'\u001b[39m\u001b[38;5;124mbrainvision\u001b[39m\u001b[38;5;124m'\u001b[39m:\n",
      "File \u001b[1;32m~\\Anaconda3\\envs\\env_yasa\\lib\\site-packages\\mne\\export\\_edf.py:10\u001b[0m, in \u001b[0;36m<module>\u001b[1;34m\u001b[0m\n\u001b[0;32m      7\u001b[0m \u001b[38;5;28;01mimport\u001b[39;00m \u001b[38;5;21;01mnumpy\u001b[39;00m \u001b[38;5;28;01mas\u001b[39;00m \u001b[38;5;21;01mnp\u001b[39;00m\n\u001b[0;32m      9\u001b[0m \u001b[38;5;28;01mfrom\u001b[39;00m \u001b[38;5;21;01m.\u001b[39;00m\u001b[38;5;21;01m.\u001b[39;00m\u001b[38;5;21;01mutils\u001b[39;00m \u001b[38;5;28;01mimport\u001b[39;00m _check_edflib_installed, warn\n\u001b[1;32m---> 10\u001b[0m \u001b[43m_check_edflib_installed\u001b[49m\u001b[43m(\u001b[49m\u001b[43m)\u001b[49m\n\u001b[0;32m     11\u001b[0m \u001b[38;5;28;01mfrom\u001b[39;00m \u001b[38;5;21;01mEDFlib\u001b[39;00m\u001b[38;5;21;01m.\u001b[39;00m\u001b[38;5;21;01medfwriter\u001b[39;00m \u001b[38;5;28;01mimport\u001b[39;00m EDFwriter  \u001b[38;5;66;03m# noqa: E402\u001b[39;00m\n\u001b[0;32m     14\u001b[0m \u001b[38;5;28;01mdef\u001b[39;00m \u001b[38;5;21m_try_to_set_value\u001b[39m(header, key, value, channel_index\u001b[38;5;241m=\u001b[39m\u001b[38;5;28;01mNone\u001b[39;00m):\n",
      "File \u001b[1;32m~\\Anaconda3\\envs\\env_yasa\\lib\\site-packages\\mne\\utils\\check.py:357\u001b[0m, in \u001b[0;36m_check_edflib_installed\u001b[1;34m(strict)\u001b[0m\n\u001b[0;32m    355\u001b[0m \u001b[38;5;28;01mdef\u001b[39;00m \u001b[38;5;21m_check_edflib_installed\u001b[39m(strict\u001b[38;5;241m=\u001b[39m\u001b[38;5;28;01mTrue\u001b[39;00m):\n\u001b[0;32m    356\u001b[0m     \u001b[38;5;124;03m\"\"\"Aux function.\"\"\"\u001b[39;00m\n\u001b[1;32m--> 357\u001b[0m     \u001b[38;5;28;01mreturn\u001b[39;00m \u001b[43m_soft_import\u001b[49m\u001b[43m(\u001b[49m\u001b[38;5;124;43m'\u001b[39;49m\u001b[38;5;124;43mEDFlib\u001b[39;49m\u001b[38;5;124;43m'\u001b[39;49m\u001b[43m,\u001b[49m\u001b[43m \u001b[49m\u001b[38;5;124;43m'\u001b[39;49m\u001b[38;5;124;43mexporting to EDF\u001b[39;49m\u001b[38;5;124;43m'\u001b[39;49m\u001b[43m,\u001b[49m\u001b[43m \u001b[49m\u001b[43mstrict\u001b[49m\u001b[38;5;241;43m=\u001b[39;49m\u001b[43mstrict\u001b[49m\u001b[43m)\u001b[49m\n",
      "File \u001b[1;32m~\\Anaconda3\\envs\\env_yasa\\lib\\site-packages\\mne\\utils\\check.py:339\u001b[0m, in \u001b[0;36m_soft_import\u001b[1;34m(name, purpose, strict)\u001b[0m\n\u001b[0;32m    337\u001b[0m \u001b[38;5;28;01mexcept\u001b[39;00m (\u001b[38;5;167;01mImportError\u001b[39;00m, \u001b[38;5;167;01mModuleNotFoundError\u001b[39;00m):\n\u001b[0;32m    338\u001b[0m     \u001b[38;5;28;01mif\u001b[39;00m strict:\n\u001b[1;32m--> 339\u001b[0m         \u001b[38;5;28;01mraise\u001b[39;00m \u001b[38;5;167;01mRuntimeError\u001b[39;00m(\u001b[38;5;124mf\u001b[39m\u001b[38;5;124m'\u001b[39m\u001b[38;5;124mFor \u001b[39m\u001b[38;5;132;01m{\u001b[39;00mpurpose\u001b[38;5;132;01m}\u001b[39;00m\u001b[38;5;124m to work, the \u001b[39m\u001b[38;5;132;01m{\u001b[39;00mname\u001b[38;5;132;01m}\u001b[39;00m\u001b[38;5;124m module is \u001b[39m\u001b[38;5;124m'\u001b[39m\n\u001b[0;32m    340\u001b[0m                            \u001b[38;5;124m'\u001b[39m\u001b[38;5;124mneeded, but it could not be imported.\u001b[39m\u001b[38;5;124m'\u001b[39m)\n\u001b[0;32m    341\u001b[0m     \u001b[38;5;28;01melse\u001b[39;00m:\n\u001b[0;32m    342\u001b[0m         \u001b[38;5;28;01mreturn\u001b[39;00m \u001b[38;5;28;01mFalse\u001b[39;00m\n",
      "\u001b[1;31mRuntimeError\u001b[0m: For exporting to EDF to work, the EDFlib module is needed, but it could not be imported."
     ]
    }
   ],
   "source": [
    "path_save = 'D:\\\\USC\\\\Sleep dataset\\\\Samsung_data\\\\NEW_EDF_matched'\n",
    "save_as = os.path.join(path_save, subject[0:5]+'.edf')\n",
    "mne.export.export_raw(save_as, raw, fmt='edf')"
   ]
  },
  {
   "cell_type": "code",
   "execution_count": null,
   "id": "a3650425",
   "metadata": {},
   "outputs": [],
   "source": []
  }
 ],
 "metadata": {
  "kernelspec": {
   "display_name": "Python 3 (ipykernel)",
   "language": "python",
   "name": "python3"
  },
  "language_info": {
   "codemirror_mode": {
    "name": "ipython",
    "version": 3
   },
   "file_extension": ".py",
   "mimetype": "text/x-python",
   "name": "python",
   "nbconvert_exporter": "python",
   "pygments_lexer": "ipython3",
   "version": "3.9.7"
  }
 },
 "nbformat": 4,
 "nbformat_minor": 5
}
