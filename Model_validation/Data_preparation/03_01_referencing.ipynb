{
 "cells": [
  {
   "cell_type": "markdown",
   "id": "40924767",
   "metadata": {},
   "source": [
    "# 1. LE dataset"
   ]
  },
  {
   "cell_type": "code",
   "execution_count": 1,
   "id": "9d2eee60",
   "metadata": {},
   "outputs": [],
   "source": [
    "import os\n",
    "import mne\n",
    "import numpy as np\n",
    "import pandas as pd\n",
    "from tqdm.notebook import tqdm"
   ]
  },
  {
   "cell_type": "code",
   "execution_count": 3,
   "id": "7c32df4c",
   "metadata": {},
   "outputs": [
    {
     "name": "stdout",
     "output_type": "stream",
     "text": [
      "['LE004.edf', 'LE010.edf', 'LE011.edf', 'LE014.edf', 'LE019.edf', 'LE020.edf', 'LE021.edf', 'LE023.edf']\n"
     ]
    }
   ],
   "source": [
    "path_subjects_edf = 'D:\\\\USC\\\\Sleep dataset\\\\Samsung_data\\\\NEW_EDF_matched'\n",
    "subjects_edf = os.listdir(path_subjects_edf)\n",
    "subjects_edf.sort()\n",
    "print(subjects_edf)\n",
    "\n",
    "path_save = 'D:\\\\USC\\\\Sleep dataset\\\\Samsung_3rd\\\\edf_matched_rereferenced'"
   ]
  },
  {
   "cell_type": "code",
   "execution_count": 4,
   "id": "1da89d62",
   "metadata": {},
   "outputs": [
    {
     "data": {
      "application/vnd.jupyter.widget-view+json": {
       "model_id": "d6270b4c030d46e0bc448488dabd3d9c",
       "version_major": 2,
       "version_minor": 0
      },
      "text/plain": [
       "re-referencing by A1:   0%|          | 0/8 [00:00<?, ?it/s]"
      ]
     },
     "metadata": {},
     "output_type": "display_data"
    },
    {
     "name": "stdout",
     "output_type": "stream",
     "text": [
      "-- D:\\USC\\Sleep dataset\\Samsung_data\\NEW_EDF_matched\\LE004.edf\n",
      "[]\n",
      "EEG channel type selected for re-referencing\n",
      "Applying a custom ('EEG',) reference.\n",
      "-- D:\\USC\\Sleep dataset\\Samsung_data\\NEW_EDF_matched\\LE010.edf\n",
      "[]\n",
      "EEG channel type selected for re-referencing\n",
      "Applying a custom ('EEG',) reference.\n",
      "-- D:\\USC\\Sleep dataset\\Samsung_data\\NEW_EDF_matched\\LE011.edf\n",
      "[]\n",
      "EEG channel type selected for re-referencing\n",
      "Applying a custom ('EEG',) reference.\n",
      "-- D:\\USC\\Sleep dataset\\Samsung_data\\NEW_EDF_matched\\LE014.edf\n",
      "[]\n",
      "EEG channel type selected for re-referencing\n",
      "Applying a custom ('EEG',) reference.\n",
      "-- D:\\USC\\Sleep dataset\\Samsung_data\\NEW_EDF_matched\\LE019.edf\n",
      "[]\n",
      "EEG channel type selected for re-referencing\n",
      "Applying a custom ('EEG',) reference.\n",
      "-- D:\\USC\\Sleep dataset\\Samsung_data\\NEW_EDF_matched\\LE020.edf\n",
      "[]\n",
      "EEG channel type selected for re-referencing\n",
      "Applying a custom ('EEG',) reference.\n",
      "-- D:\\USC\\Sleep dataset\\Samsung_data\\NEW_EDF_matched\\LE021.edf\n",
      "[]\n",
      "EEG channel type selected for re-referencing\n",
      "Applying a custom ('EEG',) reference.\n",
      "-- D:\\USC\\Sleep dataset\\Samsung_data\\NEW_EDF_matched\\LE023.edf\n",
      "[]\n",
      "EEG channel type selected for re-referencing\n",
      "Applying a custom ('EEG',) reference.\n"
     ]
    }
   ],
   "source": [
    "for subject in tqdm(subjects_edf, desc='re-referencing by A1'):\n",
    "    now_edf = os.path.join(path_subjects_edf, subject)\n",
    "    print('-- {}'.format(now_edf))\n",
    "    raw = mne.io.read_raw_edf(now_edf, preload=True, verbose=False)\n",
    "    new_tuple = mne.set_eeg_reference(raw, ref_channels=['A1']) # A1에 대하여 re-referencing\n",
    "    new_raw = new_tuple[0]\n",
    "    \n",
    "    save_as = os.path.join(path_save, subject[:5]+'.edf')\n",
    "    mne.export.export_raw(save_as, raw, fmt='edf', overwrite=True)"
   ]
  },
  {
   "cell_type": "code",
   "execution_count": null,
   "id": "20c682ca",
   "metadata": {},
   "outputs": [],
   "source": []
  },
  {
   "cell_type": "markdown",
   "id": "359d3eed",
   "metadata": {},
   "source": [
    "# 2. VD dataset"
   ]
  },
  {
   "cell_type": "code",
   "execution_count": 1,
   "id": "ff53b015",
   "metadata": {},
   "outputs": [],
   "source": [
    "import os\n",
    "import mne\n",
    "import numpy as np\n",
    "import pandas as pd\n",
    "from tqdm.notebook import tqdm"
   ]
  },
  {
   "cell_type": "code",
   "execution_count": 6,
   "id": "567f5a28",
   "metadata": {},
   "outputs": [
    {
     "name": "stdout",
     "output_type": "stream",
     "text": [
      "['VD001.edf', 'VD002.edf', 'VD003.edf', 'VD004.edf', 'VD005.edf', 'VD006.edf', 'VD008.edf', 'VD011.edf', 'VD012.edf', 'VD017.edf', 'VD019.edf', 'VD022.edf', 'VD023.edf', 'VD025.edf', 'VD028.edf', 'VD029.edf', 'VD030.edf', 'VD031.edf', 'VD033.edf', 'VD034.edf', 'VD039.edf', 'VD041.edf', 'VD042.edf', 'VD043.edf', 'VD044.edf', 'VD045.edf', 'VD046.edf', 'VD047.edf', 'VD049.edf', 'VD050.edf', 'VD051.edf', 'VD052.edf', 'VD053.edf', 'VD054.edf', 'VD055.edf', 'VD056.edf', 'VD057.edf', 'VD058.edf']\n"
     ]
    }
   ],
   "source": [
    "# path_subjects_edf = 'D:\\\\USC\\\\Sleep dataset\\\\Samsung_3rd\\\\edf_matched'\n",
    "path_subjects_edf = 'G:\\\\다른 컴퓨터\\\\내 노트북\\\\USC\\\\Sleep dataset\\\\Samsung_2nd\\\\VD_edf_matched'\n",
    "subjects_edf = os.listdir(path_subjects_edf)\n",
    "subjects_edf.sort()\n",
    "print(subjects_edf)\n",
    "\n",
    "# path_save = 'D:\\\\USC\\\\Sleep dataset\\\\Samsung_data\\\\NEW_EDF_matched_rereferenced'\n",
    "path_save = 'G:\\\\다른 컴퓨터\\\\내 노트북\\\\USC\\\\Sleep dataset\\\\Samsung_2nd\\\\VD_edf_matched_rereferencing'"
   ]
  },
  {
   "cell_type": "code",
   "execution_count": 7,
   "id": "ec0002ae",
   "metadata": {},
   "outputs": [
    {
     "data": {
      "application/vnd.jupyter.widget-view+json": {
       "model_id": "cf69db33ab934abaaebe7bb2db64cc6d",
       "version_major": 2,
       "version_minor": 0
      },
      "text/plain": [
       "re-referencing by A1:   0%|          | 0/38 [00:00<?, ?it/s]"
      ]
     },
     "metadata": {},
     "output_type": "display_data"
    },
    {
     "name": "stdout",
     "output_type": "stream",
     "text": [
      "-- G:\\다른 컴퓨터\\내 노트북\\USC\\Sleep dataset\\Samsung_2nd\\VD_edf_matched\\VD001.edf\n",
      "EEG channel type selected for re-referencing\n",
      "Applying a custom ('EEG',) reference.\n",
      "-- G:\\다른 컴퓨터\\내 노트북\\USC\\Sleep dataset\\Samsung_2nd\\VD_edf_matched\\VD002.edf\n",
      "EEG channel type selected for re-referencing\n",
      "Applying a custom ('EEG',) reference.\n",
      "-- G:\\다른 컴퓨터\\내 노트북\\USC\\Sleep dataset\\Samsung_2nd\\VD_edf_matched\\VD003.edf\n",
      "EEG channel type selected for re-referencing\n",
      "Applying a custom ('EEG',) reference.\n",
      "-- G:\\다른 컴퓨터\\내 노트북\\USC\\Sleep dataset\\Samsung_2nd\\VD_edf_matched\\VD004.edf\n",
      "EEG channel type selected for re-referencing\n",
      "Applying a custom ('EEG',) reference.\n",
      "-- G:\\다른 컴퓨터\\내 노트북\\USC\\Sleep dataset\\Samsung_2nd\\VD_edf_matched\\VD005.edf\n",
      "EEG channel type selected for re-referencing\n",
      "Applying a custom ('EEG',) reference.\n",
      "-- G:\\다른 컴퓨터\\내 노트북\\USC\\Sleep dataset\\Samsung_2nd\\VD_edf_matched\\VD006.edf\n",
      "EEG channel type selected for re-referencing\n",
      "Applying a custom ('EEG',) reference.\n",
      "-- G:\\다른 컴퓨터\\내 노트북\\USC\\Sleep dataset\\Samsung_2nd\\VD_edf_matched\\VD008.edf\n",
      "EEG channel type selected for re-referencing\n",
      "Applying a custom ('EEG',) reference.\n",
      "-- G:\\다른 컴퓨터\\내 노트북\\USC\\Sleep dataset\\Samsung_2nd\\VD_edf_matched\\VD011.edf\n",
      "EEG channel type selected for re-referencing\n",
      "Applying a custom ('EEG',) reference.\n",
      "-- G:\\다른 컴퓨터\\내 노트북\\USC\\Sleep dataset\\Samsung_2nd\\VD_edf_matched\\VD012.edf\n",
      "EEG channel type selected for re-referencing\n",
      "Applying a custom ('EEG',) reference.\n",
      "-- G:\\다른 컴퓨터\\내 노트북\\USC\\Sleep dataset\\Samsung_2nd\\VD_edf_matched\\VD017.edf\n",
      "EEG channel type selected for re-referencing\n",
      "Applying a custom ('EEG',) reference.\n",
      "-- G:\\다른 컴퓨터\\내 노트북\\USC\\Sleep dataset\\Samsung_2nd\\VD_edf_matched\\VD019.edf\n",
      "EEG channel type selected for re-referencing\n",
      "Applying a custom ('EEG',) reference.\n",
      "-- G:\\다른 컴퓨터\\내 노트북\\USC\\Sleep dataset\\Samsung_2nd\\VD_edf_matched\\VD022.edf\n",
      "EEG channel type selected for re-referencing\n",
      "Applying a custom ('EEG',) reference.\n",
      "-- G:\\다른 컴퓨터\\내 노트북\\USC\\Sleep dataset\\Samsung_2nd\\VD_edf_matched\\VD023.edf\n",
      "EEG channel type selected for re-referencing\n",
      "Applying a custom ('EEG',) reference.\n",
      "-- G:\\다른 컴퓨터\\내 노트북\\USC\\Sleep dataset\\Samsung_2nd\\VD_edf_matched\\VD025.edf\n",
      "EEG channel type selected for re-referencing\n",
      "Applying a custom ('EEG',) reference.\n",
      "-- G:\\다른 컴퓨터\\내 노트북\\USC\\Sleep dataset\\Samsung_2nd\\VD_edf_matched\\VD028.edf\n",
      "EEG channel type selected for re-referencing\n",
      "Applying a custom ('EEG',) reference.\n",
      "-- G:\\다른 컴퓨터\\내 노트북\\USC\\Sleep dataset\\Samsung_2nd\\VD_edf_matched\\VD029.edf\n",
      "EEG channel type selected for re-referencing\n",
      "Applying a custom ('EEG',) reference.\n",
      "-- G:\\다른 컴퓨터\\내 노트북\\USC\\Sleep dataset\\Samsung_2nd\\VD_edf_matched\\VD030.edf\n",
      "EEG channel type selected for re-referencing\n",
      "Applying a custom ('EEG',) reference.\n",
      "-- G:\\다른 컴퓨터\\내 노트북\\USC\\Sleep dataset\\Samsung_2nd\\VD_edf_matched\\VD031.edf\n",
      "EEG channel type selected for re-referencing\n",
      "Applying a custom ('EEG',) reference.\n",
      "-- G:\\다른 컴퓨터\\내 노트북\\USC\\Sleep dataset\\Samsung_2nd\\VD_edf_matched\\VD033.edf\n",
      "EEG channel type selected for re-referencing\n",
      "Applying a custom ('EEG',) reference.\n",
      "-- G:\\다른 컴퓨터\\내 노트북\\USC\\Sleep dataset\\Samsung_2nd\\VD_edf_matched\\VD034.edf\n",
      "EEG channel type selected for re-referencing\n",
      "Applying a custom ('EEG',) reference.\n",
      "-- G:\\다른 컴퓨터\\내 노트북\\USC\\Sleep dataset\\Samsung_2nd\\VD_edf_matched\\VD039.edf\n",
      "EEG channel type selected for re-referencing\n",
      "Applying a custom ('EEG',) reference.\n",
      "-- G:\\다른 컴퓨터\\내 노트북\\USC\\Sleep dataset\\Samsung_2nd\\VD_edf_matched\\VD041.edf\n",
      "EEG channel type selected for re-referencing\n",
      "Applying a custom ('EEG',) reference.\n",
      "-- G:\\다른 컴퓨터\\내 노트북\\USC\\Sleep dataset\\Samsung_2nd\\VD_edf_matched\\VD042.edf\n",
      "EEG channel type selected for re-referencing\n",
      "Applying a custom ('EEG',) reference.\n",
      "-- G:\\다른 컴퓨터\\내 노트북\\USC\\Sleep dataset\\Samsung_2nd\\VD_edf_matched\\VD043.edf\n",
      "EEG channel type selected for re-referencing\n",
      "Applying a custom ('EEG',) reference.\n",
      "-- G:\\다른 컴퓨터\\내 노트북\\USC\\Sleep dataset\\Samsung_2nd\\VD_edf_matched\\VD044.edf\n",
      "EEG channel type selected for re-referencing\n",
      "Applying a custom ('EEG',) reference.\n",
      "-- G:\\다른 컴퓨터\\내 노트북\\USC\\Sleep dataset\\Samsung_2nd\\VD_edf_matched\\VD045.edf\n",
      "EEG channel type selected for re-referencing\n",
      "Applying a custom ('EEG',) reference.\n",
      "-- G:\\다른 컴퓨터\\내 노트북\\USC\\Sleep dataset\\Samsung_2nd\\VD_edf_matched\\VD046.edf\n",
      "EEG channel type selected for re-referencing\n",
      "Applying a custom ('EEG',) reference.\n",
      "-- G:\\다른 컴퓨터\\내 노트북\\USC\\Sleep dataset\\Samsung_2nd\\VD_edf_matched\\VD047.edf\n",
      "EEG channel type selected for re-referencing\n",
      "Applying a custom ('EEG',) reference.\n",
      "-- G:\\다른 컴퓨터\\내 노트북\\USC\\Sleep dataset\\Samsung_2nd\\VD_edf_matched\\VD049.edf\n",
      "EEG channel type selected for re-referencing\n",
      "Applying a custom ('EEG',) reference.\n",
      "-- G:\\다른 컴퓨터\\내 노트북\\USC\\Sleep dataset\\Samsung_2nd\\VD_edf_matched\\VD050.edf\n",
      "EEG channel type selected for re-referencing\n",
      "Applying a custom ('EEG',) reference.\n",
      "-- G:\\다른 컴퓨터\\내 노트북\\USC\\Sleep dataset\\Samsung_2nd\\VD_edf_matched\\VD051.edf\n",
      "EEG channel type selected for re-referencing\n",
      "Applying a custom ('EEG',) reference.\n",
      "-- G:\\다른 컴퓨터\\내 노트북\\USC\\Sleep dataset\\Samsung_2nd\\VD_edf_matched\\VD052.edf\n",
      "EEG channel type selected for re-referencing\n",
      "Applying a custom ('EEG',) reference.\n",
      "-- G:\\다른 컴퓨터\\내 노트북\\USC\\Sleep dataset\\Samsung_2nd\\VD_edf_matched\\VD053.edf\n",
      "EEG channel type selected for re-referencing\n",
      "Applying a custom ('EEG',) reference.\n",
      "-- G:\\다른 컴퓨터\\내 노트북\\USC\\Sleep dataset\\Samsung_2nd\\VD_edf_matched\\VD054.edf\n",
      "EEG channel type selected for re-referencing\n",
      "Applying a custom ('EEG',) reference.\n",
      "-- G:\\다른 컴퓨터\\내 노트북\\USC\\Sleep dataset\\Samsung_2nd\\VD_edf_matched\\VD055.edf\n",
      "EEG channel type selected for re-referencing\n",
      "Applying a custom ('EEG',) reference.\n",
      "-- G:\\다른 컴퓨터\\내 노트북\\USC\\Sleep dataset\\Samsung_2nd\\VD_edf_matched\\VD056.edf\n",
      "EEG channel type selected for re-referencing\n",
      "Applying a custom ('EEG',) reference.\n",
      "-- G:\\다른 컴퓨터\\내 노트북\\USC\\Sleep dataset\\Samsung_2nd\\VD_edf_matched\\VD057.edf\n",
      "EEG channel type selected for re-referencing\n",
      "Applying a custom ('EEG',) reference.\n",
      "-- G:\\다른 컴퓨터\\내 노트북\\USC\\Sleep dataset\\Samsung_2nd\\VD_edf_matched\\VD058.edf\n",
      "EEG channel type selected for re-referencing\n",
      "Applying a custom ('EEG',) reference.\n"
     ]
    }
   ],
   "source": [
    "for subject in tqdm(subjects_edf, desc='re-referencing by A1'):\n",
    "    now_edf = os.path.join(path_subjects_edf, subject)\n",
    "    print('-- {}'.format(now_edf))\n",
    "    raw = mne.io.read_raw_edf(now_edf, preload=True, verbose=False)\n",
    "    new_tuple = mne.set_eeg_reference(raw, ref_channels=['A1']) # A1에 대하여 re-referencing\n",
    "    new_raw = new_tuple[0]\n",
    "    \n",
    "    save_as = os.path.join(path_save, subject[:8]+'.edf')\n",
    "    mne.export.export_raw(save_as, raw, fmt='edf', overwrite=True)"
   ]
  },
  {
   "cell_type": "code",
   "execution_count": 9,
   "id": "ec585d18",
   "metadata": {},
   "outputs": [
    {
     "data": {
      "application/vnd.jupyter.widget-view+json": {
       "model_id": "d02fb332e2cf45d4a5e1171638a88794",
       "version_major": 2,
       "version_minor": 0
      },
      "text/plain": [
       "re-referencing by A1:   0%|          | 0/2 [00:00<?, ?it/s]"
      ]
     },
     "metadata": {},
     "output_type": "display_data"
    },
    {
     "name": "stdout",
     "output_type": "stream",
     "text": [
      "-- G:\\다른 컴퓨터\\내 노트북\\USC\\Sleep dataset\\Samsung_2nd\\VD_edf_matched\\VD054.edf\n",
      "EEG channel type selected for re-referencing\n",
      "Applying a custom ('EEG',) reference.\n",
      "Overwriting existing file.\n",
      "-- G:\\다른 컴퓨터\\내 노트북\\USC\\Sleep dataset\\Samsung_2nd\\VD_edf_matched\\VD056.edf\n",
      "EEG channel type selected for re-referencing\n",
      "Applying a custom ('EEG',) reference.\n",
      "Overwriting existing file.\n"
     ]
    }
   ],
   "source": [
    "# addotonal re-ref\n",
    "# hypno_start_hour = 12 인 경우, 코드 오류로 잘못된 정보가 추출됨\n",
    "# 해당하는 subject인 VD054, VD56만 다시 추출하자\n",
    "new_subjects = ['VD054.edf', 'VD056.edf']\n",
    "for subject in tqdm(new_subjects, desc='re-referencing by A1'):\n",
    "    now_edf = os.path.join(path_subjects_edf, subject)\n",
    "    print('-- {}'.format(now_edf))\n",
    "    raw = mne.io.read_raw_edf(now_edf, preload=True, verbose=False)\n",
    "    new_tuple = mne.set_eeg_reference(raw, ref_channels=['A1']) # A1에 대하여 re-referencing\n",
    "    new_raw = new_tuple[0]\n",
    "    \n",
    "    save_as = os.path.join(path_save, subject[:8]+'.edf')\n",
    "    mne.export.export_raw(save_as, raw, fmt='edf', overwrite=True)"
   ]
  },
  {
   "cell_type": "code",
   "execution_count": null,
   "id": "3386841d",
   "metadata": {},
   "outputs": [],
   "source": []
  },
  {
   "cell_type": "markdown",
   "id": "663f8c55",
   "metadata": {},
   "source": [
    "# 3. PE dataset"
   ]
  },
  {
   "cell_type": "code",
   "execution_count": 1,
   "id": "702352f7",
   "metadata": {},
   "outputs": [],
   "source": [
    "import os\n",
    "import mne\n",
    "import numpy as np\n",
    "import pandas as pd\n",
    "from tqdm.notebook import tqdm"
   ]
  },
  {
   "cell_type": "code",
   "execution_count": 4,
   "id": "bcd28b72",
   "metadata": {},
   "outputs": [
    {
     "name": "stdout",
     "output_type": "stream",
     "text": [
      "['PE150386.edf', 'PE180205.edf', 'PE180682.edf', 'PE180955.edf', 'PE181067.edf', 'PE190065.edf', 'PE190925.edf']\n"
     ]
    }
   ],
   "source": [
    "path_subjects_edf = 'D:\\\\USC\\\\Sleep dataset\\\\Samsung_3rd\\\\edf_matched'\n",
    "subjects_edf = os.listdir(path_subjects_edf)\n",
    "subjects_edf.sort()\n",
    "print(subjects_edf)\n",
    "\n",
    "path_save = 'D:\\\\USC\\\\Sleep dataset\\\\Samsung_data\\\\NEW_EDF_matched_rereferenced'"
   ]
  },
  {
   "cell_type": "code",
   "execution_count": 6,
   "id": "1277131e",
   "metadata": {
    "scrolled": true
   },
   "outputs": [
    {
     "data": {
      "application/vnd.jupyter.widget-view+json": {
       "model_id": "679ff62cde304a9998ec59bd7b8be891",
       "version_major": 2,
       "version_minor": 0
      },
      "text/plain": [
       "re-referencing by A1:   0%|          | 0/7 [00:00<?, ?it/s]"
      ]
     },
     "metadata": {},
     "output_type": "display_data"
    },
    {
     "name": "stdout",
     "output_type": "stream",
     "text": [
      "-- D:\\USC\\Sleep dataset\\Samsung_3rd\\edf_matched\\PE150386.edf\n",
      "[]\n",
      "EEG channel type selected for re-referencing\n",
      "Applying a custom ('EEG',) reference.\n",
      "-- D:\\USC\\Sleep dataset\\Samsung_3rd\\edf_matched\\PE180205.edf\n",
      "[]\n",
      "EEG channel type selected for re-referencing\n",
      "Applying a custom ('EEG',) reference.\n",
      "-- D:\\USC\\Sleep dataset\\Samsung_3rd\\edf_matched\\PE180682.edf\n",
      "[]\n",
      "EEG channel type selected for re-referencing\n",
      "Applying a custom ('EEG',) reference.\n",
      "-- D:\\USC\\Sleep dataset\\Samsung_3rd\\edf_matched\\PE180955.edf\n",
      "[]\n",
      "EEG channel type selected for re-referencing\n",
      "Applying a custom ('EEG',) reference.\n",
      "-- D:\\USC\\Sleep dataset\\Samsung_3rd\\edf_matched\\PE181067.edf\n",
      "[]\n",
      "EEG channel type selected for re-referencing\n",
      "Applying a custom ('EEG',) reference.\n",
      "-- D:\\USC\\Sleep dataset\\Samsung_3rd\\edf_matched\\PE190065.edf\n",
      "[]\n",
      "EEG channel type selected for re-referencing\n",
      "Applying a custom ('EEG',) reference.\n",
      "-- D:\\USC\\Sleep dataset\\Samsung_3rd\\edf_matched\\PE190925.edf\n",
      "[]\n",
      "EEG channel type selected for re-referencing\n",
      "Applying a custom ('EEG',) reference.\n"
     ]
    }
   ],
   "source": [
    "for subject in tqdm(subjects_edf, desc='re-referencing by A1'):\n",
    "    now_edf = os.path.join(path_subjects_edf, subject)\n",
    "    print('-- {}'.format(now_edf))\n",
    "    raw = mne.io.read_raw_edf(now_edf, preload=True, verbose=False)\n",
    "    new_tuple = mne.set_eeg_reference(raw, ref_channels=['A1']) # A1에 대하여 re-referencing\n",
    "    new_raw = new_tuple[0]\n",
    "    \n",
    "    save_as = os.path.join(path_save, subject[:8]+'.edf')\n",
    "    mne.export.export_raw(save_as, raw, fmt='edf', overwrite=True)"
   ]
  },
  {
   "cell_type": "code",
   "execution_count": null,
   "id": "2b79975c",
   "metadata": {},
   "outputs": [],
   "source": []
  },
  {
   "cell_type": "code",
   "execution_count": null,
   "id": "abc477da",
   "metadata": {},
   "outputs": [],
   "source": []
  },
  {
   "cell_type": "code",
   "execution_count": null,
   "id": "c877cede",
   "metadata": {},
   "outputs": [],
   "source": []
  },
  {
   "cell_type": "markdown",
   "id": "674ddde0",
   "metadata": {},
   "source": [
    "# demo"
   ]
  },
  {
   "cell_type": "code",
   "execution_count": 2,
   "id": "54c5431a",
   "metadata": {},
   "outputs": [
    {
     "name": "stdout",
     "output_type": "stream",
     "text": [
      "['PE150386.edf', 'PE180205.edf', 'PE180682.edf', 'PE180955.edf', 'PE181067.edf', 'PE190065.edf', 'PE190925.edf']\n"
     ]
    }
   ],
   "source": [
    "path_subjects_edf = 'D:\\\\USC\\\\Sleep dataset\\\\Samsung_3rd\\\\edf_matched'\n",
    "subjects_edf = os.listdir(path_subjects_edf)\n",
    "subjects_edf.sort()\n",
    "print(subjects_edf)"
   ]
  },
  {
   "cell_type": "code",
   "execution_count": 3,
   "id": "adfb95ca",
   "metadata": {},
   "outputs": [
    {
     "name": "stdout",
     "output_type": "stream",
     "text": [
      "-- D:\\USC\\Sleep dataset\\Samsung_3rd\\edf_matched\\PE150386.edf\n",
      "[]\n"
     ]
    }
   ],
   "source": [
    "# matched edf\n",
    "subject_edf = subjects_edf[0]\n",
    "now_edf = os.path.join(path_subjects_edf, subject_edf)\n",
    "print('-- {}'.format(now_edf))\n",
    "raw_1 = mne.io.read_raw_edf(now_edf, preload=True, verbose=False)\n",
    "\n",
    "ch_1 = raw_1.ch_names\n",
    "data_1 = raw_1.get_data()"
   ]
  },
  {
   "cell_type": "code",
   "execution_count": 4,
   "id": "4e894e37",
   "metadata": {},
   "outputs": [
    {
     "name": "stdout",
     "output_type": "stream",
     "text": [
      "['SO', 'A2', 'C3', 'C4', 'O1', 'O2', 'IO', 'A1', 'F3', 'F4']\n",
      "(10, 4470200)\n"
     ]
    }
   ],
   "source": [
    "print(ch_1)\n",
    "print(data_1.shape)"
   ]
  },
  {
   "cell_type": "code",
   "execution_count": 5,
   "id": "287f5102",
   "metadata": {},
   "outputs": [
    {
     "name": "stdout",
     "output_type": "stream",
     "text": [
      "EEG channel type selected for re-referencing\n",
      "Applying a custom ('EEG',) reference.\n"
     ]
    },
    {
     "data": {
      "text/plain": [
       "numpy.ndarray"
      ]
     },
     "execution_count": 5,
     "metadata": {},
     "output_type": "execute_result"
    }
   ],
   "source": [
    "# matched + re-referenced edf\n",
    "raw_2 = mne.set_eeg_reference(raw_1, ref_channels=['A1'])\n",
    "# return \n",
    "# 1. intance of Raw\n",
    "# 2. ref_data in numpy\n",
    "type(raw_2[0])\n",
    "type(raw_2[1])"
   ]
  },
  {
   "cell_type": "code",
   "execution_count": 6,
   "id": "b5f6b973",
   "metadata": {},
   "outputs": [
    {
     "name": "stdout",
     "output_type": "stream",
     "text": [
      "C4, A1\n",
      "<class 'numpy.ndarray'>, <class 'numpy.ndarray'>\n",
      "[-9.20010529e-06 -1.14081306e-05 -1.49041706e-05 ...  0.00000000e+00\n",
      "  0.00000000e+00  0.00000000e+00]\n",
      "[ 5.05010529e-08 -4.15000000e-08 -1.33501053e-07 ... -4.15000000e-08\n",
      " -4.15000000e-08 -4.15000000e-08]\n"
     ]
    }
   ],
   "source": [
    "# comparison between raw_1 and raw_2\n",
    "C4_1 = data_1[3]\n",
    "A1_1 = data_1[7]\n",
    "print(f\"{ch_1[3]}, {ch_1[7]}\")\n",
    "print(\"{}, {}\".format(type(C4_1), type(A1_1)))\n",
    "\n",
    "C4A1_1 = C4_1 - A1_1\n",
    "print(C4A1_1)\n",
    "print(A1_1)"
   ]
  },
  {
   "cell_type": "code",
   "execution_count": 7,
   "id": "842e0664",
   "metadata": {},
   "outputs": [
    {
     "name": "stdout",
     "output_type": "stream",
     "text": [
      "<class 'numpy.ndarray'>\n",
      "(10, 4470200)\n",
      "[-9.20010529e-06 -1.14081306e-05 -1.49041706e-05 ...  0.00000000e+00\n",
      "  0.00000000e+00  0.00000000e+00]\n",
      "[0. 0. 0. ... 0. 0. 0.]\n"
     ]
    }
   ],
   "source": [
    "data_2 = raw_2[0].get_data()\n",
    "print(type(data_2))\n",
    "print(data_2.shape)\n",
    "C4_2 = data_2[3]\n",
    "A1_2 = data_2[7]\n",
    "print(C4_2)\n",
    "print(A1_2)"
   ]
  },
  {
   "cell_type": "code",
   "execution_count": 8,
   "id": "9b4de274",
   "metadata": {},
   "outputs": [
    {
     "data": {
      "text/plain": [
       "['SO', 'A2', 'C3', 'C4', 'O1', 'O2', 'IO', 'A1', 'F3', 'F4']"
      ]
     },
     "execution_count": 8,
     "metadata": {},
     "output_type": "execute_result"
    }
   ],
   "source": [
    "raw_2[0].ch_names"
   ]
  },
  {
   "cell_type": "code",
   "execution_count": null,
   "id": "7380b183",
   "metadata": {},
   "outputs": [],
   "source": []
  }
 ],
 "metadata": {
  "kernelspec": {
   "display_name": "Python 3 (ipykernel)",
   "language": "python",
   "name": "python3"
  },
  "language_info": {
   "codemirror_mode": {
    "name": "ipython",
    "version": 3
   },
   "file_extension": ".py",
   "mimetype": "text/x-python",
   "name": "python",
   "nbconvert_exporter": "python",
   "pygments_lexer": "ipython3",
   "version": "3.9.7"
  }
 },
 "nbformat": 4,
 "nbformat_minor": 5
}
