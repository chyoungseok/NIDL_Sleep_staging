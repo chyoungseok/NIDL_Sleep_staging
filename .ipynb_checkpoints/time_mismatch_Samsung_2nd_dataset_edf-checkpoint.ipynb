{
 "cells": [
  {
   "cell_type": "markdown",
   "id": "e420fb99",
   "metadata": {},
   "source": [
    "# Samsung_2nd dataset에 대하여, PSG와 staging label의 time mismatch 조사"
   ]
  },
  {
   "cell_type": "code",
   "execution_count": 1,
   "id": "457d9045",
   "metadata": {},
   "outputs": [],
   "source": [
    "import os\n",
    "import pandas as pd\n",
    "import mne\n",
    "import datetime"
   ]
  },
  {
   "cell_type": "code",
   "execution_count": 3,
   "id": "453df3a8",
   "metadata": {
    "scrolled": true
   },
   "outputs": [
    {
     "name": "stdout",
     "output_type": "stream",
     "text": [
      "['VD001', 'VD002', 'VD003', 'VD004', 'VD005', 'VD006', 'VD007', 'VD008', 'VD009', 'VD010', 'VD011', 'VD012', 'VD013', 'VD017', 'VD019', 'VD022', 'VD023', 'VD024', 'VD025', 'VD028', 'VD029', 'VD030', 'VD031', 'VD033', 'VD034', 'VD039', 'VD041', 'VD042', 'VD043', 'VD044', 'VD045', 'VD046', 'VD047', 'VD048', 'VD049', 'VD050', 'VD051', 'VD052', 'VD053', 'VD054', 'VD055', 'VD056', 'VD057', 'VD058']\n"
     ]
    },
    {
     "data": {
      "text/plain": [
       "44"
      ]
     },
     "execution_count": 3,
     "metadata": {},
     "output_type": "execute_result"
    }
   ],
   "source": [
    "path_subjects_edf = 'D:\\\\USC\\\\Sleep dataset\\\\Samsung_2nd\\\\VD_edf'\n",
    "subjects = os.listdir(path_subjects_edf)\n",
    "subjects.sort()\n",
    "print(subjects)\n",
    "len(subjects)"
   ]
  },
  {
   "cell_type": "code",
   "execution_count": 3,
   "id": "f1283a45",
   "metadata": {
    "scrolled": false
   },
   "outputs": [
    {
     "name": "stdout",
     "output_type": "stream",
     "text": [
      "located at __init__\n",
      "Extracting EDF parameters from D:\\USC\\Sleep dataset\\Samsung_2nd\\VD_edf\\VD058\\Traces.edf...\n",
      "EDF file detected\n",
      "Setting channel info structure...\n",
      "Creating raw.info structure...\n",
      "Reading 0 ... 8549199  =      0.000 ... 42745.995 secs...\n",
      "[]\n",
      "18:12:32\n",
      "11:52:26\n"
     ]
    }
   ],
   "source": [
    "sub_num = 17\n",
    "now_edf = os.path.join(path_subjects_edf, subjects[sub_num], 'Traces.edf')\n",
    "raw = mne.io.read_raw_edf(now_edf, preload=True)\n",
    "edf_start = str(raw.info['meas_date'])[11:19]\n",
    "edf_duration = str(datetime.timedelta(seconds=len(raw.times)/raw.info['sfreq']))\n",
    "print(edf_start)\n",
    "print(edf_duration)"
   ]
  },
  {
   "cell_type": "code",
   "execution_count": 17,
   "id": "d3172129",
   "metadata": {
    "scrolled": true
   },
   "outputs": [
    {
     "name": "stdout",
     "output_type": "stream",
     "text": [
      "located at __init__\n",
      "Extracting EDF parameters from D:\\USC\\Sleep dataset\\Samsung_2nd\\VD_edf\\VD056\\Traces.edf...\n",
      "EDF file detected\n",
      "Setting channel info structure...\n",
      "Creating raw.info structure...\n",
      "Reading 0 ... 8662799  =      0.000 ... 43313.995 secs...\n",
      "[]\n",
      "17:58:46\n",
      "12:01:54\n"
     ]
    }
   ],
   "source": [
    "sub_num += 1\n",
    "now_edf = os.path.join(path_subjects_edf, subjects[sub_num], 'Traces.edf')\n",
    "raw = mne.io.read_raw_edf(now_edf, preload=True)\n",
    "edf_start = str(raw.info['meas_date'])[11:19]\n",
    "edf_duration = str(datetime.timedelta(seconds=len(raw.times)/raw.info['sfreq']))\n",
    "print(edf_start)\n",
    "print(edf_duration)"
   ]
  },
  {
   "cell_type": "code",
   "execution_count": 18,
   "id": "2c8c5f23",
   "metadata": {},
   "outputs": [
    {
     "name": "stdout",
     "output_type": "stream",
     "text": [
      "located at __init__\n",
      "Extracting EDF parameters from D:\\USC\\Sleep dataset\\Samsung_2nd\\VD_edf\\VD057\\Traces.edf...\n",
      "EDF file detected\n",
      "Setting channel info structure...\n",
      "Creating raw.info structure...\n",
      "Reading 0 ... 8224799  =      0.000 ... 41123.995 secs...\n",
      "[]\n",
      "18:58:11\n",
      "11:25:24\n"
     ]
    }
   ],
   "source": [
    "sub_num += 1\n",
    "now_edf = os.path.join(path_subjects_edf, subjects[sub_num], 'Traces.edf')\n",
    "raw = mne.io.read_raw_edf(now_edf, preload=True)\n",
    "edf_start = str(raw.info['meas_date'])[11:19]\n",
    "edf_duration = str(datetime.timedelta(seconds=len(raw.times)/raw.info['sfreq']))\n",
    "print(edf_start)\n",
    "print(edf_duration)"
   ]
  },
  {
   "cell_type": "code",
   "execution_count": 15,
   "id": "e2f32b91",
   "metadata": {},
   "outputs": [
    {
     "name": "stdout",
     "output_type": "stream",
     "text": [
      "13\n"
     ]
    }
   ],
   "source": [
    "print(sub_num)"
   ]
  },
  {
   "cell_type": "markdown",
   "id": "0e54f7c3",
   "metadata": {},
   "source": [
    "# new LE data 확인"
   ]
  },
  {
   "cell_type": "code",
   "execution_count": 2,
   "id": "e0b63ba9",
   "metadata": {},
   "outputs": [],
   "source": [
    "import mne\n",
    "import os\n",
    "import pandas as pd\n",
    "import datetime"
   ]
  },
  {
   "cell_type": "code",
   "execution_count": 3,
   "id": "be28ddde",
   "metadata": {},
   "outputs": [
    {
     "name": "stdout",
     "output_type": "stream",
     "text": [
      "located at __init__\n",
      "Extracting EDF parameters from C:\\Users\\CYS\\Downloads\\교대근무 study_edf파일\\LE023-3_edf\\Traces.edf...\n",
      "EDF file detected\n",
      "Setting channel info structure...\n",
      "Creating raw.info structure...\n",
      "Reading 0 ... 9398999  =      0.000 ... 18797.998 secs...\n",
      "[]\n",
      "00:32:55\n",
      "5:13:18\n"
     ]
    }
   ],
   "source": [
    "path = 'C:\\\\Users\\\\CYS\\\\Downloads\\\\교대근무 study_edf파일\\\\LE023-3_edf\\\\Traces.edf'\n",
    "raw = mne.io.read_raw_edf(path, preload=True)\n",
    "edf_start = str(raw.info['meas_date'])[11:19]\n",
    "edf_duration = str(datetime.timedelta(seconds=len(raw.times)/raw.info['sfreq']))\n",
    "print(edf_start)\n",
    "print(edf_duration)"
   ]
  },
  {
   "cell_type": "code",
   "execution_count": 4,
   "id": "c769882c",
   "metadata": {
    "scrolled": false
   },
   "outputs": [
    {
     "data": {
      "text/html": [
       "<table class=\"table table-hover table-striped table-sm table-responsive small\">\n",
       "    <tr>\n",
       "        <th>Measurement date</th>\n",
       "        \n",
       "        <td>July 10, 2018  00:32:55 GMT</td>\n",
       "        \n",
       "    </tr>\n",
       "    <tr>\n",
       "        <th>Experimenter</th>\n",
       "        \n",
       "        <td>Unknown</td>\n",
       "        \n",
       "    </tr>\n",
       "        <th>Participant</th>\n",
       "        \n",
       "        <td>Unknown</td>\n",
       "        \n",
       "    </tr>\n",
       "    <tr>\n",
       "        <th>Digitized points</th>\n",
       "        \n",
       "        <td>0 points</td>\n",
       "        \n",
       "    </tr>\n",
       "    <tr>\n",
       "        <th>Good channels</th>\n",
       "        <td>44 EEG</td>\n",
       "    </tr>\n",
       "    <tr>\n",
       "        <th>Bad channels</th>\n",
       "        <td>None</td>\n",
       "    </tr>\n",
       "    <tr>\n",
       "        <th>EOG channels</th>\n",
       "        <td>Not available</td>\n",
       "    </tr>\n",
       "    <tr>\n",
       "        <th>ECG channels</th>\n",
       "        <td>Not available</td>\n",
       "    \n",
       "    <tr>\n",
       "        <th>Sampling frequency</th>\n",
       "        <td>500.00 Hz</td>\n",
       "    </tr>\n",
       "    \n",
       "    \n",
       "    <tr>\n",
       "        <th>Highpass</th>\n",
       "        <td>0.00 Hz</td>\n",
       "    </tr>\n",
       "    \n",
       "    \n",
       "    <tr>\n",
       "        <th>Lowpass</th>\n",
       "        <td>250.00 Hz</td>\n",
       "    </tr>\n",
       "    \n",
       "    \n",
       "    \n",
       "    <tr>\n",
       "        <th>Filenames</th>\n",
       "        <td>Traces.edf</td>\n",
       "    </tr>\n",
       "    \n",
       "    <tr>\n",
       "        <th>Duration</th>\n",
       "        <td>05:13:17 (HH:MM:SS)</td>\n",
       "    </tr>\n",
       "</table>"
      ],
      "text/plain": [
       "<RawEDF | Traces.edf, 44 x 9399000 (18798.0 s), ~3.08 GB, data loaded>"
      ]
     },
     "execution_count": 4,
     "metadata": {},
     "output_type": "execute_result"
    }
   ],
   "source": [
    "raw"
   ]
  },
  {
   "cell_type": "code",
   "execution_count": 5,
   "id": "1e67b617",
   "metadata": {
    "scrolled": true
   },
   "outputs": [
    {
     "data": {
      "text/html": [
       "<div>\n",
       "<style scoped>\n",
       "    .dataframe tbody tr th:only-of-type {\n",
       "        vertical-align: middle;\n",
       "    }\n",
       "\n",
       "    .dataframe tbody tr th {\n",
       "        vertical-align: top;\n",
       "    }\n",
       "\n",
       "    .dataframe thead th {\n",
       "        text-align: right;\n",
       "    }\n",
       "</style>\n",
       "<table border=\"1\" class=\"dataframe\">\n",
       "  <thead>\n",
       "    <tr style=\"text-align: right;\">\n",
       "      <th></th>\n",
       "      <th>original_LE011</th>\n",
       "      <th>new_LE011</th>\n",
       "    </tr>\n",
       "  </thead>\n",
       "  <tbody>\n",
       "    <tr>\n",
       "      <th>hypno_start_time</th>\n",
       "      <td>12:13:00</td>\n",
       "      <td>12:13:00</td>\n",
       "    </tr>\n",
       "    <tr>\n",
       "      <th>hypno_end_time</th>\n",
       "      <td>06:39:00</td>\n",
       "      <td>06:39:00</td>\n",
       "    </tr>\n",
       "    <tr>\n",
       "      <th>edf_start_time</th>\n",
       "      <td>12:16:43</td>\n",
       "      <td>12:10:39</td>\n",
       "    </tr>\n",
       "    <tr>\n",
       "      <th>edf_end_time</th>\n",
       "      <td>06:27:10</td>\n",
       "      <td>06:46:11</td>\n",
       "    </tr>\n",
       "  </tbody>\n",
       "</table>\n",
       "</div>"
      ],
      "text/plain": [
       "                 original_LE011 new_LE011\n",
       "hypno_start_time       12:13:00  12:13:00\n",
       "hypno_end_time         06:39:00  06:39:00\n",
       "edf_start_time         12:16:43  12:10:39\n",
       "edf_end_time           06:27:10  06:46:11"
      ]
     },
     "execution_count": 5,
     "metadata": {},
     "output_type": "execute_result"
    }
   ],
   "source": [
    "original_LE011 = ['12:13:00', '06:39:00', '12:16:43', '06:27:10']\n",
    "new_LE011 = ['12:13:00', '06:39:00', '12:10:39', '06:46:11']\n",
    "index_names = ['hypno_start_time', 'hypno_end_time', 'edf_start_time', 'edf_end_time']\n",
    "dic = {\n",
    "    'original_LE011': original_LE011,\n",
    "    'new_LE011': new_LE011\n",
    "}\n",
    "df = pd.DataFrame(dic, index=index_names)\n",
    "df"
   ]
  },
  {
   "cell_type": "code",
   "execution_count": null,
   "id": "4ef3acb7",
   "metadata": {},
   "outputs": [],
   "source": []
  }
 ],
 "metadata": {
  "kernelspec": {
   "display_name": "Python 3 (ipykernel)",
   "language": "python",
   "name": "python3"
  },
  "language_info": {
   "codemirror_mode": {
    "name": "ipython",
    "version": 3
   },
   "file_extension": ".py",
   "mimetype": "text/x-python",
   "name": "python",
   "nbconvert_exporter": "python",
   "pygments_lexer": "ipython3",
   "version": "3.9.7"
  }
 },
 "nbformat": 4,
 "nbformat_minor": 5
}
