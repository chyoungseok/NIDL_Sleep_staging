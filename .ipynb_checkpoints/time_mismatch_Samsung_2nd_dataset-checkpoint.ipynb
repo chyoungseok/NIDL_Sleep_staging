{
 "cells": [
  {
   "cell_type": "markdown",
   "id": "6d38ee20",
   "metadata": {},
   "source": [
    "# Samsung_2nd dataset에 대하여, PSG와 staging label의 time mismatch 조사"
   ]
  },
  {
   "cell_type": "code",
   "execution_count": 1,
   "id": "d930f388",
   "metadata": {},
   "outputs": [],
   "source": [
    "import os"
   ]
  },
  {
   "cell_type": "code",
   "execution_count": 2,
   "id": "5190e2a0",
   "metadata": {},
   "outputs": [],
   "source": [
    "path_subjects_eeg = 'D:\\\\USC\\\\Sleep dataset\\\\Samsung_2nd\\\\VD_eeg\\\\VD_EEG'\n",
    "path_subjects_hypno = 'D:\\\\USC\\\\Sleep dataset\\\\Samsung_2nd\\\\VD_sleep_scoring'"
   ]
  },
  {
   "cell_type": "code",
   "execution_count": 3,
   "id": "bad9bb7f",
   "metadata": {},
   "outputs": [
    {
     "name": "stdout",
     "output_type": "stream",
     "text": [
      "['VD041_KSH', 'VD042_HSC', 'VD043_KDY', 'VD044_KNY', 'VD045_CSH', 'VD046_KBW', 'VD047_CJS', 'VD049_CSJ', 'VD050_PKR', 'VD052_CYM', 'VD053_KHC', 'VD054_PCA', 'VD056_JSH', 'VD057_HC', 'VD058_YHJ']\n",
      "\n",
      " ['VD041-Events.txt', 'VD042-Events.txt', 'VD043-Events.txt', 'VD044-Events.txt', 'VD045-Events.txt', 'VD046-Events.txt', 'VD047-Events.txt', 'VD049-Events.txt', 'VD050-Events.txt', 'VD052-Events.txt', 'VD053-Events.txt', 'VD054-Events.txt', 'VD056-Events.txt', 'VD057-Events.txt', 'VD058-Events.txt']\n",
      "\n",
      "the number of eeg and hypno are same ... 15\n"
     ]
    }
   ],
   "source": [
    "subjects_eeg = os.listdir(path_subjects_eeg)\n",
    "subjects_eeg.sort()\n",
    "subjects_hypno = os.listdir(path_subjects_hypno)\n",
    "subjects_hypno.sort()\n",
    "\n",
    "print(subjects_eeg)\n",
    "print('\\n', subjects_hypno)\n",
    "\n",
    "if len(subjects_eeg) == len(subjects_hypno):\n",
    "    print(\"\\nthe number of eeg and hypno are same ... {}\".format(len(subjects_eeg)))\n",
    "else:\n",
    "    print(\"the number of eeg and hypno are different\")\n",
    "    print(\"-- eeg: {}\".format(len(subjects_eeg)))\n",
    "    print(\"-- hypno: {}\".format(len(subjects_hypno)))"
   ]
  },
  {
   "cell_type": "code",
   "execution_count": 4,
   "id": "8ec28327",
   "metadata": {
    "scrolled": true
   },
   "outputs": [
    {
     "name": "stdout",
     "output_type": "stream",
     "text": [
      "===========================================\n",
      "-- now eeg: VD041, 강소희_A1_.txt\n",
      "-- now hypno: VD041-Events.txt\n",
      "[eeg] 18:36:16 ~ 07:53:24\n",
      "[hypno] 00:52:00 ~ 07:52:30\n",
      "===========================================\n",
      "-- now eeg: VD042, 현순철_A1_.txt\n",
      "-- now hypno: VD042-Events.txt\n",
      "[eeg] 18:51:05 ~ 06:39:08\n",
      "[hypno] 00:52:00 ~ 06:37:30\n",
      "===========================================\n",
      "-- now eeg: vd043, 김동엽_A1_.txt\n",
      "-- now hypno: VD043-Events.txt\n",
      "[eeg] 18:15:07 ~ 06:04:15\n",
      "[hypno] 00:10:30 ~ 06:04:00\n",
      "===========================================\n",
      "-- now eeg: vd044, 김나연_A1_.txt\n",
      "-- now hypno: VD044-Events.txt\n",
      "[eeg] 18:17:08 ~ 06:05:29\n",
      "[hypno] 00:32:30 ~ 06:05:00\n",
      "===========================================\n",
      "-- now eeg: vd045, 추승호_A1_.txt\n",
      "-- now hypno: VD045-Events.txt\n",
      "[eeg] 19:03:54 ~ 06:01:02\n",
      "[hypno] 00:54:30 ~ 06:00:30\n",
      "===========================================\n",
      "-- now eeg: vd046, 구범우_A1_.txt\n",
      "-- now hypno: VD046-Events.txt\n",
      "[eeg] 17:59:21 ~ 05:30:52\n",
      "[hypno] 00:20:00 ~ 05:30:30\n",
      "===========================================\n",
      "-- now eeg: VD047, 최진수_A1_.txt\n",
      "-- now hypno: VD047-Events.txt\n",
      "[eeg] 19:46:07 ~ 06:32:45\n",
      "[hypno] 01:13:00 ~ 06:31:30\n",
      "===========================================\n",
      "-- now eeg: vd049, 조성재_A1_.txt\n",
      "-- now hypno: VD049-Events.txt\n",
      "[eeg] 18:19:16 ~ 06:20:29\n",
      "[hypno] 00:23:00 ~ 06:20:00\n",
      "===========================================\n",
      "-- now eeg: VD050, PKR_A1_.txt\n",
      "-- now hypno: VD050-Events.txt\n",
      "[eeg] 19:05:20 ~ 6:29:21\n",
      "[hypno] 1:16:00 ~ 6:27:30\n",
      "===========================================\n",
      "-- now eeg: VD052, 최유미_A1_.txt\n",
      "-- now hypno: VD052-Events.txt\n",
      "[eeg] 18:58:56 ~ 07:11:30\n",
      "[hypno] 00:35:00 ~ 07:11:00\n",
      "===========================================\n",
      "-- now eeg: vd053, 권혁춘_A1_.txt\n",
      "-- now hypno: VD053-Events.txt\n",
      "[eeg] 17:49:55 ~ 06:05:22\n",
      "[hypno] 00:04:30 ~ 06:05:00\n",
      "===========================================\n",
      "-- now eeg: VD054, PCA_A1_.txt\n",
      "-- now hypno: VD054-Events.txt\n",
      "[eeg] 17:53:45 ~ 5:55:10\n",
      "[hypno] 12:08:00 ~ 5:53:30\n",
      "===========================================\n",
      "-- now eeg: vd056, JSH_A1_.txt\n",
      "-- now hypno: VD056-Events.txt\n",
      "[eeg] 17:54:13 ~ 6:00:37\n",
      "[hypno] 12:00:00 ~ 6:00:00\n",
      "===========================================\n",
      "-- now eeg: VD057, 허철_A1_.txt\n",
      "-- now hypno: VD057-Events.txt\n",
      "[eeg] 18:58:11 ~ 06:23:33\n",
      "[hypno] 01:08:00 ~ 06:22:30\n",
      "===========================================\n",
      "-- now eeg: VD058, YHJ_A1_.txt\n",
      "-- now hypno: VD058-Events.txt\n",
      "[eeg] -0.00301 ~ -2.484e-\n",
      "[hypno] POSITION-SUPINE ~ POSITION-SUPINE\n"
     ]
    }
   ],
   "source": [
    "total_eeg_start = []\n",
    "total_eeg_end = []\n",
    "total_hypno_start = []\n",
    "total_hypno_end = []\n",
    "for i in range(len(subjects_eeg)):\n",
    "    fname_temp_eeg = os.listdir(os.path.join(path_subjects_eeg, subjects_eeg[i]))[0]\n",
    "    path_temp_eeg = os.path.join(path_subjects_eeg, subjects_eeg[i], fname_temp_eeg)\n",
    "    \n",
    "    path_temp_hypno = os.path.join(path_subjects_hypno, subjects_hypno[i])\n",
    "    \n",
    "    print(\"===========================================\")\n",
    "    print(\"-- now eeg: {}\".format(fname_temp_eeg))\n",
    "    print(\"-- now hypno: {}\".format(subjects_hypno[i]))\n",
    "    with open(path_temp_eeg, 'r') as f:\n",
    "        eeg_lines = f.readlines()\n",
    "        test_24h = eeg_lines[5].strip().split()\n",
    "\n",
    "        if len(test_24h) > 2: #(test_24h[0] == '오전') | (test_24h[0] == '오후'):\n",
    "            eeg_start = test_24h[1]\n",
    "            eeg_start = str(int(eeg_start[0])+12) + eeg_start[1:7]\n",
    "            eeg_end = eeg_lines[-1].strip().split()[1][0:7]\n",
    "        else:\n",
    "            eeg_start = eeg_lines[5].strip().split()[0][0:8]\n",
    "            eeg_end = eeg_lines[-1].strip().split()[0][0:8]\n",
    "    \n",
    "    with open(path_temp_hypno, 'r') as f:\n",
    "        hypno_lines = f.readlines()\n",
    "        test_24h = eeg_lines[17].strip().split()\n",
    "        \n",
    "        if (test_24h[0] == '오전') | (test_24h[0] == '오후'):\n",
    "            hypno_start = hypno_lines[17].strip().split()[2]\n",
    "            hypno_end = hypno_lines[-1].strip().split()[2]\n",
    "        elif len(test_24h) > 4:\n",
    "            hypno_start = hypno_lines[17].strip().split()[2]\n",
    "            hypno_end = hypno_lines[-1].strip().split()[2]            \n",
    "        else:\n",
    "            hypno_start = hypno_lines[17].strip().split()[1]\n",
    "            hypno_end = hypno_lines[-1].strip().split()[1]\n",
    "        \n",
    "    print(f'[eeg] {eeg_start} ~ {eeg_end}')\n",
    "    print(f'[hypno] {hypno_start} ~ {hypno_end}')\n",
    "        "
   ]
  },
  {
   "cell_type": "code",
   "execution_count": 5,
   "id": "fea06f73",
   "metadata": {},
   "outputs": [
    {
     "name": "stdout",
     "output_type": "stream",
     "text": [
      "['-0.003014656']\n"
     ]
    }
   ],
   "source": [
    "test = eeg_lines[5].strip().split()\n",
    "print(test)\n",
    "\n",
    "if (test[0] == '오전') | (test[0] == '오후'):\n",
    "    eeg_start = str(int(test[1][0])+12) + test[1][1:7]\n",
    "    eeg_end = eeg_lines[-1].strip().split()[1][1:7]\n",
    "    print(eeg_start, '  ', eeg_end )"
   ]
  },
  {
   "cell_type": "code",
   "execution_count": 6,
   "id": "2dcd1464",
   "metadata": {},
   "outputs": [
    {
     "data": {
      "text/plain": [
       "'-0.003014656\\n'"
      ]
     },
     "execution_count": 6,
     "metadata": {},
     "output_type": "execute_result"
    }
   ],
   "source": [
    "eeg_lines[5]"
   ]
  },
  {
   "cell_type": "code",
   "execution_count": 7,
   "id": "a9020c84",
   "metadata": {
    "scrolled": true
   },
   "outputs": [
    {
     "data": {
      "text/plain": [
       "'-0.00301'"
      ]
     },
     "execution_count": 7,
     "metadata": {},
     "output_type": "execute_result"
    }
   ],
   "source": [
    "eeg_start"
   ]
  },
  {
   "cell_type": "code",
   "execution_count": 8,
   "id": "7c267a6f",
   "metadata": {},
   "outputs": [
    {
     "ename": "IndentationError",
     "evalue": "expected an indented block (Temp/ipykernel_10268/517977063.py, line 2)",
     "output_type": "error",
     "traceback": [
      "\u001b[1;36m  File \u001b[1;32m\"C:\\Users\\CYS\\AppData\\Local\\Temp/ipykernel_10268/517977063.py\"\u001b[1;36m, line \u001b[1;32m2\u001b[0m\n\u001b[1;33m    \u001b[0m\n\u001b[1;37m    ^\u001b[0m\n\u001b[1;31mIndentationError\u001b[0m\u001b[1;31m:\u001b[0m expected an indented block\n"
     ]
    }
   ],
   "source": [
    "if len(eeg_lines[5].strip().split()) == 3:\n",
    "    "
   ]
  },
  {
   "cell_type": "code",
   "execution_count": null,
   "id": "56d36919",
   "metadata": {},
   "outputs": [],
   "source": [
    "eeg_end"
   ]
  },
  {
   "cell_type": "code",
   "execution_count": null,
   "id": "07a21008",
   "metadata": {},
   "outputs": [],
   "source": [
    "hypno_start"
   ]
  },
  {
   "cell_type": "code",
   "execution_count": null,
   "id": "2d87ce9e",
   "metadata": {},
   "outputs": [],
   "source": [
    "print(hypno_lines[17])\n",
    "print(hypno_lines[-1])"
   ]
  },
  {
   "cell_type": "code",
   "execution_count": null,
   "id": "9bd6e562",
   "metadata": {
    "scrolled": true
   },
   "outputs": [],
   "source": [
    "hypno_lines"
   ]
  },
  {
   "cell_type": "code",
   "execution_count": null,
   "id": "81d7f3a6",
   "metadata": {},
   "outputs": [],
   "source": []
  }
 ],
 "metadata": {
  "kernelspec": {
   "display_name": "Python 3 (ipykernel)",
   "language": "python",
   "name": "python3"
  },
  "language_info": {
   "codemirror_mode": {
    "name": "ipython",
    "version": 3
   },
   "file_extension": ".py",
   "mimetype": "text/x-python",
   "name": "python",
   "nbconvert_exporter": "python",
   "pygments_lexer": "ipython3",
   "version": "3.9.7"
  }
 },
 "nbformat": 4,
 "nbformat_minor": 5
}
