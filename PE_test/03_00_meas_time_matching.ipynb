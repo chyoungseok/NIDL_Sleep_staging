{
 "cells": [
  {
   "cell_type": "code",
   "execution_count": 1,
   "id": "67a2c7b4",
   "metadata": {},
   "outputs": [],
   "source": [
    "import os\n",
    "import pandas as pd\n",
    "from tqdm.notebook import tqdm\n",
    "import load_match_save"
   ]
  },
  {
   "cell_type": "code",
   "execution_count": 2,
   "id": "379379c5",
   "metadata": {},
   "outputs": [
    {
     "name": "stdout",
     "output_type": "stream",
     "text": [
      "['PE150386_edf', 'PE180205_edf', 'PE180682_edf', 'PE180955_edf', 'PE181067_edf', 'PE190065_edf', 'PE190925_edf']\n"
     ]
    },
    {
     "data": {
      "text/html": [
       "<div>\n",
       "<style scoped>\n",
       "    .dataframe tbody tr th:only-of-type {\n",
       "        vertical-align: middle;\n",
       "    }\n",
       "\n",
       "    .dataframe tbody tr th {\n",
       "        vertical-align: top;\n",
       "    }\n",
       "\n",
       "    .dataframe thead th {\n",
       "        text-align: right;\n",
       "    }\n",
       "</style>\n",
       "<table border=\"1\" class=\"dataframe\">\n",
       "  <thead>\n",
       "    <tr style=\"text-align: right;\">\n",
       "      <th></th>\n",
       "      <th>hypno_start</th>\n",
       "      <th>hypno_end</th>\n",
       "      <th>edf_start</th>\n",
       "      <th>edf_duration</th>\n",
       "      <th>edf_end</th>\n",
       "      <th>start_mismatch</th>\n",
       "      <th>end_mismatch</th>\n",
       "    </tr>\n",
       "  </thead>\n",
       "  <tbody>\n",
       "    <tr>\n",
       "      <th>PE150386</th>\n",
       "      <td>23:20:30</td>\n",
       "      <td>5:32:30</td>\n",
       "      <td>23:17:07</td>\n",
       "      <td>6:16:35</td>\n",
       "      <td>5:33:42</td>\n",
       "      <td>0</td>\n",
       "      <td>0</td>\n",
       "    </tr>\n",
       "    <tr>\n",
       "      <th>PE180205</th>\n",
       "      <td>23:15:00</td>\n",
       "      <td>6:53:30</td>\n",
       "      <td>23:13:15</td>\n",
       "      <td>7:40:50</td>\n",
       "      <td>6:54:05</td>\n",
       "      <td>0</td>\n",
       "      <td>0</td>\n",
       "    </tr>\n",
       "    <tr>\n",
       "      <th>PE180682</th>\n",
       "      <td>22:55:30</td>\n",
       "      <td>5:52:00</td>\n",
       "      <td>22:54:42</td>\n",
       "      <td>6:57:54</td>\n",
       "      <td>5:52:36</td>\n",
       "      <td>0</td>\n",
       "      <td>0</td>\n",
       "    </tr>\n",
       "    <tr>\n",
       "      <th>PE180955</th>\n",
       "      <td>23:30:00</td>\n",
       "      <td>6:07:00</td>\n",
       "      <td>23:29:08</td>\n",
       "      <td>6:38:00</td>\n",
       "      <td>6:07:08</td>\n",
       "      <td>0</td>\n",
       "      <td>0</td>\n",
       "    </tr>\n",
       "    <tr>\n",
       "      <th>PE181067</th>\n",
       "      <td>23:01:00</td>\n",
       "      <td>5:38:00</td>\n",
       "      <td>22:58:04</td>\n",
       "      <td>6:40:30</td>\n",
       "      <td>5:38:34</td>\n",
       "      <td>0</td>\n",
       "      <td>0</td>\n",
       "    </tr>\n",
       "    <tr>\n",
       "      <th>PE190065</th>\n",
       "      <td>0:17:30</td>\n",
       "      <td>9:08:30</td>\n",
       "      <td>0:15:24</td>\n",
       "      <td>8:53:40</td>\n",
       "      <td>9:09:04</td>\n",
       "      <td>0</td>\n",
       "      <td>0</td>\n",
       "    </tr>\n",
       "    <tr>\n",
       "      <th>PE190090</th>\n",
       "      <td>22:49:00</td>\n",
       "      <td>7:05:00</td>\n",
       "      <td>23:21:02</td>\n",
       "      <td>7:44:10</td>\n",
       "      <td>7:05:12</td>\n",
       "      <td>0</td>\n",
       "      <td>0</td>\n",
       "    </tr>\n",
       "    <tr>\n",
       "      <th>PE190925</th>\n",
       "      <td>21:23:00</td>\n",
       "      <td>6:04:30</td>\n",
       "      <td>21:20:22</td>\n",
       "      <td>8:45:06</td>\n",
       "      <td>6:05:28</td>\n",
       "      <td>0</td>\n",
       "      <td>0</td>\n",
       "    </tr>\n",
       "  </tbody>\n",
       "</table>\n",
       "</div>"
      ],
      "text/plain": [
       "         hypno_start hypno_end edf_start edf_duration  edf_end  \\\n",
       "PE150386    23:20:30   5:32:30  23:17:07      6:16:35  5:33:42   \n",
       "PE180205    23:15:00   6:53:30  23:13:15      7:40:50  6:54:05   \n",
       "PE180682    22:55:30   5:52:00  22:54:42      6:57:54  5:52:36   \n",
       "PE180955    23:30:00   6:07:00  23:29:08      6:38:00  6:07:08   \n",
       "PE181067    23:01:00   5:38:00  22:58:04      6:40:30  5:38:34   \n",
       "PE190065     0:17:30   9:08:30   0:15:24      8:53:40  9:09:04   \n",
       "PE190090    22:49:00   7:05:00  23:21:02      7:44:10  7:05:12   \n",
       "PE190925    21:23:00   6:04:30  21:20:22      8:45:06  6:05:28   \n",
       "\n",
       "          start_mismatch  end_mismatch  \n",
       "PE150386               0             0  \n",
       "PE180205               0             0  \n",
       "PE180682               0             0  \n",
       "PE180955               0             0  \n",
       "PE181067               0             0  \n",
       "PE190065               0             0  \n",
       "PE190090               0             0  \n",
       "PE190925               0             0  "
      ]
     },
     "execution_count": 2,
     "metadata": {},
     "output_type": "execute_result"
    }
   ],
   "source": [
    "path_subjects_edf = 'D:\\\\USC\\\\Sleep dataset\\\\Samsung_3rd\\\\edf'\n",
    "subjects_edf = os.listdir(path_subjects_edf)\n",
    "subjects_edf.sort()\n",
    "print(subjects_edf)\n",
    "\n",
    "meas_time_df = pd.read_csv('D:\\\\USC\\\\code_mine\\\\PE_test\\\\meas_time_info.csv', index_col=0)\n",
    "meas_time_df"
   ]
  },
  {
   "cell_type": "code",
   "execution_count": 3,
   "id": "9f01bb2b",
   "metadata": {
    "scrolled": false
   },
   "outputs": [
    {
     "data": {
      "application/vnd.jupyter.widget-view+json": {
       "model_id": "0c7e4e560acd4f03bbdae131b9be20a2",
       "version_major": 2,
       "version_minor": 0
      },
      "text/plain": [
       "time matching ...:   0%|          | 0/7 [00:00<?, ?it/s]"
      ]
     },
     "metadata": {},
     "output_type": "display_data"
    },
    {
     "name": "stdout",
     "output_type": "stream",
     "text": [
      "-- D:\\USC\\Sleep dataset\\Samsung_3rd\\edf\\PE150386_edf\\Traces.edf\n",
      "[]\n",
      "-- Available Channels: ['SO', 'A2', 'C3', 'C4', 'O1', 'O2', 'IO', 'A1', 'F3', 'F4']\n",
      "hypno_start  hypno_end  edf_start  edf_end\n",
      "23:20:30   5:32:30   23:17:07   5:33:42\n",
      "-- Edf time after mathcing: 23:20:00  5:32:31\n",
      "-- ground_truth time: 23:20:30  5:32:30\n",
      "Overwriting existing file.\n"
     ]
    },
    {
     "name": "stderr",
     "output_type": "stream",
     "text": [
      "D:\\USC\\code_mine\\PE_test\\load_match_save.py:189: RuntimeWarning: EDF format requires equal-length data blocks, so 0.995 seconds of zeros were appended to all channels when writing the final block.\n",
      "  mne.export.export_raw(save_as, raw, fmt='edf', overwrite=True)\n"
     ]
    },
    {
     "name": "stdout",
     "output_type": "stream",
     "text": [
      "-- D:\\USC\\Sleep dataset\\Samsung_3rd\\edf\\PE180205_edf\\Traces.edf\n",
      "[]\n",
      "-- Available Channels: ['SO', 'A2', 'C3', 'C4', 'O1', 'O2', 'IO', 'A1', 'F3', 'F4']\n",
      "hypno_start  hypno_end  edf_start  edf_end\n",
      "23:15:00   6:53:30   23:13:15   6:54:05\n",
      "-- Edf time after mathcing: 23:14:30  6:53:31\n",
      "-- ground_truth time: 23:15:00  6:53:30\n",
      "Overwriting existing file.\n"
     ]
    },
    {
     "name": "stderr",
     "output_type": "stream",
     "text": [
      "D:\\USC\\code_mine\\PE_test\\load_match_save.py:189: RuntimeWarning: EDF format requires equal-length data blocks, so 0.995 seconds of zeros were appended to all channels when writing the final block.\n",
      "  mne.export.export_raw(save_as, raw, fmt='edf', overwrite=True)\n"
     ]
    },
    {
     "name": "stdout",
     "output_type": "stream",
     "text": [
      "-- D:\\USC\\Sleep dataset\\Samsung_3rd\\edf\\PE180682_edf\\Traces.edf\n",
      "[]\n",
      "-- Available Channels: ['SO', 'A2', 'C3', 'O1', 'O2', 'IO', 'A1', 'F3', 'F4', 'C4']\n",
      "hypno_start  hypno_end  edf_start  edf_end\n",
      "22:55:30   5:52:00   22:54:42   5:52:36\n",
      "-- Edf time after mathcing: 22:55:00  5:52:01\n",
      "-- ground_truth time: 22:55:30  5:52:00\n",
      "Overwriting existing file.\n"
     ]
    },
    {
     "name": "stderr",
     "output_type": "stream",
     "text": [
      "D:\\USC\\code_mine\\PE_test\\load_match_save.py:189: RuntimeWarning: EDF format requires equal-length data blocks, so 0.995 seconds of zeros were appended to all channels when writing the final block.\n",
      "  mne.export.export_raw(save_as, raw, fmt='edf', overwrite=True)\n"
     ]
    },
    {
     "name": "stdout",
     "output_type": "stream",
     "text": [
      "-- D:\\USC\\Sleep dataset\\Samsung_3rd\\edf\\PE180955_edf\\Traces.edf\n",
      "[]\n",
      "-- Available Channels: ['SO', 'A2', 'C3', 'O1', 'O2', 'IO', 'A1', 'F3', 'F4', 'C4']\n",
      "hypno_start  hypno_end  edf_start  edf_end\n",
      "23:30:00   6:07:00   23:29:08   6:07:08\n",
      "-- Edf time after mathcing: 23:29:30  6:07:01\n",
      "-- ground_truth time: 23:30:00  6:07:00\n",
      "Overwriting existing file.\n"
     ]
    },
    {
     "name": "stderr",
     "output_type": "stream",
     "text": [
      "D:\\USC\\code_mine\\PE_test\\load_match_save.py:189: RuntimeWarning: EDF format requires equal-length data blocks, so 0.995 seconds of zeros were appended to all channels when writing the final block.\n",
      "  mne.export.export_raw(save_as, raw, fmt='edf', overwrite=True)\n"
     ]
    },
    {
     "name": "stdout",
     "output_type": "stream",
     "text": [
      "-- D:\\USC\\Sleep dataset\\Samsung_3rd\\edf\\PE181067_edf\\Traces.edf\n",
      "[]\n",
      "-- Available Channels: ['SO', 'A2', 'C3', 'O1', 'O2', 'IO', 'A1', 'F3', 'F4', 'C4']\n",
      "hypno_start  hypno_end  edf_start  edf_end\n",
      "23:01:00   5:38:00   22:58:04   5:38:34\n",
      "-- Edf time after mathcing: 23:00:30  5:38:01\n",
      "-- ground_truth time: 23:01:00  5:38:00\n",
      "Overwriting existing file.\n"
     ]
    },
    {
     "name": "stderr",
     "output_type": "stream",
     "text": [
      "D:\\USC\\code_mine\\PE_test\\load_match_save.py:189: RuntimeWarning: EDF format requires equal-length data blocks, so 0.995 seconds of zeros were appended to all channels when writing the final block.\n",
      "  mne.export.export_raw(save_as, raw, fmt='edf', overwrite=True)\n"
     ]
    },
    {
     "name": "stdout",
     "output_type": "stream",
     "text": [
      "-- D:\\USC\\Sleep dataset\\Samsung_3rd\\edf\\PE190065_edf\\Traces.edf\n",
      "[]\n",
      "-- Available Channels: ['SO', 'A2', 'C3', 'C4', 'O1', 'O2', 'IO', 'A1', 'F3', 'F4']\n",
      "hypno_start  hypno_end  edf_start  edf_end\n",
      "0:17:30   9:08:30   0:15:24   9:09:04\n",
      "-- Edf time after mathcing: 0:17:00  9:08:31\n",
      "-- ground_truth time: 0:17:30  9:08:30\n",
      "Overwriting existing file.\n"
     ]
    },
    {
     "name": "stderr",
     "output_type": "stream",
     "text": [
      "D:\\USC\\code_mine\\PE_test\\load_match_save.py:189: RuntimeWarning: EDF format requires equal-length data blocks, so 0.995 seconds of zeros were appended to all channels when writing the final block.\n",
      "  mne.export.export_raw(save_as, raw, fmt='edf', overwrite=True)\n"
     ]
    },
    {
     "name": "stdout",
     "output_type": "stream",
     "text": [
      "-- D:\\USC\\Sleep dataset\\Samsung_3rd\\edf\\PE190925_edf\\Traces.edf\n",
      "[]\n",
      "-- Available Channels: ['SO', 'A1', 'C3', 'C4', 'O1', 'O2', 'IO', 'A2', 'F3', 'F4']\n",
      "hypno_start  hypno_end  edf_start  edf_end\n",
      "21:23:00   6:04:30   21:20:22   6:05:28\n",
      "-- Edf time after mathcing: 21:22:30  6:04:31\n",
      "-- ground_truth time: 21:23:00  6:04:30\n",
      "Overwriting existing file.\n"
     ]
    },
    {
     "name": "stderr",
     "output_type": "stream",
     "text": [
      "D:\\USC\\code_mine\\PE_test\\load_match_save.py:189: RuntimeWarning: EDF format requires equal-length data blocks, so 0.995 seconds of zeros were appended to all channels when writing the final block.\n",
      "  mne.export.export_raw(save_as, raw, fmt='edf', overwrite=True)\n"
     ]
    }
   ],
   "source": [
    "path_save = 'D:\\\\USC\\\\Sleep dataset\\\\Samsung_3rd\\\\edf_matched'\n",
    "for subject_edf in tqdm(subjects_edf, desc='time matching ...'):\n",
    "    load_match_save.for_pe(path_subjects_edf, subject_edf, meas_time_df, path_save)"
   ]
  },
  {
   "cell_type": "code",
   "execution_count": null,
   "id": "05b6d42b",
   "metadata": {},
   "outputs": [],
   "source": []
  },
  {
   "cell_type": "code",
   "execution_count": null,
   "id": "b1767b92",
   "metadata": {},
   "outputs": [],
   "source": []
  },
  {
   "cell_type": "markdown",
   "id": "3c4ce739",
   "metadata": {},
   "source": [
    "# demo below"
   ]
  },
  {
   "cell_type": "code",
   "execution_count": 20,
   "id": "5559722b",
   "metadata": {},
   "outputs": [
    {
     "name": "stdout",
     "output_type": "stream",
     "text": [
      "-- D:\\USC\\Sleep dataset\\Samsung_3rd\\edf\\PE190065_edf\\Traces.edf\n",
      "[]\n",
      "-- Available Channels: ['SO', 'C3', 'C4', 'O1', 'O2', 'IO', 'F3', 'F4']\n",
      "hypno_start  hypno_end  edf_start  edf_end\n",
      "0:17:30   9:08:30   0:15:24   9:09:04\n",
      "-- Edf time after mathcing: 0:17:00  9:08:31\n",
      "-- ground_truth time: 0:17:30  9:08:30\n"
     ]
    },
    {
     "data": {
      "text/html": [
       "<table class=\"table table-hover table-striped table-sm table-responsive small\">\n",
       "    <tr>\n",
       "        <th>Measurement date</th>\n",
       "        \n",
       "        <td>January 17, 2019  00:15:24 GMT</td>\n",
       "        \n",
       "    </tr>\n",
       "    <tr>\n",
       "        <th>Experimenter</th>\n",
       "        \n",
       "        <td>Unknown</td>\n",
       "        \n",
       "    </tr>\n",
       "        <th>Participant</th>\n",
       "        \n",
       "        <td>Unknown</td>\n",
       "        \n",
       "    </tr>\n",
       "    <tr>\n",
       "        <th>Digitized points</th>\n",
       "        \n",
       "        <td>0 points</td>\n",
       "        \n",
       "    </tr>\n",
       "    <tr>\n",
       "        <th>Good channels</th>\n",
       "        <td>8 EEG</td>\n",
       "    </tr>\n",
       "    <tr>\n",
       "        <th>Bad channels</th>\n",
       "        <td>None</td>\n",
       "    </tr>\n",
       "    <tr>\n",
       "        <th>EOG channels</th>\n",
       "        <td>Not available</td>\n",
       "    </tr>\n",
       "    <tr>\n",
       "        <th>ECG channels</th>\n",
       "        <td>Not available</td>\n",
       "    \n",
       "    <tr>\n",
       "        <th>Sampling frequency</th>\n",
       "        <td>200.00 Hz</td>\n",
       "    </tr>\n",
       "    \n",
       "    \n",
       "    <tr>\n",
       "        <th>Highpass</th>\n",
       "        <td>0.00 Hz</td>\n",
       "    </tr>\n",
       "    \n",
       "    \n",
       "    <tr>\n",
       "        <th>Lowpass</th>\n",
       "        <td>100.00 Hz</td>\n",
       "    </tr>\n",
       "    \n",
       "    \n",
       "    \n",
       "    <tr>\n",
       "        <th>Filenames</th>\n",
       "        <td>Traces.edf</td>\n",
       "    </tr>\n",
       "    \n",
       "    <tr>\n",
       "        <th>Duration</th>\n",
       "        <td>08:51:30 (HH:MM:SS)</td>\n",
       "    </tr>\n",
       "</table>"
      ],
      "text/plain": [
       "<RawEDF | Traces.edf, 8 x 6378001 (31890.0 s), ~389.3 MB, data loaded>"
      ]
     },
     "execution_count": 20,
     "metadata": {},
     "output_type": "execute_result"
    }
   ],
   "source": [
    "subject_edf = subjects_edf[5]\n",
    "subject = subject_edf[:8]\n",
    "\n",
    "# load edf data\n",
    "now_edf = os.path.join(path_subjects_edf, subject_edf, 'Traces.edf')\n",
    "print('-- {}'.format(now_edf))\n",
    "raw = mne.io.read_raw_edf(now_edf, preload=True, verbose=False)\n",
    "\n",
    "# Channel Select\n",
    "eogs = ['SO', 'IO', 'SO-0', 'SO-1']\n",
    "eegs = ['C3', 'C4', 'F3', 'F4', 'O1', 'O2']\n",
    "pick_chs = eogs+eegs\n",
    "raw.pick_channels(pick_chs)\n",
    "chs = raw.ch_names\n",
    "print(\"-- Available Channels: {}\".format(chs))\n",
    "\n",
    "# start, end time matching\n",
    "# -- get start, end times\n",
    "hypno_start = meas_time_df.loc[subject, 'hypno_start']\n",
    "hypno_end = meas_time_df.loc[subject, 'hypno_end']\n",
    "edf_start = meas_time_df.loc[subject, 'edf_start']\n",
    "edf_end = meas_time_df.loc[subject, 'edf_end']\n",
    "print(\"hypno_start  hypno_end  edf_start  edf_end\")\n",
    "print(f\"{hypno_start}   {hypno_end}   {edf_start}   {edf_end}\")\n",
    "\n",
    "hypno_start_sec = str_time_to_seconds(hypno_start)\n",
    "hypno_end_sec = str_time_to_seconds(hypno_end)\n",
    "edf_start_sec = str_time_to_seconds(edf_start)\n",
    "edf_end_sec = str_time_to_seconds(edf_end)\n",
    "\n",
    "hypno_start_hour = hypno_start.split(':')[0]\n",
    "edf_start_hour = edf_start.split(':')[0]\n",
    "\n",
    "if 0 <= int(hypno_start_hour) < 5:\n",
    "    if 0 <= int(edf_start_hour) < 5:\n",
    "        new_edf_start_sec = (hypno_start_sec-30) - edf_start_sec\n",
    "    elif 20 < int(edf_start_hour) <= 24:\n",
    "        new_edf_start_sec = (24*3600 - edf_start_sec) + (hypno_start_sec-30 - 0*3600)\n",
    "        \n",
    "elif 20 < int(hypno_start_hour) <= 24:        \n",
    "    new_edf_start_sec = (hypno_start_sec - 30) - edf_start_sec\n",
    "    \n",
    "elif int(hypno_start_hour) == 12:\n",
    "    if 0 <= int(edf_start_hour) < 5:\n",
    "        new_edf_start_sec = (hypno_start_sec-12*3600-30) - edf_start_sec\n",
    "    elif 20 < int(edf_start_hour) <= 24:\n",
    "        new_edf_start_sec = (24*3600-edf_start_sec) + (hypno_start_sec-12*3600-0*3600)\n",
    "\n",
    "new_edf_end_sec = int(raw.times[-1]) - (edf_end_sec-hypno_end_sec) + 1\n",
    "\n",
    "print(\"-- Edf time after mathcing: {}  {}\".format(\n",
    "        str(seconds_to_str_time(edf_start_sec+new_edf_start_sec)),\n",
    "        str(seconds_to_str_time(edf_end_sec-int(raw.times[-1]-new_edf_end_sec)))\n",
    "    ))\n",
    "print(f\"-- ground_truth time: {hypno_start}  {hypno_end}\")\n",
    "\n",
    "raw.crop(tmin= new_edf_start_sec, tmax=new_edf_end_sec)"
   ]
  },
  {
   "cell_type": "code",
   "execution_count": 14,
   "id": "b446e2ba",
   "metadata": {},
   "outputs": [
    {
     "name": "stdout",
     "output_type": "stream",
     "text": [
      "126\n"
     ]
    }
   ],
   "source": [
    "hypno_start_hour = hypno_start.split(':')[0]\n",
    "edf_start_hour = edf_start.split(':')[0]\n",
    "\n",
    "if 0 <= int(hypno_start_hour) < 5:\n",
    "    if 0 <= int(edf_start_hour) < 5:\n",
    "        new_edf_start_sec = hypno_start_sec - edf_start_sec\n",
    "    else:\n",
    "        new_edf_start_sec = (hypno_start_sec + 24*3600 -30) - edf_start_sec\n",
    "        \n",
    "print(new_edf_start_sec)"
   ]
  },
  {
   "cell_type": "code",
   "execution_count": 9,
   "id": "65a5a0aa",
   "metadata": {
    "scrolled": true
   },
   "outputs": [
    {
     "name": "stderr",
     "output_type": "stream",
     "text": [
      "C:\\Users\\CYS\\AppData\\Local\\Temp\\ipykernel_9064\\2788647951.py:4: RuntimeWarning: EDF format requires equal-length data blocks, so 0.995 seconds of zeros were appended to all channels when writing the final block.\n",
      "  mne.export.export_raw(save_as, raw, fmt='edf')\n"
     ]
    }
   ],
   "source": [
    "path_save = 'D:\\\\USC\\\\Sleep dataset\\\\Samsung_3rd\\\\edf_matched'\n",
    "\n",
    "save_as = os.path.join(path_save, subject+'.edf')\n",
    "mne.export.export_raw(save_as, raw, fmt='edf')"
   ]
  },
  {
   "cell_type": "code",
   "execution_count": null,
   "id": "1693e92c",
   "metadata": {},
   "outputs": [],
   "source": []
  }
 ],
 "metadata": {
  "kernelspec": {
   "display_name": "Python 3 (ipykernel)",
   "language": "python",
   "name": "python3"
  },
  "language_info": {
   "codemirror_mode": {
    "name": "ipython",
    "version": 3
   },
   "file_extension": ".py",
   "mimetype": "text/x-python",
   "name": "python",
   "nbconvert_exporter": "python",
   "pygments_lexer": "ipython3",
   "version": "3.9.7"
  }
 },
 "nbformat": 4,
 "nbformat_minor": 5
}
