{
 "cells": [
  {
   "cell_type": "code",
   "execution_count": 1,
   "id": "702352f7",
   "metadata": {},
   "outputs": [],
   "source": [
    "import os\n",
    "import mne\n",
    "import numpy as np\n",
    "import pandas as pd\n",
    "from tqdm.notebook import tqdm\n",
    "import load_match_save"
   ]
  },
  {
   "cell_type": "code",
   "execution_count": 2,
   "id": "bcd28b72",
   "metadata": {},
   "outputs": [
    {
     "name": "stdout",
     "output_type": "stream",
     "text": [
      "['PE150386.edf', 'PE180205.edf', 'PE180682.edf', 'PE180955.edf', 'PE181067.edf', 'PE190065.edf', 'PE190925.edf']\n"
     ]
    }
   ],
   "source": [
    "path_subjects_edf = 'D:\\\\USC\\\\Sleep dataset\\\\Samsung_3rd\\\\edf_matched'\n",
    "subjects_edf = os.listdir(path_subjects_edf)\n",
    "subjects_edf.sort()\n",
    "print(subjects_edf)\n",
    "\n",
    "path_save = 'D:\\\\USC\\\\Sleep dataset\\\\Samsung_3rd\\\\edf_matched_rereferenced'"
   ]
  },
  {
   "cell_type": "code",
   "execution_count": 6,
   "id": "1277131e",
   "metadata": {},
   "outputs": [
    {
     "data": {
      "application/vnd.jupyter.widget-view+json": {
       "model_id": "679ff62cde304a9998ec59bd7b8be891",
       "version_major": 2,
       "version_minor": 0
      },
      "text/plain": [
       "re-referencing by A1:   0%|          | 0/7 [00:00<?, ?it/s]"
      ]
     },
     "metadata": {},
     "output_type": "display_data"
    },
    {
     "name": "stdout",
     "output_type": "stream",
     "text": [
      "-- D:\\USC\\Sleep dataset\\Samsung_3rd\\edf_matched\\PE150386.edf\n",
      "[]\n",
      "EEG channel type selected for re-referencing\n",
      "Applying a custom ('EEG',) reference.\n",
      "-- D:\\USC\\Sleep dataset\\Samsung_3rd\\edf_matched\\PE180205.edf\n",
      "[]\n",
      "EEG channel type selected for re-referencing\n",
      "Applying a custom ('EEG',) reference.\n",
      "-- D:\\USC\\Sleep dataset\\Samsung_3rd\\edf_matched\\PE180682.edf\n",
      "[]\n",
      "EEG channel type selected for re-referencing\n",
      "Applying a custom ('EEG',) reference.\n",
      "-- D:\\USC\\Sleep dataset\\Samsung_3rd\\edf_matched\\PE180955.edf\n",
      "[]\n",
      "EEG channel type selected for re-referencing\n",
      "Applying a custom ('EEG',) reference.\n",
      "-- D:\\USC\\Sleep dataset\\Samsung_3rd\\edf_matched\\PE181067.edf\n",
      "[]\n",
      "EEG channel type selected for re-referencing\n",
      "Applying a custom ('EEG',) reference.\n",
      "-- D:\\USC\\Sleep dataset\\Samsung_3rd\\edf_matched\\PE190065.edf\n",
      "[]\n",
      "EEG channel type selected for re-referencing\n",
      "Applying a custom ('EEG',) reference.\n",
      "-- D:\\USC\\Sleep dataset\\Samsung_3rd\\edf_matched\\PE190925.edf\n",
      "[]\n",
      "EEG channel type selected for re-referencing\n",
      "Applying a custom ('EEG',) reference.\n"
     ]
    }
   ],
   "source": [
    "for subject in tqdm(subjects_edf, desc='re-referencing by A1'):\n",
    "    now_edf = os.path.join(path_subjects_edf, subject)\n",
    "    print('-- {}'.format(now_edf))\n",
    "    raw = mne.io.read_raw_edf(now_edf, preload=True, verbose=False)\n",
    "    new_tuple = mne.set_eeg_reference(raw, ref_channels=['A1']) # A1에 대하여 re-referencing\n",
    "    new_raw = new_tuple[0]\n",
    "    \n",
    "    save_as = os.path.join(path_save, subject[:8]+'.edf')\n",
    "    mne.export.export_raw(save_as, raw, fmt='edf', overwrite=True)"
   ]
  },
  {
   "cell_type": "code",
   "execution_count": null,
   "id": "2b79975c",
   "metadata": {},
   "outputs": [],
   "source": []
  },
  {
   "cell_type": "code",
   "execution_count": null,
   "id": "abc477da",
   "metadata": {},
   "outputs": [],
   "source": []
  },
  {
   "cell_type": "code",
   "execution_count": null,
   "id": "c877cede",
   "metadata": {},
   "outputs": [],
   "source": []
  },
  {
   "cell_type": "markdown",
   "id": "674ddde0",
   "metadata": {},
   "source": [
    "# demo"
   ]
  },
  {
   "cell_type": "code",
   "execution_count": 6,
   "id": "54c5431a",
   "metadata": {},
   "outputs": [
    {
     "name": "stdout",
     "output_type": "stream",
     "text": [
      "['PE150386.edf', 'PE180205.edf', 'PE180682.edf', 'PE180955.edf', 'PE181067.edf', 'PE190065.edf', 'PE190925.edf']\n"
     ]
    }
   ],
   "source": [
    "path_subjects_edf = 'D:\\\\USC\\\\Sleep dataset\\\\Samsung_3rd\\\\edf_matched'\n",
    "subjects_edf = os.listdir(path_subjects_edf)\n",
    "subjects_edf.sort()\n",
    "print(subjects_edf)"
   ]
  },
  {
   "cell_type": "code",
   "execution_count": 12,
   "id": "adfb95ca",
   "metadata": {},
   "outputs": [
    {
     "name": "stdout",
     "output_type": "stream",
     "text": [
      "-- D:\\USC\\Sleep dataset\\Samsung_3rd\\edf_matched\\PE150386.edf\n",
      "[]\n"
     ]
    }
   ],
   "source": [
    "# matched edf\n",
    "subject_edf = subjects_edf[0]\n",
    "now_edf = os.path.join(path_subjects_edf, subject_edf)\n",
    "print('-- {}'.format(now_edf))\n",
    "raw_1 = mne.io.read_raw_edf(now_edf, preload=True, verbose=False)\n",
    "\n",
    "ch_1 = raw_1.ch_names\n",
    "data_1 = raw_1.get_data()"
   ]
  },
  {
   "cell_type": "code",
   "execution_count": 13,
   "id": "4e894e37",
   "metadata": {},
   "outputs": [
    {
     "name": "stdout",
     "output_type": "stream",
     "text": [
      "['SO', 'A2', 'C3', 'C4', 'O1', 'O2', 'IO', 'A1', 'F3', 'F4']\n",
      "(10, 4470200)\n"
     ]
    }
   ],
   "source": [
    "print(ch_1)\n",
    "print(data_1.shape)"
   ]
  },
  {
   "cell_type": "code",
   "execution_count": 31,
   "id": "287f5102",
   "metadata": {},
   "outputs": [
    {
     "name": "stdout",
     "output_type": "stream",
     "text": [
      "EEG channel type selected for re-referencing\n",
      "Applying a custom ('EEG',) reference.\n"
     ]
    },
    {
     "data": {
      "text/plain": [
       "numpy.ndarray"
      ]
     },
     "execution_count": 31,
     "metadata": {},
     "output_type": "execute_result"
    }
   ],
   "source": [
    "# matched + re-referenced edf\n",
    "raw_2 = mne.set_eeg_reference(raw_1, ref_channels=['A1'])\n",
    "# return \n",
    "# 1. intance of Raw\n",
    "# 2. ref_data in numpy\n",
    "type(raw_2[0])\n",
    "type(raw_2[1])"
   ]
  },
  {
   "cell_type": "code",
   "execution_count": 42,
   "id": "b5f6b973",
   "metadata": {},
   "outputs": [
    {
     "name": "stdout",
     "output_type": "stream",
     "text": [
      "C4, A1\n",
      "<class 'numpy.ndarray'>, <class 'numpy.ndarray'>\n",
      "[-9.20010529e-06 -1.14081306e-05 -1.49041706e-05 ...  0.00000000e+00\n",
      "  0.00000000e+00  0.00000000e+00]\n",
      "[ 5.05010529e-08 -4.15000000e-08 -1.33501053e-07 ... -4.15000000e-08\n",
      " -4.15000000e-08 -4.15000000e-08]\n"
     ]
    }
   ],
   "source": [
    "# comparison between raw_1 and raw_2\n",
    "C4_1 = data_1[3]\n",
    "A1_1 = data_1[7]\n",
    "print(f\"{ch_1[3]}, {ch_1[7]}\")\n",
    "print(\"{}, {}\".format(type(C4_1), type(A1_1)))\n",
    "\n",
    "C4A1_1 = C4_1 - A1_1\n",
    "print(C4A1_1)\n",
    "print(A1_1)"
   ]
  },
  {
   "cell_type": "code",
   "execution_count": 41,
   "id": "842e0664",
   "metadata": {},
   "outputs": [
    {
     "name": "stdout",
     "output_type": "stream",
     "text": [
      "<class 'numpy.ndarray'>\n",
      "(10, 4470200)\n",
      "[-9.20010529e-06 -1.14081306e-05 -1.49041706e-05 ...  0.00000000e+00\n",
      "  0.00000000e+00  0.00000000e+00]\n",
      "[0. 0. 0. ... 0. 0. 0.]\n"
     ]
    }
   ],
   "source": [
    "data_2 = raw_2[0].get_data()\n",
    "print(type(data_2))\n",
    "print(data_2.shape)\n",
    "C4_2 = data_2[3]\n",
    "A1_2 = data_2[7]\n",
    "print(C4_2)\n",
    "print(A1_2)"
   ]
  },
  {
   "cell_type": "code",
   "execution_count": null,
   "id": "9b4de274",
   "metadata": {},
   "outputs": [],
   "source": []
  }
 ],
 "metadata": {
  "kernelspec": {
   "display_name": "Python 3 (ipykernel)",
   "language": "python",
   "name": "python3"
  },
  "language_info": {
   "codemirror_mode": {
    "name": "ipython",
    "version": 3
   },
   "file_extension": ".py",
   "mimetype": "text/x-python",
   "name": "python",
   "nbconvert_exporter": "python",
   "pygments_lexer": "ipython3",
   "version": "3.9.7"
  }
 },
 "nbformat": 4,
 "nbformat_minor": 5
}
