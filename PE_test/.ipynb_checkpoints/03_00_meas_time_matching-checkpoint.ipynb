{
 "cells": [
  {
   "cell_type": "code",
   "execution_count": null,
   "id": "67a2c7b4",
   "metadata": {},
   "outputs": [],
   "source": [
    "import os\n",
    "import pandas as pd\n",
    "from tqdm.notebook import tqdm\n",
    "import load_match_save"
   ]
  },
  {
   "cell_type": "code",
   "execution_count": null,
   "id": "379379c5",
   "metadata": {},
   "outputs": [],
   "source": [
    "path_subjects_edf = 'D:\\\\USC\\\\Sleep dataset\\\\Samsung_3rd\\\\edf'\n",
    "subjects_edf = os.listdir(path_subjects_edf)\n",
    "subjects_edf.sort()\n",
    "print(subjects_edf)\n",
    "\n",
    "meas_time_df = pd.read_csv('D:\\\\USC\\\\code_mine\\\\PE_test\\\\meas_time_info.csv', index_col=0)\n",
    "meas_time_df"
   ]
  },
  {
   "cell_type": "code",
   "execution_count": null,
   "id": "9f01bb2b",
   "metadata": {
    "scrolled": false
   },
   "outputs": [],
   "source": [
    "path_save = 'D:\\\\USC\\\\Sleep dataset\\\\Samsung_3rd\\\\edf_matched'\n",
    "for subject_edf in tqdm(subjects_edf, desc='time matching ...'):\n",
    "    load_match_save.for_pe(path_subjects_edf, subject_edf, meas_time_df, path_save)"
   ]
  },
  {
   "cell_type": "code",
   "execution_count": null,
   "id": "05b6d42b",
   "metadata": {},
   "outputs": [],
   "source": []
  },
  {
   "cell_type": "code",
   "execution_count": null,
   "id": "b1767b92",
   "metadata": {},
   "outputs": [],
   "source": []
  },
  {
   "cell_type": "markdown",
   "id": "3c4ce739",
   "metadata": {},
   "source": [
    "# demo below"
   ]
  },
  {
   "cell_type": "code",
   "execution_count": 20,
   "id": "5559722b",
   "metadata": {},
   "outputs": [
    {
     "name": "stdout",
     "output_type": "stream",
     "text": [
      "-- D:\\USC\\Sleep dataset\\Samsung_3rd\\edf\\PE190065_edf\\Traces.edf\n",
      "[]\n",
      "-- Available Channels: ['SO', 'C3', 'C4', 'O1', 'O2', 'IO', 'F3', 'F4']\n",
      "hypno_start  hypno_end  edf_start  edf_end\n",
      "0:17:30   9:08:30   0:15:24   9:09:04\n",
      "-- Edf time after mathcing: 0:17:00  9:08:31\n",
      "-- ground_truth time: 0:17:30  9:08:30\n"
     ]
    },
    {
     "data": {
      "text/html": [
       "<table class=\"table table-hover table-striped table-sm table-responsive small\">\n",
       "    <tr>\n",
       "        <th>Measurement date</th>\n",
       "        \n",
       "        <td>January 17, 2019  00:15:24 GMT</td>\n",
       "        \n",
       "    </tr>\n",
       "    <tr>\n",
       "        <th>Experimenter</th>\n",
       "        \n",
       "        <td>Unknown</td>\n",
       "        \n",
       "    </tr>\n",
       "        <th>Participant</th>\n",
       "        \n",
       "        <td>Unknown</td>\n",
       "        \n",
       "    </tr>\n",
       "    <tr>\n",
       "        <th>Digitized points</th>\n",
       "        \n",
       "        <td>0 points</td>\n",
       "        \n",
       "    </tr>\n",
       "    <tr>\n",
       "        <th>Good channels</th>\n",
       "        <td>8 EEG</td>\n",
       "    </tr>\n",
       "    <tr>\n",
       "        <th>Bad channels</th>\n",
       "        <td>None</td>\n",
       "    </tr>\n",
       "    <tr>\n",
       "        <th>EOG channels</th>\n",
       "        <td>Not available</td>\n",
       "    </tr>\n",
       "    <tr>\n",
       "        <th>ECG channels</th>\n",
       "        <td>Not available</td>\n",
       "    \n",
       "    <tr>\n",
       "        <th>Sampling frequency</th>\n",
       "        <td>200.00 Hz</td>\n",
       "    </tr>\n",
       "    \n",
       "    \n",
       "    <tr>\n",
       "        <th>Highpass</th>\n",
       "        <td>0.00 Hz</td>\n",
       "    </tr>\n",
       "    \n",
       "    \n",
       "    <tr>\n",
       "        <th>Lowpass</th>\n",
       "        <td>100.00 Hz</td>\n",
       "    </tr>\n",
       "    \n",
       "    \n",
       "    \n",
       "    <tr>\n",
       "        <th>Filenames</th>\n",
       "        <td>Traces.edf</td>\n",
       "    </tr>\n",
       "    \n",
       "    <tr>\n",
       "        <th>Duration</th>\n",
       "        <td>08:51:30 (HH:MM:SS)</td>\n",
       "    </tr>\n",
       "</table>"
      ],
      "text/plain": [
       "<RawEDF | Traces.edf, 8 x 6378001 (31890.0 s), ~389.3 MB, data loaded>"
      ]
     },
     "execution_count": 20,
     "metadata": {},
     "output_type": "execute_result"
    }
   ],
   "source": [
    "subject_edf = subjects_edf[5]\n",
    "subject = subject_edf[:8]\n",
    "\n",
    "# load edf data\n",
    "now_edf = os.path.join(path_subjects_edf, subject_edf, 'Traces.edf')\n",
    "print('-- {}'.format(now_edf))\n",
    "raw = mne.io.read_raw_edf(now_edf, preload=True, verbose=False)\n",
    "\n",
    "# Channel Select\n",
    "eogs = ['SO', 'IO', 'SO-0', 'SO-1']\n",
    "eegs = ['C3', 'C4', 'F3', 'F4', 'O1', 'O2']\n",
    "pick_chs = eogs+eegs\n",
    "raw.pick_channels(pick_chs)\n",
    "chs = raw.ch_names\n",
    "print(\"-- Available Channels: {}\".format(chs))\n",
    "\n",
    "# start, end time matching\n",
    "# -- get start, end times\n",
    "hypno_start = meas_time_df.loc[subject, 'hypno_start']\n",
    "hypno_end = meas_time_df.loc[subject, 'hypno_end']\n",
    "edf_start = meas_time_df.loc[subject, 'edf_start']\n",
    "edf_end = meas_time_df.loc[subject, 'edf_end']\n",
    "print(\"hypno_start  hypno_end  edf_start  edf_end\")\n",
    "print(f\"{hypno_start}   {hypno_end}   {edf_start}   {edf_end}\")\n",
    "\n",
    "hypno_start_sec = str_time_to_seconds(hypno_start)\n",
    "hypno_end_sec = str_time_to_seconds(hypno_end)\n",
    "edf_start_sec = str_time_to_seconds(edf_start)\n",
    "edf_end_sec = str_time_to_seconds(edf_end)\n",
    "\n",
    "hypno_start_hour = hypno_start.split(':')[0]\n",
    "edf_start_hour = edf_start.split(':')[0]\n",
    "\n",
    "if 0 <= int(hypno_start_hour) < 5:\n",
    "    if 0 <= int(edf_start_hour) < 5:\n",
    "        new_edf_start_sec = (hypno_start_sec-30) - edf_start_sec\n",
    "    elif 20 < int(edf_start_hour) <= 24:\n",
    "        new_edf_start_sec = (24*3600 - edf_start_sec) + (hypno_start_sec-30 - 0*3600)\n",
    "        \n",
    "elif 20 < int(hypno_start_hour) <= 24:        \n",
    "    new_edf_start_sec = (hypno_start_sec - 30) - edf_start_sec\n",
    "    \n",
    "elif int(hypno_start_hour) == 12:\n",
    "    if 0 <= int(edf_start_hour) < 5:\n",
    "        new_edf_start_sec = (hypno_start_sec-12*3600-30) - edf_start_sec\n",
    "    elif 20 < int(edf_start_hour) <= 24:\n",
    "        new_edf_start_sec = (24*3600-edf_start_sec) + (hypno_start_sec-12*3600-0*3600)\n",
    "\n",
    "new_edf_end_sec = int(raw.times[-1]) - (edf_end_sec-hypno_end_sec) + 1\n",
    "\n",
    "print(\"-- Edf time after mathcing: {}  {}\".format(\n",
    "        str(seconds_to_str_time(edf_start_sec+new_edf_start_sec)),\n",
    "        str(seconds_to_str_time(edf_end_sec-int(raw.times[-1]-new_edf_end_sec)))\n",
    "    ))\n",
    "print(f\"-- ground_truth time: {hypno_start}  {hypno_end}\")\n",
    "\n",
    "raw.crop(tmin= new_edf_start_sec, tmax=new_edf_end_sec)"
   ]
  },
  {
   "cell_type": "code",
   "execution_count": 14,
   "id": "b446e2ba",
   "metadata": {},
   "outputs": [
    {
     "name": "stdout",
     "output_type": "stream",
     "text": [
      "126\n"
     ]
    }
   ],
   "source": [
    "hypno_start_hour = hypno_start.split(':')[0]\n",
    "edf_start_hour = edf_start.split(':')[0]\n",
    "\n",
    "if 0 <= int(hypno_start_hour) < 5:\n",
    "    if 0 <= int(edf_start_hour) < 5:\n",
    "        new_edf_start_sec = hypno_start_sec - edf_start_sec\n",
    "    else:\n",
    "        new_edf_start_sec = (hypno_start_sec + 24*3600 -30) - edf_start_sec\n",
    "        \n",
    "print(new_edf_start_sec)"
   ]
  },
  {
   "cell_type": "code",
   "execution_count": 9,
   "id": "65a5a0aa",
   "metadata": {
    "scrolled": true
   },
   "outputs": [
    {
     "name": "stderr",
     "output_type": "stream",
     "text": [
      "C:\\Users\\CYS\\AppData\\Local\\Temp\\ipykernel_9064\\2788647951.py:4: RuntimeWarning: EDF format requires equal-length data blocks, so 0.995 seconds of zeros were appended to all channels when writing the final block.\n",
      "  mne.export.export_raw(save_as, raw, fmt='edf')\n"
     ]
    }
   ],
   "source": [
    "path_save = 'D:\\\\USC\\\\Sleep dataset\\\\Samsung_3rd\\\\edf_matched'\n",
    "\n",
    "save_as = os.path.join(path_save, subject+'.edf')\n",
    "mne.export.export_raw(save_as, raw, fmt='edf')"
   ]
  },
  {
   "cell_type": "code",
   "execution_count": null,
   "id": "1693e92c",
   "metadata": {},
   "outputs": [],
   "source": []
  }
 ],
 "metadata": {
  "kernelspec": {
   "display_name": "Python 3 (ipykernel)",
   "language": "python",
   "name": "python3"
  },
  "language_info": {
   "codemirror_mode": {
    "name": "ipython",
    "version": 3
   },
   "file_extension": ".py",
   "mimetype": "text/x-python",
   "name": "python",
   "nbconvert_exporter": "python",
   "pygments_lexer": "ipython3",
   "version": "3.9.7"
  }
 },
 "nbformat": 4,
 "nbformat_minor": 5
}
