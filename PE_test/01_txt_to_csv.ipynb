{
 "cells": [
  {
   "cell_type": "markdown",
   "id": "1b759ea1",
   "metadata": {},
   "source": [
    "# read ground truth scoring and convert into csv file"
   ]
  },
  {
   "cell_type": "code",
   "execution_count": 1,
   "id": "a28a04c0",
   "metadata": {},
   "outputs": [],
   "source": [
    "import os\n",
    "import pandas as pd"
   ]
  },
  {
   "cell_type": "code",
   "execution_count": 2,
   "id": "6f7b772a",
   "metadata": {},
   "outputs": [
    {
     "name": "stdout",
     "output_type": "stream",
     "text": [
      "-- Available ground-truth-hypnograms ... \n",
      "   ['PE150386 PE150386-Events.txt', 'PE180205 PE180205-Events.txt', 'PE180682 PE180682-Events.txt', 'PE180955 PE180955-Events.txt', 'PE181067 PE181067-Events.txt', 'PE190065 PE190065-Events.txt', 'PE190090 PE190090-Events.txt', 'PE190925 PE190925-Events.txt']\n"
     ]
    }
   ],
   "source": [
    "path_subjects_hypno = 'D:\\\\samsung_original\\\\Samsung_3rd_PE\\\\scoring'\n",
    "subjects_hypno = os.listdir(path_subjects_hypno)\n",
    "subjects_hypno.sort()\n",
    "print(f\"-- Available ground-truth-hypnograms ... \\n   {subjects_hypno}\")"
   ]
  },
  {
   "cell_type": "code",
   "execution_count": 3,
   "id": "30f68f50",
   "metadata": {},
   "outputs": [],
   "source": [
    "def str2num(stages_str):\n",
    "    # input: single hypnogram\n",
    "    stages_int = []\n",
    "    # dictionary to convert string to num\n",
    "    stage_dic = {\"S0\": 0, \"REM\": 4, \"S1\": 1, \"S2\": 2, \"S3\": 3}\n",
    "    for stage in stages_str:\n",
    "        stages_int.append(stage_dic[stage])\n",
    "    return stages_int\n",
    "\n",
    "def ReadTxtFiles(subject, path_subjects):\n",
    "    # subject 한 명의 hypnogram을 읽어옴\n",
    "    stages = []\n",
    "    with open(os.path.join(path_subjects, subject), 'r') as f:\n",
    "        lines = f.readlines() # Read txt file\n",
    "        lines = lines[18:] # include only valid information which contains the stages\n",
    "\n",
    "        # From long strings, pick only 'stage' up\n",
    "        for line in lines:\n",
    "            temp_line = line.strip().split() # get the stages as string  \n",
    "            stages.append(temp_line[0][6:])\n",
    "    return stages"
   ]
  },
  {
   "cell_type": "code",
   "execution_count": 4,
   "id": "ac9e53b1",
   "metadata": {},
   "outputs": [],
   "source": [
    "for subject in subjects_hypno:\n",
    "    stages_str = ReadTxtFiles(subject, path_subjects_hypno)\n",
    "    stages_int = str2num(stages_str)\n",
    "    temp_df = pd.DataFrame(stages_int, columns=['stages'])\n",
    "    \n",
    "    path_save = os.path.join('D:\\\\USC\\\\code_mine\\\\PE_test\\\\hypnogram\\\\ground_truth', subject[0:8]+'.csv')\n",
    "    temp_df.to_csv(path_or_buf=path_save, index=None)    "
   ]
  },
  {
   "cell_type": "code",
   "execution_count": null,
   "id": "0d5b9c82",
   "metadata": {},
   "outputs": [],
   "source": []
  }
 ],
 "metadata": {
  "kernelspec": {
   "display_name": "Python 3 (ipykernel)",
   "language": "python",
   "name": "python3"
  },
  "language_info": {
   "codemirror_mode": {
    "name": "ipython",
    "version": 3
   },
   "file_extension": ".py",
   "mimetype": "text/x-python",
   "name": "python",
   "nbconvert_exporter": "python",
   "pygments_lexer": "ipython3",
   "version": "3.9.7"
  }
 },
 "nbformat": 4,
 "nbformat_minor": 5
}
