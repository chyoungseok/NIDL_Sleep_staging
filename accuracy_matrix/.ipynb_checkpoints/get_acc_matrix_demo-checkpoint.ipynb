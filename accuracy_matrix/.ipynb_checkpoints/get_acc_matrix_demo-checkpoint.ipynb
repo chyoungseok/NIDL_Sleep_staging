{
 "cells": [
  {
   "cell_type": "markdown",
   "id": "d479600c",
   "metadata": {},
   "source": [
    "# get accuracy matrix between ground_truth_staging and predicted_staging"
   ]
  },
  {
   "cell_type": "code",
   "execution_count": 1,
   "id": "675b92bc",
   "metadata": {},
   "outputs": [],
   "source": [
    "import pandas as pd\n",
    "import numpy as np"
   ]
  },
  {
   "cell_type": "code",
   "execution_count": 2,
   "id": "25c17938",
   "metadata": {},
   "outputs": [],
   "source": [
    "hypno_g = np.array([0, 0, 0, 1, 1, 2, 2, 3, 3, 3, 3, 4, 4, 4, 4, 4, 3, 3, 3, 2, 2, 1, 1, 0, 0, 0, 0]) # ground_truth\n",
    "hypno_p = np.array([0, 1, 0, 0, 0, 0, 0, 3, 0, 0, 0, 4, 0, 0, 0, 0, 0, 0, 0, 0, 0, 0, 0, 0, 1, 1, 2]) # predicted"
   ]
  },
  {
   "cell_type": "code",
   "execution_count": 3,
   "id": "f561e820",
   "metadata": {},
   "outputs": [],
   "source": [
    "def get_acc_matrix(ground_truth, predicted):\n",
    "    # yasa.plot_hypnogram은 숫자로 표현된 array를 input으로 받음 {\"Wake\": 0, \"REM\": 4, \"N1\": 1, \"N2\": 2, \"N3\": 3}\n",
    "    # Initialization of matrix\n",
    "    hypno_g = ground_truth\n",
    "    hypno_p = predicted\n",
    "    \n",
    "    index_names = ['Wake', 'R', 'N1', 'N2', 'N3']\n",
    "    empty_dic = {\n",
    "        'Wake': np.zeros(5),\n",
    "        'R': np.zeros(5),\n",
    "        'N1': np.zeros(5),\n",
    "        'N2': np.zeros(5),\n",
    "        'N3': np.zeros(5)\n",
    "    }\n",
    "    matrix = pd.DataFrame(empty_dic, index=index_names) # empty state\n",
    "    \n",
    "    len_Wake = len(hypno_g[hypno_g==0])\n",
    "    len_R = len(hypno_g[hypno_g==4])\n",
    "    len_N1 = len(hypno_g[hypno_g==1])\n",
    "    len_N2 = len(hypno_g[hypno_g==2])\n",
    "    len_N3 = len(hypno_g[hypno_g==3])\n",
    "    \n",
    "    matrix.loc['Wake', 'Wake'] = round((hypno_p[hypno_g==0] == 0).sum() / len_Wake * 100, 1)\n",
    "    matrix.loc['Wake', 'R'] = round((hypno_p[hypno_g==0] == 4).sum() / len_Wake * 100, 1)\n",
    "    matrix.loc['Wake', 'N1'] = round((hypno_p[hypno_g==0] == 1).sum() / len_Wake * 100, 1)\n",
    "    matrix.loc['Wake', 'N2'] = round((hypno_p[hypno_g==0] == 2).sum() / len_Wake * 100, 1)\n",
    "    matrix.loc['Wake', 'N3'] = round((hypno_p[hypno_g==0] == 3).sum() / len_Wake * 100, 1)\n",
    "    \n",
    "    matrix.loc['R', 'Wake'] = round((hypno_p[hypno_g==4] == 0).sum() / len_R * 100, 1)\n",
    "    matrix.loc['R', 'R'] = round((hypno_p[hypno_g==4] == 4).sum() / len_R * 100, 1)\n",
    "    matrix.loc['R', 'N1'] = round((hypno_p[hypno_g==4] == 1).sum() / len_R * 100, 1)\n",
    "    matrix.loc['R', 'N2'] = round((hypno_p[hypno_g==4] == 2).sum() / len_R * 100, 1)\n",
    "    matrix.loc['R', 'N3'] = round((hypno_p[hypno_g==4] == 3).sum() / len_R * 100, 1)\n",
    "    \n",
    "    matrix.loc['N1', 'Wake'] = round((hypno_p[hypno_g==1] == 0).sum() / len_N1 * 100, 1)\n",
    "    matrix.loc['N1', 'R'] = round((hypno_p[hypno_g==1] == 4).sum() / len_N1 * 100, 1)\n",
    "    matrix.loc['N1', 'N1'] = round((hypno_p[hypno_g==1] == 1).sum() / len_N1 * 100, 1)\n",
    "    matrix.loc['N1', 'N2'] = round((hypno_p[hypno_g==1] == 2).sum() / len_N1 * 100, 1)\n",
    "    matrix.loc['N1', 'N3'] = round((hypno_p[hypno_g==1] == 3).sum() / len_N1 * 100, 1)\n",
    "    \n",
    "    matrix.loc['N2', 'Wake'] = round((hypno_p[hypno_g==2] == 0).sum() / len_N2 * 100, 1)\n",
    "    matrix.loc['N2', 'R'] = round((hypno_p[hypno_g==2] == 4).sum() / len_N2 * 100, 1)\n",
    "    matrix.loc['N2', 'N1'] = round((hypno_p[hypno_g==2] == 1).sum() / len_N2 * 100, 1)\n",
    "    matrix.loc['N2', 'N2'] = round((hypno_p[hypno_g==2] == 2).sum() / len_N2 * 100, 1)\n",
    "    matrix.loc['N2', 'N3'] = round((hypno_p[hypno_g==2] == 3).sum() / len_N2 * 100, 1)\n",
    "    \n",
    "    matrix.loc['N3', 'Wake'] = round((hypno_p[hypno_g==3] == 0).sum() / len_N3 * 100, 1)\n",
    "    matrix.loc['N3', 'R'] = round((hypno_p[hypno_g==3] == 4).sum() / len_N3 * 100, 1)\n",
    "    matrix.loc['N3', 'N1'] = round((hypno_p[hypno_g==3] == 1).sum() / len_N3 * 100, 1)\n",
    "    matrix.loc['N3', 'N2'] = round((hypno_p[hypno_g==3] == 2).sum() / len_N3 * 100, 1)\n",
    "    matrix.loc['N3', 'N3'] = round((hypno_p[hypno_g==3] == 3).sum() / len_N3 * 100, 1)   \n",
    "    \n",
    "    return matrix"
   ]
  },
  {
   "cell_type": "code",
   "execution_count": 4,
   "id": "701784ef",
   "metadata": {},
   "outputs": [],
   "source": [
    "test_matrix = get_acc_matrix(hypno_g, hypno_p)"
   ]
  },
  {
   "cell_type": "code",
   "execution_count": 5,
   "id": "d76234c9",
   "metadata": {},
   "outputs": [
    {
     "data": {
      "text/html": [
       "<div>\n",
       "<style scoped>\n",
       "    .dataframe tbody tr th:only-of-type {\n",
       "        vertical-align: middle;\n",
       "    }\n",
       "\n",
       "    .dataframe tbody tr th {\n",
       "        vertical-align: top;\n",
       "    }\n",
       "\n",
       "    .dataframe thead th {\n",
       "        text-align: right;\n",
       "    }\n",
       "</style>\n",
       "<table border=\"1\" class=\"dataframe\">\n",
       "  <thead>\n",
       "    <tr style=\"text-align: right;\">\n",
       "      <th></th>\n",
       "      <th>Wake</th>\n",
       "      <th>R</th>\n",
       "      <th>N1</th>\n",
       "      <th>N2</th>\n",
       "      <th>N3</th>\n",
       "    </tr>\n",
       "  </thead>\n",
       "  <tbody>\n",
       "    <tr>\n",
       "      <th>Wake</th>\n",
       "      <td>42.9</td>\n",
       "      <td>0.0</td>\n",
       "      <td>42.9</td>\n",
       "      <td>14.3</td>\n",
       "      <td>0.0</td>\n",
       "    </tr>\n",
       "    <tr>\n",
       "      <th>R</th>\n",
       "      <td>80.0</td>\n",
       "      <td>20.0</td>\n",
       "      <td>0.0</td>\n",
       "      <td>0.0</td>\n",
       "      <td>0.0</td>\n",
       "    </tr>\n",
       "    <tr>\n",
       "      <th>N1</th>\n",
       "      <td>100.0</td>\n",
       "      <td>0.0</td>\n",
       "      <td>0.0</td>\n",
       "      <td>0.0</td>\n",
       "      <td>0.0</td>\n",
       "    </tr>\n",
       "    <tr>\n",
       "      <th>N2</th>\n",
       "      <td>100.0</td>\n",
       "      <td>0.0</td>\n",
       "      <td>0.0</td>\n",
       "      <td>0.0</td>\n",
       "      <td>0.0</td>\n",
       "    </tr>\n",
       "    <tr>\n",
       "      <th>N3</th>\n",
       "      <td>85.7</td>\n",
       "      <td>0.0</td>\n",
       "      <td>0.0</td>\n",
       "      <td>0.0</td>\n",
       "      <td>14.3</td>\n",
       "    </tr>\n",
       "  </tbody>\n",
       "</table>\n",
       "</div>"
      ],
      "text/plain": [
       "       Wake     R    N1    N2    N3\n",
       "Wake   42.9   0.0  42.9  14.3   0.0\n",
       "R      80.0  20.0   0.0   0.0   0.0\n",
       "N1    100.0   0.0   0.0   0.0   0.0\n",
       "N2    100.0   0.0   0.0   0.0   0.0\n",
       "N3     85.7   0.0   0.0   0.0  14.3"
      ]
     },
     "execution_count": 5,
     "metadata": {},
     "output_type": "execute_result"
    }
   ],
   "source": [
    "test_matrix"
   ]
  },
  {
   "cell_type": "code",
   "execution_count": 6,
   "id": "67f3270c",
   "metadata": {},
   "outputs": [],
   "source": [
    "import seaborn as sns"
   ]
  },
  {
   "cell_type": "code",
   "execution_count": 7,
   "id": "226155b9",
   "metadata": {},
   "outputs": [
    {
     "data": {
      "text/plain": [
       "<AxesSubplot:>"
      ]
     },
     "execution_count": 7,
     "metadata": {},
     "output_type": "execute_result"
    },
    {
     "data": {
      "image/png": "[encoded data removed]",
      "text/plain": [
       "<Figure size 432x288 with 2 Axes>"
      ]
     },
     "metadata": {
      "needs_background": "light"
     },
     "output_type": "display_data"
    }
   ],
   "source": [
    "sns.heatmap(test_matrix)"
   ]
  },
  {
   "cell_type": "code",
   "execution_count": null,
   "id": "624569c2",
   "metadata": {},
   "outputs": [],
   "source": []
  }
 ],
 "metadata": {
  "kernelspec": {
   "display_name": "Python 3 (ipykernel)",
   "language": "python",
   "name": "python3"
  },
  "language_info": {
   "codemirror_mode": {
    "name": "ipython",
    "version": 3
   },
   "file_extension": ".py",
   "mimetype": "text/x-python",
   "name": "python",
   "nbconvert_exporter": "python",
   "pygments_lexer": "ipython3",
   "version": "3.9.7"
  }
 },
 "nbformat": 4,
 "nbformat_minor": 5
}
