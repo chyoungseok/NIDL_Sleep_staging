{
 "cells": [
  {
   "cell_type": "markdown",
   "id": "22fe3ff6",
   "metadata": {},
   "source": [
    "# Hypnogram Extraction Using YASA\n",
    "### YASA 모델을 이용하여, prepared subject에 대한 hypnogram을 얻는다"
   ]
  },
  {
   "cell_type": "code",
   "execution_count": 1,
   "id": "58ded44c",
   "metadata": {},
   "outputs": [],
   "source": [
    "# import modules\n",
    "import os\n",
    "import numpy as np\n",
    "from tqdm.notebook import tqdm, trange\n",
    "import pandas as pd\n",
    "import matplotlib.pyplot as plt\n",
    "import mne\n",
    "import yasa\n",
    "import datetime\n",
    "\n",
    "import choose_subjects"
   ]
  },
  {
   "cell_type": "markdown",
   "id": "0b7a42b3",
   "metadata": {},
   "source": [
    "## 1. Prepared Subjects\n",
    "- condition 1: a subject who has a ground-truth-hypnogram\n",
    "- condition 2: a subject who has a edf file"
   ]
  },
  {
   "cell_type": "code",
   "execution_count": 6,
   "id": "14e9a17c",
   "metadata": {
    "scrolled": false
   },
   "outputs": [
    {
     "name": "stdout",
     "output_type": "stream",
     "text": [
      "['LE004 박규희', 'LE010 신지윤', 'LE011 서영진', 'LE014 황지은', 'LE019 황주민', 'LE020 김세영', 'LE021 이지영', 'LE023 이해림']\n",
      "\n",
      "-- Number of prepared subjects: 8\n",
      "Now edf: D:\\USC\\Sleep dataset\\Samsung_data\\REGULAR_EDF\\LE023 이해림\\Traces.edf\n"
     ]
    }
   ],
   "source": [
    "# data path 선언\n",
    "ground_truth_path = 'D:\\\\USC\\\\Sleep dataset\\\\Samsung_data\\\\GROUND_TRUTH_STAGING'\n",
    "edf_path = 'D:\\\\USC\\\\Sleep dataset\\\\Samsung_data\\\\REGULAR_EDF'\n",
    "\n",
    "# get prepared_subjects using 'choose_subjects' module\n",
    "prepared_subjects = choose_subjects.choose_prepared_edf(ground_truth_path, edf_path)\n",
    "print(prepared_subjects)\n",
    "print(\"\\n-- Number of prepared subjects: {}\".format(len(prepared_subjects)))\n",
    "\n",
    "# select a subject we want to analyze\n",
    "now_subject_num = 7\n",
    "\n",
    "now_edf = os.path.join(edf_path, prepared_subjects[now_subject_num]) + '\\\\Traces.edf'\n",
    "print(\"Now edf: {}\".format(now_edf))"
   ]
  },
  {
   "cell_type": "markdown",
   "id": "d2ab3bc4",
   "metadata": {},
   "source": [
    "# 2. Load edf files \n",
    "- using mne module"
   ]
  },
  {
   "cell_type": "code",
   "execution_count": 7,
   "id": "975f27de",
   "metadata": {
    "scrolled": false
   },
   "outputs": [
    {
     "name": "stdout",
     "output_type": "stream",
     "text": [
      "Extracting EDF parameters from D:\\USC\\Sleep dataset\\Samsung_data\\REGULAR_EDF\\LE023 이해림\\Traces.edf...\n",
      "EDF file detected\n",
      "Setting channel info structure...\n",
      "Creating raw.info structure...\n",
      "Reading 0 ... 10552999  =      0.000 ... 21105.998 secs...\n"
     ]
    },
    {
     "name": "stderr",
     "output_type": "stream",
     "text": [
      "C:\\Users\\CYS\\AppData\\Local\\Temp/ipykernel_7648/2265627687.py:1: RuntimeWarning: Channel names are not unique, found duplicates for: {'LOC', 'ROC', 'SO'}. Applying running numbers for duplicates.\n",
      "  raw = mne.io.read_raw_edf(now_edf, preload=True)\n",
      "C:\\Users\\CYS\\AppData\\Local\\Temp/ipykernel_7648/2265627687.py:1: RuntimeWarning: Scaling factor is not defined in following channels:\n",
      "Flattening, Pleth Amplitude, Chin, L-Leg, EKG, R-Leg, SO-0, SO-1, LOC-0, LOC-1, ROC-0, ROC-1, A1, C3, C3-A2, C4, C4-A1, A2, O1, O1-A2, O2, O2-A1, IO, Down-A2, F3, F3-A2, F4, F4-A1, Light_BU, Nasal Pressure, Thermistor, Snoring Sensor, Thorax, Abdomen, Gravity X, Gravity Y, Plethysmogram, Pulse, RD-Quality, SpO2, SpO2 BB, Heart Rate_DR, SpO2-Quality_DR, Flow_DR, Snore_DR, Activity_DR, Elevation_DR, Position_DR, Phase_DR, RMI_DR, RR_DR, XSum_DR, Tidal Volume_DR, XFlow_DR\n",
      "  raw = mne.io.read_raw_edf(now_edf, preload=True)\n"
     ]
    },
    {
     "data": {
      "text/html": [
       "<table class=\"table table-hover table-striped table-sm table-responsive small\">\n",
       "    <tr>\n",
       "        <th>Measurement date</th>\n",
       "        \n",
       "        <td>June 26, 2018  00:21:53 GMT</td>\n",
       "        \n",
       "    </tr>\n",
       "    <tr>\n",
       "        <th>Experimenter</th>\n",
       "        \n",
       "        <td>Unknown</td>\n",
       "        \n",
       "    </tr>\n",
       "        <th>Participant</th>\n",
       "        \n",
       "        <td>Unknown</td>\n",
       "        \n",
       "    </tr>\n",
       "    <tr>\n",
       "        <th>Digitized points</th>\n",
       "        \n",
       "        <td>0 points</td>\n",
       "        \n",
       "    </tr>\n",
       "    <tr>\n",
       "        <th>Good channels</th>\n",
       "        <td>54 EEG</td>\n",
       "    </tr>\n",
       "    <tr>\n",
       "        <th>Bad channels</th>\n",
       "        <td>None</td>\n",
       "    </tr>\n",
       "    <tr>\n",
       "        <th>EOG channels</th>\n",
       "        <td>Not available</td>\n",
       "    </tr>\n",
       "    <tr>\n",
       "        <th>ECG channels</th>\n",
       "        <td>Not available</td>\n",
       "    \n",
       "    <tr>\n",
       "        <th>Sampling frequency</th>\n",
       "        <td>500.00 Hz</td>\n",
       "    </tr>\n",
       "    \n",
       "    \n",
       "    <tr>\n",
       "        <th>Highpass</th>\n",
       "        <td>0.00 Hz</td>\n",
       "    </tr>\n",
       "    \n",
       "    \n",
       "    <tr>\n",
       "        <th>Lowpass</th>\n",
       "        <td>250.00 Hz</td>\n",
       "    </tr>\n",
       "    \n",
       "    \n",
       "    \n",
       "    <tr>\n",
       "        <th>Filenames</th>\n",
       "        <td>Traces.edf</td>\n",
       "    </tr>\n",
       "    \n",
       "    <tr>\n",
       "        <th>Duration</th>\n",
       "        <td>05:51:45 (HH:MM:SS)</td>\n",
       "    </tr>\n",
       "</table>"
      ],
      "text/plain": [
       "<RawEDF | Traces.edf, 54 x 10553000 (21106.0 s), ~4.25 GB, data loaded>"
      ]
     },
     "execution_count": 7,
     "metadata": {},
     "output_type": "execute_result"
    }
   ],
   "source": [
    "raw = mne.io.read_raw_edf(now_edf, preload=True)\n",
    "raw"
   ]
  },
  {
   "cell_type": "code",
   "execution_count": 8,
   "id": "5ace5ef3",
   "metadata": {},
   "outputs": [
    {
     "name": "stdout",
     "output_type": "stream",
     "text": [
      "-- Total Channels: ['Flattening', 'Pleth Amplitude', 'Chin', 'L-Leg', 'EKG', 'R-Leg', 'SO-0', 'SO-1', 'LOC-0', 'LOC-1', 'ROC-0', 'ROC-1', 'A1', 'C3', 'C3-A2', 'C4', 'C4-A1', 'A2', 'O1', 'O1-A2', 'O2', 'O2-A1', 'IO', 'Down-A2', 'F3', 'F3-A2', 'F4', 'F4-A1', 'Light_BU', 'Nasal Pressure', 'Thermistor', 'Snoring Sensor', 'Thorax', 'Abdomen', 'Gravity X', 'Gravity Y', 'Plethysmogram', 'Pulse', 'RD-Quality', 'SpO2', 'SpO2 BB', 'Heart Rate_DR', 'SpO2-Quality_DR', 'Flow_DR', 'Snore_DR', 'Activity_DR', 'Elevation_DR', 'Position_DR', 'Phase_DR', 'RMI_DR', 'RR_DR', 'XSum_DR', 'Tidal Volume_DR', 'XFlow_DR']\n",
      "-- Available Channels: ['SO-0', 'SO-1', 'C3-A2', 'C4-A1', 'IO']\n"
     ]
    }
   ],
   "source": [
    "# remove the EOG, EMG, and EKG channels\n",
    "# raw.drop_channels(['ROC-A1', 'LOC-A2', 'EMG1-EMG2', 'EKG-R-EKG-L'])\n",
    "print(\"-- Total Channels: {}\".format(raw.ch_names))\n",
    "eog = ['no_eog', '', 'SO', 'SO-0', 'SO-1', 'IO']\n",
    "if '박규희' in now_edf:\n",
    "    eeg = ['C3', 'C4']\n",
    "else:\n",
    "    eeg = ['C3-A2', 'C4-A1']\n",
    "raw.pick_channels(eeg + eog)\n",
    "chan = raw.ch_names\n",
    "print(\"-- Available Channels: {}\".format(chan))"
   ]
  },
  {
   "cell_type": "code",
   "execution_count": 9,
   "id": "4d48b465",
   "metadata": {
    "scrolled": true
   },
   "outputs": [
    {
     "name": "stdout",
     "output_type": "stream",
     "text": [
      "Read EDF of LE023 이해림\n",
      "\n",
      " -- Now subject is: LE023-Events.txt\n",
      "['Sleep', 'Stage', 'Time', '[hh:mm:ss]', 'Event', 'Duration[s]']\n",
      "['SLEEP-S0', '00:33:30', 'SLEEP-S0', '30']\n",
      "['SLEEP-S0', '05:45:00', 'SLEEP-S0', '30']\n",
      "\n",
      "hypno_start: 00:33:30 (2010 seconds)\n",
      "hypno_end: 05:45:00 (20700 seconds)\n",
      "\n",
      "edf_start: 00:21:53 (1313 seconds)\n",
      "edf_end: 06:13:38 (22418 seconds)\n"
     ]
    }
   ],
   "source": [
    "# data cropping\n",
    "# ground_truth_hypnogram과 edf 데이터의 시간이 다르므로, 이것을 match 시켜 준다\n",
    "\n",
    "# -- 1. load event.txt and get start and end time of ground-truth-labeling\n",
    "print(\"Read EDF of {}\".format(prepared_subjects[now_subject_num]))\n",
    "\n",
    "ground_events_path = 'D:\\\\USC\\\\Sleep dataset\\\\Samsung_data\\\\GROUND_TRUTH_STAGING'\n",
    "events = os.listdir(ground_events_path)\n",
    "# print(events)\n",
    "choose_idx = []\n",
    "i = 0\n",
    "for event in events:\n",
    "    if prepared_subjects[now_subject_num][0:5] in event:\n",
    "        choose_idx.append(i)\n",
    "    i += 1\n",
    "print(\"\\n -- Now subject is: {}\".format(events[choose_idx[0]]))\n",
    "\n",
    "f = open(os.path.join(ground_events_path, events[choose_idx[0]]), 'r')\n",
    "lines = f.readlines()\n",
    "print(lines[17].strip().split())\n",
    "print(lines[18].strip().split())\n",
    "print(lines[len(lines)-1].strip().split())\n",
    "f.close\n",
    "\n",
    "hypno_start = lines[18].strip().split()[1]\n",
    "hypno_start_sec = int(hypno_start[0:2])*3600 + int(hypno_start[3:5])*60 + int(hypno_start[6:8])\n",
    "hypno_end = lines[len(lines)-1].strip().split()[1]\n",
    "hypno_end_sec = int(hypno_end[0:2])*3600 + int(hypno_end[3:5])*60 + int(hypno_end[6:8])\n",
    "\n",
    "print(\"\\nhypno_start: {} ({} seconds)\".format(hypno_start, hypno_start_sec))\n",
    "print(\"hypno_end: {} ({} seconds)\".format(hypno_end, hypno_end_sec))\n",
    "\n",
    "# -- 2. get edf_start \n",
    "edf_start_hour = raw.info['meas_date'].hour\n",
    "edf_start_min = raw.info['meas_date'].minute\n",
    "edf_start_sec = raw.info['meas_date'].second\n",
    "\n",
    "edf_start = (lambda x: '0'+x if len(x) < 8 else x)(str(edf_start_hour) + ':' + str(edf_start_min) + ':' + str(edf_start_sec))\n",
    "edf_start_sec = edf_start_hour*3600+edf_start_min*60+edf_start_sec\n",
    "\n",
    "print(\"\\nedf_start: {} ({} seconds)\".format(edf_start, edf_start_sec))\n",
    "\n",
    "edf_duration = raw.times[-1:]\n",
    "edf_end_sec = int(edf_start_sec + edf_duration)\n",
    "edf_end = (lambda x: '0'+x if len(x) < 8 else x)(str(datetime.timedelta(seconds=int(np.floor(edf_end_sec)))))\n",
    "print(\"edf_end: {} ({} seconds)\".format(edf_end, edf_end_sec))\n",
    "\n",
    "# hour = np.floor(k/60/60)\n",
    "# minute = np.floor((k-hour*3600)/60)\n",
    "# second = np.floor(k-hour*3600-minute*60)\n",
    "# print(k)\n",
    "# print(hour)\n",
    "# print(minute)\n",
    "# print(second)\n",
    "\n",
    "\n",
    "# -- 3. cut the edf data to match with the hypnogram\n",
    "# tmin = hypno_start_sec - edf_start_sec -30\n",
    "# tmax = hypno_end_sec - edf_start_sec\n",
    "# raw.crop(tmin=tmin, tmax=tmax)"
   ]
  },
  {
   "cell_type": "code",
   "execution_count": 6,
   "id": "38ebe9c7",
   "metadata": {
    "scrolled": true
   },
   "outputs": [
    {
     "name": "stdout",
     "output_type": "stream",
     "text": [
      "-- Original sampling rate: 500.0\n",
      "-- Sampling rate after downsampled: 100.0\n",
      "\n",
      "Filtering raw data in 1 contiguous segment\n",
      "Setting up band-pass filter from 0.3 - 45 Hz\n",
      "\n",
      "FIR filter parameters\n",
      "---------------------\n",
      "Designing a one-pass, zero-phase, non-causal bandpass filter:\n",
      "- Windowed time-domain design (firwin) method\n",
      "- Hamming window with 0.0194 passband ripple and 53 dB stopband attenuation\n",
      "- Lower passband edge: 0.30\n",
      "- Lower transition bandwidth: 0.30 Hz (-6 dB cutoff frequency: 0.15 Hz)\n",
      "- Upper passband edge: 45.00 Hz\n",
      "- Upper transition bandwidth: 5.00 Hz (-6 dB cutoff frequency: 47.50 Hz)\n",
      "- Filter length: 1101 samples (11.010 sec)\n",
      "\n",
      "Shape of single EEG data: (1, 1929000)\n"
     ]
    }
   ],
   "source": [
    "# Downsampling and filtering\n",
    "print(\"-- Original sampling rate: {}\".format(raw.info['sfreq']))\n",
    "raw.resample(100)\n",
    "print(\"-- Sampling rate after downsampled: {}\\n\".format(raw.info['sfreq']))\n",
    "\n",
    "# 0.3-45 Hz bandpass-filter\n",
    "raw.filter(0.3, 45)\n",
    "\n",
    "# get single EEG data\n",
    "data = raw.get_data() * 1e6\n",
    "print(\"Shape of single EEG data: {}\".format(data.shape))"
   ]
  },
  {
   "cell_type": "code",
   "execution_count": 7,
   "id": "c34c2101",
   "metadata": {},
   "outputs": [],
   "source": [
    "# data = raw.get_data()\n",
    "# print(\"Shape before cutting: {}\".format(data.shape))\n",
    "# print(\"Epochs before cutting: {}\".format(data.shape[1]/500/30))\n",
    "\n",
    "# start_gap = 12*60+51 # start gap in seconds\n",
    "# end_gap = -44*60+24 # end gap in seconds\n",
    "\n",
    "# data_cut = data[:, start_gap*500:end_gap*500]\n",
    "# print(\"Shape after cutting: {}\".format(data_cut.shape))\n",
    "# print(\"Epochs before cutting: {}\".format(data_cut.shape[1]/500/30))"
   ]
  },
  {
   "cell_type": "markdown",
   "id": "600ef4c1",
   "metadata": {},
   "source": [
    "# 3. Automatic Sleep Staging"
   ]
  },
  {
   "cell_type": "code",
   "execution_count": 8,
   "id": "030a7be5",
   "metadata": {},
   "outputs": [
    {
     "data": {
      "image/png": "[encoded data removed]",
      "text/plain": [
       "<Figure size 648x216 with 1 Axes>"
      ]
     },
     "metadata": {
      "needs_background": "light"
     },
     "output_type": "display_data"
    }
   ],
   "source": [
    "sls = yasa.SleepStaging(raw, eeg_name=eeg)#, eog_name = eog)\n",
    "hypno_pred = sls.predict()  # Predict the sleep stages\n",
    "hypno_pred = yasa.hypno_str_to_int(hypno_pred)  # Convert \"W\" to 0, \"N1\" to 1, etc\n",
    "yasa.plot_hypnogram(hypno_pred);  # Plot"
   ]
  },
  {
   "cell_type": "code",
   "execution_count": 9,
   "id": "71027b6c",
   "metadata": {},
   "outputs": [
    {
     "name": "stdout",
     "output_type": "stream",
     "text": [
      "Save as: D:\\USC\\code_mine\\yasa_examination\\predicted_hypnogram\\LE004.csv\n"
     ]
    }
   ],
   "source": [
    "# convert hypnogram into pd.DataFrame and Save as csv\n",
    "df_hypno = pd.DataFrame(hypno_pred, columns=['stages'])\n",
    "path_save = os.path.join('D:\\\\USC\\\\code_mine\\\\yasa_examination\\\\predicted_hypnogram', prepared_subjects[now_subject_num][0:5]) + '.csv'\n",
    "print(\"Save as: {}\".format(path_save))\n",
    "df_hypno.to_csv(path_or_buf=path_save, index=None)"
   ]
  },
  {
   "cell_type": "markdown",
   "id": "302c625d",
   "metadata": {},
   "source": [
    "# 4. Load Ground-Truth-Hypnograms-In-Numbers"
   ]
  },
  {
   "cell_type": "code",
   "execution_count": 10,
   "id": "b86bf516",
   "metadata": {},
   "outputs": [
    {
     "name": "stdout",
     "output_type": "stream",
     "text": [
      "-- Total prepared hypnograms: ['LE004.csv', 'LE010.csv', 'LE011.csv', 'LE014.csv', 'LE019.csv', 'LE020.csv', 'LE021.csv', 'LE022.csv', 'LE023.csv']\n",
      "\n",
      "-- Available hypnogram: LE004.csv\n"
     ]
    },
    {
     "name": "stderr",
     "output_type": "stream",
     "text": [
      "C:\\Users\\CYS\\AppData\\Local\\Temp\\ipykernel_7584\\3961499472.py:6: FutureWarning: The squeeze argument has been deprecated and will be removed in a future version. Append .squeeze(\"columns\") to the call to squeeze.\n",
      "\n",
      "\n",
      "  ground_truth_hypno = pd.read_csv(os.path.join(path_InNum_Hypnos, InNum_Hypnos[now_subject_num]), squeeze=True)\n"
     ]
    },
    {
     "data": {
      "text/plain": [
       "0      0\n",
       "1      0\n",
       "2      0\n",
       "3      0\n",
       "4      0\n",
       "      ..\n",
       "638    0\n",
       "639    0\n",
       "640    0\n",
       "641    0\n",
       "642    0\n",
       "Name: stages, Length: 643, dtype: int64"
      ]
     },
     "execution_count": 10,
     "metadata": {},
     "output_type": "execute_result"
    }
   ],
   "source": [
    "path_InNum_Hypnos = 'D:\\\\USC\\\\test_data\\\\Prepared_InNum_Hypnos'\n",
    "InNum_Hypnos = os.listdir(path_InNum_Hypnos)\n",
    "print(\"-- Total prepared hypnograms: {}\".format(os.listdir(path_InNum_Hypnos)))\n",
    "print(\"\\n-- Available hypnogram: {}\".format(InNum_Hypnos[now_subject_num]))\n",
    "\n",
    "ground_truth_hypno = pd.read_csv(os.path.join(path_InNum_Hypnos, InNum_Hypnos[now_subject_num]), squeeze=True)\n",
    "ground_truth_hypno"
   ]
  },
  {
   "cell_type": "code",
   "execution_count": 11,
   "id": "74107cef",
   "metadata": {},
   "outputs": [
    {
     "data": {
      "text/plain": [
       "<AxesSubplot:xlabel='Time [hrs]', ylabel='Stage'>"
      ]
     },
     "execution_count": 11,
     "metadata": {},
     "output_type": "execute_result"
    },
    {
     "data": {
      "image/png": "[encoded data removed]",
      "text/plain": [
       "<Figure size 648x216 with 1 Axes>"
      ]
     },
     "metadata": {
      "needs_background": "light"
     },
     "output_type": "display_data"
    },
    {
     "data": {
      "image/png": "[encoded data removed]",
      "text/plain": [
       "<Figure size 648x216 with 1 Axes>"
      ]
     },
     "metadata": {
      "needs_background": "light"
     },
     "output_type": "display_data"
    }
   ],
   "source": [
    "yasa.plot_hypnogram(ground_truth_hypno)\n",
    "yasa.plot_hypnogram(hypno_pred)"
   ]
  },
  {
   "cell_type": "code",
   "execution_count": 12,
   "id": "fcd2097b",
   "metadata": {},
   "outputs": [],
   "source": [
    "# yasa.plot_hypnogram(ground_truth_hypno)\n",
    "# yasa.plot_hypnogram(hypno_pred[0:643])"
   ]
  },
  {
   "cell_type": "code",
   "execution_count": 13,
   "id": "10a7fe2c",
   "metadata": {},
   "outputs": [
    {
     "name": "stdout",
     "output_type": "stream",
     "text": [
      "Length of ground_truth: 643\n",
      "Length of predicted: 643\n"
     ]
    }
   ],
   "source": [
    "print(\"Length of ground_truth: {}\".format(len(ground_truth_hypno)))\n",
    "print(\"Length of predicted: {}\".format(len(hypno_pred)))\n",
    "path = 'D:\\\\USC\\\\code_mine\\\\yasa_examination\\\\predicted_hypnogram\\\\' + prepared_subjects[now_subject_num][0:5] + '.txt'\n",
    "f = open(path, 'wt')\n",
    "f.writelines(['ground_truth' + '  ' + 'predicted\\n'])\n",
    "f.writelines([str(len(ground_truth_hypno)) + '  ' + str(len(hypno_pred))])\n",
    "f.close()"
   ]
  },
  {
   "cell_type": "code",
   "execution_count": 14,
   "id": "98ba1ca1",
   "metadata": {
    "scrolled": false
   },
   "outputs": [
    {
     "name": "stdout",
     "output_type": "stream",
     "text": [
      "The accuracy is 56.143%\n"
     ]
    }
   ],
   "source": [
    "from sklearn.metrics import accuracy_score\n",
    "# print(f\"The accuracy is {100 * accuracy_score(ground_truth_hypno, hypno_pred[0:643]):.3f}%\")\n",
    "print(f\"The accuracy is {100 * accuracy_score(ground_truth_hypno, hypno_pred):.3f}%\")"
   ]
  },
  {
   "cell_type": "code",
   "execution_count": 6,
   "id": "d95922fa",
   "metadata": {},
   "outputs": [
    {
     "name": "stdout",
     "output_type": "stream",
     "text": [
      "wow\n"
     ]
    }
   ],
   "source": [
    "hypno_start_sec = 1470\n",
    "hypno_end_sec = 23790\n",
    "edf_start_sec = 919\n",
    "edf_end_sec = 23288\n",
    "if (hypno_start_sec < edf_start_sec) | (hypno_end_sec > edf_end_sec):\n",
    "    print(\"wow\")\n",
    "else:\n",
    "    print(\"no\")"
   ]
  },
  {
   "cell_type": "code",
   "execution_count": 3,
   "id": "9d5525b5",
   "metadata": {},
   "outputs": [
    {
     "data": {
      "text/plain": [
       "True"
      ]
     },
     "execution_count": 3,
     "metadata": {},
     "output_type": "execute_result"
    }
   ],
   "source": [
    "(hypno_end_sec > edf_end_sec)"
   ]
  },
  {
   "cell_type": "code",
   "execution_count": 5,
   "id": "4f8da50c",
   "metadata": {},
   "outputs": [
    {
     "data": {
      "text/plain": [
       "Text(0.5, 1.0, 'wow')"
      ]
     },
     "execution_count": 5,
     "metadata": {},
     "output_type": "execute_result"
    },
    {
     "data": {
      "image/png": "[encoded data removed]",
      "text/plain": [
       "<Figure size 432x288 with 1 Axes>"
      ]
     },
     "metadata": {
      "needs_background": "light"
     },
     "output_type": "display_data"
    }
   ],
   "source": [
    "import matplotlib.pyplot as plt\n",
    "plt.title('wow', fontsize=30)"
   ]
  }
 ],
 "metadata": {
  "kernelspec": {
   "display_name": "Python 3 (ipykernel)",
   "language": "python",
   "name": "python3"
  },
  "language_info": {
   "codemirror_mode": {
    "name": "ipython",
    "version": 3
   },
   "file_extension": ".py",
   "mimetype": "text/x-python",
   "name": "python",
   "nbconvert_exporter": "python",
   "pygments_lexer": "ipython3",
   "version": "3.9.7"
  }
 },
 "nbformat": 4,
 "nbformat_minor": 5
}
