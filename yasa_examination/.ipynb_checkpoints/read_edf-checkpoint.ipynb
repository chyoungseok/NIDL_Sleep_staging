{
 "cells": [
  {
   "cell_type": "code",
   "execution_count": 1,
   "id": "cb118066",
   "metadata": {},
   "outputs": [],
   "source": [
    "import mne\n",
    "import os\n",
    "import matplotlib.pyplot as plt\n",
    "import numpy as np"
   ]
  },
  {
   "cell_type": "code",
   "execution_count": 2,
   "id": "6f11e1a5",
   "metadata": {},
   "outputs": [
    {
     "ename": "FileNotFoundError",
     "evalue": "[WinError 3] 지정된 경로를 찾을 수 없습니다: 'G:\\\\다른 컴퓨터\\\\lenovo (1)\\\\USC\\\\Sleep dataset\\\\Samsung_data\\\\REGULAR_EDF'",
     "output_type": "error",
     "traceback": [
      "\u001b[1;31m---------------------------------------------------------------------------\u001b[0m",
      "\u001b[1;31mFileNotFoundError\u001b[0m                         Traceback (most recent call last)",
      "Input \u001b[1;32mIn [2]\u001b[0m, in \u001b[0;36m<cell line: 7>\u001b[1;34m()\u001b[0m\n\u001b[0;32m      3\u001b[0m path_subjects \u001b[38;5;241m=\u001b[39m \u001b[38;5;124m'\u001b[39m\u001b[38;5;124mG:\u001b[39m\u001b[38;5;130;01m\\\\\u001b[39;00m\u001b[38;5;124m다른 컴퓨터\u001b[39m\u001b[38;5;130;01m\\\\\u001b[39;00m\u001b[38;5;124mlenovo (1)\u001b[39m\u001b[38;5;130;01m\\\\\u001b[39;00m\u001b[38;5;124mUSC\u001b[39m\u001b[38;5;130;01m\\\\\u001b[39;00m\u001b[38;5;124mSleep dataset\u001b[39m\u001b[38;5;130;01m\\\\\u001b[39;00m\u001b[38;5;124mSamsung_data\u001b[39m\u001b[38;5;130;01m\\\\\u001b[39;00m\u001b[38;5;124mREGULAR_EDF\u001b[39m\u001b[38;5;124m'\u001b[39m \n\u001b[0;32m      4\u001b[0m \u001b[38;5;66;03m# path_subjects = 'D:\\\\USC\\\\Sleep dataset\\\\Samsung_data\\\\REGULAR_EDF' \u001b[39;00m\n\u001b[0;32m      5\u001b[0m \n\u001b[0;32m      6\u001b[0m \u001b[38;5;66;03m# find all subjects\u001b[39;00m\n\u001b[1;32m----> 7\u001b[0m subjects \u001b[38;5;241m=\u001b[39m \u001b[43mos\u001b[49m\u001b[38;5;241;43m.\u001b[39;49m\u001b[43mlistdir\u001b[49m\u001b[43m(\u001b[49m\u001b[43mpath_subjects\u001b[49m\u001b[43m)\u001b[49m\n\u001b[0;32m      8\u001b[0m \u001b[38;5;28mprint\u001b[39m(\u001b[38;5;124m'\u001b[39m\u001b[38;5;124m-- List of all subjects: \u001b[39m\u001b[38;5;130;01m\\n\u001b[39;00m\u001b[38;5;124m'\u001b[39m,subjects)\n\u001b[0;32m     10\u001b[0m \u001b[38;5;66;03m# choose target subjects\u001b[39;00m\n",
      "\u001b[1;31mFileNotFoundError\u001b[0m: [WinError 3] 지정된 경로를 찾을 수 없습니다: 'G:\\\\다른 컴퓨터\\\\lenovo (1)\\\\USC\\\\Sleep dataset\\\\Samsung_data\\\\REGULAR_EDF'"
     ]
    }
   ],
   "source": [
    "# define the path_subjects\n",
    "# directory of the folders of each subjects, in which edf files locate\n",
    "path_subjects = 'G:\\\\다른 컴퓨터\\\\lenovo (1)\\\\USC\\\\Sleep dataset\\\\Samsung_data\\\\REGULAR_EDF' \n",
    "# path_subjects = 'D:\\\\USC\\\\Sleep dataset\\\\Samsung_data\\\\REGULAR_EDF' \n",
    "\n",
    "# find all subjects\n",
    "subjects = os.listdir(path_subjects)\n",
    "print('-- List of all subjects: \\n',subjects)\n",
    "\n",
    "# choose target subjects\n",
    "choose_idx = [1]\n",
    "subjects_chosen = []\n",
    "for idx in choose_idx:\n",
    "    subjects_chosen.append(subjects[idx])\n",
    "print('\\n-- List of chosen subjects: \\n',subjects_chosen)"
   ]
  },
  {
   "cell_type": "code",
   "execution_count": null,
   "id": "ad479ef8",
   "metadata": {},
   "outputs": [],
   "source": [
    "raw = []\n",
    "for subject in subjects_chosen:\n",
    "    file = os.path.join(path_subjects, subject, 'Traces.edf')\n",
    "    print('\\n Now file is ... \\n',file)\n",
    "    temp_raw = mne.io.read_raw_edf(file, preload=True) "
   ]
  },
  {
   "cell_type": "code",
   "execution_count": null,
   "id": "a4dda8fd",
   "metadata": {},
   "outputs": [],
   "source": [
    "temp_raw.filter(0.5, 45)"
   ]
  },
  {
   "cell_type": "code",
   "execution_count": null,
   "id": "3517435a",
   "metadata": {},
   "outputs": [],
   "source": [
    "data = temp_raw._data * 1e6\n",
    "sf = temp_raw.info['sfreq']\n",
    "chan = temp_raw.ch_names"
   ]
  },
  {
   "cell_type": "code",
   "execution_count": null,
   "id": "e5fa1122",
   "metadata": {},
   "outputs": [],
   "source": [
    "print('Chan =', chan)\n",
    "print('Sampling frequency =', sf, 'Hz')\n",
    "print('Data shape =', data.shape)"
   ]
  },
  {
   "cell_type": "code",
   "execution_count": null,
   "id": "9dfe42fd",
   "metadata": {
    "scrolled": true
   },
   "outputs": [],
   "source": [
    "chan = np.array(chan)\n",
    "idx = np.arange(len(chan))\n",
    "# chan_idx = idx[((chan == 'LOC') | (chan=='ROC'))]\n",
    "# print(chan_idx)\n",
    "# print('number of selected channels:',len(chan_idx))\n",
    "# print('selected channels:', chan[chan_idx])\n",
    "\n",
    "# datas = data[chan_idx]\n",
    "t = np.arange(0,data.shape[1], 1)/500\n",
    "LOC_0 = data[idx[chan=='LOC-0']]\n",
    "LOC_1 = data[idx[chan=='LOC-1']]\n",
    "\n",
    "ROC_0 = data[idx[chan=='ROC-0']]\n",
    "ROC_1 = data[idx[chan=='ROC-1']]\n",
    "\n",
    "#     = data[idx[chan=='']]\n",
    "# plt.plot(t, datas[1])\n",
    "\n",
    "# list type인 data를 numpy로 변환한다\n",
    "# - 목적 : boolean indexing을 적용하기 위하여. 왜냐하면 boolean indexing은 list 타입 데이터를 지원하지 않음\n",
    "# - large data에 대해서, RAM 용량이 부족하기 때문에, 전체 50개 row를 한번에 변환하지 않고 1개씩 변환함\n",
    "# - memory 최대 가용률: 1.16GB -->  numpy array를 차곡 차곡 누적하는 것도 불가능함 --> np.append의 구조상, 누적할 때마다 다음 누적 때 다뤄야 할 크기가 커지기 때문\n",
    "# - [0, 1, 2, ... , len(chan)]의 배열을 생성하고, chan_idx를 적용해서, 원하는 채널의 index를 얻을 수 있다\n",
    "# - 추출된 index 만을 이용하여 data를 추출하고, 추출된 data에 한해서만 numpy 변환을 진행한다\n",
    "\n",
    "# for temp_data in data:\n",
    "    #data_np = np.append(data_np, np.array(temp_data)) # 결국 data_np가 누적되어 크기가 1.16 GB에 도달하면 RAM memory 초과로 사용 불가능\n",
    "#     data_np[i] = np.array(temp_data)\n"
   ]
  },
  {
   "cell_type": "code",
   "execution_count": null,
   "id": "e7b19163",
   "metadata": {},
   "outputs": [],
   "source": [
    "# Plotting\n",
    "fig, (ax1, ax2) = plt.subplots(2,1,figsize=(14,6))\n",
    "\n",
    "ax1.plot(t, LOC_0[0], label='LOC-0')\n",
    "ax1.plot(t, LOC_1[0], label='LOC-1')\n",
    "# ax1.legend();\n",
    "\n",
    "ax2.plot(t, ROC_0[0], label='ROC-0')\n",
    "ax2.plot(t, ROC_1[0], label='ROC-1')\n",
    "# ax2.legend();"
   ]
  },
  {
   "cell_type": "code",
   "execution_count": null,
   "id": "6fc0c259",
   "metadata": {},
   "outputs": [],
   "source": []
  }
 ],
 "metadata": {
  "kernelspec": {
   "display_name": "Python 3 (ipykernel)",
   "language": "python",
   "name": "python3"
  },
  "language_info": {
   "codemirror_mode": {
    "name": "ipython",
    "version": 3
   },
   "file_extension": ".py",
   "mimetype": "text/x-python",
   "name": "python",
   "nbconvert_exporter": "python",
   "pygments_lexer": "ipython3",
   "version": "3.9.7"
  }
 },
 "nbformat": 4,
 "nbformat_minor": 5
}
